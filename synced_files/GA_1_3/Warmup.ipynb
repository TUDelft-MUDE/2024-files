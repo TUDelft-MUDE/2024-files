{
 "cells": [
  {
   "cell_type": "markdown",
   "id": "7f988ef8",
   "metadata": {},
   "source": [
    "# GA 1.3: Warmup Notebook\n",
    "\n",
    "<h1 style=\"position: absolute; display: flex; flex-grow: 0; flex-shrink: 0; flex-direction: row-reverse; top: 60px;right: 30px; margin: 0; border: 0\">\n",
    "    <style>\n",
    "        .markdown {width:100%; position: relative}\n",
    "        article { position: relative }\n",
    "    </style>\n",
    "    <img src=\"https://gitlab.tudelft.nl/mude/public/-/raw/main/tu-logo/TU_P1_full-color.png\" style=\"width:100px\" />\n",
    "    <img src=\"https://gitlab.tudelft.nl/mude/public/-/raw/main/mude-logo/MUDE_Logo-small.png\" style=\"width:100px\" />\n",
    "</h1>\n",
    "<h2 style=\"height: 10px\">\n",
    "</h2>\n",
    "\n",
    "*[CEGM1000 MUDE](http://mude.citg.tudelft.nl/): Week 1.3. September 20, 2024.*\n",
    "\n",
    "This notebook is designed to help you prepare for GA 1.3, as we do not release the entire assignment in advance. This is formatted similarly to a PA and is meant for you to read, practice and explore - we hope you find it useful!"
   ]
  },
  {
   "cell_type": "markdown",
   "id": "908a57ab",
   "metadata": {},
   "source": [
    "<div style=\"background-color:#ffa6a6; color: black; vertical-align: middle; padding:15px; margin: 10px; border-radius: 10px; width: 95%\"><p><b>Note:</b> this is the first time we have tried a \"warmup\" notebook in MUDE, so the format and scope of this activity may change throughout the semester.</p></div>"
   ]
  },
  {
   "cell_type": "code",
   "execution_count": null,
   "id": "ca8bff71",
   "metadata": {},
   "outputs": [],
   "source": [
    "import numpy as np\n",
    "from scipy import interpolate\n",
    "import pandas as pd\n",
    "import matplotlib.pyplot as plt\n",
    "\n",
    "np.set_printoptions(precision=3)"
   ]
  },
  {
   "cell_type": "markdown",
   "id": "28333df4",
   "metadata": {},
   "source": [
    "## Part 1: Dictionary Review\n",
    "\n",
    "Several functions in GA 1.3 require the use of a Python dictionary to make it easier to keep track of important data, variables and results for the various _models_ we will be constructing and validating.\n",
    "\n",
    "_It may be useful to revisit PA 1.1, where there was a brief infroduction to dictionaires. That PA contains all the dictionary info you need for GA 1.3. A [read-only copy is here](https://mude.citg.tudelft.nl/2024/files/Week_1_1/PA_1_1_Catch_Them_All.html) and [the source code (notebook) is here](https://gitlab.tudelft.nl/mude/2024-week-1-1)._"
   ]
  },
  {
   "cell_type": "markdown",
   "id": "0f6eb9d0",
   "metadata": {},
   "source": [
    "<div style=\"background-color:#AABAB2; color: black; width:95%; vertical-align: middle; padding:15px; margin: 10px; border-radius: 10px\">\n",
    "<p>\n",
    "\n",
    "$\\textbf{Task 1.1}$ \n",
    "    \n",
    "Read and run the cell below to make sure you remember how to use a dictionary.\n",
    "\n",
    "Modify the function to print some of the other key-value pairs of the dictionary.\n",
    "    \n",
    "</p>\n",
    "</div>"
   ]
  },
  {
   "cell_type": "code",
   "execution_count": null,
   "id": "1a3ed685",
   "metadata": {},
   "outputs": [],
   "source": [
    "my_dictionary = {'key1': 'value1',\n",
    "                 'key2': 'value2',\n",
    "                 'name': 'Dictionary Example',\n",
    "                 'a_list': [1, 2, 3],\n",
    "                 'an_array': np.array([1, 2, 3]),\n",
    "                 'a_string': 'hello'\n",
    "                 }\n",
    "\n",
    "def function_that_uses_my_dictionary(d):\n",
    "    print(d['key1'])\n",
    "\n",
    "    # ADD MORE CODE HERE\n",
    "\n",
    "    if 'new_key' in d:\n",
    "        print('new_key exists and has value:', d['new_key'])\n",
    "    return\n",
    "\n",
    "function_that_uses_my_dictionary(my_dictionary)"
   ]
  },
  {
   "cell_type": "markdown",
   "id": "bf3d1223",
   "metadata": {},
   "source": [
    "<div style=\"background-color:#AABAB2; color: black; width:95%; vertical-align: middle; padding:15px; margin: 10px; border-radius: 10px\">\n",
    "<p>\n",
    "\n",
    "$\\textbf{Task 1.2}$ \n",
    "\n",
    "Test your knowledge by adding a new key <code>new_key</code> and then executing the function to print the value.\n",
    "    \n",
    "</p>\n",
    "</div>"
   ]
  },
  {
   "cell_type": "code",
   "execution_count": null,
   "id": "d1d5160f",
   "metadata": {},
   "outputs": [],
   "source": [
    "YOUR_CODE_HERE\n",
    "function_that_uses_my_dictionary(my_dictionary)"
   ]
  },
  {
   "cell_type": "markdown",
   "id": "01f56a16",
   "metadata": {},
   "source": [
    "**Hint**\n",
    "\n",
    "Once you make the modifications, you should be able to reproduce the following output (depending on your value for `new_key`):\n",
    "\n",
    "```\n",
    "value1\n",
    "Dictionary Example\n",
    "[1, 2, 3]\n",
    "[1 2 3]\n",
    "hello\n",
    "new_key exists and has value: new_value\n",
    "```"
   ]
  },
  {
   "cell_type": "markdown",
   "id": "01e3c202",
   "metadata": {},
   "source": [
    "<div style=\"background-color:#AABAB2; color: black; width:95%; vertical-align: middle; padding:15px; margin: 10px; border-radius: 10px\">\n",
    "<p>\n",
    "\n",
    "$\\textbf{Task 1.3}$ \n",
    "    \n",
    "Run the cell below to print all of the keys and the value <code>type</code>. Then modify the code to print the values directly.\n",
    "\n",
    "</p>\n",
    "</div>\n"
   ]
  },
  {
   "cell_type": "code",
   "execution_count": null,
   "id": "c76f2ed4",
   "metadata": {},
   "outputs": [],
   "source": [
    "print(\"Keys and Values (type):\")\n",
    "for key, value in my_dictionary.items():\n",
    "    print(f\"{key:16s} -->    {type(value)}\")"
   ]
  },
  {
   "cell_type": "markdown",
   "id": "12c946b1",
   "metadata": {},
   "source": [
    "## Part 2: Importing Functions from a `*.py`file\n",
    "\n",
    "Sometimes it is useful to put code in `*.py`files. It is very easy to import the contents of these files into a notebook. The code cell below imports the entire contents of file `warmup.py` into the notebook. "
   ]
  },
  {
   "cell_type": "markdown",
   "id": "16b7ae7d",
   "metadata": {},
   "source": [
    "<div style=\"background-color:#AABAB2; color: black; width:95%; vertical-align: middle; padding:15px; margin: 10px; border-radius: 10px\">\n",
    "<p>\n",
    "\n",
    "$\\textbf{Task 2}$ \n",
    "    \n",
    "Open the file and read the contents. Then run the cell below to use the function that is inside it to confirm that it is imported properly.\n",
    "\n",
    "</p>\n",
    "</div>\n"
   ]
  },
  {
   "cell_type": "code",
   "execution_count": null,
   "id": "7fac873a",
   "metadata": {},
   "outputs": [],
   "source": [
    "from warmup import *"
   ]
  },
  {
   "cell_type": "code",
   "execution_count": null,
   "id": "07649ea8",
   "metadata": {},
   "outputs": [],
   "source": [
    "YOUR_CODE_HERE"
   ]
  },
  {
   "cell_type": "markdown",
   "id": "1105a556",
   "metadata": {},
   "source": [
    "## Part 3: Data Import and Interpolation\n",
    "\n",
    "This Part illustrates the process of importing datasets, doing a bit of manipulation to both the _observations_ and the _times_, then doing a bit of interpolation. The code will run without error as-is, so first you should read each step and try to understand the functions/methods used. Then, modify the code to explore each  object; in particular, use the `print`, `type` and `shape` methods."
   ]
  },
  {
   "cell_type": "code",
   "execution_count": null,
   "id": "721ab92b",
   "metadata": {},
   "outputs": [],
   "source": [
    "dataset1 = pd.read_csv('./data_warmup/dataset1.csv')\n",
    "times1 = pd.to_datetime(dataset1['times'])\n",
    "obs1 = (dataset1['observations[m]']).to_numpy()*1000\n",
    "\n",
    "dataset2 = pd.read_csv('./data_warmup/dataset2.csv')\n",
    "times2 = pd.to_datetime(dataset2['times'])\n",
    "obs2 = (dataset2['observations[mm]']).to_numpy()"
   ]
  },
  {
   "cell_type": "code",
   "execution_count": null,
   "id": "24f37c52",
   "metadata": {},
   "outputs": [],
   "source": [
    "print(type(dataset1), '\\n',\n",
    "      type(dataset2), '\\n',\n",
    "      type(times1), '\\n',\n",
    "      type(times2), '\\n',\n",
    "      type(obs1), '\\n',\n",
    "      type(obs2))\n",
    "\n",
    "print(np.shape(dataset1), '\\n',\n",
    "      np.shape(dataset2), '\\n',\n",
    "      np.shape(times1), '\\n',\n",
    "      np.shape(times2), '\\n',\n",
    "      np.shape(obs1), '\\n',\n",
    "      np.shape(obs2))\n",
    "\n",
    "# DO MORE STUFF TO EXPLORE WHAT IS IN THE DATA!\n",
    "      "
   ]
  },
  {
   "cell_type": "markdown",
   "id": "26ba6324",
   "metadata": {},
   "source": [
    "You may have noticed that the two datasets are not made at identical time increments. This is a problem if we want to compare them, or use them together in an analysis where values of the observations are needed at identical observation times. You will therefore have to *interpolate* the data to the same times for a further analysis. You can use the SciPy function ```interpolate.interp1d``` (read its [documentation](https://docs.scipy.org/doc/scipy/reference/generated/scipy.interpolate.interp1d.html)).\n",
    "\n",
    "The cells below do the following:\n",
    "1. Define a function to convert the time unit\n",
    "2. Convert the time stamps for all data\n",
    "3. Use `interp1d` to interpolate the measurements of `dataset2` at the time of the measurements of `dataset1`"
   ]
  },
  {
   "cell_type": "code",
   "execution_count": null,
   "id": "53caff24",
   "metadata": {},
   "outputs": [],
   "source": [
    "def to_days_years(times):\n",
    "    '''Convert the observation times to days and years.'''\n",
    "    \n",
    "    times_datetime = pd.to_datetime(times)\n",
    "    time_diff = (times_datetime - times_datetime[0])\n",
    "    days_diff = (time_diff / np.timedelta64(1,'D')).astype(int)\n",
    "    \n",
    "    days = days_diff.to_numpy()\n",
    "    years = days/365\n",
    "    \n",
    "    return days, years"
   ]
  },
  {
   "cell_type": "code",
   "execution_count": null,
   "id": "2bb49060",
   "metadata": {},
   "outputs": [],
   "source": [
    "days1,  years1  = to_days_years(times1)\n",
    "days2,  years2  = to_days_years(times2)\n",
    "\n",
    "interp = interpolate.interp1d(days2, obs2)\n",
    "\n",
    "obs2_at_times_for_dataset1 = interp(days1)\n",
    "\n",
    "print(type(obs2_at_times_for_dataset1), '\\n',\n",
    "      np.shape(obs2_at_times_for_dataset1), '\\n',\n",
    "      obs2_at_times_for_dataset1)"
   ]
  },
  {
   "cell_type": "markdown",
   "id": "dadcd3eb",
   "metadata": {},
   "source": [
    "**End of notebook.**\n",
    "\n",
    "<div style=\"margin-top: 50px; padding-top: 20px; border-top: 1px solid #ccc;\">\n",
    "  <div style=\"display: flex; justify-content: flex-end; gap: 20px; align-items: center;\">\n",
    "    <a rel=\"MUDE\" href=\"http://mude.citg.tudelft.nl/\">\n",
    "      <img alt=\"MUDE\" style=\"width:100px; height:auto;\" src=\"https://gitlab.tudelft.nl/mude/public/-/raw/main/mude-logo/MUDE_Logo-small.png\" />\n",
    "    </a>\n",
    "    <a rel=\"TU Delft\" href=\"https://www.tudelft.nl/en/ceg\">\n",
    "      <img alt=\"TU Delft\" style=\"width:100px; height:auto;\" src=\"https://gitlab.tudelft.nl/mude/public/-/raw/main/tu-logo/TU_P1_full-color.png\" />\n",
    "    </a>\n",
    "    <a rel=\"license\" href=\"http://creativecommons.org/licenses/by/4.0/\">\n",
    "      <img alt=\"Creative Commons License\" style=\"width:88px; height:auto;\" src=\"https://i.creativecommons.org/l/by/4.0/88x31.png\" />\n",
    "    </a>\n",
    "  </div>\n",
    "  <div style=\"font-size: 75%; margin-top: 10px; text-align: right;\">\n",
    "    &copy; Copyright 2024 <a rel=\"MUDE\" href=\"http://mude.citg.tudelft.nl/\">MUDE</a> TU Delft. \n",
    "    This work is licensed under a <a rel=\"license\" href=\"http://creativecommons.org/licenses/by/4.0/\">CC BY 4.0 License</a>.\n",
    "  </div>\n",
    "</div>\n",
    "\n",
    "\n",
    "<!--tested with WS_2_8_solution.ipynb-->"
   ]
  }
 ],
 "metadata": {
  "language_info": {
   "name": "python"
  }
 },
 "nbformat": 4,
 "nbformat_minor": 5
}
