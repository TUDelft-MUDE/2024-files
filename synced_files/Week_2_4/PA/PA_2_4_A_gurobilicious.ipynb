{
 "cells": [
  {
   "cell_type": "markdown",
   "id": "6c41448a",
   "metadata": {},
   "source": [
    "# PA 2.4A: Gurobi Environment and License\n",
    "\n",
    "<h1 style=\"position: absolute; display: flex; flex-grow: 0; flex-shrink: 0; flex-direction: row-reverse; top: 60px;right: 30px; margin: 0; border: 0\">\n",
    "    <style>\n",
    "        .markdown {width:100%; position: relative}\n",
    "        article { position: relative }\n",
    "    </style>\n",
    "    <img src=\"https://gitlab.tudelft.nl/mude/public/-/raw/main/tu-logo/TU_P1_full-color.png\" style=\"width:100px\" />\n",
    "    <img src=\"https://gitlab.tudelft.nl/mude/public/-/raw/main/mude-logo/MUDE_Logo-small.png\" style=\"width:100px\" />\n",
    "</h1>\n",
    "<h2 style=\"height: 10px\">\n",
    "</h2>\n",
    "\n",
    "*[CEGM1000 MUDE](http://mude.citg.tudelft.nl/): Week 2.4. Due: complete this PA prior to class on Friday, Dec 6, 2024.*"
   ]
  },
  {
   "cell_type": "markdown",
   "id": "8725d50b",
   "metadata": {
    "tags": []
   },
   "source": [
    "## Overview of Assignment\n",
    "\n",
    "This assignment confirms you were able to create and activate a Python environment using Anaconda from an `environment.yml` file, and that your Gurobi license has been set up properly.\n",
    "\n",
    "**Remember:** PA 2.4 has two notebooks that must be completed (A and B). Follow the instructions in **`README.md`** if you have not already done so."
   ]
  },
  {
   "cell_type": "markdown",
   "id": "933a34d7",
   "metadata": {},
   "source": [
    "<div style=\"background-color:#AABAB2; color: black; vertical-align: middle; padding:15px; margin: 10px; border-radius: 10px; width: 95%\">\n",
    "<p>\n",
    "<b>Task 1:</b>   \n",
    "    \n",
    "Apply for your personal license for Gurobi (one of the packages installed in `environment.yml`) and add the license file to your computer (in the default folder!). The instructions for this are in the book.\n",
    "\n",
    "</p>\n",
    "</div>"
   ]
  },
  {
   "cell_type": "markdown",
   "id": "99965261",
   "metadata": {},
   "source": [
    "<div style=\"background-color:#AABAB2; color: black; vertical-align: middle; padding:15px; margin: 10px; border-radius: 10px; width: 95%\">\n",
    "<p>\n",
    "<b>Task 2:</b>   \n",
    "    \n",
    "Run the cells below. If you have correctly created the Python environment (as described in the README.md) and installed the Gurobi license, there should be no errors. If there are errors, use the Traceback to figure out what should be fixed.\n",
    "\n",
    "<em>You don't need to understand what the cells are doing, but we wrote a few notes to explain anyway.</em>\n",
    "</p>\n",
    "</div>"
   ]
  },
  {
   "cell_type": "markdown",
   "id": "d1b82ac6",
   "metadata": {},
   "source": [
    "This cell sets up an optimization model with 3000 variables. That's a lot! We will do something like this in the optimization week. Since you need a license to process this many variables, an error will be returned if you did not install it correctly."
   ]
  },
  {
   "cell_type": "code",
   "execution_count": null,
   "id": "dd794b66",
   "metadata": {},
   "outputs": [],
   "source": [
    "import gurobipy\n",
    "model = gurobipy.Model()\n",
    "x = model.addVars(3000, vtype = gurobipy.GRB.CONTINUOUS, name = 'x')\n",
    "model.update()\n",
    "model.optimize()"
   ]
  },
  {
   "cell_type": "markdown",
   "id": "0e411789",
   "metadata": {},
   "source": [
    "The cell below searches for the license file `gurobi.lic` on your computer, and will create a new file `license.lic` in the working directory of this notebook to confirm that you installed Gurobi correctly. "
   ]
  },
  {
   "cell_type": "code",
   "execution_count": null,
   "id": "99b10720",
   "metadata": {},
   "outputs": [],
   "source": [
    "import sys\n",
    "from pathlib import Path\n",
    "import os\n",
    "\n",
    "def find_license_in_dir(directory: Path):\n",
    "    license = directory / \"gurobi.lic\"\n",
    "\n",
    "    if (license.exists()):\n",
    "        return license\n",
    "    else:\n",
    "        return None\n",
    "    \n",
    "def find_license():\n",
    "    # By default the license is installed in the home directory; this is the most likely location.\n",
    "    license = find_license_in_dir(Path.home())\n",
    "    \n",
    "    if (license): return license\n",
    "    \n",
    "    # Otherwise there are other default paths Gurobi will search for each platform.\n",
    "    if (sys.platform.startswith(\"linux\")):\n",
    "        license = find_license_in_dir(Path(\"/opt/gurobi/\"))\n",
    "    elif (sys.platform.startswith(\"win32\")):\n",
    "        license = find_license_in_dir(Path(\"C:\\\\gurobi\\\\\"))\n",
    "    elif (sys.platform.startswith(\"darwin\")):\n",
    "        license = find_license_in_dir(Path(\"/Library/gurobi/\"))\n",
    "    else:\n",
    "        print(\"WARNING: Your operating system may not be supported by this function\")\n",
    "        \n",
    "    if (license): return license\n",
    "    \n",
    "    # If all else fails, maybe it was put somewhere strange and the GRB_LICENSE_FILE environment variable was set\n",
    "    file_path = os.environ.get(\"GRB_LICENSE_FILE\")\n",
    "    \n",
    "    if (file_path is not None):\n",
    "        file_path = Path(file_path)\n",
    "        if (file_path.exists()):\n",
    "            return file_path\n",
    "    \n",
    "    # Oh nO!\n",
    "    raise Exception((\"Could not find license. If you have an academic license and \"\n",
    "                    \"it couldn't be found, copy the license into your repository and \"\n",
    "                    \"remove all the info except 'TYPE' and 'VERSION'\"))\n",
    "    \n",
    "license = find_license()\n",
    "\n",
    "with open(\"license.lic\", \"w\") as f:\n",
    "    f.write(\n",
    "        \"\".join(\n",
    "            filter(\n",
    "                lambda l: l.startswith(\"TYPE\") or l.startswith(\"VERSION\") or l.startswith(\"EXPIRATION\"), \n",
    "                license.open().readlines()\n",
    "            )\n",
    "        )\n",
    "    )\n",
    "print(\"License succesfully found and processed!\")"
   ]
  },
  {
   "cell_type": "markdown",
   "id": "905d77c5",
   "metadata": {},
   "source": [
    "If you ran all of the cells above, you are ready to go: you successfully created an environment from a `*.yml` file and installed the Gurobi license! Now there is only one thing left to do."
   ]
  },
  {
   "cell_type": "markdown",
   "id": "ad188f70",
   "metadata": {},
   "source": [
    "<div style=\"background-color:#AABAB2; color: black; vertical-align: middle; padding:15px; margin: 10px; border-radius: 10px; width: 95%\">\n",
    "<p>\n",
    "<b>Task 3:</b>   \n",
    "    \n",
    "Commit this notebook and the license file that it created to your repository.\n",
    "</p>\n",
    "</div>"
   ]
  },
  {
   "cell_type": "markdown",
   "id": "6662490a",
   "metadata": {},
   "source": [
    "**End of notebook.**\n",
    "\n",
    "<div style=\"margin-top: 50px; padding-top: 20px; border-top: 1px solid #ccc;\">\n",
    "  <div style=\"display: flex; justify-content: flex-end; gap: 20px; align-items: center;\">\n",
    "    <a rel=\"MUDE\" href=\"http://mude.citg.tudelft.nl/\">\n",
    "      <img alt=\"MUDE\" style=\"width:100px; height:auto;\" src=\"https://gitlab.tudelft.nl/mude/public/-/raw/main/mude-logo/MUDE_Logo-small.png\" />\n",
    "    </a>\n",
    "    <a rel=\"TU Delft\" href=\"https://www.tudelft.nl/en/ceg\">\n",
    "      <img alt=\"TU Delft\" style=\"width:100px; height:auto;\" src=\"https://gitlab.tudelft.nl/mude/public/-/raw/main/tu-logo/TU_P1_full-color.png\" />\n",
    "    </a>\n",
    "    <a rel=\"license\" href=\"http://creativecommons.org/licenses/by/4.0/\">\n",
    "      <img alt=\"Creative Commons License\" style=\"width:88px; height:auto;\" src=\"https://i.creativecommons.org/l/by/4.0/88x31.png\" />\n",
    "    </a>\n",
    "  </div>\n",
    "  <div style=\"font-size: 75%; margin-top: 10px; text-align: right;\">\n",
    "    &copy; Copyright 2024 <a rel=\"MUDE\" href=\"http://mude.citg.tudelft.nl/\">MUDE</a> TU Delft. \n",
    "    This work is licensed under a <a rel=\"license\" href=\"http://creativecommons.org/licenses/by/4.0/\">CC BY 4.0 License</a>.\n",
    "  </div>\n",
    "</div>\n",
    "\n",
    "\n",
    "<!--tested with WS_2_8_solution.ipynb-->"
   ]
  }
 ],
 "metadata": {
  "language_info": {
   "name": "python"
  }
 },
 "nbformat": 4,
 "nbformat_minor": 5
}
