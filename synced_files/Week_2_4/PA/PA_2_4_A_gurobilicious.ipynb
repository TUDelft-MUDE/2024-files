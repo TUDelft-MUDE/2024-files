{
 "cells": [
  {
   "cell_type": "markdown",
   "id": "c96d6259-08d6-4289-aea2-589d67cdb5ee",
   "metadata": {},
   "source": [
    "# PA 2.4A: Gurobi Environment and License\n",
    "\n",
    "<h1 style=\"position: absolute; display: flex; flex-grow: 0; flex-shrink: 0; flex-direction: row-reverse; top: 60px;right: 30px; margin: 0; border: 0\">\n",
    "    <style>\n",
    "        .markdown {width:100%; position: relative}\n",
    "        article { position: relative }\n",
    "    </style>\n",
    "    <img src=\"https://gitlab.tudelft.nl/mude/public/-/raw/main/tu-logo/TU_P1_full-color.png\" style=\"width:100px\" />\n",
    "    <img src=\"https://gitlab.tudelft.nl/mude/public/-/raw/main/mude-logo/MUDE_Logo-small.png\" style=\"width:100px\" />\n",
    "</h1>\n",
    "<h2 style=\"height: 10px\">\n",
    "</h2>\n",
    "\n",
    "*[CEGM1000 MUDE](http://mude.citg.tudelft.nl/): Week 2.4. Due: complete this PA prior to class on Friday, Dec 6, 2024.*"
   ]
  },
  {
   "cell_type": "markdown",
   "id": "7a28e541-d2d0-48a9-abf6-7b73075c8fd3",
   "metadata": {
    "tags": []
   },
   "source": [
    "## Overview of Assignment\n",
    "\n",
    "This assignment confirms you were able to create and activate a Python environment using Anaconda from an `environment.yml` file, and that your Gurobi license has been set up properly.\n",
    "\n",
    "**Remember:** PA 2.4 has two notebooks that must be completed (A and B). Follow the instructions in **`README.md`** if you have not already done so."
   ]
  },
  {
   "cell_type": "markdown",
   "id": "46929e28-a4ce-424c-b446-9f00472997dc",
   "metadata": {},
   "source": [
    "<div style=\"background-color:#AABAB2; color: black; vertical-align: middle; padding:15px; margin: 10px; border-radius: 10px; width: 95%\">\n",
    "<p>\n",
    "<b>Task 1:</b>   \n",
    "    \n",
    "Apply for your personal license for Gurobi (one of the packages installed in `environment.yml`) and add the license file to your computer (in the default folder!). The instructions for this are in the book.\n",
    "\n",
    "</p>\n",
    "</div>"
   ]
  },
  {
   "cell_type": "markdown",
   "id": "ab857833",
   "metadata": {},
   "source": [
    "<div style=\"background-color:#AABAB2; color: black; vertical-align: middle; padding:15px; margin: 10px; border-radius: 10px; width: 95%\">\n",
    "<p>\n",
    "<b>Task 2:</b>   \n",
    "    \n",
    "Run the cells below. If you have correctly created the Python environment (as described in the README.md) and installed the Gurobi license, there should be no errors. If there are errors, use the Traceback to figure out what should be fixed.\n",
    "\n",
    "<em>You don't need to understand what the cells are doing, but we wrote a few notes to explain anyway.</em>\n",
    "</p>\n",
    "</div>"
   ]
  },
  {
   "cell_type": "markdown",
   "id": "00728bea",
   "metadata": {},
   "source": [
    "This cell sets up an optimization model with 3000 variables. That's a lot! We will do something like this in the optimization week. Since you need a license to process this many variables, an error will be returned if you did not install it correctly."
   ]
  },
  {
   "cell_type": "code",
   "execution_count": null,
   "id": "7c5b1a71-7e0a-47d7-9037-c13d635fdff0",
   "metadata": {},
   "outputs": [],
   "source": [
    "import gurobipy\n",
    "model = gurobipy.Model()\n",
    "x = model.addVars(3000, vtype = gurobipy.GRB.CONTINUOUS, name = 'x')\n",
    "model.update()\n",
    "model.optimize()"
   ]
  },
  {
   "cell_type": "markdown",
   "id": "4d6029f7",
   "metadata": {},
   "source": [
    "The cell below searches for the license file `gurobi.lic` on your computer, and will create a new file `license.lic` in the working directory of this notebook to confirm that you installed Gurobi correctly. "
   ]
  },
  {
   "cell_type": "code",
   "execution_count": null,
   "id": "8b221048-69bb-46ed-8a19-311ba288345a",
   "metadata": {},
   "outputs": [],
   "source": [
    "import sys\n",
    "from pathlib import Path\n",
    "import os\n",
    "\n",
    "def find_license_in_dir(directory: Path):\n",
    "    license = directory / \"gurobi.lic\"\n",
    "\n",
    "    if (license.exists()):\n",
    "        return license\n",
    "    else:\n",
    "        return None\n",
    "    \n",
    "def find_license():\n",
    "    # By default the license is installed in the home directory; this is the most likely location.\n",
    "    license = find_license_in_dir(Path.home())\n",
    "    \n",
    "    if (license): return license\n",
    "    \n",
    "    # Otherwise there are other default paths Gurobi will search for each platform.\n",
    "    if (sys.platform.startswith(\"linux\")):\n",
    "        license = find_license_in_dir(Path(\"/opt/gurobi/\"))\n",
    "    elif (sys.platform.startswith(\"win32\")):\n",
    "        license = find_license_in_dir(Path(\"C:\\\\gurobi\\\\\"))\n",
    "    elif (sys.platform.startswith(\"darwin\")):\n",
    "        license = find_license_in_dir(Path(\"/Library/gurobi/\"))\n",
    "    else:\n",
    "        print(\"WARNING: Your operating system may not be supported by this function\")\n",
    "        \n",
    "    if (license): return license\n",
    "    \n",
    "    # If all else fails, maybe it was put somewhere strange and the GRB_LICENSE_FILE environment variable was set\n",
    "    file_path = os.environ.get(\"GRB_LICENSE_FILE\")\n",
    "    \n",
    "    if (file_path is not None):\n",
    "        file_path = Path(file_path)\n",
    "        if (file_path.exists()):\n",
    "            return file_path\n",
    "    \n",
    "    # Oh nO!\n",
    "    raise Exception((\"Could not find license. If you have an academic license and \"\n",
    "                    \"it couldn't be found, copy the license into your repository and \"\n",
    "                    \"remove all the info except 'TYPE' and 'VERSION'\"))\n",
    "    \n",
    "license = find_license()\n",
    "\n",
    "with open(\"license.lic\", \"w\") as f:\n",
    "    f.write(\n",
    "        \"\".join(\n",
    "            filter(\n",
    "                lambda l: l.startswith(\"TYPE\") or l.startswith(\"VERSION\") or l.startswith(\"EXPIRATION\"), \n",
    "                license.open().readlines()\n",
    "            )\n",
    "        )\n",
    "    )\n",
    "print(\"License succesfully found and processed!\")"
   ]
  },
  {
   "cell_type": "markdown",
   "id": "133c3daf-f0b9-4f80-ae6a-32b1ceae3aeb",
   "metadata": {},
   "source": [
    "If you ran all of the cells above, you are ready to go: you successfully created an environment from a `*.yml` file and installed the Gurobi license! Now there is only one thing left to do."
   ]
  },
  {
   "cell_type": "markdown",
   "id": "5ef8955f",
   "metadata": {},
   "source": [
    "<div style=\"background-color:#AABAB2; color: black; vertical-align: middle; padding:15px; margin: 10px; border-radius: 10px; width: 95%\">\n",
    "<p>\n",
    "<b>Task 3:</b>   \n",
    "    \n",
    "Commit this notebook and the license file that it created to your repository.\n",
    "</p>\n",
    "</div>"
   ]
  },
  {
   "cell_type": "markdown",
   "id": "80580ab9-4d79-46b1-ae6e-775af04d43ad",
   "metadata": {},
   "source": [
    "**End of notebook.**\n",
    "<h2 style=\"height: 60px\">\n",
    "</h2>\n",
    "<h3 style=\"position: absolute; display: flex; flex-grow: 0; flex-shrink: 0; flex-direction: row-reverse; bottom: 60px; right: 50px; margin: 0; border: 0\">\n",
    "    <style>\n",
    "        .markdown {width:100%; position: relative}\n",
    "        article { position: relative }\n",
    "    </style>\n",
    "    <a rel=\"license\" href=\"http://creativecommons.org/licenses/by-nc-sa/4.0/\">\n",
    "      <img alt=\"Creative Commons License\" style=\"border-width:; width:88px; height:auto; padding-top:10px\" src=\"https://i.creativecommons.org/l/by-nc-sa/4.0/88x31.png\" />\n",
    "    </a>\n",
    "    <a rel=\"TU Delft\" href=\"https://www.tudelft.nl/en/ceg\">\n",
    "      <img alt=\"TU Delft\" style=\"border-width:0; width:100px; height:auto; padding-bottom:0px\" src=\"https://gitlab.tudelft.nl/mude/public/-/raw/main/tu-logo/TU_P1_full-color.png\"/>\n",
    "    </a>\n",
    "    <a rel=\"MUDE\" href=\"http://mude.citg.tudelft.nl/\">\n",
    "      <img alt=\"MUDE\" style=\"border-width:0; width:100px; height:auto; padding-bottom:0px\" src=\"https://gitlab.tudelft.nl/mude/public/-/raw/main/mude-logo/MUDE_Logo-small.png\"/>\n",
    "    </a>\n",
    "    \n",
    "</h3>\n",
    "<span style=\"font-size: 75%\">\n",
    "&copy; Copyright 2023 <a rel=\"MUDE Team\" href=\"https://studiegids.tudelft.nl/a101_displayCourse.do?course_id=65595\">MUDE Teaching Team</a> TU Delft. This work is licensed under a <a rel=\"license\" href=\"http://creativecommons.org/licenses/by-nc-sa/4.0/\">Creative Commons Attribution-NonCommercial-ShareAlike 4.0 International License</a>."
   ]
  }
 ],
 "metadata": {
  "language_info": {
   "name": "python"
  }
 },
 "nbformat": 4,
 "nbformat_minor": 5
}
