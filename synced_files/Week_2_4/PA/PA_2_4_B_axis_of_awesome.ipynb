{
 "cells": [
  {
   "cell_type": "markdown",
   "id": "c96d6259-08d6-4289-aea2-589d67cdb5ee",
   "metadata": {},
   "source": [
    "# PA 2.4B: [Axis of Awesome](https://youtu.be/5pidokakU4I?si=Y5ewcgPFFQ5cLmC6)\n",
    "\n",
    "<h1 style=\"position: absolute; display: flex; flex-grow: 0; flex-shrink: 0; flex-direction: row-reverse; top: 60px;right: 30px; margin: 0; border: 0\">\n",
    "    <style>\n",
    "        .markdown {width:100%; position: relative}\n",
    "        article { position: relative }\n",
    "    </style>\n",
    "    <img src=\"https://gitlab.tudelft.nl/mude/public/-/raw/main/tu-logo/TU_P1_full-color.png\" style=\"width:100px\" />\n",
    "    <img src=\"https://gitlab.tudelft.nl/mude/public/-/raw/main/mude-logo/MUDE_Logo-small.png\" style=\"width:100px\" />\n",
    "</h1>\n",
    "<h2 style=\"height: 10px\">\n",
    "</h2>\n",
    "\n",
    "*[CEGM1000 MUDE](http://mude.citg.tudelft.nl/): Week 2.4. Due: complete this PA prior to class on Friday, Dec 6, 2024.*"
   ]
  },
  {
   "cell_type": "markdown",
   "id": "a5f54f96",
   "metadata": {},
   "source": [
    "## Overview of Assignment\n",
    "\n",
    "This assignment quickly introduces you to making computations across rows and columns of 2-dimensional Numpy arrays (matrices) using the `axis` keyword argument. It also illustrates the use of a specific figure from the `statsmodels` package that will be useful during the time series analysis week.\n",
    "\n",
    "**Remember:** PA 2.4 has two notebooks that must be completed (A and B). Follow the instructions in **`README.md`** if you have not already done so."
   ]
  },
  {
   "cell_type": "code",
   "execution_count": null,
   "id": "75681df5-7a73-469a-ad83-ebd05451e0b7",
   "metadata": {},
   "outputs": [],
   "source": [
    "import numpy as np\n",
    "import matplotlib.pyplot as plt"
   ]
  },
  {
   "cell_type": "markdown",
   "id": "b0584fa2-7f4b-4566-9217-e6ca58d0e191",
   "metadata": {},
   "source": [
    "## Introduction\n",
    "\n",
    "Often when we have a long sequence of data we would like to evaluate specific sub-sets of it. For example, if we have 10 years worth of hourly measurements, but would like to evaluate the monthly or weekly characteristics. Often we can store our data in a structured way and then use some indexing capabilities of Numpy to evaluate it in a smart way. Check out the following simple tips, then try and apply it in practice."
   ]
  },
  {
   "cell_type": "markdown",
   "id": "e2ac6a6f",
   "metadata": {},
   "source": [
    "<div style=\"background-color:#AABAB2; color: black; vertical-align: middle; padding:15px; margin: 10px; border-radius: 10px\">\n",
    "<p>\n",
    "<b>Task 1:</b>   \n",
    "    \n",
    "Read and run the cells below, making sure you understand what is happening (i.e., completing evaluations on the rows and columns of the matrix).\n",
    "</p>\n",
    "</div>"
   ]
  },
  {
   "cell_type": "markdown",
   "id": "9130a7b8",
   "metadata": {},
   "source": [
    "First, let's start by collecting a \"long\" sequence of data."
   ]
  },
  {
   "cell_type": "code",
   "execution_count": null,
   "id": "2e644bc5",
   "metadata": {},
   "outputs": [],
   "source": [
    "A = np.array([1, 20, 300, 1, 2, 3])\n",
    "print(A)"
   ]
  },
  {
   "cell_type": "markdown",
   "id": "cb0d4cb7",
   "metadata": {},
   "source": [
    "It is easy to restructure it into a matrix form; in this case, 2 rows and 3 columns."
   ]
  },
  {
   "cell_type": "code",
   "execution_count": null,
   "id": "56b43c1c",
   "metadata": {},
   "outputs": [],
   "source": [
    "B = np.reshape(A, (2, 3))\n",
    "print(B)"
   ]
  },
  {
   "cell_type": "markdown",
   "id": "17c187e4",
   "metadata": {},
   "source": [
    "In Numpy, \"axes\" are used to specify the structure of an array using the `axis` keyword argument. For this assignment, we are particularly interested in performing operations along the 0th and 1st axes of the array, which correspond to the columns and rows, respectively. Check it out:"
   ]
  },
  {
   "cell_type": "code",
   "execution_count": null,
   "id": "b8b8875b",
   "metadata": {},
   "outputs": [],
   "source": [
    "B.mean(axis=0)"
   ]
  },
  {
   "cell_type": "markdown",
   "id": "f472e87a",
   "metadata": {},
   "source": [
    "Looking along the other axis:"
   ]
  },
  {
   "cell_type": "code",
   "execution_count": null,
   "id": "c4f093fa",
   "metadata": {},
   "outputs": [],
   "source": [
    "B.mean(axis=1)"
   ]
  },
  {
   "cell_type": "markdown",
   "id": "9f46d8a8",
   "metadata": {},
   "source": [
    "And you can do it for other methods too!"
   ]
  },
  {
   "cell_type": "code",
   "execution_count": null,
   "id": "0d9a4cc6",
   "metadata": {},
   "outputs": [],
   "source": [
    "B.std(axis=1)"
   ]
  },
  {
   "cell_type": "markdown",
   "id": "41269037-161e-4c50-9dd7-5346bfc41b7a",
   "metadata": {},
   "source": [
    "<div style=\"background-color:#AABAB2; color: black; vertical-align: middle; padding:15px; margin: 10px; border-radius: 10px\">\n",
    "<p>\n",
    "<b>Task 2:</b>   \n",
    "    \n",
    "Read the simple story below and use the tips described above to complete the partially completed code cell.\n",
    "</p>\n",
    "</div>"
   ]
  },
  {
   "cell_type": "markdown",
   "id": "5692fa18",
   "metadata": {},
   "source": [
    "Suppose you and a group of friends would like to evaluate your financial decisions, and you decide to review how many coins you spend at PSOR, the CEG student pub, to practice your Python skills. You have assembled data on the number of coins purchased per month, for several years, starting from when you first met in September, through August, 3 years later."
   ]
  },
  {
   "cell_type": "code",
   "execution_count": null,
   "id": "f64b31f1",
   "metadata": {},
   "outputs": [],
   "source": [
    "coins = [46, 28, 16, 27,\n",
    "         22, 24, 31, 12,\n",
    "         32, 36, 12, 0,\n",
    "         41, 27, 21, 26,\n",
    "         21, 19, 18, 35,\n",
    "         14, 34, 8, 0,\n",
    "         53, 34, 23, 35,\n",
    "         28, 26, 18, 13,\n",
    "         12, 14, 34, 0]\n"
   ]
  },
  {
   "cell_type": "code",
   "execution_count": null,
   "id": "4415d492",
   "metadata": {},
   "outputs": [],
   "source": [
    "np.set_printoptions(precision=1)\n",
    "print(f'The average number of coins spent per month is:')\n",
    "print('The average number of coins spent per month for each year is:')\n",
    "print(f'The average number of coins spent each september:')\n",
    "print(f'The average number of coins spent each january:')\n",
    "print(f'Max coins spent in any month:')\n",
    "print(f'Max coins spent in any year:')"
   ]
  },
  {
   "cell_type": "markdown",
   "id": "81e30bca",
   "metadata": {},
   "source": [
    "The answers are:\n",
    "```\n",
    "The average number of coins spent per month is: 23.3\n",
    "The average number of coins spent per month for each year is: [23.8 22.  24.2]\n",
    "The average number of coins spent in september: 46.7\n",
    "The average number of coins spent in january: 23.7\n",
    "Max coins spent in any month: 53.0\n",
    "Max coins spent in any year: 290.0\n",
    "```"
   ]
  },
  {
   "cell_type": "markdown",
   "id": "adbdb77a",
   "metadata": {},
   "source": [
    "## Correlated Behavior?\n",
    "\n",
    "Now that we have three years of data, we want to see if there is a trend in our behavior. We can take the correlation concepts we learned in Q1 and see if there is a relationship from one month to the next. In other words: if we spend a lot of coins one month, is the _probability_ that we spend a lot of coins the next month _higher_? Evaluating correlation this way has many names: autocorrelation, autocovariance, etc...the \"auto\" in this case refers to evaluating the relationship between data from the same sequence (you will learn about it more in the time series reading). Luckily, there is a built-in method of `statsmodels` that does this for us automatically: the correlation is plotted on the y-axis between the distance away from any point in the series. It is important to recognize that the correlations represent any point in the series (analogous to an average), rather than any specific point)\n",
    "\n",
    "_Note the use of reshape to put the data back into a 1D array (row/column)!_"
   ]
  },
  {
   "cell_type": "markdown",
   "id": "491cc105",
   "metadata": {},
   "source": [
    "<div style=\"background-color:#AABAB2; color: black; vertical-align: middle; padding:15px; margin: 10px; border-radius: 10px\">\n",
    "<p>\n",
    "<b>Task 3:</b>   \n",
    "    \n",
    "Run the cells to visualize the plots, then read the interpretations.\n",
    "</p>\n",
    "</div>"
   ]
  },
  {
   "cell_type": "code",
   "execution_count": null,
   "id": "12049ec2",
   "metadata": {},
   "outputs": [],
   "source": [
    "from statsmodels.graphics.tsaplots import plot_acf\n",
    "plot_acf(coins.reshape(-1));"
   ]
  },
  {
   "cell_type": "markdown",
   "id": "3f68eaf0",
   "metadata": {},
   "source": [
    "**Interpretation:** it appears that there is little correlation from one month to the next in the data set, except each point is very strongly correlated with itself (that should be obvious!). Even more importantly, the points are inside the shaded blue region: that is the confidence interval, which means the values are negligible.\n",
    "\n",
    "Now let's try an increasing series and see what happens:"
   ]
  },
  {
   "cell_type": "code",
   "execution_count": null,
   "id": "984e38b0",
   "metadata": {},
   "outputs": [],
   "source": [
    "increasing_series = np.arange(1, 50)\n",
    "plot_acf(increasing_series);"
   ]
  },
  {
   "cell_type": "markdown",
   "id": "ac2d7925",
   "metadata": {},
   "source": [
    "**Interpretation:**  now there is definitely correlation! And we see that the correlation drops off with distance (which makes sense for a linear trend). However, the confidence interval is large, so the trend in correlation should not be trusted for a large distance (you can check and set the confidence interval easily, check the [documentation](https://www.statsmodels.org/stable/generated/statsmodels.graphics.tsaplots.plot_acf.html))."
   ]
  },
  {
   "cell_type": "markdown",
   "id": "f0a19416",
   "metadata": {},
   "source": [
    "<div style=\"background-color:#facb8e; color: black; vertical-align: middle; padding:15px; margin: 10px; border-radius: 10px; width: 95%\"> <p>Note that we don't give a full explanation of the x-axis in these plots, and the terminology for correlation is vague; see the reading for a thorough explanation.</p></div>"
   ]
  },
  {
   "cell_type": "markdown",
   "id": "51c5ff8f",
   "metadata": {},
   "source": [
    "<div style=\"background-color:#AABAB2; color: black; vertical-align: middle; padding:15px; margin: 10px; border-radius: 10px\">\n",
    "<p>\n",
    "<b>Task 4:</b>   \n",
    "    \n",
    "Test your knowledge of correlation! See if you can create a sequence of data that somehow creates alternating positive and negative values of autocorrelation, as illustrated in the figure. You don't need to exactly recreate the plot, as long as there's alternating values autocorrelation.\n",
    "</p>\n",
    "</div>"
   ]
  },
  {
   "cell_type": "markdown",
   "id": "1781bd5c",
   "metadata": {},
   "source": [
    "![Image of alternating autocorrelation plot](alternation.svg)"
   ]
  },
  {
   "cell_type": "code",
   "execution_count": null,
   "id": "95c7bf59",
   "metadata": {},
   "outputs": [],
   "source": [
    "strong_autocorr_positive = np.array([YOUR_CODE_HERE])\n",
    "plot_acf(strong_autocorr_positive);"
   ]
  },
  {
   "cell_type": "markdown",
   "id": "80580ab9-4d79-46b1-ae6e-775af04d43ad",
   "metadata": {},
   "source": [
    "**End of notebook.**\n",
    "<h2 style=\"height: 60px\">\n",
    "</h2>\n",
    "<h3 style=\"position: absolute; display: flex; flex-grow: 0; flex-shrink: 0; flex-direction: row-reverse; bottom: 60px; right: 50px; margin: 0; border: 0\">\n",
    "    <style>\n",
    "        .markdown {width:100%; position: relative}\n",
    "        article { position: relative }\n",
    "    </style>\n",
    "    <a rel=\"license\" href=\"http://creativecommons.org/licenses/by-nc-sa/4.0/\">\n",
    "      <img alt=\"Creative Commons License\" style=\"border-width:; width:88px; height:auto; padding-top:10px\" src=\"https://i.creativecommons.org/l/by-nc-sa/4.0/88x31.png\" />\n",
    "    </a>\n",
    "    <a rel=\"TU Delft\" href=\"https://www.tudelft.nl/en/ceg\">\n",
    "      <img alt=\"TU Delft\" style=\"border-width:0; width:100px; height:auto; padding-bottom:0px\" src=\"https://gitlab.tudelft.nl/mude/public/-/raw/main/tu-logo/TU_P1_full-color.png\"/>\n",
    "    </a>\n",
    "    <a rel=\"MUDE\" href=\"http://mude.citg.tudelft.nl/\">\n",
    "      <img alt=\"MUDE\" style=\"border-width:0; width:100px; height:auto; padding-bottom:0px\" src=\"https://gitlab.tudelft.nl/mude/public/-/raw/main/mude-logo/MUDE_Logo-small.png\"/>\n",
    "    </a>\n",
    "    \n",
    "</h3>\n",
    "<span style=\"font-size: 75%\">\n",
    "&copy; Copyright 2023 <a rel=\"MUDE Team\" href=\"https://studiegids.tudelft.nl/a101_displayCourse.do?course_id=65595\">MUDE Teaching Team</a> TU Delft. This work is licensed under a <a rel=\"license\" href=\"http://creativecommons.org/licenses/by-nc-sa/4.0/\">Creative Commons Attribution-NonCommercial-ShareAlike 4.0 International License</a>."
   ]
  }
 ],
 "metadata": {
  "language_info": {
   "name": "python"
  }
 },
 "nbformat": 4,
 "nbformat_minor": 5
}
