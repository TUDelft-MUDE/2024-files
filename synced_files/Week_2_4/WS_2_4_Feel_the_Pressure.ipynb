{
 "cells": [
  {
   "cell_type": "markdown",
   "metadata": {},
   "source": [
    "# WS 2.4: Atmospheric Pressure\n",
    "\n",
    "<h1 style=\"position: absolute; display: flex; flex-grow: 0; flex-shrink: 0; flex-direction: row-reverse; top: 60px;right: 30px; margin: 0; border: 0\">\n",
    "    <style>\n",
    "        .markdown {width:100%; position: relative}\n",
    "        article { position: relative }\n",
    "    </style>\n",
    "    <img src=\"https://gitlab.tudelft.nl/mude/public/-/raw/main/tu-logo/TU_P1_full-color.png\" style=\"width:100px\" />\n",
    "    <img src=\"https://gitlab.tudelft.nl/mude/public/-/raw/main/mude-logo/MUDE_Logo-small.png\" style=\"width:100px\" />\n",
    "</h1>\n",
    "<h2 style=\"height: 10px\">\n",
    "</h2>\n",
    "\n",
    "*[CEGM1000 MUDE](http://mude.citg.tudelft.nl/): Week 2.4, Time series analysis. For: December 4, 2024.*"
   ]
  },
  {
   "cell_type": "markdown",
   "metadata": {},
   "source": [
    "In this workshop we will analyze Atmospheric pressure data. The data is a time series of atmospheric pressure measurements over a period of 2 years, with measurements taken every 4 hours. The first column is the time in days, the second column is the atmospheric pressure in hPa.\n",
    "\n",
    "In this workshop we will analyze the time series. We will first fit a functional model to the data in order to stationarize the data. Then we will address the remaining noise and establish a stochastic model by fitting an AR(1) model to the residuals.\n",
    "\n",
    "We begin by loading the data and plotting it."
   ]
  },
  {
   "cell_type": "markdown",
   "metadata": {},
   "source": [
    "## Part 0.1: Load the data and plot it\n",
    "This week we are using a new library called `statsmodels`. This library is very useful for time series analysis. If you don't have it installed, you can install it by running `!pip install statsmodels` in a code cell. You can also install it by running `pip install statsmodels` in a terminal of your choice (make sure you are in the right environment activated!)."
   ]
  },
  {
   "cell_type": "code",
   "execution_count": null,
   "metadata": {},
   "outputs": [],
   "source": [
    "import numpy as np\n",
    "import matplotlib.pyplot as plt\n",
    "from statsmodels.graphics.tsaplots import plot_acf\n",
    "from scipy.stats import chi2\n",
    "from scipy.signal import periodogram"
   ]
  },
  {
   "cell_type": "code",
   "execution_count": null,
   "metadata": {},
   "outputs": [],
   "source": [
    "data = np.loadtxt('atm_data.txt', delimiter=',')\n",
    "time = data[:, 0]\n",
    "data = data[:, 1]\n",
    "\n",
    "dt = YOUR_CODE_HERE # Time step\n",
    "fs = YOUR_CODE_HERE # Sampling frequency\n",
    "\n",
    "plt.figure(figsize=(10, 3))\n",
    "plt.plot(time, data)\n",
    "plt.xlabel('Time [days]')\n",
    "plt.ylabel('Atmospheric Pressure [hPa]')\n",
    "plt.title('2 year of atmospheric pressure data')\n",
    "plt.grid(True)\n"
   ]
  },
  {
   "cell_type": "markdown",
   "metadata": {},
   "source": [
    "## Part 1: Finding frequencies of periodic patterns\n",
    "\n",
    "We clearly see that the data contains a seasonal pattern. We will start by fitting a functional model to the data in order to make the data stationary. To find the frequency of the seasonal pattern we will use the power spectrum of the data.\n",
    "\n",
    "The time series may be influenced by multiple periodic signals at different frequencies; therefore we will apply a method to find the dominant frequency, and then iteratively remove the corresponding signal from the data.\n",
    "\n",
    "We will create a function `find_frequency` that will take the data and an $\\mathrm{A}$-matrix as input and return the frequency of the most dominant periodic signal. Note that we cannot have an empty A-matrix when running the function for the first time. Therefore, we first define an A matrix for a linear model that accounts for an intercept and slope, with which `find_frequency` will then de-trend the time series.\n",
    "\n",
    "The function will look like this:\n",
    "\n",
    "1. Using the $\\mathrm{A}$-matrix we will fit a model to the data using the least squares method. \n",
    "2. We will calculate the PSD of the residuals of the model.\n",
    "3. We will find the frequency of the most dominant periodic signal in the PSD.\n",
    "4. Optional: we can plot the power spectrum of the data with the highest peak.\n",
    "\n"
   ]
  },
  {
   "cell_type": "markdown",
   "metadata": {},
   "source": [
    "### Create the necessary functions"
   ]
  },
  {
   "cell_type": "markdown",
   "metadata": {},
   "source": [
    "<div style=\"background-color:#AABAB2; color: black; vertical-align: middle; padding:15px; margin: 10px; border-radius: 10px; width: 95%\">\n",
    "<p>\n",
    "<b>Task 1.1:</b>   \n",
    "\n",
    "Read the code in the next Python cell study the contents until you understand what the functions are doing. Then complete the missing parts of the code.\n",
    "\n",
    "</p>\n",
    "</div>"
   ]
  },
  {
   "cell_type": "markdown",
   "metadata": {},
   "source": [
    "<div style=\"background-color:#facb8e; color: black; vertical-align: middle; padding:15px; margin: 10px; border-radius: 10px; width: 95%\">\n",
    "<p>\n",
    "<b>Tip:</b>\n",
    "We will write functions that return multiple parameters, but if we are not interested in defining a particular parameter we can use `_` to ignore it. For example, if we write <code>_, b = function(a)</code>, we only define the second output of the function; the first output is not stored in a variable.</p></div>"
   ]
  },
  {
   "cell_type": "code",
   "execution_count": null,
   "metadata": {},
   "outputs": [],
   "source": [
    "def fit_model(data, time, A, plot=False):\n",
    "    '''\n",
    "    Function to find the least squares solution of the data\n",
    "    data: input data\n",
    "    time: time vector\n",
    "    A: A-matrix to fit the data\n",
    "    plot: boolean to plot the results or not\n",
    "    '''\n",
    "\n",
    "    x_hat = YOUR_CODE_HERE # least squares solution\n",
    "    y_hat = YOUR_CODE_HERE # model prediction\n",
    "    e_hat = YOUR_CODE_HERE # residuals\n",
    "\n",
    "    if plot:\n",
    "        plt.figure(figsize=(10, 5))\n",
    "        plt.subplot(211)\n",
    "        plt.plot(time, data, label='Data')\n",
    "        plt.plot(time, y_hat, label='Estimated data')\n",
    "        plt.xlabel('Time [days]')\n",
    "        plt.ylabel('Atmospheric Pressure [hPa]')\n",
    "        plt.title('Data vs Estimated data')\n",
    "        plt.grid(True)\n",
    "        plt.legend()\n",
    "        plt.subplot(212)\n",
    "        plt.plot(time, e_hat, label='Residuals')\n",
    "        plt.xlabel('Time [days]')\n",
    "        plt.ylabel('Atmospheric Pressure [hPa]')\n",
    "        plt.title('Residuals')\n",
    "        plt.grid(True)\n",
    "        plt.legend()\n",
    "        plt.tight_layout()\n",
    "\n",
    "    return x_hat, y_hat, e_hat\n",
    "\n",
    "def find_frequency(data, time, A, fs, plot=True):\n",
    "    '''\n",
    "    Function to find the dominant frequency of the signal\n",
    "    data: input data\n",
    "    time: time vector\n",
    "    A: A-matrix to detrend the data (prior to spectral analysis)\n",
    "    fs: sampling frequency\n",
    "    plot: boolean to plot the psd or not\n",
    "    '''\n",
    "    # Detrending the data\n",
    "    _, _, e_hat= fit_model(data, time, A)\n",
    "\n",
    "    N = len(data)\n",
    "\n",
    "    # Finding the dominant frequency in e_hat\n",
    "    freqs, pxx = periodogram(YOUR_CODE_HERE, fs=YOUR_CODE_HERE, window='boxcar',\n",
    "                             nfft=N, return_onesided=False,\n",
    "                             scaling='density')\n",
    "\n",
    "    # finding the dominant frequency and amplitude\n",
    "    # Note: there are many ways to do this\n",
    "    amplitude = YOUR_CODE_HERE # Amplitude of the dominant frequency\n",
    "    dominant_frequency = YOUR_CODE_HERE # Dominant frequency\n",
    "\n",
    "    # Plotting the PSD\n",
    "    if plot:\n",
    "        plt.figure(figsize=(10, 5))\n",
    "        plt.subplot(211)\n",
    "        plt.plot(time, e_hat)\n",
    "        plt.title('Residuals')\n",
    "        plt.ylabel('Atmospheric Pressure [hPa]')\n",
    "        plt.grid(True)\n",
    "        plt.subplot(212)\n",
    "        plt.plot(freqs[freqs>0], pxx[freqs>0], label='PSD of residuals')\n",
    "        plt.xlabel('Frequency')\n",
    "        plt.ylabel('PSD')\n",
    "        plt.title('Power Spectral Density')\n",
    "        plt.grid(True)\n",
    "        plt.plot(dominant_frequency, amplitude, 'ro', label='Dominant Frequency')\n",
    "        plt.yscale('log')\n",
    "        plt.xscale('log')\n",
    "        plt.legend()\n",
    "        plt.tight_layout()\n",
    "\n",
    "    return dominant_frequency\n"
   ]
  },
  {
   "cell_type": "markdown",
   "metadata": {},
   "source": [
    "<div style=\"background-color:#AABAB2; color: black; vertical-align: middle; padding:15px; margin: 10px; border-radius: 10px; width: 95%\">\n",
    "<p>\n",
    "<b>Task 1.2:</b>   \n",
    "\n",
    "How can we use the <code>find_frequency</code> function to find the frequency of all periodic pattern in the data? In other words, how can we iteratively detect the frequencies in the data?\n",
    "\n",
    "Write your answer in a bulleted list that describes the procedure in the Markdown cell below.\n",
    "\n",
    "<em>Hint: we should try to remove frequencies from the data once we have detected them.</em>\n",
    "\n",
    "</p>\n",
    "</div>"
   ]
  },
  {
   "cell_type": "markdown",
   "metadata": {},
   "source": [
    "_Your answer here:_\n",
    "- Step 1: \n",
    "- Step 2: \n",
    "- Step ...: \n",
    "- Step n: "
   ]
  },
  {
   "cell_type": "markdown",
   "metadata": {},
   "source": [
    "### Find the first dominant frequency\n",
    "\n",
    "Now we will run `find_frequency` repeatedly to find the frequencies in the data. For the first iteration we will use an $\\mathrm{A}$-matrix that will remove a linear trend from the data. When we have found a frequency we will also remove the corresponding signal from the data in the next iteration. "
   ]
  },
  {
   "cell_type": "markdown",
   "metadata": {},
   "source": [
    "<div style=\"background-color:#AABAB2; color: black; vertical-align: middle; padding:15px; margin: 10px; border-radius: 10px; width: 95%\">\n",
    "<p>\n",
    "<b>Task 1.3:</b>   \n",
    "\n",
    "Set up the $\\mathrm{A}$-matrix for a linear trend, remove it from the data, then find the most dominant frequency and print the result.\n",
    "\n",
    "The default units of frequency are cumbersome to interpret, so you should convert the result to a better unit.\n",
    "\n",
    "</p>\n",
    "</div>"
   ]
  },
  {
   "cell_type": "code",
   "execution_count": null,
   "metadata": {},
   "outputs": [],
   "source": [
    "A = YOUR_CODE_HERE # A-matrix for linear trend (intercept and slope)\n",
    "dom_f = find_frequency(YOUR_CODE_HERE)\n",
    "print(f'Dominant Frequency: {YOUR_CODE_HERE} [YOUR_CODE_HERE]')"
   ]
  },
  {
   "cell_type": "markdown",
   "metadata": {},
   "source": [
    "<div style=\"background-color:#AABAB2; color: black; vertical-align: middle; padding:15px; margin: 10px; border-radius: 10px; width: 95%\"> <p> <b>Task 1.4:</b>   \n",
    "<p>\n",
    "Look back at the plot of the original time series and confirm whether or not you can see the presence of the signal with the frequency found in the previous task. Write your answer in one sentence in the Markdown cell below.\n",
    "</p>\n",
    "</div>"
   ]
  },
  {
   "cell_type": "markdown",
   "metadata": {},
   "source": [
    "_Your answer here._"
   ]
  },
  {
   "cell_type": "markdown",
   "metadata": {},
   "source": [
    "<div style=\"background-color:#AABAB2; color: black; vertical-align: middle; padding:15px; margin: 10px; border-radius: 10px; width: 95%\"> <p> <b>Task 1.5:</b>   \n",
    "<p>\n",
    "Find a second frequency by repeating the process. Before using <code>find_frequency</code> again, the linear trend and first periodic component should be accounted for.\n",
    "\n",
    "Repeat this step until you have removed all dominant signals (you will have to determine when to stop).\n",
    "\n",
    "Print the frequencies of all periodic signals found in the data.\n",
    "</p>\n",
    "</div>"
   ]
  },
  {
   "cell_type": "code",
   "execution_count": null,
   "metadata": {},
   "outputs": [],
   "source": [
    "YOUR_CODE_HERE # may be more than one line or more than one cell"
   ]
  },
  {
   "cell_type": "markdown",
   "metadata": {},
   "source": [
    "<div style=\"background-color:#AABAB2; color: black; vertical-align: middle; padding:15px; margin: 10px; border-radius: 10px; width: 95%\"> <p> <b>Task 1.6:</b>   \n",
    "<p>\n",
    "Describe the number of steps taken in the previous task and explain in your own words how the dominant frequencies were determined (print them, if you did not already do so).\n",
    "\n",
    "How did you decide when to stop?\n",
    "\n",
    "Is the final (detrended) time series (residuals) stationary? Explain.\n",
    "\n",
    "</p>\n",
    "</div>"
   ]
  },
  {
   "cell_type": "markdown",
   "metadata": {},
   "source": [
    "_Your answer here._"
   ]
  },
  {
   "cell_type": "markdown",
   "metadata": {},
   "source": [
    "## Part 2: Fitting the functional model\n",
    "\n",
    "In the next cell we will fit the model to generate stationary residuals. Above we have used for each dominant frequency $f_i$ ($i=1,2$) the model:\n",
    "\n",
    "$$a_i  \\cos(2\\pi f_i  t) + b_i  \\sin(2\\pi f_i t)$$ \n",
    "\n",
    "However, to report the periodic signals we would like to have the amplitude, phase shift and the frequency of those signals, which can be recovered from:\n",
    "$$A_i  \\cos(2\\pi f_i  t + \\theta_i)$$\n",
    "Where the amplitude $A_i = \\sqrt{a_i^2 + b_i^2}$ and $\\theta_i = \\arctan(-b_i/a_i)$\n",
    "\n",
    "Note: in Section 4.1 book this was shown where the angular frequency $\\omega = 2\\pi f$ was used.\n"
   ]
  },
  {
   "cell_type": "markdown",
   "metadata": {},
   "source": [
    "<div style=\"background-color:#AABAB2; color: black; vertical-align: middle; padding:15px; margin: 10px; border-radius: 10px; width: 95%\"> <p> <b>Task 2:</b>   \n",
    "<p>\n",
    "\n",
    "Complete the missing parts of the code cell below to create the functional model.\n",
    "\n",
    "</p>\n",
    "</div>"
   ]
  },
  {
   "cell_type": "markdown",
   "metadata": {},
   "source": [
    "<div style=\"background-color:#facb8e; color: black; vertical-align: middle; padding:15px; margin: 10px; border-radius: 10px; width: 95%\"> <p>If you want to compute the $\\theta_i$ you can use the <code>np.arctan2</code> function. This function is a version of the arctan function that returns the angle in the correct quadrant. Using the <code>np.arctan</code> function will not give you the correct angle!</p></div>"
   ]
  },
  {
   "cell_type": "code",
   "execution_count": null,
   "metadata": {},
   "outputs": [],
   "source": [
    "def rewrite_seasonal_comp(a_i, b_i):\n",
    "    '''\n",
    "    Function to rewrite the seasonal component in terms of sin and cos\n",
    "    a_i: seasonal component coefficient for cos\n",
    "    b_i: seasonal component coefficient for sin\n",
    "    '''\n",
    "    A_i = YOUR_CODE_HERE\n",
    "    theta_i = YOUR_CODE_HERE\n",
    "    return A_i, theta_i\n",
    "\n",
    "# creating the A matrix of the functional model\n",
    "A = YOUR_CODE_HERE\n",
    "\n",
    "# Fitting the model\n",
    "x_hat, y_hat, e_hat = YOUR_CODE_HERE\n",
    "\n",
    "# Extracting the seasonal component coefficients from the estimated parameters\n",
    "a_i = YOUR_CODE_HERE # all the a_i coefficients\n",
    "b_i = YOUR_CODE_HERE # all the b_i coefficients\n",
    "freqs = YOUR_CODE_HERE # all the frequencies\n",
    "\n",
    "\n",
    "# Check if the number of coefficients match the number of frequencies\n",
    "assert len(a_i) == len(b_i) == len(freqs), 'The number of coefficients do not match'\n",
    "\n",
    "print(f'Estimated Parameters:')\n",
    "for i in range(len(x_hat)):\n",
    "    print(f'x{i} = {x_hat[i]:.2f}')\n",
    "\n",
    "print('\\nThe seasonal component is rewritten as:')\n",
    "i = 0\n",
    "for a, b, f in zip(a_i, b_i, freqs):\n",
    "    A_i, theta_i = rewrite_seasonal_comp(a, b)\n",
    "    i = i + 1\n",
    "    print(f'A_{i} = {A_i:.3f}, theta_{i} = {theta_i:.3f}, f_{i} = {f:.3f}')"
   ]
  },
  {
   "cell_type": "markdown",
   "metadata": {},
   "source": [
    "## Part 3: Analyzing the residuals\n",
    "Now that we have our residuals we can fit an AR model to the residuals. We will start by plotting the ACF of the residuals. We will then fit an AR model to the residuals and report the parameters of the AR model.."
   ]
  },
  {
   "cell_type": "markdown",
   "metadata": {},
   "source": [
    "### Part 3.1: Plot the ACF of the residuals\n"
   ]
  },
  {
   "cell_type": "markdown",
   "metadata": {},
   "source": [
    "<div style=\"background-color:#AABAB2; color: black; vertical-align: middle; padding:15px; margin: 10px; border-radius: 10px; width: 95%\"> <p> <b>Task 3.1:</b>   \n",
    "<p>\n",
    "\n",
    "Use the <code>plot_acf</code> function to plot the ACF of the residuals. \n",
    "\n",
    "</p>\n",
    "</div>"
   ]
  },
  {
   "cell_type": "code",
   "execution_count": null,
   "metadata": {},
   "outputs": [],
   "source": [
    "fig, ax = plt.subplots(1, 1, figsize=(10, 3))\n",
    "plot_acf(YOUR_CODE_HERE, ax=ax, lags=20);\n",
    "ax.set_xlabel('Lags [days]')\n",
    "ax.grid()"
   ]
  },
  {
   "cell_type": "markdown",
   "metadata": {},
   "source": [
    "\n",
    "\n",
    "<div style=\"background-color:#AABAB2; color: black; vertical-align: middle; padding:15px; margin: 10px; border-radius: 10px; width: 95%\"> <p> <b>Task 3.2:</b>   \n",
    "<p>\n",
    "What can you conclude from this ACF?\n",
    "</p>\n",
    "</div>"
   ]
  },
  {
   "cell_type": "markdown",
   "metadata": {},
   "source": [
    "_Your answer here._"
   ]
  },
  {
   "cell_type": "markdown",
   "metadata": {},
   "source": [
    "### Fit an AR(1) model to the residuals\n",
    "\n",
    "First we write a function `AR1` that will take the stationary residuals as input and return the parameters of the AR1 model. Then we will fit this model to the residuals and report the parameters."
   ]
  },
  {
   "cell_type": "markdown",
   "metadata": {},
   "source": [
    "\n",
    "\n",
    "<div style=\"background-color:#AABAB2; color: black; vertical-align: middle; padding:15px; margin: 10px; border-radius: 10px; width: 95%\"> <p> <b>Task 3.3:</b>   \n",
    "<p>\n",
    "Complete the missing parts of the code cell below.\n",
    "</p>\n",
    "</div>"
   ]
  },
  {
   "cell_type": "code",
   "execution_count": null,
   "metadata": {},
   "outputs": [],
   "source": [
    "def AR1(s, time, plot=True):\n",
    "    '''\n",
    "    Function to find the AR(1) model of the given data\n",
    "    s: input data\n",
    "    return: x_hat, e_hat\n",
    "    '''\n",
    "    y = YOUR_CODE_HERE\n",
    "    y_lag_1 = YOUR_CODE_HERE\n",
    "    # np.atleast_2d is used to convert the 1D array to 2D array,\n",
    "    # as the fit_model function requires 2D array\n",
    "    A = np.atleast_2d(y_lag_1).T \n",
    "\n",
    "    x_hat, y_hat, e_hat = fit_model(y, time, A)\n",
    "    if plot:\n",
    "        plt.figure(figsize=(10, 3))\n",
    "        plt.plot(time, y, label='Original Residuals')\n",
    "        plt.plot(time, y_hat, label='Estimated Residuals')\n",
    "        plt.xlabel('Time [days]')\n",
    "        plt.ylabel('Atmospheric Pressure [hPa]')\n",
    "        plt.title('Original Data vs Estimated Data')\n",
    "        # plt.xlim([0, 100]) # uncomment this line to zoom in, for better visualization\n",
    "        plt.grid(True)\n",
    "        plt.legend()\n",
    "\n",
    "    print(f'Estimated Parameters:')\n",
    "    print(f'phi = {x_hat[0]:.4f}')\n",
    "\n",
    "    return x_hat, e_hat\n"
   ]
  },
  {
   "cell_type": "markdown",
   "metadata": {},
   "source": [
    "### Fit an AR1 model to the residuals\n",
    "\n",
    "Fit an AR(1) model to the residuals of the functional model (found in Part 2), then report the parameters. We will need to check if the AR(1) model is a good fit to the residuals, although there are many ways to check whether this is the case. We can use a testing procedure to compare different AR models, an example of this can be found in the book.\n",
    "\n",
    "Today is your lucky day: we will use a more simple method. If the AR(1) model is a good fit to the residuals, the residuals of the AR(1) model (output by the `AR1` function) should be white noise. We will plot the ACF of the residuals of the AR(1) model to check if this is the case."
   ]
  },
  {
   "cell_type": "markdown",
   "metadata": {},
   "source": [
    "\n",
    "\n",
    "<div style=\"background-color:#AABAB2; color: black; vertical-align: middle; padding:15px; margin: 10px; border-radius: 10px; width: 95%\"> <p> <b>Task 3.4:</b>   \n",
    "<p>\n",
    "Complete the missing parts of the code cell below.\n",
    "</p>\n",
    "</div>"
   ]
  },
  {
   "cell_type": "code",
   "execution_count": null,
   "metadata": {},
   "outputs": [],
   "source": [
    "_, e_hat2 = AR1(YOUR_CODE_HERE)\n",
    "\n",
    "# Lets start with the ACF plot\n",
    "fig, ax = plt.subplots(1, 1, figsize=(10, 3))\n",
    "plot_acf(YOUR_CODE_HERE, ax=ax, lags=20);\n",
    "ax.grid()"
   ]
  },
  {
   "cell_type": "markdown",
   "metadata": {},
   "source": [
    "<div style=\"background-color:#AABAB2; color: black; vertical-align: middle; padding:15px; margin: 10px; border-radius: 10px; width: 95%\"> <p> <b>Task 3.5:</b>   \n",
    "<p>\n",
    "\n",
    "- What can you conclude from this ACF?\n",
    "  \n",
    "- Is the AR(1) model a good fit to the residuals?\n",
    "  \n",
    "- What would you do if the AR(1) model is not a good fit to the residuals?\n",
    "\n",
    "</p>\n",
    "</div>"
   ]
  },
  {
   "cell_type": "markdown",
   "metadata": {},
   "source": [
    "_Your answer here._"
   ]
  },
  {
   "cell_type": "markdown",
   "metadata": {},
   "source": [
    "## Part 4: Report the results\n",
    "\n",
    "_This part is optional because it is not part of the book, and is not part of the exam material. However, it is a nice exercise to see how the uncertainty in our model parameters can be computed for situations where the observations are **not** independent. This is different from Q1 when we studied observation theory models with an assumption of independent observations. Maybe we will also (optionally) use this on Friday..._\n",
    "\n",
    "Now that we have found the periodic signals in the data and fitted an AR model to the residuals, we can report the results. By combining including the AR (noise) process, we get residuals that are white noise. When the model hat white noise residuals, we can also report the confidence intervals of the model.\n",
    "\n",
    "We will use the unbiased estimate of the variance of the residuals to calculate the confidence intervals. The unbiased estimate of the variance is given by:\n",
    "\n",
    "$$\\hat{\\sigma}^2 = \\frac{1}{n-p} \\sum_{t=1}^{n} \\hat{e}_t^2$$\n",
    "\n",
    "Where $n$ is the number of observations and $p$ is the number of parameters in the model.\n",
    "\n",
    "The covariance matrix of the parameters is given by:\n",
    "\n",
    "$$\\hat{\\Sigma} = \\hat{\\sigma}^2 (\\mathbf{A}^T \\mathbf{A})^{-1}$$\n",
    "\n",
    "Where $\\mathbf{A}$ is the design matrix of the model."
   ]
  },
  {
   "cell_type": "markdown",
   "metadata": {},
   "source": [
    "\n",
    "\n",
    "<div style=\"background-color:#AABAB2; color: black; vertical-align: middle; padding:15px; margin: 10px; border-radius: 10px; width: 95%\"> <p> <b>Task 4.1:</b>   \n",
    "<p>\n",
    "Complete the missing parts of the code cell below.\n",
    "</p>\n",
    "</div>"
   ]
  },
  {
   "cell_type": "code",
   "execution_count": null,
   "metadata": {},
   "outputs": [],
   "source": [
    "# combine ar1 and seasonal model\n",
    "\n",
    "A_final = YOUR_CODE_HERE # A-matrix for the combined model\n",
    "x_hat, y_hat, e_hat_final = fit_model(YOUR_CODE_HERE)\n",
    "\n",
    "# compute the standard errors\n",
    "N = YOUR_CODE_HERE # Number of data points\n",
    "p = YOUR_CODE_HERE # Number of parameters\n",
    "sigma2 = YOUR_CODE_HERE # estimated variance of the residuals\n",
    "Cov = YOUR_CODE_HERE # Covariance matrix of the parameters\n",
    "se = np.sqrt(np.diag(Cov)) # Standard errors of the parameters\n",
    "\n",
    "# Extracting the seasonal component coefficients from the estimated parameters\n",
    "a_i = YOUR_CODE_HERE # all the a_i coefficients\n",
    "b_i = YOUR_CODE_HERE # all the b_i coefficients\n",
    "freqs = YOUR_CODE_HERE # all the frequencies\n",
    "\n",
    "# Check if the number of coefficients match the number of frequencies\n",
    "assert len(a_i) == len(b_i) == len(freqs), 'The number of coefficients do not match'\n",
    "\n",
    "print(f'Estimated Parameters (standard deviation):')\n",
    "for i in range(len(x_hat)):\n",
    "    print(f'x{i} = {x_hat[i]:.3f}\\t\\t ({se[i]:.3f})')\n",
    "\n",
    "print('\\nThe seasonal component is rewritten as:')\n",
    "i = 0\n",
    "for a, b, f in zip(a_i, b_i, freqs):\n",
    "    A_i, theta_i = rewrite_seasonal_comp(a, b)\n",
    "    i = i + 1\n",
    "    print(f'A_{i} = {A_i:.3f}, theta_{i} = {theta_i:.3f}, f_{i} = {f:.3f}')\n"
   ]
  },
  {
   "cell_type": "markdown",
   "metadata": {},
   "source": [
    "\n",
    "\n",
    "<div style=\"background-color:#AABAB2; color: black; vertical-align: middle; padding:15px; margin: 10px; border-radius: 10px; width: 95%\"> <p> <b>Task 4.2:</b>   \n",
    "<p>\n",
    "\n",
    "- What can you say about the parameters, do the parameters make sense? \n",
    "\n",
    "- What time of the day is the pressure highest (on average)?\n",
    "  \n",
    "- What has the highest impact on the pressure, the daily or the yearly periodic signal?\n",
    "\n",
    "</p>\n",
    "</div>"
   ]
  },
  {
   "cell_type": "markdown",
   "metadata": {},
   "source": [
    "_Your answer here._"
   ]
  },
  {
   "cell_type": "markdown",
   "metadata": {},
   "source": [
    "**End of notebook.**\n",
    "\n",
    "<div style=\"margin-top: 50px; padding-top: 20px; border-top: 1px solid #ccc;\">\n",
    "  <div style=\"display: flex; justify-content: flex-end; gap: 20px; align-items: center;\">\n",
    "    <a rel=\"MUDE\" href=\"http://mude.citg.tudelft.nl/\">\n",
    "      <img alt=\"MUDE\" style=\"width:100px; height:auto;\" src=\"https://gitlab.tudelft.nl/mude/public/-/raw/main/mude-logo/MUDE_Logo-small.png\" />\n",
    "    </a>\n",
    "    <a rel=\"TU Delft\" href=\"https://www.tudelft.nl/en/ceg\">\n",
    "      <img alt=\"TU Delft\" style=\"width:100px; height:auto;\" src=\"https://gitlab.tudelft.nl/mude/public/-/raw/main/tu-logo/TU_P1_full-color.png\" />\n",
    "    </a>\n",
    "    <a rel=\"license\" href=\"http://creativecommons.org/licenses/by/4.0/\">\n",
    "      <img alt=\"Creative Commons License\" style=\"width:88px; height:auto;\" src=\"https://i.creativecommons.org/l/by/4.0/88x31.png\" />\n",
    "    </a>\n",
    "  </div>\n",
    "  <div style=\"font-size: 75%; margin-top: 10px; text-align: right;\">\n",
    "    &copy; Copyright 2024 <a rel=\"MUDE\" href=\"http://mude.citg.tudelft.nl/\">MUDE</a> TU Delft. \n",
    "    This work is licensed under a <a rel=\"license\" href=\"http://creativecommons.org/licenses/by/4.0/\">CC BY 4.0 License</a>.\n",
    "  </div>\n",
    "</div>\n",
    "\n",
    "\n",
    "<!--tested with WS_2_8_solution.ipynb-->"
   ]
  }
 ],
 "metadata": {
  "language_info": {
   "name": "python"
  }
 },
 "nbformat": 4,
 "nbformat_minor": 2
}
