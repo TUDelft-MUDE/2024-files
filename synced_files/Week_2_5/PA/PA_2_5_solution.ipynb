{
 "cells": [
  {
   "cell_type": "markdown",
   "id": "76cf027b",
   "metadata": {},
   "source": [
    "# PA 2.5: Data Framework\n",
    "\n",
    "<h1 style=\"position: absolute; display: flex; flex-grow: 0; flex-shrink: 0; flex-direction: row-reverse; top: 60px;right: 30px; margin: 0; border: 0\">\n",
    "    <style>\n",
    "        .markdown {width:100%; position: relative}\n",
    "        article { position: relative }\n",
    "    </style>\n",
    "    <img src=\"https://gitlab.tudelft.nl/mude/public/-/raw/main/tu-logo/TU_P1_full-color.png\" style=\"width:100px\" />\n",
    "    <img src=\"https://gitlab.tudelft.nl/mude/public/-/raw/main/mude-logo/MUDE_Logo-small.png\" style=\"width:100px\" />\n",
    "</h1>\n",
    "<h2 style=\"height: 10px\">\n",
    "</h2>\n",
    "\n",
    "*[CEGM1000 MUDE](http://mude.citg.tudelft.nl/): Week 2.5. Due: complete this PA prior to class on Friday, Dec 13, 2024.*"
   ]
  },
  {
   "cell_type": "markdown",
   "id": "c26a1d32",
   "metadata": {},
   "source": [
    "## Overview of Assignment\n",
    "\n",
    "This assignment quickly introduces you to the package `pandas`. We only use a few small features here, to help you get familiar with it before using it more in the coming weeks. The primary purpose is to easily load data from csv files and quickly process the contents. This is accomplished with a new data type unique to pandas: a `DataFrame`. It also makes it very easy to export data to a `*.csv` file.\n",
    "\n",
    "If you want to learn more about pandas after finishing this assignment, the [Getting Started page](https://pandas.pydata.org/docs/getting_started/index.html) is a great resource."
   ]
  },
  {
   "cell_type": "code",
   "execution_count": null,
   "id": "f1020576",
   "metadata": {},
   "outputs": [],
   "source": [
    "import numpy as np\n",
    "import matplotlib.pyplot as plt\n",
    "import pandas as pd"
   ]
  },
  {
   "cell_type": "markdown",
   "id": "c6e5052e",
   "metadata": {
    "tags": []
   },
   "source": [
    "## Part 1: Introduction to pandas\n",
    "\n",
    "Pandas dataframes are considered by some to be difficult to use. For example, here is a line of code from one of our notebooks this week. Can you understand what it is doing?\n",
    "```\n",
    "net_data.loc[net_data['capacity'] <= 0, 'capacity'] = 0\n",
    "```\n",
    "\n",
    "One of the reasons for this is that the primary pandas data type, a `DataFrame` object, uses a dictionary-like syntax to access and store elements. For example, remember that a dictionary is defined using curly braces. "
   ]
  },
  {
   "cell_type": "code",
   "execution_count": null,
   "id": "729a378f",
   "metadata": {},
   "outputs": [],
   "source": [
    "my_dict = {}\n",
    "type(my_dict)"
   ]
  },
  {
   "cell_type": "markdown",
   "id": "8fd004a0",
   "metadata": {},
   "source": [
    "Also remember that you can add items as a key-value pair:"
   ]
  },
  {
   "cell_type": "code",
   "execution_count": null,
   "id": "a210040b",
   "metadata": {},
   "outputs": [],
   "source": [
    "my_dict = {'key': 5}"
   ]
  },
  {
   "cell_type": "markdown",
   "id": "5e99fdb2",
   "metadata": {},
   "source": [
    "The item `key` was added with value 5. We can access it like this:"
   ]
  },
  {
   "cell_type": "code",
   "execution_count": null,
   "id": "9d9f83f6",
   "metadata": {},
   "outputs": [],
   "source": [
    "my_dict['key']"
   ]
  },
  {
   "cell_type": "markdown",
   "id": "6ff5c13c",
   "metadata": {},
   "source": [
    "This is useful beceause if we have something like a list as the value, we can simply add the index the the end of the call to the dictionary. For example:"
   ]
  },
  {
   "cell_type": "code",
   "execution_count": null,
   "id": "0aed6ba6",
   "metadata": {},
   "outputs": [],
   "source": [
    "my_dict['array'] = [34, 634, 74, 7345]\n",
    "my_dict['array'][3]"
   ]
  },
  {
   "cell_type": "markdown",
   "id": "a649160e",
   "metadata": {},
   "source": [
    "And now that you see the \"double brackets\" above, i.e., `[ ][ ]`, you can see where the notation starts to get a little more complicated. Here's a fun nested example:"
   ]
  },
  {
   "cell_type": "code",
   "execution_count": null,
   "id": "ea3f06bb",
   "metadata": {},
   "outputs": [],
   "source": [
    "shell = ['chick']\n",
    "shell = {'shell': shell}\n",
    "shell = {'shell': shell}\n",
    "shell = {'shell': shell}\n",
    "nest = {'egg': shell}\n",
    "nest['egg']['shell']['shell']['shell'][0]"
   ]
  },
  {
   "cell_type": "markdown",
   "id": "54107d1a",
   "metadata": {},
   "source": [
    "Don't worry about that too much...as long as you keep dictionaries and their syntax in mind, it becomes easier to \"read\" the complicated pandas syntax.\n",
    "\n",
    "Now let's go through a few simple tasks that will illustrate what a `DataFrame` is (when constructed from a dictionary), and some of its fundamental methods and characteristics."
   ]
  },
  {
   "cell_type": "markdown",
   "id": "5335c803",
   "metadata": {},
   "source": [
    "<div style=\"background-color:#AABAB2; color: black; width: 95%; vertical-align: middle; padding:15px; margin: 10px; border-radius: 10px\">\n",
    "<p>\n",
    "<b>Task 1.1:</b>   \n",
    "    \n",
    "Run the cell below and check what kind of object was created using the method <code>type</code>.\n",
    "</p>\n",
    "</div>"
   ]
  },
  {
   "cell_type": "code",
   "execution_count": null,
   "id": "1b01abed",
   "metadata": {},
   "outputs": [],
   "source": [
    "new_dict = {'names': ['Gauss', 'Newton', 'Lagrange', 'Euler'],\n",
    "            'birth year': [1777, 1643, 1736, 1707]}\n",
    "\n",
    "# YOUR_CODE_HERE\n",
    "\n",
    "# SOLUTION\n",
    "type(new_dict)"
   ]
  },
  {
   "cell_type": "markdown",
   "id": "cac025e6",
   "metadata": {},
   "source": [
    "<div style=\"background-color:#AABAB2; color: black; width: 95%; vertical-align: middle; padding:15px; margin: 10px; border-radius: 10px\">\n",
    "<p>\n",
    "<b>Task 1.2:</b>   \n",
    "    \n",
    "Run the cell below and check what kind of object was created using the method <code>type</code>.\n",
    "</p>\n",
    "</div>"
   ]
  },
  {
   "cell_type": "code",
   "execution_count": null,
   "id": "d9baf437",
   "metadata": {},
   "outputs": [],
   "source": [
    "df = pd.DataFrame(new_dict)\n",
    "\n",
    "# YOUR_CODE_HERE\n",
    "\n",
    "# SOLUTION\n",
    "type(df)"
   ]
  },
  {
   "cell_type": "markdown",
   "id": "9f1f12a0",
   "metadata": {},
   "source": [
    "<div style=\"background-color:#AABAB2; color: black; width: 95%; vertical-align: middle; padding:15px; margin: 10px; border-radius: 10px\">\n",
    "<p>\n",
    "<b>Task 1.3:</b>   \n",
    "    \n",
    "Read the code below and try to predict what the answer should be before you run it and view the output. Then run the cell, confirm your guess and in the second cell check what kind of object was created using the method <code>type</code>.\n",
    "</p>\n",
    "</div>"
   ]
  },
  {
   "cell_type": "code",
   "execution_count": null,
   "id": "32459674",
   "metadata": {},
   "outputs": [],
   "source": [
    "guess = df.loc[df['birth year'] <= 1700, 'names']\n",
    "print(guess)"
   ]
  },
  {
   "cell_type": "code",
   "execution_count": null,
   "id": "f9d957f5",
   "metadata": {},
   "outputs": [],
   "source": [
    "# YOUR_CODE_HERE\n",
    "\n",
    "# SOLUTION\n",
    "type(guess)"
   ]
  },
  {
   "cell_type": "markdown",
   "id": "6b918d41",
   "metadata": {},
   "source": [
    "Note that this is a `Series` data type, which is part of the pandas package (you can read about it [here](https://pandas.pydata.org/docs/reference/api/pandas.Series.html)). If you need to use the value that is stored in the series, you can use the attribute `values` as if it were an object with the same `type` as the data in the `Series`; the example below shows that the `names` in the `DataFrame` is a `Series` where the data has type `ndarray`."
   ]
  },
  {
   "cell_type": "code",
   "execution_count": null,
   "id": "2ff449bb",
   "metadata": {},
   "outputs": [],
   "source": [
    "print(type(df.loc[df['birth year'] <= 1700, 'names']))\n",
    "print(type(df.loc[df['birth year'] <= 1700, 'names'].values))\n",
    "print('The value in the series is an ndarray with first item:',\n",
    "      df.loc[df['birth year'] <= 1700, 'names'].values[0])"
   ]
  },
  {
   "cell_type": "markdown",
   "id": "cc38831f",
   "metadata": {},
   "source": [
    "Another useful feature of pandas is to be able to quickly look at the contents of the data frame. You can quickly see which columns are present:"
   ]
  },
  {
   "cell_type": "code",
   "execution_count": null,
   "id": "f112e795",
   "metadata": {},
   "outputs": [],
   "source": [
    "df.head()"
   ]
  },
  {
   "cell_type": "markdown",
   "id": "664b1802",
   "metadata": {},
   "source": [
    "You can also get summary information easily:"
   ]
  },
  {
   "cell_type": "code",
   "execution_count": null,
   "id": "b2f1433b",
   "metadata": {},
   "outputs": [],
   "source": [
    "df.describe()"
   ]
  },
  {
   "cell_type": "markdown",
   "id": "4ce199d8",
   "metadata": {},
   "source": [
    "Finally, it is also very easy to read and write dataframes to a `*.csv` file, which you can do using the following commands (_you will apply this in the tasks below_):\n",
    "```\n",
    "df = pd.read_csv('dams.csv')\n",
    "```\n",
    "To write, the method is similar; the keyword argument `index=False` avoids adding a numbered index as an extra column in the csv:\n",
    "```\n",
    "df.to_csv('dams.csv', index=False)\n",
    "```"
   ]
  },
  {
   "cell_type": "markdown",
   "id": "366d7656",
   "metadata": {},
   "source": [
    "## Task 2: Evaluate and process the data\n",
    "\n",
    "For this assignment we will use a small files `dams.csv` file that is available in the repository for this PA."
   ]
  },
  {
   "cell_type": "markdown",
   "id": "ffd722d7",
   "metadata": {},
   "source": [
    "<div style=\"background-color:#AABAB2; color: black; width: 95%; vertical-align: middle; padding:15px; margin: 10px; border-radius: 10px\">\n",
    "<p>\n",
    "<b>Task 2.1:</b>\n",
    "    \n",
    "Import the dataset as a DataFrame, then explore it and learn about its contents (use the methods presented above; you can also look inside the csv file).\n",
    "</p>\n",
    "</div>"
   ]
  },
  {
   "cell_type": "code",
   "execution_count": null,
   "id": "ac59aafd",
   "metadata": {},
   "outputs": [],
   "source": [
    "# df = YOUR_CODE_HERE\n",
    "# YOUR_CODE_HERE.head()\n",
    "\n",
    "# SOLUTION\n",
    "df = pd.read_csv('dams.csv')\n",
    "df.head()"
   ]
  },
  {
   "cell_type": "markdown",
   "id": "77ba2db2",
   "metadata": {},
   "source": [
    "<div style=\"background-color:#FAE99E; color: black; width: 95%; vertical-align: middle; padding:15px; margin: 10px; border-radius: 10px; width: 95%\">\n",
    "<p>\n",
    "<b>Solution:</b>   \n",
    "\n",
    "We can see that this dataset has some information about dams, including the name, year constructed, volume and height. They look pretty big! It's actually the largest 5 dams by either volume or height (10 dams total), listed on Wikipedia page <a href=\"https://en.wikipedia.org/wiki/List_of_largest_dams\" target=\"_blank\">here</a>.\n",
    "\n",
    "</p>\n",
    "</div>"
   ]
  },
  {
   "cell_type": "markdown",
   "id": "d772981d",
   "metadata": {},
   "source": [
    "<div style=\"background-color:#AABAB2; color: black; width: 95%; vertical-align: middle; padding:15px; margin: 10px; border-radius: 10px\">\n",
    "<p>\n",
    "<b>Task 2.2:</b>\n",
    "    \n",
    "Using the example above, find the dams in the <code>DataFrame</code> that are of type <code>earth fill</code>.</code>\n",
    "</p>\n",
    "</div>"
   ]
  },
  {
   "cell_type": "code",
   "execution_count": null,
   "id": "2241d218",
   "metadata": {},
   "outputs": [],
   "source": [
    "# names_of_earth_dams = YOUR_CODE_HERE\n",
    "# print('The earth fill dams are:', names_of_earth_dams)\n",
    "\n",
    "# SOLUTION\n",
    "names_of_earth_dams = df.loc[df['Type'] == 'earth fill', 'Name'].values[:]\n",
    "print('The earth fill dams are:', names_of_earth_dams)"
   ]
  },
  {
   "cell_type": "markdown",
   "id": "5684ca17",
   "metadata": {},
   "source": [
    "_Hint: the answer should be:_ `['Fort Peck' 'Nurek' 'Kolnbrein' 'WAC Bennett']`"
   ]
  },
  {
   "cell_type": "markdown",
   "id": "3774189f",
   "metadata": {},
   "source": [
    "<div style=\"background-color:#AABAB2; color: black; width: 95%; vertical-align: middle; padding:15px; margin: 10px; border-radius: 10px\">\n",
    "<p>\n",
    "<b>Task 2.3:</b>\n",
    "    \n",
    "Create a new dataframe that only includes the earth fill dams. Save it as a new csv file called <code>earth_dams.csv</code>.\n",
    "</p>\n",
    "</div>\n",
    "\n",
    "_Hint: you only need to remove a small thing from the code for your answer to the task above)._"
   ]
  },
  {
   "cell_type": "code",
   "execution_count": null,
   "id": "5c0227d4",
   "metadata": {},
   "outputs": [],
   "source": [
    "# df_earth = YOUR_CODE_HERE\n",
    "# df_earth.YOUR_CODE_HERE\n",
    "\n",
    "# SOLUTION\n",
    "df_earth = df.loc[df['Type'] == 'earth fill']\n",
    "df_earth.to_csv('earth_dams.csv', index=False)"
   ]
  },
  {
   "cell_type": "markdown",
   "id": "4ae780aa",
   "metadata": {},
   "source": [
    "<div style=\"background-color:#AABAB2; color: black; width: 95%; vertical-align: middle; padding:15px; margin: 10px; border-radius: 10px\">\n",
    "<p>\n",
    "<b>Task 2.4:</b>\n",
    "    \n",
    "Check the contents of the new csv file to make sure you created it correctly.\n",
    "</p>\n",
    "</div>"
   ]
  },
  {
   "cell_type": "markdown",
   "id": "7ff602db",
   "metadata": {},
   "source": [
    "**End of notebook.**\n",
    "\n",
    "<div style=\"margin-top: 50px; padding-top: 20px; border-top: 1px solid #ccc;\">\n",
    "  <div style=\"display: flex; justify-content: flex-end; gap: 20px; align-items: center;\">\n",
    "    <a rel=\"MUDE\" href=\"http://mude.citg.tudelft.nl/\">\n",
    "      <img alt=\"MUDE\" style=\"width:100px; height:auto;\" src=\"https://gitlab.tudelft.nl/mude/public/-/raw/main/mude-logo/MUDE_Logo-small.png\" />\n",
    "    </a>\n",
    "    <a rel=\"TU Delft\" href=\"https://www.tudelft.nl/en/ceg\">\n",
    "      <img alt=\"TU Delft\" style=\"width:100px; height:auto;\" src=\"https://gitlab.tudelft.nl/mude/public/-/raw/main/tu-logo/TU_P1_full-color.png\" />\n",
    "    </a>\n",
    "    <a rel=\"license\" href=\"http://creativecommons.org/licenses/by/4.0/\">\n",
    "      <img alt=\"Creative Commons License\" style=\"width:88px; height:auto;\" src=\"https://i.creativecommons.org/l/by/4.0/88x31.png\" />\n",
    "    </a>\n",
    "  </div>\n",
    "  <div style=\"font-size: 75%; margin-top: 10px; text-align: right;\">\n",
    "    By <a rel=\"MUDE\" href=\"http://mude.citg.tudelft.nl/\">MUDE Team</a>\n",
    "    &copy; 2024 TU Delft. \n",
    "    <a rel=\"license\" href=\"http://creativecommons.org/licenses/by/4.0/\">CC BY 4.0</a>.\n",
    "    <a rel=\"Zenodo DOI\" href=\"https://doi.org/10.5281/zenodo.16782515\"><img style=\"width:auto; height:15; vertical-align:middle\" src=\"https://zenodo.org/badge/DOI/10.5281/zenodo.16782515.svg\" alt=\"DOI https://doi.org/10.5281/zenodo.16782515\"></a>\n",
    "  </div>\n",
    "</div>\n",
    "\n",
    "\n",
    "<!--tested with WS_2_8_solution.ipynb-->"
   ]
  }
 ],
 "metadata": {
  "language_info": {
   "name": "python"
  }
 },
 "nbformat": 4,
 "nbformat_minor": 5
}
