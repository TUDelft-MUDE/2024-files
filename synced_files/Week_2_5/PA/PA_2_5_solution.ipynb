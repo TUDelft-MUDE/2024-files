{
 "cells": [
  {
   "cell_type": "markdown",
   "id": "c96d6259-08d6-4289-aea2-589d67cdb5ee",
   "metadata": {},
   "source": [
    "# PA 2.5: Data Framework\n",
    "\n",
    "<h1 style=\"position: absolute; display: flex; flex-grow: 0; flex-shrink: 0; flex-direction: row-reverse; top: 60px;right: 30px; margin: 0; border: 0\">\n",
    "    <style>\n",
    "        .markdown {width:100%; position: relative}\n",
    "        article { position: relative }\n",
    "    </style>\n",
    "    <img src=\"https://gitlab.tudelft.nl/mude/public/-/raw/main/tu-logo/TU_P1_full-color.png\" style=\"width:100px\" />\n",
    "    <img src=\"https://gitlab.tudelft.nl/mude/public/-/raw/main/mude-logo/MUDE_Logo-small.png\" style=\"width:100px\" />\n",
    "</h1>\n",
    "<h2 style=\"height: 10px\">\n",
    "</h2>\n",
    "\n",
    "*[CEGM1000 MUDE](http://mude.citg.tudelft.nl/): Week 2.5. Due: complete this PA prior to class on Friday, Dec 13, 2024.*"
   ]
  },
  {
   "cell_type": "markdown",
   "id": "a5f54f96",
   "metadata": {},
   "source": [
    "## Overview of Assignment\n",
    "\n",
    "This assignment quickly introduces you to the package `pandas`. We only use a few small features here, to help you get familiar with it before using it more in the coming weeks. The primary purpose is to easily load data from csv files and quickly process the contents. This is accomplished with a new data type unique to pandas: a `DataFrame`. It also makes it very easy to export data to a `*.csv` file.\n",
    "\n",
    "If you want to learn more about pandas after finishing this assignment, the [Getting Started page](https://pandas.pydata.org/docs/getting_started/index.html) is a great resource."
   ]
  },
  {
   "cell_type": "code",
   "execution_count": null,
   "id": "75681df5-7a73-469a-ad83-ebd05451e0b7",
   "metadata": {
    "tags": []
   },
   "outputs": [],
   "source": [
    "import numpy as np\n",
    "import matplotlib.pyplot as plt\n",
    "import pandas as pd"
   ]
  },
  {
   "cell_type": "markdown",
   "id": "b0584fa2-7f4b-4566-9217-e6ca58d0e191",
   "metadata": {
    "tags": []
   },
   "source": [
    "## Part 1: Introduction to pandas\n",
    "\n",
    "Pandas dataframes are considered by some to be difficult to use. For example, here is a line of code from one of our notebooks this week. Can you understand what it is doing?\n",
    "```\n",
    "net_data.loc[net_data['capacity'] <= 0, 'capacity'] = 0\n",
    "```\n",
    "\n",
    "One of the reasons for this is that the primary pandas data type, a `DataFrame` object, uses a dictionary-like syntax to access and store elements. For example, remember that a dictionary is defined using curly braces. "
   ]
  },
  {
   "cell_type": "code",
   "execution_count": null,
   "id": "8b00501d-a01f-48e0-af35-47714c2544c3",
   "metadata": {
    "tags": []
   },
   "outputs": [],
   "source": [
    "my_dict = {}\n",
    "type(my_dict)"
   ]
  },
  {
   "cell_type": "markdown",
   "id": "f170b25b-3dcc-4b0a-9c8a-7c8d009727ab",
   "metadata": {},
   "source": [
    "Also remember that you can add items as a key-value pair:"
   ]
  },
  {
   "cell_type": "code",
   "execution_count": null,
   "id": "dde8eb7e-a919-4360-97a3-71a0876b107c",
   "metadata": {
    "tags": []
   },
   "outputs": [],
   "source": [
    "my_dict = {'key': 5}"
   ]
  },
  {
   "cell_type": "markdown",
   "id": "4889617a-b8bc-45ec-8804-a301d01d0915",
   "metadata": {},
   "source": [
    "The item `key` was added with value 5. We can access it like this:"
   ]
  },
  {
   "cell_type": "code",
   "execution_count": null,
   "id": "b806cf6b-6cc8-4d9c-9c99-108e00e3c8a2",
   "metadata": {
    "tags": []
   },
   "outputs": [],
   "source": [
    "my_dict['key']"
   ]
  },
  {
   "cell_type": "markdown",
   "id": "b91ad855-cb49-4690-bcd3-35a5137e6213",
   "metadata": {},
   "source": [
    "This is useful beceause if we have something like a list as the value, we can simply add the index the the end of the call to the dictionary. For example:"
   ]
  },
  {
   "cell_type": "code",
   "execution_count": null,
   "id": "42a0df17-025e-43bd-a8a2-351439f0db46",
   "metadata": {
    "tags": []
   },
   "outputs": [],
   "source": [
    "my_dict['array'] = [34, 634, 74, 7345]\n",
    "my_dict['array'][3]"
   ]
  },
  {
   "cell_type": "markdown",
   "id": "4a2fbd05-fe12-4a25-848f-f9c3f028f496",
   "metadata": {},
   "source": [
    "And now that you see the \"double brackets\" above, i.e., `[ ][ ]`, you can see where the notation starts to get a little more complicated. Here's a fun nested example:"
   ]
  },
  {
   "cell_type": "code",
   "execution_count": null,
   "id": "624d4b6f-79b9-4977-b628-e425e5bc699c",
   "metadata": {
    "tags": []
   },
   "outputs": [],
   "source": [
    "shell = ['chick']\n",
    "shell = {'shell': shell}\n",
    "shell = {'shell': shell}\n",
    "shell = {'shell': shell}\n",
    "nest = {'egg': shell}\n",
    "nest['egg']['shell']['shell']['shell'][0]"
   ]
  },
  {
   "cell_type": "markdown",
   "id": "246ffff6-60a1-4b93-b435-23e7e6c5dce1",
   "metadata": {},
   "source": [
    "Don't worry about that too much...as long as you keep dictionaries and their syntax in mind, it becomes easier to \"read\" the complicated pandas syntax.\n",
    "\n",
    "Now let's go through a few simple tasks that will illustrate what a `DataFrame` is (when constructed from a dictionary), and some of its fundamental methods and characteristics."
   ]
  },
  {
   "cell_type": "markdown",
   "id": "b5ce0532-5f86-48dd-9640-25853022a737",
   "metadata": {},
   "source": [
    "<div style=\"background-color:#AABAB2; color: black; width: 95%; vertical-align: middle; padding:15px; margin: 10px; border-radius: 10px\">\n",
    "<p>\n",
    "<b>Task 1.1:</b>   \n",
    "    \n",
    "Run the cell below and check what kind of object was created using the method <code>type</code>.\n",
    "</p>\n",
    "</div>"
   ]
  },
  {
   "cell_type": "code",
   "execution_count": null,
   "id": "4dd4b705-4c3e-40d2-a870-02ad8fa0ecee",
   "metadata": {
    "tags": []
   },
   "outputs": [],
   "source": [
    "new_dict = {'names': ['Gauss', 'Newton', 'Lagrange', 'Euler'],\n",
    "            'birth year': [1777, 1643, 1736, 1707]}\n",
    "\n",
    "# YOUR_CODE_HERE\n",
    "\n",
    "# SOLUTION\n",
    "type(new_dict)"
   ]
  },
  {
   "cell_type": "markdown",
   "id": "3823b26c-a6d5-48d6-9587-fe32e28cd294",
   "metadata": {},
   "source": [
    "<div style=\"background-color:#AABAB2; color: black; width: 95%; vertical-align: middle; padding:15px; margin: 10px; border-radius: 10px\">\n",
    "<p>\n",
    "<b>Task 1.2:</b>   \n",
    "    \n",
    "Run the cell below and check what kind of object was created using the method <code>type</code>.\n",
    "</p>\n",
    "</div>"
   ]
  },
  {
   "cell_type": "code",
   "execution_count": null,
   "id": "2bf43ec1-26fd-4372-8f13-b5d0f6b4bc01",
   "metadata": {
    "tags": []
   },
   "outputs": [],
   "source": [
    "df = pd.DataFrame(new_dict)\n",
    "\n",
    "# YOUR_CODE_HERE\n",
    "\n",
    "# SOLUTION\n",
    "type(df)"
   ]
  },
  {
   "cell_type": "markdown",
   "id": "31fb3d01-1930-4708-b0e0-b4ad5e3b986a",
   "metadata": {},
   "source": [
    "<div style=\"background-color:#AABAB2; color: black; width: 95%; vertical-align: middle; padding:15px; margin: 10px; border-radius: 10px\">\n",
    "<p>\n",
    "<b>Task 1.3:</b>   \n",
    "    \n",
    "Read the code below and try to predict what the answer should be before you run it and view the output. Then run the cell, confirm your guess and in the second cell check what kind of object was created using the method <code>type</code>.\n",
    "</p>\n",
    "</div>"
   ]
  },
  {
   "cell_type": "code",
   "execution_count": null,
   "id": "5bdc3486-cd64-4058-b064-60eabe6c7730",
   "metadata": {
    "tags": []
   },
   "outputs": [],
   "source": [
    "guess = df.loc[df['birth year'] <= 1700, 'names']\n",
    "print(guess)"
   ]
  },
  {
   "cell_type": "code",
   "execution_count": null,
   "id": "6d67975a-4cf9-40ad-9a3c-87db26134e44",
   "metadata": {
    "tags": []
   },
   "outputs": [],
   "source": [
    "# YOUR_CODE_HERE\n",
    "\n",
    "# SOLUTION\n",
    "type(guess)"
   ]
  },
  {
   "cell_type": "markdown",
   "id": "ded9ea29-c602-4b40-bc0d-9b135836cf9e",
   "metadata": {},
   "source": [
    "Note that this is a `Series` data type, which is part of the pandas package (you can read about it [here](https://pandas.pydata.org/docs/reference/api/pandas.Series.html)). If you need to use the value that is stored in the series, you can use the attribute `values` as if it were an object with the same `type` as the data in the `Series`; the example below shows that the `names` in the `DataFrame` is a `Series` where the data has type `ndarray`."
   ]
  },
  {
   "cell_type": "code",
   "execution_count": null,
   "id": "7554d184-63da-4ffe-9648-f024b385afbc",
   "metadata": {
    "tags": []
   },
   "outputs": [],
   "source": [
    "print(type(df.loc[df['birth year'] <= 1700, 'names']))\n",
    "print(type(df.loc[df['birth year'] <= 1700, 'names'].values))\n",
    "print('The value in the series is an ndarray with first item:',\n",
    "      df.loc[df['birth year'] <= 1700, 'names'].values[0])"
   ]
  },
  {
   "cell_type": "markdown",
   "id": "2af86307-53d2-4738-a5a6-afbc25fc23fa",
   "metadata": {},
   "source": [
    "Another useful feature of pandas is to be able to quickly look at the contents of the data frame. You can quickly see which columns are present:"
   ]
  },
  {
   "cell_type": "code",
   "execution_count": null,
   "id": "71e8ab45-91c7-441b-a028-98c2da883b4e",
   "metadata": {
    "tags": []
   },
   "outputs": [],
   "source": [
    "df.head()"
   ]
  },
  {
   "cell_type": "markdown",
   "id": "72422568-bb76-4750-ae9a-581682876218",
   "metadata": {},
   "source": [
    "You can also get summary information easily:"
   ]
  },
  {
   "cell_type": "code",
   "execution_count": null,
   "id": "3392fa06-76a8-48d8-9fe9-d8a3b248c303",
   "metadata": {
    "tags": []
   },
   "outputs": [],
   "source": [
    "df.describe()"
   ]
  },
  {
   "cell_type": "markdown",
   "id": "29fd2017-58e5-43fe-bb82-80218b2fb718",
   "metadata": {},
   "source": [
    "Finally, it is also very easy to read and write dataframes to a `*.csv` file, which you can do using the following commands (_you will apply this in the tasks below_):\n",
    "```\n",
    "df = pd.read_csv('dams.csv')\n",
    "```\n",
    "To write, the method is similar; the keyword argument `index=False` avoids adding a numbered index as an extra column in the csv:\n",
    "```\n",
    "df.to_csv('dams.csv', index=False)\n",
    "```"
   ]
  },
  {
   "cell_type": "markdown",
   "id": "206dd065-b1a0-4294-9f4e-e0f54d7b2483",
   "metadata": {},
   "source": [
    "## Task 2: Evaluate and process the data\n",
    "\n",
    "For this assignment we will use a small files `dams.csv` file that is available in the repository for this PA."
   ]
  },
  {
   "cell_type": "markdown",
   "id": "024aad2d-960c-4968-8933-186869e4f308",
   "metadata": {},
   "source": [
    "<div style=\"background-color:#AABAB2; color: black; width: 95%; vertical-align: middle; padding:15px; margin: 10px; border-radius: 10px\">\n",
    "<p>\n",
    "<b>Task 2.1:</b>\n",
    "    \n",
    "Import the dataset as a DataFrame, then explore it and learn about its contents (use the methods presented above; you can also look inside the csv file).\n",
    "</p>\n",
    "</div>"
   ]
  },
  {
   "cell_type": "code",
   "execution_count": null,
   "id": "5ca874c2-fcf9-4b3d-bdff-9413a5df19af",
   "metadata": {
    "tags": []
   },
   "outputs": [],
   "source": [
    "# df = YOUR_CODE_HERE\n",
    "# YOUR_CODE_HERE.head()\n",
    "\n",
    "# SOLUTION\n",
    "df = pd.read_csv('dams.csv')\n",
    "df.head()"
   ]
  },
  {
   "cell_type": "markdown",
   "id": "03ce99ca-77fe-403e-ae2b-fc26cb368326",
   "metadata": {},
   "source": [
    "<div style=\"background-color:#FAE99E; color: black; width: 95%; vertical-align: middle; padding:15px; margin: 10px; border-radius: 10px; width: 95%\">\n",
    "<p>\n",
    "<b>Solution:</b>   \n",
    "\n",
    "We can see that this dataset has some information about dams, including the name, year constructed, volume and height. They look pretty big! It's actually the largest 5 dams by either volume or height (10 dams total), listed on Wikipedia page <a href=\"https://en.wikipedia.org/wiki/List_of_largest_dams\" target=\"_blank\">here</a>.\n",
    "\n",
    "</p>\n",
    "</div>"
   ]
  },
  {
   "cell_type": "markdown",
   "id": "0d8e8945-d012-43c3-b0af-eebd161ca414",
   "metadata": {},
   "source": [
    "<div style=\"background-color:#AABAB2; color: black; width: 95%; vertical-align: middle; padding:15px; margin: 10px; border-radius: 10px\">\n",
    "<p>\n",
    "<b>Task 2.2:</b>\n",
    "    \n",
    "Using the example above, find the dams in the <code>DataFrame</code> that are of type <code>earth fill</code>.</code>\n",
    "</p>\n",
    "</div>"
   ]
  },
  {
   "cell_type": "code",
   "execution_count": null,
   "id": "bc30d3fb-a87b-4247-8c0b-6dd72afec558",
   "metadata": {
    "tags": []
   },
   "outputs": [],
   "source": [
    "# names_of_earth_dams = YOUR_CODE_HERE\n",
    "# print('The earth fill dams are:', names_of_earth_dams)\n",
    "\n",
    "# SOLUTION\n",
    "names_of_earth_dams = df.loc[df['Type'] == 'earth fill', 'Name'].values[:]\n",
    "print('The earth fill dams are:', names_of_earth_dams)"
   ]
  },
  {
   "cell_type": "markdown",
   "id": "ffc02761-430a-4b09-a339-803bdfade046",
   "metadata": {},
   "source": [
    "_Hint: the answer should be:_ `['Fort Peck' 'Nurek' 'Kolnbrein' 'WAC Bennett']`"
   ]
  },
  {
   "cell_type": "markdown",
   "id": "ec7e1423-845f-46d8-bb94-b7e17cec508e",
   "metadata": {},
   "source": [
    "<div style=\"background-color:#AABAB2; color: black; width: 95%; vertical-align: middle; padding:15px; margin: 10px; border-radius: 10px\">\n",
    "<p>\n",
    "<b>Task 2.3:</b>\n",
    "    \n",
    "Create a new dataframe that only includes the earth fill dams. Save it as a new csv file called <code>earth_dams.csv</code>.\n",
    "</p>\n",
    "</div>\n",
    "\n",
    "_Hint: you only need to remove a small thing from the code for your answer to the task above)._"
   ]
  },
  {
   "cell_type": "code",
   "execution_count": null,
   "id": "3563f5db-99b0-48e5-9108-6fc6ebe9bdd7",
   "metadata": {
    "tags": []
   },
   "outputs": [],
   "source": [
    "# df_earth = YOUR_CODE_HERE\n",
    "# df_earth.YOUR_CODE_HERE\n",
    "\n",
    "# SOLUTION\n",
    "df_earth = df.loc[df['Type'] == 'earth fill']\n",
    "df_earth.to_csv('earth_dams.csv', index=False)"
   ]
  },
  {
   "cell_type": "markdown",
   "id": "c18718b5-9a5f-4384-b1ec-13ae8a55ebec",
   "metadata": {},
   "source": [
    "<div style=\"background-color:#AABAB2; color: black; width: 95%; vertical-align: middle; padding:15px; margin: 10px; border-radius: 10px\">\n",
    "<p>\n",
    "<b>Task 2.4:</b>\n",
    "    \n",
    "Check the contents of the new csv file to make sure you created it correctly.\n",
    "</p>\n",
    "</div>"
   ]
  },
  {
   "cell_type": "markdown",
   "id": "77d5691d",
   "metadata": {},
   "source": [
    "**End of notebook.**\n",
    "<h2 style=\"height: 60px\">\n",
    "</h2>\n",
    "<h3 style=\"position: absolute; display: flex; flex-grow: 0; flex-shrink: 0; flex-direction: row-reverse; bottom: 60px; right: 50px; margin: 0; border: 0\">\n",
    "    <style>\n",
    "        .markdown {width:100%; position: relative}\n",
    "        article { position: relative }\n",
    "    </style>\n",
    "    <a rel=\"license\" href=\"http://creativecommons.org/licenses/by/4.0/\">\n",
    "      <img alt=\"Creative Commons License\" style=\"border-width:; width:88px; height:auto; padding-top:10px\" src=\"https://i.creativecommons.org/l/by/4.0/88x31.png\" />\n",
    "    </a>\n",
    "    <a rel=\"TU Delft\" href=\"https://www.tudelft.nl/en/ceg\">\n",
    "      <img alt=\"TU Delft\" style=\"border-width:0; width:100px; height:auto; padding-bottom:0px\" src=\"https://gitlab.tudelft.nl/mude/public/-/raw/main/tu-logo/TU_P1_full-color.png\" />\n",
    "    </a>\n",
    "    <a rel=\"MUDE\" href=\"http://mude.citg.tudelft.nl/\">\n",
    "      <img alt=\"MUDE\" style=\"border-width:0; width:100px; height:auto; padding-bottom:0px\" src=\"https://gitlab.tudelft.nl/mude/public/-/raw/main/mude-logo/MUDE_Logo-small.png\" />\n",
    "    </a>\n",
    "    \n",
    "</h3>\n",
    "<span style=\"font-size: 75%\">\n",
    "&copy; Copyright 2024 <a rel=\"MUDE\" href=\"http://mude.citg.tudelft.nl/\">MUDE</a> TU Delft. This work is licensed under a <a rel=\"license\" href=\"http://creativecommons.org/licenses/by/4.0/\">CC BY 4.0 License</a>."
   ]
  }
 ],
 "metadata": {
  "kernelspec": {
   "display_name": "mude-base",
   "language": "python",
   "name": "python3"
  },
  "language_info": {
   "codemirror_mode": {
    "name": "ipython",
    "version": 3
   },
   "file_extension": ".py",
   "mimetype": "text/x-python",
   "name": "python",
   "nbconvert_exporter": "python",
   "pygments_lexer": "ipython3",
   "version": "3.12.3"
  },
  "widgets": {
   "application/vnd.jupyter.widget-state+json": {
    "state": {},
    "version_major": 2,
    "version_minor": 0
   }
  }
 },
 "nbformat": 4,
 "nbformat_minor": 5
}
