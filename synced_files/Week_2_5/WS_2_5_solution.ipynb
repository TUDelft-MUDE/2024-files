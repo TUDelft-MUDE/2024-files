{
 "cells": [
  {
   "cell_type": "markdown",
   "id": "b3210984",
   "metadata": {},
   "source": [
    "# WS 2.5: Profit vs Planet\n",
    "\n",
    "<h1 style=\"position: absolute; display: flex; flex-grow: 0; flex-shrink: 0; flex-direction: row-reverse; top: 60px;right: 30px; margin: 0; border: 0\">\n",
    "    <style>\n",
    "        .markdown {width:100%; position: relative}\n",
    "        article { position: relative }\n",
    "    </style>\n",
    "    <img src=\"https://gitlab.tudelft.nl/mude/public/-/raw/main/tu-logo/TU_P1_full-color.png\" style=\"width:100px\" />\n",
    "    <img src=\"https://gitlab.tudelft.nl/mude/public/-/raw/main/mude-logo/MUDE_Logo-small.png\" style=\"width:100px\" />\n",
    "</h1>\n",
    "<h2 style=\"height: 10px\">\n",
    "</h2>\n",
    "\n",
    "*[CEGM1000 MUDE](http://mude.citg.tudelft.nl/): Week 2.5, Optimization. For: December 11, 2024*"
   ]
  },
  {
   "cell_type": "markdown",
   "id": "1c4b1a7a",
   "metadata": {},
   "source": [
    "## Part 1: Overview and Mathematical Formulation\n",
    "\n",
    "A civil engineering company wants to decide on the projects that they should do. Their objective is to minimize the environmental impact of their projects while making enough profit to keep the company running.\n",
    "\n",
    "They have a portfolio of 6 possible projects to invest in, where A, B , and C are new infrastructure projects (so-called type 1), and D, E, F are refurbishment projects (so-called type 2).\n",
    "\n",
    "The environmental impact of each project is given by $I_i$ where $i \\in [1,(...),6]$ is the index of the project. $I_i=[90,45,78,123,48,60]$\n",
    "\n",
    "The profit of each project is given by $P_i$ where $i\\in [1,(...),6]$ is the index of the project: $P_i=[120,65,99,110,33,99]$\n",
    "\n",
    "The company is operating with the following constraints, please formulate the mathematical program that allows solving the problem:\n",
    "\n",
    "- The company wants to do 3 out of the 6 projects\n",
    "- the projects of type 2 must be at least as many as the ones of type 1 \n",
    "- the profit of all projects together must be greater or equal than $250$ ($\\beta$)"
   ]
  },
  {
   "cell_type": "markdown",
   "id": "15d6b3f0",
   "metadata": {},
   "source": [
    "<div style=\"background-color:#AABAB2; color: black; vertical-align: middle; padding:15px; margin: 10px; border-radius: 10px; width: 95%\">\n",
    "<p>\n",
    "<b>Task 1: Writing the mathematical formulation</b>   \n",
    "\n",
    "Write down every formulation and constraint that is relevant to solve this optimization problem.\n",
    "</p>\n",
    "</div>"
   ]
  },
  {
   "cell_type": "markdown",
   "id": "7d0c2565",
   "metadata": {},
   "source": [
    "<div style=\"background-color:#FAE99E; color: black; vertical-align: middle; padding:15px; margin: 10px; border-radius: 10px; width: 95%\">\n",
    "<p>\n",
    "<b>Solution</b>\n",
    "\n",
    "$$Min(Z) \\sum_{i=1}^{6} x_i I_i $$\n",
    "\n",
    "subject to\n",
    "\n",
    "$$ \\sum_{i=1}^{6} x_i = 3 $$\n",
    "$$ \\sum_{i=4}^{6} x_i \\ge \\sum_{i=1}^{3} x_i $$\n",
    "$$ \\sum_{i=1}^{6} x_i P_i \\ge β $$\n",
    "$$x\\in(1,0), i\\in(1,....,6)$$\n",
    "    \n",
    "Extra Challenge (Task 6)\n",
    "$$ \\sum_{i=1}^{6} x_i I_i \\le x_1 γ + (1-x_1) M $$\n",
    "    \n",
    "where M is a sufficiently big number such as 9999    \n",
    "    \n",
    "</p>\n",
    "</div>"
   ]
  },
  {
   "cell_type": "markdown",
   "id": "d1f9f576",
   "metadata": {},
   "source": [
    "<div style=\"background-color:#AABAB2; color: black; vertical-align: middle; padding:15px; margin: 10px; border-radius: 10px; width: 95%\">\n",
    "<p>\n",
    "<b>Task 2: Setting up the software</b>   \n",
    "\n",
    "We'll continue using Gurobi this week, which you've set up in last week's PA. We'll use some other special packages as well. **Therefore, be sure to use the special conda environment created for this week.**\n",
    "\n",
    "</p>\n",
    "</div>"
   ]
  },
  {
   "cell_type": "code",
   "execution_count": null,
   "id": "ae96cbb5",
   "metadata": {},
   "outputs": [],
   "source": [
    "import gurobipy as gp"
   ]
  },
  {
   "cell_type": "markdown",
   "id": "a1b35e97",
   "metadata": {},
   "source": [
    "<div style=\"background-color:#AABAB2; color: black; vertical-align: middle; padding:15px; margin: 10px; border-radius: 10px; width: 95%\">\n",
    "<p>\n",
    "<b>Task 3: Setting up the problem</b>   \n",
    "\n",
    "Define any variables you might need to setup your model.\n",
    "</p>\n",
    "</div>"
   ]
  },
  {
   "cell_type": "code",
   "execution_count": null,
   "id": "d5cba9fe",
   "metadata": {},
   "outputs": [],
   "source": [
    "# YOUR_CODE_HERE\n",
    "\n",
    "# SOLUTION\n",
    "# Project data\n",
    "I = [90, 45, 78, 123, 48, 60]  # Environmental impact\n",
    "P = [120, 65, 99, 110, 33, 99]  # Profit\n",
    "\n",
    "# Minimum required profit\n",
    "beta = 250\n",
    "M = 100000\n",
    "\n",
    "# Number of projects and types\n",
    "num_projects = len(I)\n",
    "num_type1_projects = 3\n",
    "num_type2_projects = num_projects - num_type1_projects"
   ]
  },
  {
   "cell_type": "markdown",
   "id": "88d658e6",
   "metadata": {},
   "source": [
    "## Part 2: Create model with Gurobi\n",
    "\n",
    "**Remember that examples of using Gurobi to create and optimize a model are provided in the online textbook**, and generally consist of the following steps (the first instantiates a class and the rest are executed as methods of the class):\n",
    "\n",
    "1. Define the model (instantiate the class)\n",
    "2. Define variables\n",
    "3. Define objective function\n",
    "4. Add constraints\n",
    "5. Optimize the model\n",
    "\n",
    "Remember, you can always ask for help to understand a function of gurobi\n",
    "```\n",
    "help(gurobipy.model.addVars)\n",
    "```\n"
   ]
  },
  {
   "cell_type": "markdown",
   "id": "789ed5ae",
   "metadata": {},
   "source": [
    "<div style=\"background-color:#AABAB2; color: black; vertical-align: middle; padding:15px; margin: 10px; border-radius: 10px; width: 95%\">\n",
    "<p>\n",
    "<b>Task 4: Create the Gurobi model</b>   \n",
    "\n",
    "Create the Gurobi model, set your decision variables, your function and your constrains. Take a look at the book for an example implementation in Python if you don't know where to start.\n",
    "</p>\n",
    "</div>"
   ]
  },
  {
   "cell_type": "markdown",
   "id": "58f70d74",
   "metadata": {},
   "source": [
    "<div style=\"background-color:#FAE99E; color: black; vertical-align: middle; padding:15px; margin: 10px; border-radius: 10px; width: 95%\">\n",
    "<p>\n",
    "<b>Solution.</b>\n",
    "\n",
    "Each line of code does the following:\n",
    "\n",
    "1. Create a Gurobi model\n",
    "2. Add binary variables\n",
    "3. Objective function: Minimize environmental impact\n",
    "4. Constraint: Select exactly 3 projects\n",
    "5. Constraint: Number of type 2 projects must be at least as many as type 1 projects selected\n",
    "6. Constraint: Minimum profit requirement\n",
    "7. Optimize the model\n",
    "    \n",
    "</p>\n",
    "</div>"
   ]
  },
  {
   "cell_type": "code",
   "execution_count": null,
   "id": "8d008ba9",
   "metadata": {},
   "outputs": [],
   "source": [
    "# YOUR_CODE_HERE\n",
    "\n",
    "# SOLUTION\n",
    "model = gp.Model(\"Project_Selection\")\n",
    "x = model.addVars(num_projects, vtype=gp.GRB.BINARY, name=\"x\")\n",
    "model.setObjective(sum(I[i] * x[i] for i in range(num_projects)),\n",
    "                   gp.GRB.MINIMIZE)\n",
    "model.addConstr(x.sum() == 3, \"Select_Projects\")\n",
    "model.addConstr((sum(x[i] for i in range(num_type2_projects, num_projects))\n",
    "                 - sum(x[i] for i in range(num_type1_projects)) >= 0),\n",
    "                 \"Type_Constraint\")\n",
    "model.addConstr(sum(P[i] * x[i] for i in range(num_projects)) >= beta,\n",
    "                \"Minimum_Profit\")\n",
    "model.optimize()"
   ]
  },
  {
   "cell_type": "markdown",
   "id": "1380916b",
   "metadata": {},
   "source": [
    "<div style=\"background-color:#AABAB2; color: black; vertical-align: middle; padding:15px; margin: 10px; border-radius: 10px; width: 95%\">\n",
    "<p>\n",
    "<b>Task 5: Display your results</b>   \n",
    "\n",
    "Display the model in a good way to interpret and print the solution of the optimization.\n",
    "</p>\n",
    "</div>"
   ]
  },
  {
   "cell_type": "code",
   "execution_count": null,
   "id": "83ef8b18",
   "metadata": {},
   "outputs": [],
   "source": [
    "# YOUR_CODE_HERE\n",
    "\n",
    "# SOLUTION\n",
    "print(\"Model structure:\")        \n",
    "# see the model that you have built in a nice why to interpret\n",
    "model.display()  \n",
    "\n",
    "if model.status == gp.GRB.OPTIMAL:\n",
    "    print(\"Optimal Solution:\")\n",
    "    for i in range(num_projects):\n",
    "        if x[i].x > 0.9:\n",
    "            print(f\"Project {i+1}: Selected\")\n",
    "else:\n",
    "    print(\"No optimal solution found.\")\n",
    "\n",
    "    \n",
    "print(\"Optimal Objective function Value\", model.objVal)    "
   ]
  },
  {
   "cell_type": "markdown",
   "id": "e93fc43f",
   "metadata": {},
   "source": [
    "<div style=\"background-color:#AABAB2; color: black; vertical-align: middle; padding:15px; margin: 10px; border-radius: 10px; width: 95%\">\n",
    "<p>\n",
    "<b>Task 6: Additional constraint</b>   \n",
    "\n",
    "Solve the model with an additional constraint: if project 1 is done then the impact of all projects together should be lower than $\\gamma$ with $\\gamma=130$.\n",
    "\n",
    "Paste your model previous model, and call it <code>model2</code> to keep the results separated and add the new constraint. Then run your second model. \n",
    "\n",
    "</p>\n",
    "</div>"
   ]
  },
  {
   "cell_type": "code",
   "execution_count": null,
   "id": "9f2f9b6d",
   "metadata": {},
   "outputs": [],
   "source": [
    "# YOUR_CODE_HERE\n",
    "\n",
    "# SOLUTION\n",
    "model2 = gp.Model(\"Project_Selection\")\n",
    "x = model2.addVars(num_projects, vtype=gp.GRB.BINARY, name=\"x\")\n",
    "model2.setObjective(sum(I[i] * x[i] for i in range(num_projects)),\n",
    "                   gp.GRB.MINIMIZE)\n",
    "model2.addConstr(x.sum() == 3, \"Select_Projects\")\n",
    "model2.addConstr((sum(x[i] for i in range(num_type2_projects, num_projects))\n",
    "                 - sum(x[i] for i in range(num_type1_projects)) >= 0),\n",
    "                 \"Type_Constraint\")\n",
    "model2.addConstr(sum(P[i] * x[i] for i in range(num_projects)) >= beta,\n",
    "                \"Minimum_Profit\")\n",
    "# added constraint\n",
    "gamma = 130\n",
    "model2.addConstr((sum(I[i] * x[i] for i in range(num_projects))\n",
    "                 <= gamma * x[0]+ M * (1 - x[0])),\n",
    "                 \"Impact_Constraint\") \n",
    "\n"
   ]
  },
  {
   "cell_type": "code",
   "execution_count": null,
   "id": "19040bd6",
   "metadata": {},
   "outputs": [],
   "source": [
    "# YOUR_CODE_HERE\n",
    "\n",
    "# SOLUTION\n",
    "model2.optimize()\n",
    "\n",
    "print(\"Model structure:\")        \n",
    "# see the model that you have built in a nice why to interpret\n",
    "model2.display()  \n",
    "\n",
    "# Display the solution\n",
    "if model2.status == gp.GRB.OPTIMAL:\n",
    "    print(\"Optimal Solution:\")\n",
    "    for i in range(num_projects):\n",
    "        if x[i].x > 0.9:\n",
    "            print(f\"Project {i+1}: Selected\")\n",
    "else:\n",
    "    print(\"No optimal solution found.\")\n",
    "\n",
    "    \n",
    "print(\"Optimal Objective function Value\", model2.objVal)   "
   ]
  },
  {
   "cell_type": "markdown",
   "id": "603aea77",
   "metadata": {},
   "source": [
    "**End of notebook.**\n",
    "<h2 style=\"height: 60px\">\n",
    "</h2>\n",
    "<h3 style=\"position: absolute; display: flex; flex-grow: 0; flex-shrink: 0; flex-direction: row-reverse; bottom: 60px; right: 50px; margin: 0; border: 0\">\n",
    "    <style>\n",
    "        .markdown {width:100%; position: relative}\n",
    "        article { position: relative }\n",
    "    </style>\n",
    "    <a rel=\"license\" href=\"http://creativecommons.org/licenses/by/4.0/\">\n",
    "      <img alt=\"Creative Commons License\" style=\"border-width:; width:88px; height:auto; padding-top:10px\" src=\"https://i.creativecommons.org/l/by/4.0/88x31.png\" />\n",
    "    </a>\n",
    "    <a rel=\"TU Delft\" href=\"https://www.tudelft.nl/en/ceg\">\n",
    "      <img alt=\"TU Delft\" style=\"border-width:0; width:100px; height:auto; padding-bottom:0px\" src=\"https://gitlab.tudelft.nl/mude/public/-/raw/main/tu-logo/TU_P1_full-color.png\" />\n",
    "    </a>\n",
    "    <a rel=\"MUDE\" href=\"http://mude.citg.tudelft.nl/\">\n",
    "      <img alt=\"MUDE\" style=\"border-width:0; width:100px; height:auto; padding-bottom:0px\" src=\"https://gitlab.tudelft.nl/mude/public/-/raw/main/mude-logo/MUDE_Logo-small.png\" />\n",
    "    </a>\n",
    "    \n",
    "</h3>\n",
    "<span style=\"font-size: 75%\">\n",
    "&copy; Copyright 2024 <a rel=\"MUDE\" href=\"http://mude.citg.tudelft.nl/\">MUDE</a> TU Delft. This work is licensed under a <a rel=\"license\" href=\"http://creativecommons.org/licenses/by/4.0/\">CC BY 4.0 License</a>."
   ]
  }
 ],
 "metadata": {
  "language_info": {
   "name": "python"
  }
 },
 "nbformat": 4,
 "nbformat_minor": 5
}
