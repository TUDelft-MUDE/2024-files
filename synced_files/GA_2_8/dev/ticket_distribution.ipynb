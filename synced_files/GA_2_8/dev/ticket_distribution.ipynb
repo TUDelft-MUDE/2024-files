{
 "cells": [
  {
   "cell_type": "markdown",
   "metadata": {},
   "source": [
    "# Distribution of Tickets Purchased per Minute\n",
    "\n",
    "We have all bets from 2018, which gives us an idea of the number of tickets purchased for any minute of the day. See results elsewhere; the purpose of this notebook is to identify a suitable distribution for the number of tickets purchased per minute. It should satisfy these criteria:\n",
    "\n",
    "- easily produce discrete (integer) values >0\n",
    "- have an expected value provided by the (empirical model of) 2018 data, which is formulated as a continuous function that is then rounded to the nearest integer\n",
    "- statistics are captured well\n",
    "\n",
    "|  | Payout | No. Winners |\n",
    "| :--: | :--: | :--: | \n",
    "| mean\t  |  155960\t |10,3 |\n",
    "| median  |\t112500   | 7,0 |\n",
    "| mode\t  |  80000    | 1,0 |\n",
    "| std\t  |  97807    |10,8 |\n",
    "| min\t  |  800      | 1,0 |\n",
    "| max\t  |  363627   |58,0 |\n"
   ]
  },
  {
   "cell_type": "code",
   "execution_count": null,
   "metadata": {},
   "outputs": [],
   "source": [
    "%load_ext autoreload\n",
    "%autoreload 2\n",
    "import numpy as np\n",
    "import matplotlib.pyplot as plt\n",
    "from tickets import *\n",
    "from minutes import *\n",
    "from models import *"
   ]
  },
  {
   "cell_type": "code",
   "execution_count": null,
   "metadata": {},
   "outputs": [],
   "source": [
    "counts_2018 = np.genfromtxt('2018_count_250108_0209.csv', delimiter=',', skip_header=1)\n",
    "\n",
    "print(f\"Loaded {len(counts_2018)} rows of data\")\n",
    "print(f\"The shape is {counts_2018.shape}\")\n",
    "\n",
    "tickets_2018 = np.genfromtxt('2018_tickets_250108_0209.csv', delimiter=',', skip_header=1)\n",
    "\n",
    "print(f\"Loaded {len(tickets_2018)} rows of data\")\n",
    "print(f\"The shape is {tickets_2018.shape}\")"
   ]
  },
  {
   "cell_type": "code",
   "execution_count": null,
   "metadata": {},
   "outputs": [],
   "source": [
    "counts_2018[:5, :]"
   ]
  },
  {
   "cell_type": "code",
   "execution_count": null,
   "metadata": {},
   "outputs": [],
   "source": [
    "counts_array = Models.map_data_to_day_min(counts_2018[:,1], counts_2018[:,0])\n",
    "\n",
    "m = Models()\n",
    "m.plot(counts_array,\n",
    "       custom_label=\"Count for each ticket\",\n",
    "       custom_title=\"Count for each ticket\",\n",
    "       custom_colors='Greys')\n"
   ]
  },
  {
   "cell_type": "code",
   "execution_count": null,
   "metadata": {},
   "outputs": [],
   "source": [
    "day_min_tickets = Minutes.day_min(tickets_2018)\n",
    "day_min_counts = Minutes.day_min(counts_2018[:, 0])\n",
    "\n",
    "print(day_min_tickets.shape)\n",
    "print(day_min_counts.shape)\n",
    "print(f\"The mean day is {np.mean(day_min_tickets[:, 0])}\")\n",
    "print(f\"The std day is {np.std(day_min_tickets[:, 0])}\")\n",
    "print(f\"The mean min is {np.mean(day_min_tickets[:, 1])}\")\n",
    "print(f\"The std min is {np.std(day_min_tickets[:, 1])}\")\n",
    "\n",
    "# # Define the bin edges for x and y\n",
    "# x_bins = np.arange(10, 50, 1)\n",
    "# y_bins = np.arange(400, 1441, 60)\n",
    "\n",
    "# # Create the 2D histogram\n",
    "# plt.hist2d(day_min[:, 0], day_min[:, 1], bins=[x_bins, y_bins], cmap='viridis')\n",
    "\n",
    "# # Add color bar\n",
    "# plt.colorbar(label='Counts')\n",
    "\n",
    "# # Add labels and title\n",
    "# plt.xlabel('Column 0')\n",
    "# plt.ylabel('Column 1')\n",
    "# plt.title('2D Density Map')\n",
    "\n",
    "# # Show the plot\n",
    "# plt.show()"
   ]
  },
  {
   "cell_type": "code",
   "execution_count": null,
   "metadata": {},
   "outputs": [],
   "source": [
    "all = Tickets()\n",
    "all.add([[1, 60]])\n",
    "day_min_all = Minutes.day_min(all.tickets)"
   ]
  },
  {
   "cell_type": "code",
   "execution_count": null,
   "metadata": {},
   "outputs": [],
   "source": [
    "parameters = [np.mean(day_min_tickets[:, 0]),\n",
    "              np.std(day_min_tickets[:, 0]),\n",
    "              np.mean(day_min_tickets[:, 1]),\n",
    "              np.std(day_min_tickets[:, 1])]\n",
    "\n",
    "transform = Minutes.get_transform(parameters)\n",
    "\n",
    "day_c, min_c = transform(day_min_counts[:,0], day_min_counts[:,1])\n",
    "radius = Minutes.radius(day_c, min_c)\n",
    "\n",
    "day_a, min_a = transform(day_min_all[:,0], day_min_all[:,1])\n",
    "radius_a = Minutes.radius(day_a, min_a)\n",
    "\n",
    "print(day_a)\n",
    "\n",
    "m = Models(model_id=1)\n",
    "m.plot(Models.map_data_to_day_min(radius, counts_2018[:, 0]),\n",
    "       custom_label=\"Number of Std Devs from Mean\",\n",
    "       custom_title=\"Counts\",\n",
    "       custom_colors='summer')\n",
    "m.plot(Models.map_data_to_day_min(radius_a, all.tickets),\n",
    "       custom_label=\"Number of Std Devs from Mean\",\n",
    "       custom_title=\"Counts\",\n",
    "       custom_colors='summer')\n"
   ]
  },
  {
   "cell_type": "code",
   "execution_count": null,
   "metadata": {},
   "outputs": [],
   "source": [
    "print(np.max(radius_a))"
   ]
  },
  {
   "cell_type": "code",
   "execution_count": null,
   "metadata": {},
   "outputs": [],
   "source": [
    "intervals = np.arange(0, 4.75, 0.25)\n",
    "intervals = np.append(intervals, np.max(radius_a))\n",
    "\n",
    "di = evaluate_ticket_dist_i(intervals[0], intervals[1],\n",
    "                             radius, counts_2018[:, 1],\n",
    "                             radius_a)\n",
    "\n",
    "di.summarize_stats()\n",
    "fit=di.hist()\n",
    "print(fit)"
   ]
  },
  {
   "cell_type": "code",
   "execution_count": null,
   "metadata": {},
   "outputs": [],
   "source": [
    "d_all = evaluate_ticket_dist_all(intervals, radius, counts_2018[:, 1], radius_a)\n",
    "\n",
    "print(d_all)\n",
    "# Testing\n",
    "plt.plot(d_all[1].kde.pdf(np.arange(0,80,1)), label='All Tickets')"
   ]
  },
  {
   "cell_type": "code",
   "execution_count": null,
   "metadata": {},
   "outputs": [],
   "source": [
    "print('No.\\tstd0\\tstd1\\tChosen\\tTotal\\tUnchsn\\t%unch\\ttotal')\n",
    "for i, d in enumerate(d_all):\n",
    "    print(f\"{i}\"\n",
    "          +f\"\\t{d.range[0]:.2f}\"\n",
    "          +f\"\\t{d.range[1]:.2f}\"\n",
    "          +f\"\\t{d.N_chosen}\"\n",
    "          +f\"\\t{d.N_total}\"\n",
    "          +f\"\\t{d.N_unchosen}\"\n",
    "          +f\"\\t{(1-(d.N_chosen/d.N_total))*100:.2f}\"\n",
    "          +f\"\\t{int(np.sum(d.counts))}\")"
   ]
  },
  {
   "cell_type": "code",
   "execution_count": null,
   "metadata": {},
   "outputs": [],
   "source": [
    "from matplotlib.pylab import f\n",
    "\n",
    "\n",
    "print('No.\\tstd1\\t%unch\\tmode\\tN_mode\\t%_mode\\tmedian\\tmean\\tstd\\tmin\\tmax')\n",
    "for i, d in enumerate(d_all):\n",
    "    print(f\"{i}\"\n",
    "          +f\"\\t{d.range[1]:.2f}\"\n",
    "          +f\"\\t{d.N_chosen/d.N_total*100:.2f}\"\n",
    "          +f\"\\t{d.stats['mode']:.2f}\"\n",
    "          +f\"\\t{d.stats['mode_count']}\"\n",
    "          +f\"\\t{d.stats['mode_count']/d.N_chosen*100:.0f}\"\n",
    "          +f\"\\t{d.stats['median']:.2f}\"\n",
    "          +f\"\\t{d.stats['mean']:.2f}\"\n",
    "          +f\"\\t{d.stats['std']:.2f}\"\n",
    "          +f\"\\t{d.stats['min']:.2f}\"\n",
    "          +f\"\\t{d.stats['max']:.2f}\")\n",
    "          "
   ]
  },
  {
   "cell_type": "code",
   "execution_count": null,
   "metadata": {},
   "outputs": [],
   "source": [
    "f = d_all[1].hist()"
   ]
  },
  {
   "cell_type": "code",
   "execution_count": null,
   "metadata": {},
   "outputs": [],
   "source": [
    "for i in range(len(d_all)):\n",
    "    d_all[i].hist(include_zeros=True)"
   ]
  },
  {
   "cell_type": "code",
   "execution_count": null,
   "metadata": {},
   "outputs": [],
   "source": [
    "with open('pickles/List_of_radial_object.pkl', 'wb') as f:\n",
    "    pickle.dump(d_all, f)\n",
    "\n",
    "print(\"RadialDist list saved to 'radial_dist_list.pkl'\")"
   ]
  },
  {
   "cell_type": "markdown",
   "metadata": {},
   "source": []
  },
  {
   "cell_type": "code",
   "execution_count": null,
   "metadata": {},
   "outputs": [],
   "source": []
  },
  {
   "cell_type": "markdown",
   "metadata": {},
   "source": [
    "**End of notebook.**\n",
    "\n",
    "<div style=\"margin-top: 50px; padding-top: 20px; border-top: 1px solid #ccc;\">\n",
    "  <div style=\"display: flex; justify-content: flex-end; gap: 20px; align-items: center;\">\n",
    "    <a rel=\"MUDE\" href=\"http://mude.citg.tudelft.nl/\">\n",
    "      <img alt=\"MUDE\" style=\"width:100px; height:auto;\" src=\"https://gitlab.tudelft.nl/mude/public/-/raw/main/mude-logo/MUDE_Logo-small.png\" />\n",
    "    </a>\n",
    "    <a rel=\"TU Delft\" href=\"https://www.tudelft.nl/en/ceg\">\n",
    "      <img alt=\"TU Delft\" style=\"width:100px; height:auto;\" src=\"https://gitlab.tudelft.nl/mude/public/-/raw/main/tu-logo/TU_P1_full-color.png\" />\n",
    "    </a>\n",
    "    <a rel=\"license\" href=\"http://creativecommons.org/licenses/by/4.0/\">\n",
    "      <img alt=\"Creative Commons License\" style=\"width:88px; height:auto;\" src=\"https://i.creativecommons.org/l/by/4.0/88x31.png\" />\n",
    "    </a>\n",
    "  </div>\n",
    "  <div style=\"font-size: 75%; margin-top: 10px; text-align: right;\">\n",
    "    By <a rel=\"MUDE\" href=\"http://mude.citg.tudelft.nl/\">MUDE Team</a>\n",
    "    &copy; 2024 TU Delft. \n",
    "    <a rel=\"license\" href=\"http://creativecommons.org/licenses/by/4.0/\">CC BY 4.0</a>.\n",
    "    <a rel=\"Zenodo DOI\" href=\"https://doi.org/10.5281/zenodo.16782515\"><img style=\"width:auto; height:15; vertical-align:middle\" src=\"https://zenodo.org/badge/DOI/10.5281/zenodo.16782515.svg\" alt=\"DOI https://doi.org/10.5281/zenodo.16782515\"></a>\n",
    "  </div>\n",
    "</div>\n",
    "\n",
    "\n",
    "<!--tested with WS_2_8_solution.ipynb-->"
   ]
  }
 ],
 "metadata": {
  "language_info": {
   "name": "python"
  }
 },
 "nbformat": 4,
 "nbformat_minor": 2
}
