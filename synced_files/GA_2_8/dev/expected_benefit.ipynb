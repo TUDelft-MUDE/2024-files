{
 "cells": [
  {
   "cell_type": "code",
   "execution_count": null,
   "metadata": {},
   "outputs": [],
   "source": [
    "%load_ext autoreload\n",
    "%autoreload 2"
   ]
  },
  {
   "cell_type": "code",
   "execution_count": null,
   "metadata": {},
   "outputs": [],
   "source": [
    "import numpy as np\n",
    "import matplotlib.pyplot as plt\n",
    "# from vis import *\n",
    "from tickets import *\n",
    "from minutes import *\n",
    "from models import *"
   ]
  },
  {
   "cell_type": "code",
   "execution_count": null,
   "metadata": {},
   "outputs": [],
   "source": [
    "t = Tickets()\n",
    "t.add([[1,60]])\n"
   ]
  },
  {
   "cell_type": "code",
   "execution_count": null,
   "metadata": {},
   "outputs": [],
   "source": [
    "m = Models(model_id=2)\n",
    "prob = m.pickle_picker('load', 0)\n",
    "exp_t = m.pickle_picker('load', 1)\n",
    "\n"
   ]
  },
  {
   "cell_type": "code",
   "execution_count": null,
   "metadata": {},
   "outputs": [],
   "source": [
    "def compute_expectation(p, E_N_w,\n",
    "                        W=300000, ticket_cost=3):\n",
    "\n",
    "    ticket_cost = 3\n",
    "    N_t = len(p)\n",
    "    I = ticket_cost*N_t\n",
    "\n",
    "    expected_winnings = p*W\n",
    "    expected_winnings_shared = expected_winnings/(E_N_w + 1)\n",
    "    expected_net_benefit = expected_winnings_shared - ticket_cost\n",
    "\n",
    "    print(f\"Expected winnings: \\t\\t{np.sum(expected_winnings):10.2e}\")\n",
    "    print(f\"Expected winnings shared: \\t{np.sum(expected_winnings_shared):10.2e}\")\n",
    "    print(f\"Expected net benefit: \\t\\t{np.sum(expected_net_benefit):10.2e}\")\n",
    "    print(f\"Benefit:Cost ratio B/C: \\t{np.sum(expected_winnings_shared)/I:10.3f}\")\n",
    "    print(f\"  no. where B/C > 1: \\t\\t{int(np.sum(expected_winnings_shared > ticket_cost))}\")\n",
    "    print(f\"  no. where B/C < 1: \\t\\t{int(np.sum(expected_winnings_shared < ticket_cost))}\")\n",
    "\n",
    "    return expected_net_benefit"
   ]
  },
  {
   "cell_type": "code",
   "execution_count": null,
   "metadata": {},
   "outputs": [],
   "source": [
    "\n",
    "# expected_winnings = prob*m.winnings\n",
    "# expected_winnings_shared = expected_winnings/(exp_t + 1)\n",
    "# expected_benefit = expected_winnings_shared - m.cost\n",
    "\n",
    "# print(f\"Expected winnings: \\t\\t{np.sum(expected_winnings):10.2e}\")\n",
    "# print(f\"Expected winnings shared: \\t{np.sum(expected_winnings_shared):10.2e}\")\n",
    "# print(f\"Expected benefit: \\t\\t{np.sum(expected_benefit):10.2e}\")\n",
    "\n",
    "# m.plot(expected_benefit)\n",
    "\n",
    "\n",
    "enb = compute_expectation(prob, exp_t);"
   ]
  },
  {
   "cell_type": "code",
   "execution_count": null,
   "metadata": {},
   "outputs": [],
   "source": [
    "def summarize_array(arr, name):\n",
    "    summary = {\n",
    "        'mean': np.nanmean(arr),\n",
    "        'min': np.nanmin(arr),\n",
    "        'max': np.nanmax(arr),\n",
    "        'num_zeros': np.sum(arr == 0),\n",
    "        'num_nans_or_infs': np.sum(np.isnan(arr) | np.isinf(arr)),\n",
    "        'sum': np.nansum(arr)\n",
    "    }\n",
    "    print(f\"Summary for {name}:\")\n",
    "    for key, value in summary.items():\n",
    "        if isinstance(value, float):\n",
    "            print(f\"{key}: {value:.3e}\")\n",
    "        else:\n",
    "            print(f\"{key}: {value}\")\n",
    "    print(\"\\n\")\n",
    "\n",
    "summarize_array(prob, 'prob')\n",
    "summarize_array(m.winnings, 'm.winnings')\n",
    "summarize_array(exp_t, 'exp_t')\n",
    "summarize_array(enb, 'enb')"
   ]
  },
  {
   "cell_type": "code",
   "execution_count": null,
   "metadata": {},
   "outputs": [],
   "source": [
    "type(t.tickets[4])"
   ]
  },
  {
   "cell_type": "code",
   "execution_count": null,
   "metadata": {},
   "outputs": [],
   "source": [
    "t = Tickets()\n",
    "t.add([[15,50], [6, 22]])\n",
    "t.status()"
   ]
  },
  {
   "cell_type": "code",
   "execution_count": null,
   "metadata": {},
   "outputs": [],
   "source": [
    "t_p_and_n = np.zeros((t.N(), 2))\n",
    "for i in range(t.N()):\n",
    "    t_p_and_n[i, 0] = m.get_p([t.tickets[i]])\n",
    "    t_p_and_n[i, 1] = m.get_expected_tickets([t.tickets[i]])"
   ]
  },
  {
   "cell_type": "code",
   "execution_count": null,
   "metadata": {},
   "outputs": [],
   "source": [
    "enb = compute_expectation(t_p_and_n[:, 0], t_p_and_n[:, 1])\n",
    "enb_sparse = Models.data_zeros(t.tickets, enb)\n",
    "m.plot(enb_sparse)"
   ]
  },
  {
   "cell_type": "markdown",
   "metadata": {},
   "source": [
    "**End of notebook.**\n",
    "\n",
    "<div style=\"margin-top: 50px; padding-top: 20px; border-top: 1px solid #ccc;\">\n",
    "  <div style=\"display: flex; justify-content: flex-end; gap: 20px; align-items: center;\">\n",
    "    <a rel=\"MUDE\" href=\"http://mude.citg.tudelft.nl/\">\n",
    "      <img alt=\"MUDE\" style=\"width:100px; height:auto;\" src=\"https://gitlab.tudelft.nl/mude/public/-/raw/main/mude-logo/MUDE_Logo-small.png\" />\n",
    "    </a>\n",
    "    <a rel=\"TU Delft\" href=\"https://www.tudelft.nl/en/ceg\">\n",
    "      <img alt=\"TU Delft\" style=\"width:100px; height:auto;\" src=\"https://gitlab.tudelft.nl/mude/public/-/raw/main/tu-logo/TU_P1_full-color.png\" />\n",
    "    </a>\n",
    "    <a rel=\"license\" href=\"http://creativecommons.org/licenses/by/4.0/\">\n",
    "      <img alt=\"Creative Commons License\" style=\"width:88px; height:auto;\" src=\"https://i.creativecommons.org/l/by/4.0/88x31.png\" />\n",
    "    </a>\n",
    "  </div>\n",
    "  <div style=\"font-size: 75%; margin-top: 10px; text-align: right;\">\n",
    "    By <a rel=\"MUDE\" href=\"http://mude.citg.tudelft.nl/\">MUDE Team</a>\n",
    "    &copy; 2024 TU Delft. \n",
    "    <a rel=\"license\" href=\"http://creativecommons.org/licenses/by/4.0/\">CC BY 4.0</a>.\n",
    "    <a rel=\"Zenodo DOI\" href=\"https://doi.org/10.5281/zenodo.16782515\"><img style=\"width:auto; height:15; vertical-align:middle\" src=\"https://zenodo.org/badge/DOI/10.5281/zenodo.16782515.svg\" alt=\"DOI https://doi.org/10.5281/zenodo.16782515\"></a>\n",
    "  </div>\n",
    "</div>\n",
    "\n",
    "\n",
    "<!--tested with WS_2_8_solution.ipynb-->"
   ]
  }
 ],
 "metadata": {
  "language_info": {
   "name": "python"
  }
 },
 "nbformat": 4,
 "nbformat_minor": 2
}
