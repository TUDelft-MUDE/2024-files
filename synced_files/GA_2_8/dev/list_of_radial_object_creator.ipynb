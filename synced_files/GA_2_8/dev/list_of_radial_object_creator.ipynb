{
 "cells": [
  {
   "cell_type": "markdown",
   "metadata": {},
   "source": [
    "somehhow this was used to create the pkl file `List_of_radial_object_all_minutes.pkl` or `List_of_radial_object.pkl`"
   ]
  },
  {
   "cell_type": "code",
   "execution_count": null,
   "metadata": {},
   "outputs": [],
   "source": [
    "%load_ext autoreload\n",
    "%autoreload 2\n",
    "import numpy as np\n",
    "import matplotlib.pyplot as plt\n",
    "import scipy.stats as stats\n",
    "from tickets import *\n",
    "from minutes import *\n",
    "from models import *"
   ]
  },
  {
   "cell_type": "code",
   "execution_count": null,
   "metadata": {},
   "outputs": [],
   "source": []
  },
  {
   "cell_type": "code",
   "execution_count": null,
   "metadata": {},
   "outputs": [],
   "source": [
    "counts_2018 = np.genfromtxt('2018_count_250108_0209.csv', delimiter=',', skip_header=1)\n",
    "day_min_counts = Minutes.day_min(counts_2018[:, 0])\n",
    "print(f\"Loaded {len(counts_2018)} rows of data\")\n",
    "print(f\"The shape is {day_min_counts.shape}\")\n",
    "\n",
    "tickets_2018 = np.genfromtxt('2018_tickets_250108_0209.csv', delimiter=',', skip_header=1)\n",
    "day_min_tickets = Minutes.day_min(tickets_2018)\n",
    "print(f\"Loaded {len(day_min_tickets)} rows of data\")\n",
    "print(f\"The shape is {tickets_2018.shape}\")\n",
    "print()\n",
    "print(f\"The mean day is {np.mean(day_min_tickets[:, 0])}\")\n",
    "print(f\"The std day is {np.std(day_min_tickets[:, 0])}\")\n",
    "print(f\"The mean min is {np.mean(day_min_tickets[:, 1])}\")\n",
    "print(f\"The std min is {np.std(day_min_tickets[:, 1])}\")"
   ]
  },
  {
   "cell_type": "code",
   "execution_count": null,
   "metadata": {},
   "outputs": [],
   "source": [
    "all = Tickets()\n",
    "all.add([[1, 60]])\n",
    "day_min_all = Minutes.day_min(all.tickets)\n",
    "\n",
    "parameters = [np.mean(day_min_tickets[:, 0]),\n",
    "              np.std(day_min_tickets[:, 0]),\n",
    "              np.mean(day_min_tickets[:, 1]),\n",
    "              np.std(day_min_tickets[:, 1])]\n",
    "\n",
    "transform = Minutes.get_transform(parameters)\n",
    "\n",
    "day_c, min_c = transform(day_min_counts[:,0], day_min_counts[:,1])\n",
    "radius_c = Minutes.radius(day_c, min_c)\n",
    "\n",
    "day_a, min_a = transform(day_min_all[:,0], day_min_all[:,1])\n",
    "radius_a = Minutes.radius(day_a, min_a)\n",
    "\n",
    "radius_max = np.max(radius_a)\n",
    "\n",
    "print(f\"Maximum radius is: {radius_max:.3f}\")"
   ]
  },
  {
   "cell_type": "code",
   "execution_count": null,
   "metadata": {},
   "outputs": [],
   "source": [
    "def get_band_distribution(minute,\n",
    "                          radius_c, counts_2018, radius_a, transform,\n",
    "                          std_increment=0.125):\n",
    "\n",
    "    day_c, min_c = Minutes.get_day_min(minute[0])\n",
    "    day_t, min_t = transform(day_c, min_c)\n",
    "    radius = Minutes.radius(day_t, min_t)\n",
    "    \n",
    "    if isinstance(std_increment, list):\n",
    "        assert len(std_increment) == 2, \"std_increment list must have two values\"\n",
    "        radius_min = radius - std_increment[0]\n",
    "        radius_max = radius + std_increment[1]\n",
    "    elif isinstance(std_increment, float):\n",
    "        radius_min = radius - std_increment\n",
    "        radius_max = radius + std_increment\n",
    "    else:\n",
    "        raise ValueError(\"std_increment must be a list of length 2 or a float\")\n",
    "    \n",
    "    if radius_min < 0:\n",
    "        d_radius = radius_max - radius_min\n",
    "        radius_min = 0\n",
    "        radius_max = d_radius\n",
    "\n",
    "    if radius_max > max(radius_a):\n",
    "        d_radius = radius_max - radius_min\n",
    "        radius_min = radius_min - d_radius\n",
    "        radius_max = max(radius_a)\n",
    "        \n",
    "    d = evaluate_ticket_dist_i(radius_min, radius_max,\n",
    "                             radius_c, counts_2018[:, 1],\n",
    "                             radius_a)\n",
    "    return d"
   ]
  },
  {
   "cell_type": "code",
   "execution_count": null,
   "metadata": {},
   "outputs": [],
   "source": [
    "# minute = Minutes.get_minutes([['April'], 25, 13, 10])\n",
    "minute = Minutes.get_minutes([['April'], 29, 13, 30])\n",
    "print(f\"Minute: {minute[0]}\")\n",
    "\n",
    "d = get_band_distribution(minute,\n",
    "                          radius_c, counts_2018, radius_a, transform,\n",
    "                          std_increment=[.2, .2])\n",
    "d.hist();"
   ]
  },
  {
   "cell_type": "code",
   "execution_count": null,
   "metadata": {},
   "outputs": [],
   "source": [
    "minutes = np.arange(0,60*1440).tolist()\n",
    "\n",
    "dist_all_minutes = []\n",
    "\n",
    "for minute in minutes:\n",
    "\n",
    "    dist_all_minutes.append(\n",
    "        get_band_distribution(\n",
    "            [minute], radius_c, counts_2018,\n",
    "            radius_a, transform, std_increment=0.125\n",
    "            )\n",
    "            )\n"
   ]
  },
  {
   "cell_type": "code",
   "execution_count": null,
   "metadata": {},
   "outputs": [],
   "source": [
    "with open('pickles/List_of_radial_object_all_minutes.pkl', 'wb') as f:\n",
    "    pickle.dump(dist_all_minutes, f)\n",
    "\n",
    "print(\"RadialDist list saved to 'List_of_radial_object_all_minutes.pkl'\")"
   ]
  },
  {
   "cell_type": "markdown",
   "metadata": {},
   "source": [
    "**End of notebook.**\n",
    "\n",
    "<div style=\"margin-top: 50px; padding-top: 20px; border-top: 1px solid #ccc;\">\n",
    "  <div style=\"display: flex; justify-content: flex-end; gap: 20px; align-items: center;\">\n",
    "    <a rel=\"MUDE\" href=\"http://mude.citg.tudelft.nl/\">\n",
    "      <img alt=\"MUDE\" style=\"width:100px; height:auto;\" src=\"https://gitlab.tudelft.nl/mude/public/-/raw/main/mude-logo/MUDE_Logo-small.png\" />\n",
    "    </a>\n",
    "    <a rel=\"TU Delft\" href=\"https://www.tudelft.nl/en/ceg\">\n",
    "      <img alt=\"TU Delft\" style=\"width:100px; height:auto;\" src=\"https://gitlab.tudelft.nl/mude/public/-/raw/main/tu-logo/TU_P1_full-color.png\" />\n",
    "    </a>\n",
    "    <a rel=\"license\" href=\"http://creativecommons.org/licenses/by/4.0/\">\n",
    "      <img alt=\"Creative Commons License\" style=\"width:88px; height:auto;\" src=\"https://i.creativecommons.org/l/by/4.0/88x31.png\" />\n",
    "    </a>\n",
    "  </div>\n",
    "  <div style=\"font-size: 75%; margin-top: 10px; text-align: right;\">\n",
    "    By <a rel=\"MUDE\" href=\"http://mude.citg.tudelft.nl/\">MUDE Team</a>\n",
    "    &copy; 2024 TU Delft. \n",
    "    <a rel=\"license\" href=\"http://creativecommons.org/licenses/by/4.0/\">CC BY 4.0</a>.\n",
    "    <a rel=\"Zenodo DOI\" href=\"https://doi.org/10.5281/zenodo.16782515\"><img style=\"width:auto; height:15; vertical-align:middle\" src=\"https://zenodo.org/badge/DOI/10.5281/zenodo.16782515.svg\" alt=\"DOI https://doi.org/10.5281/zenodo.16782515\"></a>\n",
    "  </div>\n",
    "</div>\n",
    "\n",
    "\n",
    "<!--tested with WS_2_8_solution.ipynb-->"
   ]
  }
 ],
 "metadata": {
  "language_info": {
   "name": "python"
  }
 },
 "nbformat": 4,
 "nbformat_minor": 2
}
