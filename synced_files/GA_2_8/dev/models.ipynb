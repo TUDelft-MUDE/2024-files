{
 "cells": [
  {
   "cell_type": "code",
   "execution_count": null,
   "metadata": {},
   "outputs": [],
   "source": [
    "import numpy as np\n",
    "import matplotlib.pyplot as plt\n"
   ]
  },
  {
   "cell_type": "code",
   "execution_count": null,
   "metadata": {},
   "outputs": [],
   "source": [
    "\n",
    "x = np.array([0, 36, 62, 96])\n",
    "y = np.array([0, 3e5, 3.2e6, 1e5])\n",
    "\n",
    "x *= 15\n",
    "y /= 3.2e6\n",
    "print(x)\n",
    "print(y)"
   ]
  },
  {
   "cell_type": "code",
   "execution_count": null,
   "metadata": {},
   "outputs": [],
   "source": [
    "%load_ext autoreload\n",
    "%autoreload 2"
   ]
  },
  {
   "cell_type": "code",
   "execution_count": null,
   "metadata": {},
   "outputs": [],
   "source": [
    "import numpy as np\n",
    "import matplotlib.pyplot as plt\n",
    "# from vis import *\n",
    "from tickets import *\n",
    "from minutes import *\n",
    "from models import *"
   ]
  },
  {
   "cell_type": "code",
   "execution_count": null,
   "metadata": {},
   "outputs": [],
   "source": [
    "m = Models(model_id=1)\n",
    "m.plot(1)"
   ]
  },
  {
   "cell_type": "code",
   "execution_count": null,
   "metadata": {},
   "outputs": [],
   "source": [
    "max(scaled_minutes)"
   ]
  },
  {
   "cell_type": "code",
   "execution_count": null,
   "metadata": {},
   "outputs": [],
   "source": [
    "expected_tickets, scale_day, scale_minute = m.ticket_model_1(m.ticket_model_dict)\n",
    "\n",
    "fig, axs = plt.subplots(2, 1, figsize=(10, 12))\n",
    "\n",
    "# Scaled minutes subplot\n",
    "minutes = np.arange(0, 1441)\n",
    "scaled_minutes = [scale_minute(minute) for minute in minutes]\n",
    "axs[0].plot(minutes, scaled_minutes)\n",
    "axs[0].set_title('Scaled Minutes')\n",
    "axs[0].set_xlabel('Minutes')\n",
    "axs[0].set_ylabel('Scaled Value')\n",
    "\n",
    "# Scaled days subplot\n",
    "days = range(61)\n",
    "scaled_days = [scale_day(day) for day in days]\n",
    "axs[1].plot(days, scaled_days)\n",
    "axs[1].set_title('Scaled Days')\n",
    "axs[1].set_xlabel('Days')\n",
    "axs[1].set_ylabel('Scaled Value')\n",
    "\n",
    "\n",
    "# Set y-limits for all subplots\n",
    "for ax in axs:\n",
    "    ax.set_ylim(0, 1)\n",
    "\n",
    "plt.tight_layout()\n",
    "plt.show()"
   ]
  },
  {
   "cell_type": "code",
   "execution_count": null,
   "metadata": {},
   "outputs": [],
   "source": [
    "print(expected_tickets(33, 863))\n",
    "print(m.get_expected_tickets(33, 863))"
   ]
  },
  {
   "cell_type": "code",
   "execution_count": null,
   "metadata": {},
   "outputs": [],
   "source": [
    "reference_day = 33\n",
    "reference_min = 863\n",
    "\n",
    "fig, axs = plt.subplots(3, 1, figsize=(10, 18))\n",
    "\n",
    "# Expected minutes subplot for varying minutes\n",
    "expected_tickets_for_minutes = [expected_tickets(reference_day, minute) for minute in minutes]\n",
    "axs[0].plot(minutes, expected_tickets_for_minutes)\n",
    "axs[0].set_title('Expected Minutes for Varying Minutes')\n",
    "axs[0].set_xlabel('Minutes')\n",
    "axs[0].set_ylabel('Expected Minutes')\n",
    "\n",
    "# Expected minutes subplot for varying days\n",
    "expected_tickets_for_days = [expected_tickets(day, reference_min) for day in days]\n",
    "axs[1].plot(days, expected_tickets_for_days)\n",
    "axs[1].set_title('Expected Minutes for Varying Days')\n",
    "axs[1].set_xlabel('Days')\n",
    "axs[1].set_ylabel('Expected Minutes')\n",
    "\n",
    "# Expected minutes subplot for decreasing minutes by 30 each day\n",
    "decreasing_minutes = [reference_min - 30 * (day - reference_day) for day in days]\n",
    "expected_tickets_for_decreasing_minutes = [expected_tickets(day, minute) for day, minute in zip(days, decreasing_minutes)]\n",
    "axs[2].plot(days, expected_tickets_for_decreasing_minutes)\n",
    "axs[2].set_title('Expected Minutes for Decreasing Minutes by 30 Each Day')\n",
    "axs[2].set_xlabel('Days')\n",
    "axs[2].set_ylabel('Expected Minutes')\n",
    "\n",
    "plt.tight_layout()\n",
    "plt.show()"
   ]
  },
  {
   "cell_type": "markdown",
   "metadata": {},
   "source": [
    "**End of notebook.**\n",
    "\n",
    "<div style=\"margin-top: 50px; padding-top: 20px; border-top: 1px solid #ccc;\">\n",
    "  <div style=\"display: flex; justify-content: flex-end; gap: 20px; align-items: center;\">\n",
    "    <a rel=\"MUDE\" href=\"http://mude.citg.tudelft.nl/\">\n",
    "      <img alt=\"MUDE\" style=\"width:100px; height:auto;\" src=\"https://gitlab.tudelft.nl/mude/public/-/raw/main/mude-logo/MUDE_Logo-small.png\" />\n",
    "    </a>\n",
    "    <a rel=\"TU Delft\" href=\"https://www.tudelft.nl/en/ceg\">\n",
    "      <img alt=\"TU Delft\" style=\"width:100px; height:auto;\" src=\"https://gitlab.tudelft.nl/mude/public/-/raw/main/tu-logo/TU_P1_full-color.png\" />\n",
    "    </a>\n",
    "    <a rel=\"license\" href=\"http://creativecommons.org/licenses/by/4.0/\">\n",
    "      <img alt=\"Creative Commons License\" style=\"width:88px; height:auto;\" src=\"https://i.creativecommons.org/l/by/4.0/88x31.png\" />\n",
    "    </a>\n",
    "  </div>\n",
    "  <div style=\"font-size: 75%; margin-top: 10px; text-align: right;\">\n",
    "    By <a rel=\"MUDE\" href=\"http://mude.citg.tudelft.nl/\">MUDE Team</a>\n",
    "    &copy; 2024 TU Delft. \n",
    "    <a rel=\"license\" href=\"http://creativecommons.org/licenses/by/4.0/\">CC BY 4.0</a>.\n",
    "    <a rel=\"Zenodo DOI\" href=\"https://doi.org/10.5281/zenodo.16782515\"><img style=\"width:auto; height:15; vertical-align:middle\" src=\"https://zenodo.org/badge/DOI/10.5281/zenodo.16782515.svg\" alt=\"DOI https://doi.org/10.5281/zenodo.16782515\"></a>\n",
    "  </div>\n",
    "</div>\n",
    "\n",
    "\n",
    "<!--tested with WS_2_8_solution.ipynb-->"
   ]
  }
 ],
 "metadata": {
  "language_info": {
   "name": "python"
  }
 },
 "nbformat": 4,
 "nbformat_minor": 2
}
