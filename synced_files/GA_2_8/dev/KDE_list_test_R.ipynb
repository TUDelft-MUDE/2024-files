{
 "cells": [
  {
   "cell_type": "code",
   "execution_count": null,
   "metadata": {},
   "outputs": [],
   "source": [
    "%load_ext autoreload\n",
    "%autoreload 2\n",
    "import pickle\n",
    "import numpy as np\n",
    "import matplotlib.pyplot as plt\n",
    "from minutes import *\n",
    "\n",
    "import random\n",
    "import matplotlib.cm as cm\n",
    "\n",
    "with open('pickles\\List_of_kde_scaled.pkl', 'rb') as f:\n",
    "    loaded_radial_dist_list = pickle.load(f)\n",
    "\n",
    "\n"
   ]
  },
  {
   "cell_type": "code",
   "execution_count": null,
   "metadata": {},
   "outputs": [],
   "source": [
    "loaded_radial_dist_list[0]\n",
    "loaded_radial_dist_list[32484][20]"
   ]
  },
  {
   "cell_type": "code",
   "execution_count": null,
   "metadata": {},
   "outputs": [],
   "source": [
    "print(len(loaded_radial_dist_list))\n",
    "\n",
    "# for list in loaded_radial_dist_list:\n",
    "#     print(len(list))\n",
    "\n",
    "loaded_list_lengths = [len(list) for list in loaded_radial_dist_list]\n",
    "loaded_list_sum = [np.array(array).sum() for array in loaded_radial_dist_list]\n",
    "loaded_list_sum = np.array(loaded_list_sum)\n",
    "print(f\"The maximum length of the lists is {max(loaded_list_lengths)}\")\n",
    "print(f\"{sum(loaded_list_sum[np.isclose(loaded_list_sum,1.0,rtol=0.001)])} lists have a sum of 1.0\")\n",
    "\n",
    "loaded_list_zeros = [array[0]==0 for array in loaded_radial_dist_list]\n",
    "print(f\"{sum(loaded_list_zeros)} lists have a zero value at the first index\")\n",
    "print(f\" (this is {sum(loaded_list_zeros)/len(loaded_list_zeros)*100:.2f}% of the lists)\")\n",
    "\n",
    "fig, ax1 = plt.subplots(figsize=(15, 5))\n",
    "\n",
    "color = 'tab:blue'\n",
    "ax1.set_xlabel('List Length')\n",
    "ax1.set_ylabel('Number of Lists', color=color)\n",
    "ax1.hist(loaded_list_lengths, bins=50, color=color, alpha=0.6)\n",
    "ax1.tick_params(axis='y', labelcolor=color)\n",
    "\n",
    "ax2 = ax1.twinx()\n",
    "color = 'tab:red'\n",
    "ax2.set_ylabel('Cumulative Distribution', color=color)\n",
    "ax2.hist(loaded_list_lengths, bins=50, cumulative=True, color=color, alpha=0.6)\n",
    "ax2.tick_params(axis='y', labelcolor=color)\n",
    "\n",
    "fig.tight_layout()\n",
    "plt.title('Histogram and Cumulative Distribution of List Lengths')\n",
    "plt.show()\n"
   ]
  },
  {
   "cell_type": "code",
   "execution_count": null,
   "metadata": {},
   "outputs": [],
   "source": [
    "len(loaded_radial_dist_list)"
   ]
  },
  {
   "cell_type": "code",
   "execution_count": null,
   "metadata": {},
   "outputs": [],
   "source": [
    "n_plots = 20\n",
    "random_indices = random.sample(range(len(loaded_radial_dist_list)), n_plots)\n",
    "biggest_indices = sorted(range(len(loaded_radial_dist_list)), key=lambda i: len(loaded_radial_dist_list[i]), reverse=True)[:n_plots]\n",
    "\n",
    "plot_indices = [random_indices, biggest_indices]\n",
    "\n",
    "plt.figure(figsize=(15, 5))\n",
    "for idx in plot_indices[0]:\n",
    "    rd = loaded_radial_dist_list[idx]\n",
    "    plt.plot(rd, label=f'minute: {idx}')  \n",
    " \n",
    "\n",
    "\n",
    "\n",
    "plt.legend()\n",
    "plt.title('Random Radial Distribution with Indices')\n",
    "plt.xlabel('Count')\n",
    "plt.ylabel('density')\n",
    "plt.show()"
   ]
  },
  {
   "cell_type": "code",
   "execution_count": null,
   "metadata": {},
   "outputs": [],
   "source": [
    "from models import sample_integer\n",
    "\n",
    "def plot_sample_distribution(sample, probabilities):\n",
    "    plt.figure(figsize=(10, 6))\n",
    "    plt.hist(sample, bins=np.arange(len(probabilities) + 1), density=True, alpha=0.6, color='g', label='Sampled Density')\n",
    "\n",
    "    # Verification plot\n",
    "    plt.plot(np.arange(len(probabilities)), probabilities, 'ro-', label='True Probabilities')\n",
    "\n",
    "    plt.xlabel('Value')\n",
    "    plt.ylabel('Density')\n",
    "    plt.title('Histogram of Sampled Values with True Probabilities')\n",
    "    plt.legend()\n",
    "    plt.show()\n",
    "\n",
    "minute = 5*1440 + 60*13 + 1\n",
    "print(minute)\n",
    "\n",
    "# Example usage\n",
    "probabilities = loaded_radial_dist_list[minute]\n",
    "sample_size = 1000\n",
    "sample = sample_integer(probabilities, sample_size)\n",
    "\n",
    "plot_sample_distribution(sample, probabilities)\n"
   ]
  },
  {
   "cell_type": "code",
   "execution_count": null,
   "metadata": {},
   "outputs": [],
   "source": [
    "from models import sample_ticket\n",
    "\n",
    "ticket_sample_criteria = [0.05, 10]\n",
    "probabilities = loaded_radial_dist_list[0]#[32484]\n",
    "sample = sample_ticket(probabilities, *ticket_sample_criteria, verbose=True)\n",
    "plot_sample_distribution(sample, probabilities)\n",
    "print(probabilities)\n"
   ]
  },
  {
   "cell_type": "markdown",
   "metadata": {},
   "source": [
    "**End of notebook.**\n",
    "\n",
    "<div style=\"margin-top: 50px; padding-top: 20px; border-top: 1px solid #ccc;\">\n",
    "  <div style=\"display: flex; justify-content: flex-end; gap: 20px; align-items: center;\">\n",
    "    <a rel=\"MUDE\" href=\"http://mude.citg.tudelft.nl/\">\n",
    "      <img alt=\"MUDE\" style=\"width:100px; height:auto;\" src=\"https://gitlab.tudelft.nl/mude/public/-/raw/main/mude-logo/MUDE_Logo-small.png\" />\n",
    "    </a>\n",
    "    <a rel=\"TU Delft\" href=\"https://www.tudelft.nl/en/ceg\">\n",
    "      <img alt=\"TU Delft\" style=\"width:100px; height:auto;\" src=\"https://gitlab.tudelft.nl/mude/public/-/raw/main/tu-logo/TU_P1_full-color.png\" />\n",
    "    </a>\n",
    "    <a rel=\"license\" href=\"http://creativecommons.org/licenses/by/4.0/\">\n",
    "      <img alt=\"Creative Commons License\" style=\"width:88px; height:auto;\" src=\"https://i.creativecommons.org/l/by/4.0/88x31.png\" />\n",
    "    </a>\n",
    "  </div>\n",
    "  <div style=\"font-size: 75%; margin-top: 10px; text-align: right;\">\n",
    "    By <a rel=\"MUDE\" href=\"http://mude.citg.tudelft.nl/\">MUDE Team</a>\n",
    "    &copy; 2024 TU Delft. \n",
    "    <a rel=\"license\" href=\"http://creativecommons.org/licenses/by/4.0/\">CC BY 4.0</a>.\n",
    "    <a rel=\"Zenodo DOI\" href=\"https://doi.org/10.5281/zenodo.16782515\"><img style=\"width:auto; height:15; vertical-align:middle\" src=\"https://zenodo.org/badge/DOI/10.5281/zenodo.16782515.svg\" alt=\"DOI https://doi.org/10.5281/zenodo.16782515\"></a>\n",
    "  </div>\n",
    "</div>\n",
    "\n",
    "\n",
    "<!--tested with WS_2_8_solution.ipynb-->"
   ]
  }
 ],
 "metadata": {
  "language_info": {
   "name": "python"
  }
 },
 "nbformat": 4,
 "nbformat_minor": 2
}
