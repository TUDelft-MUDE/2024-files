{
 "cells": [
  {
   "cell_type": "markdown",
   "metadata": {},
   "source": [
    "# MCS\n",
    "\n",
    "_see markdown file for half-baked theory_"
   ]
  },
  {
   "cell_type": "markdown",
   "metadata": {},
   "source": [
    "Constants:\n",
    "- $V_n$: coefficient of variation of the expected value of the winning ticket\n",
    "- $N_{s,min}$: minimum number of samples to estimate the expected value of the number of winning tickets\n",
    "\n",
    "Procedure is:\n",
    "\n",
    "1. Determine the set of tickets (size $N_t$) to purchase, $T$, defined by minutes $m$\n",
    "2. Compute total cost $3\\cdot N_t$\n",
    "\n",
    "For each ticket $i$ in $T$ associated with minute $m_i$:\n",
    "1. Compute probability of being the winning ticket, $p_i=P[M=m_i=m_w]$\n",
    "2. Sample $N_w(m_i)$; stop when expected value of samples satisfies the criteria defined above (sample index $j=1,\\ldots,N_{s,i}$)\n",
    "3. Compute the profit from each realization $j$ for minute $i$ as $W \\cdot p_i / N_{w, j}$\n",
    "\n",
    "The samples of $B$ are the collection of all profits computed for the samples of $i$"
   ]
  },
  {
   "cell_type": "code",
   "execution_count": null,
   "metadata": {},
   "outputs": [],
   "source": [
    "%load_ext autoreload\n",
    "%autoreload 2\n",
    "import os\n",
    "import numpy as np\n",
    "import matplotlib.pyplot as plt\n",
    "import scipy.stats as stats\n",
    "from tickets import *\n",
    "from minutes import *\n",
    "from models import *"
   ]
  },
  {
   "cell_type": "code",
   "execution_count": null,
   "metadata": {},
   "outputs": [],
   "source": [
    "pickle_path = os.path.join('pickles',\n",
    "                           'List_of_radial_object_all_minutes_v3.pkl')\n",
    "\n",
    "with open(pickle_path, 'rb') as f:\n",
    "    loaded_radial_dist_list = pickle.load(f)"
   ]
  },
  {
   "cell_type": "code",
   "execution_count": null,
   "metadata": {},
   "outputs": [],
   "source": []
  },
  {
   "cell_type": "code",
   "execution_count": null,
   "metadata": {},
   "outputs": [],
   "source": [
    "def sample_benefit_test(probabilities, cov, N_min, N_max, verbose=True):\n",
    "    sample = sample_ticket(probabilities, cov, N_min, N_max, verbose)\n",
    "    return 300/(sample + 1)\n",
    "\n",
    "\n",
    "\n",
    "prob = loaded_radial_dist_list[0]#[32484]\n",
    "sample = sample_benefit_test(prob, 0.1, 100, 10000)\n"
   ]
  },
  {
   "cell_type": "code",
   "execution_count": null,
   "metadata": {},
   "outputs": [],
   "source": [
    "unique, counts = np.unique(sample, return_counts=True)\n",
    "for value, count in zip(unique, counts):\n",
    "    print(f\"Value: {value}, Frequency: {count}\")\n",
    "\n",
    "plt.hist(sample, bins=50, edgecolor='k')\n",
    "plt.xlabel('Benefit')\n",
    "plt.ylabel('Frequency')\n",
    "plt.title('Histogram of Sample Benefits')\n",
    "plt.show()\n"
   ]
  },
  {
   "cell_type": "code",
   "execution_count": null,
   "metadata": {},
   "outputs": [],
   "source": [
    "\n",
    "\n",
    "def plot_hist_and_cdf(sampled_profit, xlim=None, ylim=None):\n",
    "    fig, ax1 = plt.subplots()\n",
    "\n",
    "    # Plot histogram\n",
    "    ax1.hist(sampled_profit, bins=50, edgecolor='k', density=True, alpha=0.6, label='Histogram')\n",
    "    ax1.set_xlabel('thousands of dollars')\n",
    "    ax1.set_ylabel('Frequency')\n",
    "    ax1.legend(loc='upper left')\n",
    "\n",
    "    # Create a second y-axis for the cumulative distribution\n",
    "    ax2 = ax1.twinx()\n",
    "    sorted_samples = np.sort(sampled_profit)\n",
    "    cdf = np.arange(1, len(sorted_samples) + 1) / (len(sorted_samples) + 1)\n",
    "    ax2.plot(sorted_samples, cdf, color='red', label='CDF')\n",
    "    ax2.set_ylabel('Cumulative Probability')\n",
    "    ax2.legend(loc='upper right')\n",
    "\n",
    "    # plt.title('Histogram and Cumulative Distribution of Sample Benefits')\n",
    "    plt.show()\n",
    "\n",
    "    # Plot exceedance probability\n",
    "    fig, ax = plt.subplots()\n",
    "    exceedance_prob = 1 - cdf\n",
    "    ax.plot(sorted_samples, exceedance_prob, color='blue', label='Exceedance Probability')\n",
    "    ax.vlines(300, 0, 1, color='grey', linestyle='--', label='300k threshold')\n",
    "    ax.set_xlabel('thousands of dollars')\n",
    "    ax.set_ylabel('Exceedance Probability')\n",
    "    ax.set_xscale('log')\n",
    "    ax.set_yscale('log')\n",
    "    if xlim is not None:\n",
    "        ax.set_xlim(*xlim)\n",
    "    if ylim is not None:\n",
    "        ax.set_ylim(*ylim)\n",
    "    ax.legend(loc='upper right')\n",
    "    plt.show()\n"
   ]
  },
  {
   "cell_type": "code",
   "execution_count": null,
   "metadata": {},
   "outputs": [],
   "source": [
    "t = Tickets()\n",
    "t.add([[27, 28, 29], [13]])\n",
    "# t.add([[14], [13]])\n",
    "t.status()\n",
    "t.show()"
   ]
  },
  {
   "cell_type": "code",
   "execution_count": null,
   "metadata": {},
   "outputs": [],
   "source": [
    "m = Models(model_id=2)\n",
    "prob_T = np.zeros((len(t.tickets)))\n",
    "Nw_T = np.zeros((len(t.tickets)))\n",
    "for i, ti in enumerate(t.tickets):\n",
    "    prob_T[i] = m.get_p([ti])\n",
    "    day, min = Minutes.get_day_min(ti)\n",
    "    Nw_T [i] = m.ticket_model(day, min)\n",
    "prob_T_matrix = m.map_data_to_day_min(prob_T, t.tickets)\n",
    "prob_all = np.sum(prob_T)\n",
    "print(f\"The probability of a ticket winning is {prob_all:.3e}\")\n",
    "cost_tickets = len(t.tickets)*3\n",
    "expected_winnings = np.sum(300*prob_T/Nw_T)\n",
    "expected_profit = expected_winnings - .003*len(t.tickets)\n",
    "print(f\"Number of tickets: \\t{len(t.tickets)}\")\n",
    "print(f\"Cost tickets: \\t\\t{cost_tickets/1000:9.2e} kUSD \\t({len(t.tickets)*3:5.0f} USD)\")\n",
    "print(f\"Expected winnings: \\t{expected_winnings:9.2e} kUSD \\t({expected_winnings*1000:5.0f} USD)\")\n",
    "print(f\"Expected profit: \\t{expected_profit:9.2e} kUSD \\t({expected_profit*1000:5.0f} USD)\")\n",
    "\n",
    "m.plot(prob_T_matrix)"
   ]
  },
  {
   "cell_type": "code",
   "execution_count": null,
   "metadata": {},
   "outputs": [],
   "source": [
    "Ns = 100000\n",
    "sampled_ticket = np.zeros((Ns,), dtype=int)\n",
    "sampled_profit = np.zeros((Ns,))\n",
    "for i in range(Ns):\n",
    "    sampled_ticket[i] = random.choices(t.tickets, weights=prob_T, k=1)[0]\n",
    "    sampled_profit[i] = 300/(1 +sample_integer(\n",
    "        loaded_radial_dist_list[sampled_ticket[i]]))\n",
    "\n",
    "\n"
   ]
  },
  {
   "cell_type": "markdown",
   "metadata": {},
   "source": [
    "Running the simulation for N simulations takes:\n",
    "\n",
    "| N | Time |\n",
    "| :---: | :---: |\n",
    "| 1e7 | stopped after 5 min |\n",
    "| 1e5 | 10 s |\n",
    "\n"
   ]
  },
  {
   "cell_type": "code",
   "execution_count": null,
   "metadata": {},
   "outputs": [],
   "source": [
    "plot_hist_and_cdf(sampled_profit,\n",
    "                  xlim=(1,500), ylim=(1e-2, 1))"
   ]
  },
  {
   "cell_type": "code",
   "execution_count": null,
   "metadata": {},
   "outputs": [],
   "source": [
    "print(t.N())\n",
    "total_loss = 3*t.N()/1000 - sampled_profit\n",
    "print(f\"Ticket cost = {t.N()/1000} kUSD ({t.N()} USD))\")\n",
    "print(f\"Min loss = {np.min(total_loss)}\")\n",
    "print(f\"Max loss = {np.max(total_loss)}\")\n",
    "print(f\"Mean loss = {np.mean(total_loss)}\")\n",
    "print(f\"Median loss = {np.median(total_loss)}\")\n",
    "print(f\"Std loss = {np.std(total_loss)}\")\n",
    "\n",
    "plot_hist_and_cdf(total_loss)\n",
    "# prob_T_matrix = m.map_data_to_day_min(prob_T, t.tickets)\n",
    "# m.plot(prob_T_matrix)"
   ]
  },
  {
   "cell_type": "code",
   "execution_count": null,
   "metadata": {},
   "outputs": [],
   "source": [
    "# Sort the total_profit array in descending order\n",
    "sorted_loss = np.sort(total_loss)[::-1]\n",
    "\n",
    "# Calculate the exceedance probability\n",
    "exceedance_prob = np.arange(1, len(sorted_loss) + 1) / (len(sorted_loss) + 1)\n",
    "\n",
    "# Plot the exceedance probability\n",
    "plt.figure(figsize=(10, 6))\n",
    "plt.plot(sorted_loss, exceedance_prob, marker='o', linestyle='-', color='b')\n",
    "plt.xlabel('Total Loss')\n",
    "plt.ylabel('Exceedance Probability')\n",
    "plt.title('Exceedance Probability Plot of Total Loss')\n",
    "plt.xscale('log')\n",
    "plt.yscale('log')\n",
    "plt.xlim([10, 1000])\n",
    "plt.ylim([0.1, 1])\n",
    "plt.grid(True)\n",
    "plt.show()"
   ]
  },
  {
   "cell_type": "code",
   "execution_count": null,
   "metadata": {},
   "outputs": [],
   "source": [
    "type(int(round(np.random.choice(t.tickets))))"
   ]
  },
  {
   "cell_type": "code",
   "execution_count": null,
   "metadata": {},
   "outputs": [],
   "source": [
    "test = np.zeros((3,))\n",
    "print(test)\n",
    "print(test.shape)\n",
    "test = np.append(test, [1,2,3])\n",
    "test.shape\n",
    "print(test)"
   ]
  },
  {
   "cell_type": "markdown",
   "metadata": {},
   "source": [
    "**End of notebook.**\n",
    "\n",
    "<div style=\"margin-top: 50px; padding-top: 20px; border-top: 1px solid #ccc;\">\n",
    "  <div style=\"display: flex; justify-content: flex-end; gap: 20px; align-items: center;\">\n",
    "    <a rel=\"MUDE\" href=\"http://mude.citg.tudelft.nl/\">\n",
    "      <img alt=\"MUDE\" style=\"width:100px; height:auto;\" src=\"https://gitlab.tudelft.nl/mude/public/-/raw/main/mude-logo/MUDE_Logo-small.png\" />\n",
    "    </a>\n",
    "    <a rel=\"TU Delft\" href=\"https://www.tudelft.nl/en/ceg\">\n",
    "      <img alt=\"TU Delft\" style=\"width:100px; height:auto;\" src=\"https://gitlab.tudelft.nl/mude/public/-/raw/main/tu-logo/TU_P1_full-color.png\" />\n",
    "    </a>\n",
    "    <a rel=\"license\" href=\"http://creativecommons.org/licenses/by/4.0/\">\n",
    "      <img alt=\"Creative Commons License\" style=\"width:88px; height:auto;\" src=\"https://i.creativecommons.org/l/by/4.0/88x31.png\" />\n",
    "    </a>\n",
    "  </div>\n",
    "  <div style=\"font-size: 75%; margin-top: 10px; text-align: right;\">\n",
    "    By <a rel=\"MUDE\" href=\"http://mude.citg.tudelft.nl/\">MUDE Team</a>\n",
    "    &copy; 2024 TU Delft. \n",
    "    <a rel=\"license\" href=\"http://creativecommons.org/licenses/by/4.0/\">CC BY 4.0</a>.\n",
    "    <a rel=\"Zenodo DOI\" href=\"https://doi.org/10.5281/zenodo.16782515\"><img style=\"width:auto; height:15; vertical-align:middle\" src=\"https://zenodo.org/badge/DOI/10.5281/zenodo.16782515.svg\" alt=\"DOI https://doi.org/10.5281/zenodo.16782515\"></a>\n",
    "  </div>\n",
    "</div>\n",
    "\n",
    "\n",
    "<!--tested with WS_2_8_solution.ipynb-->"
   ]
  }
 ],
 "metadata": {
  "language_info": {
   "name": "python"
  }
 },
 "nbformat": 4,
 "nbformat_minor": 2
}
