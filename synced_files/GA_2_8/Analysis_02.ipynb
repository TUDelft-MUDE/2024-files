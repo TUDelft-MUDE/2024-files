{
 "cells": [
  {
   "cell_type": "markdown",
   "metadata": {},
   "source": [
    "# GA 2.8: [Ice Ice Baby](https://www.youtube.com/watch?v=rog8ou-ZepE), Part 2\n",
    "\n",
    "<h1 style=\"position: absolute; display: flex; flex-grow: 0; flex-shrink: 0; flex-direction: row-reverse; top: 60px;right: 30px; margin: 0; border: 0\">\n",
    "    <style>\n",
    "        .markdown {width:100%; position: relative}\n",
    "        article { position: relative }\n",
    "    </style>\n",
    "    <img src=\"https://gitlab.tudelft.nl/mude/public/-/raw/main/tu-logo/TU_P1_full-color.png\" style=\"width:100px\" />\n",
    "    <img src=\"https://gitlab.tudelft.nl/mude/public/-/raw/main/mude-logo/MUDE_Logo-small.png\" style=\"width:100px\" />\n",
    "</h1>\n",
    "<h2 style=\"height: 10px\">\n",
    "</h2>\n",
    "\n",
    "*[CEGM1000 MUDE](http://mude.citg.tudelft.nl/): Week 2.8, January 17, 2025.*"
   ]
  },
  {
   "cell_type": "markdown",
   "metadata": {},
   "source": [
    "In this notebook we will introduce a method for predicting the amount of profit that is possible for a given set of tickets selected, and set up a Monte Carlo Simulation to evaluate the distribution.\n",
    "\n",
    "Profit, $B$, can be evaluated as follows _given that one of our $N_t$ tickets is the winning ticket_:\n",
    "\n",
    "$$\n",
    "B = \\frac{W}{N_{w}} - 3N_t\n",
    "$$\n",
    "\n",
    "where:\n",
    "- $B$ is profit (or benefit; we use $B$ to avoid confusion with $P$), in USD\n",
    "- $W$ is the total payout, in USD\n",
    "- $N_{w}$ is the number of winning tickets purchased (by other participants) for the winning minute, $m_w$\n",
    "- $N_t$ is the number of tickets we purchase\n",
    "- 3 is the cost per ticket (in USD)\n",
    "\n",
    "Note in particular that the **number of (potential) winning tickets purchased by participants** has a big impact on the winnings. It also varies (quite significantly!) by minute, which can be denoted as $N_{w}(m)$, where $m$ is the minute. We don't have the time to go into the details here, but suffice to say that the distribution of $N_{w}(m)$ very much follows the historic average of the breakup day and minute (i.e., minutes in late april in the early after noon are _very_ popular), but also, various minutes throughout the day also vary significantly in popularity (e.g., minutes ending in 0 are much more popular than those ending in 2)."
   ]
  },
  {
   "cell_type": "markdown",
   "metadata": {},
   "source": [
    "<div style=\"background-color:#facb8e; color: black; vertical-align: middle; padding:15px; margin: 10px; border-radius: 10px; width: 95%\"> <p>Besides the expected value calculation in Task 2, this notebook is mostly useful for evaluating the distribution of a set of tickets.</p></div>"
   ]
  },
  {
   "cell_type": "code",
   "execution_count": null,
   "metadata": {},
   "outputs": [],
   "source": [
    "%load_ext autoreload\n",
    "%autoreload 2\n",
    "import os\n",
    "import numpy as np\n",
    "import matplotlib.pyplot as plt\n",
    "import scipy.stats as stats\n",
    "from tools import *\n",
    "\n",
    "pickle_path = os.path.join('pickles',\n",
    "                           'tickets_per_minute.pkl')\n",
    "with open(pickle_path, 'rb') as f:\n",
    "    loaded_radial_dist_list = pickle.load(f)"
   ]
  },
  {
   "cell_type": "markdown",
   "metadata": {},
   "source": [
    "## Part 1: Number of Tickets per Minute\n",
    "\n",
    "The cell below provides code to generate a histogram of the number of tickets purchased per minute. There is a different distribution defined for each minute of the day."
   ]
  },
  {
   "cell_type": "markdown",
   "metadata": {},
   "source": [
    "<div style=\"background-color:#AABAB2; color: black; vertical-align: middle; padding:15px; margin: 10px; border-radius: 10px; width: 95%\">\n",
    "<p>\n",
    "<b>Task 1.1:</b>   \n",
    "\n",
    "Run the cell below and change the day and minute to see how the number of tickets varies per day. Try at least one minute in near the mode of the historic average breakup and one in the \"unlikely\" zone.\n",
    "\n",
    "</p>\n",
    "</div>"
   ]
  },
  {
   "cell_type": "markdown",
   "metadata": {},
   "source": [
    "<div style=\"background-color:#facb8e; color: black; vertical-align: middle; padding:15px; margin: 10px; border-radius: 10px; width: 95%\">\n",
    "<p>\n",
    "\n",
    "Note that we loaded a pickle file in the cell above that provides a distribution for $N_w(m)$.\n",
    "</p>\n",
    "</div>"
   ]
  },
  {
   "cell_type": "code",
   "execution_count": null,
   "metadata": {},
   "outputs": [],
   "source": [
    "def plot_sample_distribution(sample, probabilities):\n",
    "    plt.figure(figsize=(10, 6))\n",
    "    plt.hist(sample, bins=np.arange(len(probabilities) + 1), density=True, alpha=0.6, color='g', label='Sampled Density')\n",
    "\n",
    "    # Verification plot\n",
    "    plt.plot(np.arange(len(probabilities)), probabilities, 'ro-', label='True Probabilities')\n",
    "\n",
    "    plt.xlabel('Value')\n",
    "    plt.ylabel('Density')\n",
    "    plt.title('Distribution of Number of Tickets Purchased for Specific Minute')\n",
    "    plt.legend()\n",
    "    plt.show()\n",
    "\n",
    "trial_day = 23\n",
    "trial_min_in_day = 13*60 + 30\n",
    "trial_min = trial_day*24*60 + trial_min_in_day\n",
    "\n",
    "probabilities = loaded_radial_dist_list[trial_min]\n",
    "sample_size = 1000\n",
    "sample = sample_integer(probabilities, sample_size)\n",
    "\n",
    "plot_sample_distribution(sample, probabilities)\n"
   ]
  },
  {
   "cell_type": "markdown",
   "metadata": {},
   "source": [
    "<div style=\"background-color:#AABAB2; color: black; vertical-align: middle; padding:15px; margin: 10px; border-radius: 10px; width: 95%\">\n",
    "<p>\n",
    "<b>Task 1.2:</b>   \n",
    "\n",
    "In the cell above, try changing the selected minute to be near the mode of the historic average breakup and one in the \"unlikely\" zone.\n",
    "\n",
    "</p>\n",
    "</div>"
   ]
  },
  {
   "cell_type": "markdown",
   "metadata": {},
   "source": [
    "## Part 2: Expected Value of Profit\n",
    "\n",
    "Before running a Monte Carlo Simulation, let's get an idea for what we should expect using an expected value calculation. Using the equation provided at the beginning of the notebook, combined with the example code from the first notebook, you should be able to evaluate this for any combination of tickets.\n",
    "\n",
    "Recall that the expectation of discrete events (such as winning tickets) is given by:\n",
    "\n",
    "$$\n",
    "E[X] = \\sum_{i=1}^{N} x_i p_i\n",
    "$$\n"
   ]
  },
  {
   "cell_type": "markdown",
   "metadata": {},
   "source": [
    "<div style=\"background-color:#AABAB2; color: black; vertical-align: middle; padding:15px; margin: 10px; border-radius: 10px; width: 95%\">\n",
    "<p>\n",
    "<b>Task 2.1:</b>   \n",
    "\n",
    "Compute the expected value of winning with the minute April 20 at 14:15.\n",
    "\n",
    "Assume the payout is $300000 and the ticket cost is $3.\n",
    "\n",
    "</p>\n",
    "</div>"
   ]
  },
  {
   "cell_type": "code",
   "execution_count": null,
   "metadata": {},
   "outputs": [],
   "source": [
    "# trial_day = YOUR_CODE_HERE\n",
    "# trial_min_in_day = YOUR_CODE_HERE\n",
    "# trial_min = YOUR_CODE_HERE\n",
    "\n",
    "# probabilities = loaded_radial_dist_list[trial_min]\n",
    "# sample_size = 1000\n",
    "# sample = sample_integer(probabilities, sample_size)\n",
    "# expected_value_N_w = int(round(np.mean(sample)))\n",
    "\n",
    "# m = Models()\n",
    "# p_ticket = m.get_p([trial_min])\n",
    "\n",
    "# expected_value_profit = YOUR_CODE_HERE\n",
    "\n",
    "# print(f\"The expected number of tickets purchased is {expected_value_N_w}\")\n",
    "# print(f\"The expected profit is {expected_value_profit:.2f} USD\")\n",
    "\n",
    "# SOLUTION\n",
    "trial_day = 20\n",
    "trial_min_in_day = 14*60 + 15\n",
    "trial_min = trial_day*24*60 + trial_min_in_day\n",
    "\n",
    "probabilities = loaded_radial_dist_list[trial_min]\n",
    "sample_size = 1000\n",
    "sample = sample_integer(probabilities, sample_size)\n",
    "expected_value_N_w = int(round(np.mean(sample)))\n",
    "\n",
    "m = Models()\n",
    "p_ticket = m.get_p([trial_min])\n",
    "\n",
    "expected_value_profit = p_ticket*300000/expected_value_N_w - 3\n",
    "\n",
    "print(f\"The expected number of tickets purchased is {expected_value_N_w}\")\n",
    "print(f\"The expected profit is {expected_value_profit:.2f} USD\")"
   ]
  },
  {
   "cell_type": "markdown",
   "metadata": {},
   "source": [
    "<div style=\"background-color:#AABAB2; color: black; vertical-align: middle; padding:15px; margin: 10px; border-radius: 10px; width: 95%\">\n",
    "<p>\n",
    "<b>Task 2.2:</b>   \n",
    "\n",
    "Based on the result above, should you make the bet?\n",
    "\n",
    "</p>\n",
    "</div>"
   ]
  },
  {
   "cell_type": "markdown",
   "metadata": {},
   "source": [
    "_Your answer here._"
   ]
  },
  {
   "cell_type": "markdown",
   "metadata": {},
   "source": [
    "## Part 3: Monte Carlo Simulation\n",
    "\n",
    "Now the fun part! Rather than looking at a single point estimate of the profit, let's consider the whole _distribution._\n",
    "\n",
    "The steps of the algorithm are:\n",
    "1. Select tickets\n",
    "2. Determine the number of winning tickets for each minute (defined by the tickets and the distributions from our pickle file)\n",
    "3. Calculate the _winnings_\n",
    "4. Calculate the _profit_\n",
    "5. Evaluate the distributions\n",
    "\n",
    "Note that in this case, the _winnings_ is just the first part of the profit equation above (without the ticket cost):\n",
    "\n",
    "$$\n",
    "\\textrm{winnings } = \\frac{W}{N_{w}}\n",
    "$$\n",
    "\n",
    "First we provide a function to help with plotting the results. You will probably want to modify this function later, or make your own, to better suit your needs in later parts of this GA.\n"
   ]
  },
  {
   "cell_type": "code",
   "execution_count": null,
   "metadata": {},
   "outputs": [],
   "source": [
    "def plot_hist_and_cdf(sampled_profit, xlim=None, ylim=None):\n",
    "    fig, ax1 = plt.subplots()\n",
    "\n",
    "    # Plot histogram\n",
    "    ax1.hist(sampled_profit, bins=50, edgecolor='k', density=True, alpha=0.6, label='Histogram')\n",
    "    ax1.set_xlabel('Winnings, thousands of USD')\n",
    "    ax1.set_ylabel('Density')\n",
    "    ax1.legend(loc='upper left')\n",
    "\n",
    "    # Create a second y-axis for the cumulative distribution\n",
    "    ax2 = ax1.twinx()\n",
    "    sorted_samples = np.sort(sampled_profit)\n",
    "    cdf = np.arange(1, len(sorted_samples) + 1) / (len(sorted_samples) + 1)\n",
    "    ax2.plot(sorted_samples, cdf, color='red', label='CDF')\n",
    "    ax2.set_ylabel('Cumulative Probability')\n",
    "    ax2.legend(loc='upper right')\n",
    "\n",
    "    # plt.title('Histogram and Cumulative Distribution of Sample Benefits')\n",
    "    plt.show()\n",
    "\n",
    "    # Plot exceedance probability\n",
    "    fig, ax = plt.subplots()\n",
    "    exceedance_prob = 1 - cdf\n",
    "    ax.plot(sorted_samples, exceedance_prob, color='blue', label='Exceedance Probability')\n",
    "    ax.vlines(300, 0, 1, color='grey', linestyle='--', label='300k threshold')\n",
    "    ax.set_xlabel('Winnings, thousands of USD')\n",
    "    ax.set_ylabel('Exceedance Probability')\n",
    "    ax.set_xscale('log')\n",
    "    ax.set_yscale('log')\n",
    "    if xlim is not None:\n",
    "        ax.set_xlim(*xlim)\n",
    "    if ylim is not None:\n",
    "        ax.set_ylim(*ylim)\n",
    "    ax.legend(loc='upper right')\n",
    "    plt.show()\n"
   ]
  },
  {
   "cell_type": "markdown",
   "metadata": {},
   "source": [
    "We begin with an arbitrary set of tickets to illustrate the MCS process."
   ]
  },
  {
   "cell_type": "code",
   "execution_count": null,
   "metadata": {},
   "outputs": [],
   "source": [
    "t = Tickets()\n",
    "t.add([[27]])\n",
    "# t.add([[27, 28, 29]])\n",
    "# t.add([[14], [13]])\n",
    "t.status()\n",
    "t.show()"
   ]
  },
  {
   "cell_type": "code",
   "execution_count": null,
   "metadata": {},
   "outputs": [],
   "source": [
    "m = Models()\n",
    "\n",
    "prob_T = np.zeros((len(t.tickets)))\n",
    "Nw_T = np.zeros((len(t.tickets)))\n",
    "\n",
    "for i, ti in enumerate(t.tickets):\n",
    "    prob_T[i] = m.get_p([ti])\n",
    "    day, min = Minutes.get_day_min(ti)\n",
    "    Nw_T [i] = m.ticket_model(day, min)\n",
    "\n",
    "prob_T_matrix = m.map_data_to_day_min(prob_T, t.tickets)\n",
    "prob_all = np.sum(prob_T)\n",
    "\n",
    "print(f\"The probability of any ticket winning is {prob_all:.3e}\")\n",
    "cost_tickets = len(t.tickets)*3\n",
    "expected_winnings = np.sum(300*prob_T/(Nw_T + 1))\n",
    "expected_profit = expected_winnings - .003*len(t.tickets)\n",
    "print(f\"Number of tickets: \\t{len(t.tickets)}\")\n",
    "print(f\"Cost tickets: \\t\\t{cost_tickets/1000:9.2e} kUSD \\t({len(t.tickets)*3:5.0f} USD)\")\n",
    "print(f\"Expected winnings: \\t{expected_winnings:9.2e} kUSD \\t({expected_winnings*1000:5.0f} USD)\")\n",
    "print(f\"Expected profit: \\t{expected_profit:9.2e} kUSD \\t({expected_profit*1000:5.0f} USD)\")\n",
    "\n",
    "m.plot(prob_T_matrix)"
   ]
  },
  {
   "cell_type": "markdown",
   "metadata": {},
   "source": [
    "Now we implement the MCS."
   ]
  },
  {
   "cell_type": "code",
   "execution_count": null,
   "metadata": {},
   "outputs": [],
   "source": [
    "Ns = 100000\n",
    "sampled_ticket = np.zeros((Ns,), dtype=int)\n",
    "sampled_probability = np.zeros((Ns,))\n",
    "sampled_winnings = np.zeros((Ns,))\n",
    "for i in range(Ns):\n",
    "    sampled_ticket[i] = random.choices(t.tickets, weights=prob_T, k=1)[0]\n",
    "    sampled_probability[i] = prob_T[\n",
    "        t.tickets.index(sampled_ticket[i])]\n",
    "    sampled_winnings[i] = 300/(1 + sample_integer(\n",
    "        loaded_radial_dist_list[sampled_ticket[i]]))"
   ]
  },
  {
   "cell_type": "markdown",
   "metadata": {},
   "source": [
    "And use the plotting function."
   ]
  },
  {
   "cell_type": "code",
   "execution_count": null,
   "metadata": {},
   "outputs": [],
   "source": [
    "plot_hist_and_cdf(sampled_winnings,\n",
    "                  xlim=(1,500), ylim=(1e-2, 1))"
   ]
  },
  {
   "cell_type": "markdown",
   "metadata": {},
   "source": [
    "<div style=\"background-color:#facb8e; color: black; vertical-align: middle; padding:15px; margin: 10px; border-radius: 10px; width: 95%\"> <p>We plot winnings because they are always positive and thus easier to visualize on the log-log scale.</p></div>"
   ]
  },
  {
   "cell_type": "markdown",
   "metadata": {},
   "source": [
    "<div style=\"background-color:#facb8e; color: black; vertical-align: middle; padding:15px; margin: 10px; border-radius: 10px; width: 95%\"> <p><b>Note</b> that the analysis above has been done by calculating the winnings after sampling the number of other winners who chose each of the tickets we selected. This produces a distribution that is _conditional_ on one of the tickets selected being a winning ticket. This is why the probabilities in the plots seem high compared to the results found in the first notebook. The following analyses apply the probability of each ticket being a winning ticket, to properly account for this.</p></div>"
   ]
  },
  {
   "cell_type": "markdown",
   "metadata": {},
   "source": [
    "And finally, a few summary statistics to help you interpret the results."
   ]
  },
  {
   "cell_type": "code",
   "execution_count": null,
   "metadata": {},
   "outputs": [],
   "source": [
    "print(\"=====================================\")\n",
    "print(\"    USING EXPECTED VALUE CALC    \")\n",
    "print(\"=====================================\")\n",
    "print(f\"Number of tickets: \\t{len(t.tickets)}\")\n",
    "print(f\"Cost tickets: \\t\\t{cost_tickets/1000:9.2e} kUSD \\t({len(t.tickets)*3:5.0f} USD)\")\n",
    "print(f\"Expected winnings: \\t{expected_winnings:9.2e} kUSD \\t({expected_winnings*1000:5.0f} USD)\")\n",
    "print(f\"Expected profit: \\t{expected_profit:9.2e} kUSD \\t({expected_profit*1000:5.0f} USD)\")\n"
   ]
  },
  {
   "cell_type": "markdown",
   "metadata": {},
   "source": [
    "And finally, a plot of the distribution of winnings."
   ]
  },
  {
   "cell_type": "markdown",
   "metadata": {},
   "source": [
    "**End of notebook.**\n",
    "\n",
    "<div style=\"margin-top: 50px; padding-top: 20px; border-top: 1px solid #ccc;\">\n",
    "  <div style=\"display: flex; justify-content: flex-end; gap: 20px; align-items: center;\">\n",
    "    <a rel=\"MUDE\" href=\"http://mude.citg.tudelft.nl/\">\n",
    "      <img alt=\"MUDE\" style=\"width:100px; height:auto;\" src=\"https://gitlab.tudelft.nl/mude/public/-/raw/main/mude-logo/MUDE_Logo-small.png\" />\n",
    "    </a>\n",
    "    <a rel=\"TU Delft\" href=\"https://www.tudelft.nl/en/ceg\">\n",
    "      <img alt=\"TU Delft\" style=\"width:100px; height:auto;\" src=\"https://gitlab.tudelft.nl/mude/public/-/raw/main/tu-logo/TU_P1_full-color.png\" />\n",
    "    </a>\n",
    "    <a rel=\"license\" href=\"http://creativecommons.org/licenses/by/4.0/\">\n",
    "      <img alt=\"Creative Commons License\" style=\"width:88px; height:auto;\" src=\"https://i.creativecommons.org/l/by/4.0/88x31.png\" />\n",
    "    </a>\n",
    "  </div>\n",
    "  <div style=\"font-size: 75%; margin-top: 10px; text-align: right;\">\n",
    "    By <a rel=\"MUDE\" href=\"http://mude.citg.tudelft.nl/\">MUDE Team</a>\n",
    "    &copy; 2024 TU Delft. \n",
    "    <a rel=\"license\" href=\"http://creativecommons.org/licenses/by/4.0/\">CC BY 4.0</a>.\n",
    "    <a rel=\"Zenodo DOI\" href=\"https://doi.org/10.5281/zenodo.16782515\"><img style=\"width:auto; height:15; vertical-align:middle\" src=\"https://zenodo.org/badge/DOI/10.5281/zenodo.16782515.svg\" alt=\"DOI https://doi.org/10.5281/zenodo.16782515\"></a>\n",
    "  </div>\n",
    "</div>\n",
    "\n",
    "\n",
    "<!--tested with WS_2_8_solution.ipynb-->"
   ]
  }
 ],
 "metadata": {
  "language_info": {
   "name": "python"
  }
 },
 "nbformat": 4,
 "nbformat_minor": 2
}
