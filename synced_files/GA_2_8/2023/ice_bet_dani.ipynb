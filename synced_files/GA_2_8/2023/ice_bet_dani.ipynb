{
 "cells": [
  {
   "cell_type": "code",
   "execution_count": null,
   "id": "52779afa",
   "metadata": {},
   "outputs": [],
   "source": [
    "import pandas as pd\n",
    "import numpy as np\n",
    "import matplotlib.pyplot as plt\n",
    "from scipy.stats import norm\n",
    "from datetime import datetime, timedelta\n",
    "import calendar\n"
   ]
  },
  {
   "cell_type": "code",
   "execution_count": null,
   "id": "3218641c",
   "metadata": {},
   "outputs": [],
   "source": [
    "def minute_diff_to_date(minute_diff):\n",
    "    '''\n",
    "    Indicates month, day, hour and time given a minute difference with respect to the 1st April.\n",
    "\n",
    "    - Input: float with difference in minutes\n",
    "\n",
    "    - Output: print of the corresponding month, day, hour and minute.\n",
    "    \n",
    "    '''\n",
    "    # Define the specific date (April 1st at 00:00)\n",
    "    specific_date = datetime(year=2024, month=4, day=1, hour=0, minute=0)\n",
    "\n",
    "    # Calculate the new date\n",
    "    new_date = specific_date + timedelta(minutes=minute_diff)\n",
    "\n",
    "    # Get the name of the month\n",
    "    month_name = calendar.month_name[new_date.month]\n",
    "\n",
    "    # Print the new date\n",
    "    return print(f\"The minute difference corresponds to: Month {month_name}, Day {new_date.day}, Hour {new_date.hour}, Minute {new_date.minute}\")\n",
    "\n",
    "\n",
    "def time_to_minute_diff(month, day, hour, minute):\n",
    "    '''\n",
    "    Indicates minute difference wrt 1st April given 4 strings with month, day, hour, minute.\n",
    "\n",
    "    - Input: separate string for month, day, hour and minute.\n",
    "\n",
    "    - Output: float of minutes of difference wrt 1st April.\n",
    "    \n",
    "    '''\n",
    "    # Convert the inputs to integers\n",
    "    month = int(month)\n",
    "    day = int(day)\n",
    "    hour = int(hour)\n",
    "    minute = int(minute)\n",
    "\n",
    "    # Define the specific date (April 1st at 00:00)\n",
    "    specific_date = datetime(year=2024, month=4, day=1, hour=0, minute=0)\n",
    "\n",
    "    # Define the new date\n",
    "    new_date = datetime(year=2024, month=month, day=day, hour=hour, minute=minute)\n",
    "\n",
    "    # Calculate the minute difference\n",
    "    minute_diff = (new_date - specific_date).total_seconds() / 60\n",
    "\n",
    "    return print(f\"The minute difference is {minute_diff}\")\n",
    "\n",
    "\n",
    "def minutes_to_time(minutes):\n",
    "    '''\n",
    "    Indicates hours and minutes in a day given total minutes.\n",
    "\n",
    "    - Input: float of minutes.\n",
    "\n",
    "    - Output: print with corresponding hour and minutes.\n",
    "    '''\n",
    "    # Calculate the hour and minute\n",
    "    hour = minutes // 60\n",
    "    minute = minutes % 60\n",
    "\n",
    "    # Print the hour and minute\n",
    "    return print(f\"The minutes correspond to: Hour {hour}, Minute {minute}\")\n",
    "\n",
    "def time_to_minutes(hour, minute):\n",
    "    '''\n",
    "    Indicates minutes in a day given hours and minutes.\n",
    "\n",
    "    - Input: strings of hour and minute.\n",
    "\n",
    "    - Output: print with corresponding minutes.\n",
    "    '''\n",
    "    # Convert the inputs to integers\n",
    "    hour = int(hour)\n",
    "    minute = int(minute)\n",
    "\n",
    "    # Calculate the number of minutes passed in the day\n",
    "    minutes = hour * 60 + minute\n",
    "\n",
    "    return print(f\"The number of minutes passed in the day is {minutes}\")\n",
    "\n",
    "\n",
    "def prob_between_times(time_float_start, time_float_end, mu, std):\n",
    "    '''\n",
    "    Calculate probability given two floats and the mean and standard deviation of a Gaussian fit.\n",
    "\n",
    "    - Input:\n",
    "       - time_float_start: starting float in time\n",
    "       - time_float_end: end minute\n",
    "       - mu: mean of the normal fit\n",
    "       - std: standard deviation of the normal fit\n",
    "\n",
    "    - Output: \n",
    "       - Probability of a event happening between those minutes\n",
    "\n",
    "    '''\n",
    "\n",
    "    # Calculate the CDF at minute1 and minute2\n",
    "    cdf_start = norm.cdf(time_float_start, mu, std)\n",
    "    cdf_end = norm.cdf(time_float_end, mu, std)\n",
    "\n",
    "    return cdf_end - cdf_start"
   ]
  },
  {
   "cell_type": "markdown",
   "id": "5b81aeb2",
   "metadata": {},
   "source": [
    "## Import data\n"
   ]
  },
  {
   "cell_type": "code",
   "execution_count": null,
   "id": "2965c353",
   "metadata": {},
   "outputs": [],
   "source": [
    "specific_date = datetime(year=2024, month=4, day=1, hour=0, minute=0)\n",
    "\n",
    "# Define columns to keep\n",
    "keep_cols = [0,1,2,7,4]\n",
    "\n",
    "# Define rows to skip\n",
    "skip_rows = 0\n",
    "\n",
    "# Import data \n",
    "ice_data = pd.read_excel('./data.xlsx', sheet_name = 'Worksheet', skiprows=skip_rows, usecols=keep_cols)\n",
    "\n",
    "# Create a column with only hours in 24h format \n",
    "ice_data['Hour'] = np.floor(ice_data['Hour (24)'])\n",
    "\n",
    "# Creates new column in datetime format\n",
    "ice_data['datetime'] = pd.to_datetime(ice_data[['Year', 'Month', 'Day', 'Hour', 'Minute']])\n",
    "\n",
    "# ice_data.to_csv(r'C:\\Users\\daniw\\TUDelft\\PROB&STAT\\MUDE\\Data.csv')\n",
    "# ice_data = pd.read_csv(r'C:\\Users\\daniw\\TUDelft\\PROB&STAT\\MUDE\\Data.csv')\n",
    "\n",
    "# Calculate the difference in minutes\n",
    "ice_data['minutes_diff'] = np.abs((ice_data['datetime'] - specific_date).dt.total_seconds() / 60)\n",
    "\n",
    "#calculate minute of the day\n",
    "ice_data['minutes_in_day'] = ice_data['datetime'].dt.hour * 60 + ice_data['datetime'].dt.minute\n",
    "\n",
    "# Make sure all data is in the right format\n",
    "ice_data['datetime'] = pd.to_datetime(ice_data[['Year', 'Month', 'Day', 'Hour', 'Minute']])\n",
    "ice_data['Year'] = ice_data['datetime'].dt.year\n",
    "ice_data['Month'] = ice_data['datetime'].dt.month\n",
    "ice_data['Day'] = ice_data['datetime'].dt.day\n",
    "ice_data['Hour'] = ice_data['datetime'].dt.hour\n",
    "ice_data['Minute'] = ice_data['datetime'].dt.minute\n",
    "\n",
    "# Create a new column for the specific date (April 1st at 00:00) of the same year\n",
    "ice_data['reference_date'] = pd.to_datetime(ice_data['Year'].astype(str) + '-04-01')\n",
    "\n",
    "# Calculate the difference in minutes\n",
    "ice_data['minutes_diff'] = (ice_data['datetime'] - ice_data['reference_date']).dt.total_seconds() / 60\n",
    "\n",
    "#calculate minute of the day\n",
    "ice_data['minutes_in_day'] = ice_data['datetime'].dt.hour * 60 + ice_data['datetime'].dt.minute"
   ]
  },
  {
   "cell_type": "code",
   "execution_count": null,
   "id": "2ca62ee9",
   "metadata": {},
   "outputs": [],
   "source": [
    "ice_data"
   ]
  },
  {
   "cell_type": "markdown",
   "id": "cef1001e",
   "metadata": {},
   "source": [
    "In this block data is imported cleaned and prepared for calculations. In particular the columns minutes_diff and minutes_in_day are the ones of insterest. minutes_diff contains floats with the ammount of minutes between the date of each year and the 1st of April of that same year. minutes_in_day on the other hand provides the minutes in the day with respect to 00:00 of the date given.\n"
   ]
  },
  {
   "cell_type": "markdown",
   "id": "278c592a",
   "metadata": {},
   "source": [
    "## Minutes Difference"
   ]
  },
  {
   "cell_type": "markdown",
   "id": "55888b2c",
   "metadata": {},
   "source": [
    "Down below you can have a first look at the difference in minutes data with respect to the 1st of April. There is first an histogram and then a Gaussian fit of the data is performed. To make the interpretation easier a couple functions have been implemented. time_to_minute_diff allows you to transfor any date into actual minute differences whereas minute_diff_to_date does the opposite."
   ]
  },
  {
   "cell_type": "code",
   "execution_count": null,
   "id": "bca30596",
   "metadata": {},
   "outputs": [],
   "source": [
    "time_to_minute_diff('4', '15', '10', '30')"
   ]
  },
  {
   "cell_type": "code",
   "execution_count": null,
   "id": "80e8b16d",
   "metadata": {},
   "outputs": [],
   "source": [
    "minute_diff_to_date(2000)"
   ]
  },
  {
   "cell_type": "code",
   "execution_count": null,
   "id": "73642e1e",
   "metadata": {},
   "outputs": [],
   "source": [
    "# Assuming df is your DataFrame and it has a column 'minutes_diff'\n",
    "data = ice_data['minutes_diff']\n",
    "\n",
    "# Calculate the Gaussian fitted PDF\n",
    "mu_date, std_date = norm.fit(data)\n",
    "xmin, xmax = np.min(data), np.max(data)\n",
    "x = np.linspace(xmin, xmax, 100)\n",
    "p = norm.pdf(x, mu_date, std_date)\n",
    "\n",
    "\n",
    "# Plot the empirical PDF\n",
    "plt.figure(1)\n",
    "plt.hist(data, bins=30, density=True, alpha=0.8, color='g')\n",
    "\n",
    "# Plot the Gaussian fitted PDF\n",
    "plt.figure(2)\n",
    "plt.plot(x, p, 'k', linewidth=2)\n",
    "title = \"Fit results: mu = %.2f,  std = %.2f\" % (mu_date, std_date)\n",
    "plt.title(title)\n",
    "\n",
    "plt.show()"
   ]
  },
  {
   "cell_type": "markdown",
   "id": "8ee5616e",
   "metadata": {},
   "source": [
    "Once the fit is done, the next step would be to calculate some probabilities. For that the function prob_between_minutes is given, taking two minutes and the mean an variance fit from the gaussian distribution. This allows you to make you best guess for a date but the range of minutes can be increased as desired"
   ]
  },
  {
   "cell_type": "code",
   "execution_count": null,
   "id": "5799964c",
   "metadata": {},
   "outputs": [],
   "source": [
    "prob_between_times(26670, 26671, mu_date, std_date)"
   ]
  },
  {
   "cell_type": "markdown",
   "id": "60f50e98",
   "metadata": {},
   "source": [
    "## Minutes in Day"
   ]
  },
  {
   "cell_type": "markdown",
   "id": "d64441d5",
   "metadata": {},
   "source": [
    "Similar to what you saw in the previous section, the same procedure can be applied to the minutes in the day. The function minutes_to_time again provides you with a transformation from minutes to hours and minutes, and the function time_to_minutes does exactly the opposite."
   ]
  },
  {
   "cell_type": "code",
   "execution_count": null,
   "id": "6c217b13",
   "metadata": {},
   "outputs": [],
   "source": [
    "minutes_to_time(875)"
   ]
  },
  {
   "cell_type": "code",
   "execution_count": null,
   "id": "9f9a244c",
   "metadata": {},
   "outputs": [],
   "source": [
    "time_to_minutes('14', '35')"
   ]
  },
  {
   "cell_type": "code",
   "execution_count": null,
   "id": "94d6bcd7",
   "metadata": {},
   "outputs": [],
   "source": [
    "# Assuming df is your DataFrame and it has a column 'minutes_diff'\n",
    "data = ice_data['minutes_in_day']\n",
    "\n",
    "# Calculate the Gaussian fitted PDF\n",
    "mu_day, std_day = norm.fit(data)\n",
    "xmin, xmax = np.min(data), np.max(data)\n",
    "x = np.linspace(xmin, xmax, 100)\n",
    "p = norm.pdf(x, mu_day, std_day)\n",
    "\n",
    "\n",
    "# Plot the empirical PDF\n",
    "plt.figure(1)\n",
    "plt.hist(data, bins=20, density=True, alpha=0.8, color='g')\n",
    "\n",
    "# Plot the Gaussian fitted PDF\n",
    "plt.figure(2)\n",
    "plt.plot(x, p, 'k', linewidth=2)\n",
    "title = \"Fit results: mu = %.2f,  std = %.2f\" % (mu_day, std_day)\n",
    "plt.title(title)\n",
    "\n",
    "plt.show()"
   ]
  },
  {
   "cell_type": "markdown",
   "id": "f9073b8d",
   "metadata": {},
   "source": [
    "For this case the same function prob_between_minutes can be used. Try making you own guesses!"
   ]
  },
  {
   "cell_type": "code",
   "execution_count": null,
   "id": "3892696e",
   "metadata": {},
   "outputs": [],
   "source": [
    "prob_between_times(875, 876, mu_day, std_day)"
   ]
  },
  {
   "cell_type": "markdown",
   "id": "3342e80c",
   "metadata": {},
   "source": [
    "### Extra"
   ]
  },
  {
   "cell_type": "code",
   "execution_count": null,
   "id": "129049b6",
   "metadata": {},
   "outputs": [],
   "source": [
    "# Calculate the difference in minutes\n",
    "day_diff = (ice_data['datetime'] - ice_data['reference_date']).dt.total_seconds() / (60*60*24)"
   ]
  },
  {
   "cell_type": "code",
   "execution_count": null,
   "id": "bdc309f2",
   "metadata": {},
   "outputs": [],
   "source": [
    "# Assuming df is your DataFrame and it has a column 'minutes_diff'\n",
    "data = day_diff\n",
    "\n",
    "# Calculate the Gaussian fitted PDF\n",
    "mu_2, std_2 = norm.fit(data)\n",
    "xmin, xmax = np.min(data), np.max(data)\n",
    "x = np.linspace(xmin, xmax, 100)\n",
    "p = norm.pdf(x, mu_2, std_2)\n",
    "\n",
    "\n",
    "# Plot the empirical PDF\n",
    "plt.figure(1)\n",
    "plt.hist(data, bins=30, density=True, alpha=0.8, color='g')\n",
    "\n",
    "# Plot the Gaussian fitted PDF\n",
    "plt.figure(2)\n",
    "plt.plot(x, p, 'k', linewidth=2)\n",
    "title = \"Fit results: mu = %.2f,  std = %.2f\" % (mu_2, std_2)\n",
    "plt.title(title)\n",
    "\n",
    "plt.show()"
   ]
  },
  {
   "cell_type": "code",
   "execution_count": null,
   "id": "24de06fe",
   "metadata": {},
   "outputs": [],
   "source": [
    "prob_between_times(31, 32, mu_2, std_2)"
   ]
  },
  {
   "cell_type": "code",
   "execution_count": null,
   "id": "2c2f00fc",
   "metadata": {},
   "outputs": [],
   "source": []
  },
  {
   "cell_type": "markdown",
   "id": "f740986c",
   "metadata": {},
   "source": [
    "**End of notebook.**\n",
    "\n",
    "<div style=\"margin-top: 50px; padding-top: 20px; border-top: 1px solid #ccc;\">\n",
    "  <div style=\"display: flex; justify-content: flex-end; gap: 20px; align-items: center;\">\n",
    "    <a rel=\"MUDE\" href=\"http://mude.citg.tudelft.nl/\">\n",
    "      <img alt=\"MUDE\" style=\"width:100px; height:auto;\" src=\"https://gitlab.tudelft.nl/mude/public/-/raw/main/mude-logo/MUDE_Logo-small.png\" />\n",
    "    </a>\n",
    "    <a rel=\"TU Delft\" href=\"https://www.tudelft.nl/en/ceg\">\n",
    "      <img alt=\"TU Delft\" style=\"width:100px; height:auto;\" src=\"https://gitlab.tudelft.nl/mude/public/-/raw/main/tu-logo/TU_P1_full-color.png\" />\n",
    "    </a>\n",
    "    <a rel=\"license\" href=\"http://creativecommons.org/licenses/by/4.0/\">\n",
    "      <img alt=\"Creative Commons License\" style=\"width:88px; height:auto;\" src=\"https://i.creativecommons.org/l/by/4.0/88x31.png\" />\n",
    "    </a>\n",
    "  </div>\n",
    "  <div style=\"font-size: 75%; margin-top: 10px; text-align: right;\">\n",
    "    By <a rel=\"MUDE\" href=\"http://mude.citg.tudelft.nl/\">MUDE Team</a>\n",
    "    &copy; 2024 TU Delft. \n",
    "    <a rel=\"license\" href=\"http://creativecommons.org/licenses/by/4.0/\">CC BY 4.0</a>.\n",
    "    <a rel=\"Zenodo DOI\" href=\"https://doi.org/10.5281/zenodo.16782515\"><img style=\"width:auto; height:15; vertical-align:middle\" src=\"https://zenodo.org/badge/DOI/10.5281/zenodo.16782515.svg\" alt=\"DOI https://doi.org/10.5281/zenodo.16782515\"></a>\n",
    "  </div>\n",
    "</div>\n",
    "\n",
    "\n",
    "<!--tested with WS_2_8_solution.ipynb-->"
   ]
  }
 ],
 "metadata": {
  "language_info": {
   "name": "python"
  }
 },
 "nbformat": 4,
 "nbformat_minor": 5
}
