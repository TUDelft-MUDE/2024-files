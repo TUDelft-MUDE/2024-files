{
 "cells": [
  {
   "cell_type": "markdown",
   "metadata": {},
   "source": [
    "# Project 12: Evidence-Based Gambling\n",
    "\n",
    "<h1 style=\"position: absolute; display: flex; flex-grow: 0; flex-shrink: 0; flex-direction: row-reverse; top: 60px;right: 30px; margin: 0; border: 0\">\n",
    "    <style>\n",
    "        .markdown {width:100%; position: relative}\n",
    "        article { position: relative }\n",
    "    </style>\n",
    "    <img src=\"https://gitlab.tudelft.nl/mude/public/-/raw/main/tu-logo/TU_P1_full-color.png\" style=\"width:100px\" />\n",
    "    <img src=\"https://gitlab.tudelft.nl/mude/public/-/raw/main/mude-logo/MUDE_Logo-small.png\" style=\"width:100px\" />\n",
    "</h1>\n",
    "<h2 style=\"height: 10px\">\n",
    "</h2>\n",
    "\n",
    "*[CEGM1000 MUDE](http://mude.citg.tudelft.nl/): Week 2.8. Friday January 18, 2024.*"
   ]
  },
  {
   "cell_type": "markdown",
   "metadata": {
    "tags": []
   },
   "source": [
    "## Introduction\n",
    "\n",
    "In this exercise we evaluate the data from previous Ice Classic years to check the quality of our break-up prediction.\n",
    "\n",
    "To avoid becoming mindless [gamblers](https://www.youtube.com/watch?v=7hx4gdlfamo), we should try to include some logic in our break-up prediction---luckily we spent the last 16 weeks learning to do just that!\n",
    "\n",
    "We have provided all the code you need to complete the analyses here, which does the following:\n",
    "1. Defines functions to help with the analysis\n",
    "2. Imports data and prepares it for use with the functions\n",
    "3. Illustrates how the functions can be used to fit a distribution and compute probabilities for break-up occurring in specific increments of time (assuming the Normal distribution)\n",
    "\n",
    "The time information can be used in three ways (illustrated below), each of which can be interpreted as random variables. The data for these three random variables are processed as follows for all break-up observations:\n",
    "1. minutes from April 1, 00:00 (e.g., 2000 corresponds to April, 2 at 09:20)\n",
    "2. minutes during any day (e.g., 875 corresponds to 14:35)\n",
    "3. days from April 1 (e.g., 16 corresponds to April 16)\n",
    "\n",
    "The basic unit is decimal minutes (type float) from a specific `reference_date`. The documentation and code below also tries to follow two conventions:\n",
    "1. The three time-related units use function and variable names `date` `time` and `day`, repsectively\n",
    "2. In the functions, `minute` is the time (e.g., the MM part of a time HH:MM), wherease `minutes` (note the `s`) is a `float` representation of time in unit of decimal minutes\n",
    "\n",
    "Read through the code, to get an idea of what it is doing, then use the functions (and examples) provided to make the necessary computations."
   ]
  },
  {
   "cell_type": "markdown",
   "metadata": {},
   "source": [
    "<div style=\"background-color:#AABAB2; color: black; vertical-align: middle; padding:15px; margin: 10px; border-radius: 10px; width: 95%\">\n",
    "<p>\n",
    "<b>Task 0:</b>  \n",
    "\n",
    "Read the documentation, code and examples provided. Functions are defined first, then examples.\n",
    "</p>\n",
    "</div>"
   ]
  },
  {
   "cell_type": "code",
   "execution_count": null,
   "metadata": {},
   "outputs": [],
   "source": [
    "import pandas as pd\n",
    "import numpy as np\n",
    "import matplotlib.pyplot as plt\n",
    "from scipy.stats import norm\n",
    "from datetime import datetime, timedelta\n",
    "import calendar"
   ]
  },
  {
   "cell_type": "markdown",
   "metadata": {
    "id": "0491cc69",
    "tags": []
   },
   "source": [
    "A `reference_date` is used to find the relative time for each year, with midnight prior to the morning of April 1 set as default."
   ]
  },
  {
   "cell_type": "code",
   "execution_count": null,
   "metadata": {},
   "outputs": [],
   "source": [
    "reference_date = datetime(year=2024, month=4, day=1, hour=0, minute=0)\n",
    "\n",
    "def minutes_to_date(minutes):\n",
    "    '''From minute, print the day and time.\n",
    "    \n",
    "    Indicates month, day, hour and time given a minute difference\n",
    "    with respect to the 1st April.\n",
    "    Does the opposite of date_to_minutes()\n",
    "    Convention: minute is the str/int and minutes is the float.\n",
    "    - Input: float with difference in minutes\n",
    "    - Output: print corresponding month, day, hour and minute.\n",
    "    '''\n",
    "    new_date = reference_date + timedelta(minutes=minutes)\n",
    "    month_name = calendar.month_name[new_date.month]\n",
    "    \n",
    "    return print(f\"{minutes:.1f} minutes corresponds to:\",\n",
    "                 f\"{month_name} {new_date.day}\",\n",
    "                 f\"at {new_date.hour}:{new_date.minute}.\")\n",
    "\n",
    "\n",
    "def date_to_minutes(month, day, hour, minute, return_float=False):\n",
    "    '''From the day and time (str or int), return minutes (float).\n",
    "    \n",
    "    Indicates minute difference wrt 1st April given 4 strings\n",
    "    that specify with month, day, hour, minute.\n",
    "    Does the opposite of minutes_to_date()\n",
    "    Convention: minute is the str/int and minutes is the float.\n",
    "    - Input: 4x str or int: month, day, hour, minute\n",
    "    - Output: float of minutes of difference wrt 1st April.\n",
    "    \n",
    "    '''\n",
    "    month = int(month)\n",
    "    day = int(day)\n",
    "    hour = int(hour)\n",
    "    minute = int(minute)\n",
    "\n",
    "    new_date = datetime(year=2024, month=month, day=day, hour=hour, minute=minute)\n",
    "    minutes = (new_date - reference_date).total_seconds() / 60\n",
    "    \n",
    "    if return_float:\n",
    "        return minutes\n",
    "    else:\n",
    "        return print(f\"Month {month} day {day} at time {hour}:{minute}\",\n",
    "                     f\" corresponds to: {minutes} minutes.\")\n",
    "\n",
    "def minutes_to_time(minutes):\n",
    "    '''Print hours and minutes in a day given total minutes (float).\n",
    "    \n",
    "    Does the opposite of time_to_minutes()\n",
    "    Convention: minute is the str/int and minutes is the float.\n",
    "    - Input: float of minutes.\n",
    "    - Output: print with corresponding hour and minutes.\n",
    "    '''\n",
    "    hour = minutes // 60\n",
    "    minute = minutes % 60\n",
    "    return print(f\"{minutes:.1f} minutes corresponds to time\",\n",
    "                 f\"{hour}:{minute}.\")\n",
    "\n",
    "def time_to_minutes(hour, minute, return_float=False):\n",
    "    '''Prints minutes in a day given hour and minute (str or int).\n",
    "    \n",
    "    Does the opposite of minutes_to_time()\n",
    "    Convention: minute is the str/int and minutes is the float.\n",
    "    - Input: str or int of hour and minute.\n",
    "    - Output: print with corresponding minutes.\n",
    "    '''\n",
    "    hour = int(hour)\n",
    "    minute = int(minute)\n",
    "    minutes = hour*60 + minute\n",
    "\n",
    "    # return print(f\"The number of minutes passed in the day is {minutes}\")\n",
    "    # return print(f\"{minutes:.1f} minutes corresponds to:\",\n",
    "    #              f\"Month {month_name}, Day {new_date.day},\",\n",
    "    #              f\"Hour {new_date.hour}, Minute {new_date.minute}.\")\n",
    "    if return_float:\n",
    "        return minutes\n",
    "    else:\n",
    "        return print(f\"Time {hour}:{minute}\"\n",
    "                     f\" corresponds to: {minutes} minutes.\")\n",
    "\n",
    "def prob_between_floats(time_float_start, time_float_end, mu, std):\n",
    "    '''\n",
    "    Calculate probability given two floats and the mean and\n",
    "    standard deviation of a Gaussian fit.\n",
    "    \n",
    "    Can handle any of the 3 types of time units, as long as \n",
    "    arguments (all floats) are used consistently.\n",
    "    - Input:\n",
    "       - time_float_start: starting float in time\n",
    "       - time_float_end: end minute\n",
    "       - mu: mean of the normal fit\n",
    "       - std: standard deviation of the normal fit\n",
    "    - Output: \n",
    "       - Probability of a event happening between those minutes\n",
    "    '''\n",
    "\n",
    "    # Calculate the CDF at minute1 and minute2\n",
    "    cdf_start = norm.cdf(time_float_start, mu, std)\n",
    "    cdf_end = norm.cdf(time_float_end, mu, std)\n",
    "\n",
    "    return cdf_end - cdf_start"
   ]
  },
  {
   "cell_type": "markdown",
   "metadata": {},
   "source": [
    "## Import Data\n",
    "\n",
    "Data has already been cleaned and prepared for calculations; the following imports it into a DataFrame and sets two columns to datetime. In particular the columns `minutes` and `minutes_in_day` are the ones of insterest. `minutes` contains floats with the ammount of minutes between the date of each year and the 1st of April of that same year. `minutes_in_day` on the other hand provides the minutes in the day with respect to 00:00 of the `reference_date` given."
   ]
  },
  {
   "cell_type": "code",
   "execution_count": null,
   "metadata": {},
   "outputs": [],
   "source": [
    "ice_data = pd.read_csv('data.csv')\n",
    "ice_data['datetime'] = pd.to_datetime(ice_data[['Year', 'Month', 'Day', 'Hour', 'Minute']])\n",
    "ice_data['ref_date_annual'] = pd.to_datetime(ice_data['Year'].astype(str) + '-04-01')\n",
    "ice_data"
   ]
  },
  {
   "cell_type": "markdown",
   "metadata": {},
   "source": [
    "## Time Unit Type 1: Minutes from the Reference Date\n",
    "\n",
    "The first two functions handle minutes data with respect to the `reference_date`."
   ]
  },
  {
   "cell_type": "code",
   "execution_count": null,
   "metadata": {},
   "outputs": [],
   "source": [
    "date_to_minutes('4', '15', '10', '30')\n",
    "date_to_minutes(4, 15, 10, 30)\n",
    "date_to_minutes('4', '15', '10', '30', return_float=True)"
   ]
  },
  {
   "cell_type": "code",
   "execution_count": null,
   "metadata": {},
   "outputs": [],
   "source": [
    "minutes_to_date(2000)"
   ]
  },
  {
   "cell_type": "markdown",
   "metadata": {},
   "source": [
    "It is always good to check that the functions work as expected. Here we check the `reference_date` and May 1."
   ]
  },
  {
   "cell_type": "code",
   "execution_count": null,
   "metadata": {},
   "outputs": [],
   "source": [
    "date_to_minutes(4, 1, 0, 0)\n",
    "minutes_to_date(date_to_minutes(4, 1, 0, 0, return_float=True))\n",
    "minutes_to_date(date_to_minutes(5, 1, 0, 0, return_float=True))"
   ]
  },
  {
   "cell_type": "markdown",
   "metadata": {},
   "source": [
    "This cell illustrates how you can define your `data` as the minutes (DataFrame column `minutes`) since `reference_date` and fit a Normal distribution.\n",
    "\n",
    "The empirical and fitted PDF's are also plotted."
   ]
  },
  {
   "cell_type": "code",
   "execution_count": null,
   "metadata": {},
   "outputs": [],
   "source": [
    "data = ice_data['minutes']\n",
    "\n",
    "mu_min, std_min = norm.fit(data)\n",
    "xmin, xmax = np.min(data), np.max(data)\n",
    "x = np.linspace(xmin, xmax, 100)\n",
    "p = norm.pdf(x, mu_min, std_min)\n",
    "\n",
    "plt.figure(1)\n",
    "plt.hist(data, bins=30, density=True, alpha=0.8, color='g',\n",
    "        stacked=True,  edgecolor='black', linewidth=1.2)\n",
    "plt.plot(x, p, 'k', linewidth=2)\n",
    "title = \"Fit results: mu = %.2f,  std = %.2f\" % (mu_min, std_min)\n",
    "plt.title(title)\n",
    "plt.xlabel('Minutes since reference date')\n",
    "plt.ylabel('Histogram/PDF')\n",
    "plt.show()"
   ]
  },
  {
   "cell_type": "markdown",
   "metadata": {},
   "source": [
    "Once the fit is done, the next step would be to calculate some probabilities using `prob_between_minutes`."
   ]
  },
  {
   "cell_type": "code",
   "execution_count": null,
   "metadata": {},
   "outputs": [],
   "source": [
    "test_min_1 = 26670\n",
    "test_min_2 = 26671\n",
    "print(f'Function prob_between_floats returns type: ',\n",
    "      f'{type(prob_between_floats(test_min_1, test_min_2, mu_min, std_min))}')\n",
    "print(f'Probability between {test_min_1} min and {test_min_2} min',\n",
    "      f'is {prob_between_floats(test_min_1, test_min_2, mu_min, std_min):.3e}')\n",
    "prob_between_floats(test_min_1, test_min_2, mu_min, std_min)"
   ]
  },
  {
   "cell_type": "markdown",
   "metadata": {},
   "source": [
    "## Time Unit Type 2: Time During a Day\n",
    "\n",
    "Similar to what you saw in the previous section, the same procedure can be applied to the minutes in the day; variable names here use the word `time` to distinguish between minutes from `reference_date` and minutes during a day. The function `minutes_to_time` again provides you with a transformation from minutes to hours and minutes, and the function `time_to_minutes` does the opposite."
   ]
  },
  {
   "cell_type": "code",
   "execution_count": null,
   "metadata": {},
   "outputs": [],
   "source": [
    "minutes_to_time(875)"
   ]
  },
  {
   "cell_type": "code",
   "execution_count": null,
   "metadata": {},
   "outputs": [],
   "source": [
    "time_to_minutes('14', '35')\n",
    "time_to_minutes(14, 35)"
   ]
  },
  {
   "cell_type": "markdown",
   "metadata": {
    "id": "0491cc69",
    "tags": []
   },
   "source": [
    "A probability distribution is fit, as before."
   ]
  },
  {
   "cell_type": "code",
   "execution_count": null,
   "metadata": {},
   "outputs": [],
   "source": [
    "data = ice_data['minutes_in_day']\n",
    "\n",
    "mu_time, std_time = norm.fit(data)\n",
    "xmin, xmax = np.min(data), np.max(data)\n",
    "x = np.linspace(xmin, xmax, 100)\n",
    "p = norm.pdf(x, mu_time, std_time)\n",
    "\n",
    "plt.figure(1)\n",
    "plt.hist(data, bins=20, density=True, alpha=0.8, color='g',\n",
    "        stacked=True,  edgecolor='black', linewidth=1.2)\n",
    "plt.plot(x, p, 'k', linewidth=2)\n",
    "plt.axvline(x = 720, color = 'black', linestyle = ':', alpha = 0.5)\n",
    "title = \"Fit results: mu = %.2f,  std = %.2f\" % (mu_time, std_time)\n",
    "plt.title(title)\n",
    "plt.xlabel('Minutes during day (noon = 720 min)')\n",
    "plt.ylabel('Histogram/PDF')\n",
    "plt.show()"
   ]
  },
  {
   "cell_type": "markdown",
   "metadata": {},
   "source": [
    "For this case the same function prob_between_minutes can be used. Try making you own guesses!"
   ]
  },
  {
   "cell_type": "code",
   "execution_count": null,
   "metadata": {},
   "outputs": [],
   "source": [
    "prob_between_floats(875, 876, mu_time, std_time)"
   ]
  },
  {
   "cell_type": "markdown",
   "metadata": {
    "id": "0491cc69"
   },
   "source": [
    "## Time Unit Type 3: Days from the Reference Date\n",
    "\n",
    "This example is similar to the first case, except `days` from the `reference_date` are used rather than minutes."
   ]
  },
  {
   "cell_type": "code",
   "execution_count": null,
   "metadata": {},
   "outputs": [],
   "source": [
    "days = (ice_data['datetime'] - ice_data['ref_date_annual']).dt.total_seconds()/(60*60*24)\n",
    "data = days\n",
    "\n",
    "# Calculate the Gaussian fitted PDF\n",
    "mu_time_as_day, std_time_as_day = norm.fit(data)\n",
    "xmin, xmax = np.min(data), np.max(data)\n",
    "x = np.linspace(xmin, xmax, 100)\n",
    "p = norm.pdf(x, mu_time_as_day, std_time_as_day)\n",
    "\n",
    "plt.figure(1)\n",
    "plt.hist(data, bins=30, density=True, alpha=0.8, color='g',\n",
    "        stacked=True,  edgecolor='black', linewidth=1.2)\n",
    "plt.plot(x, p, 'k', linewidth=2)\n",
    "plt.axvline(x = 32, color = 'black', linestyle = ':', alpha = 0.5)\n",
    "title = \"Fit results: mu = %.2f,  std = %.2f\" % (mu_time_as_day, std_time_as_day)\n",
    "plt.title(title)\n",
    "plt.xlabel('Days since reference_date (May 1 = 32 days)')\n",
    "plt.ylabel('Histogram/PDF')\n",
    "plt.show()"
   ]
  },
  {
   "cell_type": "markdown",
   "metadata": {},
   "source": [
    "Computing probability for a given day is easy, since the mean and standard deviation are found using days and the distribution is scaled automatically."
   ]
  },
  {
   "cell_type": "code",
   "execution_count": null,
   "metadata": {},
   "outputs": [],
   "source": [
    "prob_between_floats(31, 32, mu_time_as_day, std_time_as_day)"
   ]
  },
  {
   "cell_type": "markdown",
   "metadata": {},
   "source": [
    "## Task 1: Compute a few warm-up probabilities\n",
    "\n",
    "Use the functions illustrated above to complete the following tasks. First, another example for how you can define your guess for day and time\n"
   ]
  },
  {
   "cell_type": "code",
   "execution_count": null,
   "metadata": {},
   "outputs": [],
   "source": [
    "my_month = 4\n",
    "my_day = 29\n",
    "my_hour = 12\n",
    "my_min = 30\n",
    "prediction_min = date_to_minutes(my_month, my_day, my_hour, my_min,\n",
    "                                 return_float=True)\n",
    "prediction_min_in_day = time_to_minutes(my_hour, my_min,\n",
    "                                        return_float=True)\n",
    "\n",
    "date_to_minutes(my_month, my_day, my_hour, my_min)\n",
    "time_to_minutes(my_hour, my_min)"
   ]
  },
  {
   "cell_type": "markdown",
   "metadata": {},
   "source": [
    "<div style=\"background-color:#AABAB2; color: black; vertical-align: middle; padding:15px; margin: 10px; border-radius: 10px; width: 95%\">\n",
    "<p>\n",
    "<b>Task 1.1:</b>  \n",
    "\n",
    "Given a specific day, hour and minute, find the probability of being correct, assuming the Normal distribution.\n",
    "</p>\n",
    "</div>"
   ]
  },
  {
   "cell_type": "code",
   "execution_count": null,
   "metadata": {},
   "outputs": [],
   "source": [
    "p1 = prob_between_floats(prediction_min,\n",
    "                         prediction_min+1,\n",
    "                         mu_min, std_min)\n",
    "print(f'Probability of my guess is: {p1:.3e}')"
   ]
  },
  {
   "cell_type": "markdown",
   "metadata": {},
   "source": [
    "<div style=\"background-color:#AABAB2; color: black; vertical-align: middle; padding:15px; margin: 10px; border-radius: 10px; width: 95%\">\n",
    "<p>\n",
    "<b>Task 1.2:</b>  \n",
    "\n",
    "Given a specific hour and minute in any day, find the probability of being correct, assuming the Normal distribution.\n",
    "</p>\n",
    "</div>"
   ]
  },
  {
   "cell_type": "code",
   "execution_count": null,
   "metadata": {},
   "outputs": [],
   "source": [
    "p2 = prob_between_floats(prediction_min_in_day,\n",
    "                         prediction_min_in_day+1,\n",
    "                         mu_time, std_time)\n",
    "print(f'Probability of my guess is: {p2:.3e}')"
   ]
  },
  {
   "cell_type": "markdown",
   "metadata": {},
   "source": [
    "<div style=\"background-color:#AABAB2; color: black; vertical-align: middle; padding:15px; margin: 10px; border-radius: 10px; width: 95%\">\n",
    "<p>\n",
    "<b>Task 1.3:</b>  \n",
    "\n",
    "Given a specific day, find the probability of being correct, assuming the Normal distribution.\n",
    "    \n",
    "<em>Remember that no functions are provided for Type 3 time units, so if your guess is in May you will need to continue numbering from the 30th day in April (e.g., May 2 = day 32).</em>\n",
    "</p>\n",
    "</div>"
   ]
  },
  {
   "cell_type": "code",
   "execution_count": null,
   "metadata": {},
   "outputs": [],
   "source": [
    "p3 = prob_between_floats(my_day,\n",
    "                         my_day+1,\n",
    "                         mu_time_as_day,\n",
    "                         std_time_as_day)\n",
    "print(f'Probability of my guess is: {p3:.3e}')"
   ]
  },
  {
   "cell_type": "markdown",
   "metadata": {},
   "source": [
    "## Task 2: Compute the probability of your prediction!\n",
    "\n",
    "Computing the probability that your prediction is correct is not as straightforward as choosing one of the methods above. It is actually related to system probability!\n",
    "\n",
    "To find the probability of your prediction, you need to combine 2 of the 3 pieces used in Task 1."
   ]
  },
  {
   "cell_type": "markdown",
   "metadata": {},
   "source": [
    "<div style=\"background-color:#AABAB2; color: black; vertical-align: middle; padding:15px; margin: 10px; border-radius: 10px; width: 95%\">\n",
    "<p>\n",
    "<b>Task 2:</b>  \n",
    "\n",
    "Compute the probability of your prediction being correct (you can assume the two \"things\" you need are independent).\n",
    "</p>\n",
    "</div>"
   ]
  },
  {
   "cell_type": "markdown",
   "metadata": {},
   "source": [
    "<div style=\"background-color:#FAE99E; color: black; vertical-align: middle; padding:15px; margin: 10px; border-radius: 10px; width: 95%\">\n",
    "<p>\n",
    "<b>Solution:</b>   \n",
    "\n",
    "Type 1 is not good: it assumes time as a continuous across many days, however, from Type 2 it is clear that most break-up times happen in the early afternoon. To account for this we should separate the prediction probability into two parts: day and time of day, which is a combination of Type 2 and Type 3. The probability of our prediction being correct is the intersection of these two types of predictions being correct.\n",
    "</p>\n",
    "</div>"
   ]
  },
  {
   "cell_type": "code",
   "execution_count": null,
   "metadata": {},
   "outputs": [],
   "source": [
    "p_prediction = p2*p3\n",
    "print(f'Probability of my prediction is: {p_prediction:.3e}')"
   ]
  },
  {
   "cell_type": "markdown",
   "metadata": {},
   "source": [
    "**End of notebook.**\n",
    "\n",
    "<div style=\"margin-top: 50px; padding-top: 20px; border-top: 1px solid #ccc;\">\n",
    "  <div style=\"display: flex; justify-content: flex-end; gap: 20px; align-items: center;\">\n",
    "    <a rel=\"MUDE\" href=\"http://mude.citg.tudelft.nl/\">\n",
    "      <img alt=\"MUDE\" style=\"width:100px; height:auto;\" src=\"https://gitlab.tudelft.nl/mude/public/-/raw/main/mude-logo/MUDE_Logo-small.png\" />\n",
    "    </a>\n",
    "    <a rel=\"TU Delft\" href=\"https://www.tudelft.nl/en/ceg\">\n",
    "      <img alt=\"TU Delft\" style=\"width:100px; height:auto;\" src=\"https://gitlab.tudelft.nl/mude/public/-/raw/main/tu-logo/TU_P1_full-color.png\" />\n",
    "    </a>\n",
    "    <a rel=\"license\" href=\"http://creativecommons.org/licenses/by/4.0/\">\n",
    "      <img alt=\"Creative Commons License\" style=\"width:88px; height:auto;\" src=\"https://i.creativecommons.org/l/by/4.0/88x31.png\" />\n",
    "    </a>\n",
    "  </div>\n",
    "  <div style=\"font-size: 75%; margin-top: 10px; text-align: right;\">\n",
    "    By <a rel=\"MUDE\" href=\"http://mude.citg.tudelft.nl/\">MUDE Team</a>\n",
    "    &copy; 2024 TU Delft. \n",
    "    <a rel=\"license\" href=\"http://creativecommons.org/licenses/by/4.0/\">CC BY 4.0</a>.\n",
    "    <a rel=\"Zenodo DOI\" href=\"https://doi.org/10.5281/zenodo.16782515\"><img style=\"width:auto; height:15; vertical-align:middle\" src=\"https://zenodo.org/badge/DOI/10.5281/zenodo.16782515.svg\" alt=\"DOI https://doi.org/10.5281/zenodo.16782515\"></a>\n",
    "  </div>\n",
    "</div>\n",
    "\n",
    "\n",
    "<!--tested with WS_2_8_solution.ipynb-->"
   ]
  }
 ],
 "metadata": {
  "language_info": {
   "name": "python"
  }
 },
 "nbformat": 4,
 "nbformat_minor": 4
}
