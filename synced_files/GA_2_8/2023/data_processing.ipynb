{
 "cells": [
  {
   "cell_type": "code",
   "execution_count": null,
   "id": "1663fcf6",
   "metadata": {},
   "outputs": [],
   "source": [
    "import pandas as pd\n",
    "import numpy as np\n",
    "import matplotlib.pyplot as plt\n",
    "from scipy.stats import norm\n",
    "from datetime import datetime, timedelta\n",
    "import calendar"
   ]
  },
  {
   "cell_type": "code",
   "execution_count": null,
   "id": "606e43c0",
   "metadata": {},
   "outputs": [],
   "source": [
    "specific_date = datetime(year=2024, month=4, day=1, hour=0, minute=0)\n",
    "\n",
    "# Define columns to keep\n",
    "keep_cols = [0,1,2,7,4]\n",
    "\n",
    "# Define rows to skip\n",
    "skip_rows = 0\n",
    "\n",
    "# Import data \n",
    "ice_data = pd.read_excel('./data.xlsx', sheet_name = 'Worksheet', skiprows=skip_rows, usecols=keep_cols)\n",
    "\n",
    "# Create a column with only hours in 24h format \n",
    "ice_data['Hour'] = np.floor(ice_data['Hour (24)'])\n",
    "\n",
    "# Creates new column in datetime format\n",
    "ice_data['datetime'] = pd.to_datetime(ice_data[['Year', 'Month', 'Day', 'Hour', 'Minute']])\n",
    "\n",
    "# Calculate the difference in minutes\n",
    "ice_data['minutes'] = np.abs((ice_data['datetime'] - specific_date).dt.total_seconds() / 60)\n",
    "\n",
    "#calculate minute of the day\n",
    "ice_data['minutes_in_day'] = ice_data['datetime'].dt.hour * 60 + ice_data['datetime'].dt.minute\n",
    "\n",
    "# Make sure all data is in the right format\n",
    "ice_data['datetime'] = pd.to_datetime(ice_data[['Year', 'Month', 'Day', 'Hour', 'Minute']])\n",
    "ice_data['Year'] = ice_data['datetime'].dt.year\n",
    "ice_data['Month'] = ice_data['datetime'].dt.month\n",
    "ice_data['Day'] = ice_data['datetime'].dt.day\n",
    "ice_data['Hour'] = ice_data['datetime'].dt.hour\n",
    "ice_data['Minute'] = ice_data['datetime'].dt.minute\n",
    "\n",
    "# Create a new column for the specific date (April 1st at 00:00) of the same year\n",
    "ice_data['ref_date_annual'] = pd.to_datetime(ice_data['Year'].astype(str) + '-04-01')\n",
    "\n",
    "# Calculate the difference in minutes\n",
    "ice_data['minutes'] = (ice_data['datetime'] - ice_data['ref_date_annual']).dt.total_seconds() / 60\n",
    "\n",
    "#calculate minute of the day\n",
    "ice_data['minutes_in_day'] = ice_data['datetime'].dt.hour * 60 + ice_data['datetime'].dt.minute"
   ]
  },
  {
   "cell_type": "code",
   "execution_count": null,
   "id": "669ea71f",
   "metadata": {},
   "outputs": [],
   "source": [
    "ice_data.to_csv('data.csv', index=False)\n",
    "ice_data = pd.read_csv('data.csv')\n",
    "ice_data['datetime'] = pd.to_datetime(ice_data[['Year', 'Month', 'Day', 'Hour', 'Minute']])\n",
    "ice_data['ref_date_annual'] = pd.to_datetime(ice_data['Year'].astype(str) + '-04-01')"
   ]
  },
  {
   "cell_type": "code",
   "execution_count": null,
   "id": "428ebcbc",
   "metadata": {},
   "outputs": [],
   "source": [
    "ice_data"
   ]
  },
  {
   "cell_type": "code",
   "execution_count": null,
   "id": "1eeb9a3d",
   "metadata": {},
   "outputs": [],
   "source": []
  },
  {
   "cell_type": "markdown",
   "id": "a282e11d",
   "metadata": {},
   "source": [
    "**End of notebook.**\n",
    "\n",
    "<div style=\"margin-top: 50px; padding-top: 20px; border-top: 1px solid #ccc;\">\n",
    "  <div style=\"display: flex; justify-content: flex-end; gap: 20px; align-items: center;\">\n",
    "    <a rel=\"MUDE\" href=\"http://mude.citg.tudelft.nl/\">\n",
    "      <img alt=\"MUDE\" style=\"width:100px; height:auto;\" src=\"https://gitlab.tudelft.nl/mude/public/-/raw/main/mude-logo/MUDE_Logo-small.png\" />\n",
    "    </a>\n",
    "    <a rel=\"TU Delft\" href=\"https://www.tudelft.nl/en/ceg\">\n",
    "      <img alt=\"TU Delft\" style=\"width:100px; height:auto;\" src=\"https://gitlab.tudelft.nl/mude/public/-/raw/main/tu-logo/TU_P1_full-color.png\" />\n",
    "    </a>\n",
    "    <a rel=\"license\" href=\"http://creativecommons.org/licenses/by/4.0/\">\n",
    "      <img alt=\"Creative Commons License\" style=\"width:88px; height:auto;\" src=\"https://i.creativecommons.org/l/by/4.0/88x31.png\" />\n",
    "    </a>\n",
    "  </div>\n",
    "  <div style=\"font-size: 75%; margin-top: 10px; text-align: right;\">\n",
    "    By <a rel=\"MUDE\" href=\"http://mude.citg.tudelft.nl/\">MUDE Team</a>\n",
    "    &copy; 2024 TU Delft. \n",
    "    <a rel=\"license\" href=\"http://creativecommons.org/licenses/by/4.0/\">CC BY 4.0</a>.\n",
    "    <a rel=\"Zenodo DOI\" href=\"https://doi.org/10.5281/zenodo.16782515\"><img style=\"width:auto; height:15; vertical-align:middle\" src=\"https://zenodo.org/badge/DOI/10.5281/zenodo.16782515.svg\" alt=\"DOI https://doi.org/10.5281/zenodo.16782515\"></a>\n",
    "  </div>\n",
    "</div>\n",
    "\n",
    "\n",
    "<!--tested with WS_2_8_solution.ipynb-->"
   ]
  }
 ],
 "metadata": {
  "language_info": {
   "name": "python"
  }
 },
 "nbformat": 4,
 "nbformat_minor": 5
}
