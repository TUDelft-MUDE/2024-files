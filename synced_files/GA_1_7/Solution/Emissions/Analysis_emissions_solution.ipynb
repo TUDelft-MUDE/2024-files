{
 "cells": [
  {
   "cell_type": "markdown",
   "id": "6eb105f6",
   "metadata": {
    "tags": []
   },
   "source": [
    "# Group Assignment 1.7: Distribution Fitting\n",
    "\n",
    "<h1 style=\"position: absolute; display: flex; flex-grow: 0; flex-shrink: 0; flex-direction: row-reverse; top: 60px;right: 30px; margin: 0; border: 0\">\n",
    "    <style>\n",
    "        .markdown {width:100%; position: relative}\n",
    "        article { position: relative }\n",
    "    </style>\n",
    "    <img src=\"https://gitlab.tudelft.nl/mude/public/-/raw/main/tu-logo/TU_P1_full-color.png\" style=\"width:100px; height: auto; margin: 0\" />\n",
    "    <img src=\"https://gitlab.tudelft.nl/mude/public/-/raw/main/mude-logo/MUDE_Logo-small.png\" style=\"width:100px; height: auto; margin: 0\" />\n",
    "</h1>\n",
    "<h2 style=\"height: 10px\">\n",
    "</h2>\n",
    "\n",
    "*[CEGM1000 MUDE](http://mude.citg.tudelft.nl/): Week 7, Friday Oct 18, 2024.*"
   ]
  },
  {
   "cell_type": "markdown",
   "id": "1d96a4f0",
   "metadata": {
    "id": "1db6fea9-f3ad-44bc-a4c8-7b2b3008e945"
   },
   "source": [
    "## Case 2: $CO_2$ emissions from traffic\n",
    "\n",
    "**What's the propagated uncertainty? *How large will be the $CO_2$ emissions?***\n",
    "\n",
    "In this project, you have chosen to work on the uncertainty of the number of cars and heavy vehicles to estimate their $CO_2$ emissions. You have observations every five minutes of the number of cars, $C$, and the number of heavy vehicles, $H$ (more on the dataset [here](https://www.kaggle.com/datasets/hasibullahaman/traffic-prediction-dataset)). As you know, traffic is an important source of $CO_2$ emissions that contribute to the greenhouse effect. Here, the emitted $CO_2$ will be estimated for a trip of 1km using the emissions intensities from [Nishimura and Haga (2023)](https://sumitomoelectric.com/sites/default/files/2023-10/download_documents/E97-03.pdf), assuming that the cars use gasolite as fuel and the heavy vehicles, diesel. Emissions can be computed as \n",
    "\n",
    "$$\n",
    "CO2 = 143 C + 469 H\n",
    "$$\n",
    "\n",
    "**The goal of this project is:**\n",
    "1. Choose a reasonable distribution function for $H$ and $C$.\n",
    "2. Fit the chosen distributions to the observations of $H$ and $C$.\n",
    "3. Assuming $H$ and $C$ are independent, propagate their distributions to obtain the distribution of emissions of $CO_2$.\n",
    "4. Analyze the distribution of emissions of $CO_2$."
   ]
  },
  {
   "cell_type": "markdown",
   "id": "46053999",
   "metadata": {
    "id": "d33f1148-c72b-4c7e-bca7-45973b2570c5"
   },
   "source": [
    "## Importing packages"
   ]
  },
  {
   "cell_type": "code",
   "execution_count": null,
   "id": "860c6865",
   "metadata": {},
   "outputs": [],
   "source": [
    "import numpy as np\n",
    "import matplotlib.pyplot as plt\n",
    "\n",
    "from scipy import stats \n",
    "from math import ceil, trunc\n",
    "\n",
    "plt.rcParams.update({'font.size': 14})"
   ]
  },
  {
   "cell_type": "markdown",
   "id": "33bb6d93",
   "metadata": {},
   "source": [
    "## 1. Explore the data"
   ]
  },
  {
   "cell_type": "markdown",
   "id": "8dc71aad",
   "metadata": {},
   "source": [
    "First step in the analysis is exploring the data, visually and through its statistics."
   ]
  },
  {
   "cell_type": "code",
   "execution_count": null,
   "id": "3da811cf",
   "metadata": {},
   "outputs": [],
   "source": [
    "# Import\n",
    "C, H = np.genfromtxt('dataset_traffic.csv', delimiter=\",\", unpack=True, skip_header=True)\n",
    "\n",
    "# plot time series\n",
    "fig, ax = plt.subplots(2, 1, figsize=(10, 7), layout = 'constrained')\n",
    "ax[0].plot(H,'k')\n",
    "ax[0].set_xlabel('Time')\n",
    "ax[0].set_ylabel('Number of heavy vehicles, H')\n",
    "ax[0].grid()\n",
    "\n",
    "ax[1].plot(C,'k')\n",
    "ax[1].set_xlabel('Time')\n",
    "ax[1].set_ylabel('Number of cars, C')\n",
    "ax[1].grid()"
   ]
  },
  {
   "cell_type": "code",
   "execution_count": null,
   "id": "001663fb",
   "metadata": {},
   "outputs": [],
   "source": [
    "# Statistics for H\n",
    "\n",
    "print(stats.describe(H))\n",
    "stats.describe(H).mean"
   ]
  },
  {
   "cell_type": "code",
   "execution_count": null,
   "id": "114c670a",
   "metadata": {},
   "outputs": [],
   "source": [
    "# Statistics for d\n",
    "\n",
    "print(stats.describe(C))"
   ]
  },
  {
   "cell_type": "markdown",
   "id": "8cd88a33",
   "metadata": {
    "id": "bfadcf3f-4578-4809-acdb-625ab3a71f27"
   },
   "source": [
    "<div style=\"background-color:#AABAB2; color: black; width:95%; vertical-align: middle; padding:15px; margin: 10px; border-radius: 10px\">\n",
    "<p>\n",
    "<b>Task 1:</b>  \n",
    "\n",
    "Describe the data based on the previous statistics:\n",
    "- Which variable presents a higher variability?</li>\n",
    "- What does the skewness coefficient means? Which kind of distribution functions should we consider to fit them?</li>\n",
    "</p>\n",
    "</div>"
   ]
  },
  {
   "cell_type": "markdown",
   "id": "c30fba87",
   "metadata": {},
   "source": [
    "<div style=\"background-color:#FAE99E; color: black; width:95%; vertical-align: middle; padding:15px; margin: 10px; border-radius: 10px\">\n",
    "    <b>Solution:</b>\n",
    "\n",
    "- $C$ presents a higher variance but also a higher mean. If we compute the coefficient of variation to standardize that variability, we obtain $CV(H)=151.8/30.6 = 4.96$ and $CV(C)= 2102.3/68.7 = 30.6$. Thus, $C$ has higher variability than $H$.</li>\n",
    "- Both $H$ and $C$ have a positive skewness, but close to zero. Thus, the data does not seem to present a clear right tail so we could assume that their distribution is symmetric. An appropriate distribution for $H$ and $C$ would be one which: (1) it is bounded in 0 (no negative values of $H$ or $C$ are physically possible), and (2) is symmetric. If we consider the distributions that you have been introduced to, Uniform or Gaussian (although this is not bounded) would be a possibility</li>\n",
    "</div>\n",
    "</div>"
   ]
  },
  {
   "cell_type": "markdown",
   "id": "71089642",
   "metadata": {},
   "source": [
    "## 2. Empirical distribution functions"
   ]
  },
  {
   "cell_type": "markdown",
   "id": "c40caac3",
   "metadata": {},
   "source": [
    "Now, we are going to compute and plot the empirical PDF and CDF for each variable. Note that you have the pseudo-code for the empirical CDF in the [reader](https://mude.citg.tudelft.nl/book/probability/empirical.html)."
   ]
  },
  {
   "cell_type": "markdown",
   "id": "e9e38886",
   "metadata": {},
   "source": [
    "<div style=\"background-color:#AABAB2; color: black; width:95%; vertical-align: middle; padding:15px; margin: 10px; border-radius: 10px\">\n",
    "<p>\n",
    "<b>Task 2:</b>   \n",
    "\n",
    "Define a function to compute the empirical CDF. Plot the empirical PDF and CDF.\n",
    "</p>\n",
    "</div>"
   ]
  },
  {
   "cell_type": "code",
   "execution_count": null,
   "id": "493d2d09",
   "metadata": {},
   "outputs": [],
   "source": [
    "def ecdf(var):\n",
    "    x = np.sort(var) # sort the values from small to large\n",
    "    n = x.size # determine the number of datapoints\n",
    "    y = np.arange(1, n+1) / (n+1)\n",
    "    return [y, x]"
   ]
  },
  {
   "cell_type": "code",
   "execution_count": null,
   "id": "a9ee549a",
   "metadata": {},
   "outputs": [],
   "source": [
    "fig, axes = plt.subplots(1, 2, figsize=(14, 5))\n",
    "axes[0].hist(H, edgecolor='k', linewidth=0.2, \n",
    "             color='cornflowerblue', label='Number of heavy vehicles, H', density = True)\n",
    "axes[0].set_xlabel('Random variable (X)')\n",
    "axes[0].set_ylabel('density')\n",
    "axes[0].hist(C, edgecolor='k', linewidth=0.2, alpha = 0.5, \n",
    "             color='grey', label='Number of cars, C', density = True)\n",
    "axes[0].set_title('PDF', fontsize=18)\n",
    "axes[0].grid()\n",
    "axes[0].legend()\n",
    "\n",
    "axes[1].step(ecdf(H)[1], ecdf(H)[0], \n",
    "             color='cornflowerblue', label='Number of heavy vehicles, H')\n",
    "axes[1].set_xlabel('Random variable (X)')\n",
    "axes[1].set_ylabel('${P[X \\\\leq x]}$')\n",
    "axes[1].step(ecdf(C)[1], ecdf(C)[0], \n",
    "             color='grey', label='Number of cars, C')\n",
    "axes[1].set_title('CDF', fontsize=18)\n",
    "axes[1].legend()\n",
    "axes[1].grid()"
   ]
  },
  {
   "cell_type": "markdown",
   "id": "2138d0c6",
   "metadata": {
    "id": "bfadcf3f-4578-4809-acdb-625ab3a71f27"
   },
   "source": [
    "<div style=\"background-color:#AABAB2; color: black; width:95%; vertical-align: middle; padding:15px; margin: 10px; border-radius: 10px\">\n",
    "<p>\n",
    "<b>Task 3:</b>   \n",
    "\n",
    "Based on the results of Task 1 and the empirical PDF and CDF, select <b>one</b> distribution to fit to each variable. For $H$, select between Gumbel or Gaussian distribution, while for $C$ choose between Uniform or Lognormal.\n",
    "</p>\n",
    "</div>"
   ]
  },
  {
   "cell_type": "markdown",
   "id": "cc79663c",
   "metadata": {},
   "source": [
    "<div style=\"background-color:#FAE99E; color: black; width:95%; vertical-align: middle; padding:15px; margin: 10px; border-radius: 10px\">\n",
    "    <b>Solution:</b>\n",
    "\n",
    "$H$: Gaussian\n",
    "$C$: Uniform\n",
    "</div>\n",
    "</div>"
   ]
  },
  {
   "cell_type": "markdown",
   "id": "4cf68565",
   "metadata": {},
   "source": [
    "## 3. Fitting a distribution"
   ]
  },
  {
   "cell_type": "markdown",
   "id": "3343131f",
   "metadata": {},
   "source": [
    "<div style=\"background-color:#AABAB2; color: black; width:95%; vertical-align: middle; padding:15px; margin: 10px; border-radius: 10px\">\n",
    "<p>\n",
    "<b>Task 4:</b>   \n",
    "\n",
    "Fit the selected distributions to the observations using MLE.\n",
    "</p>\n",
    "</div>\n",
    "\n",
    "Hint: Use [Scipy](https://docs.scipy.org/doc/scipy/reference/stats.html) built in functions (watch out with the parameters definition!)."
   ]
  },
  {
   "cell_type": "code",
   "execution_count": null,
   "id": "d34a3e2a",
   "metadata": {},
   "outputs": [],
   "source": [
    "params_H = stats.norm.fit(H)\n",
    "params_C = stats.uniform.fit(C)"
   ]
  },
  {
   "cell_type": "markdown",
   "id": "34cb73b4",
   "metadata": {},
   "source": [
    "## 4. Assessing goodness of fit"
   ]
  },
  {
   "cell_type": "markdown",
   "id": "40a9f58f",
   "metadata": {},
   "source": [
    "<div style=\"background-color:#AABAB2; color: black; width:95%; vertical-align: middle; padding:15px; margin: 10px; border-radius: 10px\">\n",
    "<p>\n",
    "<b>Task 5:</b>   \n",
    "\n",
    "Assess the goodness of fit of the selected distribution using:\n",
    "- One graphical method: QQplot or Logscale. Choose one.</li>\n",
    "- Kolmogorov-Smirnov test.</li>\n",
    "</p>\n",
    "</div>\n",
    "\n",
    "Hint: You have Kolmogorov-Smirnov test implemented in [Scipy](https://docs.scipy.org/doc/scipy/reference/stats.html)."
   ]
  },
  {
   "cell_type": "code",
   "execution_count": null,
   "id": "16b72f49",
   "metadata": {},
   "outputs": [],
   "source": [
    "#Graphical method\n",
    "\n",
    "#Logscale\n",
    "\n",
    "fig, axes = plt.subplots(1, 2, figsize=(14, 5))\n",
    "\n",
    "axes[0].step(ecdf(H)[1], 1-ecdf(H)[0], \n",
    "             color='k', label='Number of heavy vehicles, H')\n",
    "axes[0].plot(ecdf(H)[1], 1-stats.norm.cdf(ecdf(H)[1], *params_H),\n",
    "             '--', color = 'grey', label='Gaussian')\n",
    "axes[0].set_xlabel('Number of heavy vehicles, H')\n",
    "axes[0].set_ylabel('${P[X > x]}$')\n",
    "axes[0].set_title('H', fontsize=18)\n",
    "axes[0].set_yscale('log')\n",
    "axes[0].legend()\n",
    "axes[0].grid()\n",
    "\n",
    "axes[1].step(ecdf(C)[1], 1-ecdf(C)[0], \n",
    "             color='k', label='Number of cars, C')\n",
    "axes[1].plot(ecdf(C)[1], 1-stats.uniform.cdf(ecdf(C)[1], *params_C),\n",
    "             '--', color = 'grey', label='Uniform')\n",
    "axes[1].set_xlabel('Number of cars, C')\n",
    "axes[1].set_ylabel('${P[X > x]}$')\n",
    "axes[1].set_title('C', fontsize=18)\n",
    "axes[1].set_yscale('log')\n",
    "axes[1].legend()\n",
    "axes[1].grid()"
   ]
  },
  {
   "cell_type": "code",
   "execution_count": null,
   "id": "274c46d8",
   "metadata": {},
   "outputs": [],
   "source": [
    "# QQplot\n",
    "\n",
    "fig, axes = plt.subplots(1, 2, figsize=(14, 5))\n",
    "\n",
    "axes[0].plot([trunc(min(H)), ceil(max(H))], [trunc(min(H)), ceil(max(H))], 'k')\n",
    "axes[0].scatter(ecdf(H)[1], stats.norm.ppf(ecdf(H)[0], *params_H), \n",
    "             color='grey', label='Gaussian')\n",
    "axes[0].set_xlabel('Observed H (m)')\n",
    "axes[0].set_ylabel('Estimated H (m)')\n",
    "axes[0].set_title('H', fontsize=18)\n",
    "axes[0].set_xlim([trunc(min(H)), ceil(max(H))])\n",
    "axes[0].set_ylim([trunc(min(H)), ceil(max(H))])\n",
    "axes[0].legend()\n",
    "axes[0].grid()\n",
    "\n",
    "axes[1].plot([trunc(min(C)), ceil(max(C))], [trunc(min(C)), ceil(max(C))], 'k')\n",
    "axes[1].scatter(ecdf(C)[1], stats.uniform.ppf(ecdf(C)[0], *params_C), \n",
    "             color='grey', label='Uniform')\n",
    "axes[1].set_xlabel('Observed C (s)')\n",
    "axes[1].set_ylabel('Estimated C (s)')\n",
    "axes[1].set_title('C', fontsize=18)\n",
    "axes[1].set_xlim([trunc(min(C)), ceil(max(C))])\n",
    "axes[1].set_ylim([trunc(min(C)), ceil(max(C))])\n",
    "axes[1].legend()\n",
    "axes[1].grid()"
   ]
  },
  {
   "cell_type": "code",
   "execution_count": null,
   "id": "3920b399",
   "metadata": {},
   "outputs": [],
   "source": [
    "#KStest\n",
    "\n",
    "_, p_H = stats.kstest(H,stats.norm.cdf, args=params_H)\n",
    "_, p_C = stats.kstest(C,stats.uniform.cdf, args=params_C)\n",
    "\n",
    "print('The p-value for the fitted Gaussian distribution to H is:', round(p_H, 3))\n",
    "print('The p-value for the fitted Uniform distribution to C is:', round(p_C, 3))"
   ]
  },
  {
   "cell_type": "markdown",
   "id": "5e91a235",
   "metadata": {},
   "source": [
    "<div style=\"background-color:#AABAB2; color: black; width:95%; vertical-align: middle; padding:15px; margin: 10px; border-radius: 10px\">\n",
    "<p>\n",
    "<b>Task 6:</b>   \n",
    "\n",
    "Interpret the results of the GOF techniques. How does the selected parametric distribution perform?\n",
    "</p>\n",
    "</div>"
   ]
  },
  {
   "cell_type": "markdown",
   "id": "b5f13786",
   "metadata": {},
   "source": [
    "<div style=\"background-color:#FAE99E; color: black; width:95%; vertical-align: middle; padding:15px; margin: 10px; border-radius: 10px\">\n",
    "    <b>Solution:</b>\n",
    "\n",
    "- Logscale plot: This technique allows to visually assess the fitting of the parametric distribution to the tail of the empirical distribution. We can confirm here that $H$ and $C$ present pretty symmetric distributions, as Gaussian and Uniform distribution capture pretty well the behavior in the tail. </li>\n",
    "- QQplot: Gaussian distribution provides a very good fitting for $H$ regardless if we are analyzing the central moments or the tails. On the contrary, Uniform distribution performs poorly for $C$ as the observations are far from the 45-degrees line all along the analyzed range of values.</li>\n",
    "- Kolmogorov-Smirnov test: remember that the test statistic measures the difference between two distributions. The p-value then represents the probability of observing a difference at least that large for a sample from the assumed distribution. If p-value is lower than the significance ($\\alpha=0.05$, for instance), the null hypothesis is rejected. Considering here $\\alpha=0.05$, we can reject that the variable $H$ comes from a Gaussian distribution and that $C$ comes from a Uniform distribution. However, visually, the Gaussian distribution seems a pretty good fit for $H$.</li>\n",
    "</div>\n",
    "</div>"
   ]
  },
  {
   "cell_type": "markdown",
   "id": "49e89dc7",
   "metadata": {},
   "source": [
    "## 5. Propagating the uncertainty"
   ]
  },
  {
   "cell_type": "markdown",
   "id": "2cb24bfe",
   "metadata": {},
   "source": [
    "Using the fitted distributions, we are going to propagate the uncertainty from $H$ and $C$ to the emissions of $CO_2$ **assuming that $H$ and $C$ are independent**.\n",
    "\n",
    "<div style=\"background-color:#AABAB2; color: black; width:95%; vertical-align: middle; padding:15px; margin: 10px; border-radius: 10px\">\n",
    "<p>\n",
    "<b>Task 7:</b>   \n",
    "    \n",
    "1. Draw 10,000 random samples from the fitted distribution functions for $H$ and $C$.\n",
    "    \n",
    "2. Compute emissions of $CO_2$ for each pair of samples.\n",
    "    \n",
    "3. Compute emissions of $CO_2$ for the observations.\n",
    "    \n",
    "4. Plot the PDF and exceedance curve in logscale of the emissions of $CO_2$ computed using both the simulations and the observations.\n",
    "</p>\n",
    "</div>"
   ]
  },
  {
   "cell_type": "code",
   "execution_count": null,
   "id": "f69b2935",
   "metadata": {},
   "outputs": [],
   "source": [
    "# Here, the solution is shown for the Lognormal distribution\n",
    "\n",
    "# Draw random samples\n",
    "rs_H = stats.norm.rvs(*params_H, size = 10000)\n",
    "rs_C = stats.uniform.rvs(*params_C, size = 10000)\n",
    "\n",
    "#Compute Fh\n",
    "rs_CO2 = 469 * rs_H + 143 * rs_C\n",
    "\n",
    "#repeat for observations\n",
    "CO2 = 469 * H + 143 * C\n",
    "\n",
    "#plot the PDF and the CDF\n",
    "fig, axes = plt.subplots(1, 2, figsize=(12, 7))\n",
    "axes[0].hist(rs_CO2, edgecolor='k', linewidth=0.2, density = True, label = 'From simulations')\n",
    "axes[0].hist(CO2, edgecolor='k', facecolor = 'orange', alpha = 0.5, linewidth=0.2, \n",
    "             density = True, label = 'From observations')\n",
    "axes[0].set_xlabel('Emissions of CO2 (g)')\n",
    "axes[0].set_ylabel('density')\n",
    "axes[0].set_title('PDF', fontsize=18)\n",
    "axes[0].legend()\n",
    "axes[0].grid()\n",
    "\n",
    "axes[1].step(ecdf(rs_CO2)[1], 1-ecdf(rs_CO2)[0], label = 'From simulations')\n",
    "axes[1].step(ecdf(CO2)[1], 1-ecdf(CO2)[0], color = 'orange', label = 'From observations')\n",
    "axes[1].set_xlabel('Emissions of CO2 (g)')\n",
    "axes[1].set_ylabel('${P[X > x]}$')\n",
    "axes[1].set_title('Exceedance plot', fontsize=18)\n",
    "axes[1].set_yscale('log')\n",
    "axes[1].legend()\n",
    "axes[1].grid()"
   ]
  },
  {
   "cell_type": "markdown",
   "id": "1deb91b6",
   "metadata": {},
   "source": [
    "<div style=\"background-color:#AABAB2; color: black; width:95%; vertical-align: middle; padding:15px; margin: 10px; border-radius: 10px\">\n",
    "<p>\n",
    "<b>Task 8:</b>   \n",
    "\n",
    "Interpret the figures above, answering the following questions:\n",
    "    <li>Are there differences between the two computed distributions for $F_h$?</li>\n",
    "    <li>What are the advantages and disadvantages of using the simulations?</li>\n",
    "</p>\n",
    "</div>"
   ]
  },
  {
   "cell_type": "markdown",
   "id": "572a330e",
   "metadata": {},
   "source": [
    "<div style=\"background-color:#FAE99E; color: black; width:95%; vertical-align: middle; padding:15px; margin: 10px; border-radius: 10px\">\n",
    "    <b>Solution:</b>\n",
    "\n",
    "- In the PDF plot, we can see that the shape of the distribution is similar although the mode of the simulations is higher than that of the observations. In the CDF plot, we can also see that shift of the distribution of $CO2$ towards higher values when using the simulations. Thus, for the same probability, higher values of $CO2$ would be obtained from the simulated distribution being on the safety side. </li>\n",
    "- <b>Disadvantages:</b> we are assuming that $H$ and $C$ are independent (we will see how to address this issue next week). But is that true? Also, the results are conditioned to how good model is the selected parametric distribution. In this case, since the Uniform distribution performs poorly for $C$, the obtained distribution for $CO2$ deviates from the one obtained from the observations. <b>Advantages:</b> I can draw all the samples I want allowing the computation of events I have not observed yet (extreme events).</li>\n",
    "</div>\n",
    "</div>"
   ]
  },
  {
   "cell_type": "markdown",
   "id": "503e0fa9",
   "metadata": {},
   "source": [
    "If you run the code in the cell below, you will obtain a scatter plot of both variables. Explore the relationship between both variables and answer the following questions:\n",
    "\n",
    "<div style=\"background-color:#AABAB2; color: black; width:95%; vertical-align: middle; padding:15px; margin: 10px; border-radius: 10px\">\n",
    "<p>\n",
    "<b>Task 9:</b>   \n",
    "    \n",
    "1. Observe the plot below. What differences do you observe between the generated samples and the observations?\n",
    "    \n",
    "2. Compute the correlation between $H$ and $C$ for the samples and for the observartions. Are there differences?\n",
    "    \n",
    "3. What can you improve into the previous analysis? Do you have any ideas/suggestions on how to implement those suggestions?\n",
    "</p>\n",
    "</div>"
   ]
  },
  {
   "cell_type": "code",
   "execution_count": null,
   "id": "0ceb2e68",
   "metadata": {},
   "outputs": [],
   "source": [
    "fig, axes = plt.subplots(1, 1, figsize=(7, 7))\n",
    "axes.scatter(rs_H, rs_C, 40, 'k', label = 'Simulations')\n",
    "axes.scatter(H, C, 40, 'r','x', label = 'Observations')\n",
    "axes.set_xlabel('Number of heavy vehicles, H ')\n",
    "axes.set_ylabel('Number of cars, C')\n",
    "axes.legend()\n",
    "axes.grid()"
   ]
  },
  {
   "cell_type": "code",
   "execution_count": null,
   "id": "1669035e",
   "metadata": {},
   "outputs": [],
   "source": [
    "#Correlation\n",
    "correl = stats.pearsonr(H, C)\n",
    "correl_rs = stats.pearsonr(rs_H, rs_C)\n",
    "print('The correlation between the observations is:', correl[0])\n",
    "print('The correlation between the simulations is:', correl_rs[0])"
   ]
  },
  {
   "cell_type": "markdown",
   "id": "cb0d0f1e",
   "metadata": {},
   "source": [
    "<div style=\"background-color:#FAE99E; color: black; width:95%; vertical-align: middle; padding:15px; margin: 10px; border-radius: 10px\">\n",
    "    <b>Solution:</b>\n",
    "\n",
    "- The observations are focussed in an area of the plot while the simulations are a bit more spread around. This is because the observations are dependent on each other, there is a physical relationship between the number of cars and the number of trucks, while the simulations are assumed to be independent. Moreover, negative numbers for the number of vehicles are sampled, which do not have a physical meaning. </li>\n",
    "- There is a correlation of 0.27 between the observed $H$ and $C$, indicating dependence between the variables. On the contrary, no significant correlation between the generated samples is observed.</li>\n",
    "- <b>Some suggestions:</b> Improve the fit of $C$ with a different distribution. Account for the dependence between the two variables. </li>\n",
    "</div>"
   ]
  },
  {
   "cell_type": "markdown",
   "id": "9361e6b5",
   "metadata": {},
   "source": [
    "**End of notebook.**\n",
    "\n",
    "<div style=\"margin-top: 50px; padding-top: 20px; border-top: 1px solid #ccc;\">\n",
    "  <div style=\"display: flex; justify-content: flex-end; gap: 20px; align-items: center;\">\n",
    "    <a rel=\"MUDE\" href=\"http://mude.citg.tudelft.nl/\">\n",
    "      <img alt=\"MUDE\" style=\"width:100px; height:auto;\" src=\"https://gitlab.tudelft.nl/mude/public/-/raw/main/mude-logo/MUDE_Logo-small.png\" />\n",
    "    </a>\n",
    "    <a rel=\"TU Delft\" href=\"https://www.tudelft.nl/en/ceg\">\n",
    "      <img alt=\"TU Delft\" style=\"width:100px; height:auto;\" src=\"https://gitlab.tudelft.nl/mude/public/-/raw/main/tu-logo/TU_P1_full-color.png\" />\n",
    "    </a>\n",
    "    <a rel=\"license\" href=\"http://creativecommons.org/licenses/by/4.0/\">\n",
    "      <img alt=\"Creative Commons License\" style=\"width:88px; height:auto;\" src=\"https://i.creativecommons.org/l/by/4.0/88x31.png\" />\n",
    "    </a>\n",
    "  </div>\n",
    "  <div style=\"font-size: 75%; margin-top: 10px; text-align: right;\">\n",
    "    &copy; Copyright 2024 <a rel=\"MUDE\" href=\"http://mude.citg.tudelft.nl/\">MUDE</a> TU Delft. \n",
    "    This work is licensed under a <a rel=\"license\" href=\"http://creativecommons.org/licenses/by/4.0/\">CC BY 4.0 License</a>.\n",
    "  </div>\n",
    "</div>\n",
    "\n",
    "\n",
    "<!--tested with WS_2_8_solution.ipynb-->"
   ]
  }
 ],
 "metadata": {
  "language_info": {
   "name": "python"
  }
 },
 "nbformat": 4,
 "nbformat_minor": 5
}
