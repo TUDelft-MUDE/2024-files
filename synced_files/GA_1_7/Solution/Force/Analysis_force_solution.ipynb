{
 "cells": [
  {
   "cell_type": "markdown",
   "id": "f1cdbc9c-a28f-481d-b082-326fde573afb",
   "metadata": {
    "tags": []
   },
   "source": [
    "# Group Assignment 1.7: Distribution Fitting\n",
    "\n",
    "<h1 style=\"position: absolute; display: flex; flex-grow: 0; flex-shrink: 0; flex-direction: row-reverse; top: 60px;right: 30px; margin: 0; border: 0\">\n",
    "    <style>\n",
    "        .markdown {width:100%; position: relative}\n",
    "        article { position: relative }\n",
    "    </style>\n",
    "    <img src=\"https://gitlab.tudelft.nl/mude/public/-/raw/main/tu-logo/TU_P1_full-color.png\" style=\"width:100px; height: auto; margin: 0\" />\n",
    "    <img src=\"https://gitlab.tudelft.nl/mude/public/-/raw/main/mude-logo/MUDE_Logo-small.png\" style=\"width:100px; height: auto; margin: 0\" />\n",
    "</h1>\n",
    "<h2 style=\"height: 10px\">\n",
    "</h2>\n",
    "\n",
    "*[CEGM1000 MUDE](http://mude.citg.tudelft.nl/): Week 7, Friday Oct 18, 2024.*"
   ]
  },
  {
   "cell_type": "markdown",
   "id": "b26d81da-b5a7-44b0-8049-eec218ab84e2",
   "metadata": {
    "id": "1db6fea9-f3ad-44bc-a4c8-7b2b3008e945"
   },
   "source": [
    "## Case 1: Wave impacts on a crest wall\n",
    "\n",
    "**What's the propagated uncertainty? *How large will the horizontal force be?***\n",
    "\n",
    "In this project, you have chosen to work on the uncertainty of wave periods and wave heights in the Alboran sea to estimate the impacts on a crest wall: a concrete element installed on top of mound breakwater. You have observations from buoys of the significant wave height ($H$) and the peak wave period ($T$) each hour for several years. As you know, $H$ and $T$ are hydrodynamic variables relevant to estimate wave impacts on the structure. The maximum horizontal force (exceeded by 0.1% of incoming waves) can be estimated using the following equation (USACE, 2002).\n",
    "\n",
    "$$\n",
    "F_h = \\left( A_1 + A_2 \\frac{H}{A_c} \\right) \\rho g C_h L_{0p}\n",
    "$$\n",
    "\n",
    "where $A_1=-0.016$ and $A_2=0.025$ are coefficients that depend on the geometry of the structure, $A_c=3m$ is the elevation of the frontal berm of the structure, $\\rho$ is the density of water, $g$ is the gravity acceleration, $C_h=2m$ is the crown wall height, and $L_{0p}=\\frac{gT^2}{2\\pi}$ is the wave length in deep waves. Thus, the previous equation is reduced to\n",
    "\n",
    "$$\n",
    "F_h = 255.4 H T^2 -490.4 T^2\n",
    "$$\n",
    "\n",
    "**The goal of this project is:**\n",
    "1. Choose a reasonable distribution function for $H$ and $T$.\n",
    "2. Fit the chosen distributions to the observations of $H$ and $T$.\n",
    "3. Assuming $H$ and $T$ are independent, propagate their distributions to obtain the distribution of $F_h$.\n",
    "4. Analyze the distribution of $F_h$."
   ]
  },
  {
   "cell_type": "markdown",
   "id": "d33f1148-c72b-4c7e-bca7-45973b2570c5",
   "metadata": {
    "id": "d33f1148-c72b-4c7e-bca7-45973b2570c5"
   },
   "source": [
    "## Importing packages"
   ]
  },
  {
   "cell_type": "code",
   "execution_count": null,
   "id": "4fc6e87d-c66e-43df-a937-e969acc409f8",
   "metadata": {
    "id": "4fc6e87d-c66e-43df-a937-e969acc409f8"
   },
   "outputs": [],
   "source": [
    "import numpy as np\n",
    "import matplotlib.pyplot as plt\n",
    "\n",
    "from scipy import stats \n",
    "from math import ceil, trunc\n",
    "\n",
    "plt.rcParams.update({'font.size': 14})"
   ]
  },
  {
   "cell_type": "markdown",
   "id": "1ee42f39",
   "metadata": {},
   "source": [
    "## 1. Explore the data"
   ]
  },
  {
   "cell_type": "markdown",
   "id": "27fd05f1",
   "metadata": {},
   "source": [
    "First step in the analysis is exploring the data, visually and through its statistics."
   ]
  },
  {
   "cell_type": "code",
   "execution_count": null,
   "id": "a2f08dc7",
   "metadata": {},
   "outputs": [],
   "source": [
    "# Import\n",
    "_, H, T = np.genfromtxt('dataset_HT.csv', delimiter=\",\", unpack=True, skip_header=True)\n",
    "\n",
    "# plot time series\n",
    "fig, ax = plt.subplots(2, 1, figsize=(10, 7), layout = 'constrained')\n",
    "ax[0].plot(H,'k')\n",
    "ax[0].set_xlabel('Time')\n",
    "ax[0].set_ylabel('Wave height, H (m)')\n",
    "ax[0].grid()\n",
    "\n",
    "ax[1].plot(T,'k')\n",
    "ax[1].set_xlabel('Time')\n",
    "ax[1].set_ylabel('Water period, T (s)')\n",
    "ax[1].grid()"
   ]
  },
  {
   "cell_type": "code",
   "execution_count": null,
   "id": "a2a69142",
   "metadata": {},
   "outputs": [],
   "source": [
    "# Statistics for H\n",
    "\n",
    "print(stats.describe(H))"
   ]
  },
  {
   "cell_type": "code",
   "execution_count": null,
   "id": "6f9fb23c",
   "metadata": {},
   "outputs": [],
   "source": [
    "# Statistics for d\n",
    "\n",
    "print(stats.describe(T))"
   ]
  },
  {
   "cell_type": "markdown",
   "id": "bfadcf3f-4578-4809-acdb-625ab3a71f27",
   "metadata": {
    "id": "bfadcf3f-4578-4809-acdb-625ab3a71f27"
   },
   "source": [
    "<div style=\"background-color:#AABAB2; color: black; width:95%; vertical-align: middle; padding:15px; margin: 10px; border-radius: 10px\">\n",
    "<p>\n",
    "<b>Task 1:</b>\n",
    "\n",
    "Describe the data based on the previous statistics:\n",
    "    <li>Which variable presents a higher variability?</li>\n",
    "    <li>What does the skewness coefficient means? Which kind of distribution functions should we consider to fit them?</li>\n",
    "</p>\n",
    "</div>"
   ]
  },
  {
   "cell_type": "markdown",
   "id": "44e41bc0",
   "metadata": {},
   "source": [
    "<div style=\"background-color:#FAE99E; color: black; width:95%; vertical-align: middle; padding:15px; margin: 10px; border-radius: 10px\">\n",
    "<p>\n",
    "<b>Solution:</b>\n",
    "\n",
    "- $T$ presents a higher variance but a much higher mean. Then, if we compute the coefficient of variation to standardize that variability, we obtain $CV(H)=0.664/1.296 = 0.512$ and $CV(T)= 4.710/6.861 = 0.686.3$. Thus, $T$ has higher variability than $H$.\n",
    "- Both $H$ and $T$ has a positive non-zero skewness, being the one for $H$ significantly higher. Thus, the data presents a right tail and mode < median < mean. An appropriate distribution for $H$ and $T$ would be one which: (1) it is bounded in 0 (no negative values of $H$ or $T$ are physically possible), and (2) has a positive tail. If we consider the distributions that you have been introduced to, Lognormal, Gumbel or Exponential would be a possibility\n",
    "\n",
    "</div>\n",
    "</div>"
   ]
  },
  {
   "cell_type": "markdown",
   "id": "d4886ae8",
   "metadata": {},
   "source": [
    "## 2. Empirical distribution functions"
   ]
  },
  {
   "cell_type": "markdown",
   "id": "0609e0a6",
   "metadata": {},
   "source": [
    "Now, we are going to compute and plot the empirical PDF and CDF for each variable. Note that you have the pseudo-code for the empirical CDF in the [reader](https://mude.citg.tudelft.nl/book/probability/empirical.html)."
   ]
  },
  {
   "cell_type": "markdown",
   "id": "b20641d9",
   "metadata": {},
   "source": [
    "<div style=\"background-color:#AABAB2; color: black; width:95%; vertical-align: middle; padding:15px; margin: 10px; border-radius: 10px\">\n",
    "<p>\n",
    "<b>Task 2:</b>  \n",
    " \n",
    "Define a function to compute the empirical CDF. Plot your empirical PDF and CDF.\n",
    "</p>\n",
    "</div>"
   ]
  },
  {
   "cell_type": "code",
   "execution_count": null,
   "id": "3a47f881",
   "metadata": {},
   "outputs": [],
   "source": [
    "def ecdf(var):\n",
    "    x = np.sort(var) # sort the values from small to large\n",
    "    n = x.size # determine the number of datapoints\n",
    "    y = np.arange(1, n+1) / (n+1)\n",
    "    return [y, x]"
   ]
  },
  {
   "cell_type": "code",
   "execution_count": null,
   "id": "31ef8aaf",
   "metadata": {},
   "outputs": [],
   "source": [
    "fig, axes = plt.subplots(1, 2, figsize=(14, 5))\n",
    "axes[0].hist(H, edgecolor='k', linewidth=0.2, \n",
    "             color='cornflowerblue', label='Wave height, H (m)', density = True)\n",
    "axes[0].set_xlabel('Random variable (X)')\n",
    "axes[0].set_ylabel('density')\n",
    "axes[0].hist(T, edgecolor='k', linewidth=0.2, alpha = 0.5, \n",
    "             color='grey', label='Wave period, T (s)', density = True)\n",
    "axes[0].set_title('PDF', fontsize=18)\n",
    "axes[0].grid()\n",
    "axes[0].legend()\n",
    "\n",
    "axes[1].step(ecdf(H)[1], ecdf(H)[0], \n",
    "             color='cornflowerblue', label='Wave height, H (m)')\n",
    "axes[1].set_xlabel('Random variable (X)')\n",
    "axes[1].set_ylabel('${P[X \\leq x]}$')\n",
    "axes[1].step(ecdf(T)[1], ecdf(T)[0], \n",
    "             color='grey', label='Wave period, T (s)')\n",
    "axes[1].set_title('CDF', fontsize=18)\n",
    "axes[1].legend()\n",
    "axes[1].grid()"
   ]
  },
  {
   "cell_type": "markdown",
   "id": "f364c8cd",
   "metadata": {
    "id": "bfadcf3f-4578-4809-acdb-625ab3a71f27"
   },
   "source": [
    "<div style=\"background-color:#AABAB2; color: black; width:95%; vertical-align: middle; padding:15px; margin: 10px; border-radius: 10px\">\n",
    "<p>\n",
    "<b>Task 3:</b>   \n",
    "\n",
    "Based on the results of Task 1 and the empirical PDF and CDF, select <b>one</b> distribution to fit to each variable. For $H$, select between Exponential or Gaussian distribution, while for $T$ choose between Uniform or Gumbel.\n",
    "</p>\n",
    "</div>"
   ]
  },
  {
   "cell_type": "markdown",
   "id": "5d4fd13f",
   "metadata": {},
   "source": [
    "<div style=\"background-color:#FAE99E; color: black; width:95%; vertical-align: middle; padding:15px; margin: 10px; border-radius: 10px\">\n",
    "<b>Solution:</b>\n",
    "\n",
    "$H$: Exponential\n",
    "$T$: Gumbel\n",
    "\n",
    "</div>\n",
    "</div>"
   ]
  },
  {
   "cell_type": "markdown",
   "id": "850d6d0c",
   "metadata": {},
   "source": [
    "## 3. Fitting a distribution"
   ]
  },
  {
   "cell_type": "markdown",
   "id": "6a24dbfa",
   "metadata": {},
   "source": [
    "<div style=\"background-color:#AABAB2; color: black; width:95%; vertical-align: middle; padding:15px; margin: 10px; border-radius: 10px\">\n",
    "<p>\n",
    "<b>Task 4:</b>  \n",
    " \n",
    "Fit the selected distributions to the observations using MLE.\n",
    "</p>\n",
    "</div>\n",
    "\n",
    "Hint: Use [Scipy](https://docs.scipy.org/doc/scipy/reference/stats.html) built in functions (watch out with the parameters definition!)."
   ]
  },
  {
   "cell_type": "code",
   "execution_count": null,
   "id": "9ff84ed1",
   "metadata": {},
   "outputs": [],
   "source": [
    "params_H = stats.expon.fit(H, floc=0)\n",
    "params_T = stats.gumbel_r.fit(T)"
   ]
  },
  {
   "cell_type": "markdown",
   "id": "33ad10d9",
   "metadata": {},
   "source": [
    "## 4. Assessing goodness of fit"
   ]
  },
  {
   "cell_type": "markdown",
   "id": "30f5112c",
   "metadata": {},
   "source": [
    "<div style=\"background-color:#AABAB2; color: black; width:95%; vertical-align: middle; padding:15px; margin: 10px; border-radius: 10px\">\n",
    "<p>\n",
    "<b>Task 5:</b>  \n",
    " \n",
    "Assess the goodness of fit of the selected distribution using:\n",
    "    <li> One graphical method: QQplot or Logscale. Choose one.</li>\n",
    "    <li> Kolmogorov-Smirnov test.</li>\n",
    "</p>\n",
    "</div>\n",
    "\n",
    "Hint: You have Kolmogorov-Smirnov test implemented in [Scipy](https://docs.scipy.org/doc/scipy/reference/stats.html)."
   ]
  },
  {
   "cell_type": "code",
   "execution_count": null,
   "id": "a344a7cb",
   "metadata": {},
   "outputs": [],
   "source": [
    "#Graphical method\n",
    "\n",
    "#Logscale\n",
    "\n",
    "fig, axes = plt.subplots(1, 2, figsize=(14, 5))\n",
    "\n",
    "axes[0].step(ecdf(H)[1], 1-ecdf(H)[0], \n",
    "             color='k', label='Wave height, H')\n",
    "axes[0].plot(ecdf(H)[1], 1-stats.expon.cdf(ecdf(H)[1], *params_H),\n",
    "             '--', color = 'grey', label='Exponential')\n",
    "axes[0].set_xlabel('Wave height, H (m)')\n",
    "axes[0].set_ylabel('${P[X > x]}$')\n",
    "axes[0].set_title('H', fontsize=18)\n",
    "axes[0].set_yscale('log')\n",
    "axes[0].legend()\n",
    "axes[0].grid()\n",
    "\n",
    "axes[1].step(ecdf(T)[1], 1-ecdf(T)[0], \n",
    "             color='k', label='Wave period, T')\n",
    "axes[1].plot(ecdf(T)[1], 1-stats.gumbel_r.cdf(ecdf(T)[1], *params_T),\n",
    "             '--', color = 'grey', label='Gumbel')\n",
    "axes[1].set_xlabel('Wave period, T (s)')\n",
    "axes[1].set_ylabel('${P[X > x]}$')\n",
    "axes[1].set_title('T', fontsize=18)\n",
    "axes[1].set_yscale('log')\n",
    "axes[1].legend()\n",
    "axes[1].grid()"
   ]
  },
  {
   "cell_type": "code",
   "execution_count": null,
   "id": "4755cef1",
   "metadata": {},
   "outputs": [],
   "source": [
    "# QQplot\n",
    "\n",
    "fig, axes = plt.subplots(1, 2, figsize=(14, 5))\n",
    "\n",
    "axes[0].plot([trunc(min(H)), ceil(max(H))], [trunc(min(H)), ceil(max(H))], 'k')\n",
    "axes[0].scatter(ecdf(H)[1], stats.expon.ppf(ecdf(H)[0], *params_H), \n",
    "             color='grey', label='Exponential')\n",
    "axes[0].set_xlabel('Observed H (m)')\n",
    "axes[0].set_ylabel('Estimated H (m)')\n",
    "axes[0].set_title('H', fontsize=18)\n",
    "axes[0].set_xlim([trunc(min(H)), ceil(max(H))])\n",
    "axes[0].set_ylim([trunc(min(H)), ceil(max(H))])\n",
    "axes[0].legend()\n",
    "axes[0].grid()\n",
    "\n",
    "axes[1].plot([trunc(min(T)), ceil(max(T))], [trunc(min(T)), ceil(max(T))], 'k')\n",
    "axes[1].scatter(ecdf(T)[1], stats.gumbel_r.ppf(ecdf(T)[0], *params_T), \n",
    "             color='grey', label='Gumbel')\n",
    "axes[1].set_xlabel('Observed T (s)')\n",
    "axes[1].set_ylabel('Estimated T (s)')\n",
    "axes[1].set_title('T', fontsize=18)\n",
    "axes[1].set_xlim([trunc(min(T)), ceil(max(T))])\n",
    "axes[1].set_ylim([trunc(min(T)), ceil(max(T))])\n",
    "axes[1].legend()\n",
    "axes[1].grid()"
   ]
  },
  {
   "cell_type": "code",
   "execution_count": null,
   "id": "d6057bb2",
   "metadata": {},
   "outputs": [],
   "source": [
    "#KStest\n",
    "\n",
    "_, p_H = stats.kstest(H,stats.expon.cdf, args=params_H)\n",
    "_, p_T = stats.kstest(T,stats.gumbel_r.cdf, args=params_T)\n",
    "\n",
    "print('The p-value for the fitted Gumbel distribution to H is:', round(p_H, 3))\n",
    "print('The p-value for the fitted Uniform distribution to d is:', round(p_T, 3))"
   ]
  },
  {
   "cell_type": "markdown",
   "id": "ad185d88",
   "metadata": {},
   "source": [
    "<div style=\"background-color:#AABAB2; color: black; width:95%; vertical-align: middle; padding:15px; margin: 10px; border-radius: 10px\">\n",
    "<p>\n",
    "<b>Task 6:</b>  \n",
    " \n",
    "Interpret the results of the GOF techniques. How does the selected parametric distribution perform?\n",
    "</p>\n",
    "</div>"
   ]
  },
  {
   "cell_type": "markdown",
   "id": "a3904bec",
   "metadata": {},
   "source": [
    "<div style=\"background-color:#FAE99E; color: black; width:95%; vertical-align: middle; padding:15px; margin: 10px; border-radius: 10px\">\n",
    "    <b>Solution:</b>\n",
    "\n",
    "- Logscale plot: This technique allows to visually assess the fitting of the parametric distribution to the tail of the empirical distribution. For $H$, Exponential distribution performs well for low values. On the contrary, it does not properly model the right tail. It is on the safe side providing predictions higher than those observed. Note that this may lead to predictions of $H$ that are not physically possible. Regarding $T$, the Gumbel distribution seems to follow the low observations and those around the central moments but not those on the right tail. The predictions provided by the Gumbel distribution are on the safe side. \n",
    "- QQplot: Similar conclusions to those for Logscale can be derived.\n",
    "- Kolmogorov-Smirnov test: remember that the test statistic measures the difference between two distributions. The p-value then represents the probability of observing a difference at least that large for a sample from the assumed distribution. If p-value is lower than the significance ($\\alpha=0.05$, for instance), the null hypothesis is rejected. Considering here $\\alpha=0.05$, we can reject that the variable $H$ comes from a Exponential distribution and that $T$ comes from a Gumbel distribution.\n",
    "</div>\n",
    "</div>"
   ]
  },
  {
   "cell_type": "markdown",
   "id": "12fbd5cf",
   "metadata": {},
   "source": [
    "## 5. Propagating the uncertainty"
   ]
  },
  {
   "cell_type": "markdown",
   "id": "a3ee90f7",
   "metadata": {},
   "source": [
    "Using the fitted distributions, we are going to propagate the uncertainty from $H$ and $T$ to $F_h$ **assuming that $H$ and $T$ are independent**.\n",
    "\n",
    "<div style=\"background-color:#AABAB2; color: black; width:95%; vertical-align: middle; padding:15px; margin: 10px; border-radius: 10px\">\n",
    "<p>\n",
    "<b>Task 7:</b>   \n",
    "    \n",
    "1. Draw 10,000 random samples from the fitted distribution functions for $H$ and $T$.\n",
    "    \n",
    "2. Compute $F_h$ for each pair of samples.\n",
    "    \n",
    "3. Compute $F_h$ for the observations.\n",
    "    \n",
    "4. Plot the PDF and exceedance curve in logscale of $F_h$ computed using both the simulations and the observations.\n",
    "</p>\n",
    "</div>"
   ]
  },
  {
   "cell_type": "code",
   "execution_count": null,
   "id": "c200a7b5",
   "metadata": {},
   "outputs": [],
   "source": [
    "# Here, the solution is shown for the Lognormal distribution\n",
    "\n",
    "# Draw random samples\n",
    "rs_H = stats.expon.rvs(*params_H, size = 10000)\n",
    "rs_T = stats.gumbel_r.rvs(*params_T, size = 10000)\n",
    "\n",
    "#Compute Fh\n",
    "rs_Fh = 255.4 * rs_H * rs_T**2 - 490.4*rs_T**2\n",
    "\n",
    "#repeat for observations\n",
    "Fh = 255.4 * H * T**2 - 490.4*T**2\n",
    "\n",
    "#plot the PDF and the CDF\n",
    "fig, axes = plt.subplots(1, 2, figsize=(12, 7))\n",
    "axes[0].hist(rs_Fh, edgecolor='k', linewidth=0.2, density = True, label = 'From simulations')\n",
    "axes[0].hist(Fh, edgecolor='k', facecolor = 'orange', alpha = 0.5, linewidth=0.2, \n",
    "             density = True, label = 'From observations')\n",
    "axes[0].set_xlabel('Horizontal force (kN)')\n",
    "axes[0].set_ylabel('density')\n",
    "axes[0].set_title('PDF', fontsize=18)\n",
    "axes[0].legend()\n",
    "axes[0].grid()\n",
    "\n",
    "axes[1].step(ecdf(rs_Fh)[1], 1-ecdf(rs_Fh)[0], label = 'From simulations')\n",
    "axes[1].step(ecdf(Fh)[1], 1-ecdf(Fh)[0], color = 'orange', label = 'From observations')\n",
    "axes[1].set_xlabel('Horizontal force (kN)')\n",
    "axes[1].set_ylabel('${P[X > x]}$')\n",
    "axes[1].set_title('Exceedance plot', fontsize=18)\n",
    "axes[1].set_yscale('log')\n",
    "axes[1].legend()\n",
    "axes[1].grid()"
   ]
  },
  {
   "cell_type": "markdown",
   "id": "f0841e5c",
   "metadata": {},
   "source": [
    "<div style=\"background-color:#AABAB2; color: black; width:95%; vertical-align: middle; padding:15px; margin: 10px; border-radius: 10px\">\n",
    "<p>\n",
    "<b>Task 8:</b>   \n",
    "\n",
    "Interpret the figures above, answering the following questions:\n",
    "- Are there differences between the two computed distributions for $F_h$?\n",
    "- What are the advantages and disadvantages of using the simulations?\n",
    "</p>\n",
    "</div>"
   ]
  },
  {
   "cell_type": "markdown",
   "id": "c3496654",
   "metadata": {},
   "source": [
    "<div style=\"background-color:#FAE99E; color: black; width:95%; vertical-align: middle; padding:15px; margin: 10px; border-radius: 10px\">\n",
    "    <b>Solution:</b>\n",
    "\n",
    "- In the PDF plot, we can see that the shape of the distribution is similar for $F_h$ although more density around the central moments is concentrated in the simualted data. In the CDF plot, we can see that there are significant differences in the tail of the distribution of $F_h$, being the values from the simulations higher than those computed from the observations. This is because both the Exponential and the Gumbel distribution overpredict the tail of the distributions of $H$ and $T$, respectively. \n",
    "- <b>Disadvantages:</b> we are assuming that $H$ and $T$ are independent (we will see how to address this issue next week). But is that true? Also, the results are conditioned to how good model is the selected parametric distribution. In this case, since the tail of the distributions of $H$ and $T$ are not properly fitted, the obtained distribution for $F_h$ deviates from the one obtained from the observations. <b>Advantages:</b> I can draw all the samples I want allowing the computation of events I have not observed yet (extreme events).\n",
    "- <b>Extra note:</b> The equation you are applying to compute $F_h$ is prepared for extreme waves. Thus, when applied out its range of application, it leads to negative forces which do not have physical meaning.\n",
    "</div>\n",
    "</div>"
   ]
  },
  {
   "cell_type": "markdown",
   "id": "2d9ec4fe",
   "metadata": {},
   "source": [
    "If you run the code in the cell below, you will obtain a scatter plot of both variables. Explore the relationship between both variables and answer the following questions:\n",
    "\n",
    "<div style=\"background-color:#AABAB2; color: black; width:95%; vertical-align: middle; padding:15px; margin: 10px; border-radius: 10px\">\n",
    "<p>\n",
    "<b>Task 9:</b>   \n",
    "    \n",
    "1. Observe the plot below. What differences do you observe between the generated samples and the observations?\n",
    "    \n",
    "2. Compute the correlation between $H$ and $T$ for the samples and for the observartions. Are there differences?\n",
    "    \n",
    "3. What can you improve into the previous analysis? Do you have any ideas/suggestions on how to implement those suggestions?\n",
    "</p>\n",
    "</div>"
   ]
  },
  {
   "cell_type": "code",
   "execution_count": null,
   "id": "861ce95a",
   "metadata": {},
   "outputs": [],
   "source": [
    "fig, axes = plt.subplots(1, 1, figsize=(7, 7))\n",
    "axes.scatter(rs_H, rs_T, 40, 'k', label = 'Simulations')\n",
    "axes.scatter(H, T, 40, 'r','x', label = 'Observations')\n",
    "axes.set_xlabel('Wave height, H (m)')\n",
    "axes.set_ylabel('Wave period, T (s)')\n",
    "axes.legend()\n",
    "axes.grid()"
   ]
  },
  {
   "cell_type": "code",
   "execution_count": null,
   "id": "26cb3e92",
   "metadata": {},
   "outputs": [],
   "source": [
    "#Correlation\n",
    "correl = stats.pearsonr(H, T)\n",
    "correl_rs = stats.pearsonr(rs_H, rs_T)\n",
    "print('The correlation between the observations is:', correl[0])\n",
    "print('The correlation between the simulations is:', correl_rs[0])"
   ]
  },
  {
   "cell_type": "markdown",
   "id": "1d0a5436",
   "metadata": {},
   "source": [
    "<div style=\"background-color:#FAE99E; color: black; width:95%; vertical-align: middle; padding:15px; margin: 10px; border-radius: 10px\">\n",
    "    <b>Solution:</b>\n",
    "\n",
    "- The observations are focussed in an area of the plot while the simulations are spreaded all around. this is because the observations are dependent to each other, there is a physical relationship between the wave height and the wave period, while the simualtions were assumed to be independent. </li>\n",
    "- There is a correlation of 0.46 between the observed $H$ and $T$, indicating the physical dependence between the variables. On the contrary, no significant correlation between the generated samples is observed.\n",
    "- <b>Some suggestions:</b> Improve the fit of $H$ and $T$. Maybe propose Gumbel or Lognormal distribution for $H$ and Lognormal for $T$. Account for the dependence between the two variables. </li>\n",
    "</div>"
   ]
  },
  {
   "cell_type": "markdown",
   "id": "7e4a0bd9-5e74-4808-a7d1-aa2d3f612bee",
   "metadata": {},
   "source": [
    "**End of notebook.**\n",
    "<h2 style=\"height: 60px\">\n",
    "</h2>\n",
    "<h3 style=\"position: absolute; display: flex; flex-grow: 0; flex-shrink: 0; flex-direction: row-reverse; bottom: 60px; right: 50px; margin: 0; border: 0\">\n",
    "    <style>\n",
    "        .markdown {width:100%; position: relative}\n",
    "        article { position: relative }\n",
    "    </style>\n",
    "    <a rel=\"license\" href=\"http://creativecommons.org/licenses/by-nc-sa/4.0/\">\n",
    "      <img alt=\"Creative Commons License\" style=\"border-width:; width:88px; height:auto; padding-top:10px\" src=\"https://i.creativecommons.org/l/by-nc-sa/4.0/88x31.png\" />\n",
    "    </a>\n",
    "    <a rel=\"TU Delft\" href=\"https://www.tudelft.nl/en/ceg\">\n",
    "      <img alt=\"TU Delft\" style=\"border-width:0; width:100px; height:auto; padding-bottom:0px\" src=\"https://gitlab.tudelft.nl/mude/public/-/raw/main/tu-logo/TU_P1_full-color.png\"/>\n",
    "    </a>\n",
    "    <a rel=\"MUDE\" href=\"http://mude.citg.tudelft.nl/\">\n",
    "      <img alt=\"MUDE\" style=\"border-width:0; width:100px; height:auto; padding-bottom:0px\" src=\"https://gitlab.tudelft.nl/mude/public/-/raw/main/mude-logo/MUDE_Logo-small.png\"/>\n",
    "    </a>\n",
    "    \n",
    "</h3>\n",
    "<span style=\"font-size: 75%\">\n",
    "&copy; Copyright 2023 <a rel=\"MUDE Team\" href=\"https://studiegids.tudelft.nl/a101_displayCourse.do?course_id=65595\">MUDE Teaching Team</a> TU Delft. This work is licensed under a <a rel=\"license\" href=\"http://creativecommons.org/licenses/by-nc-sa/4.0/\">Creative Commons Attribution-NonCommercial-ShareAlike 4.0 International License</a>."
   ]
  }
 ],
 "metadata": {
  "colab": {
   "collapsed_sections": [],
   "provenance": []
  },
  "kernelspec": {
   "display_name": "mude-base",
   "language": "python",
   "name": "python3"
  },
  "language_info": {
   "codemirror_mode": {
    "name": "ipython",
    "version": 3
   },
   "file_extension": ".py",
   "mimetype": "text/x-python",
   "name": "python",
   "nbconvert_exporter": "python",
   "pygments_lexer": "ipython3",
   "version": "3.12.4"
  },
  "widgets": {
   "application/vnd.jupyter.widget-state+json": {
    "state": {},
    "version_major": 2,
    "version_minor": 0
   }
  }
 },
 "nbformat": 4,
 "nbformat_minor": 5
}
