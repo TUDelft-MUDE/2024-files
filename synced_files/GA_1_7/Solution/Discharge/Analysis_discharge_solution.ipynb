{
 "cells": [
  {
   "cell_type": "markdown",
   "id": "f1cdbc9c-a28f-481d-b082-326fde573afb",
   "metadata": {
    "tags": []
   },
   "source": [
    "# Group Assignment 1.7: Distribution Fitting\n",
    "\n",
    "<h1 style=\"position: absolute; display: flex; flex-grow: 0; flex-shrink: 0; flex-direction: row-reverse; top: 60px;right: 30px; margin: 0; border: 0\">\n",
    "    <style>\n",
    "        .markdown {width:100%; position: relative}\n",
    "        article { position: relative }\n",
    "    </style>\n",
    "    <img src=\"https://gitlab.tudelft.nl/mude/public/-/raw/main/tu-logo/TU_P1_full-color.png\" style=\"width:100px; height: auto; margin: 0\" />\n",
    "    <img src=\"https://gitlab.tudelft.nl/mude/public/-/raw/main/mude-logo/MUDE_Logo-small.png\" style=\"width:100px; height: auto; margin: 0\" />\n",
    "</h1>\n",
    "<h2 style=\"height: 10px\">\n",
    "</h2>\n",
    "\n",
    "*[CEGM1000 MUDE](http://mude.citg.tudelft.nl/): Week 7, Friday Oct 18, 2024.*"
   ]
  },
  {
   "cell_type": "markdown",
   "id": "b26d81da-b5a7-44b0-8049-eec218ab84e2",
   "metadata": {
    "id": "1db6fea9-f3ad-44bc-a4c8-7b2b3008e945"
   },
   "source": [
    "## Case 3: Discharges on a structure\n",
    "\n",
    "**What's the propagated uncertainty? *How large will be the discharge?***\n",
    "\n",
    "In this project, you have chosen to work on the uncertainty of water depths ($h$) and water velocities ($u$) on top of a hydraulic structure to estimate the discharge. You have observations from physical experiments of waves impacting a breakwater during a wave storm scaled up to prototype scale. You can further read on the dataset [here](https://doi.org/10.1016/j.coastaleng.2024.104483). Remember that the discharge can be computed as\n",
    "\n",
    "$$\n",
    "q = u S\n",
    "$$\n",
    "\n",
    "where $S$ is the section the flow crosses. Thus, assuming a discharge width of 1m, we can simplify the previous equation as\n",
    "\n",
    "$$\n",
    "q = u h \n",
    "$$\n",
    "\n",
    "**The goal of this project is:**\n",
    "1. Choose a reasonable distribution function for $u$ and $h$.\n",
    "2. Fit the chosen distributions to the observations of $u$ and $h$.\n",
    "3. Assuming $d$ and $h$ are independent, propagate their distributions to obtain the distribution of $q$.\n",
    "4. Analyze the distribution of $q$."
   ]
  },
  {
   "cell_type": "markdown",
   "id": "d33f1148-c72b-4c7e-bca7-45973b2570c5",
   "metadata": {
    "id": "d33f1148-c72b-4c7e-bca7-45973b2570c5"
   },
   "source": [
    "## Importing packages"
   ]
  },
  {
   "cell_type": "code",
   "execution_count": null,
   "id": "4fc6e87d-c66e-43df-a937-e969acc409f8",
   "metadata": {},
   "outputs": [],
   "source": [
    "import numpy as np\n",
    "import matplotlib.pyplot as plt\n",
    "\n",
    "from scipy import stats \n",
    "from math import ceil, trunc\n",
    "\n",
    "plt.rcParams.update({'font.size': 14})"
   ]
  },
  {
   "cell_type": "markdown",
   "id": "1ee42f39",
   "metadata": {},
   "source": [
    "## 1. Explore the data"
   ]
  },
  {
   "cell_type": "markdown",
   "id": "27fd05f1",
   "metadata": {},
   "source": [
    "First step in the analysis is exploring the data, visually and through its statistics."
   ]
  },
  {
   "cell_type": "code",
   "execution_count": null,
   "id": "a2f08dc7",
   "metadata": {},
   "outputs": [],
   "source": [
    "# Import\n",
    "h, u = np.genfromtxt('dataset_hu.csv', delimiter=\",\", unpack=True, skip_header=True)\n",
    "\n",
    "# plot time series\n",
    "fig, ax = plt.subplots(2, 1, figsize=(10, 7), layout = 'constrained')\n",
    "ax[0].plot(h,'k')\n",
    "ax[0].set_xlabel('Time')\n",
    "ax[0].set_ylabel('Water depth, h (m)')\n",
    "ax[0].grid()\n",
    "\n",
    "ax[1].plot(u,'k')\n",
    "ax[1].set_xlabel('Time')\n",
    "ax[1].set_ylabel('Water velocity, u (m/s)')\n",
    "ax[1].grid()"
   ]
  },
  {
   "cell_type": "code",
   "execution_count": null,
   "id": "a2a69142",
   "metadata": {},
   "outputs": [],
   "source": [
    "# Statistics for h\n",
    "\n",
    "print(stats.describe(h))"
   ]
  },
  {
   "cell_type": "code",
   "execution_count": null,
   "id": "6f9fb23c",
   "metadata": {},
   "outputs": [],
   "source": [
    "# Statistics for u\n",
    "\n",
    "print(stats.describe(u))"
   ]
  },
  {
   "cell_type": "markdown",
   "id": "bfadcf3f-4578-4809-acdb-625ab3a71f27",
   "metadata": {
    "id": "bfadcf3f-4578-4809-acdb-625ab3a71f27"
   },
   "source": [
    "<div style=\"background-color:#AABAB2; color: black; width:95%; vertical-align: middle; padding:15px; margin: 10px; border-radius: 10px\">\n",
    "<p>\n",
    "<b>Task 1:</b>  \n",
    " \n",
    "Describe the data based on the previous statistics:\n",
    "    <li>Which variable presents a higher variability?</li>\n",
    "    <li>What does the skewness coefficient means? Which kind of distribution functions should we consider to fit them?</li>\n",
    "</p>\n",
    "</div>"
   ]
  },
  {
   "cell_type": "markdown",
   "id": "0bda5138",
   "metadata": {},
   "source": [
    "<div style=\"background-color:#FAE99E; color: black; width:95%; vertical-align: middle; padding:15px; margin: 10px; border-radius: 10px\">\n",
    "    <b>Solution:</b>\n",
    "\n",
    "- $h$ presents a higher variance while $h$ and $u$ have a similar mean. Then, if we compute the coefficient of variation to standardize that variability, we obtain $CV(h)=0.130/1.211 = 0.107$ and $CV(u)= 0.092/1.464 = 0.063$. Thus, $h$ has higher variability than $u$.</li>\n",
    "- Both $h$ and $u$ have a positive non-zero skewness, being the one for $u$ significantly higher. Thus, the data presents a right tail and mode < median < mean. An appropriate distribution for $h$ and $u$ would be one which: (1) it is bounded in 0 (no negative values of $h$ or $u$ are physically possible), and (2) has a positive tail. If we consider the distributions that you have been introduced to, Lognormal, Gumbel or Exponential would be a possibility. Also, Gaussian distribution might be a possibility for $h$ as the skewness is relatively low and might not be significant.</li>\n",
    "</div>\n",
    "</div>"
   ]
  },
  {
   "cell_type": "markdown",
   "id": "d4886ae8",
   "metadata": {},
   "source": [
    "## 2. Empirical distribution functions"
   ]
  },
  {
   "cell_type": "markdown",
   "id": "0609e0a6",
   "metadata": {},
   "source": [
    "Now, we are going to compute and plot the empirical PDF and CDF for each variable. Note that you have the pseudo-code for the empirical CDF in the [reader](https://mude.citg.tudelft.nl/book/probability/empirical.html)."
   ]
  },
  {
   "cell_type": "markdown",
   "id": "b20641d9",
   "metadata": {},
   "source": [
    "<div style=\"background-color:#AABAB2; color: black; width:95%; vertical-align: middle; padding:15px; margin: 10px; border-radius: 10px\">\n",
    "<p>\n",
    "<b>Task 2:</b>   \n",
    "\n",
    "Define a function to compute the empirical CDF. Plot the empirical PDF and CDF.\n",
    "</p>\n",
    "</div>"
   ]
  },
  {
   "cell_type": "code",
   "execution_count": null,
   "id": "3a47f881",
   "metadata": {},
   "outputs": [],
   "source": [
    "def ecdf(var):\n",
    "    x = np.sort(var) # sort the values from small to large\n",
    "    n = x.size # determine the number of datapoints\\\n",
    "    y = np.arange(1, n+1) / (n+1)\n",
    "    return [y, x]"
   ]
  },
  {
   "cell_type": "code",
   "execution_count": null,
   "id": "31ef8aaf",
   "metadata": {},
   "outputs": [],
   "source": [
    "fig, axes = plt.subplots(1, 2, figsize=(14, 5))\n",
    "axes[0].hist(h, edgecolor='k', linewidth=0.2, \n",
    "             color='cornflowerblue', label='Water depth, h (m)', density = True)\n",
    "axes[0].set_xlabel('Random variable (X)')\n",
    "axes[0].set_ylabel('density')\n",
    "axes[0].hist(u, edgecolor='k', linewidth=0.2, alpha = 0.5, \n",
    "             color='grey', label='Water velocity, u (m/s)', density = True)\n",
    "axes[0].set_title('PDF', fontsize=18)\n",
    "axes[0].grid()\n",
    "axes[0].legend()\n",
    "\n",
    "axes[1].step(ecdf(h)[1], ecdf(h)[0], \n",
    "             color='cornflowerblue', label='Water depth, h (m)')\n",
    "axes[1].set_xlabel('Random variable (X)')\n",
    "axes[1].set_ylabel('${P[X \\leq x]}$')\n",
    "axes[1].step(ecdf(u)[1], ecdf(u)[0], \n",
    "             color='grey', label='Water velocity, u (m/s)')\n",
    "axes[1].set_title('CDF', fontsize=18)\n",
    "axes[1].legend()\n",
    "axes[1].grid()"
   ]
  },
  {
   "cell_type": "markdown",
   "id": "f364c8cd",
   "metadata": {
    "id": "bfadcf3f-4578-4809-acdb-625ab3a71f27"
   },
   "source": [
    "<div style=\"background-color:#AABAB2; color: black; width:95%; vertical-align: middle; padding:15px; margin: 10px; border-radius: 10px\">\n",
    "<p>\n",
    "<b>Task 3:</b>   \n",
    "\n",
    "Based on the results of Task 1 and the empirical PDF and CDF, select <b>one</b> distribution to fit to each variable. For $h$, select between Uniform or Gaussian distribution, while for $u$ choose between Exponential or Gumbel.\n",
    "</p>\n",
    "</div>"
   ]
  },
  {
   "cell_type": "markdown",
   "id": "f2180ae7",
   "metadata": {},
   "source": [
    "<div style=\"background-color:#FAE99E; color: black; width:95%; vertical-align: middle; padding:15px; margin: 10px; border-radius: 10px\">\n",
    "    <b>Solution:</b>\n",
    "\n",
    "$h$: Gaussian\n",
    "$u$: Gumbel\n",
    "</div>\n",
    "</div>"
   ]
  },
  {
   "cell_type": "markdown",
   "id": "850d6d0c",
   "metadata": {},
   "source": [
    "## 3. Fitting a distribution"
   ]
  },
  {
   "cell_type": "markdown",
   "id": "6a24dbfa",
   "metadata": {},
   "source": [
    "<div style=\"background-color:#AABAB2; color: black; width:95%; vertical-align: middle; padding:15px; margin: 10px; border-radius: 10px\">\n",
    "<p>\n",
    "<b>Task 4:</b>   \n",
    "\n",
    "Fit the selected distributions to the observations using MLE.\n",
    "</p>\n",
    "</div>\n",
    "\n",
    "Hint: Use [Scipy](https://docs.scipy.org/doc/scipy/reference/stats.html) built in functions (watch out with the parameters definition!)."
   ]
  },
  {
   "cell_type": "code",
   "execution_count": null,
   "id": "9ff84ed1",
   "metadata": {},
   "outputs": [],
   "source": [
    "params_h = stats.norm.fit(h)\n",
    "params_u = stats.gumbel_r.fit(u)"
   ]
  },
  {
   "cell_type": "markdown",
   "id": "33ad10d9",
   "metadata": {},
   "source": [
    "## 4. Assessing goodness of fit"
   ]
  },
  {
   "cell_type": "markdown",
   "id": "30f5112c",
   "metadata": {},
   "source": [
    "<div style=\"background-color:#AABAB2; color: black; width:95%; vertical-align: middle; padding:15px; margin: 10px; border-radius: 10px\">\n",
    "<p>\n",
    "<b>Task 5:</b>   \n",
    "\n",
    "Assess the goodness of fit of the selected distribution using:\n",
    "    <li> One graphical method: QQplot or Logscale. Choose one.</li>\n",
    "    <li> Kolmogorov-Smirnov test.</li>\n",
    "</p>\n",
    "</div>\n",
    "\n",
    "Hint: You have Kolmogorov-Smirnov test implemented in [Scipy](https://docs.scipy.org/doc/scipy/reference/stats.html)."
   ]
  },
  {
   "cell_type": "code",
   "execution_count": null,
   "id": "a344a7cb",
   "metadata": {},
   "outputs": [],
   "source": [
    "#Graphical method\n",
    "\n",
    "#Logscale\n",
    "\n",
    "fig, axes = plt.subplots(1, 2, figsize=(14, 5))\n",
    "\n",
    "axes[0].step(ecdf(h)[1], 1-ecdf(h)[0], \n",
    "             color='k', label='Water depth, h')\n",
    "axes[0].plot(ecdf(h)[1], 1-stats.norm.cdf(ecdf(h)[1], *params_h),\n",
    "             '--', color = 'grey', label='Gaussian')\n",
    "axes[0].set_xlabel('Water depth, h (m)')\n",
    "axes[0].set_ylabel('${P[X > x]}$')\n",
    "axes[0].set_title('h', fontsize=18)\n",
    "axes[0].set_yscale('log')\n",
    "axes[0].legend()\n",
    "axes[0].grid()\n",
    "\n",
    "axes[1].step(ecdf(u)[1], 1-ecdf(u)[0], \n",
    "             color='k', label='Water velocity, u')\n",
    "axes[1].plot(ecdf(u)[1], 1-stats.gumbel_r.cdf(ecdf(u)[1], *params_u),\n",
    "             '--', color = 'grey', label='Gumbel')\n",
    "axes[1].set_xlabel('Water velocity, u (m/s)')\n",
    "axes[1].set_ylabel('${P[X > x]}$')\n",
    "axes[1].set_title('u', fontsize=18)\n",
    "axes[1].set_yscale('log')\n",
    "axes[1].legend()\n",
    "axes[1].grid()"
   ]
  },
  {
   "cell_type": "code",
   "execution_count": null,
   "id": "6689fc09",
   "metadata": {},
   "outputs": [],
   "source": [
    "# QQplot\n",
    "\n",
    "fig, axes = plt.subplots(1, 2, figsize=(14, 5))\n",
    "\n",
    "axes[0].plot([trunc(min(h)), ceil(max(h))], [trunc(min(h)), ceil(max(h))], 'k')\n",
    "axes[0].scatter(ecdf(h)[1], stats.norm.ppf(ecdf(h)[0], *params_h), \n",
    "             color='grey', label='Gaussian')\n",
    "axes[0].set_xlabel('Observed h (m)')\n",
    "axes[0].set_ylabel('Estimated h (m)')\n",
    "axes[0].set_title('h', fontsize=18)\n",
    "axes[0].set_xlim([trunc(min(h)), ceil(max(h))])\n",
    "axes[0].set_ylim([trunc(min(h)), ceil(max(h))])\n",
    "axes[0].legend()\n",
    "axes[0].grid()\n",
    "\n",
    "axes[1].plot([trunc(min(u)), ceil(max(u))], [trunc(min(u)), ceil(max(u))], 'k')\n",
    "axes[1].scatter(ecdf(u)[1], stats.gumbel_r.ppf(ecdf(u)[0], *params_u), \n",
    "             color='grey', label='Gumbel')\n",
    "axes[1].set_xlabel('Observed u (m/s)')\n",
    "axes[1].set_ylabel('Estimated u (m/s)')\n",
    "axes[1].set_title('u', fontsize=18)\n",
    "axes[1].set_xlim([trunc(min(u)), ceil(max(u))])\n",
    "axes[1].set_ylim([trunc(min(u)), ceil(max(u))])\n",
    "axes[1].legend()\n",
    "axes[1].grid()"
   ]
  },
  {
   "cell_type": "code",
   "execution_count": null,
   "id": "d6057bb2",
   "metadata": {},
   "outputs": [],
   "source": [
    "#KStest\n",
    "\n",
    "_, p_h = stats.kstest(h,stats.norm.cdf, args=params_h)\n",
    "_, p_u = stats.kstest(u,stats.gumbel_r.cdf, args=params_u)\n",
    "\n",
    "print('The p-value for the fitted Gaussian distribution to h is:', round(p_h, 3))\n",
    "print('The p-value for the fitted Gumbel distribution to u is:', round(p_u, 3))"
   ]
  },
  {
   "cell_type": "markdown",
   "id": "ad185d88",
   "metadata": {},
   "source": [
    "<div style=\"background-color:#AABAB2; color: black; width:95%; vertical-align: middle; padding:15px; margin: 10px; border-radius: 10px\">\n",
    "<p>\n",
    "<b>Task 6:</b>   \n",
    "\n",
    "Interpret the results of the GOF techniques. How does the selected parametric distribution perform?\n",
    "</p>\n",
    "</div>"
   ]
  },
  {
   "cell_type": "markdown",
   "id": "19bf25f5",
   "metadata": {},
   "source": [
    "<div style=\"background-color:#FAE99E; color: black; width:95%; vertical-align: middle; padding:15px; margin: 10px; border-radius: 10px\">\n",
    "    <b>Solution:</b>\n",
    "    \n",
    "- Logscale plot: This technique allows to visually assess the fitting of the parametric distribution to the tail of the empirical distribution. For both $h$ and $u$, Gaussian and Gumbel distributions performs well even in the tail of the distribution. For $h$, high values start to deviate from the Gaussian distribution, indicating that for lower non-exceedance probabilities it might not be a good fit. </li>\n",
    "- QQplot: Similar conclusions to those for Logscale can be derived.</li>\n",
    "- Kolmogorov-Smirnov test: remember that the test statistic measures the difference between two distributions. The p-value then represents the probability of observing a difference at least that large for a sample from the assumed distribution. If p-value is lower than the significance ($\\alpha=0.05$, for instance), the null hypothesis is rejected. Considering here $\\alpha=0.05$, we can accept that the variable $h$ comes from a Gaussian distribution and that $u$ comes from a Gumbel distribution.</li>\n",
    "</div>\n",
    "</div>"
   ]
  },
  {
   "cell_type": "markdown",
   "id": "12fbd5cf",
   "metadata": {},
   "source": [
    "## 5. Propagating the uncertainty"
   ]
  },
  {
   "cell_type": "markdown",
   "id": "a3ee90f7",
   "metadata": {},
   "source": [
    "Using the fitted distributions, we are going to propagate the uncertainty from $h$ and $u$ to $q$ **assuming that $h$ and $u$ are independent**.\n",
    "\n",
    "<div style=\"background-color:#AABAB2; color: black; width:95%; vertical-align: middle; padding:15px; margin: 10px; border-radius: 10px\">\n",
    "<p>\n",
    "<b>Task 7:</b>   \n",
    "    \n",
    "1. Draw 10,000 random samples from the fitted distribution functions for $h$ and $u$.\n",
    "    \n",
    "2. Compute $q$ for each pair of samples.\n",
    "    \n",
    "3. Compute $q$ for the observations.\n",
    "    \n",
    "4. Plot the PDF and exceedance curve in logscale of $q$ computed using both the simulations and the observations.\n",
    "</p>\n",
    "</div>"
   ]
  },
  {
   "cell_type": "code",
   "execution_count": null,
   "id": "c200a7b5",
   "metadata": {},
   "outputs": [],
   "source": [
    "# Here, the solution is shown for the Lognormal distribution\n",
    "\n",
    "# Draw random samples\n",
    "rs_h = stats.norm.rvs(*params_h, size = 10000)\n",
    "rs_u = stats.gumbel_r.rvs(*params_u, size = 10000)\n",
    "\n",
    "#Compute Fh\n",
    "rs_q = rs_h * rs_u\n",
    "\n",
    "#repeat for observations\n",
    "q = h * u\n",
    "\n",
    "#plot the PDF and the CDF\n",
    "fig, axes = plt.subplots(1, 2, figsize=(12, 7))\n",
    "axes[0].hist(rs_q, edgecolor='k', linewidth=0.2, density = True, label = 'From simulations')\n",
    "axes[0].hist(q, edgecolor='k', facecolor = 'orange', alpha = 0.5, linewidth=0.2, \n",
    "             density = True, label = 'From observations')\n",
    "axes[0].set_xlabel('Discharge (m3/s)')\n",
    "axes[0].set_ylabel('density')\n",
    "axes[0].set_title('PDF', fontsize=18)\n",
    "axes[0].legend()\n",
    "axes[0].grid()\n",
    "\n",
    "axes[1].step(ecdf(rs_q)[1], 1-ecdf(rs_q)[0], label = 'From simulations')\n",
    "axes[1].step(ecdf(q)[1], 1-ecdf(q)[0], color = 'orange', label = 'From observations')\n",
    "axes[1].set_xlabel('Discharge (m3/s)')\n",
    "axes[1].set_ylabel('${P[X > x]}$')\n",
    "axes[1].set_title('Exceedance plot', fontsize=18)\n",
    "axes[1].set_yscale('log')\n",
    "axes[1].legend()\n",
    "axes[1].grid()"
   ]
  },
  {
   "cell_type": "markdown",
   "id": "f0841e5c",
   "metadata": {},
   "source": [
    "<div style=\"background-color:#AABAB2; color: black; width:95%; vertical-align: middle; padding:15px; margin: 10px; border-radius: 10px\">\n",
    "<p>\n",
    "<b>Task 8:</b>  \n",
    " \n",
    "Interpret the figures above, answering the following questions:\n",
    "- Are there differences between the two computed distributions for $q$?</li>\n",
    "- What are the advantages and disadvantages of using the simulations?</li>\n",
    "</p>\n",
    "</div>"
   ]
  },
  {
   "cell_type": "markdown",
   "id": "9aed79cd",
   "metadata": {},
   "source": [
    "<div style=\"background-color:#FAE99E; color: black; width:95%; vertical-align: middle; padding:15px; margin: 10px; border-radius: 10px\">\n",
    "    <b>Solution:</b>\n",
    "\n",
    "- In the PDF plot, we can see that the shape of the distribution is similar for $q$. In the CDF plot, we can see that there are significant differences in the tail of the distribution of $q$, being the values from the observations higher than those computed from the simulations. This is because the Gaussian distribution does not properly fit the tail of the distribution of $h$ and when inferring values with very low exceedance probabilities, that becomes more noticeable. </li>\n",
    "- <b>Disadvantages:</b> we are assuming that $h$ and $u$ are independent (we will see how to address this issue next week). But is that true? Also, the results are conditioned to how good model is the selected parametric distribution. In this case, since the tail of the distribution of $h$ is not properly fitted, the obtained distribution for $q$ deviates from the one obtained from the observations. Also, some simulated values are negative and, thus, non-physical. That could be corrected using distributions bounded in 0. <li><b>Advantages:</b> I can draw all the samples I want allowing the computation of events I have not observed yet (extreme events).\n",
    "</div>"
   ]
  },
  {
   "cell_type": "markdown",
   "id": "559c8d20",
   "metadata": {},
   "source": [
    "If you run the code in the cell below, you will obtain a scatter plot of both variables. Explore the relationship between both variables and answer the following questions:\n",
    "\n",
    "<div style=\"background-color:#AABAB2; color: black; width:95%; vertical-align: middle; padding:15px; margin: 10px; border-radius: 10px\">\n",
    "<p>\n",
    "<b>Task 9:</b>   \n",
    "    \n",
    "1. Observe the plot below. What differences do you observe between the generated samples and the observations?\n",
    "    \n",
    "2. Compute the correlation between $h$ and $u$ for the samples and for the observartions. Are there differences?\n",
    "    \n",
    "3. What can you improve into the previous analysis? Do you have any ideas/suggestions on how to implement those suggestions?\n",
    "</p>\n",
    "</div>"
   ]
  },
  {
   "cell_type": "code",
   "execution_count": null,
   "id": "1c470613",
   "metadata": {},
   "outputs": [],
   "source": [
    "fig, axes = plt.subplots(1, 1, figsize=(7, 7))\n",
    "axes.scatter(rs_h, rs_u, 40, 'k', label = 'Simulations')\n",
    "axes.scatter(h, u, 40, 'r','x', label = 'Observations')\n",
    "axes.set_xlabel('Water depth, h (m)')\n",
    "axes.set_ylabel('Flow velocity, u (m/s)')\n",
    "axes.legend()\n",
    "axes.grid()"
   ]
  },
  {
   "cell_type": "code",
   "execution_count": null,
   "id": "e6008955",
   "metadata": {},
   "outputs": [],
   "source": [
    "#Correlation\n",
    "correl = stats.pearsonr(h, u)\n",
    "correl_rs = stats.pearsonr(rs_h, rs_u)\n",
    "print('The correlation between the observations is:', correl[0])\n",
    "print('The correlation between the simulations is:', correl_rs[0])"
   ]
  },
  {
   "cell_type": "markdown",
   "id": "0ba87f7f",
   "metadata": {},
   "source": [
    "<div style=\"background-color:#FAE99E; color: black; width:95%; vertical-align: middle; padding:15px; margin: 10px; border-radius: 10px\">\n",
    "    <b>Solution:</b>\n",
    "\n",
    "- The observations are focussed in an area of the plot while the simulations are spreaded all around. this is because the observations are dependent to each other, there is a physical relationship between the water depth and the velocity of the flow, while the simualtions were assumed to be independent. </li>\n",
    "- There is a correlation of 0.39 between the observed $h$ and $u$, indicating the physical dependence between the variables. On the contrary, no significant correlation between the generated samples is observed.</li>\n",
    "- <b>Some suggestions:</b> Improve the fit in the tail of $h$. Account for the dependence between the two variables. </li>\n",
    "</div>"
   ]
  },
  {
   "cell_type": "markdown",
   "id": "7e4a0bd9-5e74-4808-a7d1-aa2d3f612bee",
   "metadata": {},
   "source": [
    "**End of notebook.**\n",
    "<h2 style=\"height: 60px\">\n",
    "</h2>\n",
    "<h3 style=\"position: absolute; display: flex; flex-grow: 0; flex-shrink: 0; flex-direction: row-reverse; bottom: 60px; right: 50px; margin: 0; border: 0\">\n",
    "    <style>\n",
    "        .markdown {width:100%; position: relative}\n",
    "        article { position: relative }\n",
    "    </style>\n",
    "    <a rel=\"license\" href=\"http://creativecommons.org/licenses/by-nc-sa/4.0/\">\n",
    "      <img alt=\"Creative Commons License\" style=\"border-width:; width:88px; height:auto; padding-top:10px\" src=\"https://i.creativecommons.org/l/by-nc-sa/4.0/88x31.png\" />\n",
    "    </a>\n",
    "    <a rel=\"TU Delft\" href=\"https://www.tudelft.nl/en/ceg\">\n",
    "      <img alt=\"TU Delft\" style=\"border-width:0; width:100px; height:auto; padding-bottom:0px\" src=\"https://gitlab.tudelft.nl/mude/public/-/raw/main/tu-logo/TU_P1_full-color.png\"/>\n",
    "    </a>\n",
    "    <a rel=\"MUDE\" href=\"http://mude.citg.tudelft.nl/\">\n",
    "      <img alt=\"MUDE\" style=\"border-width:0; width:100px; height:auto; padding-bottom:0px\" src=\"https://gitlab.tudelft.nl/mude/public/-/raw/main/mude-logo/MUDE_Logo-small.png\"/>\n",
    "    </a>\n",
    "    \n",
    "</h3>\n",
    "<span style=\"font-size: 75%\">\n",
    "&copy; Copyright 2023 <a rel=\"MUDE Team\" href=\"https://studiegids.tudelft.nl/a101_displayCourse.do?course_id=65595\">MUDE Teaching Team</a> TU Delft. This work is licensed under a <a rel=\"license\" href=\"http://creativecommons.org/licenses/by-nc-sa/4.0/\">Creative Commons Attribution-NonCommercial-ShareAlike 4.0 International License</a>."
   ]
  }
 ],
 "metadata": {
  "language_info": {
   "name": "python"
  }
 },
 "nbformat": 4,
 "nbformat_minor": 5
}
