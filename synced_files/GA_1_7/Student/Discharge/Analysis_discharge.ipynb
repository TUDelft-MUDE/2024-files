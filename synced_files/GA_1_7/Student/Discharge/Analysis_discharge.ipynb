{
 "cells": [
  {
   "cell_type": "markdown",
   "id": "f1cdbc9c-a28f-481d-b082-326fde573afb",
   "metadata": {
    "tags": []
   },
   "source": [
    "# Group Assignment 1.7: Distribution Fitting\n",
    "\n",
    "<h1 style=\"position: absolute; display: flex; flex-grow: 0; flex-shrink: 0; flex-direction: row-reverse; top: 60px;right: 30px; margin: 0; border: 0\">\n",
    "    <style>\n",
    "        .markdown {width:100%; position: relative}\n",
    "        article { position: relative }\n",
    "    </style>\n",
    "    <img src=\"https://gitlab.tudelft.nl/mude/public/-/raw/main/tu-logo/TU_P1_full-color.png\" style=\"width:100px; height: auto; margin: 0\" />\n",
    "    <img src=\"https://gitlab.tudelft.nl/mude/public/-/raw/main/mude-logo/MUDE_Logo-small.png\" style=\"width:100px; height: auto; margin: 0\" />\n",
    "</h1>\n",
    "<h2 style=\"height: 10px\">\n",
    "</h2>\n",
    "\n",
    "*[CEGM1000 MUDE](http://mude.citg.tudelft.nl/): Week 7, Friday Oct 18, 2024.*"
   ]
  },
  {
   "cell_type": "markdown",
   "id": "b26d81da-b5a7-44b0-8049-eec218ab84e2",
   "metadata": {
    "id": "1db6fea9-f3ad-44bc-a4c8-7b2b3008e945"
   },
   "source": [
    "## Case 3: Discharges on a structure\n",
    "\n",
    "**What's the propagated uncertainty? *How large will be the discharge?***\n",
    "\n",
    "In this project, you have chosen to work on the uncertainty of water depths ($h$) and water velocities ($u$) on top of a hydraulic structure to estimate the discharge. You have observations from physical experiments of waves impacting a breakwater during a wave storm scaled up to prototype scale. You can further read on the dataset [here](https://doi.org/10.1016/j.coastaleng.2024.104483). Remember that the discharge can be computed as\n",
    "\n",
    "$$\n",
    "q = u S\n",
    "$$\n",
    "\n",
    "where $S$ is the section the flow crosses. Thus, assuming a discharge width of 1m, we can simplify the previous equation as\n",
    "\n",
    "$$\n",
    "q = u h \n",
    "$$\n",
    "\n",
    "**The goal of this project is:**\n",
    "1. Choose a reasonable distribution function for $d$ and $h$.\n",
    "2. Fit the chosen distributions to the observations of $d$ and $h$.\n",
    "3. Assuming $d$ and $h$ are independent, propagate their distributions to obtain the distribution of $q$.\n",
    "4. Analyze the distribution of $q$."
   ]
  },
  {
   "cell_type": "markdown",
   "id": "d33f1148-c72b-4c7e-bca7-45973b2570c5",
   "metadata": {
    "id": "d33f1148-c72b-4c7e-bca7-45973b2570c5"
   },
   "source": [
    "## Importing packages"
   ]
  },
  {
   "cell_type": "code",
   "execution_count": null,
   "id": "4fc6e87d-c66e-43df-a937-e969acc409f8",
   "metadata": {},
   "outputs": [],
   "source": [
    "import numpy as np\n",
    "import matplotlib.pyplot as plt\n",
    "\n",
    "from scipy import stats \n",
    "from math import ceil, trunc\n",
    "\n",
    "plt.rcParams.update({'font.size': 14})"
   ]
  },
  {
   "cell_type": "markdown",
   "id": "1ee42f39",
   "metadata": {},
   "source": [
    "## 1. Explore the data"
   ]
  },
  {
   "cell_type": "markdown",
   "id": "27fd05f1",
   "metadata": {},
   "source": [
    "First step in the analysis is exploring the data, visually and through its statistics."
   ]
  },
  {
   "cell_type": "code",
   "execution_count": null,
   "id": "a2f08dc7",
   "metadata": {},
   "outputs": [],
   "source": [
    "# Import\n",
    "h, u = np.genfromtxt('dataset_hu.csv', delimiter=\",\", unpack=True, skip_header=True)\n",
    "\n",
    "# plot time series\n",
    "fig, ax = plt.subplots(2, 1, figsize=(10, 7), layout = 'constrained')\n",
    "ax[0].plot(h,'k')\n",
    "ax[0].set_xlabel('Time')\n",
    "ax[0].set_ylabel('Water depth, h (m)')\n",
    "ax[0].grid()\n",
    "\n",
    "ax[1].plot(u,'k')\n",
    "ax[1].set_xlabel('Time')\n",
    "ax[1].set_ylabel('Water velocity, u (m/s)')\n",
    "ax[1].grid()"
   ]
  },
  {
   "cell_type": "code",
   "execution_count": null,
   "id": "a2a69142",
   "metadata": {},
   "outputs": [],
   "source": [
    "# Statistics for h\n",
    "\n",
    "print(stats.describe(h))"
   ]
  },
  {
   "cell_type": "code",
   "execution_count": null,
   "id": "6f9fb23c",
   "metadata": {},
   "outputs": [],
   "source": [
    "# Statistics for u\n",
    "\n",
    "print(stats.describe(u))"
   ]
  },
  {
   "cell_type": "markdown",
   "id": "bfadcf3f-4578-4809-acdb-625ab3a71f27",
   "metadata": {
    "id": "bfadcf3f-4578-4809-acdb-625ab3a71f27"
   },
   "source": [
    "<div style=\"background-color:#AABAB2; color: black; width:95%; vertical-align: middle; padding:15px; margin: 10px; border-radius: 10px\">\n",
    "<p>\n",
    "<b>Task 1:</b>  \n",
    " \n",
    "Describe the data based on the previous statistics:\n",
    "    <li>Which variable presents a higher variability?</li>\n",
    "    <li>What does the skewness coefficient means? Which kind of distribution functions should we consider to fit them?</li>\n",
    "</p>\n",
    "</div>"
   ]
  },
  {
   "cell_type": "markdown",
   "id": "d4886ae8",
   "metadata": {},
   "source": [
    "## 2. Empirical distribution functions"
   ]
  },
  {
   "cell_type": "markdown",
   "id": "0609e0a6",
   "metadata": {},
   "source": [
    "Now, we are going to compute and plot the empirical PDF and CDF for each variable. Note that you have the pseudo-code for the empirical CDF in the [reader](https://mude.citg.tudelft.nl/book/probability/empirical.html)."
   ]
  },
  {
   "cell_type": "markdown",
   "id": "b20641d9",
   "metadata": {},
   "source": [
    "<div style=\"background-color:#AABAB2; color: black; width:95%; vertical-align: middle; padding:15px; margin: 10px; border-radius: 10px\">\n",
    "<p>\n",
    "<b>Task 2:</b>   \n",
    "\n",
    "Define a function to compute the empirical CDF.\n",
    "</p>\n",
    "</div>"
   ]
  },
  {
   "cell_type": "code",
   "execution_count": null,
   "id": "3a47f881",
   "metadata": {},
   "outputs": [],
   "source": [
    "def ecdf(YOUR_INPUT:\n",
    "    #Your code\n",
    "    return YOUR_OUTPUT"
   ]
  },
  {
   "cell_type": "code",
   "execution_count": null,
   "id": "31ef8aaf",
   "metadata": {},
   "outputs": [],
   "source": [
    "#Your plot"
   ]
  },
  {
   "cell_type": "markdown",
   "id": "f364c8cd",
   "metadata": {
    "id": "bfadcf3f-4578-4809-acdb-625ab3a71f27"
   },
   "source": [
    "<div style=\"background-color:#AABAB2; color: black; width:95%; vertical-align: middle; padding:15px; margin: 10px; border-radius: 10px\">\n",
    "<p>\n",
    "<b>Task 3:</b>   \n",
    "\n",
    "Based on the results of Task 1 and the empirical PDF and CDF, select <b>one</b> distribution to fit to each variable. For $h$, select between Uniform or Gaussian distribution, while for $u$ choose between Exponential or Gumbel.\n",
    "</p>\n",
    "</div>"
   ]
  },
  {
   "cell_type": "markdown",
   "id": "850d6d0c",
   "metadata": {},
   "source": [
    "## 3. Fitting a distribution"
   ]
  },
  {
   "cell_type": "markdown",
   "id": "6a24dbfa",
   "metadata": {},
   "source": [
    "<div style=\"background-color:#AABAB2; color: black; width:95%; vertical-align: middle; padding:15px; margin: 10px; border-radius: 10px\">\n",
    "<p>\n",
    "<b>Task 4:</b>   \n",
    "\n",
    "Fit the selected distributions to the observations using MLE.\n",
    "</p>\n",
    "</div>\n",
    "\n",
    "Hint: Use [Scipy](https://docs.scipy.org/doc/scipy/reference/stats.html) built in functions (watch out with the parameters definition!)."
   ]
  },
  {
   "cell_type": "code",
   "execution_count": null,
   "id": "9ff84ed1",
   "metadata": {},
   "outputs": [],
   "source": [
    "#Your code here"
   ]
  },
  {
   "cell_type": "markdown",
   "id": "33ad10d9",
   "metadata": {},
   "source": [
    "## 4. Assessing goodness of fit"
   ]
  },
  {
   "cell_type": "markdown",
   "id": "30f5112c",
   "metadata": {},
   "source": [
    "<div style=\"background-color:#AABAB2; color: black; width:95%; vertical-align: middle; padding:15px; margin: 10px; border-radius: 10px\">\n",
    "<p>\n",
    "<b>Task 5:</b>   \n",
    "\n",
    "Assess the goodness of fit of the selected distribution using:\n",
    "    <li> One graphical method: QQplot or Logscale. Choose one.</li>\n",
    "    <li> Kolmogorov-Smirnov test.</li>\n",
    "</p>\n",
    "</div>\n",
    "\n",
    "Hint: You have Kolmogorov-Smirnov test implemented in [Scipy](https://docs.scipy.org/doc/scipy/reference/stats.html)."
   ]
  },
  {
   "cell_type": "code",
   "execution_count": null,
   "id": "a344a7cb",
   "metadata": {},
   "outputs": [],
   "source": [
    "#Your code here"
   ]
  },
  {
   "cell_type": "markdown",
   "id": "ad185d88",
   "metadata": {},
   "source": [
    "<div style=\"background-color:#AABAB2; color: black; width:95%; vertical-align: middle; padding:15px; margin: 10px; border-radius: 10px\">\n",
    "<p>\n",
    "<b>Task 6:</b>   \n",
    "\n",
    "Interpret the results of the GOF techniques. How does the selected parametric distribution perform?\n",
    "</p>\n",
    "</div>"
   ]
  },
  {
   "cell_type": "markdown",
   "id": "12fbd5cf",
   "metadata": {},
   "source": [
    "## 5. Propagating the uncertainty"
   ]
  },
  {
   "cell_type": "markdown",
   "id": "a3ee90f7",
   "metadata": {},
   "source": [
    "Using the fitted distributions, we are going to propagate the uncertainty from $h$ and $u$ to $q$ **assuming that $h$ and $u$ are independent**.\n",
    "\n",
    "<div style=\"background-color:#AABAB2; color: black; width:95%; vertical-align: middle; padding:15px; margin: 10px; border-radius: 10px\">\n",
    "<p>\n",
    "<b>Task 7:</b>   \n",
    "    \n",
    "1. Draw 10,000 random samples from the fitted distribution functions for $h$ and $u$.\n",
    "    \n",
    "2. Compute $q$ for each pair of samples.\n",
    "    \n",
    "3. Compute $q$ for the observations.\n",
    "    \n",
    "4. Plot the PDF and exceedance curve in logscale of $q$ computed using both the simulations and the observations.\n",
    "</p>\n",
    "</div>"
   ]
  },
  {
   "cell_type": "code",
   "execution_count": null,
   "id": "c200a7b5",
   "metadata": {},
   "outputs": [],
   "source": [
    "# Here, the solution is shown for the Lognormal distribution\n",
    "\n",
    "# Draw random samples\n",
    "rs_h = #Your code here\n",
    "rs_u = #Your code here\n",
    "\n",
    "#Compute Fh\n",
    "rs_q = #Your code here\n",
    "\n",
    "#repeat for observations\n",
    "q = #Your code here\n",
    "\n",
    "#plot the PDF and the CDF"
   ]
  },
  {
   "cell_type": "markdown",
   "id": "f0841e5c",
   "metadata": {},
   "source": [
    "<div style=\"background-color:#AABAB2; color: black; width:95%; vertical-align: middle; padding:15px; margin: 10px; border-radius: 10px\">\n",
    "<p>\n",
    "<b>Task 8:</b>  \n",
    " \n",
    "Interpret the figures above, answering the following questions:\n",
    "- Are there differences between the two computed distributions for $q$?</li>\n",
    "- What are the advantages and disadvantages of using the simulations?</li>\n",
    "</p>\n",
    "</div>"
   ]
  },
  {
   "cell_type": "markdown",
<<<<<<< HEAD
   "id": "59a5e782",
=======
   "id": "da2e4bd0",
>>>>>>> main
   "metadata": {},
   "source": [
    "If you run the code in the cell below, you will obtain a scatter plot of both variables. Explore the relationship between both variables and answer the following questions:\n",
    "\n",
    "<div style=\"background-color:#AABAB2; color: black; width:95%; vertical-align: middle; padding:15px; margin: 10px; border-radius: 10px\">\n",
    "<p>\n",
    "<b>Task 9:</b>   \n",
    "    \n",
    "1. Observe the plot below. What differences do you observe between the generated samples and the observations?\n",
    "    \n",
    "2. Compute the correlation between $h$ and $u$ for the samples and for the observartions. Are there differences?\n",
    "    \n",
    "3. What can you improve into the previous analysis? Do you have any ideas/suggestions on how to implement those suggestions?\n",
    "</p>\n",
    "</div>"
   ]
  },
  {
   "cell_type": "code",
   "execution_count": null,
<<<<<<< HEAD
   "id": "60c56e35",
=======
   "id": "ac565d7e",
>>>>>>> main
   "metadata": {},
   "outputs": [],
   "source": [
    "fig, axes = plt.subplots(1, 1, figsize=(7, 7))\n",
    "axes.scatter(rs_h, rs_u, 40, 'k', label = 'Simulations')\n",
    "axes.scatter(h, u, 40, 'r','x', label = 'Observations')\n",
    "axes.set_xlabel('Wave height, H (m)')\n",
    "axes.set_ylabel('Wave period, T (s)')\n",
    "axes.legend()\n",
    "axes.grid()"
   ]
  },
  {
   "cell_type": "code",
   "execution_count": null,
<<<<<<< HEAD
   "id": "c2a0acb5",
=======
   "id": "4e42b65a",
>>>>>>> main
   "metadata": {},
   "outputs": [],
   "source": [
    "#Correlation coefficient calculation here"
   ]
  },
  {
   "cell_type": "markdown",
   "id": "7e4a0bd9-5e74-4808-a7d1-aa2d3f612bee",
   "metadata": {},
   "source": [
    "**End of notebook.**\n",
    "<h2 style=\"height: 60px\">\n",
    "</h2>\n",
    "<h3 style=\"position: absolute; display: flex; flex-grow: 0; flex-shrink: 0; flex-direction: row-reverse; bottom: 60px; right: 50px; margin: 0; border: 0\">\n",
    "    <style>\n",
    "        .markdown {width:100%; position: relative}\n",
    "        article { position: relative }\n",
    "    </style>\n",
    "    <a rel=\"license\" href=\"http://creativecommons.org/licenses/by-nc-sa/4.0/\">\n",
    "      <img alt=\"Creative Commons License\" style=\"border-width:; width:88px; height:auto; padding-top:10px\" src=\"https://i.creativecommons.org/l/by-nc-sa/4.0/88x31.png\" />\n",
    "    </a>\n",
    "    <a rel=\"TU Delft\" href=\"https://www.tudelft.nl/en/ceg\">\n",
    "      <img alt=\"TU Delft\" style=\"border-width:0; width:100px; height:auto; padding-bottom:0px\" src=\"https://gitlab.tudelft.nl/mude/public/-/raw/main/tu-logo/TU_P1_full-color.png\"/>\n",
    "    </a>\n",
    "    <a rel=\"MUDE\" href=\"http://mude.citg.tudelft.nl/\">\n",
    "      <img alt=\"MUDE\" style=\"border-width:0; width:100px; height:auto; padding-bottom:0px\" src=\"https://gitlab.tudelft.nl/mude/public/-/raw/main/mude-logo/MUDE_Logo-small.png\"/>\n",
    "    </a>\n",
    "    \n",
    "</h3>\n",
    "<span style=\"font-size: 75%\">\n",
    "&copy; Copyright 2023 <a rel=\"MUDE Team\" href=\"https://studiegids.tudelft.nl/a101_displayCourse.do?course_id=65595\">MUDE Teaching Team</a> TU Delft. This work is licensed under a <a rel=\"license\" href=\"http://creativecommons.org/licenses/by-nc-sa/4.0/\">Creative Commons Attribution-NonCommercial-ShareAlike 4.0 International License</a>."
   ]
  }
 ],
 "metadata": {
  "language_info": {
   "name": "python"
  }
 },
 "nbformat": 4,
 "nbformat_minor": 5
}
