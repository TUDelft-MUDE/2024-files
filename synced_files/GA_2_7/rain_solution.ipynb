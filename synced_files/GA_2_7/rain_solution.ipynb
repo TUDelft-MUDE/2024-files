{
 "cells": [
  {
   "cell_type": "markdown",
   "id": "be4282e1-88b3-4792-a677-ccd1e429ea57",
   "metadata": {
    "tags": []
   },
   "source": [
    "# Group Assignment 2.7: Extreme Value Analysis\n",
    "\n",
    "<h1 style=\"position: absolute; display: flex; flex-grow: 0; flex-shrink: 0; flex-direction: row-reverse; top: 60px;right: 30px; margin: 0; border: 0\">\n",
    "    <style>\n",
    "        .markdown {width:100%; position: relative}\n",
    "        article { position: relative }\n",
    "    </style>\n",
    "    <img src=\"https://gitlab.tudelft.nl/mude/public/-/raw/main/tu-logo/TU_P1_full-color.png\" style=\"width:100px\" />\n",
    "    <img src=\"https://gitlab.tudelft.nl/mude/public/-/raw/main/mude-logo/MUDE_Logo-small.png\" style=\"width:100px\" />\n",
    "</h1>\n",
    "<h2 style=\"height: 10px\">\n",
    "</h2>\n",
    "\n",
    "*[CEGM1000 MUDE](http://mude.citg.tudelft.nl/): Extreme Value Analysis, Week 2.7, Friday, Jan 10, 2024.*"
   ]
  },
  {
   "cell_type": "markdown",
   "id": "78e9e591-ddfd-403c-8538-6a9559ac462b",
   "metadata": {
    "id": "1db6fea9-f3ad-44bc-a4c8-7b2b3008e945"
   },
   "source": [
    "In this project, you will work on the uncertainty of precipitation in Turís, close to Valencia (Spain), where the past month of October an extreme flood occurred. Turís was the location where the highest rainfall was recorded. You have daily observations since 1999. The dataset was retrieved from the Ministry of Agriculture [here](https://servicio.mapa.gob.es/websiar/SeleccionParametrosMap.aspx?dst=1).\n",
    "\n",
    "**The goal of this project is:**\n",
    "1. Perform Extreme Value Analysis using Yearly Maxima and GEV.\n",
    "2. Perform Extreme Value Analysis using POT and GPD.\n",
    "3. Compare the results from both methods in terms of design return levels.\n",
    "\n",
    "_Read the instructions for this project in `README.md` before beginning the analysis._"
   ]
  },
  {
   "cell_type": "code",
   "execution_count": null,
   "id": "4fc6e87d-c66e-43df-a937-e969acc409f8",
   "metadata": {},
   "outputs": [],
   "source": [
    "import numpy as np\n",
    "import pandas as pd\n",
    "import matplotlib.pyplot as plt\n",
    "\n",
    "from scipy import stats \n",
    "from scipy.signal import find_peaks\n",
    "\n",
    "plt.rcParams.update({'font.size': 14})"
   ]
  },
  {
   "cell_type": "markdown",
   "id": "27fd05f1",
   "metadata": {
    "tags": []
   },
   "source": [
    "## Task 1: Import and Explore Data\n",
    "\n",
    "The first step in the analysis is importing and exploring the data set.\n",
    "\n",
    "The dataset has two columns: the first one provides the time stamp of the measurements and the last column shows the measured precipitation (mm). We set the first column as a datetime as they are the dates of the measurements."
   ]
  },
  {
   "cell_type": "code",
   "execution_count": null,
   "id": "66e2b916-eb89-4d5e-a531-6ff0efa26018",
   "metadata": {},
   "outputs": [],
   "source": [
    "# Import\n",
    "P = pd.read_csv('turis.csv', delimiter = ',', parse_dates = True)\n",
    "P.columns=['Date', 'Prec'] #rename columns\n",
    "P['Date'] = pd.to_datetime(P['Date'], format='mixed')\n",
    "P = P.sort_values(by='Date')\n",
    "\n",
    "P.head()"
   ]
  },
  {
   "cell_type": "code",
   "execution_count": null,
   "id": "4dbeaa1a-84d4-43ad-bebe-cad9e7983c56",
   "metadata": {},
   "outputs": [],
   "source": [
    "# values for markdown report\n",
    "print(f\"{P['Prec'].size:d}\",\n",
    "      f\"{P['Prec'].min():.3f}\",\n",
    "      f\"{P['Prec'].max():.3f}\",\n",
    "      f\"{P['Prec'].mean():.3f}\",\n",
    "      f\"{P['Prec'].std():.3f}\",\n",
    "      f\"{P['Prec'].isna().sum():d}\",\n",
    "      f\"{sum(P['Prec']==0):d}\",\n",
    "      sep=' | ')"
   ]
  },
  {
   "cell_type": "code",
   "execution_count": null,
   "id": "30390de1-a79e-4d82-ab1b-8abafb91c5f8",
   "metadata": {},
   "outputs": [],
   "source": [
    "#Solution\n",
    "plt.figure(figsize=(10, 6))\n",
    "plt.plot(P['Date'], P['Prec'],'k')\n",
    "plt.xlabel('Time')\n",
    "plt.ylabel('Precipitation [mm]')\n",
    "plt.grid()\n",
    "plt.title('Time series of precipitation');"
   ]
  },
  {
   "cell_type": "markdown",
   "id": "d4886ae8",
   "metadata": {},
   "source": [
    "## Task 2: Yearly Maxima & GEV\n",
    "\n",
    "Let's start with the first EVA analysis!"
   ]
  },
  {
   "cell_type": "markdown",
   "id": "6391c5c2-521c-43f6-919a-ef9a1356fb69",
   "metadata": {},
   "source": [
    "<div style=\"background-color:#AABAB2; color: black; vertical-align: middle; padding:15px; margin: 10px; border-radius: 10px; width: 95%\">\n",
    "<p>\n",
    "<b>Task 2.1:</b>   \n",
    "Sample the data set by finding the yearly maxima and add the sampled extremes to your time series plot as red dots.\n",
    "</p>\n",
    "</div>"
   ]
  },
  {
   "cell_type": "code",
   "execution_count": null,
   "id": "da61b661-a22f-4adc-96f3-d6d494aabfc6",
   "metadata": {},
   "outputs": [],
   "source": [
    "# Solution:\n",
    "idx_max = P.groupby(pd.DatetimeIndex(P['Date']).year)['Prec'].idxmax()\n",
    "YM = P.loc[idx_max]\n",
    "print('The shape of the sampled extremes is:', YM.shape)\n",
    "\n",
    "plt.figure(figsize=(10, 6))\n",
    "plt.plot(P['Date'], P['Prec'],'k')\n",
    "plt.scatter(YM['Date'], YM['Prec'], 40, 'r')\n",
    "plt.xlabel('Time')\n",
    "plt.ylabel('Precipitation [mm]')\n",
    "plt.grid()"
   ]
  },
  {
   "cell_type": "markdown",
   "id": "1a7eafde-e4c4-427d-bd09-725d049a4310",
   "metadata": {},
   "source": [
    "<div style=\"background-color:#AABAB2; color: black; vertical-align: middle; padding:15px; margin: 10px; border-radius: 10px; width: 95%\">\n",
    "<p>\n",
    "<b>Task 2.2:</b>   Compute the empirical cumulative distribution function of the sampled maxima. Fit the appropriate extreme value distribution function using <code>scipy.stats</code> and assess the fit via an exceedance plot with semi-log scale.\n",
    "</p>\n",
    "</div>"
   ]
  },
  {
   "cell_type": "markdown",
   "id": "08baa050-e5cf-46bf-aeb0-dcc88b32034b",
   "metadata": {
    "id": "0491cc69"
   },
   "source": [
    "<div style=\"background-color:#facb8e; color: black; vertical-align: middle; padding:15px; margin: 10px; border-radius: 10px; width: 95%\"> <p><b>Tip:</b> save the parameters of an instance of <code>rv_continuous</code> as a tuple to make it easier to use the methods of the distribution later.\n",
    "<br><br>For example, define parameters like this:\n",
    "<br><code>params = ... .fit( ... )</code>\n",
    "<br>instead of like this:\n",
    "<br><code>param1, param2, param3 = ... .fit( ... )</code>\n",
    "<br>(see WS15 solution for examples).\n",
    "</p></div>"
   ]
  },
  {
   "cell_type": "code",
   "execution_count": null,
   "id": "3a47f881",
   "metadata": {},
   "outputs": [],
   "source": [
    "#Function for the ECDF\n",
    "def ecdf(var):\n",
    "    x = np.sort(var)\n",
    "    n = x.size\n",
    "    y = np.arange(1, n + 1)/(n + 1)\n",
    "    return [y, x]\n",
    "\n",
    "#Fit the parametric distribution to the extreme observations\n",
    "params_YM = stats.genextreme.fit(YM['Prec'])\n",
    "print('GEV parameters are: {:.3f}, {:.3f}, {:.3f}'.format(*params_YM))\n",
    "\n",
    "#Compare both the empirical and parametric distributions in semilog scale\n",
    "\n",
    "x_range = np.linspace(0, 750, 100)\n",
    "plt.figure(figsize=(10, 6))\n",
    "plt.step(ecdf(YM['Prec'])[1],\n",
    "         1 - ecdf(YM['Prec'])[0],\n",
    "         'cornflowerblue',\n",
    "         label = 'Yearly maxima')\n",
    "plt.plot(x_range,\n",
    "         1 - stats.genextreme.cdf(x_range, *params_YM),\n",
    "         '--k', label='GEV')\n",
    "if params_YM[0]>0:\n",
    "    bound = params_YM[1] - params_YM[2]/(-params_YM[0])\n",
    "    plt.axvline(x = bound, color = 'red',\n",
    "                linestyle = ':',\n",
    "                label='Bound')\n",
    "plt.xlabel('Precipitation [mm]')\n",
    "plt.ylabel('Exceedance probability, $P[X > x]$')\n",
    "plt.yscale('log') \n",
    "plt.grid()\n",
    "plt.legend()\n",
    "plt.title('Empirical and YM/GEV Distributions, Precipitation')\n",
    "plt.tight_layout()\n",
    "# plt.savefig('./figures_solution/gev_rain.svg');"
   ]
  },
  {
   "cell_type": "code",
   "execution_count": null,
   "id": "646eb83a-3b6b-4eec-8e04-e5c5c5b4b8ad",
   "metadata": {},
   "outputs": [],
   "source": [
    "# for Markdown report\n",
    "print('GEV parameters are: {0:.3f} | {3:.3f} | {1:.3f} | {2:.3f}\\n'.format(*params_YM, -params_YM[0]))\n",
    "\n",
    "if params_YM[0]>0:\n",
    "    bound = params_YM[1] - params_YM[2]/(-params_YM[0])\n",
    "    print(f'Shape parameter from scipy.stats is {params_YM[0]:.3f}\\n'\n",
    "          '  - scipy.stats shape greater than 0\\n'\n",
    "          '  - MUDE book shape less than 0\\n'\n",
    "          '  - Tail type is Reverse Weibull --> there is a bound!\\n'\n",
    "          '  - bound = '\n",
    "          f'{params_YM[1]:.3f} - {params_YM[2]:.3f}/(-{params_YM[0]:.3f}) = {bound:.3f}')\n",
    "elif params_YM[0]<0:\n",
    "    print(f'Shape parameter from scipy.stats is {params_YM[0]:.3f}\\n'\n",
    "          '  - scipy.stats shape less than 0\\n'\n",
    "          '  - MUDE book shape greater than 0\\n'\n",
    "          '  - Tail type is Frechet --> unbounded\\n')\n",
    "else:\n",
    "     print(f'Shape parameter from scipy.stats is {params_YM[0]:.3f}\\n'\n",
    "          '  - Tail type is Gumbel\\n')"
   ]
  },
  {
   "cell_type": "markdown",
   "id": "7d9d7835-bde2-4522-a331-7ba07194f573",
   "metadata": {},
   "source": [
    "## Task 3: POT and GPD\n",
    "\n",
    "Let's go for Peak Over Threshold (POT)---make sure you **read** this section carefully, as there are some important tips for implementing the method correctly!\n",
    "\n",
    "As described in the book: _when performing EVA with POT, we model **excesses** over the threshold, not the actual value of the extreme event._ In principle, this can simply be described as follows:\n",
    "\n",
    "$$\n",
    "X = th + E\n",
    "$$\n",
    "\n",
    "where $X$ is the random variable of interest (rain, in this case), $th$ is the threshold and $E$ is the _excess_ (also a random variable). In other words, the distribution-fitting part of our EVA is performed on $E$. However, it is not practical to verify/validate or make inference with our distribution on the random variable $E$ for two key reasons:\n",
    "1. It is more convenient to think in terms of $X$, and\n",
    "2. We often need to calibrate the threshold value, which produces countless different sets of sampled extremes, distributions and random variables, $E$, which cannot be compared easily.\n",
    "\n",
    "As such, we continue to perform our analysis in terms of $X$, while making sure to address the fact that our POT data and distributions are defined in terms of $E$. In practical terms, this means we need to <em>add and subtract the threshold value at certain points in the analysis.</em>\n",
    "\n",
    "Note: with the exception of the check on the Poisson distribution, as done in the book and bonus, below, the threshold and declustering time evaluation is outside the scope of MUDE."
   ]
  },
  {
   "cell_type": "markdown",
   "id": "66d85d8b-8e5a-49e0-b93f-780a2ca8c5f5",
   "metadata": {},
   "source": [
    "<div style=\"background-color:#AABAB2; color: black; vertical-align: middle; padding:15px; margin: 10px; border-radius: 10px; width: 95%\">\n",
    "<p>\n",
    "<b>Task 3.1:</b>   \n",
    "Apply POT on the timeseries using a declustering time of 48 hours and a threshold of 40mm. Plot the sampled extremes on the timeseries as blue dots.\n",
    "</p>\n",
    "</div>"
   ]
  },
  {
   "cell_type": "markdown",
   "id": "144dc09c-74ef-4278-99b4-9448503a7a97",
   "metadata": {
    "id": "0491cc69"
   },
   "source": [
    "<div style=\"background-color:#facb8e; color: black; vertical-align: middle; padding:15px; margin: 10px; border-radius: 10px; width: 95%\">Hint: you can use the function <code>find_peaks</code> from Scipy, as done in PA15.</div>"
   ]
  },
  {
   "cell_type": "markdown",
   "id": "819bbca5-0147-4cc0-9165-99c9875d2b1f",
   "metadata": {},
   "source": [
    "<div style=\"background-color:#FAE99E; color: black; vertical-align: middle; padding:15px; margin: 10px; border-radius: 10px; width: 95%\">\n",
    "    <b>Solution:</b>\n",
    "    the code below to find the peaks is very similar to PA15. In this task it is not necessary to add or subtract the threshold as we are focused only on collecting the observations of the random variable (arbitrarily defined as $X$ in the explanation above).\n",
    "</div>\n",
    "</div>"
   ]
  },
  {
   "cell_type": "code",
   "execution_count": null,
   "id": "c200a7b5",
   "metadata": {},
   "outputs": [],
   "source": [
    "\n",
    "# Solution:\n",
    "threshold = 40\n",
    "\n",
    "distance = 2 #days\n",
    "peaks, _ = find_peaks(P['Prec'], height=threshold, distance=distance)\n",
    "print('The shape of the sampled extremes is:', peaks.shape)\n",
    "\n",
    "plt.figure(figsize=(10, 6))\n",
    "plt.plot(P['Date'], P['Prec'],'k')\n",
    "plt.scatter(P.iloc[peaks, 0], P.iloc[peaks, 1], 40, 'cornflowerblue')\n",
    "plt.xlabel('Time')\n",
    "plt.ylabel('Precipitation [mm]')\n",
    "plt.grid()"
   ]
  },
  {
   "cell_type": "markdown",
   "id": "f0841e5c",
   "metadata": {},
   "source": [
    "<div style=\"background-color:#AABAB2; color: black; vertical-align: middle; padding:15px; margin: 10px; border-radius: 10px\">\n",
    "<p>\n",
    "<b>Task 3.2:</b>   Compute the empirical cumulative distribution function of the sampled maxima. Fit the appropriate extreme value distribution function using <code>scipy.stats</code> and assess the fit via an exceedance plot with semi-log scale.\n",
    "</p>\n",
    "</div>"
   ]
  },
  {
   "cell_type": "markdown",
   "id": "24c29446-500a-4259-a8d3-511cdc50a72b",
   "metadata": {
    "id": "0491cc69"
   },
   "source": [
    "<div style=\"background-color:#facb8e; color: black; vertical-align: middle; padding:15px; margin: 10px; border-radius: 10px; width: 95%\">Hint: you need to fit a GPD with a location parameter of 0 on the excesses. You can force the fitting of a distribution with a given value of the parameters using the keyword argument <code>floc</code>.</div>"
   ]
  },
  {
   "cell_type": "markdown",
   "id": "8ebabc18-cb85-44c8-b946-128e65622b1f",
   "metadata": {},
   "source": [
    "<div style=\"background-color:#FAE99E; color: black; vertical-align: middle; padding:15px; margin: 10px; border-radius: 10px; width: 95%\">\n",
    "    <b>Solution:</b>\n",
    "    in this task the threshold is subtracted from the data in the argument of the GPD fitting method (thus fitting the distribution to the excesses). In preparing the plot, note the difference between the way the empirical and theoretical CDF are used: the empirical uses the random variable values directly (the DataFrame column at index 1), whereas the GPD \"adds the threshold back in\" for the random variable value, and uses the excess value as the argument for the CDF.\n",
    "</div>\n",
    "</div>"
   ]
  },
  {
   "cell_type": "code",
   "execution_count": null,
   "id": "a8225377-2dc0-4629-8f28-c8fd7d6055bc",
   "metadata": {},
   "outputs": [],
   "source": [
    "params_POT = stats.genpareto.fit(P.iloc[peaks, 1] - threshold, floc=0)\n",
    "print('GPD parameters are: {:.3f}, {:.3f}, {:.3f}'.format(*params_POT))\n",
    "\n",
    "excess_range = np.linspace(0, 750, 500)\n",
    "plt.figure(figsize=(10, 6))\n",
    "plt.step(ecdf(P.iloc[peaks, 1])[1],\n",
    "         1 - ecdf(P.iloc[peaks, 1])[0],\n",
    "         'cornflowerblue', label = 'POT')\n",
    "plt.plot(excess_range + threshold,\n",
    "         1 - stats.genpareto.cdf(excess_range, *params_POT),\n",
    "         '--k', label='GPD')\n",
    "if params_POT[0]<0:\n",
    "    bound_POT = threshold - params_POT[2]/params_POT[0]\n",
    "    print(f'Bound exists at {bound_POT:.3f}')\n",
    "    plt.axvline(x = bound_POT, color = 'red',\n",
    "                linestyle = ':',\n",
    "                label='Bound')\n",
    "plt.xlabel('Precipitation [mm]')\n",
    "plt.ylabel('Exceedance probability, $P[X > x]$')\n",
    "plt.yscale('log') \n",
    "plt.grid()\n",
    "plt.legend()\n",
    "plt.title('Empirical and POT/GPD Distributions, Precipitation')\n",
    "plt.tight_layout()\n",
    "# plt.savefig('./figures_solution/gpd_rain.svg');"
   ]
  },
  {
   "cell_type": "code",
   "execution_count": null,
   "id": "cf9b1575-ce16-4309-b454-f0317fb62509",
   "metadata": {},
   "outputs": [],
   "source": [
    "# for Markdown report\n",
    "print('GPD parameters are: {0:.3f} | {1:.3f} | {2:.3f}\\n'.format(*params_POT, params_POT[0]))\n",
    "\n",
    "if params_POT[0]>0:\n",
    "    print(f'Shape parameter from scipy.stats is {params_POT[0]:.3f}\\n'\n",
    "          '  - scipy.stats and MUDE book shape greater than 0\\n'\n",
    "          '  - Tail type --> heavy; power function behavior\\n')\n",
    "elif params_POT[0]==-1:\n",
    "    print(f'Shape parameter from scipy.stats is {params_POT[0]:.3f}\\n'\n",
    "          '  - Tail type is Exponential\\n')\n",
    "elif params_POT[0]<0:\n",
    "    print(f'Shape parameter from scipy.stats is {params_POT[0]:.3f}\\n'\n",
    "          '  - scipy.stats and MUDE book shape less than 0\\n'\n",
    "          '  - Tail type --> bounded\\n'\n",
    "          '  - bound = '\n",
    "          f'{threshold:.3f} - {params_POT[2]:.3f}/({params_POT[0]:.3f}) = {bound_POT:.3f}')\n",
    "else:\n",
    "     print(f'Shape parameter from scipy.stats is {params_POT[0]:.3f}\\n'\n",
    "          '  - Tail type is Gumbel\\n')"
   ]
  },
  {
   "cell_type": "code",
   "execution_count": null,
   "id": "d976adb0-b5d6-4959-ba0e-05f90a170597",
   "metadata": {},
   "outputs": [],
   "source": [
    "# Time series plot with both sets of extremes\n",
    "# For Report_solution.md\n",
    "\n",
    "plt.figure(figsize=(10, 6))\n",
    "plt.plot(P['Date'], P['Prec'],'k')\n",
    "plt.scatter(P.iloc[peaks, 0], P.iloc[peaks, 1],\n",
    "            40, 'cornflowerblue', label='POT')\n",
    "plt.scatter(YM['Date'], YM['Prec'],\n",
    "            40, 'r', label='BM')\n",
    "plt.xlabel('Time')\n",
    "plt.ylabel('Precipitation [mm]')\n",
    "plt.grid()\n",
    "plt.legend()\n",
    "plt.title('Samples from BM and POT Methods, Precipitation')\n",
    "plt.tight_layout()\n",
    "# plt.savefig('./figures_solution/extremes_rain.png');"
   ]
  },
  {
   "cell_type": "markdown",
   "id": "c3afa672-64a2-4cc0-9763-4e9b5057e24e",
   "metadata": {},
   "source": [
    "## Task 4: Computing Return Levels\n",
    "\n",
    "In this section, we are going to use the distributions found in the previous two Tasks to compute design return levels and compare the results that both EVA methods provide."
   ]
  },
  {
   "cell_type": "markdown",
   "id": "44f448dd-d2af-43d4-81e9-819f1f270e48",
   "metadata": {},
   "source": [
    "<div style=\"background-color:#AABAB2; color: black; vertical-align: middle; padding:15px; margin: 10px; border-radius: 10px; width: 95%\">\n",
    "<p>\n",
    "<b>Task 4.1:</b>   Assuming that we want to design our structure to survive a loading situation with a return period RT = 100 years, what are the design values predicted by both EVA approaches?\n",
    "</p>\n",
    "</div>"
   ]
  },
  {
   "cell_type": "markdown",
   "id": "740c7fa9-1f1b-4fb9-8425-024ea95b606c",
   "metadata": {
    "id": "0491cc69"
   },
   "source": [
    "<div style=\"background-color:#facb8e; color: black; vertical-align: middle; padding:15px; margin: 10px; border-radius: 10px; width: 95%\"> <p>Remember you can use tuple unpacking as an argument for methods of <code>scipy.stats.rv_continuous</code>, like this: <code>*params</code> (see WS15 solution for examples).</p></div>"
   ]
  },
  {
   "cell_type": "markdown",
   "id": "13fed900-b7d1-468a-b141-8d6206ecefaa",
   "metadata": {},
   "source": [
    "<div style=\"background-color:#FAE99E; color: black; vertical-align: middle; padding:15px; margin: 10px; border-radius: 10px; width: 95%\">\n",
    "    <b>Solution:</b>\n",
    "    here, again, note the addition of the threshold to the output of the inverse CDF method (<code>ppf</code>), thus \"converting\" the excess back to the original random variable.\n",
    "</div>\n",
    "</div>"
   ]
  },
  {
   "cell_type": "code",
   "execution_count": null,
   "id": "75761235-51e8-4f14-acd0-0ddf598cd365",
   "metadata": {},
   "outputs": [],
   "source": [
    "# # YM & GEV\n",
    "# YM_design_value = YOUR_CODE_HERE\n",
    "\n",
    "# # POT & GPD\n",
    "# average_n_excesses = YOUR_CODE_HERE\n",
    "# non_exc_prob = YOUR_CODE_HERE\n",
    "# POT_design_value = YOUR_CODE_HERE\n",
    "\n",
    "# Solution:\n",
    "# YM & GEV\n",
    "YM_design_value = stats.genextreme.ppf(1 - 1/100, *params_YM)\n",
    "\n",
    "# POT & GPD\n",
    "average_n_excesses = len(peaks)/YM.shape[0]\n",
    "non_exc_prob = 1 - 1/(100*average_n_excesses)\n",
    "POT_design_value = stats.genpareto.ppf(non_exc_prob, *params_POT) + threshold\n",
    "\n",
    "print('The design value for a RT = 100 years computed using',\n",
    "      'BM and GEV is:', np.round(YM_design_value, 3), 'mm')\n",
    "print('The design value for a RT = 100 years computed using',\n",
    "      'POT and GPD is:', np.round(POT_design_value, 3), 'mm')"
   ]
  },
  {
   "cell_type": "markdown",
   "id": "e41a1a60-c143-420e-b404-14c27e911c67",
   "metadata": {},
   "source": [
    "<div style=\"background-color:#AABAB2; color: black; vertical-align: middle; padding:15px; margin: 10px; border-radius: 10px; width: 95%\">\n",
    "<p>\n",
    "<b>Task 4.2:</b> create the return level plot for both EVA approaches (values of the random variable in the x-axis and return period on the y-axis; the y-axis in log scale). Consider return periods up to at least 500 years.\n",
    "</p>\n",
    "</div>"
   ]
  },
  {
   "cell_type": "markdown",
   "id": "8c1e474d-1ee7-4ea2-870f-03af2edf4dd4",
   "metadata": {},
   "source": [
    "<div style=\"background-color:#FAE99E; color: black; vertical-align: middle; padding:15px; margin: 10px; border-radius: 10px; width: 95%\">\n",
    "    <b>Solution:</b>\n",
    "    the threshold is also added here, in an identical way as in Task 4.1.\n",
    "</div>\n",
    "</div>"
   ]
  },
  {
   "cell_type": "code",
   "execution_count": null,
   "id": "3b50e43c-d801-4779-ac0a-8cef194ceac7",
   "metadata": {},
   "outputs": [],
   "source": [
    "RT_range = np.linspace(1, 500, 500)\n",
    "\n",
    "# YOUR_CODE_HERE (more than one line!)\n",
    "\n",
    "# plt.figure(figsize=(10, 6))\n",
    "# plt.plot(YM_range, RT_range, 'r', label = 'YM&GEV')\n",
    "# plt.plot(POT_range, RT_range, 'cornflowerblue', label = 'POT&GPD')\n",
    "# YOUR_FIGURE_FORMATTING_CODE_HERE (more than one line!)\n",
    "\n",
    "# Solution:\n",
    "#range of RT\n",
    "RT_range = np.linspace(2, 500, 500)\n",
    "\n",
    "#YM&GEV\n",
    "YM_range = stats.genextreme.ppf(1 - 1/RT_range, *params_YM)\n",
    "\n",
    "#POT&GPD\n",
    "average_n_excesses = len(peaks)/YM.shape[0]\n",
    "non_exc_prob_range = 1 - 1/(RT_range*average_n_excesses)\n",
    "POT_range = stats.genpareto.ppf(non_exc_prob_range, *params_POT) + threshold\n",
    "\n",
    "plt.figure(figsize=(10, 6))\n",
    "plt.plot(YM_range, RT_range, '--r', label = 'YM&GEV', linewidth=5)\n",
    "plt.plot(POT_range, RT_range, 'cornflowerblue', label = 'POT&GPD', linewidth=5)\n",
    "if params_YM[0]>0:\n",
    "    bound_YM = params_YM[1] - params_YM[2]/(-params_YM[0])\n",
    "    plt.axvline(x = bound_YM, color = 'black',\n",
    "                linestyle = ':',\n",
    "                label='Bound, YM',\n",
    "                linewidth=3)\n",
    "if params_POT[0]<0:\n",
    "    bound_POT = threshold - params_POT[2]/params_POT[0]\n",
    "    print(f'Bound exists at {bound_POT:.3f}')\n",
    "    plt.axvline(x = bound_POT, color = 'black',\n",
    "                linestyle = ':',\n",
    "                label='Bound, POT',\n",
    "                linewidth=3)\n",
    "plt.xlabel('Precipitation [mm]')\n",
    "plt.ylabel('RT [years]')\n",
    "plt.yscale('log') \n",
    "plt.grid()\n",
    "plt.legend()\n",
    "plt.title('Return Period and Design Values, Rain')\n",
    "plt.tight_layout()\n",
    "# plt.savefig('./figures_solution/design_rain.svg');"
   ]
  },
  {
   "cell_type": "markdown",
   "id": "b227f827-2523-4814-bf15-c8e2d499003a",
   "metadata": {},
   "source": [
    "<div style=\"background-color:#AABAB2; color: black; vertical-align: middle; padding:15px; margin: 10px; border-radius: 10px; width: 95%\">\n",
    "<p>\n",
    "<b>Note:</b> At this point you will be able to answer all of the required questions in the Report. You are encouraged to add additional cells to make computations to further justify you explanations (e.g., to generate values for Markdown tables, or calculate a few more return levels, etc.).\n",
    "</p>\n",
    "</div>"
   ]
  },
  {
   "cell_type": "markdown",
   "id": "48506c98-73c0-4486-8aa1-0fbd66d670f0",
   "metadata": {},
   "source": [
    "## Task 5 (optional): Influence of POT Parameters\n",
    "\n",
    "_This part is worth 2 extra credit points!_\n",
    "\n",
    "When deciding whether your POT distribution is suitable as a model for use in design, it is useful to analyze whether the selected parameters to perform the POT analysis (threshold and declustering time) are appropriate, in terms of the underlying assumptions of a Poisson distribution. Refer to Chapter 7.3 of the book, on page \"Parameters selection\" and apply the analysis presented there to your POT results. You can also apply a $\\chi^2$ (chi-squared) hypothesis test, as we did earlier in Q1. Perform the calculations in cells here, and include the following in your `Report.md`."
   ]
  },
  {
   "cell_type": "markdown",
   "id": "9a8883d4-58f9-4b71-9ebc-2764f6e6ec5a",
   "metadata": {},
   "source": [
    "<div style=\"background-color:#AABAB2; color: black; vertical-align: middle; padding:15px; margin: 10px; border-radius: 10px; width: 95%\">\n",
    "<p>\n",
    "<b>Task 5 (optional):</b>\n",
    "    \n",
    "There are three ways to do this, all of which use as \"data\" the _excesses_; the number of extremes sampled (observed) per year given our choice of threshold and declustering time:\n",
    "    \n",
    "<ol>\n",
    "    <li>Compute and compare the mean and variance.</li>\n",
    "    <li>Fit a Poisson distribution to the number of excesses and compare theoretical and empirical distributions (see plot in book).</li>\n",
    "    <li>Use a $\\chi^2$ (chi-squared) hypothesis test for the mean number of excesses per year.</li>\n",
    "</ol>\n",
    "\n",
    "The $\\chi^2$ value is found by taking the sum of the squared differences between the probability mass function (PMF) of the <em>observed</em> excesses and the PMF of the <em>predicted</em> excess, divided by the latter.\n",
    "    \n",
    "$$\n",
    "\\chi^2 = \\sum \\frac{\\bigl(p_O(o_i) - p_E(e_i)\\bigr)^2}{p_E(e_i)}\n",
    "$$\n",
    "    \n",
    "The degree of freedom is 1, and you can use a significance level of 0.05. The null hypothesis is: observations (number of excesses) come from a Poisson distribution.\n",
    "    \n",
    "</p>\n",
    "</div>"
   ]
  },
  {
   "cell_type": "markdown",
   "id": "6650996f-2c1d-4ae6-bfac-519249cee8c2",
   "metadata": {
    "id": "0491cc69"
   },
   "source": [
    "<div style=\"background-color:#facb8e; color: black; vertical-align: middle; padding:15px; margin: 10px; border-radius: 10px; width: 95%\"> <p>Hint: while our primary objective in EVA is evaluating the distribution of the random variable $X$, the number of excesses observed in a given period (regardless of BM or POT) is also a random variable, which in the case of POT can be described using the Poisson distribution.\n",
    "    \n",
    "Recall that the Poisson distribution is a <em>discrete probability distribution,</em> which is defined using a <em>probability mass function</em> (PMF) instead of a PDF. The PMF can be described using notation $p_X(X=x)$, which produces the probability of observing the discrete value $x$ of random variable $X$. The implementation in Python is slightly different, inheriting methods from the parent class <code>rv_discrete</code> instead of <code>rv_continuous</code>.</p></div>"
   ]
  },
  {
   "cell_type": "code",
   "execution_count": null,
   "id": "a7b593d6-c8aa-4f40-a583-004f1fbf3015",
   "metadata": {},
   "outputs": [],
   "source": [
    "# YOUR_CODE_HERE"
   ]
  },
  {
   "cell_type": "markdown",
   "id": "6aa4519a-640a-4106-98d7-6154ed4d885f",
   "metadata": {},
   "source": [
    "<div style=\"background-color:#FAE99E; color: black; vertical-align: middle; padding:15px; margin: 10px; border-radius: 10px; width: 95%\">\n",
    "    <b>Solution (bonus, part 1):</b>\n",
    "    here we create a new DataFrame with peaks and dates that <em>counts the number of excesses observed in each year of the data set.</em> Then the mean and variance are compared to see if they are equal (which would be expected for a Poisson distribution).\n",
    "    \n",
    "<br><em>See report solution for explanation.</em>\n",
    "</div>\n",
    "</div>"
   ]
  },
  {
   "cell_type": "code",
   "execution_count": null,
   "id": "680ee15a-bde5-4b31-a3e8-866b7c54f8c7",
   "metadata": {},
   "outputs": [],
   "source": [
    "peaks_year = P.loc[peaks]\n",
    "count = peaks_year.groupby(pd.DatetimeIndex(peaks_year['Date']).year)['Prec'].count()\n",
    "mean_count = count.mean()\n",
    "var_count = count.var()\n",
    "print(f'Mean = {mean_count:.3f} and variance = {var_count:.3f}')"
   ]
  },
  {
   "cell_type": "markdown",
   "id": "8508f086-2397-45c6-8549-55f5ee0bc36d",
   "metadata": {},
   "source": [
    "<div style=\"background-color:#FAE99E; color: black; vertical-align: middle; padding:15px; margin: 10px; border-radius: 10px; width: 95%\">\n",
    "    <b>Solution (bonus, part 2 and 3):</b>\n",
    "    here we use the DataFrame from the previous part to: find the range (min and max) of observed exceedences observed in each year of the data set; find the probability that the mean number of exceedances is observed, given a Poisson distribution;  compute the chi-squared test; plot the empirical and theoretical PMF for comparison.\n",
    "    \n",
    "<br>For convenience a second DataFrame is created to collect the number of excesses and counts for each year together in the same object. Since it is used for both parts 2 and 3 of the bonus, both solutions are presented together.\n",
    "    \n",
    "<em>See report solution for explanation.</em>\n",
    "</div>\n",
    "</div>"
   ]
  },
  {
   "cell_type": "code",
   "execution_count": null,
   "id": "bd4f01be-34b2-4b7b-98d8-1567f603fbc3",
   "metadata": {},
   "outputs": [],
   "source": [
    "import math\n",
    "\n",
    "k = np.arange(count.min(), count.max()+1,1)\n",
    "PMF_calc = stats.poisson.pmf(k, mean_count)\n",
    "occur = count.groupby(count).size()\n",
    "occur = pd.DataFrame(occur, columns=['Prec'])\n",
    "\n",
    "occur_df = pd.DataFrame(index=k, columns=['Count'])\n",
    "occur_df = occur_df.join(occur)\n",
    "occur_df = occur_df['Prec'].fillna(0)\n",
    "\n",
    "PMF_data = occur_df.values/len(peaks_year)\n",
    "chi = np.sum((PMF_data - PMF_calc)**2/PMF_calc)\n",
    "p_value = 1 - stats.chi2.cdf(x=chi, df=1)\n",
    "if p_value > 0.05:\n",
    "    print('Accept the null hypothesis:\\n',\n",
    "          '  Poisson distribution can represent the excesses!')\n",
    "else:\n",
    "    print('Reject the null hypothesis:\\n',\n",
    "          '  Poisson distribution does NOT represent the excesses!')\n",
    "\n",
    "plt.figure(figsize=(10, 6))\n",
    "plt.hist(count, bins=25, label='Data', density=False)\n",
    "plt.scatter(k, PMF_calc*len(peaks_year), label='Fit', color = 'k')\n",
    "plt.legend()\n",
    "plt.grid()\n",
    "plt.title(f'Rain Case: p-value = {p_value:.3f}')\n",
    "plt.ylabel('Frequency, observed excesses per year')\n",
    "plt.xlabel('Number of times the precipitation '\n",
    "           + f'{threshold} mm is exceeded in a year')\n",
    "plt.tight_layout()\n",
    "# plt.savefig('./figures_solution/bonus_rain.svg');"
   ]
  },
  {
   "cell_type": "markdown",
   "id": "f54db065-1966-4cb6-a897-5e8502aa571b",
   "metadata": {
    "tags": []
   },
   "source": [
    "**End of notebook.**\n",
    "<h2 style=\"height: 60px\">\n",
    "</h2>\n",
    "<h3 style=\"position: absolute; display: flex; flex-grow: 0; flex-shrink: 0; flex-direction: row-reverse; bottom: 60px; right: 50px; margin: 0; border: 0\">\n",
    "    <style>\n",
    "        .markdown {width:100%; position: relative}\n",
    "        article { position: relative }\n",
    "    </style>\n",
    "    <a rel=\"license\" href=\"http://creativecommons.org/licenses/by-nc-sa/4.0/\">\n",
    "      <img alt=\"Creative Commons License\" style=\"border-width:; width:88px; height:auto; padding-top:10px\" src=\"https://i.creativecommons.org/l/by-nc-sa/4.0/88x31.png\" />\n",
    "    </a>\n",
    "    <a rel=\"TU Delft\" href=\"https://www.tudelft.nl/en/ceg\">\n",
    "      <img alt=\"TU Delft\" style=\"border-width:0; width:100px; height:auto; padding-bottom:0px\" src=\"https://gitlab.tudelft.nl/mude/public/-/raw/main/tu-logo/TU_P1_full-color.png\"/>\n",
    "    </a>\n",
    "    <a rel=\"MUDE\" href=\"http://mude.citg.tudelft.nl/\">\n",
    "      <img alt=\"MUDE\" style=\"border-width:0; width:100px; height:auto; padding-bottom:0px\" src=\"https://gitlab.tudelft.nl/mude/public/-/raw/main/mude-logo/MUDE_Logo-small.png\"/>\n",
    "    </a>\n",
    "    \n",
    "</h3>\n",
    "<span style=\"font-size: 75%\">\n",
    "&copy; Copyright 2023 <a rel=\"MUDE Team\" href=\"https://studiegids.tudelft.nl/a101_displayCourse.do?course_id=65595\">MUDE Teaching Team</a> TU Delft. This work is licensed under a <a rel=\"license\" href=\"http://creativecommons.org/licenses/by-nc-sa/4.0/\">Creative Commons Attribution-NonCommercial-ShareAlike 4.0 International License</a>."
   ]
  }
 ],
 "metadata": {
  "language_info": {
   "name": "python"
  }
 },
 "nbformat": 4,
 "nbformat_minor": 5
}
