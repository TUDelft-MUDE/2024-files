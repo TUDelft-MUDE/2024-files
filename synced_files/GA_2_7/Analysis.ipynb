{
 "cells": [
  {
   "cell_type": "markdown",
   "id": "ecdd89bc",
   "metadata": {
    "tags": []
   },
   "source": [
    "# Group Assignment 2.7: Extreme Value Analysis\n",
    "\n",
    "<h1 style=\"position: absolute; display: flex; flex-grow: 0; flex-shrink: 0; flex-direction: row-reverse; top: 60px;right: 30px; margin: 0; border: 0\">\n",
    "    <style>\n",
    "        .markdown {width:100%; position: relative}\n",
    "        article { position: relative }\n",
    "    </style>\n",
    "    <img src=\"https://gitlab.tudelft.nl/mude/public/-/raw/main/tu-logo/TU_P1_full-color.png\" style=\"width:100px\" />\n",
    "    <img src=\"https://gitlab.tudelft.nl/mude/public/-/raw/main/mude-logo/MUDE_Logo-small.png\" style=\"width:100px\" />\n",
    "</h1>\n",
    "<h2 style=\"height: 10px\">\n",
    "</h2>\n",
    "\n",
    "*[CEGM1000 MUDE](http://mude.citg.tudelft.nl/): Extreme Value Analysis, Week 2.7, Friday, Jan 10, 2025.*"
   ]
  },
  {
   "cell_type": "markdown",
   "id": "b142e1d1",
   "metadata": {
    "id": "1db6fea9-f3ad-44bc-a4c8-7b2b3008e945"
   },
   "source": [
    "In this project, you will work on the uncertainty of precipitation in Turís, close to Valencia (Spain), where the past 29th October an extreme flood occurred. Turís was the location where the highest rainfall was recorded, being also the record of that station with 771mm in a day.\n",
    "\n",
    "<img src=\"https://github.com/patmanas/figs/raw/main/flood_Valencia.avif\" style=\"width:400px\" />\n",
    "\n",
    "You have cumulative daily observations since 1999. The dataset was retrieved from the Ministry of Agriculture [here](https://servicio.mapa.gob.es/websiar/SeleccionParametrosMap.aspx?dst=1).\n",
    "\n",
    "**The goal of this project is:**\n",
    "1. Perform Extreme Value Analysis using Yearly Maxima and GEV.\n",
    "2. Perform Extreme Value Analysis using POT and GPD.\n",
    "3. Compare the results from both methods and define the return period of the event of October 2024.\n",
    "\n",
    "_Read the instructions for this project in `README.md` before beginning the analysis._"
   ]
  },
  {
   "cell_type": "code",
   "execution_count": null,
   "id": "6d777385",
   "metadata": {},
   "outputs": [],
   "source": [
    "import numpy as np\n",
    "import pandas as pd\n",
    "import matplotlib.pyplot as plt\n",
    "\n",
    "from scipy import stats \n",
    "from scipy.signal import find_peaks\n",
    "\n",
    "plt.rcParams.update({'font.size': 14})"
   ]
  },
  {
   "cell_type": "markdown",
   "id": "6ff58394",
   "metadata": {
    "tags": []
   },
   "source": [
    "## Task 1: Import and Explore Data\n",
    "\n",
    "The first step in the analysis is importing and exploring the data set.\n",
    "\n",
    "The dataset has two columns: the first one provides the time stamp of the measurements and the last column shows the measured precipitation (mm). We set the first column as a datetime as they are the dates of the measurements."
   ]
  },
  {
   "cell_type": "code",
   "execution_count": null,
   "id": "34817dfd",
   "metadata": {},
   "outputs": [],
   "source": [
    "# Import\n",
    "P = pd.read_csv('turis.csv', delimiter = ',', parse_dates = True)\n",
    "P.columns=['Date', 'Prec'] #rename columns\n",
    "P['Date'] = pd.to_datetime(P['Date'], format='mixed')\n",
    "P = P.sort_values(by='Date')\n",
    "P=P.reset_index(drop=True)\n",
    "\n",
    "P.head()"
   ]
  },
  {
   "cell_type": "markdown",
   "id": "ef9e6197",
   "metadata": {},
   "source": [
    "To start the data exploration, we can compute some basic statistics."
   ]
  },
  {
   "cell_type": "code",
   "execution_count": null,
   "id": "95a802d6",
   "metadata": {},
   "outputs": [],
   "source": [
    "# values for markdown report\n",
    "print(f\"{P['Prec'].size:d}\",\n",
    "      f\"{P['Prec'].min():.3f}\",\n",
    "      f\"{P['Prec'].max():.3f}\",\n",
    "      f\"{P['Prec'].mean():.3f}\",\n",
    "      f\"{P['Prec'].std():.3f}\",\n",
    "      f\"{P['Prec'].isna().sum():d}\",\n",
    "      f\"{sum(P['Prec']==0):d}\",\n",
    "      sep=' | ')"
   ]
  },
  {
   "cell_type": "markdown",
   "id": "b5832d02",
   "metadata": {},
   "source": [
    "We can also plot the timeseries. Notice how the event of October 2024 stands out."
   ]
  },
  {
   "cell_type": "code",
   "execution_count": null,
   "id": "f0ed8dfa",
   "metadata": {},
   "outputs": [],
   "source": [
    "#Solution\n",
    "plt.figure(figsize=(10, 6))\n",
    "plt.plot(P['Date'], P['Prec'],'k')\n",
    "plt.xlabel('Time')\n",
    "plt.ylabel('Precipitation [mm]')\n",
    "plt.grid()\n",
    "plt.title('Time series of precipitation');"
   ]
  },
  {
   "cell_type": "markdown",
   "id": "8ed4f6e1",
   "metadata": {},
   "source": [
    "## Task 2: Yearly Maxima & GEV\n",
    "\n",
    "Let's start with the first EVA analysis!"
   ]
  },
  {
   "cell_type": "markdown",
   "id": "f0d0fd8f",
   "metadata": {},
   "source": [
    "<div style=\"background-color:#AABAB2; color: black; vertical-align: middle; padding:15px; margin: 10px; border-radius: 10px; width: 95%\">\n",
    "<p>\n",
    "<b>Task 2.1:</b>   \n",
    "Sample the data set by finding the yearly maxima and add the sampled extremes to your time series plot as red dots.\n",
    "</p>\n",
    "</div>"
   ]
  },
  {
   "cell_type": "code",
   "execution_count": null,
   "id": "45975c9d",
   "metadata": {},
   "outputs": [],
   "source": [
    "idx_max = #your code here\n",
    "YM = P.loc[idx_max]\n",
    "print('The shape of the sampled extremes is:', YM.shape)\n",
    "\n",
    "plt.figure(figsize=(10, 6))\n",
    "plt.plot(P['Date'], P['Prec'],'k')\n",
    "plt.scatter(YM['Date'], YM['Prec'], 40, 'r')\n",
    "plt.xlabel('Time')\n",
    "plt.ylabel('Precipitation [mm]')\n",
    "plt.grid()"
   ]
  },
  {
   "cell_type": "markdown",
   "id": "45597d13",
   "metadata": {},
   "source": [
    "<div style=\"background-color:#AABAB2; color: black; vertical-align: middle; padding:15px; margin: 10px; border-radius: 10px; width: 95%\">\n",
    "<p>\n",
    "<b>Task 2.2:</b>   Compute the empirical cumulative distribution function of the sampled maxima. Fit the appropriate extreme value distribution function using <code>scipy.stats</code> and assess the fit via an exceedance plot with semi-log scale.\n",
    "</p>\n",
    "</div>"
   ]
  },
  {
   "cell_type": "markdown",
   "id": "aa91c162",
   "metadata": {
    "id": "0491cc69"
   },
   "source": [
    "<div style=\"background-color:#facb8e; color: black; vertical-align: middle; padding:15px; margin: 10px; border-radius: 10px; width: 95%\"> <p><b>Tip:</b> save the parameters of an instance of <code>rv_continuous</code> as a tuple to make it easier to use the methods of the distribution later.\n",
    "<br><br>For example, define parameters like this:\n",
    "<br><code>params = ... .fit( ... )</code>\n",
    "<br>instead of like this:\n",
    "<br><code>param1, param2, param3 = ... .fit( ... )</code>\n",
    "<br>(see WS 2.7 solution for examples).\n",
    "</p></div>"
   ]
  },
  {
   "cell_type": "code",
   "execution_count": null,
   "id": "9f9baf91",
   "metadata": {},
   "outputs": [],
   "source": [
    "#Function for the ECDF\n",
    "def ecdf(var):\n",
    "    #your code here\n",
    "    return [y, x]\n",
    "\n",
    "#Fit the parametric distribution to the extreme observations\n",
    "params_YM = #your code here\n",
    "print('GEV parameters are: {:.3f}, {:.3f}, {:.3f}'.format(*params_YM))\n",
    "\n",
    "#Compare both the empirical and parametric distributions in semilog scale\n",
    "#your plot here"
   ]
  },
  {
   "cell_type": "markdown",
   "id": "2bab32cd",
   "metadata": {},
   "source": [
    "## Task 3: POT and GPD\n",
    "\n",
    "Let's go for Peak Over Threshold (POT)---make sure you **read** this section carefully, as there are some important tips for implementing the method correctly!\n",
    "\n",
    "As described in the book: _when performing EVA with POT, we model **excesses** over the threshold, not the actual value of the extreme event._ In principle, this can simply be described as follows:\n",
    "\n",
    "$$\n",
    "X = th + E\n",
    "$$\n",
    "\n",
    "where $X$ is the random variable of interest (rain, in this case), $th$ is the threshold and $E$ is the _excess_ (also a random variable). In other words, the distribution-fitting part of our EVA is performed on $E$. However, it is not practical to verify/validate or make inference with our distribution on the random variable $E$ for two key reasons:\n",
    "1. It is more convenient to think in terms of $X$, and\n",
    "2. We often need to calibrate the threshold value, which produces countless different sets of sampled extremes, distributions and random variables, $E$, which cannot be compared easily.\n",
    "\n",
    "As such, we continue to perform our analysis in terms of $X$, while making sure to address the fact that our POT data and distributions are defined in terms of $E$. In practical terms, this means we need to <em>add and subtract the threshold value at certain points in the analysis.</em>\n",
    "\n",
    "Note: the threshold and declustering time evaluation is outside the scope of MUDE."
   ]
  },
  {
   "cell_type": "markdown",
   "id": "7a8c167c",
   "metadata": {},
   "source": [
    "<div style=\"background-color:#AABAB2; color: black; vertical-align: middle; padding:15px; margin: 10px; border-radius: 10px; width: 95%\">\n",
    "<p>\n",
    "<b>Task 3.1:</b>   \n",
    "Apply POT on the timeseries using a declustering time of 48 hours and a threshold of 40mm. Plot the sampled extremes on the timeseries as blue dots.\n",
    "</p>\n",
    "</div>"
   ]
  },
  {
   "cell_type": "markdown",
   "id": "55c41d31",
   "metadata": {
    "id": "0491cc69"
   },
   "source": [
    "<div style=\"background-color:#facb8e; color: black; vertical-align: middle; padding:15px; margin: 10px; border-radius: 10px; width: 95%\">Hint: you can use the function <code>find_peaks</code> from Scipy, as done in PA 2.7.</div>"
   ]
  },
  {
   "cell_type": "code",
   "execution_count": null,
   "id": "e7e6cd02",
   "metadata": {},
   "outputs": [],
   "source": [
    "threshold = 40\n",
    "\n",
    "distance = 2 #days\n",
    "peaks, _ = #your code here\n",
    "print('The shape of the sampled extremes is:', peaks.shape)\n",
    "\n",
    "plt.figure(figsize=(10, 6))\n",
    "plt.plot(P['Date'], P['Prec'],'k')\n",
    "plt.scatter(P.iloc[peaks, 0], P.iloc[peaks, 1], 40, 'cornflowerblue')\n",
    "plt.xlabel('Time')\n",
    "plt.ylabel('Precipitation [mm]')\n",
    "plt.grid()"
   ]
  },
  {
   "cell_type": "markdown",
   "id": "8b325de0",
   "metadata": {},
   "source": [
    "<div style=\"background-color:#AABAB2; color: black; vertical-align: middle; padding:15px; margin: 10px; border-radius: 10px; width: 95%\">\n",
    "<p>\n",
    "<b>Task 3.2:</b>   Compute the empirical cumulative distribution function of the sampled maxima. Fit the appropriate extreme value distribution function using <code>scipy.stats</code> and assess the fit via an exceedance plot with semi-log scale.\n",
    "</p>\n",
    "</div>"
   ]
  },
  {
   "cell_type": "markdown",
   "id": "cab2eb4a",
   "metadata": {
    "id": "0491cc69"
   },
   "source": [
    "<div style=\"background-color:#facb8e; color: black; vertical-align: middle; padding:15px; margin: 10px; border-radius: 10px; width: 95%\">Hint: you need to fit the appropriate distribution with a location parameter of 0 on the excesses. You can force the fitting of a distribution with a given value of the parameters using the keyword argument <code>floc</code>.</div>"
   ]
  },
  {
   "cell_type": "code",
   "execution_count": null,
   "id": "c64829c3",
   "metadata": {},
   "outputs": [],
   "source": [
    "params_POT = #your code here\n",
    "print('GPD parameters are: {:.3f}, {:.3f}, {:.3f}'.format(*params_POT))\n",
    "\n",
    "#your plot here"
   ]
  },
  {
   "cell_type": "code",
   "execution_count": null,
   "id": "4c492e30",
   "metadata": {},
   "outputs": [],
   "source": [
    "# Time series plot with both sets of extremes\n",
    "# For Report_solution.md\n",
    "\n",
    "#your plot here"
   ]
  },
  {
   "cell_type": "markdown",
   "id": "3ec99978",
   "metadata": {},
   "source": [
    "## Task 4: Computing Return Levels\n",
    "\n",
    "In this section, we are going to use the distributions found in the previous two Tasks to compute the return periods that correspond to the flood of October 2024 and compare the results that both EVA methods provide."
   ]
  },
  {
   "cell_type": "markdown",
   "id": "ea415c14",
   "metadata": {},
   "source": [
    "<div style=\"background-color:#AABAB2; color: black; vertical-align: middle; padding:15px; margin: 10px; border-radius: 10px; width: 95%\">\n",
    "<p>\n",
    "<b>Task 4.1:</b> create the return level plot for both EVA approaches (values of the random variable in the x-axis and return period on the y-axis; the y-axis in log scale). Consider return periods up to at least 800 years. Add also the return level plot generated using the empirical CDF for both sampling approaches. Plot a line to indicate the magnitude of the event of October 2024 (771mm). \n",
    "</p>\n",
    "</div>"
   ]
  },
  {
   "cell_type": "markdown",
   "id": "8905aa67",
   "metadata": {
    "id": "0491cc69"
   },
   "source": [
    "<div style=\"background-color:#facb8e; color: black; vertical-align: middle; padding:15px; margin: 10px; border-radius: 10px; width: 95%\"> <p>Remember you can use tuple unpacking as an argument for methods of <code>scipy.stats.rv_continuous</code>, like this: <code>*params</code> (see WS 2.7 solution for examples).</p></div>"
   ]
  },
  {
   "cell_type": "code",
   "execution_count": null,
   "id": "9bef84b3",
   "metadata": {},
   "outputs": [],
   "source": [
    "# YOUR_CODE_HERE (more than one line!)\n",
    "\n",
    "# plt.figure(figsize=(10, 6))\n",
    "# plt.plot(YM_range, RT_range, 'r', label = 'YM&GEV')\n",
    "# plt.plot(POT_range, RT_range, 'cornflowerblue', label = 'POT&GPD')\n",
    "# YOUR_FIGURE_FORMATTING_CODE_HERE (more than one line!)"
   ]
  },
  {
   "cell_type": "markdown",
   "id": "6eabd150",
   "metadata": {},
   "source": [
    "<div style=\"background-color:#AABAB2; color: black; vertical-align: middle; padding:15px; margin: 10px; border-radius: 10px; width: 95%\">\n",
    "<p>\n",
    "<b>Task 4.2:</b> What would be the return period associated with the event of October 2024? Compare the answer provided by both approaches and reflect on these differences.\n",
    "</p>\n",
    "</div>"
   ]
  },
  {
   "cell_type": "code",
   "execution_count": null,
   "id": "459cf851",
   "metadata": {},
   "outputs": [],
   "source": [
    "#YM&GEV\n",
    "YM_RT = #return period obtained with YM\n",
    "\n",
    "#POT&GPD\n",
    "average_n_excesses = #average numbr of excesses per year\n",
    "POT_prob = #non exceedance probability\n",
    "RT_POT = #return period obtained with POT\n",
    "\n",
    "#Print\n",
    "print(f'The return period obtained with YM+GEV is {YM_RT:.3f}\\n'\n",
    "          f'The return period obtained with POT+GPD is {RT_POT:.3f}\\n')"
   ]
  },
  {
   "cell_type": "markdown",
   "id": "b14063b7",
   "metadata": {},
   "source": [
    "**End of notebook.**\n",
    "\n",
    "<div style=\"margin-top: 50px; padding-top: 20px; border-top: 1px solid #ccc;\">\n",
    "  <div style=\"display: flex; justify-content: flex-end; gap: 20px; align-items: center;\">\n",
    "    <a rel=\"MUDE\" href=\"http://mude.citg.tudelft.nl/\">\n",
    "      <img alt=\"MUDE\" style=\"width:100px; height:auto;\" src=\"https://gitlab.tudelft.nl/mude/public/-/raw/main/mude-logo/MUDE_Logo-small.png\" />\n",
    "    </a>\n",
    "    <a rel=\"TU Delft\" href=\"https://www.tudelft.nl/en/ceg\">\n",
    "      <img alt=\"TU Delft\" style=\"width:100px; height:auto;\" src=\"https://gitlab.tudelft.nl/mude/public/-/raw/main/tu-logo/TU_P1_full-color.png\" />\n",
    "    </a>\n",
    "    <a rel=\"license\" href=\"http://creativecommons.org/licenses/by/4.0/\">\n",
    "      <img alt=\"Creative Commons License\" style=\"width:88px; height:auto;\" src=\"https://i.creativecommons.org/l/by/4.0/88x31.png\" />\n",
    "    </a>\n",
    "  </div>\n",
    "  <div style=\"font-size: 75%; margin-top: 10px; text-align: right;\">\n",
    "    By <a rel=\"MUDE\" href=\"http://mude.citg.tudelft.nl/\">MUDE Team</a>\n",
    "    &copy; 2024 TU Delft. \n",
    "    <a rel=\"license\" href=\"http://creativecommons.org/licenses/by/4.0/\">CC BY 4.0</a>.\n",
    "    <a rel=\"Zenodo DOI\" href=\"https://doi.org/10.5281/zenodo.16782515\"><img style=\"width:auto; height:15; vertical-align:middle\" src=\"https://zenodo.org/badge/DOI/10.5281/zenodo.16782515.svg\" alt=\"DOI https://doi.org/10.5281/zenodo.16782515\"></a>\n",
    "  </div>\n",
    "</div>\n",
    "\n",
    "\n",
    "<!--tested with WS_2_8_solution.ipynb-->"
   ]
  }
 ],
 "metadata": {
  "language_info": {
   "name": "python"
  }
 },
 "nbformat": 4,
 "nbformat_minor": 5
}
