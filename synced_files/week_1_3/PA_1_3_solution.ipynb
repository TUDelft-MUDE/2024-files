{
 "cells": [
  {
   "cell_type": "markdown",
   "id": "70458df9",
   "metadata": {},
   "source": [
    "# PA 1.3: Data Cleaning and Boosting Productivity\n",
    "\n",
    "<h1 style=\"position: absolute; display: flex; flex-grow: 0; flex-shrink: 0; flex-direction: row-reverse; top: 60px;right: 30px; margin: 0; border: 0\">\n",
    "    <style>\n",
    "        .markdown {width:100%; position: relative}\n",
    "        article { position: relative }\n",
    "    </style>\n",
    "    <img src=\"https://gitlab.tudelft.nl/mude/public/-/raw/main/tu-logo/TU_P1_full-color.png\" style=\"width:100px; height: auto; margin: 0\" />\n",
    "    <img src=\"https://gitlab.tudelft.nl/mude/public/-/raw/main/mude-logo/MUDE_Logo-small.png\" style=\"width:100px; height: auto; margin: 0\" />\n",
    "</h1>\n",
    "<h2 style=\"height: 10px\">\n",
    "</h2>\n",
    "\n",
    "*[CEGM1000 MUDE](http://mude.citg.tudelft.nl/): Week 1.3. Due: before Friday, Sep 20, 2023.*"
   ]
  },
  {
   "cell_type": "markdown",
   "id": "ceda92a5",
   "metadata": {},
   "source": [
    "This notebook consists of two parts:\n",
    "\n",
    "1. Data Cleaning, with task 1.1 - 2.6\n",
    "2. Boosting Productivity, with task 3.1 - 3.10\n",
    "\n",
    "**Remember that there is a survey that must be completed to pass this PA.**\n",
    "\n",
    "[Here is a link to the survey](https://forms.office.com/e/saRwPUyL8d)."
   ]
  },
  {
   "cell_type": "markdown",
   "id": "f73620e3",
   "metadata": {},
   "source": [
    "## Data cleaning\n",
    "\n",
    "Often we get data in a file that contains unexpected and odd things inside. If not removed in a proper way, they can cause problems in our analysis. For example, NaNs, infinite values, or just really large outliers may cause things in our code to behave in an unexpected way. It is good practice to **get in the habit of visualizing and processing datasets before you start using them!** This programming assignment will illustrate this process.\n",
    "\n",
    "Topics in this assignment includes two tasks: \n",
    "1. Finding \"odd\" values in an array and removing them\n",
    "2. Using plots to identify other \"oddities\" that can be removed\n",
    "\n",
    "We will need one csv file, `data_2.csv`, to complete this assignment."
   ]
  },
  {
   "cell_type": "code",
   "execution_count": null,
   "id": "ec94f173",
   "metadata": {},
   "outputs": [],
   "source": [
    "# use the mude-base environment\n",
    "\n",
    "import numpy as np\n",
    "import matplotlib.pyplot as plt"
   ]
  },
  {
   "cell_type": "markdown",
   "id": "7b0102d3",
   "metadata": {},
   "source": [
    "### Task 1: Importing and Cleaning the array\n",
    "\n",
    "In a previous week we looked at how to read in data from a csv, plot a nice graph and even find the $R^2$ of the data. This week, an eager botany student, Johnathan, has asked us to help him analyze some data: 1000 measurements have just been completed over the 100 m of greenhouse and are ready to use in `data_2.csv`. Jonathan happens to have a lot of free time but not that much experience taking measurements. Thus, there is some noise in the data and some problematic data that are a result of an error in the measurement device. Let's help them out!"
   ]
  },
  {
   "cell_type": "markdown",
   "id": "e9dea6f1",
   "metadata": {},
   "source": [
    "<div style=\"background-color:#AABAB2; color: black; width:95%; vertical-align: middle; padding:15px; margin: 10px; border-radius: 10px\">\n",
    "<p>\n",
    "<b>Task 1.1:</b>   \n",
    "Import the data as 2 numpy arrays: distance and temperature. Tip, makes use of the function <code>numpy.genfromtxt</code>.\n",
    "</p>\n",
    "</div>"
   ]
  },
  {
   "cell_type": "code",
   "execution_count": null,
   "id": "03392b73",
   "metadata": {},
   "outputs": [],
   "source": [
    "distance, temperature = np.genfromtxt(\"auxiliary_files/data_2.csv\", skip_header = 1, delimiter=\",\", unpack=True)"
   ]
  },
  {
   "cell_type": "markdown",
   "id": "b7546269",
   "metadata": {},
   "source": [
    "<div style=\"background-color:#AABAB2; color: black; width:95%; vertical-align: middle; padding:15px; margin: 10px; border-radius: 10px\">\n",
    "<p>\n",
    "<b>Task 1.2:</b>   \n",
    "In the code cell below, evaluate the size of the array.\n",
    "</p>\n",
    "</div>"
   ]
  },
  {
   "cell_type": "code",
   "execution_count": null,
   "id": "f5d46a60",
   "metadata": {},
   "outputs": [],
   "source": [
    "temperature.size"
   ]
  },
  {
   "cell_type": "markdown",
   "id": "0bf3007b",
   "metadata": {},
   "source": [
    "<div style=\"background-color:#AABAB2; color: black; width:95%; vertical-align: middle; padding:15px; margin: 10px; border-radius: 10px\">\n",
    "<p>\n",
    "<b>Task 1.3:</b>   \n",
    " Check if there are NaN (not a number) values in the temperature array. You can use the numpy method <code>isnan</code>, which returns a boolean vector (False if it is not a NaN, and True if it is a NaN). Save the result in the variable <code>temperature_is_nan</code>. The code block below will also help you inspect the results.\n",
    "</p>\n",
    "</div>"
   ]
  },
  {
   "cell_type": "code",
   "execution_count": null,
   "id": "c6df185f",
   "metadata": {},
   "outputs": [],
   "source": [
    "temperature_is_nan = np.isnan(temperature)\n",
    "\n",
    "print(\"The first 10 values are:\", temperature_is_nan[0:10])\n",
    "print(f\"There are {temperature_is_nan.sum()} NaNs in array temperature\")"
   ]
  },
  {
   "cell_type": "markdown",
   "id": "5fd0a2ed",
   "metadata": {},
   "source": [
    "Let's slice the array using the `temperature_is_nan` array we just found to eliminate the NaNs. We can use the symbol `~`, which denotes the opposite: we want to keep those where np.isnan gives False as an answer."
   ]
  },
  {
   "cell_type": "code",
   "execution_count": null,
   "id": "0126769a",
   "metadata": {},
   "outputs": [],
   "source": [
    "temperature = temperature[~temperature_is_nan]"
   ]
  },
  {
   "cell_type": "markdown",
   "id": "180cc7d4",
   "metadata": {},
   "source": [
    "<div style=\"background-color:#AABAB2; color: black; width:95%; vertical-align: middle; padding:15px; margin: 10px; border-radius: 10px\">\n",
    "<p>\n",
    "<b>Task 1.4:</b>   \n",
    "Check the size again, and make sure you recognize that we over-wrote the variable `temperature`. This will have an impact on other cells where you use this variable, for example, if you re-run the cell below Task 1.3, the result will be different, because the array contents have changed!\n",
    "\n",
    "How big is the array now? How many values were removed?\n",
    "</p>\n",
    "</div>"
   ]
  },
  {
   "cell_type": "code",
   "execution_count": null,
   "id": "2f82c203",
   "metadata": {},
   "outputs": [],
   "source": [
    "temperature.size\n"
   ]
  },
  {
   "cell_type": "markdown",
   "id": "9fcf9251",
   "metadata": {},
   "source": [
    "But now we have a problem: our `distance` array still has the entries that correspond to the bad entries in `temperature`. We can see that the dimensions of the arrays no longer match:"
   ]
  },
  {
   "cell_type": "code",
   "execution_count": null,
   "id": "409cbbd3",
   "metadata": {},
   "outputs": [],
   "source": [
    "distance.size == temperature.size"
   ]
  },
  {
   "cell_type": "markdown",
   "id": "b79d4175",
   "metadata": {},
   "source": [
    "Also, we don't know what the index of the removed values were, since we over-wrote `temperature`! Luckily we have our `temeprature_is_nan` array, which records the indices with Nans, which we can also use to update our `distance` array."
   ]
  },
  {
   "cell_type": "markdown",
   "id": "18e6441c",
   "metadata": {},
   "source": [
    "<div style=\"background-color:#AABAB2; color: black; width:95%; vertical-align: middle; padding:15px; margin: 10px; border-radius: 10px\">\n",
    "<p>\n",
    "<b>Task 1.5:</b>   \n",
    "Use the boolean array from Task 1.3 to remove the matching entries in the distance array, then check that it has the same length as temperature.\n",
    "</p>\n",
    "</div>"
   ]
  },
  {
   "cell_type": "code",
   "execution_count": null,
   "id": "5b5793a8",
   "metadata": {},
   "outputs": [],
   "source": [
    "distance = distance[~temperature_is_nan]\n",
    "distance.size==temperature.size"
   ]
  },
  {
   "cell_type": "markdown",
   "id": "835a1417",
   "metadata": {},
   "source": [
    "### Task 2: Visualizing the Dataset\n",
    "\n",
    "Now we can plot the temperature with distance to see what it looks like."
   ]
  },
  {
   "cell_type": "code",
   "execution_count": null,
   "id": "b3c154b4",
   "metadata": {},
   "outputs": [],
   "source": [
    "plt.plot(distance, temperature, \"ok\", label=\"Temperature\")\n",
    "plt.title(\"Super duper greenhouse\")\n",
    "plt.xlabel(\"Distance\")\n",
    "plt.ylabel(\"Temperature\")\n",
    "plt.show()"
   ]
  },
  {
   "cell_type": "markdown",
   "id": "5b4c7cb5",
   "metadata": {},
   "source": [
    "It looks like there are some outliers in the dataset still! Let's investigate:"
   ]
  },
  {
   "cell_type": "code",
   "execution_count": null,
   "id": "49a87f76",
   "metadata": {},
   "outputs": [],
   "source": [
    "print(temperature.min())\n",
    "print(temperature.max())"
   ]
  },
  {
   "cell_type": "markdown",
   "id": "91819802",
   "metadata": {},
   "source": [
    "The values are suspcious since they are +/-999...this is a common error code with some sensors, so we can assume that they can be removed from the dataset. We can easily remove these erroneous values of temperature, but this time we will use a different method than before. The exclamation mark before an equal sign, `!=`, denotes \"not equal to.\" We can use this as a logic operator to directly eliminate the values in one line. For example:\n",
    "```\n",
    "array_1 = array_1[array_2 != -999]\n",
    "```"
   ]
  },
  {
   "cell_type": "markdown",
   "id": "e4389419",
   "metadata": {},
   "source": [
    "<div style=\"background-color:#AABAB2; color: black; width:95%; vertical-align: middle; padding:15px; margin: 10px; border-radius: 10px\">\n",
    "<p>\n",
    "<b>Task 2.1:</b>   \n",
    "Use the \"not equal to\" operator to re-define temperature and distance such that all the temperatures with -999 are removed (don't do the +999 values yet!). Keep in mind that the order of the arrays matters: if you reassign temperature, you won't have the information any more to fix distance!!!\n",
    "</p>\n",
    "</div>"
   ]
  },
  {
   "cell_type": "code",
   "execution_count": null,
   "id": "01ea22b5",
   "metadata": {},
   "outputs": [],
   "source": [
    "distance = distance[temperature!=-999]\n",
    "temperature = temperature[temperature!=-999]"
   ]
  },
  {
   "cell_type": "markdown",
   "id": "e02e579f",
   "metadata": {},
   "source": [
    "Are the arrays the same size still? If you did it correctly, they should be."
   ]
  },
  {
   "cell_type": "code",
   "execution_count": null,
   "id": "745ca0e4",
   "metadata": {},
   "outputs": [],
   "source": [
    "print(distance.size == temperature.size)\n",
    "temperature.size"
   ]
  },
  {
   "cell_type": "markdown",
   "id": "74fd8fa3",
   "metadata": {},
   "source": [
    "For the +999 values we will use yet another method, a combination of the previous two."
   ]
  },
  {
   "cell_type": "markdown",
   "id": "fd653bdf",
   "metadata": {},
   "source": [
    "<div style=\"background-color:#AABAB2; color: black; width:95%; vertical-align: middle; padding:15px; margin: 10px; border-radius: 10px\">\n",
    "<p>\n",
    "<b>Task 2.2:</b>   \n",
    "    Use the not equal to operator <b>and</b> a boolean array to define an array \"mask\" that will help you remove the data corresponding to temperatures with +999.\n",
    "</p>\n",
    "</div>"
   ]
  },
  {
   "cell_type": "markdown",
   "id": "9ca58f7c",
   "metadata": {},
   "source": [
    "We can also do it with a boolean for data_y."
   ]
  },
  {
   "cell_type": "code",
   "execution_count": null,
   "id": "f6dbbc50",
   "metadata": {},
   "outputs": [],
   "source": [
    "mask = temperature!=999\n",
    "distance = distance[mask]\n",
    "temperature = temperature[mask]"
   ]
  },
  {
   "cell_type": "markdown",
   "id": "4b8693ea",
   "metadata": {},
   "source": [
    "The array is named \"mask\" because this process utilizes **masked arrays**...you can read more about it [here](https://python.plainenglish.io/numpy-masks-in-python-d8c13509fbc8)."
   ]
  },
  {
   "cell_type": "markdown",
   "id": "ca62723a",
   "metadata": {},
   "source": [
    "Anyway, now that we have removed the annoying +/-999 values, we can finally start to see our dataset more clearly:"
   ]
  },
  {
   "cell_type": "code",
   "execution_count": null,
   "id": "1a4460fd",
   "metadata": {},
   "outputs": [],
   "source": [
    "plt.plot(distance, temperature, \"ok\", label=\"Temperature\")\n",
    "plt.title(\"Super duper greenhouse\")\n",
    "plt.xlabel(\"Distance\")\n",
    "plt.ylabel(\"Temperature\")\n",
    "plt.show()"
   ]
  },
  {
   "cell_type": "markdown",
   "id": "2b80b6e6",
   "metadata": {},
   "source": [
    "Looks good! But wait—there also appear to be some values in the array that are not physically possible! We know for sure that there was nothing cold in the greenhouse during the measurements; also it's very likely that a \"0\" value could have come from an error in the sensor.\n",
    "\n",
    "See if you can apply the `numpy` method `nonzero` to remove zeros from the array. Hint: it works in a very similar way to `isnan`, which we used above."
   ]
  },
  {
   "cell_type": "markdown",
   "id": "b5453010",
   "metadata": {},
   "source": [
    "<div style=\"background-color:#AABAB2; color: black; width:95%; vertical-align: middle; padding:15px; margin: 10px; border-radius: 10px\">\n",
    "<p>\n",
    "<b>Task 2.3:</b>   \n",
    "    Use <code>nonzero</code> to remove the zeros.\n",
    "</p>\n",
    "</div>"
   ]
  },
  {
   "cell_type": "code",
   "execution_count": null,
   "id": "5e004591",
   "metadata": {},
   "outputs": [],
   "source": [
    "distance = distance[np.nonzero(temperature)]\n",
    "temperature = temperature[np.nonzero(temperature)]"
   ]
  },
  {
   "cell_type": "markdown",
   "id": "521dc160",
   "metadata": {},
   "source": [
    "It also seems quite obvious that the values above 50 degrees are also not physically possible (or perhaps Jonathan was standing near an oven?!). In any case, they aren't consistent with the rest of the data, so we should remove them."
   ]
  },
  {
   "cell_type": "markdown",
   "id": "e1700bb2",
   "metadata": {},
   "source": [
    "<div style=\"background-color:#AABAB2; color: black; width:95%; vertical-align: middle; padding:15px; margin: 10px; border-radius: 10px\">\n",
    "<p>\n",
    "<b>Task 2.4:</b>   \n",
    "    Use an inequality, <code><</code> to keep all values less than 50.\n",
    "</p>\n",
    "</div>"
   ]
  },
  {
   "cell_type": "code",
   "execution_count": null,
   "id": "e35045e3",
   "metadata": {},
   "outputs": [],
   "source": [
    "distance = distance[temperature<50]\n",
    "temperature = temperature[temperature<50]"
   ]
  },
  {
   "cell_type": "markdown",
   "id": "10e556e1",
   "metadata": {},
   "source": [
    "Now let's take another look at our data:"
   ]
  },
  {
   "cell_type": "code",
   "execution_count": null,
   "id": "1fe02187",
   "metadata": {},
   "outputs": [],
   "source": [
    "plt.plot(distance, temperature, \"ok\", label=\"Temperature\")\n",
    "plt.title(\"Super duper greenhouse\")\n",
    "plt.xlabel(\"Distance\")\n",
    "plt.ylabel(\"Temperature\")\n",
    "plt.show()"
   ]
  },
  {
   "cell_type": "markdown",
   "id": "5728e9cf",
   "metadata": {},
   "source": [
    "Let's pretend that there is a systematic error in our measurement device because it was not calibrated properly. As a result, all observations below 15 degrees need to be corrected by multiplying the measurement by 1.5. Numpy actually makes it very easy to replace the contents of an array based on a condition using the `where` method!"
   ]
  },
  {
   "cell_type": "markdown",
   "id": "533fd7bd",
   "metadata": {},
   "source": [
    "<div style=\"background-color:#AABAB2; color: black; width:95%; vertical-align: middle; padding:15px; margin: 10px; border-radius: 10px\">\n",
    "<p>\n",
    "<b>Task 2.5:</b>   \n",
    "    Play with the cell below to understand what the <code>where</code> method does (i.e., replacement)—it's very useful to know about!\n",
    "</p>\n",
    "</div>"
   ]
  },
  {
   "cell_type": "code",
   "execution_count": null,
   "id": "6945a68e",
   "metadata": {},
   "outputs": [],
   "source": [
    "temperature = np.where(temperature > 15, temperature, temperature * 1.5)"
   ]
  },
  {
   "cell_type": "markdown",
   "id": "15f0f3b2",
   "metadata": {},
   "source": [
    "Remember you can investigate the `where` function in a notebook easily by executing `np.where?`. Try it and read the documentation!\n",
    "\n",
    "Let's plot the array again to see what happened (you'll have to compare the two plots carefully to see the difference). Remember, that if you rerun the cell above many times, it will over-write `temperature`, so you will probably need to restart the kernel a few times to reset the values."
   ]
  },
  {
   "cell_type": "code",
   "execution_count": null,
   "id": "47ba8c45",
   "metadata": {},
   "outputs": [],
   "source": [
    "plt.plot(distance, temperature, \"ok\", label=\"Temperature\")\n",
    "plt.title(\"Super duper greenhouse\")\n",
    "plt.xlabel(\"Distance\")\n",
    "plt.ylabel(\"Temperature\")\n",
    "plt.show()"
   ]
  },
  {
   "cell_type": "markdown",
   "id": "f0df7297",
   "metadata": {},
   "source": [
    "Now that we are done cleaning the data, let's learn about it. "
   ]
  },
  {
   "cell_type": "markdown",
   "id": "c7b80e10",
   "metadata": {},
   "source": [
    "<div style=\"background-color:#AABAB2; color: black; width:95%; vertical-align: middle; padding:15px; margin: 10px; border-radius: 10px\">\n",
    "<p>\n",
    "<b>Task 2.6:</b>   \n",
    "    Calculate the mean and variance of temperature. Use built-in numpy functions.\n",
    "</p>\n",
    "</div>"
   ]
  },
  {
   "cell_type": "code",
   "execution_count": null,
   "id": "50dc9fad",
   "metadata": {},
   "outputs": [],
   "source": [
    "mean_temperature = temperature.mean()\n",
    "print(f\"{mean_temperature = :.3f}\")\n",
    "\n",
    "variance_temperature = temperature.var()\n",
    "print(f\"{variance_temperature = :.3f}\")"
   ]
  },
  {
   "cell_type": "markdown",
   "id": "ddbc9d05",
   "metadata": {},
   "source": [
    "## Boosting productivity"
   ]
  },
  {
   "cell_type": "markdown",
   "id": "2ed567ae",
   "metadata": {},
   "source": [
    "Have you ever gotten frustrated by sharing code with your friends? How nice would it be to do it the Google-Docs style and work on the same document simultaneously! Maybe you know Deepnote, which does this in an online interface. But there's a better solution: [Visual Studio Live Share](https://visualstudio.microsoft.com/services/live-share/)!\n",
    "\n",
    "In this PA you'll install the required extension in VS Code. You'll use this extension on Wednesday in class, and can freely use it in your future career!"
   ]
  },
  {
   "cell_type": "markdown",
   "id": "275ed48f",
   "metadata": {},
   "source": [
    "<div style=\"background-color:#AABAB2; color: black; width:95%; vertical-align: middle; padding:15px; margin: 10px; border-radius: 10px\">\n",
    "<p>\n",
    "<b>Task 3.1:</b>   \n",
    "    Download, install and login in the Visual Studio Live Share Extension from the Visual Studio Marketplace as explained in the <a href=\"https://mude.citg.tudelft.nl/2024/book/external/learn-programming/book/install/ide/vsc/vs_live_share.html\">book</a>.\n",
    "</p>\n",
    "</div>"
   ]
  },
  {
   "cell_type": "markdown",
   "id": "e8702f99",
   "metadata": {},
   "source": [
    "After installing and signing into Visual Studio Live Share, you'll share a project with yourself to test the collaboration session."
   ]
  },
  {
   "cell_type": "markdown",
   "id": "35b96594",
   "metadata": {},
   "source": [
    "<div style=\"background-color:#AABAB2; color: black; width:95%; vertical-align: middle; padding:15px; margin: 10px; border-radius: 10px\">\n",
    "<p>\n",
    "<b>Task 3.2:</b>   \n",
    "    Use your normal workflow to open the folder where this notebook is situated in VS Code.\n",
    "</p>\n",
    "</div>"
   ]
  },
  {
   "cell_type": "markdown",
   "id": "b9c401b9",
   "metadata": {},
   "source": [
    "<div style=\"background-color:#AABAB2; color: black; width:95%; vertical-align: middle; padding:15px; margin: 10px; border-radius: 10px\">\n",
    "<p>\n",
    "<b>Task 3.3:</b>   \n",
    "    Start a collaboration session: select <strong>Live Share</strong> on the status bar or select <strong>Ctrl+Shift+P</strong> or <strong>Cmd+Shift+P</strong> and then select <strong>Live Share: Start collaboration session (Share)</strong>.\n",
    "</p>\n",
    "<img src=\"https://learn.microsoft.com/en-us/visualstudio/liveshare/media/install-live-share-visual-studio-code/live-share-button-status-bar.png\" alt=\"Live Share Button\">\n",
    "<p>\n",
    "The first time you share, your desktop firewall software might prompt you to allow the Live Share agent to open a port. Opening a port is optional. It enables a secured direct mode to improve performance when the person you're working with is on the same network as you. For more information, see <a href=\"https://learn.microsoft.com/en-us/visualstudio/liveshare/reference/connectivity#changing-the-connection-mode\">changing the connection mode</a>.\n",
    "</p>\n",
    "</div>"
   ]
  },
  {
   "cell_type": "markdown",
   "id": "7cd355f5",
   "metadata": {},
   "source": [
    "An invitation link will be automatically copied to your clipboard. You'll use this link to interact with yourself in this assignment. If you want to collaborate with others, you can share this link with them to open up the project in their browser or own VS Code.\n",
    "\n",
    "You'll also see the **Live Share** status bar item change to represent the session state."
   ]
  },
  {
   "cell_type": "markdown",
   "id": "aec91632",
   "metadata": {},
   "source": [
    "<div style=\"background-color:#AABAB2; color: black; width:95%; vertical-align: middle; padding:15px; margin: 10px; border-radius: 10px\">\n",
    "<p>\n",
    "<b>Task 3.4:</b>   \n",
    "    Copy the invitation link in your web browser.\n",
    "</p>\n",
    "</div>"
   ]
  },
  {
   "cell_type": "markdown",
   "id": "4cd86565",
   "metadata": {},
   "source": [
    "A web version of Visual Studio Code will open in your browser. Continue there."
   ]
  },
  {
   "cell_type": "markdown",
   "id": "17d1b9e4",
   "metadata": {},
   "source": [
    "<div style=\"background-color:#AABAB2; color: black; width:95%; vertical-align: middle; padding:15px; margin: 10px; border-radius: 10px\">\n",
    "<p>\n",
    "<b>Task 3.5:</b>   \n",
    "    Login using the same steps as in task 3.2.\n",
    "</p>\n",
    "</div>"
   ]
  },
  {
   "cell_type": "markdown",
   "id": "3714c3a8",
   "metadata": {},
   "source": [
    "<div style=\"background-color:#AABAB2; color: black; width:95%; vertical-align: middle; padding:15px; margin: 10px; border-radius: 10px\">\n",
    "<p>\n",
    "<b>Task 3.6:</b>   \n",
    "    Go back to your desktop participant of VS code and try typing a few lines of correct code in the cell below. Do you see the same change in the browser happening live?\n",
    "</p>\n",
    "</div>"
   ]
  },
  {
   "cell_type": "code",
   "execution_count": null,
   "id": "35733df7",
   "metadata": {},
   "outputs": [],
   "source": [
    "print('hello world')"
   ]
  },
  {
   "cell_type": "markdown",
   "id": "e0cdccfa",
   "metadata": {},
   "source": [
    "<div style=\"background-color:#AABAB2; color: black; width:95%; vertical-align: middle; padding:15px; margin: 10px; border-radius: 10px\">\n",
    "<p>\n",
    "<b>Task 3.7:</b>   \n",
    "    Go back to your browser version of VS code and try running the cell. Note that this requires the browser participant to request access. Request that access and approve it in the desktop participant of VS code. In the desktop participant you now need to select your Python environment. Does the cell run? Do you see the output in both participants? Make sure the output doesn't show an error!\n",
    "</p>\n",
    "</div>"
   ]
  },
  {
   "cell_type": "markdown",
   "id": "e97d6ddd",
   "metadata": {},
   "source": [
    "<div style=\"background-color:#AABAB2; color: black; width:95%; vertical-align: middle; padding:15px; margin: 10px; border-radius: 10px\">\n",
    "<p>\n",
    "<b>Task 3.8:</b>   \n",
    "    Let's try to make sense of what's happening. Where is the code executed? Run the following code cell from the browser participant. On which computer does this collaborative session run?\n",
    "</p>\n",
    "</div>"
   ]
  },
  {
   "cell_type": "code",
   "execution_count": null,
   "id": "363c5f88",
   "metadata": {},
   "outputs": [],
   "source": [
    "import platform\n",
    "print(\"Running on a\", platform.system(),\"machine named:\", platform.node())"
   ]
  },
  {
   "cell_type": "markdown",
   "id": "a85ae225",
   "metadata": {},
   "source": [
    "That's cool right? Imagine what you could do with this..."
   ]
  },
  {
   "cell_type": "markdown",
   "id": "e34f23a6",
   "metadata": {},
   "source": [
    "<div style=\"background-color:#AABAB2; color: black; width:95%; vertical-align: middle; padding:15px; margin: 10px; border-radius: 10px\">\n",
    "<p>\n",
    "<b>Task 3.9:</b>   \n",
    "    Explore some of the functionalities of the Live Share (session chat, following). More information can be found <a href=\"https://learn.microsoft.com/en-us/visualstudio/liveshare/\">here</a>.\n",
    "</p>\n",
    "</div>"
   ]
  },
  {
   "cell_type": "markdown",
   "id": "3562616a",
   "metadata": {},
   "source": [
    "<div style=\"background-color:#AABAB2; color: black; width:95%; vertical-align: middle; padding:15px; margin: 10px; border-radius: 10px\">\n",
    "<p>\n",
    "<b>Task 3.10:</b>   \n",
    "    Stop the collaboration session on the desktop-participant by opening the Live Share view on the <strong>Explorer</strong> tab or the <strong>VS Live Share tab</strong> and select the <strong>Stop collaboration session</strong> button:\n",
    "</p>\n",
    "<img src=\"https://learn.microsoft.com/en-us/visualstudio/liveshare/media/vscode-end-collaboration-viewlet.png\">\n",
    "<p>\n",
    "Don't forget to save your work! You could have done that both on the browser-participant as on the desktop-participant!\n",
    "</p>\n",
    "<p>\n",
    "After stopping the collaboration session, your web-participant will be notified that the session is over. It won't be able to access the content and any temp files will automatically be cleaned up.\n",
    "</p>\n",
    "</div>"
   ]
  },
  {
   "cell_type": "markdown",
   "id": "22104598",
   "metadata": {},
   "source": [
    "**End of notebook.**\n",
    "\n",
    "<div style=\"margin-top: 50px; padding-top: 20px; border-top: 1px solid #ccc;\">\n",
    "  <div style=\"display: flex; justify-content: flex-end; gap: 20px; align-items: center;\">\n",
    "    <a rel=\"MUDE\" href=\"http://mude.citg.tudelft.nl/\">\n",
    "      <img alt=\"MUDE\" style=\"width:100px; height:auto;\" src=\"https://gitlab.tudelft.nl/mude/public/-/raw/main/mude-logo/MUDE_Logo-small.png\" />\n",
    "    </a>\n",
    "    <a rel=\"TU Delft\" href=\"https://www.tudelft.nl/en/ceg\">\n",
    "      <img alt=\"TU Delft\" style=\"width:100px; height:auto;\" src=\"https://gitlab.tudelft.nl/mude/public/-/raw/main/tu-logo/TU_P1_full-color.png\" />\n",
    "    </a>\n",
    "    <a rel=\"license\" href=\"http://creativecommons.org/licenses/by/4.0/\">\n",
    "      <img alt=\"Creative Commons License\" style=\"width:88px; height:auto;\" src=\"https://i.creativecommons.org/l/by/4.0/88x31.png\" />\n",
    "    </a>\n",
    "  </div>\n",
    "  <div style=\"font-size: 75%; margin-top: 10px; text-align: right;\">\n",
    "    By <a rel=\"MUDE\" href=\"http://mude.citg.tudelft.nl/\">MUDE Team</a>\n",
    "    &copy; 2024 TU Delft. \n",
    "    <a rel=\"license\" href=\"http://creativecommons.org/licenses/by/4.0/\">CC BY 4.0</a>.\n",
    "    <a rel=\"Zenodo DOI\" href=\"https://doi.org/10.5281/zenodo.16782515\"><img style=\"width:auto; height:15; vertical-align:middle\" src=\"https://zenodo.org/badge/DOI/10.5281/zenodo.16782515.svg\" alt=\"DOI https://doi.org/10.5281/zenodo.16782515\"></a>\n",
    "  </div>\n",
    "</div>\n",
    "\n",
    "\n",
    "<!--tested with WS_2_8_solution.ipynb-->"
   ]
  }
 ],
 "metadata": {
  "language_info": {
   "name": "python"
  }
 },
 "nbformat": 4,
 "nbformat_minor": 5
}
