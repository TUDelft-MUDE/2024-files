{
 "cells": [
  {
   "cell_type": "markdown",
   "id": "69ffe099",
   "metadata": {},
   "source": [
    "# PA 1.1: Catch Them All\n",
    "\n",
    "<h1 style=\"position: absolute; display: flex; flex-grow: 0; flex-shrink: 0; flex-direction: row-reverse; top: 60px;right: 30px; margin: 0; border: 0\">\n",
    "    <style>\n",
    "        .markdown {width:100%; position: relative}\n",
    "        article { position: relative }\n",
    "    </style>\n",
    "    <img src=\"https://gitlab.tudelft.nl/mude/public/-/raw/main/tu-logo/TU_P1_full-color.png\" style=\"width:100px\" />\n",
    "    <img src=\"https://gitlab.tudelft.nl/mude/public/-/raw/main/mude-logo/MUDE_Logo-small.png\" style=\"width:100px\" />\n",
    "</h1>\n",
    "<h2 style=\"height: 10px\">\n",
    "</h2>\n",
    "\n",
    "*[CEGM1000 MUDE](http://mude.citg.tudelft.nl/): Week 1.1, 2024.*"
   ]
  },
  {
   "cell_type": "markdown",
   "id": "f939a177",
   "metadata": {},
   "source": [
    "In this assignment we will check out a fundamental Python data type: dictionaries. We will also use a `*.py` file to import data to help understand what a dictionary is.\n",
    "\n",
    "While dictionaries are fun and useful, the *real* purpose of this assignment is to confirm that you are comfortable using Jupyter notebooks, as we will use them a lot in MUDE. If you have used these `*.ipynb` files before, this will be easy although the VSC interface is slightly different than Jupyter software).\n",
    "\n",
    "If you have never used a Jupyter notebook before, don't panic: your teachers are available to help (don't forget about question hours on Tue and Thu!). Hopefully one of your group members can also help you get acquainted with these files and how to use them.\n",
    "\n",
    "If you find notebooks to be \"simple\" we ask that you _please help your fellow group members if they are unfamiliar with this tool!_ This will help you become a more collaborative group later on in the quarter, so help each other out now while the assignments are easier.\n",
    "\n",
    "## Part 0: Making sure you can run Python in the notebook\n",
    "\n",
    "In a simple sense, Jupyter Notebooks are documents that consist of many _cells._ Some _cells_ are formatted text (Markdown, like this one), others can be used to execute Python code. Because we have already set up a _conda environment_ that includes the Python programming language, all we have to do is tell VS Code which environment to use and it will take care of sending the code in the Python cells to the environment so that they can be executed as desired. Then the _output_ from running that code is displayed in the space below the Python cell from which it was executed. Let's try it with a simple `print()` statement!\n",
    "\n",
    "_If you did the installation of Miniconda and Jupyter properly, you should be able to execute Python cell below_"
   ]
  },
  {
   "cell_type": "markdown",
   "id": "9d02e784",
   "metadata": {},
   "source": [
    "<div style=\"background-color:#AABAB2; color: black; vertical-align: middle; padding:15px; margin: 10px; border-radius: 10px; width: 95%\">\n",
    "<p>\n",
    "<b>Task 0:</b>   \n",
    "Confirm that Python and your conda environment are working properly by running the cell below. If you did the installation correctly, this should involve the following:\n",
    "<ol>\n",
    "    <li>Click the triangular \"run\" icon next to the cell.</li>\n",
    "    <li>At the top of your VSC window you will be asked to select a Python environment. Choose the conda environment you just created, <code>mude-base</code></li>\n",
    "    <li>Confirm that the output of the cell is generated as expected.</li>\n",
    "    <li>That's it!</li>\n",
    "</ol>\n",
    "<em>Note that you might also be prompted to install a few VSC extensions, if you did not already do so. Read the message carefully so you know what VSC is installing; however, note that you don't really have to do anything except hit \"yes\" because VSC is pretty good at getting Python to run on your computer.</em>\n",
    "</p>\n",
    "</div>"
   ]
  },
  {
   "cell_type": "code",
   "execution_count": null,
   "id": "aeb61be9",
   "metadata": {},
   "outputs": [],
   "source": [
    "print('If you connected to an environment with Python,'\n",
    "      ' this sentence will be printed below.')"
   ]
  },
  {
   "cell_type": "markdown",
   "id": "179491f4",
   "metadata": {},
   "source": [
    "\n",
    "## Part 1: What is a Dictionary?\n",
    "\n",
    "When getting started, if you are simply _using_ dictionaries (we will write them later), there are really only a few fundamental things to know about a dictionary:\n",
    "1. It is a Python data type that stores key-value pairs.\n",
    "2. It is common to define a _key_ as a string (e.g., `'this is a string'`)\n",
    "3. The _value_ can be almost anything. \n",
    "4. It uses a syntax with square brackets to get the _value_ associated with a given _key_.\n"
   ]
  },
  {
   "cell_type": "markdown",
   "id": "b6ede141",
   "metadata": {},
   "source": [
    "<div style=\"background-color:#AABAB2; color: black; vertical-align: middle; padding:15px; margin: 10px; border-radius: 10px; width: 95%\">\n",
    "<p>\n",
    "<b>Task 1.1:</b>   \n",
    "run the cell below to see what happens when you define a dictionary and then print it.\n",
    "</p>\n",
    "</div>"
   ]
  },
  {
   "cell_type": "code",
   "execution_count": null,
   "id": "4636294a",
   "metadata": {},
   "outputs": [],
   "source": [
    "test_dictionary = {'key1': 'value1', 'key2': 'value2'}\n",
    "print(test_dictionary)"
   ]
  },
  {
   "cell_type": "markdown",
   "id": "9e502809",
   "metadata": {},
   "source": [
    "To access the value, you can use the following syntax:\n",
    "\n",
    "```\n",
    "test_dictionary['KEY']\n",
    "```"
   ]
  },
  {
   "cell_type": "markdown",
   "id": "afc98a46",
   "metadata": {},
   "source": [
    "<div style=\"background-color:#AABAB2; color: black; vertical-align: middle; padding:15px; margin: 10px; border-radius: 10px; width: 95%\">\n",
    "<p>\n",
    "<b>Task 1.2:</b>   \n",
    "run the cell below to access the value for <code>key2</code>.\n",
    "</p>\n",
    "</div>"
   ]
  },
  {
   "cell_type": "code",
   "execution_count": null,
   "id": "1d9c429c",
   "metadata": {},
   "outputs": [],
   "source": [
    "test_dictionary['key2']"
   ]
  },
  {
   "cell_type": "markdown",
   "id": "dc4f8577",
   "metadata": {},
   "source": [
    "<div style=\"background-color:#AABAB2; color: black; vertical-align: middle; padding:15px; margin: 10px; border-radius: 10px; width: 95%\">\n",
    "<p>\n",
    "<b>Task 1.3:</b>   \n",
    "run the cell below to access add a key-value pair for <code>key3</code>.\n",
    "</p>\n",
    "</div>"
   ]
  },
  {
   "cell_type": "code",
   "execution_count": null,
   "id": "8707a9f4",
   "metadata": {},
   "outputs": [],
   "source": [
    "test_dictionary['key3'] = 'value3'\n",
    "print(test_dictionary['key3'])"
   ]
  },
  {
   "cell_type": "markdown",
   "id": "9c24f75c",
   "metadata": {},
   "source": [
    "That's it! Now you are ready to start using a dictionary with \"real\" data!"
   ]
  },
  {
   "cell_type": "markdown",
   "id": "d7b799e3",
   "metadata": {},
   "source": [
    "## Part 2: Using a dictionary with \"real\" data\n",
    "\n",
    "In this part we illustrate how easy it is to load text-based files into notebooks, then operate on them with Python code."
   ]
  },
  {
   "cell_type": "markdown",
   "id": "d272b5b4",
   "metadata": {},
   "source": [
    "<div style=\"background-color:#AABAB2; color: black; vertical-align: middle; padding:15px; margin: 10px; border-radius: 10px; width: 95%\">\n",
    "<p>\n",
    "<b>Task 2.1:</b>   \n",
    "open up the contents of the file <code>catchme.py</code> and <b>read</b> it. This file defines a dictionary called <code>data</code>, which we will import into our notebook and access the content by running the cell below.\n",
    "</p>\n",
    "</div>"
   ]
  },
  {
   "cell_type": "code",
   "execution_count": null,
   "id": "85fc9c1c",
   "metadata": {},
   "outputs": [],
   "source": [
    "import catchme\n",
    "data = catchme.data"
   ]
  },
  {
   "cell_type": "markdown",
   "id": "3c427a54",
   "metadata": {},
   "source": [
    "<div style=\"background-color:#AABAB2; color: black; vertical-align: middle; padding:15px; margin: 10px; border-radius: 10px; width: 95%\">\n",
    "<p>\n",
    "<b>Task 2.2:</b>   \n",
    "If the cell above ran without error, you should be use the dictionary <code>data</code> in exactly the same way as <code>test_dictionary</code>. To check whether you understand how a dictionary works, see if you can print the <em>value</em> for the <em>species</em> of this \"thing\" in the dictionary.\n",
    "</p>\n",
    "</div>"
   ]
  },
  {
   "cell_type": "code",
   "execution_count": null,
   "id": "4cd71639",
   "metadata": {},
   "outputs": [],
   "source": [
    "YOUR_CODE_HERE"
   ]
  },
  {
   "cell_type": "markdown",
   "id": "198a9d8d",
   "metadata": {},
   "source": [
    "**That's it!** This was a short PA...later ones will be longer."
   ]
  },
  {
   "cell_type": "markdown",
   "id": "a4b76f8d",
   "metadata": {},
   "source": [
    "**End of notebook.**\n",
    "\n",
    "<div style=\"margin-top: 50px; padding-top: 20px; border-top: 1px solid #ccc;\">\n",
    "  <div style=\"display: flex; justify-content: flex-end; gap: 20px; align-items: center;\">\n",
    "    <a rel=\"MUDE\" href=\"http://mude.citg.tudelft.nl/\">\n",
    "      <img alt=\"MUDE\" style=\"width:100px; height:auto;\" src=\"https://gitlab.tudelft.nl/mude/public/-/raw/main/mude-logo/MUDE_Logo-small.png\" />\n",
    "    </a>\n",
    "    <a rel=\"TU Delft\" href=\"https://www.tudelft.nl/en/ceg\">\n",
    "      <img alt=\"TU Delft\" style=\"width:100px; height:auto;\" src=\"https://gitlab.tudelft.nl/mude/public/-/raw/main/tu-logo/TU_P1_full-color.png\" />\n",
    "    </a>\n",
    "    <a rel=\"license\" href=\"http://creativecommons.org/licenses/by/4.0/\">\n",
    "      <img alt=\"Creative Commons License\" style=\"width:88px; height:auto;\" src=\"https://i.creativecommons.org/l/by/4.0/88x31.png\" />\n",
    "    </a>\n",
    "  </div>\n",
    "  <div style=\"font-size: 75%; margin-top: 10px; text-align: right;\">\n",
    "    &copy; Copyright 2024 <a rel=\"MUDE\" href=\"http://mude.citg.tudelft.nl/\">MUDE</a> TU Delft. \n",
    "    This work is licensed under a <a rel=\"license\" href=\"http://creativecommons.org/licenses/by/4.0/\">CC BY 4.0 License</a>.\n",
    "  </div>\n",
    "</div>\n",
    "\n",
    "\n",
    "<!--tested with WS_2_8_solution.ipynb-->"
   ]
  }
 ],
 "metadata": {
  "language_info": {
   "name": "python"
  }
 },
 "nbformat": 4,
 "nbformat_minor": 5
}
