{
 "cells": [
  {
   "cell_type": "markdown",
   "id": "c72d973c",
   "metadata": {},
   "source": [
    "# WS 1.7: Modelling Uncertain Concrete Strength\n",
    "\n",
    "<h1 style=\"position: absolute; display: flex; flex-grow: 0; flex-shrink: 0; flex-direction: row-reverse; top: 60px;right: 30px; margin: 0; border: 0\">\n",
    "    <style>\n",
    "        .markdown {width:100%; position: relative}\n",
    "        article { position: relative }\n",
    "    </style>\n",
    "    <img src=\"https://gitlab.tudelft.nl/mude/public/-/raw/main/tu-logo/TU_P1_full-color.png\" style=\"width:100px\" />\n",
    "    <img src=\"https://gitlab.tudelft.nl/mude/public/-/raw/main/mude-logo/MUDE_Logo-small.png\" style=\"width:100px\" />\n",
    "</h1>\n",
    "<h2 style=\"height: 10px\">\n",
    "</h2>\n",
    "\n",
    "*[CEGM1000 MUDE](http://mude.citg.tudelft.nl/): Week 1.7. Due: October 16, 2024.*"
   ]
  },
  {
   "cell_type": "markdown",
   "id": "edf38942",
   "metadata": {
    "id": "1db6fea9-f3ad-44bc-a4c8-7b2b3008e945"
   },
   "source": [
    "Assessing the uncertainties in the compressive strength of the produced concrete is key for the safety of infrastructures and buildings. However, a lot of boundary conditions influence the final resistance of the concrete, such the cement content, the environmental temperature or the age of the concrete. Probabilistic tools can be applied to model this uncertainty. In this workshop, you will work with a dataset of observations of the compressive strength of concrete (you can read more about the dataset [here](https://www.kaggle.com/datasets/gauravduttakiit/compressive-strength-of-concrete)). \n",
    "\n",
    "**The goal of this project is:**\n",
    "1. Choose a reasonable distribution function for the concrete compressive strength analyzing the statistics of the observations.\n",
    "2. Fit the chosen distributions by moments.\n",
    "3. Assess the fit computing probabilities analytically.\n",
    "4. Assess the fit using goodness of fit techniques and computer code.\n",
    "\n",
    "The project will be divided into 3 parts: 1) data analysis, 2) pen and paper stuff (math practice!), and 3) programming."
   ]
  },
  {
   "cell_type": "code",
   "execution_count": null,
   "id": "6980912c",
   "metadata": {},
   "outputs": [],
   "source": [
    "import numpy as np\n",
    "import matplotlib.pyplot as plt\n",
    "import pandas as pd\n",
    "\n",
    "from scipy import stats \n",
    "from math import ceil, trunc\n",
    "\n",
    "plt.rcParams.update({'font.size': 14})"
   ]
  },
  {
   "cell_type": "markdown",
   "id": "4d877d2c",
   "metadata": {},
   "source": [
    "## Part 1: Explore the data"
   ]
  },
  {
   "cell_type": "markdown",
   "id": "c4d13c63",
   "metadata": {},
   "source": [
    "First step in the analysis is exploring the data, visually and through its statistics."
   ]
  },
  {
   "cell_type": "code",
   "execution_count": null,
   "id": "daec377a",
   "metadata": {},
   "outputs": [],
   "source": [
    "# Import\n",
    "data = np.genfromtxt('dataset_concrete.csv', delimiter=\",\", skip_header=True)\n",
    "\n",
    "# Clean\n",
    "data = data[~np.isnan(data)]\n",
    "\n",
    "# plot time series\n",
    "plt.figure(figsize=(10, 6))\n",
    "plt.plot(data,'ok')\n",
    "plt.xlabel('# observation')\n",
    "plt.ylabel('Concrete compressive strength [MPa]')\n",
    "plt.grid()\n",
    "\n",
    "weights = 5*np.ones(len(data))\n",
    "plt.hist(data, orientation='horizontal', weights=weights, color='lightblue', rwidth=0.9)"
   ]
  },
  {
   "cell_type": "markdown",
   "id": "41316dea",
   "metadata": {},
   "source": [
    "In the figure above, you can see all the observations of concrete compressive strength. You can see that there is no clear pattern in the observations. Let's see how the statistics look like!"
   ]
  },
  {
   "cell_type": "code",
   "execution_count": null,
   "id": "0089dab2",
   "metadata": {},
   "outputs": [],
   "source": [
    "# Statistics\n",
    "\n",
    "df_describe = pd.DataFrame(data)\n",
    "df_describe.describe()"
   ]
  },
  {
   "cell_type": "markdown",
   "id": "8f3437a8",
   "metadata": {
    "id": "bfadcf3f-4578-4809-acdb-625ab3a71f27"
   },
   "source": [
    "<div style=\"background-color:#AABAB2; color: black; width:95%; vertical-align: middle; padding:15px; margin: 10px; border-radius: 10px\">\n",
    "<p>\n",
    "<b>Task 1.1:</b>   \n",
    "    Using <b>ONLY</b> the statistics calculated in the previous lines:\n",
    "    <li>Choose an appropriate distribution to model the data between the following: (1) Gumbel, (2) Uniform, and (3) Gaussian. </li>\n",
    "    <li>Justiy your choice.</li>\n",
    "</p>\n",
    "</div>"
   ]
  },
  {
   "cell_type": "markdown",
   "id": "7d6c0c91",
   "metadata": {},
   "source": [
    "_Your answer here._"
   ]
  },
  {
   "cell_type": "markdown",
   "id": "0c247032",
   "metadata": {},
   "source": [
    "## Part 2: Use pen and paper!"
   ]
  },
  {
   "cell_type": "markdown",
   "id": "64bf608f",
   "metadata": {},
   "source": [
    "Once you have selected the appropriate distribution, you are going to fit it by moments manually and check the fit by computing some probabilities analytically. Remember that you have all the information you need in the textbook. Do not use any computer code for this section, you have to do in with pen and paper. You can use the notebook as a calculator."
   ]
  },
  {
   "cell_type": "markdown",
   "id": "eaff3dd2",
   "metadata": {},
   "source": [
    "<div style=\"background-color:#AABAB2; color: black; width:95%; vertical-align: middle; padding:15px; margin: 10px; border-radius: 10px\">\n",
    "<p>\n",
    "<b>Task 2.1:</b>   \n",
    "Fit the selected distribution by moments.\n",
    "</p>\n",
    "</div>"
   ]
  },
  {
   "cell_type": "markdown",
   "id": "fe3a83c4",
   "metadata": {},
   "source": [
    "_Your answer here._"
   ]
  },
  {
   "cell_type": "markdown",
   "id": "00a80e24",
   "metadata": {},
   "source": [
    "We can now check the fit by computing manually some probabilities from the fitted distribution and comparing them with the empirical ones."
   ]
  },
  {
   "cell_type": "markdown",
   "id": "6e00e5e8",
   "metadata": {},
   "source": [
    "<div style=\"background-color:#AABAB2; color: black; width:95%; vertical-align: middle; padding:15px; margin: 10px; border-radius: 10px\">\n",
    "<p>\n",
    "<b>Task 2.2:</b>   \n",
    "Check the fit of the distribution:\n",
    "    <li>Use the values obtained from the statistical inspection: the min, 25%, 50%, 75% and max values. What non-exceedance probabilities correspond to those values?</li>\n",
    "    <li>Compute the values of the random variable corresponding to those probabilities using the fitted distribution.</li>\n",
    "    <li>Compare the obtained values with the empirical ones and assess the fit.</li>\n",
    "</p>\n",
    "You can summarize you answers in the following table (report your values with 3-4 significant digits max, as needed).\n",
    "</div>\n"
   ]
  },
  {
   "cell_type": "markdown",
   "id": "169bba90",
   "metadata": {},
   "source": [
    "|   |Minimum value|P25%|P50%|P75%|Maximum value|\n",
    "|---|-------------|----|----|----|-------------|\n",
    "|Non-exceedance probability| |  |  |  |  |\n",
    "|Empirical quantiles| | | | | |\n",
    "|Predicted quantiles||||||"
   ]
  },
  {
   "cell_type": "markdown",
   "id": "1d4613e9",
   "metadata": {},
   "source": [
    "## Part 3: Let's do it with Python!"
   ]
  },
  {
   "cell_type": "markdown",
   "id": "8c0a32f2",
   "metadata": {},
   "source": [
    "Now, let's assess the performance using further goodness of fit metrics and see whether they are consistent with the previously done analysis."
   ]
  },
  {
   "cell_type": "markdown",
   "id": "d22c935c",
   "metadata": {
    "id": "bfadcf3f-4578-4809-acdb-625ab3a71f27"
   },
   "source": [
    "<div style=\"background-color:#AABAB2; color: black; width:95%; vertical-align: middle; padding:15px; margin: 10px; border-radius: 10px\">\n",
    "<p>\n",
    "<b>Task 3.1:</b>   \n",
    "Prepare a function to compute the empirical cumulative distribution function.\n",
    "</p>\n",
    "</div>"
   ]
  },
  {
   "cell_type": "code",
   "execution_count": null,
   "id": "0441a39e",
   "metadata": {},
   "outputs": [],
   "source": [
    "def ecdf(YOUR_CODE_HERE):\n",
    "    YOUR_CODE_HERE # may be more than one line\n",
    "    return YOUR_CODE_HERE"
   ]
  },
  {
   "cell_type": "markdown",
   "id": "e85e3a18",
   "metadata": {
    "id": "bfadcf3f-4578-4809-acdb-625ab3a71f27"
   },
   "source": [
    "<div style=\"background-color:#AABAB2; color: black; width:95%; vertical-align: middle; padding:15px; margin: 10px; border-radius: 10px\">\n",
    "<p>\n",
    "<b>Task 3.2:</b>   \n",
    "Transform the fitted parameters for the selected distribution to loc-scale-shape.\n",
    "</p>\n",
    "</div>\n",
    "\n",
    "Hint: the distributions are in our online textbook, but it is also critical to make sure that the formulation in the book is identical to that of the Python package we are using. You can do this by finding the page of the relevant distribution in the [Scipy.stats](https://docs.scipy.org/doc/scipy/reference/stats.html) documentation."
   ]
  },
  {
   "cell_type": "markdown",
   "id": "b50eca8e",
   "metadata": {},
   "source": [
    "<div style=\"background-color:#AABAB2; color: black; width:95%; vertical-align: middle; padding:15px; margin: 10px; border-radius: 10px\">\n",
    "<p>\n",
    "<b>Task 3.3:</b>   \n",
    "Assess the goodness of fit of the fitted distribution by:\n",
    "    <li> Comparing the empirical and fitted PDF.</li>\n",
    "    <li> Using the exceedance plot in log-scale.</li>\n",
    "    <li> Using the QQplot.</li>\n",
    "    <li> Interpret them. Do you reach a conclusion similar to that in the previous section?</li>\n",
    "</p>\n",
    "</div>\n",
    "\n",
    "Hint: Use [Scipy](https://docs.scipy.org/doc/scipy/reference/stats.html) built in functions (watch out with the parameters definition!)."
   ]
  },
  {
   "cell_type": "code",
   "execution_count": null,
   "id": "bd7b743e",
   "metadata": {},
   "outputs": [],
   "source": [
    "loc = YOUR_CODE_HERE\n",
    "scale = YOUR_CODE_HERE\n",
    "\n",
    "fig, axes = plt.subplots(1, 1, figsize=(10, 5))\n",
    "axes.hist(YOUR_CODE_HERE,\n",
    "          edgecolor='k', linewidth=0.2, color='cornflowerblue',\n",
    "          label='Empirical PDF', density = True)\n",
    "axes.plot(YOUR_CODE_HERE, YOUR_CODE_HERE,\n",
    "          'k', linewidth=2, label='YOUR_DISTRIBUTION_NAME_HERE PDF')\n",
    "axes.set_xlabel('Compressive strength [MPa]')\n",
    "axes.set_title('PDF', fontsize=18)\n",
    "axes.legend()"
   ]
  },
  {
   "cell_type": "code",
   "execution_count": null,
   "id": "4c8b41b3",
   "metadata": {},
   "outputs": [],
   "source": [
    "fig, axes = plt.subplots(1, 1, figsize=(10, 5))\n",
    "\n",
    "axes.step(YOUR_CODE_HERE, YOUR_CODE_HERE, \n",
    "          color='k', label='Empirical CDF')\n",
    "axes.plot(YOUR_CODE_HERE, YOUR_CODE_HERE,\n",
    "          color='cornflowerblue', label='YOUR_DISTRIBUTION_NAME_HERE CDF')\n",
    "axes.set_xlabel('Compressive strength [MPa]')\n",
    "axes.set_ylabel('${P[X > x]}$')\n",
    "axes.set_title('Exceedance plot in log-scale', fontsize=18)\n",
    "axes.set_yscale('log')\n",
    "axes.legend()\n",
    "axes.grid()"
   ]
  },
  {
   "cell_type": "code",
   "execution_count": null,
   "id": "5821f358",
   "metadata": {},
   "outputs": [],
   "source": [
    "fig, axes = plt.subplots(1, 1, figsize=(10, 5))\n",
    "\n",
    "axes.plot([0, 120], [0, 120], 'k')\n",
    "axes.scatter(YOUR_CODE_HERE, YOUR_CODE_HERE, \n",
    "             color='cornflowerblue', label='Gumbel')\n",
    "axes.set_xlabel('Observed compressive strength [MPa]')\n",
    "axes.set_ylabel('Estimated compressive strength [MPa]')\n",
    "axes.set_title('QQplot', fontsize=18)\n",
    "axes.set_xlim([0, 120])\n",
    "axes.set_ylim([0, 120])\n",
    "axes.set_xticks(np.arange(0, 121, 20))\n",
    "axes.grid()"
   ]
  },
  {
   "cell_type": "markdown",
   "id": "e88afdca",
   "metadata": {},
   "source": [
    "**End of notebook.**\n",
    "\n",
    "<div style=\"margin-top: 50px; padding-top: 20px; border-top: 1px solid #ccc;\">\n",
    "  <div style=\"display: flex; justify-content: flex-end; gap: 20px; align-items: center;\">\n",
    "    <a rel=\"MUDE\" href=\"http://mude.citg.tudelft.nl/\">\n",
    "      <img alt=\"MUDE\" style=\"width:100px; height:auto;\" src=\"https://gitlab.tudelft.nl/mude/public/-/raw/main/mude-logo/MUDE_Logo-small.png\" />\n",
    "    </a>\n",
    "    <a rel=\"TU Delft\" href=\"https://www.tudelft.nl/en/ceg\">\n",
    "      <img alt=\"TU Delft\" style=\"width:100px; height:auto;\" src=\"https://gitlab.tudelft.nl/mude/public/-/raw/main/tu-logo/TU_P1_full-color.png\" />\n",
    "    </a>\n",
    "    <a rel=\"license\" href=\"http://creativecommons.org/licenses/by/4.0/\">\n",
    "      <img alt=\"Creative Commons License\" style=\"width:88px; height:auto;\" src=\"https://i.creativecommons.org/l/by/4.0/88x31.png\" />\n",
    "    </a>\n",
    "  </div>\n",
    "  <div style=\"font-size: 75%; margin-top: 10px; text-align: right;\">\n",
    "    &copy; Copyright 2024 <a rel=\"MUDE\" href=\"http://mude.citg.tudelft.nl/\">MUDE</a> TU Delft. \n",
    "    This work is licensed under a <a rel=\"license\" href=\"http://creativecommons.org/licenses/by/4.0/\">CC BY 4.0 License</a>.\n",
    "  </div>\n",
    "</div>\n",
    "\n",
    "\n",
    "<!--tested with WS_2_8_solution.ipynb-->"
   ]
  }
 ],
 "metadata": {
  "language_info": {
   "name": "python"
  }
 },
 "nbformat": 4,
 "nbformat_minor": 5
}
