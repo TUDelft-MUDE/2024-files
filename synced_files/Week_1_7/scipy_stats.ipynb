{
 "cells": [
  {
   "cell_type": "markdown",
   "metadata": {},
   "source": [
    "# Tips for Teachers: Week 1.7, Continuous Distributions\n",
    "\n",
    "Book chapters [here](https://mude.citg.tudelft.nl/2024/book/probability/Reminder_intro.html).\n",
    "\n",
    "[Location, shape and scale](https://mude.citg.tudelft.nl/2024/book/probability/Loc-scale.html)"
   ]
  },
  {
   "cell_type": "code",
   "execution_count": null,
   "metadata": {},
   "outputs": [],
   "source": [
    "import numpy as np\n",
    "import matplotlib.pyplot as plt\n",
    "\n",
    "from scipy import stats\n",
    "from scipy.stats import norm, gumbel_r"
   ]
  },
  {
   "cell_type": "code",
   "execution_count": null,
   "metadata": {},
   "outputs": [],
   "source": [
    "loc = 28.167\n",
    "scale = 13.097\n",
    "print(gumbel_r.pdf(30, loc, scale))\n",
    "print(gumbel_r.cdf(30, loc, scale))\n",
    "print(gumbel_r.ppf(0.4192, loc, scale))\n",
    "\n",
    "print(gumbel_r.ppf(1/773, loc, scale))"
   ]
  },
  {
   "cell_type": "code",
   "execution_count": null,
   "metadata": {},
   "outputs": [],
   "source": [
    "dir(gumbel_r)"
   ]
  },
  {
   "cell_type": "code",
   "execution_count": null,
   "metadata": {},
   "outputs": [],
   "source": [
    "print(1/773, 772/773)"
   ]
  },
  {
   "cell_type": "markdown",
   "metadata": {},
   "source": [
    "Scipy.stats\n",
    "\n",
    "[Homepage](https://docs.scipy.org/doc/scipy/reference/stats.html)\n",
    "\n",
    "If you find yourself looking at documentation for something and there is no info, try the [`rv_continuous` page](https://docs.scipy.org/doc/scipy/reference/generated/scipy.stats.rv_continuous.html#scipy.stats.rv_continuous)\n",
    "\n"
   ]
  },
  {
   "cell_type": "code",
   "execution_count": null,
   "metadata": {},
   "outputs": [],
   "source": [
    "test = norm('m'=0, 'v'=1)"
   ]
  }
 ],
 "metadata": {
  "kernelspec": {
   "display_name": "mude-base",
   "language": "python",
   "name": "python3"
  },
  "language_info": {
   "codemirror_mode": {
    "name": "ipython",
    "version": 3
   },
   "file_extension": ".py",
   "mimetype": "text/x-python",
   "name": "python",
   "nbconvert_exporter": "python",
   "pygments_lexer": "ipython3",
   "version": "3.12.4"
  }
 },
 "nbformat": 4,
 "nbformat_minor": 2
}
