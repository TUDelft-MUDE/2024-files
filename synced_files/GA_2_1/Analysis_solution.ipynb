{
 "cells": [
  {
   "cell_type": "markdown",
   "id": "b5955612-0118-4fd4-8694-5fe52ce1be5a",
   "metadata": {
    "id": "9adbf457-797f-45b7-8f8b-0e46e0e2f5ff"
   },
   "source": [
    "# GA 2.1: FVM with an Unstructured  Mesh (diffusion)\n",
    "\n",
    "<h1 style=\"position: absolute; display: flex; flex-grow: 0; flex-shrink: 0; flex-direction: row-reverse; top: 60px;right: 30px; margin: 0; border: 0\">\n",
    "    <style>\n",
    "        .markdown {width:100%; position: relative}\n",
    "        article { position: relative }\n",
    "    </style>\n",
    "    <img src=\"https://gitlab.tudelft.nl/mude/public/-/raw/main/tu-logo/TU_P1_full-color.png\" style=\"width:100px\" />\n",
    "    <img src=\"https://gitlab.tudelft.nl/mude/public/-/raw/main/mude-logo/MUDE_Logo-small.png\" style=\"width:100px\" />\n",
    "</h1>\n",
    "<h2 style=\"height: 10px\">\n",
    "</h2>\n",
    "\n",
    "*[CEGM1000 MUDE](http://mude.citg.tudelft.nl/): Week 2.1. For: 15 November, 2024.*"
   ]
  },
  {
   "cell_type": "markdown",
   "id": "e143a00c-1b09-435f-b581-80190df01a1c",
   "metadata": {},
   "source": [
    "# Overview\n",
    "\n",
    "This assignment considers an interesting 2D shape: the \"U\" of MUDE! We will use the diffusion equation to compute the distribution of temperature in the U subject to specific boundary conditions and initial conditions.\n",
    "\n",
    "This assignment contains three parts:\n",
    "\n",
    "1. expressing the diffusion equation for triangle volumes and formulating algebraic equations with the finite volume method,\n",
    "2. implementing and solving this method in an unstructured orthogonal mesh,\n",
    "3. analyzing potential downsides to the discretized approach used if applied to non-orthogonal meshes, and considering how they might be corrected.\n",
    "\n",
    "Remember, even though the problem is 2D, the numerical scheme will be fromulated by treating _volumes_ (as opposed to dimensions $x$ and $y$ directly)."
   ]
  },
  {
   "cell_type": "markdown",
   "id": "4fa20681",
   "metadata": {},
   "source": [
    "## Part 1: Using Just Your Hands\n",
    "\n",
    "The diffusion equation expressed in its reduced form is:\n",
    "\n",
    "$$\n",
    "\\frac{\\partial \\phi}{\\partial t} = \\nabla \\cdot D \\nabla \\phi\n",
    "$$\n",
    "\n",
    "Note that for triangle shape volumes, the fluxes are not necessarily directed in the $x$ direction. Rather, in the normal direction to the surfaces of each volume, as the flux direction is given by the $\\phi$ gradients and the information propagates in all directions.\n",
    "\n",
    "Over the next tasks, you will write step by step its derivation."
   ]
  },
  {
   "cell_type": "markdown",
   "id": "735043d3",
   "metadata": {},
   "source": [
    "<div style=\"background-color:#AABAB2; color: black; width: 95%; vertical-align: middle; padding:15px; margin: 10px; border-radius: 10px\">\n",
    "<p>\n",
    "<b>Task 1.1</b>\n",
    "\n",
    "Integrate the PDE over triangle volumes of interest. \n",
    "\n",
    "</p>\n",
    "</div>"
   ]
  },
  {
   "cell_type": "markdown",
   "id": "58e04fe3",
   "metadata": {},
   "source": [
    "Write your answer here."
   ]
  },
  {
   "cell_type": "markdown",
   "id": "7efbab47",
   "metadata": {},
   "source": [
    "\n",
    "<div style=\"background-color:#FAE99E; color: black; width: 95%; vertical-align: middle; padding:15px; margin: 10px; border-radius: 10px\">\n",
    "<p>\n",
    "<b>Solution</b>\n",
    "\n",
    "$$\n",
    "\\int_{V} \\frac{\\partial\\phi}{\\partial t} dV\n",
    "= \\int_{V} \\nabla \\cdot (D \\nabla \\phi)dV \n",
    "$$                                                                                         \n",
    "\n",
    "</p>\n",
    "</div>"
   ]
  },
  {
   "cell_type": "markdown",
   "id": "17ca3c02",
   "metadata": {},
   "source": [
    "<div style=\"background-color:#AABAB2; color: black; width: 95%; vertical-align: middle; padding:15px; margin: 10px; border-radius: 10px\">\n",
    "<p>\n",
    "<b>Task 1.2</b>\n",
    "\n",
    "Transform the corresponding volume integral into a surface integral using Gauss's theorem.\n",
    "\n",
    "</p>\n",
    "</div>"
   ]
  },
  {
   "cell_type": "markdown",
   "id": "9cae0ef5",
   "metadata": {},
   "source": [
    "Write your answer here."
   ]
  },
  {
   "cell_type": "markdown",
   "id": "c221dccd",
   "metadata": {},
   "source": [
    "\n",
    "<div style=\"background-color:#FAE99E; color: black; width: 95%; vertical-align: middle; padding:15px; margin: 10px; border-radius: 10px\">\n",
    "<p>\n",
    "<b>Solution</b>\n",
    "\n",
    "$$\n",
    "\\int_{V} \\frac{\\partial\\phi}{\\partial t} dV\n",
    "= \\int_{S} \\mathbf{n} \\cdot (D \\nabla \\phi)dS \n",
    "$$                                                                                         \n",
    "\n",
    "$$\n",
    "\\int_{V} \\frac{\\partial\\phi}{\\partial t} dV\n",
    "= \\int_{S} D \\frac{\\partial \\phi}{\\partial n}dS \n",
    "$$\n",
    "\n",
    "</p>\n",
    "</div>"
   ]
  },
  {
   "cell_type": "markdown",
   "id": "4f3fc628",
   "metadata": {},
   "source": [
    "<div style=\"background-color:#AABAB2; color: black; width: 95%; vertical-align: middle; padding:15px; margin: 10px; border-radius: 10px\">\n",
    "<p>\n",
    "<b>Task 1.3</b>\n",
    "\n",
    "Approximate the integrals using numerical integration, using the midpoint rule. Write explicitly the three surface fluxes.\n",
    "\n",
    "</p>\n",
    "</div>"
   ]
  },
  {
   "cell_type": "markdown",
   "id": "731ed48d",
   "metadata": {},
   "source": [
    "Write your answer here."
   ]
  },
  {
   "cell_type": "markdown",
   "id": "1d53a328",
   "metadata": {},
   "source": [
    "\n",
    "<div style=\"background-color:#FAE99E; color: black; width: 95%; vertical-align: middle; padding:15px; margin: 10px; border-radius: 10px\">\n",
    "<p>\n",
    "<b>Solution</b>\n",
    "\n",
    "$$\n",
    "\\frac{\\partial\\phi}{\\partial t} \\Delta V\n",
    "= D\\frac{\\partial \\phi}{\\partial n} \\Delta S \\bigg\\rvert_{S_1}\n",
    "+ D\\frac{\\partial \\phi}{\\partial n} \\Delta S \\bigg\\rvert_{S_2}\n",
    "+ D\\frac{\\partial \\phi}{\\partial n} \\Delta S \\bigg\\rvert_{S_3}\n",
    "$$\n",
    "\n",
    "</p>\n",
    "</div>"
   ]
  },
  {
   "cell_type": "markdown",
   "id": "c210989a",
   "metadata": {},
   "source": [
    "<div style=\"background-color:#AABAB2; color: black; width: 95%; vertical-align: middle; padding:15px; margin: 10px; border-radius: 10px\">\n",
    "<p>\n",
    "<b>Task 1.4</b>\n",
    "\n",
    "Divide both sides of the equation by $\\Delta V$. The \"depth\" of the volume is common with the surface flux area. Write down the resulting equation.\n",
    "\n",
    "</p>\n",
    "</div>"
   ]
  },
  {
   "cell_type": "markdown",
   "id": "4b53a80f",
   "metadata": {},
   "source": [
    "Write your answer here."
   ]
  },
  {
   "cell_type": "markdown",
   "id": "ee5f02c5",
   "metadata": {},
   "source": [
    "\n",
    "<div style=\"background-color:#FAE99E; color: black; width: 95%; vertical-align: middle; padding:15px; margin: 10px; border-radius: 10px\">\n",
    "<p>\n",
    "<b>Solution</b>\n",
    "\n",
    "$$\n",
    "\\frac{\\partial\\phi}{\\partial t} \n",
    "= D\\frac{\\partial \\phi}{\\partial n} \\frac{\\Delta L}{\\Delta A} \\bigg\\rvert_{S_1}\n",
    "+ D\\frac{\\partial \\phi}{\\partial n} \\frac{\\Delta L}{\\Delta A} \\bigg\\rvert_{S_2}\n",
    "+ D\\frac{\\partial \\phi}{\\partial n} \\frac{\\Delta L}{\\Delta A} \\bigg\\rvert_{S_3}\n",
    "$$\n",
    "\n",
    "</p>\n",
    "</div>"
   ]
  },
  {
   "cell_type": "markdown",
   "id": "4dc9a8b9",
   "metadata": {},
   "source": [
    "<div style=\"background-color:#AABAB2; color: black; width: 95%; vertical-align: middle; padding:15px; margin: 10px; border-radius: 10px\">\n",
    "<p>\n",
    "<b>Task 1.5</b>\n",
    "\n",
    "Approximate the derivatives! Use central differences in space and Forward Euler in time. The subindices can be defined by arbitrarily naming the volume of interest and the adjacent volumes.\n",
    "\n",
    "</p>\n",
    "</div>"
   ]
  },
  {
   "cell_type": "markdown",
   "id": "f366f7a9",
   "metadata": {},
   "source": [
    "Write your answer here."
   ]
  },
  {
   "cell_type": "markdown",
   "id": "72af70ed",
   "metadata": {},
   "source": [
    "\n",
    "<div style=\"background-color:#FAE99E; color: black; width: 95%; vertical-align: middle; padding:15px; margin: 10px; border-radius: 10px\">\n",
    "<p>\n",
    "<b>Solution</b>\n",
    "\n",
    "Here we use $nv$ to denote the three neighbor volumes:\n",
    "\n",
    "$$\n",
    "\\phi^{n+1}_i = \\phi^{n}_i \n",
    "+ D\\frac{\\Delta t \\Delta L}{\\Delta A} \\left( \\frac{\\phi^n_{nv1}-\\phi^n_i}{\\Delta d_c} \\right)\n",
    "+ D\\frac{\\Delta t \\Delta L}{\\Delta A} \\left( \\frac{\\phi^n_{nv2}-\\phi^n_i}{\\Delta d_c} \\right)\n",
    "+ D\\frac{\\Delta t \\Delta L}{\\Delta A} \\left( \\frac{\\phi^n_{nv3}-\\phi^n_i}{\\Delta d_c} \\right)\n",
    "$$\n",
    "\n",
    "</p>\n",
    "</div>"
   ]
  },
  {
   "cell_type": "markdown",
   "id": "e4723ca1",
   "metadata": {},
   "source": [
    "<div style=\"background-color:#AABAB2; color: black; width: 95%; vertical-align: middle; padding:15px; margin: 10px; border-radius: 10px\">\n",
    "<p>\n",
    "<b>Task 1.5</b>\n",
    "\n",
    "The equation you derived above describes volumes with <b>three</b> interior sides. For a volume with <b>one</b> side being an exterior one, modify the equation above to implement the following Neumann condition (which replaces the discretized gradient term):\n",
    "\n",
    "$$\n",
    "\\frac{\\partial \\phi }{\\partial n} = 10 [C^o/m]\n",
    "$$\n",
    "\n",
    "</p>\n",
    "</div>"
   ]
  },
  {
   "cell_type": "markdown",
   "id": "7383231e",
   "metadata": {},
   "source": [
    "Write your answer here."
   ]
  },
  {
   "cell_type": "markdown",
   "id": "c8244a98",
   "metadata": {},
   "source": [
    "\n",
    "<div style=\"background-color:#FAE99E; color: black; width: 95%; vertical-align: middle; padding:15px; margin: 10px; border-radius: 10px\">\n",
    "<p>\n",
    "<b>Solution</b>\n",
    "\n",
    "$$\n",
    "\\phi^{n+1}_i = \\phi^{n}_i \n",
    "+ D\\frac{\\Delta t \\Delta L}{\\Delta A} \\left( \\frac{\\phi^n_{v1}-\\phi^n_i}{\\Delta d_c} \\right)\n",
    "+ D\\frac{\\Delta t \\Delta L}{\\Delta A} \\left( \\frac{\\phi^n_{v2}-\\phi^n_i}{\\Delta d_c} \\right)\n",
    "+ D\\frac{\\Delta t \\Delta L}{\\Delta A} \\cdot 10\n",
    "$$\n",
    "\n",
    "</p>\n",
    "</div>"
   ]
  },
  {
   "cell_type": "markdown",
   "id": "fb25fa6b",
   "metadata": {},
   "source": [
    "## Part 2: Implementation!\n",
    "\n",
    "Below, the coordinates of the triangle vertices that cover the domain of interest are defined. The boundary conditions are also specified and incorporated in the resulting object `mesh` once the class `Mesh` is instantiated. The class `Mesh` is defined in `utilities.py` and has an identical structure and similar functions as provided in your PA for this week, which define key characteristics of the mesh and volumes, as well as providing useful plotting and solving methods.\n",
    "\n",
    "Note: the `Mesh` class and it's usage is illustrated extensively in the companion notebook `mesh_tips.ipynb`."
   ]
  },
  {
   "cell_type": "code",
   "execution_count": null,
   "id": "d2caef59",
   "metadata": {},
   "outputs": [],
   "source": [
    "import matplotlib.pyplot as plt\n",
    "import numpy as np\n",
    "from utilities_solution import *"
   ]
  },
  {
   "cell_type": "markdown",
   "id": "afb016a2",
   "metadata": {},
   "source": [
    "<div style=\"background-color:#AABAB2; color: black; width: 95%; vertical-align: middle; padding:15px; margin: 10px; border-radius: 10px\">\n",
    "<p>\n",
    "<b>Task 2.0</b>\n",
    "\n",
    "Execute the cell below and study the resulting geometry until you are comfortable recognizing the problem that will be solved. In particular, check that you can identify which boundary conditions are applied, and where, before moving on.\n",
    "\n",
    "If you are not sure how to interpret the code or figures, refer to <code>mesh_tips.ipynb</code>.\n",
    "\n",
    "</p>\n",
    "</div>"
   ]
  },
  {
   "cell_type": "code",
   "execution_count": null,
   "id": "e10227a9",
   "metadata": {},
   "outputs": [],
   "source": [
    "length = 10\n",
    "\n",
    "coordinates = [[  0.,    0.   ],\n",
    "               [ 10.,    0.   ],\n",
    "               [  5.,   -8.660],\n",
    "               [ 15.,   -8.660],\n",
    "               [ 10.,  -17.320],\n",
    "               [ 20.,  -17.320],\n",
    "               [ 25.,   -8.660],\n",
    "               [ 30.,  -17.320],\n",
    "               [ 35.,   -8.660],\n",
    "               [ 30.,    0.   ],\n",
    "               [ 40.,    0.   ]]\n",
    "\n",
    "coordinates = np.array(coordinates)\n",
    "\n",
    "boundaries = [[['Neumann', +1], [0, 1]],\n",
    "              [['Neumann',  0], [1, 3, 6, 9]],\n",
    "              [['Neumann', -1], [9, 10]],\n",
    "              [['Neumann',  0], [10, 7, 4, 0]]]\n",
    "\n",
    "mesh = Mesh(coordinates, length, boundaries)\n",
    "mesh.plot_triangles();\n",
    "mesh.plot_boundaries();"
   ]
  },
  {
   "cell_type": "markdown",
   "id": "942e3065",
   "metadata": {},
   "source": [
    "Before we continue to finding the solution, let's explore the relationship of today's mesh with the bars and kapsalon shops we considered in the PA for this week."
   ]
  },
  {
   "cell_type": "markdown",
   "id": "fcb52681",
   "metadata": {},
   "source": [
    "<div style=\"background-color:#AABAB2; color: black; width: 95%; vertical-align: middle; padding:15px; margin: 10px; border-radius: 10px\">\n",
    "<p>\n",
    "<b>Task 2.1</b>\n",
    "\n",
    "Write down the similarities between the housing-bar-kapsalon problem (PA 2.1) and the FVM representation of the diffusion equation here. Specifically, the locations and quantities associated with each of the three things.\n",
    "\n",
    "</p>\n",
    "</div>"
   ]
  },
  {
   "cell_type": "markdown",
   "id": "514bf7d6",
   "metadata": {},
   "source": [
    "Write your answer here."
   ]
  },
  {
   "cell_type": "markdown",
   "id": "7e68e263",
   "metadata": {},
   "source": [
    "\n",
    "<div style=\"background-color:#FAE99E; color: black; width: 95%; vertical-align: middle; padding:15px; margin: 10px; border-radius: 10px\">\n",
    "<p>\n",
    "<b>Solution</b>\n",
    "\n",
    "- **Houses**: these are the vertices of the volumes; we don't actually compute anything at these locations, they are only used to define the triangle/mesh geometry.\n",
    "- **Bars**: these are the centroids of the triangles and are the locations where the unknowns $\\phi(x, y, t)$ are computed. Note however, we compute something more like $\\phi(i,t)$ where $i$ refers to the triangle number.\n",
    "- **Kapsalon shops**: not only are these places where we can get tasty food, but also they are the centers of the side of each triangle (but only when the triangles are equal size and equilateral: orthogonal). This is the midpoint of the surface integral, an important observation that you probably would not have recognized in this task, but is considered in the third part of this notebook.\n",
    "\n",
    "</p>\n",
    "</div>"
   ]
  },
  {
   "cell_type": "markdown",
   "id": "bcaed558",
   "metadata": {},
   "source": [
    "Write your answer here."
   ]
  },
  {
   "cell_type": "markdown",
   "id": "3a0f172f",
   "metadata": {},
   "source": [
    "<div style=\"background-color:#AABAB2; color: black; width: 95%; vertical-align: middle; padding:15px; margin: 10px; border-radius: 10px\">\n",
    "<p>\n",
    "<b>Task 2.2</b>\n",
    "\n",
    "Suppose **just for this single task** that the FDM would be used, sketch the potential grid points and draw the boundaries that would represent the same domain in $x$ and $y$ as defined by <code>coordinates</code> in the previous task. \n",
    "\n",
    "This is to illustrate one of the contrasts between FDM and FVM.\n",
    "\n",
    "</p>\n",
    "</div>"
   ]
  },
  {
   "cell_type": "markdown",
   "id": "3d99523d",
   "metadata": {},
   "source": [
    "Write your answer here."
   ]
  },
  {
   "cell_type": "markdown",
   "id": "7ade5e39",
   "metadata": {},
   "source": [
    "\n",
    "<div style=\"background-color:#FAE99E; color: black; width: 95%; vertical-align: middle; padding:15px; margin: 10px; border-radius: 10px\">\n",
    "<p>\n",
    "<b>Solution</b>\n",
    "\n",
    "Sketch several sets of grid points to illustrate the shape of the U; you will need several. Depending on how \"wide\" the U is (number of grid points), the geometry has trouble capturing the angles. Especially the boundary is not a smooth line, as \"steps\" are introduced to capture the boundary.\n",
    "\n",
    "It is also possible to reshape the U into a rectangular shape; this would be much easier to solve with a simple FDM scheme, however, the problem is very different and may not be representative of the situation in reality that must be modelled.\n",
    "\n",
    "Main takeaway is to see that FDM has challenges modelling non-rectangular geometry.\n",
    "\n",
    "</p>\n",
    "</div>"
   ]
  },
  {
   "cell_type": "markdown",
   "id": "3c7ee41a",
   "metadata": {},
   "source": [
    "Now we will **continue with code implementation** by adding some information to the object that defines our problem, `mesh`. Remember to refer to `mesh_tips.ipynb` if you are not sure how to use it!"
   ]
  },
  {
   "cell_type": "markdown",
   "id": "726c43cb",
   "metadata": {},
   "source": [
    "<div style=\"background-color:#AABAB2; color: black; width: 95%; vertical-align: middle; padding:15px; margin: 10px; border-radius: 10px\">\n",
    "<p>\n",
    "<b>Task 2.3</b>\n",
    "\n",
    "First, use the method <code>set_initial_temperature()</code> to define the initial conditions for the volumes. The initial temperature should be 20 degrees everywhere except at the volume in the middle, where the temperature is 40 degrees.  \n",
    "\n",
    "</p>\n",
    "</div>"
   ]
  },
  {
   "cell_type": "code",
   "execution_count": null,
   "id": "6ae17c54",
   "metadata": {},
   "outputs": [],
   "source": [
    "# mesh.plot_triangles(YOUR_CODE_HERE) # useful for identifying the triangle id\n",
    "# mesh.set_initial_conditions(YOUR_CODE_HERE)\n",
    "# mesh.plot_triangles(fill_color='initial_conditions');\n",
    "\n",
    "# SOLUTION\n",
    "mesh.plot_triangles(triangle_id=4) # useful for identifying the triangle id\n",
    "mesh.set_initial_conditions(default=20,\n",
    "                            special_triangles=[[4, 40]])\n",
    "mesh.plot_triangles(fill_color='initial_conditions');"
   ]
  },
  {
   "cell_type": "markdown",
   "id": "d9c12b3a",
   "metadata": {},
   "source": [
    "<div style=\"background-color:#AABAB2; color: black; width: 95%; vertical-align: middle; padding:15px; margin: 10px; border-radius: 10px\">\n",
    "<p>\n",
    "<b>Task 2.4</b>\n",
    "\n",
    "**Solve**.\n",
    "\n",
    "Using the <code>solve</code> method, solve the problem for conditions where $t_{final}=20$, $N_t=100$ and $D=50$.\n",
    "\n",
    "Use the resulting plot to see if you reach the solution you expect. Remember to consider the boundary conditions that were defined for you as well, not only the initial conditions.\n",
    "\n",
    "</p>\n",
    "</div>"
   ]
  },
  {
   "cell_type": "code",
   "execution_count": null,
   "id": "b4ea7975",
   "metadata": {},
   "outputs": [],
   "source": [
    "# mesh.solve(YOUR_CODE_HERE, YOUR_CODE_HERE, YOUR_CODE_HERE)\n",
    "# mesh.plot_triangles(fill_color='unknowns',\n",
    "#                     show_labels=False);\n",
    "\n",
    "# SOLUTION\n",
    "mesh.solve(20, 100, 50)\n",
    "mesh.plot_triangles(fill_color='unknowns',\n",
    "                    show_labels=False);"
   ]
  },
  {
   "cell_type": "markdown",
   "id": "20182ea5",
   "metadata": {},
   "source": [
    "<div style=\"background-color:#AABAB2; color: black; width: 95%; vertical-align: middle; padding:15px; margin: 10px; border-radius: 10px\">\n",
    "<p>\n",
    "<b>Task 2.5</b>\n",
    "\n",
    "**What's going on?!**\n",
    "\n",
    "In the previous task, you should have realized that the solution is _not_ what we expect.\n",
    "\n",
    "It turns out we screwed up! In the massive file <code>utilities.py</code>, there is </b>one</b> line of code that needs to be fixed in order to solve this problem. Can you find it and fix it?\n",
    "\n",
    "The first group to find the solution will win a prize!\n",
    "\n",
    "<em>Hint: it's not in the plotting method, and is related to something you derived in the tasks above.</em>\n",
    "\n",
    "<b>Note:</b> you should expect to spend some time reading the code (at least one very specific part of the code); not only will this help you fix the problem, but it will be very useful for answering the first few questions in the Report.\n",
    "\n",
    "</p>\n",
    "</div>"
   ]
  },
  {
   "cell_type": "markdown",
   "id": "ff8a2f92",
   "metadata": {},
   "source": [
    "\n",
    "<div style=\"background-color:#FAE99E; color: black; width: 95%; vertical-align: middle; padding:15px; margin: 10px; border-radius: 10px\">\n",
    "<p>\n",
    "<b>Solution</b>\n",
    "\n",
    "The process of reading the code and solving this problem is directly related to the first few questions of the Report.\n",
    "\n",
    "The first thing to recognize is that the \"solution\" using the incorrect code looks exactly like the initial conditions. So this means that we are probably calculating something incorrectly in the solution algorithm, which is contained in the method <code>solve</code>.\n",
    "\n",
    "It is challenging to read through the code in this method because there are a lot of loops and conditional statements. However, one should be able to recognize the time and space discretization steps, as well as the conditional statements which identify neighbor triangles to perform the surface flux calculations and apply the boundary conditions, when necessary. Note in particular that the \"space\" integration actually is a loop over all triangles (the volumes), and for each triangle there is a loop over each face.\n",
    "\n",
    "Note that Python method <code>enumerate</code> returns the index of a list/array, as well as the item at that index; this is useful to more easily define values in the loop. \n",
    "\n",
    "Once the structure of the code is recognized, it should be straightforward to check that the algebraic equations defined above are implemented correctly (note variables like <code>unknowns</code>, <code>phi</code>, <code>constant</code> and <code>flux</code>).\n",
    "\n",
    "At the end of this method, we can see how the Euler scheme is applied:\n",
    "\n",
    "<pre>\n",
    "<code>\n",
    "unknowns[time_step+1, triangle_id] = unknowns[time_step, triangle_id]\n",
    "</code>\n",
    "</pre>\n",
    "\n",
    "After close inspection, it should be obvious that this simply takes the solution from the previous time step for the triangle with given id, $\\phi_{i}^{n}$ and assigns the value to the next time step, $\\phi_{i}^{n+1}$. Because this happens for all time steps and all triangles, this results in a \"solution\" that simply repeats the initial conditions at every time step.\n",
    "\n",
    "To fix the issue, we need to implement the algebraic expression\n",
    "\n",
    "$$\n",
    "\\phi^{n+1}_i = \\phi^{n}_i \n",
    "+ \\sum_{nv} D\\frac{\\Delta t \\Delta L}{\\Delta A} \\left( \\frac{\\phi^n_{nv}-\\phi^n_i}{\\Delta d_c} \\right)\n",
    "$$\n",
    "\n",
    "which we can do as follows:\n",
    "\n",
    "<pre>\n",
    "<code>\n",
    "unknowns[time_step+1, triangle_id] = phi + np.sum(flux)\n",
    "</code>\n",
    "</pre>\n",
    "\n",
    "Note that the expressions provided here are the same as those requested for Question 1 in the report.\n",
    "\n",
    "</p>\n",
    "</div>"
   ]
  },
  {
   "cell_type": "markdown",
   "id": "62c72fab",
   "metadata": {},
   "source": [
    "<div style=\"background-color:#AABAB2; color: black; width: 95%; vertical-align: middle; padding:15px; margin: 10px; border-radius: 10px\">\n",
    "<p>\n",
    "<b>Task 2.6</b>\n",
    "\n",
    "**Refine**\n",
    "\n",
    "Refine the mesh and create a plot to check visually how the geometry has changed.\n",
    "\n",
    "</p>\n",
    "</div>"
   ]
  },
  {
   "cell_type": "code",
   "execution_count": null,
   "id": "611fa2fc",
   "metadata": {},
   "outputs": [],
   "source": [
    "# YOUR_CODE_HERE\n",
    "# mesh.plot_triangles();\n",
    "\n",
    "# SOLUTION\n",
    "mesh.refine_mesh();\n",
    "mesh.plot_triangles();"
   ]
  },
  {
   "cell_type": "markdown",
   "id": "1f712626",
   "metadata": {},
   "source": [
    "<div style=\"background-color:#AABAB2; color: black; width: 95%; vertical-align: middle; padding:15px; margin: 10px; border-radius: 10px\">\n",
    "<p>\n",
    "<b>Task 2.7</b>\n",
    "\n",
    "**Solve**.\n",
    "\n",
    "Solve the problem for the new mesh using the same time and diffusion parameters as before.\n",
    "\n",
    "<em>Hint: copy/paste the same code from when you solved it the first time!</em>\n",
    "\n",
    "</p>\n",
    "</div>"
   ]
  },
  {
   "cell_type": "code",
   "execution_count": null,
   "id": "aecff8fc",
   "metadata": {},
   "outputs": [],
   "source": [
    "mesh.solve(20, 100, 50)\n",
    "mesh.plot_triangles(fill_color='unknowns',\n",
    "                    show_labels=False);"
   ]
  },
  {
   "cell_type": "markdown",
   "id": "4b136b02",
   "metadata": {},
   "source": [
    "<div style=\"background-color:#AABAB2; color: black; width: 95%; vertical-align: middle; padding:15px; margin: 10px; border-radius: 10px\">\n",
    "<p>\n",
    "<b>Task 2.8</b>\n",
    "\n",
    "**Broken again?!**\n",
    "\n",
    "The solution for the refined mesh did not work---this time it is not a problem with the code, but another issue. See if you can make some adjustments and fix the solution!\n",
    "\n",
    "Note that you will be asked about stability in the Report, so you might as well calculate this and record the values now.\n",
    "\n",
    "<em>Tip: even though the mesh has smaller volumes (triangles), the solution should look similar to the previous (unrefined) mesh.</em>\n",
    "\n",
    "</p>\n",
    "</div>"
   ]
  },
  {
   "cell_type": "markdown",
   "id": "80ffcdd9",
   "metadata": {},
   "source": [
    "\n",
    "<div style=\"background-color:#FAE99E; color: black; width: 95%; vertical-align: middle; padding:15px; margin: 10px; border-radius: 10px\">\n",
    "<p>\n",
    "<b>Solution</b>\n",
    "\n",
    "First, note that the unstable solution is recognized by the large values of the solution indicated by the color bar in the figure: order 10 to the 87th power! Clearly the solution is on its way to infinity (and beyond?!).\n",
    "\n",
    "Instead of solving with these parameters:\n",
    "\n",
    "<pre>\n",
    "<code>\n",
    "mesh.solve(20, 100, 50)\n",
    "</code>\n",
    "</pre>\n",
    "\n",
    "Increasing the number of time steps by a factor of 10 works:\n",
    "\n",
    "<pre>\n",
    "<code>\n",
    "mesh.solve(20, 100, 50)\n",
    "</code>\n",
    "</pre>\n",
    "\n",
    "This reduces the time step size $\\Delta t$ by a factor of 10, and the reason it results in a stable solution can be explained using the stability criteria...\n",
    "\n",
    "\n",
    "</p>\n",
    "</div>"
   ]
  },
  {
   "cell_type": "code",
   "execution_count": null,
   "id": "a3c2b83a",
   "metadata": {},
   "outputs": [],
   "source": [
    "side_length= 5.0\n",
    "t_final=20\n",
    "D=50\n",
    "Nt_vec=np.arange(200, 650, 50, dtype=int)\n",
    "Stability = []\n",
    "max_temp = []\n",
    "for Nt in Nt_vec:\n",
    "    _,stability,temp=mesh.solve(20, Nt=Nt, D=D)\n",
    "    Stability.append(stability)\n",
    "    max_temp.append(temp.max())\n",
    "    print(\"==================================\")\n",
    "plt.figure(figsize=(10, 5))\n",
    "plt.plot(Nt_vec, Stability, 'o-')\n",
    "for x, y, temp in zip(Nt_vec, Stability, max_temp):\n",
    "    plt.text(x, y,f'$T=${temp:.1e} C', fontsize=6, ha='center', va='top')\n",
    "plt.xlabel('Number of time steps')\n",
    "plt.ylabel(r'D*$\\Delta t$ Surface/Volume/centroid_distance)')\n",
    "plt.title('Stability criteria vs Number of time steps ')\n",
    "plt.axhline(0.5, color='r', linestyle='--')\n",
    "plt.grid()\n",
    "plt.show()"
   ]
  },
  {
   "cell_type": "markdown",
   "id": "6b6d9964",
   "metadata": {},
   "source": [
    "## Part 3: Evaluating the implementation for non-equilateral triangles \n",
    "\n",
    "Computations in meshes with non-equilateral triangles have added error sources that would need to be corrected to have an accurate solution. In this section you will analyse and reflect on the potential downsides of your implementation for non-equilateral triangle volumes by looking only at the fluxes between two volumes. The file `utilities.py` and rest of the code in this notebook is completely irrelevant to this Part (except the `numpy` and `matplotlib` import)."
   ]
  },
  {
   "cell_type": "markdown",
   "id": "84b32366",
   "metadata": {},
   "source": [
    "<div style=\"background-color:#AABAB2; color: black; width: 95%; vertical-align: middle; padding:15px; margin: 10px; border-radius: 10px\">\n",
    "<p>\n",
    "<b>Task 3.1:</b>\n",
    "\n",
    "The vertex coordinates of the first triangle to be analyzed are: [0,0] , [0,1] , [1,0]. The second triangle share the first two vertices and have coordinates [0,0] , [0,1] , [-1,0]. \n",
    "\n",
    "Plot the vertices and the triangles edges.\n",
    "\n",
    "</p>\n",
    "</div>"
   ]
  },
  {
   "cell_type": "code",
   "execution_count": null,
   "id": "7f4b3216",
   "metadata": {},
   "outputs": [],
   "source": [
    "x_v1 = [ 0 , 0 , 1 ]\n",
    "y_v1 = [ 0 , 1 , 0 ]\n",
    "coordinates_v1 = np.array([x_v1,y_v1]).T\n",
    "\n",
    "x_v2 = [ 0 , 0 , -1 ]\n",
    "y_v2 = [ 0 , 1 , 0 ]\n",
    "coordinates_v2 = np.array([x_v2,y_v2]).T\n",
    "\n",
    "plt.scatter(x_v1, y_v1)\n",
    "plt.scatter(x_v2, y_v2)\n",
    "\n",
    "def plotting_volumes(coordinates):\n",
    "    for i in range(3):\n",
    "        start = coordinates[i]\n",
    "        end = coordinates[(i+1)%3]\n",
    "        plt.plot([start[0], end[0]], [start[1], end[1]],\n",
    "            color='black', linestyle='--', linewidth=2)\n",
    "\n",
    "plotting_volumes(coordinates_v1)    \n",
    "plotting_volumes(coordinates_v2)    \n",
    "\n"
   ]
  },
  {
   "cell_type": "markdown",
   "id": "4ae351ba",
   "metadata": {},
   "source": [
    "<div style=\"background-color:#AABAB2; color: black; width: 95%; vertical-align: middle; padding:15px; margin: 10px; border-radius: 10px\">\n",
    "<p>\n",
    "<b>Task 3.2:</b>\n",
    "\n",
    "Plot the centroid of each triangle, its connecting line and the middle distance. For the scheme you implemented in the previous task, write down what this implies for the **numerical integration approximation of the flux at the surface**.\n",
    "\n",
    "Specifically, consider the location where the flux is calculated, as implied by the numerical scheme, as well as the integration that is implied by the analytic surface integral over the surface of the shared triangle side.\n",
    "</p>\n",
    "</div>"
   ]
  },
  {
   "cell_type": "code",
   "execution_count": null,
   "id": "8f49fec6",
   "metadata": {},
   "outputs": [],
   "source": [
    "x_v1 = [ 0 , 0 , 1 ]\n",
    "y_v1 = [ 0 , 1 , 0 ]\n",
    "coordinates_v1 = np.array([x_v1,y_v1]).T\n",
    "\n",
    "x_v2 = [ 0 , 0 , -1 ]\n",
    "y_v2 = [ 0 , 1 , 0 ]\n",
    "coordinates_v2 = np.array([x_v2,y_v2]).T\n",
    "\n",
    "centroid_1 = [np.sum(x_v1)/3,np.sum(y_v1)/3]\n",
    "centroid_2 = [np.sum(x_v2)/3,np.sum(y_v2)/3]\n",
    "\n",
    "plt.scatter(centroid_1[0], centroid_1[1])\n",
    "plt.scatter(centroid_2[0], centroid_2[1])\n",
    "plt.scatter( (centroid_1[0]+centroid_2[0])/2, (centroid_1[1]+centroid_2[1])/2)\n",
    "plt.plot( [centroid_1[0] , centroid_2[0]] , [centroid_1[1],centroid_2[1]] )\n",
    "\n",
    "plotting_volumes(coordinates_v1)    \n",
    "plotting_volumes(coordinates_v2)    "
   ]
  },
  {
   "cell_type": "markdown",
   "id": "266e2473",
   "metadata": {},
   "source": [
    "Write your answer here."
   ]
  },
  {
   "cell_type": "markdown",
   "id": "bc81b963",
   "metadata": {},
   "source": [
    "\n",
    "<div style=\"background-color:#FAE99E; color: black; width: 95%; vertical-align: middle; padding:15px; margin: 10px; border-radius: 10px\">\n",
    "<p>\n",
    "<b>Solution</b>\n",
    "\n",
    "When you approximate the integral with a numerical one, it is assumed that one value of the flux is representative of the fluxes at the entire surface (recall numerical integration of Q1). For equilateral triangles, using the centroids to approximate the gradient implies that we are using a midpoint rule that is second order accurate. However, as the figure shows, for this situation the evaluation is _not_ done at the middle point; rather, it is representative of another location on the surface; thus the accuracy is not second order accurate.   \n",
    "\n",
    "</p>\n",
    "</div>"
   ]
  },
  {
   "cell_type": "markdown",
   "id": "ba6350dd",
   "metadata": {},
   "source": [
    "<div style=\"background-color:#AABAB2; color: black; width: 95%; vertical-align: middle; padding:15px; margin: 10px; border-radius: 10px\">\n",
    "<p>\n",
    "<b>Task 3.3:</b>\n",
    "\n",
    "Now lets analyze a different situation and change the coordinates of the second triangle to [0,0] , [0,1] , [-1,1].\n",
    "\n",
    "Plot the centroid of each triangle, its connecting line and the middle distance. For the numerical scheme you implemented, write the implication for the **numerical derivative approximation of the flux at the surface**.\n",
    "\n",
    "Specifically, consider the _direction_ in which the flux is calculated, as implied by the numerical scheme, as well as the quantity demanded by the analytic expression (i.e., the surface integral).\n",
    "\n",
    "</p>\n",
    "</div>"
   ]
  },
  {
   "cell_type": "code",
   "execution_count": null,
   "id": "75e81ac6",
   "metadata": {},
   "outputs": [],
   "source": [
    "x_v1 = [ 0 , 0 , 1 ]\n",
    "y_v1 = [ 0 , 1 , 0 ]\n",
    "coordinates_v1 = np.array([x_v1,y_v1]).T\n",
    "\n",
    "x_v2 = [ 0 , 0 , -1 ]\n",
    "y_v2 = [ 0 , 1 , 1 ]\n",
    "coordinates_v2 = np.array([x_v2,y_v2]).T\n",
    "\n",
    "centroid_1 = [np.sum(x_v1)/3,np.sum(y_v1)/3]\n",
    "centroid_2 = [np.sum(x_v2)/3,np.sum(y_v2)/3]\n",
    "\n",
    "plt.scatter(centroid_1[0], centroid_1[1])\n",
    "plt.scatter(centroid_2[0], centroid_2[1])\n",
    "plt.scatter( (centroid_1[0]+centroid_2[0])/2, (centroid_1[1]+centroid_2[1])/2)\n",
    "plt.plot( [centroid_1[0] , centroid_2[0]] , [centroid_1[1],centroid_2[1]] )\n",
    "\n",
    "plotting_volumes(coordinates_v1)    \n",
    "plotting_volumes(coordinates_v2)    "
   ]
  },
  {
   "cell_type": "markdown",
   "id": "7648534b",
   "metadata": {},
   "source": [
    "Write your answer here."
   ]
  },
  {
   "cell_type": "markdown",
   "id": "feb65cc1",
   "metadata": {},
   "source": [
    "\n",
    "<div style=\"background-color:#FAE99E; color: black; width: 95%; vertical-align: middle; padding:15px; margin: 10px; border-radius: 10px\">\n",
    "<p>\n",
    "<b>Solution</b>\n",
    "\n",
    "Now the evaluation of the flux is done at the midpoint of the surface (in contrast to the previous task) but its direction evaluation is not normal to the surface!\n",
    "\n",
    "Thus, the gradient and flux are computed incorrectly if we applied the scheme implemented in our code.\n",
    "\n",
    "</p>\n",
    "</div>"
   ]
  },
  {
   "cell_type": "markdown",
   "id": "f6bb4e0f",
   "metadata": {},
   "source": [
    "<div style=\"background-color:#AABAB2; color: black; width: 95%; vertical-align: middle; padding:15px; margin: 10px; border-radius: 10px\">\n",
    "<p>\n",
    "<b>Task 3.4:</b>\n",
    "\n",
    "Now lets analyze one last situation and change the coordinates of the second triangle to [0,0] , [0,1] , [-1.5,1].\n",
    "\n",
    "Plot the centroid of each triangle, its connecting line and the middle distance. Write down what this implies for the **numerical derivative approximation of the flux normal to the surface**. \n",
    "\n",
    "\n",
    "</p>\n",
    "</div>"
   ]
  },
  {
   "cell_type": "code",
   "execution_count": null,
   "id": "1363e10c",
   "metadata": {},
   "outputs": [],
   "source": [
    "x_v1 = [ 0 , 0 , 1 ]\n",
    "y_v1 = [ 0 , 1 , 0 ]\n",
    "coordinates_v1 = np.array([x_v1,y_v1]).T\n",
    "\n",
    "x_v2 = [ 0 , 0 , -1.5 ]\n",
    "y_v2 = [ 0 , 1 , 1 ]\n",
    "coordinates_v2 = np.array([x_v2,y_v2]).T\n",
    "\n",
    "centroid_1 = [np.sum(x_v1)/3,np.sum(y_v1)/3]\n",
    "centroid_2 = [np.sum(x_v2)/3,np.sum(y_v2)/3]\n",
    "\n",
    "plt.scatter(centroid_1[0], centroid_1[1])\n",
    "plt.scatter(centroid_2[0], centroid_2[1])\n",
    "plt.scatter( (centroid_1[0]+centroid_2[0])/2, (centroid_1[1]+centroid_2[1])/2)\n",
    "plt.plot( [centroid_1[0] , centroid_2[0]] , [centroid_1[1],centroid_2[1]] )\n",
    "\n",
    "plotting_volumes(coordinates_v1)    \n",
    "plotting_volumes(coordinates_v2)    "
   ]
  },
  {
   "cell_type": "markdown",
   "id": "c4fe1da1",
   "metadata": {},
   "source": [
    "Write your answer here."
   ]
  },
  {
   "cell_type": "markdown",
   "id": "71dc6dc3",
   "metadata": {},
   "source": [
    "\n",
    "<div style=\"background-color:#FAE99E; color: black; width: 95%; vertical-align: middle; padding:15px; margin: 10px; border-radius: 10px\">\n",
    "<p>\n",
    "<b>Solution</b>\n",
    "\n",
    "Now the evaluation of the flux (as implemented in task 2) is not done at the midpoint of the surface, not even at the surface, and its direction is not normal to the surface! \n",
    "\n",
    "Thus, there are two sources of error present, when it comes to the numerical scheme in the code of this assignment, applied to the volumes illustrated here.\n",
    "\n",
    "</p>\n",
    "</div>"
   ]
  },
  {
   "cell_type": "markdown",
   "id": "372c834d",
   "metadata": {},
   "source": [
    "**End of notebook.**\n",
    "<h2 style=\"height: 60px\">\n",
    "</h2>\n",
    "<h3 style=\"position: absolute; display: flex; flex-grow: 0; flex-shrink: 0; flex-direction: row-reverse; bottom: 60px; right: 50px; margin: 0; border: 0\">\n",
    "    <style>\n",
    "        .markdown {width:100%; position: relative}\n",
    "        article { position: relative }\n",
    "    </style>\n",
    "    <a rel=\"license\" href=\"http://creativecommons.org/licenses/by/4.0/\">\n",
    "      <img alt=\"Creative Commons License\" style=\"border-width:; width:88px; height:auto; padding-top:10px\" src=\"https://i.creativecommons.org/l/by/4.0/88x31.png\" />\n",
    "    </a>\n",
    "    <a rel=\"TU Delft\" href=\"https://www.tudelft.nl/en/ceg\">\n",
    "      <img alt=\"TU Delft\" style=\"border-width:0; width:100px; height:auto; padding-bottom:0px\" src=\"https://gitlab.tudelft.nl/mude/public/-/raw/main/tu-logo/TU_P1_full-color.png\" />\n",
    "    </a>\n",
    "    <a rel=\"MUDE\" href=\"http://mude.citg.tudelft.nl/\">\n",
    "      <img alt=\"MUDE\" style=\"border-width:0; width:100px; height:auto; padding-bottom:0px\" src=\"https://gitlab.tudelft.nl/mude/public/-/raw/main/mude-logo/MUDE_Logo-small.png\" />\n",
    "    </a>\n",
    "    \n",
    "</h3>\n",
    "<span style=\"font-size: 75%\">\n",
    "&copy; Copyright 2024 <a rel=\"MUDE\" href=\"http://mude.citg.tudelft.nl/\">MUDE</a> TU Delft. This work is licensed under a <a rel=\"license\" href=\"http://creativecommons.org/licenses/by/4.0/\">CC BY 4.0 License</a>."
   ]
  }
 ],
 "metadata": {
  "language_info": {
   "name": "python"
  }
 },
 "nbformat": 4,
 "nbformat_minor": 5
}
