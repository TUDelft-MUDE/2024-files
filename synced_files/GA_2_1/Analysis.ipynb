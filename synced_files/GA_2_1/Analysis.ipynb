{
 "cells": [
  {
   "cell_type": "markdown",
   "id": "f910b094",
   "metadata": {
    "id": "9adbf457-797f-45b7-8f8b-0e46e0e2f5ff"
   },
   "source": [
    "# GA 2.1: FVM with an Unstructured  Mesh (diffusion)\n",
    "\n",
    "<h1 style=\"position: absolute; display: flex; flex-grow: 0; flex-shrink: 0; flex-direction: row-reverse; top: 60px;right: 30px; margin: 0; border: 0\">\n",
    "    <style>\n",
    "        .markdown {width:100%; position: relative}\n",
    "        article { position: relative }\n",
    "    </style>\n",
    "    <img src=\"https://gitlab.tudelft.nl/mude/public/-/raw/main/tu-logo/TU_P1_full-color.png\" style=\"width:100px\" />\n",
    "    <img src=\"https://gitlab.tudelft.nl/mude/public/-/raw/main/mude-logo/MUDE_Logo-small.png\" style=\"width:100px\" />\n",
    "</h1>\n",
    "<h2 style=\"height: 10px\">\n",
    "</h2>\n",
    "\n",
    "*[CEGM1000 MUDE](http://mude.citg.tudelft.nl/): Week 2.1. For: 15 November, 2024.*"
   ]
  },
  {
   "cell_type": "markdown",
   "id": "edd5f8c5",
   "metadata": {},
   "source": [
    "# Overview\n",
    "\n",
    "This assignment considers an interesting 2D shape: the \"U\" of MUDE! We will use the diffusion equation to compute the distribution of temperature in the U subject to specific boundary conditions and initial conditions.\n",
    "\n",
    "This assignment contains three parts:\n",
    "\n",
    "1. expressing the diffusion equation for triangle volumes and formulating algebraic equations with the finite volume method,\n",
    "2. implementing and solving this method in an unstructured orthogonal mesh,\n",
    "3. analyzing potential downsides to the discretized approach used if applied to non-orthogonal meshes, and considering how they might be corrected.\n",
    "\n",
    "Remember, even though the problem is 2D, the numerical scheme will be fromulated by treating _volumes_ (as opposed to dimensions $x$ and $y$ directly)."
   ]
  },
  {
   "cell_type": "markdown",
   "id": "a7dd7b2e",
   "metadata": {},
   "source": [
    "## Part 1: Using Just Your Hands\n",
    "\n",
    "The diffusion equation expressed in its reduced form is:\n",
    "\n",
    "$$\n",
    "\\frac{\\partial \\phi}{\\partial t} = \\nabla \\cdot D \\nabla \\phi\n",
    "$$\n",
    "\n",
    "Note that for triangle shape volumes, the fluxes are not necessarily directed in the $x$ direction. Rather, in the normal direction to the surfaces of each volume, as the flux direction is given by the $\\phi$ gradients and the information propagates in all directions.\n",
    "\n",
    "Over the next tasks, you will write step by step its derivation."
   ]
  },
  {
   "cell_type": "markdown",
   "id": "3be1519a",
   "metadata": {},
   "source": [
    "<div style=\"background-color:#AABAB2; color: black; width: 95%; vertical-align: middle; padding:15px; margin: 10px; border-radius: 10px\">\n",
    "<p>\n",
    "<b>Task 1.1</b>\n",
    "\n",
    "Integrate the PDE over triangle volumes of interest. \n",
    "\n",
    "</p>\n",
    "</div>"
   ]
  },
  {
   "cell_type": "markdown",
   "id": "8b6b7844",
   "metadata": {},
   "source": [
    "Write your answer here."
   ]
  },
  {
   "cell_type": "markdown",
   "id": "af85bfa9",
   "metadata": {},
   "source": [
    "<div style=\"background-color:#AABAB2; color: black; width: 95%; vertical-align: middle; padding:15px; margin: 10px; border-radius: 10px\">\n",
    "<p>\n",
    "<b>Task 1.2</b>\n",
    "\n",
    "Transform the corresponding volume integral into a surface integral using Gauss's theorem.\n",
    "\n",
    "</p>\n",
    "</div>"
   ]
  },
  {
   "cell_type": "markdown",
   "id": "46001bb2",
   "metadata": {},
   "source": [
    "Write your answer here."
   ]
  },
  {
   "cell_type": "markdown",
   "id": "35407e82",
   "metadata": {},
   "source": [
    "<div style=\"background-color:#AABAB2; color: black; width: 95%; vertical-align: middle; padding:15px; margin: 10px; border-radius: 10px\">\n",
    "<p>\n",
    "<b>Task 1.3</b>\n",
    "\n",
    "Approximate the integrals using numerical integration, using the midpoint rule. Write explicitly the three surface fluxes.\n",
    "\n",
    "</p>\n",
    "</div>"
   ]
  },
  {
   "cell_type": "markdown",
   "id": "1b447202",
   "metadata": {},
   "source": [
    "Write your answer here."
   ]
  },
  {
   "cell_type": "markdown",
   "id": "492e239a",
   "metadata": {},
   "source": [
    "<div style=\"background-color:#AABAB2; color: black; width: 95%; vertical-align: middle; padding:15px; margin: 10px; border-radius: 10px\">\n",
    "<p>\n",
    "<b>Task 1.4</b>\n",
    "\n",
    "Divide both sides of the equation by $\\Delta V$. The \"depth\" of the volume is common with the surface flux area. Write down the resulting equation.\n",
    "\n",
    "</p>\n",
    "</div>"
   ]
  },
  {
   "cell_type": "markdown",
   "id": "6a6a33d1",
   "metadata": {},
   "source": [
    "Write your answer here."
   ]
  },
  {
   "cell_type": "markdown",
   "id": "a7223246",
   "metadata": {},
   "source": [
    "<div style=\"background-color:#AABAB2; color: black; width: 95%; vertical-align: middle; padding:15px; margin: 10px; border-radius: 10px\">\n",
    "<p>\n",
    "<b>Task 1.5</b>\n",
    "\n",
    "Approximate the derivatives! Use central differences in space and Forward Euler in time. The subindices can be defined by arbitrarily naming the volume of interest and the adjacent volumes.\n",
    "\n",
    "</p>\n",
    "</div>"
   ]
  },
  {
   "cell_type": "markdown",
   "id": "f252764d",
   "metadata": {},
   "source": [
    "Write your answer here."
   ]
  },
  {
   "cell_type": "markdown",
   "id": "fea344cc",
   "metadata": {},
   "source": [
    "<div style=\"background-color:#AABAB2; color: black; width: 95%; vertical-align: middle; padding:15px; margin: 10px; border-radius: 10px\">\n",
    "<p>\n",
    "<b>Task 1.5</b>\n",
    "\n",
    "The equation you derived above describes volumes with <b>three</b> interior sides. For a volume with <b>one</b> side being an exterior one, modify the equation above to implement the following Neumann condition (which replaces the discretized gradient term):\n",
    "\n",
    "$$\n",
    "\\frac{\\partial \\phi }{\\partial n} = 10 [C^o/m]\n",
    "$$\n",
    "\n",
    "</p>\n",
    "</div>"
   ]
  },
  {
   "cell_type": "markdown",
   "id": "6af8f5e3",
   "metadata": {},
   "source": [
    "Write your answer here."
   ]
  },
  {
   "cell_type": "markdown",
   "id": "6712cc4d",
   "metadata": {},
   "source": [
    "## Part 2: Implementation!\n",
    "\n",
    "Below, the coordinates of the triangle vertices that cover the domain of interest are defined. The boundary conditions are also specified and incorporated in the resulting object `mesh` once the class `Mesh` is instantiated. The class `Mesh` is defined in `utilities.py` and has an identical structure and similar functions as provided in your PA for this week, which define key characteristics of the mesh and volumes, as well as providing useful plotting and solving methods.\n",
    "\n",
    "Note: the `Mesh` class and it's usage is illustrated extensively in the companion notebook `mesh_tips.ipynb`."
   ]
  },
  {
   "cell_type": "code",
   "execution_count": null,
   "id": "5b0a5a0a",
   "metadata": {},
   "outputs": [],
   "source": [
    "import matplotlib.pyplot as plt\n",
    "import numpy as np\n",
    "from utilities import *"
   ]
  },
  {
   "cell_type": "markdown",
   "id": "30b85b81",
   "metadata": {},
   "source": [
    "<div style=\"background-color:#AABAB2; color: black; width: 95%; vertical-align: middle; padding:15px; margin: 10px; border-radius: 10px\">\n",
    "<p>\n",
    "<b>Task 2.0</b>\n",
    "\n",
    "Execute the cell below and study the resulting geometry until you are comfortable recognizing the problem that will be solved. In particular, check that you can identify which boundary conditions are applied, and where, before moving on.\n",
    "\n",
    "If you are not sure how to interpret the code or figures, refer to <code>mesh_tips.ipynb</code>.\n",
    "\n",
    "</p>\n",
    "</div>"
   ]
  },
  {
   "cell_type": "code",
   "execution_count": null,
   "id": "4529d53a",
   "metadata": {},
   "outputs": [],
   "source": [
    "length = 10\n",
    "\n",
    "coordinates = [[  0.,    0.   ],\n",
    "               [ 10.,    0.   ],\n",
    "               [  5.,   -8.660],\n",
    "               [ 15.,   -8.660],\n",
    "               [ 10.,  -17.320],\n",
    "               [ 20.,  -17.320],\n",
    "               [ 25.,   -8.660],\n",
    "               [ 30.,  -17.320],\n",
    "               [ 35.,   -8.660],\n",
    "               [ 30.,    0.   ],\n",
    "               [ 40.,    0.   ]]\n",
    "\n",
    "coordinates = np.array(coordinates)\n",
    "\n",
    "boundaries = [[['Neumann', +1], [0, 1]],\n",
    "              [['Neumann',  0], [1, 3, 6, 9]],\n",
    "              [['Neumann', -1], [9, 10]],\n",
    "              [['Neumann',  0], [10, 7, 4, 0]]]\n",
    "\n",
    "mesh = Mesh(coordinates, length, boundaries)\n",
    "mesh.plot_triangles();\n",
    "mesh.plot_boundaries();"
   ]
  },
  {
   "cell_type": "markdown",
   "id": "3458323f",
   "metadata": {},
   "source": [
    "Before we continue to finding the solution, let's explore the relationship of today's mesh with the bars and kapsalon shops we considered in the PA for this week."
   ]
  },
  {
   "cell_type": "markdown",
   "id": "92ff119d",
   "metadata": {},
   "source": [
    "<div style=\"background-color:#AABAB2; color: black; width: 95%; vertical-align: middle; padding:15px; margin: 10px; border-radius: 10px\">\n",
    "<p>\n",
    "<b>Task 2.1</b>\n",
    "\n",
    "Write down the similarities between the housing-bar-kapsalon problem (PA 2.1) and the FVM representation of the diffusion equation here. Specifically, the locations and quantities associated with each of the three things.\n",
    "\n",
    "</p>\n",
    "</div>"
   ]
  },
  {
   "cell_type": "markdown",
   "id": "cc6d8d6f",
   "metadata": {},
   "source": [
    "Write your answer here."
   ]
  },
  {
   "cell_type": "markdown",
   "id": "da530d05",
   "metadata": {},
   "source": [
    "Write your answer here."
   ]
  },
  {
   "cell_type": "markdown",
   "id": "4b3aa21d",
   "metadata": {},
   "source": [
    "<div style=\"background-color:#AABAB2; color: black; width: 95%; vertical-align: middle; padding:15px; margin: 10px; border-radius: 10px\">\n",
    "<p>\n",
    "<b>Task 2.2</b>\n",
    "\n",
    "Suppose **just for this single task** that the FDM would be used, sketch the potential grid points and draw the boundaries that would represent the same domain in $x$ and $y$ as defined by <code>coordinates</code> in the previous task. \n",
    "\n",
    "This is to illustrate one of the contrasts between FDM and FVM.\n",
    "\n",
    "</p>\n",
    "</div>"
   ]
  },
  {
   "cell_type": "markdown",
   "id": "1e861cca",
   "metadata": {},
   "source": [
    "Write your answer here."
   ]
  },
  {
   "cell_type": "markdown",
   "id": "53e386f0",
   "metadata": {},
   "source": [
    "Now we will **continue with code implementation** by adding some information to the object that defines our problem, `mesh`. Remember to refer to `mesh_tips.ipynb` if you are not sure how to use it!"
   ]
  },
  {
   "cell_type": "markdown",
   "id": "6fe63a2c",
   "metadata": {},
   "source": [
    "<div style=\"background-color:#AABAB2; color: black; width: 95%; vertical-align: middle; padding:15px; margin: 10px; border-radius: 10px\">\n",
    "<p>\n",
    "<b>Task 2.3</b>\n",
    "\n",
    "First, use the method <code>set_initial_temperature()</code> to define the initial conditions for the volumes. The initial temperature should be 20 degrees everywhere except at the volume in the middle, where the temperature is 40 degrees.  \n",
    "\n",
    "</p>\n",
    "</div>"
   ]
  },
  {
   "cell_type": "code",
   "execution_count": null,
   "id": "2d358403",
   "metadata": {},
   "outputs": [],
   "source": [
    "mesh.plot_triangles(YOUR_CODE_HERE) # useful for identifying the triangle id\n",
    "mesh.set_initial_conditions(YOUR_CODE_HERE)\n",
    "mesh.plot_triangles(fill_color='initial_conditions');"
   ]
  },
  {
   "cell_type": "markdown",
   "id": "7e258153",
   "metadata": {},
   "source": [
    "<div style=\"background-color:#AABAB2; color: black; width: 95%; vertical-align: middle; padding:15px; margin: 10px; border-radius: 10px\">\n",
    "<p>\n",
    "<b>Task 2.4</b>\n",
    "\n",
    "**Solve**.\n",
    "\n",
    "Using the <code>solve</code> method, solve the problem for conditions where $t_{final}=20$, $N_t=100$ and $D=50$.\n",
    "\n",
    "Use the resulting plot to see if you reach the solution you expect. Remember to consider the boundary conditions that were defined for you as well, not only the initial conditions.\n",
    "\n",
    "</p>\n",
    "</div>"
   ]
  },
  {
   "cell_type": "code",
   "execution_count": null,
   "id": "b255010c",
   "metadata": {},
   "outputs": [],
   "source": [
    "mesh.solve(YOUR_CODE_HERE, YOUR_CODE_HERE, YOUR_CODE_HERE)\n",
    "mesh.plot_triangles(fill_color='unknowns',\n",
    "                    show_labels=False);"
   ]
  },
  {
   "cell_type": "markdown",
   "id": "203ea7db",
   "metadata": {},
   "source": [
    "<div style=\"background-color:#AABAB2; color: black; width: 95%; vertical-align: middle; padding:15px; margin: 10px; border-radius: 10px\">\n",
    "<p>\n",
    "<b>Task 2.5</b>\n",
    "\n",
    "**What's going on?!**\n",
    "\n",
    "In the previous task, you should have realized that the solution is _not_ what we expect.\n",
    "\n",
    "It turns out we screwed up! In the massive file <code>utilities.py</code>, there is </b>one</b> line of code that needs to be fixed in order to solve this problem. Can you find it and fix it?\n",
    "\n",
    "The first group to find the solution will win a prize!\n",
    "\n",
    "<em>Hint: it's not in the plotting method, and is related to something you derived in the tasks above.</em>\n",
    "\n",
    "<b>Note:</b> you should expect to spend some time reading the code (at least one very specific part of the code); not only will this help you fix the problem, but it will be very useful for answering the first few questions in the Report.\n",
    "\n",
    "</p>\n",
    "</div>"
   ]
  },
  {
   "cell_type": "markdown",
   "id": "83b229e5",
   "metadata": {},
   "source": [
    "<div style=\"background-color:#AABAB2; color: black; width: 95%; vertical-align: middle; padding:15px; margin: 10px; border-radius: 10px\">\n",
    "<p>\n",
    "<b>Task 2.6</b>\n",
    "\n",
    "**Refine**\n",
    "\n",
    "Refine the mesh and create a plot to check visually how the geometry has changed.\n",
    "\n",
    "</p>\n",
    "</div>"
   ]
  },
  {
   "cell_type": "code",
   "execution_count": null,
   "id": "6f1656c1",
   "metadata": {},
   "outputs": [],
   "source": [
    "YOUR_CODE_HERE\n",
    "mesh.plot_triangles();"
   ]
  },
  {
   "cell_type": "markdown",
   "id": "cb5b5016",
   "metadata": {},
   "source": [
    "<div style=\"background-color:#AABAB2; color: black; width: 95%; vertical-align: middle; padding:15px; margin: 10px; border-radius: 10px\">\n",
    "<p>\n",
    "<b>Task 2.7</b>\n",
    "\n",
    "**Solve**.\n",
    "\n",
    "Solve the problem for the new mesh using the same time and diffusion parameters as before.\n",
    "\n",
    "<em>Hint: copy/paste the same code from when you solved it the first time!</em>\n",
    "\n",
    "</p>\n",
    "</div>"
   ]
  },
  {
   "cell_type": "code",
   "execution_count": null,
   "id": "24d0ff6f",
   "metadata": {},
   "outputs": [],
   "source": [
    "YOUR_CODE_HERE"
   ]
  },
  {
   "cell_type": "markdown",
   "id": "5ba88c2c",
   "metadata": {},
   "source": [
    "<div style=\"background-color:#AABAB2; color: black; width: 95%; vertical-align: middle; padding:15px; margin: 10px; border-radius: 10px\">\n",
    "<p>\n",
    "<b>Task 2.8</b>\n",
    "\n",
    "**Broken again?!**\n",
    "\n",
    "The solution for the refined mesh did not work---this time it is not a problem with the code, but another issue. See if you can make some adjustments and fix the solution!\n",
    "\n",
    "Note that you will be asked about stability in the Report, so you might as well calculate this and record the values now.\n",
    "\n",
    "<em>Tip: even though the mesh has smaller volumes (triangles), the solution should look similar to the previous (unrefined) mesh.</em>\n",
    "\n",
    "</p>\n",
    "</div>"
   ]
  },
  {
   "cell_type": "markdown",
   "id": "02b3743c",
   "metadata": {},
   "source": [
    "## Part 3: Evaluating the implementation for non-equilateral triangles \n",
    "\n",
    "Computations in meshes with non-equilateral triangles have added error sources that would need to be corrected to have an accurate solution. In this section you will analyse and reflect on the potential downsides of your implementation for non-equilateral triangle volumes by looking only at the fluxes between two volumes. The file `utilities.py` and rest of the code in this notebook is completely irrelevant to this Part (except the `numpy` and `matplotlib` import)."
   ]
  },
  {
   "cell_type": "markdown",
   "id": "708fb2d0",
   "metadata": {},
   "source": [
    "<div style=\"background-color:#AABAB2; color: black; width: 95%; vertical-align: middle; padding:15px; margin: 10px; border-radius: 10px\">\n",
    "<p>\n",
    "<b>Task 3.1:</b>\n",
    "\n",
    "The vertex coordinates of the first triangle to be analyzed are: [0,0] , [0,1] , [1,0]. The second triangle share the first two vertices and have coordinates [0,0] , [0,1] , [-1,0]. \n",
    "\n",
    "Plot the vertices and the triangles edges.\n",
    "\n",
    "</p>\n",
    "</div>"
   ]
  },
  {
   "cell_type": "code",
   "execution_count": null,
   "id": "53333b18",
   "metadata": {},
   "outputs": [],
   "source": [
    "x_v1 = [ 0 , 0 , 1 ]\n",
    "y_v1 = [ 0 , 1 , 0 ]\n",
    "coordinates_v1 = np.array([x_v1,y_v1]).T\n",
    "\n",
    "x_v2 = [ 0 , 0 , -1 ]\n",
    "y_v2 = [ 0 , 1 , 0 ]\n",
    "coordinates_v2 = np.array([x_v2,y_v2]).T\n",
    "\n",
    "plt.scatter(x_v1, y_v1)\n",
    "plt.scatter(x_v2, y_v2)\n",
    "\n",
    "def plotting_volumes(coordinates):\n",
    "    for i in range(3):\n",
    "        start = coordinates[i]\n",
    "        end = coordinates[(i+1)%3]\n",
    "        plt.plot([start[0], end[0]], [start[1], end[1]],\n",
    "            color='black', linestyle='--', linewidth=2)\n",
    "\n",
    "plotting_volumes(coordinates_v1)    \n",
    "plotting_volumes(coordinates_v2)    \n",
    "\n"
   ]
  },
  {
   "cell_type": "markdown",
   "id": "c8bb2d08",
   "metadata": {},
   "source": [
    "<div style=\"background-color:#AABAB2; color: black; width: 95%; vertical-align: middle; padding:15px; margin: 10px; border-radius: 10px\">\n",
    "<p>\n",
    "<b>Task 3.2:</b>\n",
    "\n",
    "Plot the centroid of each triangle, its connecting line and the middle distance. For the scheme you implemented in the previous task, write down what this implies for the **numerical integration approximation of the flux at the surface**.\n",
    "\n",
    "Specifically, consider the location where the flux is calculated, as implied by the numerical scheme, as well as the integration that is implied by the analytic surface integral over the surface of the shared triangle side.\n",
    "</p>\n",
    "</div>"
   ]
  },
  {
   "cell_type": "code",
   "execution_count": null,
   "id": "47ac133f",
   "metadata": {},
   "outputs": [],
   "source": [
    "x_v1 = [ 0 , 0 , 1 ]\n",
    "y_v1 = [ 0 , 1 , 0 ]\n",
    "coordinates_v1 = np.array([x_v1,y_v1]).T\n",
    "\n",
    "x_v2 = [ 0 , 0 , -1 ]\n",
    "y_v2 = [ 0 , 1 , 0 ]\n",
    "coordinates_v2 = np.array([x_v2,y_v2]).T\n",
    "\n",
    "centroid_1 = [np.sum(x_v1)/3,np.sum(y_v1)/3]\n",
    "centroid_2 = [np.sum(x_v2)/3,np.sum(y_v2)/3]\n",
    "\n",
    "plt.scatter(centroid_1[0], centroid_1[1])\n",
    "plt.scatter(centroid_2[0], centroid_2[1])\n",
    "plt.scatter( (centroid_1[0]+centroid_2[0])/2, (centroid_1[1]+centroid_2[1])/2)\n",
    "plt.plot( [centroid_1[0] , centroid_2[0]] , [centroid_1[1],centroid_2[1]] )\n",
    "\n",
    "plotting_volumes(coordinates_v1)    \n",
    "plotting_volumes(coordinates_v2)    "
   ]
  },
  {
   "cell_type": "markdown",
   "id": "aa59cbd0",
   "metadata": {},
   "source": [
    "Write your answer here."
   ]
  },
  {
   "cell_type": "markdown",
   "id": "b201e5dd",
   "metadata": {},
   "source": [
    "<div style=\"background-color:#AABAB2; color: black; width: 95%; vertical-align: middle; padding:15px; margin: 10px; border-radius: 10px\">\n",
    "<p>\n",
    "<b>Task 3.3:</b>\n",
    "\n",
    "Now lets analyze a different situation and change the coordinates of the second triangle to [0,0] , [0,1] , [-1,1].\n",
    "\n",
    "Plot the centroid of each triangle, its connecting line and the middle distance. For the numerical scheme you implemented, write the implication for the **numerical derivative approximation of the flux at the surface**.\n",
    "\n",
    "Specifically, consider the _direction_ in which the flux is calculated, as implied by the numerical scheme, as well as the quantity demanded by the analytic expression (i.e., the surface integral).\n",
    "\n",
    "</p>\n",
    "</div>"
   ]
  },
  {
   "cell_type": "code",
   "execution_count": null,
   "id": "29a3fae1",
   "metadata": {},
   "outputs": [],
   "source": [
    "x_v1 = [ 0 , 0 , 1 ]\n",
    "y_v1 = [ 0 , 1 , 0 ]\n",
    "coordinates_v1 = np.array([x_v1,y_v1]).T\n",
    "\n",
    "x_v2 = [ 0 , 0 , -1 ]\n",
    "y_v2 = [ 0 , 1 , 1 ]\n",
    "coordinates_v2 = np.array([x_v2,y_v2]).T\n",
    "\n",
    "centroid_1 = [np.sum(x_v1)/3,np.sum(y_v1)/3]\n",
    "centroid_2 = [np.sum(x_v2)/3,np.sum(y_v2)/3]\n",
    "\n",
    "plt.scatter(centroid_1[0], centroid_1[1])\n",
    "plt.scatter(centroid_2[0], centroid_2[1])\n",
    "plt.scatter( (centroid_1[0]+centroid_2[0])/2, (centroid_1[1]+centroid_2[1])/2)\n",
    "plt.plot( [centroid_1[0] , centroid_2[0]] , [centroid_1[1],centroid_2[1]] )\n",
    "\n",
    "plotting_volumes(coordinates_v1)    \n",
    "plotting_volumes(coordinates_v2)    "
   ]
  },
  {
   "cell_type": "markdown",
   "id": "917acf5d",
   "metadata": {},
   "source": [
    "Write your answer here."
   ]
  },
  {
   "cell_type": "markdown",
   "id": "407e887e",
   "metadata": {},
   "source": [
    "<div style=\"background-color:#AABAB2; color: black; width: 95%; vertical-align: middle; padding:15px; margin: 10px; border-radius: 10px\">\n",
    "<p>\n",
    "<b>Task 3.4:</b>\n",
    "\n",
    "Now lets analyze one last situation and change the coordinates of the second triangle to [0,0] , [0,1] , [-1.5,1].\n",
    "\n",
    "Plot the centroid of each triangle, its connecting line and the middle distance. Write down what this implies for the **numerical derivative approximation of the flux normal to the surface**. \n",
    "\n",
    "\n",
    "</p>\n",
    "</div>"
   ]
  },
  {
   "cell_type": "code",
   "execution_count": null,
   "id": "774eaf36",
   "metadata": {},
   "outputs": [],
   "source": [
    "x_v1 = [ 0 , 0 , 1 ]\n",
    "y_v1 = [ 0 , 1 , 0 ]\n",
    "coordinates_v1 = np.array([x_v1,y_v1]).T\n",
    "\n",
    "x_v2 = [ 0 , 0 , -1.5 ]\n",
    "y_v2 = [ 0 , 1 , 1 ]\n",
    "coordinates_v2 = np.array([x_v2,y_v2]).T\n",
    "\n",
    "centroid_1 = [np.sum(x_v1)/3,np.sum(y_v1)/3]\n",
    "centroid_2 = [np.sum(x_v2)/3,np.sum(y_v2)/3]\n",
    "\n",
    "plt.scatter(centroid_1[0], centroid_1[1])\n",
    "plt.scatter(centroid_2[0], centroid_2[1])\n",
    "plt.scatter( (centroid_1[0]+centroid_2[0])/2, (centroid_1[1]+centroid_2[1])/2)\n",
    "plt.plot( [centroid_1[0] , centroid_2[0]] , [centroid_1[1],centroid_2[1]] )\n",
    "\n",
    "plotting_volumes(coordinates_v1)    \n",
    "plotting_volumes(coordinates_v2)    "
   ]
  },
  {
   "cell_type": "markdown",
   "id": "d9a07db7",
   "metadata": {},
   "source": [
    "Write your answer here."
   ]
  },
  {
   "cell_type": "markdown",
   "id": "27deb71a",
   "metadata": {},
   "source": [
    "**End of notebook.**\n",
    "\n",
    "<div style=\"margin-top: 50px; padding-top: 20px; border-top: 1px solid #ccc;\">\n",
    "  <div style=\"display: flex; justify-content: flex-end; gap: 20px; align-items: center;\">\n",
    "    <a rel=\"MUDE\" href=\"http://mude.citg.tudelft.nl/\">\n",
    "      <img alt=\"MUDE\" style=\"width:100px; height:auto;\" src=\"https://gitlab.tudelft.nl/mude/public/-/raw/main/mude-logo/MUDE_Logo-small.png\" />\n",
    "    </a>\n",
    "    <a rel=\"TU Delft\" href=\"https://www.tudelft.nl/en/ceg\">\n",
    "      <img alt=\"TU Delft\" style=\"width:100px; height:auto;\" src=\"https://gitlab.tudelft.nl/mude/public/-/raw/main/tu-logo/TU_P1_full-color.png\" />\n",
    "    </a>\n",
    "    <a rel=\"license\" href=\"http://creativecommons.org/licenses/by/4.0/\">\n",
    "      <img alt=\"Creative Commons License\" style=\"width:88px; height:auto;\" src=\"https://i.creativecommons.org/l/by/4.0/88x31.png\" />\n",
    "    </a>\n",
    "  </div>\n",
    "  <div style=\"font-size: 75%; margin-top: 10px; text-align: right;\">\n",
    "    By <a rel=\"MUDE\" href=\"http://mude.citg.tudelft.nl/\">MUDE Team</a>\n",
    "    &copy; 2024 TU Delft. \n",
    "    <a rel=\"license\" href=\"http://creativecommons.org/licenses/by/4.0/\">CC BY 4.0</a>.\n",
    "    <a rel=\"Zenodo DOI\" href=\"https://doi.org/10.5281/zenodo.16782515\"><img style=\"width:auto; height:15; vertical-align:middle\" src=\"https://zenodo.org/badge/DOI/10.5281/zenodo.16782515.svg\" alt=\"DOI https://doi.org/10.5281/zenodo.16782515\"></a>\n",
    "  </div>\n",
    "</div>\n",
    "\n",
    "\n",
    "<!--tested with WS_2_8_solution.ipynb-->"
   ]
  }
 ],
 "metadata": {
  "language_info": {
   "name": "python"
  }
 },
 "nbformat": 4,
 "nbformat_minor": 5
}
