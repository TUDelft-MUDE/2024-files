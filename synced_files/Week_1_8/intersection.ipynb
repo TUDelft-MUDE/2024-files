{
 "cells": [
  {
   "cell_type": "code",
   "execution_count": null,
   "metadata": {},
   "outputs": [],
   "source": [
    "import numpy as np\n",
    "from scipy import stats\n",
    "import pyvinecopulib as pv\n",
    "import matplotlib.pyplot as plt\n",
    "import matplotlib\n"
   ]
  },
  {
   "cell_type": "code",
   "execution_count": null,
   "metadata": {},
   "outputs": [],
   "source": [
    "\n",
    "\n",
    "\n",
    "\n",
    "def joint_exceedance(rho):\n",
    "    x = [4, 6]\n",
    "    X = stats.multivariate_normal(mean=[3, 5],\n",
    "                              cov=[[1.00, rho],\n",
    "                                   [rho, 2.60]])\n",
    "    \n",
    "    X1 = stats.norm(loc=3, scale=1.0)\n",
    "    X2 = stats.norm(loc=5, scale=1.6)\n",
    "\n",
    "    p1 = X1.cdf(x[0])\n",
    "    p2 = X2.cdf(x[1])\n",
    "    p = X.cdf(x)\n",
    "\n",
    "    return 1 - p1 - p2 + p\n",
    "\n",
    "rho = np.linspace(-0.99, 0.99, 100)\n",
    "p = np.zeros(len(rho))\n",
    "for i, r in enumerate(rho):\n",
    "    p[i] = joint_exceedance(r)\n",
    "\n",
    "\n",
    "plt.plot(rho, p)\n",
    "plt.plot(0,\n",
    "         (1-stats.norm(loc=3, scale=1.0).cdf(4))*(1-stats.norm(loc=5, scale=1.6).cdf(6)),\n",
    "         'r', marker='o')\n",
    "plt.xlabel(r'$\\rho$')\n",
    "plt.ylabel('Joint exceedance probability')\n",
    "plt.xlim(-1, 1)\n",
    "plt.ylim(0, 1)\n",
    "plt.show()"
   ]
  }
 ],
 "metadata": {
  "kernelspec": {
   "display_name": "mude-week-8",
   "language": "python",
   "name": "python3"
  },
  "language_info": {
   "codemirror_mode": {
    "name": "ipython",
    "version": 3
   },
   "file_extension": ".py",
   "mimetype": "text/x-python",
   "name": "python",
   "nbconvert_exporter": "python",
   "pygments_lexer": "ipython3",
   "version": "3.12.7"
  }
 },
 "nbformat": 4,
 "nbformat_minor": 2
}
