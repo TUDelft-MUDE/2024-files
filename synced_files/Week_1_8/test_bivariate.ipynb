{
 "cells": [
  {
   "cell_type": "markdown",
   "metadata": {},
   "source": [
    "# Illustration `bivariate`\n",
    "\n"
   ]
  },
  {
   "cell_type": "code",
   "execution_count": null,
   "metadata": {},
   "outputs": [],
   "source": [
    "import bivariate\n",
    "\n",
    "import pandas as pd\n",
    "import numpy as np\n",
    "import matplotlib.pyplot as plt\n",
    "import pyvinecopulib as cop\n",
    "import scipy.stats as st"
   ]
  },
  {
   "cell_type": "code",
   "execution_count": null,
   "metadata": {},
   "outputs": [],
   "source": [
    "X_1 = st.norm(loc=3, scale=1)\n",
    "X_2 = st.norm(loc=5, scale=1)\n",
    "\n",
    "n = 10000\n",
    "\n",
    "X_1_samples = X_1.rvs(size=n)\n",
    "X_2_samples = X_2.rvs(size=n)\n",
    "\n",
    "X_combined_samples = np.array([X_1_samples, X_2_samples]).T\n",
    "\n",
    "X_class_A = bivariate.class_copula.Region_of_interest(\n",
    "                random_samples=X_combined_samples)\n",
    "\n",
    "X_class_A.plot_emperical_contours(bandwidth=4)\n",
    "\n",
    "def underwater(X1,X2):\n",
    "    Z_now = 10.0\n",
    "    function = (Z_now - X1 - X2 <= 0)\n",
    "    return function\n",
    "  \n",
    "X_class_A.function =  underwater\n",
    "X_class_A.inside_function()\n",
    "X_class_A.plot_inside_function();"
   ]
  },
  {
   "cell_type": "code",
   "execution_count": null,
   "metadata": {},
   "outputs": [],
   "source": [
    "# define multivariate normal distribution\n",
    "\n",
    "X = st.multivariate_normal(mean=[3, 5],\n",
    "                           cov=[[1, 0.5],\n",
    "                                [0.5, 1]])\n",
    "\n",
    "n = 10000\n",
    "X_samples = X.rvs(size=n)\n",
    "\n",
    "X_class_A = bivariate.class_copula.Region_of_interest(\n",
    "                random_samples=X_samples)\n",
    "\n",
    "X_class_A.plot_emperical_contours(bandwidth=4)\n",
    "\n",
    "def underwater(X1,X2):\n",
    "    Z_now = 10.0\n",
    "    function = (Z_now - X1 - X2 <= 0)\n",
    "    return function\n",
    "  \n",
    "X_class_A.function =  underwater\n",
    "X_class_A.inside_function()\n",
    "X_class_A.plot_inside_function();\n"
   ]
  },
  {
   "cell_type": "markdown",
   "metadata": {},
   "source": [
    "**End of notebook.**\n",
    "\n",
    "<div style=\"margin-top: 50px; padding-top: 20px; border-top: 1px solid #ccc;\">\n",
    "  <div style=\"display: flex; justify-content: flex-end; gap: 20px; align-items: center;\">\n",
    "    <a rel=\"MUDE\" href=\"http://mude.citg.tudelft.nl/\">\n",
    "      <img alt=\"MUDE\" style=\"width:100px; height:auto;\" src=\"https://gitlab.tudelft.nl/mude/public/-/raw/main/mude-logo/MUDE_Logo-small.png\" />\n",
    "    </a>\n",
    "    <a rel=\"TU Delft\" href=\"https://www.tudelft.nl/en/ceg\">\n",
    "      <img alt=\"TU Delft\" style=\"width:100px; height:auto;\" src=\"https://gitlab.tudelft.nl/mude/public/-/raw/main/tu-logo/TU_P1_full-color.png\" />\n",
    "    </a>\n",
    "    <a rel=\"license\" href=\"http://creativecommons.org/licenses/by/4.0/\">\n",
    "      <img alt=\"Creative Commons License\" style=\"width:88px; height:auto;\" src=\"https://i.creativecommons.org/l/by/4.0/88x31.png\" />\n",
    "    </a>\n",
    "  </div>\n",
    "  <div style=\"font-size: 75%; margin-top: 10px; text-align: right;\">\n",
    "    By <a rel=\"MUDE\" href=\"http://mude.citg.tudelft.nl/\">MUDE Team</a>\n",
    "    &copy; 2024 TU Delft. \n",
    "    <a rel=\"license\" href=\"http://creativecommons.org/licenses/by/4.0/\">CC BY 4.0</a>.\n",
    "    <a rel=\"Zenodo DOI\" href=\"https://doi.org/10.5281/zenodo.16782515\"><img style=\"width:auto; height:15; vertical-align:middle\" src=\"https://zenodo.org/badge/DOI/10.5281/zenodo.16782515.svg\" alt=\"DOI https://doi.org/10.5281/zenodo.16782515\"></a>\n",
    "  </div>\n",
    "</div>\n",
    "\n",
    "\n",
    "<!--tested with WS_2_8_solution.ipynb-->"
   ]
  }
 ],
 "metadata": {
  "language_info": {
   "name": "python"
  }
 },
 "nbformat": 4,
 "nbformat_minor": 2
}
