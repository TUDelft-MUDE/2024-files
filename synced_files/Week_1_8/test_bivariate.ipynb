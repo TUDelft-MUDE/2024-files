{
 "cells": [
  {
   "cell_type": "markdown",
   "metadata": {},
   "source": [
    "# Illustration `bivariate`\n",
    "\n"
   ]
  },
  {
   "cell_type": "code",
   "execution_count": null,
   "metadata": {},
   "outputs": [],
   "source": [
    "import bivariate\n",
    "\n",
    "import pandas as pd\n",
    "import numpy as np\n",
    "import matplotlib.pyplot as plt\n",
    "import pyvinecopulib as cop\n",
    "import scipy.stats as st"
   ]
  },
  {
   "cell_type": "code",
   "execution_count": null,
   "metadata": {},
   "outputs": [],
   "source": [
    "X_1 = st.norm(loc=3, scale=1)\n",
    "X_2 = st.norm(loc=5, scale=1)\n",
    "\n",
    "n = 10000\n",
    "\n",
    "X_1_samples = X_1.rvs(size=n)\n",
    "X_2_samples = X_2.rvs(size=n)\n",
    "\n",
    "X_combined_samples = np.array([X_1_samples, X_2_samples]).T\n",
    "\n",
    "X_class_A = bivariate.class_copula.Region_of_interest(\n",
    "                random_samples=X_combined_samples)\n",
    "\n",
    "X_class_A.plot_emperical_contours(bandwidth=4)\n",
    "\n",
    "def underwater(X1,X2):\n",
    "    Z_now = 10.0\n",
    "    function = (Z_now - X1 - X2 <= 0)\n",
    "    return function\n",
    "  \n",
    "X_class_A.function =  underwater\n",
    "X_class_A.inside_function()\n",
    "X_class_A.plot_inside_function();"
   ]
  },
  {
   "cell_type": "code",
   "execution_count": null,
   "metadata": {},
   "outputs": [],
   "source": [
    "# define multivariate normal distribution\n",
    "\n",
    "X = st.multivariate_normal(mean=[3, 5],\n",
    "                           cov=[[1, 0.5],\n",
    "                                [0.5, 1]])\n",
    "\n",
    "n = 10000\n",
    "X_samples = X.rvs(size=n)\n",
    "\n",
    "X_class_A = bivariate.class_copula.Region_of_interest(\n",
    "                random_samples=X_samples)\n",
    "\n",
    "X_class_A.plot_emperical_contours(bandwidth=4)\n",
    "\n",
    "def underwater(X1,X2):\n",
    "    Z_now = 10.0\n",
    "    function = (Z_now - X1 - X2 <= 0)\n",
    "    return function\n",
    "  \n",
    "X_class_A.function =  underwater\n",
    "X_class_A.inside_function()\n",
    "X_class_A.plot_inside_function();\n"
   ]
  }
 ],
 "metadata": {
  "kernelspec": {
   "display_name": "mude-week-8",
   "language": "python",
   "name": "python3"
  },
  "language_info": {
   "codemirror_mode": {
    "name": "ipython",
    "version": 3
   },
   "file_extension": ".py",
   "mimetype": "text/x-python",
   "name": "python",
   "nbconvert_exporter": "python",
   "pygments_lexer": "ipython3",
   "version": "3.12.7"
  }
 },
 "nbformat": 4,
 "nbformat_minor": 2
}
