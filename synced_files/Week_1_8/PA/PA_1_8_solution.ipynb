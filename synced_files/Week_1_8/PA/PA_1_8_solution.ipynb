{
 "cells": [
  {
   "cell_type": "markdown",
   "metadata": {},
   "source": [
    "# PA 1.8: Equations Done Symply\n",
    "\n",
    "<h1 style=\"position: absolute; display: flex; flex-grow: 0; flex-shrink: 0; flex-direction: row-reverse; top: 60px;right: 30px; margin: 0; border: 0\">\n",
    "    <style>\n",
    "        .markdown {width:100%; position: relative}\n",
    "        article { position: relative }\n",
    "    </style>\n",
    "    <img src=\"https://gitlab.tudelft.nl/mude/public/-/raw/main/tu-logo/TU_P1_full-color.png\" style=\"width:100px\" />\n",
    "    <img src=\"https://gitlab.tudelft.nl/mude/public/-/raw/main/mude-logo/MUDE_Logo-small.png\" style=\"width:100px\" />\n",
    "</h1>\n",
    "<h2 style=\"height: 10px\">\n",
    "</h2>\n",
    "\n",
    "*[CEGM1000 MUDE](http://mude.citg.tudelft.nl/): Week 1.8. Due: complete this PA prior to class on Friday, Oct 25, 2024.*"
   ]
  },
  {
   "cell_type": "markdown",
   "metadata": {},
   "source": [
    "This notebook should be completed _after_ you read the [book chapter on Sympy](https://mude.citg.tudelft.nl/2024/book/programming/week_1_8.html).\n",
    "\n",
    "The exercises in this notebook are directly from WS 1.7 and PA 1.7, to give you a very practical application for Sympy. See the [WS 1.7 solution here](https://mude.citg.tudelft.nl/2024/files/Week_1_7/WS_1_7_solution/) for reference."
   ]
  },
  {
   "cell_type": "code",
   "execution_count": null,
   "metadata": {},
   "outputs": [],
   "source": [
    "import sympy as sym"
   ]
  },
  {
   "cell_type": "markdown",
   "metadata": {},
   "source": [
    "<div style=\"background-color:#AABAB2; color: black; width:95%; vertical-align: middle; padding:15px; margin: 10px; border-radius: 10px\">\n",
    "<p>\n",
    "<b>Task 1:</b>   \n",
    "\n",
    "Fill in the missing pieces of code to get Sympy to reproduce the equations and analyses required from WS 1.7. The comments in the code provide explicit instructions.\n",
    "\n",
    "</p>\n",
    "</div>"
   ]
  },
  {
   "cell_type": "code",
   "execution_count": null,
   "metadata": {},
   "outputs": [],
   "source": [
    "# Define the Gumbel distribution using SymPy\n",
    "\n",
    "x, beta, mu = sym.symbols('x beta mu')\n",
    "#F_gumbel = YOUR CODE HERE\n",
    "\n",
    "# solution\n",
    "F_gumbel = sym.exp(-sym.exp(-(x-mu)/beta))\n",
    "display(F_gumbel)"
   ]
  },
  {
   "cell_type": "code",
   "execution_count": null,
   "metadata": {},
   "outputs": [],
   "source": [
    "# Invert the Gumbel distribution using SymPy to find x ~ non-exceedence probability, beta, mu as done in the workshop by hand\n",
    "Prob_non_exc = sym.symbols('Prob_non_exc')\n",
    "#YOUR CODE HERE\n",
    "#x_sol = YOUR CODE HERE\n",
    "\n",
    "# solution\n",
    "Prob_non_exc = sym.symbols('Prob_non_exc')\n",
    "eq1 = sym.Eq(Prob_non_exc,F_gumbel)\n",
    "display(eq1)\n",
    "x_sol = sym.solve(eq1, x)[0]\n",
    "\n",
    "display(x_sol)"
   ]
  },
  {
   "cell_type": "code",
   "execution_count": null,
   "metadata": {},
   "outputs": [],
   "source": [
    "# Evaluate your inverted Gumbel distribution using SymPy for the min, 0.25, 0.5, 0.75 and max non-exceedence probabilities as done in the workshop by hand\n",
    "# You should find:\n",
    "#3.353\n",
    "#23.89\n",
    "#32.97\n",
    "#44.48\n",
    "#115.3\n",
    "\n",
    "Prob_non_exc_list = [1/773, 0.25, 0.5, 0.75, 772/773]\n",
    "for i in range(len(Prob_non_exc_list)):\n",
    "    display(x_sol.subs({beta:13.097, mu:28.167, Prob_non_exc:Prob_non_exc_list[i]}))"
   ]
  },
  {
   "cell_type": "code",
   "execution_count": null,
   "metadata": {},
   "outputs": [],
   "source": [
    "# Use SymPy to find the probability density function of the Gumbel distribution, is it equal to the function you found in the book?\n",
    "#f_gumbel = YOUR CODE HERE\n",
    "\n",
    "# solution\n",
    "f_gumbel = sym.diff(F_gumbel, x)\n",
    "display(f_gumbel)"
   ]
  },
  {
   "cell_type": "markdown",
   "metadata": {},
   "source": [
    "<div style=\"background-color:#AABAB2; color: black; width:95%; vertical-align: middle; padding:15px; margin: 10px; border-radius: 10px\">\n",
    "<p>\n",
    "<b>Task 2:</b>   \n",
    "\n",
    "Fill in the missing pieces of code to get Sympy to reproduce the equations and analyses required from PA 1.7.\n",
    "\n",
    "</p>\n",
    "</div>"
   ]
  },
  {
   "cell_type": "markdown",
   "metadata": {},
   "source": [
    "Define the Piecewise equation from PA 1.7 in SymPy (hint, see https://docs.sympy.org/latest/modules/functions/elementary.html#piecewise)\n",
    "\n",
    "$$\\begin{equation}\n",
    "f(x)=\n",
    "    \\begin{cases}\n",
    "        0.1 & \\text{if } 0 < x < 3.6 \\\\\n",
    "        2(x-5) &  5 < x < 5.8 \\\\\n",
    "        0 & \\text{elsewhere}\n",
    "    \\end{cases}\n",
    "\\end{equation}$$\n",
    "\n",
    "Use the provided function to plot it for $-1<x<6$"
   ]
  },
  {
   "cell_type": "code",
   "execution_count": null,
   "metadata": {},
   "outputs": [],
   "source": [
    "#f = YOUR CODE HERE\n",
    "#sym.plot(f,(x,-1,6));\n",
    "\n",
    "#solution\n",
    "f = sym.Piecewise((0, x< 0), (0.1 , x < 3.6), (0, x < 5), (2*(x-5),x<5.8), (0, True))\n",
    "sym.plot(f, (x,-1,6));"
   ]
  },
  {
   "cell_type": "code",
   "execution_count": null,
   "metadata": {},
   "outputs": [],
   "source": [
    "# Integrate the piecewise probability density function to find the cumulative distribution function as done numerically in PA1.7\n",
    "x = sym.symbols('x')\n",
    "#F = YOUR CODE HERE\n",
    "#sym.plot(F, (x,-1,6));\n",
    "\n",
    "# solution\n",
    "F = sym.integrate(f, (x,-sym.oo,x))\n",
    "#or\n",
    "#F = sym.integrate(f,x)\n",
    "display(F)\n",
    "display(F.rewrite(sym.Piecewise).simplify())\n",
    "sym.plot(F, (x,-1,6));"
   ]
  },
  {
   "cell_type": "markdown",
   "metadata": {},
   "source": [
    "This cell will check your work to make sure you have completed the assignment properly."
   ]
  },
  {
   "cell_type": "markdown",
   "metadata": {},
   "source": [
    "<div style=\"background-color:#AABAB2; color: black; width:95%; vertical-align: middle; padding:15px; margin: 10px; border-radius: 10px\">\n",
    "<p>\n",
    "<b>Task 3:</b>   \n",
    "\n",
    "Run the cell below to check your work, but don't change anything. If the cell runs without error, you will pass the assignment once you commit it and push it to GitHub.\n",
    "\n",
    "</p>\n",
    "</div>"
   ]
  },
  {
   "cell_type": "code",
   "execution_count": null,
   "metadata": {},
   "outputs": [],
   "source": [
    "import numpy as np\n",
    "assert sym.simplify(F_gumbel - sym.exp(-sym.exp((mu - x)/beta))) == 0 , 'Error: Gumbel distribution is not correct'\n",
    "assert sym.simplify(x_sol + beta*sym.log(sym.exp(-mu/beta)*sym.log(1/Prob_non_exc))) == 0, 'Error: inverted Gumbel distribution is not correct'\n",
    "assert sym.simplify(f_gumbel - sym.exp(-((x-mu)/beta+sym.exp(-(x-mu)/beta)))/beta) == 0, 'Error: probability densily function is not correct'\n",
    "assert np.allclose(np.array([0.        , 0.        , 0.05555556, 0.13333333, 0.21111111,       0.28888889, 0.36      , 0.36      , 0.40938272, 1.        ]), sym.lambdify(x, F.rewrite(sym.Piecewise).simplify())(np.linspace(-1,6,10))), 'Error: Piecewise cumulative distribution function is not correct'"
   ]
  },
  {
   "cell_type": "markdown",
   "metadata": {},
   "source": [
    "**End of notebook.**\n",
    "\n",
    "<div style=\"margin-top: 50px; padding-top: 20px; border-top: 1px solid #ccc;\">\n",
    "  <div style=\"display: flex; justify-content: flex-end; gap: 20px; align-items: center;\">\n",
    "    <a rel=\"MUDE\" href=\"http://mude.citg.tudelft.nl/\">\n",
    "      <img alt=\"MUDE\" style=\"width:100px; height:auto;\" src=\"https://gitlab.tudelft.nl/mude/public/-/raw/main/mude-logo/MUDE_Logo-small.png\" />\n",
    "    </a>\n",
    "    <a rel=\"TU Delft\" href=\"https://www.tudelft.nl/en/ceg\">\n",
    "      <img alt=\"TU Delft\" style=\"width:100px; height:auto;\" src=\"https://gitlab.tudelft.nl/mude/public/-/raw/main/tu-logo/TU_P1_full-color.png\" />\n",
    "    </a>\n",
    "    <a rel=\"license\" href=\"http://creativecommons.org/licenses/by/4.0/\">\n",
    "      <img alt=\"Creative Commons License\" style=\"width:88px; height:auto;\" src=\"https://i.creativecommons.org/l/by/4.0/88x31.png\" />\n",
    "    </a>\n",
    "  </div>\n",
    "  <div style=\"font-size: 75%; margin-top: 10px; text-align: right;\">\n",
    "    By <a rel=\"MUDE\" href=\"http://mude.citg.tudelft.nl/\">MUDE Team</a>\n",
    "    &copy; 2024 TU Delft. \n",
    "    <a rel=\"license\" href=\"http://creativecommons.org/licenses/by/4.0/\">CC BY 4.0</a>.\n",
    "    <a rel=\"Zenodo DOI\" href=\"https://doi.org/10.5281/zenodo.16782515\"><img style=\"width:auto; height:15; vertical-align:middle\" src=\"https://zenodo.org/badge/DOI/10.5281/zenodo.16782515.svg\" alt=\"DOI https://doi.org/10.5281/zenodo.16782515\"></a>\n",
    "  </div>\n",
    "</div>\n",
    "\n",
    "\n",
    "<!--tested with WS_2_8_solution.ipynb-->"
   ]
  }
 ],
 "metadata": {
  "language_info": {
   "name": "python"
  }
 },
 "nbformat": 4,
 "nbformat_minor": 2
}
