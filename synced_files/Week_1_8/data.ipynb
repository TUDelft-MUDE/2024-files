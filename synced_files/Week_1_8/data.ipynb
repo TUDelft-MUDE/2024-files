{
 "cells": [
  {
   "cell_type": "code",
   "execution_count": null,
   "metadata": {},
   "outputs": [],
   "source": [
    "import numpy as np\n",
    "from scipy import stats\n",
    "import pyvinecopulib as pv\n",
    "import matplotlib.pyplot as plt\n",
    "import matplotlib\n"
   ]
  },
  {
   "cell_type": "code",
   "execution_count": null,
   "metadata": {},
   "outputs": [],
   "source": [
    "data = np.array([[2.1, 2.6, 4.3, 3.8, 2.5, 4.7, 1.4, 1.9, 3.6, 3.1],\n",
    "                 [5.1, 3.2, 7.2, 4.8, 6.5, 4.1, 2.4, 6.2, 6.9, 3.6]])\n"
   ]
  },
  {
   "cell_type": "code",
   "execution_count": null,
   "metadata": {},
   "outputs": [],
   "source": [
    "\n",
    "labels = ['Settlement, $D$ [m]',\n",
    "          'Sea Level Rise, $S$ [m]',\n",
    "          'Observations of Coral Atolls']\n",
    "\n",
    "# plot data\n",
    "plt.scatter(data[0], data[1])\n",
    "plt.xlabel(labels[0])\n",
    "plt.ylabel(labels[1])\n",
    "plt.title(labels[2])\n",
    "plt.xlim(0, 10)\n",
    "plt.ylim(0, 10)\n",
    "plt.xticks(np.arange(0, 11, 2))\n",
    "plt.yticks(np.arange(0, 11, 2))\n",
    "plt.grid(True)\n",
    "plt.gca().set_aspect('equal', adjustable='box')\n",
    "# plt.savefig('coral_atolls_data.svg')\n",
    "plt.show()"
   ]
  },
  {
   "cell_type": "code",
   "execution_count": null,
   "metadata": {},
   "outputs": [],
   "source": [
    "threshold = [4, 6]\n",
    "mask = [(data[0]>threshold[0]) & (data[1]>threshold[1])]\n",
    "\n",
    "plt.scatter(data[0], data[1], c='k', label='Data')\n",
    "plt.scatter(data[0][mask[0]], data[1][mask[0]], c='r', marker='s', label='Exceedances')\n",
    "plt.vlines(threshold[0], 0, 10, colors='k', linestyles='dashed')\n",
    "plt.hlines(threshold[1], 0, 10, colors='k', linestyles='dashed')\n",
    "plt.xlabel(labels[0])\n",
    "plt.ylabel(labels[1])\n",
    "plt.title(labels[2])\n",
    "plt.xlim(0, 10)\n",
    "plt.ylim(0, 10)\n",
    "plt.xticks(np.arange(0, 11, 2))\n",
    "plt.yticks(np.arange(0, 11, 2))\n",
    "plt.grid(True)\n",
    "plt.gca().set_aspect('equal', adjustable='box')\n",
    "# plt.savefig('coral_atolls_data_threshold.svg')\n",
    "plt.show()"
   ]
  },
  {
   "cell_type": "code",
   "execution_count": null,
   "metadata": {},
   "outputs": [],
   "source": [
    "x_part = data[0] - data[0].mean()\n",
    "y_part = data[1] - data[1].mean()\n",
    "x_y_parts = x_part*y_part\n",
    "print(x_part, '\\n', y_part)\n",
    "print(x_y_parts)\n",
    "cov = np.sum(x_y_parts)/len(x_part)\n",
    "print(cov)\n",
    "print(np.cov(data[0], data[1]))\n",
    "print(cov*10/9)"
   ]
  },
  {
   "cell_type": "code",
   "execution_count": null,
   "metadata": {},
   "outputs": [],
   "source": [
    "print(data.mean(axis=1))\n",
    "print(data.std(axis=1))\n",
    "r = np.corrcoef(data)\n",
    "print(r)\n",
    "cov = np.cov(data)\n",
    "print(cov)\n",
    "print(stats.pearsonr(data[0], data[1])[0])"
   ]
  },
  {
   "cell_type": "code",
   "execution_count": null,
   "metadata": {},
   "outputs": [],
   "source": [
    "D = data[0]\n",
    "S = data[1]\n",
    "Z = 10 - D - S\n",
    "print(Z.mean())\n",
    "print(Z.std())"
   ]
  },
  {
   "cell_type": "code",
   "execution_count": null,
   "metadata": {},
   "outputs": [],
   "source": [
    "print(2/1.9)\n",
    "stats.norm.cdf(0, loc=2, scale=1.9)"
   ]
  },
  {
   "cell_type": "code",
   "execution_count": null,
   "metadata": {},
   "outputs": [],
   "source": [
    "threshold = 0\n",
    "mask = [Z<threshold]\n",
    "print(mask)\n",
    "plt.scatter(data[0], data[1], c='k', label='Data')\n",
    "plt.scatter(data[0][mask[0]], data[1][mask[0]], c='r', marker='s', label='Exceedances')\n",
    "plt.plot([10, 0], [0, 10], 'k--', label='Z = 0')\n",
    "plt.xlabel(labels[0])\n",
    "plt.ylabel(labels[1])\n",
    "plt.title(labels[2])\n",
    "plt.xlim(0, 10)\n",
    "plt.ylim(0, 10)\n",
    "plt.xticks(np.arange(0, 11, 2))\n",
    "plt.yticks(np.arange(0, 11, 2))\n",
    "plt.grid(True)\n",
    "plt.gca().set_aspect('equal', adjustable='box')\n",
    "# plt.savefig('coral_atolls_data_function.svg')\n",
    "plt.show()"
   ]
  },
  {
   "cell_type": "code",
   "execution_count": null,
   "metadata": {},
   "outputs": [],
   "source": []
  },
  {
   "cell_type": "markdown",
   "metadata": {},
   "source": [
    "**End of notebook.**\n",
    "\n",
    "<div style=\"margin-top: 50px; padding-top: 20px; border-top: 1px solid #ccc;\">\n",
    "  <div style=\"display: flex; justify-content: flex-end; gap: 20px; align-items: center;\">\n",
    "    <a rel=\"MUDE\" href=\"http://mude.citg.tudelft.nl/\">\n",
    "      <img alt=\"MUDE\" style=\"width:100px; height:auto;\" src=\"https://gitlab.tudelft.nl/mude/public/-/raw/main/mude-logo/MUDE_Logo-small.png\" />\n",
    "    </a>\n",
    "    <a rel=\"TU Delft\" href=\"https://www.tudelft.nl/en/ceg\">\n",
    "      <img alt=\"TU Delft\" style=\"width:100px; height:auto;\" src=\"https://gitlab.tudelft.nl/mude/public/-/raw/main/tu-logo/TU_P1_full-color.png\" />\n",
    "    </a>\n",
    "    <a rel=\"license\" href=\"http://creativecommons.org/licenses/by/4.0/\">\n",
    "      <img alt=\"Creative Commons License\" style=\"width:88px; height:auto;\" src=\"https://i.creativecommons.org/l/by/4.0/88x31.png\" />\n",
    "    </a>\n",
    "  </div>\n",
    "  <div style=\"font-size: 75%; margin-top: 10px; text-align: right;\">\n",
    "    &copy; Copyright 2024 <a rel=\"MUDE\" href=\"http://mude.citg.tudelft.nl/\">MUDE</a> TU Delft. \n",
    "    This work is licensed under a <a rel=\"license\" href=\"http://creativecommons.org/licenses/by/4.0/\">CC BY 4.0 License</a>.\n",
    "  </div>\n",
    "</div>\n",
    "\n",
    "\n",
    "<!--tested with WS_2_8_solution.ipynb-->"
   ]
  }
 ],
 "metadata": {
  "language_info": {
   "name": "python"
  }
 },
 "nbformat": 4,
 "nbformat_minor": 2
}
