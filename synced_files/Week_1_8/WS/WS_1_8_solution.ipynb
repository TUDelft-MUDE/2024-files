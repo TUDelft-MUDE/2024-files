{
 "cells": [
  {
   "cell_type": "markdown",
   "id": "bd552c66",
   "metadata": {
    "id": "9adbf457-797f-45b7-8f8b-0e46e0e2f5ff"
   },
   "source": [
    "# WS 1.8: The Thingamajig!\n",
    "\n",
    "<h1 style=\"position: absolute; display: flex; flex-grow: 0; flex-shrink: 0; flex-direction: row-reverse; top: 60px;right: 30px; margin: 0; border: 0\">\n",
    "    <style>\n",
    "        .markdown {width:100%; position: relative}\n",
    "        article { position: relative }\n",
    "    </style>\n",
    "    <img src=\"https://gitlab.tudelft.nl/mude/public/-/raw/main/tu-logo/TU_P1_full-color.png\" style=\"width:100px\" />\n",
    "    <img src=\"https://gitlab.tudelft.nl/mude/public/-/raw/main/mude-logo/MUDE_Logo-small.png\" style=\"width:100px\" />\n",
    "</h1>\n",
    "<h2 style=\"height: 10px\">\n",
    "</h2>\n",
    "\n",
    "*[CEGM1000 MUDE](http://mude.citg.tudelft.nl/): Week 1.8. For: 23 October, 2024.*"
   ]
  },
  {
   "cell_type": "markdown",
   "id": "d11bed21",
   "metadata": {},
   "source": [
    "## Objective\n",
    "\n",
    "This workshop focuses fundamental skills for building, using and understanding multivariate distributions: in particular when our variables are no longer statistically independent.\n",
    "\n",
    "For our case study we will use a Thingamajig: an imaginary object for which we have limited information. One thing we _do_ know, however, is that it is very much influenced by two random variables, $X_1$ and $X_2$: high values for these variables can cause the Thingamajig to fail. We will use a multivariate probability distribution to compute the probability of interest under various _cases_ (we aren't sure which one is relevant, so we consider them all!). We will also use a comparison of distributions drawn from our multivariate probability model with the empirical distributions to validate the model.\n",
    "\n",
    "### Multivariate Distribution\n",
    "\n",
    "In this assignment we will build a multivariate distribution, which is defined by a probability density function. From now on, we will call it _bivariate_, since there are only two random variables:\n",
    "\n",
    "$$\n",
    "f_{X_1,X_2}(x_1,x_2)\n",
    "$$\n",
    "\n",
    "This distribution is implemented in `scipy.stats.multivariate_normal`. The bivariate normal distribution is defined by 5 parameters: the parameters of the Gaussian distribution for $X_1$ and $X_2$, as well as the correlation coefficient between them, $\\rho_{X_1,X_2}$. In this case we often refer to $X_1$ and $X_2$ as the marginal variables (univariate) and the bivariate distribution as the joint distribution. We will use the bivariate PDF to create contour plots of probability density, as well as the CDF to evaluate probabilities of different cases:\n",
    "\n",
    "$$\n",
    "F_{X_1,X_2}(x_1,x_2)\n",
    "$$\n",
    "\n",
    "\n",
    "### Cases\n",
    "\n",
    "We will consider three different cases and see how the probability of interest is different for each, as well as how they are influenced by the dependence structure of the data. The cases are described here; although they vary slightly, they have something in common: _they are all integrals of the bivariate PDF over some domain of interest $\\Omega$._\n",
    "\n",
    "\n",
    "#### Case 1: Union (OR)\n",
    "\n",
    "The union case is relevant if the Thingamajig fails when either or both random variable exceeds a specified value:\n",
    "\n",
    "$$\n",
    "P[X_1>x_1 \\;\\cup\\; X_2>x_2]\n",
    "$$\n",
    "\n",
    "This is also called the \"OR\" probability because it considers either one variable _or_ the other _or_ both exceeding a specified value.\n",
    "\n",
    "#### Case 2: Intersection (AND)\n",
    "\n",
    "The intersection case is relevant if the Thingamajig fails when the specified interval for each random variable are exceeded together:\n",
    "\n",
    "$$\n",
    "P[X_1>x_1 \\;\\cap\\; X_2>x_2]\n",
    "$$\n",
    "\n",
    "This is also called the \"AND\" probability because it considers _both_ variables exceeding a specified value.\n",
    "\n",
    "#### Case 3: Function of Random Variables \n",
    "\n",
    "Often it is not possible to describe a region of interest $\\Omega$ as a simple union or intersection probability. Instead, there are many combinations of $X_1$ and $X_2$ that define $\\Omega$. If we can integrate the probability density function over this region we can evaluate the probability.\n",
    "\n",
    "Luckily, it turns out there is some extra information about the Thingamajig: a function that describes some aspect of its behavior that we are very very interested in:\n",
    "\n",
    "$$\n",
    "Z(X_{1},X_{2}) = 800 - X_{1}^2 - 20X_{2}\n",
    "$$\n",
    "\n",
    "where the condition in which we are interested occurs when $Z(X_{1},X_{2})<0$. Thus, the probability of interest is:\n",
    "\n",
    "$$\n",
    "P[X_1,X_2:\\; Z<0]\n",
    "$$\n",
    "\n",
    "#### Evaluating Probabilities in Task 2\n",
    "\n",
    "Cases 1 and 2 can be evaluated with the bivariate cdf directly because the integral bounds are relatively simple (be aware that some arithmetic and thinking is required, it's not so simple as `multivariate.cdf()`).\n",
    "\n",
    "Case 3 is not easy to evaluate because it must be integrated over a complicated region. Instead, we will approximate the integral numerically using _Monte Carlo simulation_ (MCS). This is also how we will evaluate the distribution of the function of random variables in Task 3. Remember, there are four essential steps to MCS:\n",
    "\n",
    "1. Define distributions for random variables (probability density over a domain)  \n",
    "2. Generate random samples  \n",
    "3. Do something with the samples (deterministic calculation)  \n",
    "4. Evaluate the results: e.g., “empirical” PDF, CDF of samples, etc.\n",
    "\n",
    "_Note that as we now have a multivariate distribution we can no longer sample from the univariate distributions independently!_\n",
    "\n",
    "### Validating the Bivariate Distribution in Task 3\n",
    "\n",
    "The final task of this assignment is to use the distribution of the function of random variables (univariate) to validate the bivariate distribution, by comparing the empirical distribution to our model. Once the sample is generated, it involves the same goodness of fit tools that we used last week.\n"
   ]
  },
  {
   "cell_type": "markdown",
   "id": "cb79bcb8",
   "metadata": {},
   "source": [
    "<div style=\"background-color:#FAE99E; color: black; width: 95%; vertical-align: middle; padding:15px; margin: 10px; border-radius: 10px\">\n",
    "<p>\n",
    "The cell below allows you to edit the contents of helper and incorporate the changes in the notebook without restarting the kernel.\n",
    "</p>\n",
    "</div>"
   ]
  },
  {
   "cell_type": "code",
   "execution_count": null,
   "id": "c7b6fd6c",
   "metadata": {},
   "outputs": [],
   "source": [
    "%load_ext autoreload\n",
    "%autoreload 2"
   ]
  },
  {
   "cell_type": "code",
   "execution_count": null,
   "id": "f521fd6d",
   "metadata": {},
   "outputs": [],
   "source": [
    "import numpy as np\n",
    "import matplotlib.pyplot as plt\n",
    "import scipy.stats as st\n",
    "\n",
    "from helper import plot_contour"
   ]
  },
  {
   "cell_type": "markdown",
   "id": "1ed24200",
   "metadata": {
    "tags": []
   },
   "source": [
    "## Part 1: Creating a Bivariate Distribution\n",
    "\n",
    "We need to represent our two dependent random variables with a bivariate distribution; a simple model is the bivariate Gaussian distribution, which is readily available via `scipy.stats.multivariate_normal`. To use it in this case study, we first need to check that the marginal distributions are each Gaussian, as well as compute the covariance and correlation coefficient."
   ]
  },
  {
   "cell_type": "markdown",
   "id": "676bb23f",
   "metadata": {},
   "source": [
    "<div style=\"background-color:#AABAB2; color: black; width: 95%; vertical-align: middle; padding:15px; margin: 10px; border-radius: 10px\">\n",
    "<p>\n",
    "<b>Task 1.1:</b>   \n",
    "Import the data in <code>data.csv</code>, then find the parameters of a normal distribution to fit to the data for each marginal. <em>Quickly</em> check the goodness of fit and state whether you think it is an appropriate distribution (we will keep using it anyway, regardless of the answer).\n",
    "<p>\n",
    "<em>Don't spend more than a few minutes on this, you should be able to quickly use some of your code from last week.</em>\n",
    "</p>\n",
    "</p>\n",
    "</div>"
   ]
  },
  {
   "cell_type": "code",
   "execution_count": null,
   "id": "26c2a2b4",
   "metadata": {},
   "outputs": [],
   "source": [
    "data = np.genfromtxt('data.csv', delimiter=\";\")\n",
    "data.shape"
   ]
  },
  {
   "cell_type": "code",
   "execution_count": null,
   "id": "c9016e6b",
   "metadata": {},
   "outputs": [],
   "source": [
    "# YOUR_CODE_HERE # probably many lines\n",
    "\n",
    "# SOLUTION\n",
    "data_x1 = np.array(data[:,0])\n",
    "data_x2 = np.array(data[:,1])\n",
    "\n",
    "X1 = st.norm(data_x1.mean(), data_x1.std())\n",
    "X2 = st.norm(data_x2.mean(), data_x2.std())\n",
    "print(data_x1.mean(), data_x1.std())\n",
    "print(data_x2.mean(), data_x2.std())"
   ]
  },
  {
   "cell_type": "markdown",
   "id": "71ae1198",
   "metadata": {},
   "source": [
    "<div style=\"background-color:#FAE99E; color: black; width: 95%; vertical-align: middle; padding:15px; margin: 10px; border-radius: 10px\">\n",
    "<p>\n",
    "<b>Solution:</b>   \n",
    "In addition to the code above, you should use some of the techniques from WS 1.7 and GA 1.7 to confirm that the marginal distributions are well-approximated by a normal distribution.\n",
    "</p>\n",
    "</div>"
   ]
  },
  {
   "cell_type": "markdown",
   "id": "20b36cf9",
   "metadata": {},
   "source": [
    "<div style=\"background-color:#AABAB2; color: black; width: 95%; vertical-align: middle; padding:15px; margin: 10px; border-radius: 10px\">\n",
    "<p>\n",
    "<b>Task 1.2:</b>   \n",
    "Write two functions to compute the covariance and correlation coefficient between the two random variables. Print the results.\n",
    "\n",
    "<b>The input arguments should be Numpy arrays and you should calculate each value without using a pre-existing Python package or method.</b>\n",
    "</p>\n",
    "</div>"
   ]
  },
  {
   "cell_type": "code",
   "execution_count": null,
   "id": "f49ff579",
   "metadata": {},
   "outputs": [],
   "source": [
    "# def calculate_covariance(X1, X2):\n",
    "#     '''\n",
    "#     Covariance of two random variables X1 and X2 (numpy arrays).\n",
    "#     '''\n",
    "#     YOUR_CODE_HERE # may be more than one line\n",
    "#     return covariance\n",
    "\n",
    "# def pearson_correlation(X1, X2):\n",
    "#     YOUR_CODE_HERE # may be more than one line\n",
    "#     return correl_coeff\n",
    "\n",
    "# SOLUTION\n",
    "def calculate_covariance(X1, X2):\n",
    "    '''\n",
    "    Covariance of two random variables X1 and X2 (numpy arrays).\n",
    "    '''\n",
    "    mean_x1 = X1.mean()\n",
    "    mean_x2 = X2.mean()\n",
    "    diff_x1 = X1 - mean_x1\n",
    "    diff_x2 = X2 - mean_x2\n",
    "    product = diff_x1 * diff_x2\n",
    "    covariance = product.mean()\n",
    "    return covariance\n",
    "\n",
    "def pearson_correlation(X1, X2):\n",
    "    covariance = calculate_covariance(X1, X2)\n",
    "    correl_coeff = covariance/(X1.std()*X2.std())\n",
    "    return correl_coeff"
   ]
  },
  {
   "cell_type": "code",
   "execution_count": null,
   "id": "f96119d0",
   "metadata": {},
   "outputs": [],
   "source": [
    "covariance = calculate_covariance(data_x1, data_x2)\n",
    "print(f'The covariance of X1 and X2 is {covariance:.5f}')\n",
    "correl_coeff = pearson_correlation(data_x1, data_x2)\n",
    "print(f'The correlation coefficient of X1 and X2 is {correl_coeff:.5f}')"
   ]
  },
  {
   "cell_type": "markdown",
   "id": "e4508f2c",
   "metadata": {},
   "source": [
    "<div style=\"background-color:#AABAB2; color: black; width: 95%; vertical-align: middle; padding:15px; margin: 10px; border-radius: 10px\">\n",
    "<p>\n",
    "<b>Task 1.3:</b>   \n",
    "Build the bivariate distribution using <code>scipy.stats.multivariate_normal</code> (as well as the mean vector and covariance matrix). To validate the result, create a plot that shows contours of the joint PDF, compared with the data (see note below). Comment on the quality of the fit in 2-3 sentences or bullet points.\n",
    "</p>\n",
    "</div>"
   ]
  },
  {
   "cell_type": "markdown",
   "id": "e77b281d",
   "metadata": {
    "id": "0491cc69"
   },
   "source": [
    "<div style=\"background-color:#facb8e; color: black; width: 95%; vertical-align: middle; padding:15px; margin: 10px; border-radius: 10px\"> <p>Use the helper function <code>plot_contour</code> in <code>helper.py</code>; it was already imported above. Either look in the file to read it, or view the documentation in the notebook with <code>plot_contour?</code></p>\n",
    "\n",
    "<p><em>Hint: for this Task use the optional </em><code>data</code><em> argument!.</em></p></div>"
   ]
  },
  {
   "cell_type": "code",
   "execution_count": null,
   "id": "880956a2",
   "metadata": {},
   "outputs": [],
   "source": [
    "# plot_contour? # uncomment and run to read docstring"
   ]
  },
  {
   "cell_type": "code",
   "execution_count": null,
   "id": "8a6fd6fd",
   "metadata": {},
   "outputs": [],
   "source": [
    "# mean_vector = YOUR_CODE_HERE\n",
    "# cov_matrix = YOUR_CODE_HERE\n",
    "# bivar_dist = YOUR_CODE_HERE\n",
    "\n",
    "# SOLUTION\n",
    "mean_vector = [data_x1.mean(), data_x2.mean()]\n",
    "cov_matrix = [[data_x1.std()**2, covariance],\n",
    "              [covariance, data_x2.std()**2]]\n",
    "bivar_dist = st.multivariate_normal(mean_vector, cov_matrix)"
   ]
  },
  {
   "cell_type": "code",
   "execution_count": null,
   "id": "99aa57f9",
   "metadata": {},
   "outputs": [],
   "source": [
    "print(mean_vector, cov_matrix)"
   ]
  },
  {
   "cell_type": "markdown",
   "id": "0b66397d",
   "metadata": {},
   "source": [
    "<div style=\"background-color:#facb8e; color: black; width: 95%; vertical-align: middle; padding:15px; margin: 10px; border-radius: 10px\"> <p>The next cell illustrates how one could fit the multivariate Gaussian distribution using scipy.stats and MLE. Look at the resulting mean vector and covariance matrix...cool, the Gaussian distribution is the same regardless of whether you use the MLE or method of moments!\n",
    "\n",
    "<em>Note: this is not true for all multivariate distributions; the multivariate Gaussian is a special case.</em></p></div>"
   ]
  },
  {
   "cell_type": "code",
   "execution_count": null,
   "id": "d8d8579c",
   "metadata": {},
   "outputs": [],
   "source": [
    "bivar_dist2 = st.multivariate_normal.fit(np.array([data_x1, data_x2]).T)\n",
    "print(bivar_dist2)"
   ]
  },
  {
   "cell_type": "code",
   "execution_count": null,
   "id": "fe409615",
   "metadata": {},
   "outputs": [],
   "source": [
    "# plot_contour(YOUR_CODE_HERE, [0, 30, 0, 30], data=YOUR_CODE_HERE);\n",
    "\n",
    "# SOLUTION\n",
    "plot_contour(bivar_dist, [0, 30, 0, 30], data=data);"
   ]
  },
  {
   "cell_type": "markdown",
   "id": "33ebb59e",
   "metadata": {},
   "source": [
    "<div style=\"background-color:#FAE99E; color: black; width: 95%; vertical-align: middle; padding:15px; margin: 10px; border-radius: 10px\">\n",
    "<p>\n",
    "<b>Solution:</b>   \n",
    "Overall the fit looks good:\n",
    "<ol>\n",
    "    <li>Most points are captured within the contours</li>\n",
    "    <li>Highest density of points is near the center of the contours (mode)</li>\n",
    "    <li>Diagonal trend (positive correlation!) is captured well</li>\n",
    "    <li>There are a few clusters of points that \"stick out\" from the contours, especially in the upper right</li>\n",
    "</ol>\n",
    "\n",
    "</p>\n",
    "</div>"
   ]
  },
  {
   "cell_type": "markdown",
   "id": "8bbd6b6a",
   "metadata": {},
   "source": [
    "## Part 2: Using the Bivariate Distribution\n",
    "\n",
    "Now that we have the distribution, we will use it compute probabilities related to the three cases, presented above, as follows:\n",
    "\n",
    "1. $P[X_1>20 \\;\\cup\\; X_2>20]$\n",
    "2. $P[X_1>20 \\;\\cap\\; X_2>20]$\n",
    "3. $P[X_1,X_2:\\; Z<0]$"
   ]
  },
  {
   "cell_type": "markdown",
   "id": "fc7e1e1a",
   "metadata": {},
   "source": [
    "<div style=\"background-color:#AABAB2; color: black; width: 95%; vertical-align: middle; padding:15px; margin: 10px; border-radius: 10px\">\n",
    "<p>\n",
    "<b>Task 2:</b>\n",
    "    \n",
    "For each of the three cases, do the following:\n",
    "\n",
    "- Compute the requested probability using the empirical distribution.\n",
    "- Compute the requested probability using the bivariate distribution.\n",
    "- Create a bivariate plot that includes PDF contours <em>and</em> the region of interest.\n",
    "- Repeat the calculations for additional cases of correlation coefficient (for example change $\\rho$ to: +0.9, 0.0, then -0.9) to see how the answer changes (you can simply regenerate the plot, you don't need to make multiple versions). <em>You can save this sub-task for later if you are running out of time. It is more important to get through Task 3 during the in-class session.</em>\n",
    "- Write two or three sentences that summarize the results and explains the quantitative impact of correlation coefficient. Make a particular note about whether or not one case may or be affected more or less than the others.\n",
    "\n",
    "</p>\n",
    "</div>"
   ]
  },
  {
   "cell_type": "markdown",
   "id": "a070b1e6",
   "metadata": {
    "id": "0491cc69"
   },
   "source": [
    "<div style=\"background-color:#facb8e; color: black; width: 95%; vertical-align: middle; padding:15px; margin: 10px; border-radius: 10px\"> <p>Note that the optional arguments in the helper function <code>plot_contour</code> will be useful here--<b>also for the Project on Friday!</b>\n",
    "\n",
    "Here is an example code that shows you what it can do (the values are meaningless)\n",
    "</p></div>"
   ]
  },
  {
   "cell_type": "code",
   "execution_count": null,
   "id": "e77f3394",
   "metadata": {},
   "outputs": [],
   "source": [
    "region_example = np.array([[0, 5, 12, 20, 28, 30],\n",
    "                           [5, 20, 0, 18, 19, 12]])\n",
    "\n",
    "plot_contour(bivar_dist, [0, 30, 0, 30],\n",
    "             case=[23, 13],\n",
    "             region=region_example);\n"
   ]
  },
  {
   "cell_type": "markdown",
   "id": "b996bc53",
   "metadata": {},
   "source": [
    "<div style=\"background-color:#AABAB2; color: black; width: 95%; vertical-align: middle; padding:15px; margin: 10px; border-radius: 10px\">\n",
    "<p>\n",
    "\n",
    "<b>Task 2.1 and 2.2:</b> create cells below to carry out the OR and AND calculations.\n",
    "</p>\n",
    "</div>"
   ]
  },
  {
   "cell_type": "code",
   "execution_count": null,
   "id": "c6c1b74e",
   "metadata": {},
   "outputs": [],
   "source": [
    "# YOUR_CODE_HERE\n",
    "# DEFINITELY more than one line.\n",
    "# probably several cells too ;)"
   ]
  },
  {
   "cell_type": "markdown",
   "id": "447b54d6",
   "metadata": {},
   "source": [
    "<div style=\"background-color:#AABAB2; color: black; width: 95%; vertical-align: middle; padding:15px; margin: 10px; border-radius: 10px\">\n",
    "<p>\n",
    "\n",
    "<b>Task 2.3:</b> create cells below to carry out the Case 3 calculations.\n",
    "\n",
    "Note that in this case you need to make the plot to visualize the region over which we want to integrate. We need to define the boundary of the region of interest by solving the equation $Z(X_1,X_2)$ for $X_2$ when $Z=0$.\n",
    "</p>\n",
    "</div>"
   ]
  },
  {
   "cell_type": "markdown",
   "id": "a16a0235",
   "metadata": {},
   "source": [
    "The equation can be defined as follows:\n",
    "\n",
    "$$\n",
    "\\textrm{WRITE THE EQUATION HERE}\n",
    "$$\n",
    "\n",
    "which is then defined in Python and included in the `plot_contours` function as an array for the keyword argument `region`."
   ]
  },
  {
   "cell_type": "code",
   "execution_count": null,
   "id": "eebd1956",
   "metadata": {},
   "outputs": [],
   "source": [
    "# YOUR_CODE_HERE\n",
    "# DEFINITELY more than one line.\n",
    "# probably several cells too ;)"
   ]
  },
  {
   "cell_type": "markdown",
   "id": "49225260",
   "metadata": {},
   "source": [
    "<div style=\"background-color:#FAE99E; color: black; width: 95%; vertical-align: middle; padding:15px; margin: 10px; border-radius: 10px\">\n",
    "<p>\n",
    "<b>Start of solution for Task 2.</b>\n",
    "</p>\n",
    "</div>"
   ]
  },
  {
   "cell_type": "markdown",
   "id": "35d949e7",
   "metadata": {
    "id": "0491cc69"
   },
   "source": [
    "<div style=\"background-color:#facb8e; color: black; width: 95%; vertical-align: middle; padding:15px; margin: 10px; border-radius: 10px\"> <p>Note: order of the tasks in this solution is not important.</p></div>"
   ]
  },
  {
   "cell_type": "markdown",
   "id": "028a5b41",
   "metadata": {},
   "source": [
    "### Case 1 and 2\n",
    "\n",
    "First we will compute the probabilities from the distribution."
   ]
  },
  {
   "cell_type": "code",
   "execution_count": null,
   "id": "aadfc421",
   "metadata": {},
   "outputs": [],
   "source": [
    "lower_left = bivar_dist.cdf([20, 20])\n",
    "union = 1 - lower_left\n",
    "\n",
    "left = X1.cdf(20)\n",
    "bottom = X2.cdf(20)\n",
    "intersection = 1 - (left + bottom - lower_left)\n",
    "\n",
    "print(f'     lower left:      {lower_left:.5f}')\n",
    "print(f'     left side:       {left:.5f}')\n",
    "print(f'     bottom side:     {bottom:.5f}')\n",
    "print('=============================')\n",
    "print(f'Case 1, Union:        {union:.5f}')\n",
    "print(f'Case 2, Intersection: {intersection:.5f}')"
   ]
  },
  {
   "cell_type": "markdown",
   "id": "73438069",
   "metadata": {},
   "source": [
    "And now the **empirical** probabilities:\n",
    "\n",
    "_Note: we redefine variables from above!_"
   ]
  },
  {
   "cell_type": "code",
   "execution_count": null,
   "id": "986294b0",
   "metadata": {},
   "outputs": [],
   "source": [
    "N = data_x1.size\n",
    "\n",
    "number_of_points_lower_left = sum((data_x1 < 20)&(data_x2 < 20))\n",
    "lower_left = number_of_points_lower_left/(N + 1)\n",
    "union = 1 - lower_left\n",
    "\n",
    "left = sum(data_x2 < 20)/(N + 1)\n",
    "bottom = sum(data_x1 < 20)/(N + 1)\n",
    "intersection = 1 - (left + bottom - lower_left)\n",
    "\n",
    "print(f'     lower left:      {lower_left:.5f}')\n",
    "print(f'     left side:       {left:.5f}')\n",
    "print(f'     bottom side:     {bottom:.5f}')\n",
    "print('=============================')\n",
    "print(f'Case 1, Union:        {union:.5f}')\n",
    "print(f'Case 2, Intersection: {intersection:.5f}')"
   ]
  },
  {
   "cell_type": "markdown",
   "id": "7a031a44",
   "metadata": {},
   "source": [
    "It looks like the union probabilities are pretty close, whereas the intersection probabilities differ by nearly an order of magnitude! The reason why can be seen by using the plots."
   ]
  },
  {
   "cell_type": "markdown",
   "id": "3c60029e",
   "metadata": {},
   "source": [
    "Make the plots:"
   ]
  },
  {
   "cell_type": "code",
   "execution_count": null,
   "id": "17e58f0e",
   "metadata": {},
   "outputs": [],
   "source": [
    "region_or = np.array([[0, 20, 20, 30],\n",
    "                      [20, 20, 0, 0]])\n",
    "\n",
    "plot_contour(bivar_dist, [0, 30, 0, 30],\n",
    "             case=[20, 20],\n",
    "             region=region_or,\n",
    "             data=data);\n",
    "\n",
    "region_and = np.array([[20, 20, 30],\n",
    "                      [30, 20, 20]])\n",
    "\n",
    "plot_contour(bivar_dist, [0, 30, 0, 30],\n",
    "             case=[20, 20],\n",
    "             region=region_and,\n",
    "             data=data);"
   ]
  },
  {
   "cell_type": "markdown",
   "id": "86f8fb6c",
   "metadata": {},
   "source": [
    "### Case 3\n",
    "\n",
    "Now for the function of random variables. First we will make the plot to visualize the region over which we want to integrate. We need to define the boundary of the region of interest by solving the equation $Z(X_1,X_2)$ for $X_2$ when $Z=0$:\n",
    "\n",
    "$$\n",
    "X_2 = 40 - \\frac{X_1^2}{20}\n",
    "$$"
   ]
  },
  {
   "cell_type": "code",
   "execution_count": null,
   "id": "2a2f9418",
   "metadata": {},
   "outputs": [],
   "source": [
    "plot_x = np.linspace(0, 30, 200)\n",
    "plot_y = 40 - plot_x**2/20\n",
    "plot_xy = np.vstack((plot_x, plot_y))\n",
    "\n",
    "plot_contour(bivar_dist, [0, 30, 0, 30],\n",
    "             region=plot_xy,\n",
    "             data=data);\n"
   ]
  },
  {
   "cell_type": "markdown",
   "id": "0202fa73",
   "metadata": {},
   "source": [
    "And now let's calculate the probabilities. First using the bivariate distribution:"
   ]
  },
  {
   "cell_type": "code",
   "execution_count": null,
   "id": "45543ba1",
   "metadata": {},
   "outputs": [],
   "source": [
    "sample_N = 100*N\n",
    "sample = bivar_dist.rvs(size=sample_N)\n",
    "sample_X1 = sample[:,0]\n",
    "sample_X2 = sample[:,1]\n",
    "\n",
    "Z = lambda X1, X2: 800 - X1**2 - 20*X2\n",
    "sample_Z = Z(sample_X1, sample_X2)\n",
    "Z_less_than_0 = sum(sample_Z<0)\n",
    "\n",
    "print(f'The number of samples of Z < 0 is: {Z_less_than_0}')\n",
    "print(f'This is {Z_less_than_0/sample_N*100:.3f}% of all samples.')\n",
    "print(f'The MCS probability is {Z_less_than_0/sample_N:.3f}.')"
   ]
  },
  {
   "cell_type": "markdown",
   "id": "4a23a9bf",
   "metadata": {},
   "source": [
    "And now the empirical probabilities:"
   ]
  },
  {
   "cell_type": "code",
   "execution_count": null,
   "id": "9f50b297",
   "metadata": {},
   "outputs": [],
   "source": [
    "empirical_Z = Z(data_x1, data_x2)\n",
    "Z_data_less_than_0 = sum(empirical_Z<0)\n",
    "\n",
    "print(f'The number of data where Z < 0 is: {Z_data_less_than_0}')\n",
    "print(f'This is {Z_data_less_than_0/(N + 1)*100:.3f}% of all samples.')\n",
    "print(f'The empirical probability is {Z_data_less_than_0/(N + 1):.3f}.')"
   ]
  },
  {
   "cell_type": "markdown",
   "id": "ea6972e1",
   "metadata": {},
   "source": [
    "It turns out that the estimated probability is about four times the value of the empirical probability. This doesn't seem too bad for this case.\n",
    "\n",
    "_Note that if your sample size is small (e.g., order 10^3 or 10^4), the values of your probability may change by +/-10^-2 on each iteration; increase the sample size until the calculation for Case 3 is stable. This is illustrated in the following plot, which shows how the probability changes as the sample size increases. Coefficient of variation of the estimated $p$ is also shown (a c.o.v. of 0.1 is a typical target for an acceptable MCS.)_"
   ]
  },
  {
   "cell_type": "code",
   "execution_count": null,
   "id": "4ee60e6a",
   "metadata": {},
   "outputs": [],
   "source": [
    "def get_p_and_c_o_v(sample):\n",
    "    \"\"\"For sample N return p and c.o.v. for each N_i in N.\n",
    "    \n",
    "    Allows one to see how values change as the sample size increases.\n",
    "    \"\"\"\n",
    "    N = len(sample)\n",
    "    sample_X1 = sample[:,0]\n",
    "    sample_X2 = sample[:,1]\n",
    "    Z = lambda X1, X2: 800 - X1**2 - 20*X2\n",
    "    sample_Z = Z(sample_X1, sample_X2)\n",
    "\n",
    "    p = np.zeros(N)\n",
    "    c_o_v = np.zeros(N)\n",
    "    for i in range(N):\n",
    "        p[i] = sum(sample_Z[0:i]<0)/(i+1)\n",
    "        if p[i] == 0:\n",
    "            c_o_v[i] = 0\n",
    "        else:\n",
    "            c_o_v[i] = 1/np.sqrt((i+1)*p[i])\n",
    "\n",
    "    return p, c_o_v\n",
    "\n",
    "try_N = 10000\n",
    "p, c_o_v = get_p_and_c_o_v(bivar_dist.rvs(size=try_N))\n",
    "\n"
   ]
  },
  {
   "cell_type": "code",
   "execution_count": null,
   "id": "d01bbcd4",
   "metadata": {},
   "outputs": [],
   "source": [
    "fig, ax1 = plt.subplots()\n",
    "\n",
    "ax1.plot(range(try_N), p, 'b-')\n",
    "ax1.set_xlabel('Sample size')\n",
    "ax1.set_ylabel('Probability', color='b')\n",
    "ax1.set_title('Probability and c.o.v. for N_i in MCS N')\n",
    "ax1.set_xlim(100, try_N)\n",
    "ax1.set_xscale('log')\n",
    "ax1.set_ylim(1/try_N, 1)\n",
    "ax1.set_yscale('log')\n",
    "ax1.tick_params(axis='y', labelcolor='b')\n",
    "\n",
    "# Create a second y-axis\n",
    "ax2 = ax1.twinx()\n",
    "ax2.plot(range(try_N), c_o_v, 'r-')\n",
    "ax2.set_ylabel('Coefficient of Variation', color='r')\n",
    "ax2.set_ylim(1e-2, 1)\n",
    "ax2.set_yscale('log')\n",
    "ax2.tick_params(axis='y', labelcolor='r')\n",
    "\n",
    "plt.show()"
   ]
  },
  {
   "cell_type": "markdown",
   "id": "10ad2053",
   "metadata": {},
   "source": [
    "<div style=\"background-color:#FAE99E; color: black; width: 95%; vertical-align: middle; padding:15px; margin: 10px; border-radius: 10px\">\n",
    "<p>\n",
    "We do not include the calculations for the different correlation coefficients here for compactness. All you need to do is define a new mulitivariate normal object and redefine the covariance matrix, then re-run the analyses (actually, it's best to do it in a function, which returns the probabilities of interest).\n",
    "    \n",
    "Some key observations about the calculated probabilities (not exhaustive):\n",
    "<ol>\n",
    "    <li>Higher positive dependence increases probability for all cases.</li>\n",
    "    <li>Independence decreases probability compared to original correlation coefficient (all cases).</li>\n",
    "    <li>Negative correlation decreases probability for cases 2 and 3, but increases probability for case 1.</li>\n",
    "</ol>\n",
    "You should be able to confirm these observations by considering how the contours of probability density change relative to the region of interest, as well as by computing them numerically.\n",
    "</p>\n",
    "</div>"
   ]
  },
  {
   "cell_type": "markdown",
   "id": "d29f7da0",
   "metadata": {
    "id": "0491cc69"
   },
   "source": [
    "<div style=\"background-color:#facb8e; color: black; width: 95%; vertical-align: middle; padding:15px; margin: 10px; border-radius: 10px\"> <p>Note: the bivariate figures are an important concept for the exam, so if using the code is too difficult for you to use when studying on your own, try sketching it on paper.</p></div>"
   ]
  },
  {
   "cell_type": "markdown",
   "id": "e86e86f8",
   "metadata": {},
   "source": [
    "<div style=\"background-color:#FAE99E; color: black; width: 95%; vertical-align: middle; padding:15px; margin: 10px; border-radius: 10px\">\n",
    "<p>\n",
    "<b>End of solution for Task 2.</b>\n",
    "</p>\n",
    "</div>"
   ]
  },
  {
   "cell_type": "markdown",
   "id": "a2db55ed",
   "metadata": {},
   "source": [
    "## Part 3: Validate Bivariate with Monte Carlo Simulation\n",
    "\n",
    "Now that we have seen how the different cases give different values of probability, let's focus on the function of random variables. This is a more interesting case because we can use the samples of $Z$ to approximate the distribution $f_Z(z)$ and use the empirical distribution of $Z$ to help validate the bivariate model."
   ]
  },
  {
   "cell_type": "markdown",
   "id": "1f088159",
   "metadata": {},
   "source": [
    "<div style=\"background-color:#AABAB2; color: black; width: 95%; vertical-align: middle; padding:15px; margin: 10px; border-radius: 10px\">\n",
    "<p>\n",
    "\n",
    "$\\textbf{Task 3:}$\n",
    "    \n",
    "Do the following:\n",
    "\n",
    "- Use Monte Carlo Simulation to create a sample of $Z(X_1,X_2)$ and compare this distribution to the empirical distribution.</li>\n",
    "- Write 2-3 sentences assessing the quality of the distribution from MCS, and whether the bivariate distribution is acceptable for this problem. Use qualitative and quantitative measures from last week to support your arguments.\n",
    "    \n",
    "</p>\n",
    "<p>\n",
    "    <em>Note: it would be interesting to fit a parametric distribution to the MCS sample, but it is not required for this assignment.</em>\n",
    "</p>\n",
    "</div>"
   ]
  },
  {
   "cell_type": "markdown",
   "id": "446e1ab0",
   "metadata": {},
   "source": [
    "<div style=\"background-color:#FAE99E; color: black; width: 95%; vertical-align: middle; padding:15px; margin: 10px; border-radius: 10px\">\n",
    "<p>\n",
    "\n",
    "$\\textbf{Solution}$\n",
    "\n",
    "Two plots were created below to compare the distributions from the data (empirical) and MCS sample, which is based on the probability \"model\"---our bivariate distribution. It is clear that the fit is not great: although the upper tail looks like a good fit (third figure), the first and second figures clearly show that the lower tail (see, e.g., value of $Z=0$) and center of the distribution (see, e.g., the mode) differ by around 100 units.\n",
    "\n",
    "The reason why is best explained by looking at the bivariate plot above from Task 1: we can see that the data is not well matched by the probability density contours in the upper right corner of the figure, which is precisely where our region of interest is (when $Z<0$). Whether or not the model is \"good enough\" depends on what values of $Z$ we are interested (we might need more information about the Thingamajig). Since we have focused on the condition where $Z<0$, which does not have a good fit, we should not accept this model and consider a different multivariate model for $f_{X_1,X_2}(x_1,x_2)$.\n",
    "\n",
    "Note that the probability $P[Z<0]$ calculated for Case 3 in Part 2 indicates the model is not bad (0.002 and 0.007); however, the univariate distribution tells a different story!\n",
    "    \n",
    "This is actually a case where the dependence between $X_1$ and $X_2$ is not possible to describe completely with the Pearson correlation coefficient $\\rho$. You can see why qualitatively by observing how scattered the data is around an imaginary line that follows the main axis of the data (an imaginary line from lower-left to upper-right). As values of $X_1$ and $X_2$ increase, the spread of the points about this imaginary line increases. An extra plot below is added to compare the two distributions: the empirical one on the left (with data) and the theoretical distribution on the right (multivariate Gaussian). This concept is illustrated quantitatively by comparing the correlation coefficients calculated using only the data from each \"quadrant\" of the random variable space (separated by the median values of each random variable). In addition, the colors of the dots are determined by the value of the covariance term; this illustrates the effect of the high and low values in the lower-left and upper-right quadrants, respectively, and the reason that the relationship between $X_1$ and $X_2$ cannot be captured by a single value of the correlation coefficient $\\rho$.  To capture the non-linearity we need a non-Gaussian multivariate distribution; unfortunately these are outside the scope of MUDE.\n",
    "\n",
    "The Pearson correlation coefficient describes the linear relationship between variables; if a relationship is deterministically linear $\\rho$ is exactly 1. In the case of this data set, $\\rho\\approx 0.6$, and we can recognize that increasing values of $X_1$ are associated with increasing values of $X_2$.\n",
    "\n",
    "</p>\n",
    "</div>"
   ]
  },
  {
   "cell_type": "markdown",
   "id": "86b13b94",
   "metadata": {},
   "source": [
    "![dependence comparison](./dependence_illustrated.svg)"
   ]
  },
  {
   "cell_type": "markdown",
   "id": "8c8500e2",
   "metadata": {},
   "source": [
    "<div style=\"background-color:#AABAB2; color: black; width: 95%; vertical-align: middle; padding:15px; margin: 10px; border-radius: 10px\">\n",
    "<p>\n",
    "\n",
    "<b>Task 3.1:</b> Plot histograms of $Z$ based on the Monte Carlo samples, and based on the data. Note that you probably already computed the samples in Part 2.\n",
    "</p>\n",
    "</div>"
   ]
  },
  {
   "cell_type": "code",
   "execution_count": null,
   "id": "c0c7778a",
   "metadata": {},
   "outputs": [],
   "source": [
    "# plot_values = np.linspace(-100, 1000, 30)\n",
    "# fig, ax = plt.subplots(1)\n",
    "# ax.hist([YOUR_CODE_HERE, YOUR_CODE_HERE],\n",
    "#          bins=plot_values,\n",
    "#          density=True,\n",
    "#          edgecolor='black');\n",
    "# ax.legend(['Data', 'MCS Sample'])\n",
    "# ax.set_xlabel('$Z(X_1,X_2)$')\n",
    "# ax.set_xlabel('Empirical Density [--]')\n",
    "# ax.set_title('Comparison of Distributions of $Z$');\n",
    "\n",
    "# SOLUTION\n",
    "plot_values = np.linspace(-100, 1000, 30)\n",
    "fig, ax = plt.subplots(1)\n",
    "ax.hist([empirical_Z, sample_Z],\n",
    "         bins=plot_values,\n",
    "         density=True,\n",
    "         edgecolor='black');\n",
    "ax.legend(['Data', 'MCS Sample'])\n",
    "ax.set_xlabel('$Z(X_1,X_2)$')\n",
    "ax.set_xlabel('Empirical Density [--]')\n",
    "ax.set_title('Comparison of Distributions of $Z$');"
   ]
  },
  {
   "cell_type": "markdown",
   "id": "71465a4d",
   "metadata": {},
   "source": [
    "<div style=\"background-color:#AABAB2; color: black; width: 95%; vertical-align: middle; padding:15px; margin: 10px; border-radius: 10px\">\n",
    "<p>\n",
    "\n",
    "<b>Task 3.2:</b> Define a function to compute the ecdf.\n",
    "</p>\n",
    "</div>"
   ]
  },
  {
   "cell_type": "code",
   "execution_count": null,
   "id": "0ff9531d",
   "metadata": {},
   "outputs": [],
   "source": [
    "# def ecdf(var):\n",
    "#     x = YOUR_CODE_HERE # sort the values from small to large\n",
    "#     n = YOUR_CODE_HERE # determine the number of datapoints\n",
    "#     y = YOUR_CODE_HERE\n",
    "#     return [y, x]\n",
    "\n",
    "# SOLUTION:\n",
    "def ecdf(var):\n",
    "    x = np.sort(var) # sort the values from small to large\n",
    "    n = x.size # determine the number of datapoints\n",
    "    y = np.arange(1, n+1) / (n + 1)\n",
    "    return [y, x]\n"
   ]
  },
  {
   "cell_type": "markdown",
   "id": "be9d164d",
   "metadata": {},
   "source": [
    "<div style=\"background-color:#AABAB2; color: black; width: 95%; vertical-align: middle; padding:15px; margin: 10px; border-radius: 10px\">\n",
    "<p>\n",
    "\n",
    "<b>Task 3.3:</b> Create a semi-log plot of the non-exceedance probability.\n",
    "</p>\n",
    "</div>"
   ]
  },
  {
   "cell_type": "code",
   "execution_count": null,
   "id": "bfe785a5",
   "metadata": {},
   "outputs": [],
   "source": [
    "# fig, axes = plt.subplots(1, 1, figsize=(8, 5))\n",
    "\n",
    "# axes.step(YOUR_CODE_HERE, YOUR_CODE_HERE, \n",
    "#           color='k', label='Data')\n",
    "# axes.step(YOUR_CODE_HERE, YOUR_CODE_HERE,\n",
    "#           color='r', label='MCS Sample')\n",
    "# axes.set_xlabel('$Z(X_1,X_2)$')\n",
    "# axes.set_ylabel('CDF, $\\mathrm{P}[Z < z]$')\n",
    "# axes.set_title('Comparison: CDF (log scale expands lower tail)')\n",
    "# axes.set_yscale('log')\n",
    "# axes.legend()\n",
    "# axes.grid()\n",
    "\n",
    "# SOLUTION\n",
    "fig, axes = plt.subplots(1, 1, figsize=(8, 5))\n",
    "\n",
    "axes.step(ecdf(empirical_Z)[1], ecdf(empirical_Z)[0], \n",
    "          color='k', label='Data')\n",
    "axes.step(ecdf(sample_Z)[1], ecdf(sample_Z)[0],\n",
    "          color='r', label='MCS Sample')\n",
    "axes.set_xlabel('$Z(X_1,X_2)$')\n",
    "axes.set_ylabel(r'CDF, $\\mathrm{P}[Z < z]$')\n",
    "axes.set_title('Comparison: CDF (log scale expands lower tail)')\n",
    "axes.set_yscale('log')\n",
    "axes.legend()\n",
    "axes.grid()"
   ]
  },
  {
   "cell_type": "markdown",
   "id": "bbab3267",
   "metadata": {},
   "source": [
    "<div style=\"background-color:#AABAB2; color: black; width: 95%; vertical-align: middle; padding:15px; margin: 10px; border-radius: 10px\">\n",
    "<p>\n",
    "\n",
    "<b>Task 3.4:</b> Create a semi-log plot of the exceedance probability.\n",
    "</p>\n",
    "</div>"
   ]
  },
  {
   "cell_type": "code",
   "execution_count": null,
   "id": "73ea3317",
   "metadata": {},
   "outputs": [],
   "source": [
    "# fig, axes = plt.subplots(1, 1, figsize=(8, 5))\n",
    "\n",
    "# axes.step(YOUR_CODE_HERE, YOUR_CODE_HERE, \n",
    "#           color='k', label='Data')\n",
    "# axes.step(YOUR_CODE_HERE, YOUR_CODE_HERE,\n",
    "#           color='r', label='MCS Sample')\n",
    "# axes.set_xlabel('$Z(X_1,X_2)$')\n",
    "# axes.set_ylabel('Exceedance Probability, $\\mathrm{P}[Z > z]$')\n",
    "# axes.set_title('Comparison: CDF (log scale expands upper tail)')\n",
    "# axes.set_yscale('log')\n",
    "# axes.legend()\n",
    "# axes.grid()\n",
    "\n",
    "# SOLUTION\n",
    "fig, axes = plt.subplots(1, 1, figsize=(8, 5))\n",
    "\n",
    "axes.step(ecdf(empirical_Z)[1], 1-ecdf(empirical_Z)[0], \n",
    "          color='k', label='Data')\n",
    "axes.step(ecdf(sample_Z)[1], 1-ecdf(sample_Z)[0],\n",
    "          color='r', label='MCS Sample')\n",
    "axes.set_xlabel('$Z(X_1,X_2)$')\n",
    "axes.set_ylabel(r'Exceedance Probability, $\\mathrm{P}[Z > z]$')\n",
    "axes.set_title('Comparison: CDF (log scale expands upper tail)')\n",
    "axes.set_yscale('log')\n",
    "axes.legend()\n",
    "axes.grid()"
   ]
  },
  {
   "cell_type": "markdown",
   "id": "bc64a622",
   "metadata": {
    "id": "0491cc69"
   },
   "source": [
    "<div style=\"background-color:#facb8e; color: black; width: 95%; vertical-align: middle; padding:15px; margin: 10px; border-radius: 10px\"><p>In case you are wondering, the data for this exercise was computed with a Clayton Copula. A Copula is a useful way of modelling non-linear dependence. If you would like to learn more about this, you should consider the 2nd year cross-over module CEGM2005 Probabilistic Modelling of real-world phenomena through ObseRvations and Elicitation (MORE).</p></div>"
   ]
  },
  {
   "cell_type": "markdown",
   "id": "d37c49f9",
   "metadata": {},
   "source": [
    "**End of notebook.**\n",
    "\n",
    "<div style=\"margin-top: 50px; padding-top: 20px; border-top: 1px solid #ccc;\">\n",
    "  <div style=\"display: flex; justify-content: flex-end; gap: 20px; align-items: center;\">\n",
    "    <a rel=\"MUDE\" href=\"http://mude.citg.tudelft.nl/\">\n",
    "      <img alt=\"MUDE\" style=\"width:100px; height:auto;\" src=\"https://gitlab.tudelft.nl/mude/public/-/raw/main/mude-logo/MUDE_Logo-small.png\" />\n",
    "    </a>\n",
    "    <a rel=\"TU Delft\" href=\"https://www.tudelft.nl/en/ceg\">\n",
    "      <img alt=\"TU Delft\" style=\"width:100px; height:auto;\" src=\"https://gitlab.tudelft.nl/mude/public/-/raw/main/tu-logo/TU_P1_full-color.png\" />\n",
    "    </a>\n",
    "    <a rel=\"license\" href=\"http://creativecommons.org/licenses/by/4.0/\">\n",
    "      <img alt=\"Creative Commons License\" style=\"width:88px; height:auto;\" src=\"https://i.creativecommons.org/l/by/4.0/88x31.png\" />\n",
    "    </a>\n",
    "  </div>\n",
    "  <div style=\"font-size: 75%; margin-top: 10px; text-align: right;\">\n",
    "    By <a rel=\"MUDE\" href=\"http://mude.citg.tudelft.nl/\">MUDE Team</a>\n",
    "    &copy; 2024 TU Delft. \n",
    "    <a rel=\"license\" href=\"http://creativecommons.org/licenses/by/4.0/\">CC BY 4.0</a>.\n",
    "    <a rel=\"Zenodo DOI\" href=\"https://doi.org/10.5281/zenodo.16782515\"><img style=\"width:auto; height:15; vertical-align:middle\" src=\"https://zenodo.org/badge/DOI/10.5281/zenodo.16782515.svg\" alt=\"DOI https://doi.org/10.5281/zenodo.16782515\"></a>\n",
    "  </div>\n",
    "</div>\n",
    "\n",
    "\n",
    "<!--tested with WS_2_8_solution.ipynb-->"
   ]
  }
 ],
 "metadata": {
  "language_info": {
   "name": "python"
  }
 },
 "nbformat": 4,
 "nbformat_minor": 5
}
