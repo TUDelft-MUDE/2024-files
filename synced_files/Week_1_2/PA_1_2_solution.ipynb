{
 "cells": [
  {
   "cell_type": "markdown",
   "id": "d14e9d93",
   "metadata": {},
   "source": [
    "# Programming Assignment 02: A Random Adventure\n",
    "\n",
    "<h1 style=\"position: absolute; display: flex; flex-grow: 0; flex-shrink: 0; flex-direction: row-reverse; top: 60px;right: 30px; margin: 0; border: 0\">\n",
    "    <style>\n",
    "        .markdown {width:100%; position: relative}\n",
    "        article { position: relative }\n",
    "    </style>\n",
    "    <img src=\"https://gitlab.tudelft.nl/mude/public/-/raw/main/tu-logo/TU_P1_full-color.png\" style=\"width:100px; height: auto; margin: 0\" />\n",
    "    <img src=\"https://gitlab.tudelft.nl/mude/public/-/raw/main/mude-logo/MUDE_Logo-small.png\" style=\"width:100px; height: auto; margin: 0\" />\n",
    "</h1>\n",
    "<h2 style=\"height: 10px\">\n",
    "</h2>\n",
    "\n",
    "*[CEGM1000 MUDE](http://mude.citg.tudelft.nl/): Week 1.2. Due: before Friday, Sep 13, 2023.*\n",
    "\n",
    "*Note: you do not need to turn this assignment in (you will start doing this in Week 1.3).*"
   ]
  },
  {
   "cell_type": "markdown",
   "id": "2f465bec",
   "metadata": {
    "tags": []
   },
   "source": [
    "## Overview\n",
    "\n",
    "*This Programming Assignment is meant to introduce you to a few key concepts that we will use repeatedly in MUDE. If you are not familiar with them, please visit us in question hours to make sure you understand the concepts well and can apply them in the notebooks.*\n",
    "\n",
    "One of the main topics of this programming assignment is `numpy`, an essential Python package for scientific computation that facilitates, among other things: vector, matrix and linear algebra operations...in a computationally efficient way! **Note:** this assignment assumes you have a working knowledge of Python **lists**. if you aren't sure what a list is, please take some time to review this concept, perhaps [here](https://teachbooks.github.io/learn-python/main/01/In_a_Nutshell/01.html).\n",
    "\n",
    "Topics in this assignment include:\n",
    "1. Basic matrix operations using numpy\n",
    "2. Applying linear algebra to solve a line\n",
    "3. Normal distributions\n",
    "4. Modelling data with normal distributions\n",
    "5. Using Markdown to write richly-formatted text"
   ]
  },
  {
   "cell_type": "markdown",
   "id": "34d8ecdd",
   "metadata": {},
   "source": [
    "<div style=\"background-color:#facb8e; color: black; vertical-align: middle; padding:15px; margin: 10px; border-radius: 10px; width: 95%\"> <p>For those of you that have never used Python before, or are very new to programming, this assignment will probably be difficult for you. Our intention is to make it obvious what concepts you do not know yet, so that you can ask a teacher (or perhaps a fellow student) for help. Thus, our advice is this: <em>write down all of the concepts and terms that are unfamiliar to you in this assignment and bring them with you to the Tuesday question hour to ask a teacher!</em> This will make it easier for us to help you, and point you to resources where you will be able to catch up with the programming concepts more quickly.</p></div>"
   ]
  },
  {
   "cell_type": "markdown",
   "id": "22b559d4-b15b-48fe-b3b4-266515af547f",
   "metadata": {},
   "source": [
    "<div style=\"background-color:#FAE99E; color: black; width:95%; vertical-align: middle; padding:15px; margin: 10px; border-radius: 10px\">\n",
    "    <b>Solution</b>: Solutions for this notebook are written in the code directly and labeled <code>SOLUTION:</code>. The code is set up such that you can run the entire notebook without error.</div>"
   ]
  },
  {
   "cell_type": "markdown",
   "id": "dec2b0c3",
   "metadata": {},
   "source": [
    "<div style=\"background-color:#AABAB2; color: black; width:95%; vertical-align: middle; padding:15px; margin: 10px; border-radius: 10px\">\n",
    "<p>\n",
    "<b>Task 0:</b>   \n",
    "Run the following cell to import the Python packages required for this assignment. Be sure to select the <code>mude-base</code> environment, which should already have these packages installed.\n",
    "</p>\n",
    "</div>"
   ]
  },
  {
   "cell_type": "code",
   "execution_count": null,
   "id": "a3cbf661",
   "metadata": {},
   "outputs": [],
   "source": [
    "import numpy as np\n",
    "import matplotlib.pyplot as plt\n",
    "from scipy.stats import norm"
   ]
  },
  {
   "cell_type": "markdown",
   "id": "59cc6c0e",
   "metadata": {},
   "source": [
    "## Task 1: Messing with numpy\n"
   ]
  },
  {
   "cell_type": "markdown",
   "id": "c378822c",
   "metadata": {},
   "source": [
    "Numpy gives us lots of options for creating arrays, so we'll start by exploring some our main ones. It's worth nothing that a numpy array is an umbrella term for a vector **and** matrix. The easiest way to build a numpy array is to provide a list which represents the data of the array."
   ]
  },
  {
   "cell_type": "code",
   "execution_count": null,
   "id": "f4b81f9d",
   "metadata": {},
   "outputs": [],
   "source": [
    "# Creating an array using lists\n",
    "A = np.array([[1, 1], \n",
    "              [2, 2], \n",
    "              [3, 3], \n",
    "              [4, 4]])\n",
    "A.shape"
   ]
  },
  {
   "cell_type": "markdown",
   "id": "40fa9153",
   "metadata": {},
   "source": [
    "<div style=\"background-color:#AABAB2; color: black; width:95%; vertical-align: middle; padding:15px; margin: 10px; border-radius: 10px\">\n",
    "<p>\n",
    "<b>Task 1.1:</b>   \n",
    "Creating a 2x2 matrix called `scale` which scales the x and y axes by 2.\n",
    "</p>\n",
    "</div>"
   ]
  },
  {
   "cell_type": "code",
   "execution_count": null,
   "id": "81500cfe",
   "metadata": {},
   "outputs": [],
   "source": [
    "#SOLUTION:\n",
    "scale = np.array([[2, 0], [0, 2]])"
   ]
  },
  {
   "cell_type": "markdown",
   "id": "66e96891",
   "metadata": {},
   "source": [
    "We'll try to scale the data in `A` by `scale` using the cell below, but there seems to be an issue (running the cell should give an error)."
   ]
  },
  {
   "cell_type": "code",
   "execution_count": null,
   "id": "75a66301",
   "metadata": {},
   "outputs": [],
   "source": [
    "#SOLUTION (run cell below)\n",
    "A = A.T\n",
    "scale @ A"
   ]
  },
  {
   "cell_type": "markdown",
   "id": "5e64e9a3",
   "metadata": {},
   "source": [
    "The error message indicates that we have a mismatch in the dimensions of the arrays. `A` has a dimension of (4, 2) and `scale` has a dimension of (2, 2). Do those dimensions make sense to you? Try using the `shape` method of the arrays to print out this information for yourself, then complete Task 1.2 to try and complete the matrix computation."
   ]
  },
  {
   "cell_type": "markdown",
   "id": "4e1ec7d8",
   "metadata": {},
   "source": [
    "<div style=\"background-color:#AABAB2; color: black; width:95%; vertical-align: middle; padding:15px; margin: 10px; border-radius: 10px\">\n",
    "<p>\n",
    "<b>Task 1.2:</b>   \n",
    "    Let's treat <code>A</code> as a data array, where each column will be the x-y coordinates of a point. Transform the current <code>A</code> into this form. What you'll need to do is transpose it. Find out how to do so in as short a code as possible! Hint: look through the methods in the <a href=\"https://numpy.org/doc/stable/reference/generated/numpy.ndarray.transpose.html\" target=\"_blank\">numpy documentation</a>\n",
    "</p>\n",
    "</div>"
   ]
  },
  {
   "cell_type": "code",
   "execution_count": null,
   "id": "fbc27304",
   "metadata": {},
   "outputs": [],
   "source": [
    "#SOLUTION: A = A.T\n",
    "A = A.T"
   ]
  },
  {
   "cell_type": "markdown",
   "id": "7f9bba81",
   "metadata": {},
   "source": [
    "Once you've done **Task 1.2**, re-run the cell that failed earlier. You should see each point has had both the x and y components multiplied by 2.\n",
    "\n",
    "We can also visualize our data as shown below. Numpy as allows you to index arrays in very complicated ways. For example `A[0, :]` returns an array with all the data from the first row. You can do much more as we'll see later. The documentation for this is found [here](https://numpy.org/doc/stable/user/basics.indexing.html)."
   ]
  },
  {
   "cell_type": "code",
   "execution_count": null,
   "id": "19530f80",
   "metadata": {},
   "outputs": [],
   "source": [
    "plt.plot(A[0, :], A[1, :], 'ko') # Same as plt.plot(*A)\n",
    "plt.show()"
   ]
  },
  {
   "cell_type": "markdown",
   "id": "ad5527d6",
   "metadata": {},
   "source": [
    "Let's look at some more ways to make arrays. The most basic ones, but very useful as `np.ones` and `np.zeros`, `np.linspace`."
   ]
  },
  {
   "cell_type": "code",
   "execution_count": null,
   "id": "c21ad750",
   "metadata": {},
   "outputs": [],
   "source": [
    "empty = np.zeros(shape=(2, 2))\n",
    "shear = np.ones(shape=(2, 2))\n",
    "\n",
    "line_A_x = np.linspace(0, 8, num=10)\n",
    "line_A = np.array([line_A_x, 5*line_A_x + 2])\n",
    "\n",
    "print(empty)\n",
    "print()\n",
    "print(shear)\n",
    "print()\n",
    "print(line_A)\n",
    "\n",
    "# SOLUTION: first play with the shape values. then change num; then change 8 to 12.\n"
   ]
  },
  {
   "cell_type": "markdown",
   "id": "51ad0f20",
   "metadata": {},
   "source": [
    "<div style=\"background-color:#AABAB2; color: black; width:95%; vertical-align: middle; padding:15px; margin: 10px; border-radius: 10px\">\n",
    "<p>\n",
    "<b>Task 1.3:</b>   \n",
    "Mess around with the shape keyword argument in the code above to get a feel for what it does. How big can the tuple be? Then, try to generate more data points in <code>line_A</code>, but keeping the same range. Finally, see if you can manipulate the range of <code>line_A</code> and get the last value in the printed array to be 62.\n",
    "</p>\n",
    "</div>"
   ]
  },
  {
   "cell_type": "markdown",
   "id": "2eb2be84",
   "metadata": {},
   "source": [
    "The `np.eye` function can be used to make a matrix with ones on a diagonal (by default the main diagonal)"
   ]
  },
  {
   "cell_type": "code",
   "execution_count": null,
   "id": "2e600b81",
   "metadata": {},
   "outputs": [],
   "source": [
    "# Generate scale through a different method\n",
    "identity = np.eye(N = A.shape[0])\n",
    "\n",
    "# Check it's really identity\n",
    "truth_array = identity @ A == A # This is actually an array with some boolean values\n",
    "assert (identity @ A == A).all()\n",
    "\n",
    "# Making scale again:\n",
    "scale_2 = 2 * identity\n",
    "assert (scale_2 == scale).all()"
   ]
  },
  {
   "cell_type": "markdown",
   "id": "a08b2270",
   "metadata": {},
   "source": [
    "<div style=\"background-color:#AABAB2; color: black; width:95%; vertical-align: middle; padding:15px; margin: 10px; border-radius: 10px\">\n",
    "<p>\n",
    "<b>Task 1.4:</b>   \n",
    "Can you understand what the code cell above is doing? You should be able to read and comprehend, but at the moment are not expected to create this exact code yet yourself in MUDE.\n",
    "</p>\n",
    "</div>"
   ]
  },
  {
   "cell_type": "markdown",
   "id": "87d14d63",
   "metadata": {},
   "source": [
    "<div style=\"background-color:#AABAB2; color: black; width:95%; vertical-align: middle; padding:15px; margin: 10px; border-radius: 10px\">\n",
    "<p>\n",
    "<b>Task 1.5:</b>   \n",
    "As a final numpy recap exercise, define a matrix which reflects along the $x=y$ axis and apply it to <code>line_A</code>. Plot it to check that it worked. Hint: first think of the reflection matrix, then find a way to implement it in code.\n",
    "</p>\n",
    "</div>"
   ]
  },
  {
   "cell_type": "code",
   "execution_count": null,
   "id": "ed248194",
   "metadata": {},
   "outputs": [],
   "source": [
    "## SOLUTION\n",
    "reflect = np.array([[0, 1], [1, 0]])\n",
    "result = reflect @ line_A\n",
    "###\n",
    "\n",
    "plt.plot(*result, \"or\")\n",
    "plt.plot(*line_A, \"ob\")\n",
    "plt.show()"
   ]
  },
  {
   "cell_type": "markdown",
   "id": "af69db9b",
   "metadata": {},
   "source": [
    "## Task 2: Applying multiplication to solve lines"
   ]
  },
  {
   "cell_type": "code",
   "execution_count": null,
   "id": "192f6c36",
   "metadata": {},
   "outputs": [],
   "source": [
    "<div style=\"background-color:#facb8e; color: black; vertical-align: middle; padding:15px; margin: 10px; border-radius: 10px; width: 95%\"> <p>Minor note (warning). Don't use the CSS danger/warning blocks because they don't display when converting to HTML with pandoc (won't display right on course files on website).</p></div>"
   ]
  },
  {
   "cell_type": "markdown",
   "id": "1e707709",
   "metadata": {},
   "source": [
    "Below you've been handed some code that generates the data for a line (with some random error), and a function which calculates the fit of the line using the `lstsq` function you encountered last week. Your task will be to write another function `fit_a_line_to_data_2` that has the same inputs as `fit_a_line_to_data`, but uses `np.linalg.solve` instead of `np.linalg.lstsq`. You'll find the following equation useful:\n",
    "$$\n",
    "A^\\intercal A x = A^\\intercal b\n",
    "$$"
   ]
  },
  {
   "cell_type": "markdown",
   "id": "aab0e779",
   "metadata": {},
   "source": [
    "<div style=\"background-color:#AABAB2; color: black; width:95%; vertical-align: middle; padding:15px; margin: 10px; border-radius: 10px\">\n",
    "<p>\n",
    "<b>Task 2.1:</b>   \n",
    "Research the difference between <code>np.linalg.lstsq</code> and <code>np.linalg.solve</code>. Consider when you can interchange them what their main differences are, then complete the function below using <code>np.linalg.solve</code>. The plot commands will help you confirm that your answer is correct: you'll see a red line show up on top of the black line.  \n",
    "</p>\n",
    "</div>"
   ]
  },
  {
   "cell_type": "code",
   "execution_count": null,
   "id": "a8dc6309",
   "metadata": {},
   "outputs": [],
   "source": [
    "data_x = np.linspace(0, 100, num=100)\n",
    "data_y = data_x * 5 + 2 + np.random.random(size = (100,))\n",
    "\n",
    "def fit_a_line_to_data(data_x, data_y):\n",
    "    A = np.array([data_x, np.ones(len(data_x))]).T\n",
    "    [slope, intercept], _, _, _ = np.linalg.lstsq(A, data_y, rcond=None)\n",
    "    return slope, intercept\n",
    "\n",
    "def fit_a_line_to_data_2(data_x, data_y):\n",
    "    ## Complete the function here ##\n",
    "    ## SOLUTION\n",
    "    A = np.array([data_x, np.ones(len(data_x))]).T\n",
    "    [slope, intercept] = np.linalg.solve(A.T @ A, A.T @ data_y)\n",
    "    #####\n",
    "    return slope, intercept\n",
    "\n",
    "plt.plot(data_x, data_y, \"ok\")\n",
    "\n",
    "slope1, intercept1 = fit_a_line_to_data(data_x, data_y)\n",
    "slope2, intercept2 = fit_a_line_to_data_2(data_x, data_y)\n",
    "\n",
    "plt.plot(data_x, slope1*data_x + intercept1, \"b\")\n",
    "plt.plot(data_x, slope2*data_x + intercept2, \"r\")\n",
    "plt.show()"
   ]
  },
  {
   "cell_type": "markdown",
   "id": "5fc02d7d",
   "metadata": {},
   "source": [
    "## Task 3: normal distribution basics"
   ]
  },
  {
   "cell_type": "markdown",
   "id": "5b027134",
   "metadata": {},
   "source": [
    "As we discussed in lecture, it is important to have a variety of methods for quantifying uncertainty; one important type of uncertainty is aleatory: due to randomness. Numpy provides a simple way to generate random arrays (from a variety of distributions). For example, `np.random.random` us useful for making random data between 0 and 1 (a continuous Uniform distribution). Note how the code below creates a matrix filled with values, and they are evenly spread over the plot. This represents two random variables each with the standard uniform distribution."
   ]
  },
  {
   "cell_type": "code",
   "execution_count": null,
   "id": "edebbab4",
   "metadata": {},
   "outputs": [],
   "source": [
    "N = 1000\n",
    "A = np.random.random(size = (2, N))\n",
    "plt.plot(*A, \"ok\")\n",
    "plt.show()"
   ]
  },
  {
   "cell_type": "markdown",
   "id": "b0c7cfe0",
   "metadata": {},
   "source": [
    "We will focus initially in MUDE on the Normal (or Gaussian) distribution, which is also easy to use with numpy, for example: `np.random.normal(loc=?, scale=?, size=(?, ?))`. In this case the `loc` abd `scale` arguments are the location and scale parameters, which are equivalent to the mean and standard deviation for this distribution (we will learn more about this in week 7)."
   ]
  },
  {
   "cell_type": "markdown",
   "id": "ae6f4d63",
   "metadata": {},
   "source": [
    "<div style=\"background-color:#AABAB2; color: black; width:95%; vertical-align: middle; padding:15px; margin: 10px; border-radius: 10px\">\n",
    "<p>\n",
    "<b>Task 3.1:</b>   \n",
    "    Using the examples above as a guide, create and plot a random sample of two normal distributions each with mean 10 and standard deviation 5.\n",
    "</p>\n",
    "</div>"
   ]
  },
  {
   "cell_type": "code",
   "execution_count": null,
   "id": "3ac75364",
   "metadata": {},
   "outputs": [],
   "source": [
    "# A = np.random.normal(YOUR_ANSWER_HERE)\n",
    "#SOLUTION\n",
    "A = np.random.normal(loc = 10, scale = 5, size = (2, N))\n",
    "plt.plot(*A, \"ok\")\n",
    "plt.show()"
   ]
  },
  {
   "cell_type": "markdown",
   "id": "24f92d77",
   "metadata": {},
   "source": [
    "The `norm` class in `scipy.stats` can also be used to model a normal distribution. It is more useful than the numpy methods because you can easily create an instance which has custom `loc` and `scale` parameters, and then call important methods like `X.cdf` and `X.pdf`. "
   ]
  },
  {
   "cell_type": "code",
   "execution_count": null,
   "id": "87046205",
   "metadata": {},
   "outputs": [],
   "source": [
    "X = norm(loc = 0, scale = 1)\n",
    "print(X.stats())"
   ]
  },
  {
   "cell_type": "markdown",
   "id": "58e14cd4",
   "metadata": {},
   "source": [
    "<div style=\"background-color:#AABAB2; color: black; width:95%; vertical-align: middle; padding:15px; margin: 10px; border-radius: 10px\">\n",
    "<p>\n",
    "<b>Task 3.2:</b>   \n",
    "    Use the <code>cdf</code> method to find P[X < 0].\n",
    "</p>\n",
    "</div>"
   ]
  },
  {
   "cell_type": "code",
   "execution_count": null,
   "id": "565bd8ea",
   "metadata": {},
   "outputs": [],
   "source": [
    "## Solution\n",
    "p_x_lt_0 = X.cdf(0)\n",
    "###"
   ]
  },
  {
   "cell_type": "markdown",
   "id": "339c713f",
   "metadata": {},
   "source": [
    "<div style=\"background-color:#AABAB2; color: black; width:95%; vertical-align: middle; padding:15px; margin: 10px; border-radius: 10px\">\n",
    "<p>\n",
    "<b>Task 3.3:</b>   \n",
    "Find P[X > 1].\n",
    "</p>\n",
    "</div>"
   ]
  },
  {
   "cell_type": "code",
   "execution_count": null,
   "id": "3442b197",
   "metadata": {},
   "outputs": [],
   "source": [
    "## Solution\n",
    "p_x_gt_1 = 1 - X.cdf(1)\n",
    "###"
   ]
  },
  {
   "cell_type": "markdown",
   "id": "1ae7cee6",
   "metadata": {},
   "source": [
    "<div style=\"background-color:#AABAB2; color: black; width:95%; vertical-align: middle; padding:15px; margin: 10px; border-radius: 10px\">\n",
    "<p>\n",
    "<b>Task 3.4:</b>   \n",
    "Finally, use <code>linspace</code> and the <code>pdf</code> method to plot the distribution <code>X</code>.\n",
    "</p>\n",
    "</div>"
   ]
  },
  {
   "cell_type": "code",
   "execution_count": null,
   "id": "337c578f",
   "metadata": {},
   "outputs": [],
   "source": [
    "# x = YOUR_CODE_HERE \n",
    "# plt.plot(YOUR_CODE_HERE)\n",
    "## Solution\n",
    "x = np.linspace(-10, 10, num=1000)\n",
    "plt.plot(x, X.pdf(x))\n",
    "plt.show()"
   ]
  },
  {
   "cell_type": "markdown",
   "id": "1300fd6a",
   "metadata": {},
   "source": [
    "## Task 4: Application 1---Modelling with normal distributions\n",
    "\n",
    "In this Task we will combine several MUDE topics: modelling concepts, uncertainty, numpy arrays, a function of random variables and propagation of uncertainty. It may seem like a lot, but in the end you are only asked to make a few small changes to the code.\n",
    "\n",
    "In this Task one of the strategies to keep our code organized is to use **functions.** It is very useful to write simple functions to that can be used repeatedly in our analysis. In addition, it is important to recognize that rather than importing data we are *simulating* our own data using random samples from the normal distributions for length and width. Why? One reason is perhaps we already know what the distribution of values is, and we don't have enough measurements.\n",
    "\n",
    "Assume that the length and width each have a Normal distribution as follows:\n",
    "$$\n",
    "height \\sim \\mathcal{N}(5000, 25) \\\\\n",
    "width \\sim \\mathcal{N}(2000, 100)\n",
    "$$\n",
    "\n",
    "The exact steps for the Task are:\n",
    "1. Create a random sample for two random variables: length and width of an object\n",
    "2. Compute the output of the function of random variables: area\n",
    "3. Plot the histogram of area\n",
    "4. Compute the mean and standard deviation of area\n",
    "5. Compute the PDF of area and add it to the histogram\n",
    "\n",
    "To facilitate this, we will start by writing **four functions** to automate the process. You will see the advantage of writing functions in the beginning of your code, because it makes the code much easier to write, run and interpret later! You may also want to refer to Chapters 1 and 3 of the [online Python course](https://teachbooks.github.io/learn-python/main/intro.html) to refresh your memory of functions."
   ]
  },
  {
   "cell_type": "markdown",
   "id": "63175d69",
   "metadata": {},
   "source": [
    "<div style=\"background-color:#AABAB2; color: black; width:95%; vertical-align: middle; padding:15px; margin: 10px; border-radius: 10px\">\n",
    "<p>\n",
    "<b>Task 4.1:</b>   \n",
    "    Complete the functions outlined in the code cells below. The function name and docstring should indicate what is required for each. You can also look at the code for Task 4.2 to see exactly how each function should be used.\n",
    "</p>\n",
    "</div>"
   ]
  },
  {
   "cell_type": "code",
   "execution_count": null,
   "id": "61eed80b",
   "metadata": {},
   "outputs": [],
   "source": [
    "def create_sample(N):\n",
    "    \"Create N samples each of height and width.\"\n",
    "    # height = np.array(norm.rvs(YOUR_CODE_HERE)) \n",
    "    # width = np.array(norm.rvs(YOUR_CODE_HERE))\n",
    "    #Solution:\n",
    "    height = np.array(norm.rvs(loc = 5000, scale = 5, size=N))\n",
    "    width = np.array(norm.rvs(loc = 2000, scale = 10, size=N))\n",
    "    return height, width\n",
    "\n",
    "def compute_area(height, width):\n",
    "    \"Compute the area of the rectangle.\"\n",
    "    # return YOUR_CODE_HERE\n",
    "    #Solution:\n",
    "    return height*width\n",
    "\n",
    "def area_mean_std(area_data):\n",
    "    \"Find the mean and std dev of the area.\"\n",
    "    # YOUR CODE HERE\n",
    "    #SOLUTION Method 1:\n",
    "    area_mean = np.mean(area_data)\n",
    "    area_std = np.std(area_data)\n",
    "    #SOLUTION Method 2:\n",
    "    # area_mean = 5000 * 2000\n",
    "    # area_std = (25 + 5000**2) * (100 + 2000**2) - (5000**2)*(2000**2)\n",
    "    return area_mean, area_std\n",
    "\n",
    "def plot_data_and_pdf(data, mean, std):\n",
    "    \"Compare the histogram of data to a normal pdf defined by mean and std.\"\n",
    "    histogram_data = plt.hist(data, bins = 10,\n",
    "                              density=True, stacked=True,  edgecolor='black', linewidth=1.2)\n",
    "    x = np.linspace(min(histogram_data[1]), max(histogram_data[1]), num=1000)\n",
    "    area_norm = norm(loc=mean, scale=std)\n",
    "    # plt.plot(x, YOUR_CODE_HERE, color='red', linewidth=2.0)\n",
    "    # plt.title(\"\")\n",
    "    # plt.xlabel(\"\")\n",
    "    # plt.ylabel(\"\")\n",
    "    #SOLUTION:\n",
    "    plt.plot(x, area_norm.pdf(x), color='red', linewidth=2.0)\n",
    "    plt.title(\"Comparison of Normal PDF to Histogram of Data\")\n",
    "    plt.xlabel(\"Area of Rectangle [m^2]\")\n",
    "    plt.ylabel(\"Probability Density (PDF) and Frequency (data)\")\n",
    "    plt.show()"
   ]
  },
  {
   "cell_type": "markdown",
   "id": "0d96c24b",
   "metadata": {},
   "source": [
    "<div style=\"background-color:#AABAB2; color: black; width:95%; vertical-align: middle; padding:15px; margin: 10px; border-radius: 10px\">\n",
    "<p>\n",
    "<b>Task 4.2:</b>   \n",
    "    Run the cell below to see if your functions worked. The correct output will be a plot with histogram in blue and the PDF as a red line.\n",
    "</p>\n",
    "</div>"
   ]
  },
  {
   "cell_type": "code",
   "execution_count": null,
   "id": "2d60bb8b",
   "metadata": {},
   "outputs": [],
   "source": [
    "N = 500\n",
    "height, width = create_sample(N)\n",
    "area = compute_area(height, width)\n",
    "area_mean, area_std = area_mean_std(area)\n",
    "plot_data_and_pdf(area, area_mean, area_std)"
   ]
  },
  {
   "cell_type": "markdown",
   "id": "447e5033",
   "metadata": {},
   "source": [
    "Now we would like to quickly communicate our results; imagine you will be sending this notebook to a classmate or a teacher and you really want them to be able to see the final answer easily, while also being able to understand how you arrived at it. We can do this quick easily using Markdown cells in the notebook (of course if you haven't realized it yet, this cell you are reading is a Markdown cell).\n",
    "\n",
    "Markdown is a _markup language_ that makes it possible to write richly-formatted text in Jupyter notebooks (see the course website for more information and examples). We will use Markdown on a weekly basis in our MUDE project reports, so this is a good chance to use it for the first time, if you never have. Use the cell below to write your answer to Q1, using the following formatting tips:\n",
    "- Write out lists by beginning the line with a hyphen `- my item`, or a number and dot `1. first item`\n",
    "- You make text **bold** by using `**double asterisk**` and *italics* with `*one asterisk*`.\n",
    "- `Highlight` code-related words or other important concepts using back-ticks `` `like this` ``\n",
    "```python\n",
    "message=\"You can also make multi-line code blocks with three back-ticks\n",
    "extra_message=\"Provide a language after the first backticks to get syntax highlighting\n",
    "# e.g. \n",
    "#```python\n",
    "# this explanation\n",
    "# ```\n",
    "print(message)\n",
    "print(extra_message)\n",
    "```"
   ]
  },
  {
   "cell_type": "markdown",
   "id": "c11a5654",
   "metadata": {},
   "source": [
    "<div style=\"background-color:#AABAB2; color: black; width:95%; vertical-align: middle; padding:15px; margin: 10px; border-radius: 10px\">\n",
    "<p>\n",
    "<b>Task 6.3:</b>   \n",
    "Use the Markdown cell below to document your answer from the previous tasks; try to use as many Markdown elements as possible. For example, describe the mean, explain what the figure shows, list a few observations, describe the code you wrote, etc..\n",
    "<br><br>Note that there is no \"wrong\" answer here: as long as you feel comfortable with Markdown you can move on, comfortable you will be ready for the Group Assignment this Friday.\n",
    "</p>\n",
    "</div>"
   ]
  },
  {
   "cell_type": "markdown",
   "id": "00b4adb5",
   "metadata": {},
   "source": [
    "<div style=\"background-color:#FAE99E; color: black; width:95%; vertical-align: middle; padding:15px; margin: 10px; border-radius: 10px\">\n",
    "<p>\n",
    "<b>Solution:</b>   \n",
    "Given the examples above, this should be fairly obvious; you can also find many examples of Markdown cells in the MUDE notebooks. If you are in doubt about your work, please ask a MUDE teacher.\n",
    "</p>\n",
    "</div>"
   ]
  },
  {
   "cell_type": "markdown",
   "id": "4f0eac5e",
   "metadata": {},
   "source": [
    "### You answer for Q1 in Task 6: include a title\n",
    "\n",
    "Write some explanation of what you did, as well as the steps:\n",
    "- step 1\n",
    "- step 2\n",
    "- ...\n",
    "\n",
    "You can `format the command you used` as code. And also write the answer using LaTeX-style math notation, both inline (like this: $x=5$) or as a separate block, like this:\n",
    "$$\n",
    "y = m \\cdot x + b\n",
    "$$\n",
    "\n",
    "That's it for this week!"
   ]
  },
  {
   "cell_type": "markdown",
   "id": "ef45c1a7",
   "metadata": {},
   "source": [
    "**End of notebook.**\n",
    "<h2 style=\"height: 60px\">\n",
    "</h2>\n",
    "<h3 style=\"position: absolute; display: flex; flex-grow: 0; flex-shrink: 0; flex-direction: row-reverse; bottom: 60px; right: 50px; margin: 0; border: 0\">\n",
    "    <style>\n",
    "        .markdown {width:100%; position: relative}\n",
    "        article { position: relative }\n",
    "    </style>\n",
    "    <a rel=\"license\" href=\"http://creativecommons.org/licenses/by/4.0/\">\n",
    "      <img alt=\"Creative Commons License\" style=\"border-width:; width:88px; height:auto; padding-top:10px\" src=\"https://i.creativecommons.org/l/by/4.0/88x31.png\" />\n",
    "    </a>\n",
    "    <a rel=\"TU Delft\" href=\"https://www.tudelft.nl/en/ceg\">\n",
    "      <img alt=\"TU Delft\" style=\"border-width:0; width:100px; height:auto; padding-bottom:0px\" src=\"https://gitlab.tudelft.nl/mude/public/-/raw/main/tu-logo/TU_P1_full-color.png\" />\n",
    "    </a>\n",
    "    <a rel=\"MUDE\" href=\"http://mude.citg.tudelft.nl/\">\n",
    "      <img alt=\"MUDE\" style=\"border-width:0; width:100px; height:auto; padding-bottom:0px\" src=\"https://gitlab.tudelft.nl/mude/public/-/raw/main/mude-logo/MUDE_Logo-small.png\" />\n",
    "    </a>\n",
    "    \n",
    "</h3>\n",
    "<span style=\"font-size: 75%\">\n",
    "&copy; Copyright 2024 <a rel=\"MUDE\" href=\"http://mude.citg.tudelft.nl/\">MUDE</a> TU Delft. This work is licensed under a <a rel=\"license\" href=\"http://creativecommons.org/licenses/by/4.0/\">CC BY 4.0 License</a>."
   ]
  }
 ],
 "metadata": {
  "language_info": {
   "name": "python"
  }
 },
 "nbformat": 4,
 "nbformat_minor": 5
}
