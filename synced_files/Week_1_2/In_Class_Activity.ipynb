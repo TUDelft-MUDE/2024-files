{
 "cells": [
  {
   "cell_type": "markdown",
   "metadata": {},
   "source": [
    "# Lecture 1.2 Activity: The Best Model? You Bet!\n",
    "\n",
    "<h1 style=\"position: absolute; display: flex; flex-grow: 0; flex-shrink: 0; flex-direction: row-reverse; top: 60px;right: 30px; margin: 0; border: 0\">\n",
    "    <style>\n",
    "        .markdown {width:100%; position: relative}\n",
    "        article { position: relative }\n",
    "    </style>\n",
    "    <img src=\"https://gitlab.tudelft.nl/mude/public/-/raw/main/tu-logo/TU_P1_full-color.png\" style=\"width:100px\" />\n",
    "    <img src=\"https://gitlab.tudelft.nl/mude/public/-/raw/main/mude-logo/MUDE_Logo-small.png\" style=\"width:100px\" />\n",
    "</h1>\n",
    "<h2 style=\"height: 10px\">\n",
    "</h2>\n",
    "\n",
    "*[CEGM1000 MUDE](http://mude.citg.tudelft.nl/): Week 1.2, Monday, Sep 9, 2024. This assignment does not need to be turned in.*"
   ]
  },
  {
   "cell_type": "markdown",
   "metadata": {
    "cell_id": "21f9833788f64e78a35bc8cac535e76d",
    "deepnote_cell_type": "markdown"
   },
   "source": [
    "## Overview\n",
    "\n",
    "In this assignment we will fit two models to observations of ice break-up date and reflect on their performance.\n",
    "\n",
    "The data we are working with represents the number of days since the new year that it took for the ice in a river to completely melt and break apart. The record goes from 1917 to 2019, which is in total 103 years of measurements.\n",
    "\n",
    "**Goal of the assignment:** reflect on model performance and model accuracy in the context of its use.\n",
    "\n",
    "We will follow these steps:\n",
    "\n",
    "1. Import data using `numpy`;\n",
    "2. Explore the data;\n",
    "3. Fit a linear regression model and reflect on its goodness of fit;\n",
    "5. Apply confidence intervals to the model;\n",
    "6. Fit a non-linear model and reflect on its goodness of fit"
   ]
  },
  {
   "cell_type": "code",
   "execution_count": null,
   "metadata": {},
   "outputs": [],
   "source": [
    "import numpy as np\n",
    "import matplotlib.pyplot as plt\n",
    "import scipy.stats as sci\n",
    "import scipy.optimize as opt"
   ]
  },
  {
   "cell_type": "markdown",
   "metadata": {
    "cell_id": "b1d3e3d2f92c4de29aba4aa61c525867",
    "deepnote_cell_type": "markdown",
    "jp-MarkdownHeadingCollapsed": true,
    "tags": []
   },
   "source": [
    "## Part 1: Import data"
   ]
  },
  {
   "cell_type": "markdown",
   "metadata": {},
   "source": [
    "We will import the dataset by using the `numpy` function `loadtxt`. If you open the *data-days.csv* file, you will notice that the comma is used as decimal separator for the number of recorded days. For this reason, we will import the data in the following steps:\n",
    "\n",
    "1. Read the file `data-days.csv` as strings. To this end, we will use the option `dtype=str` within the function `loadtxt`. Note that we also need to set the delimiter between columns as `delimeter=;` and specify to skip the first row (which contains the header of the columns) as `skiprows=1`.\n",
    "    \n",
    "2. Replace the commas by dots. We will use the `numpy` function `char.replace` to this end. The first argument is the numpy array of strings where we want to make changes, the second argument is the character we want to look for and change, and the third argument is what we want to use as replacement.\n",
    "   \n",
    "3. Transform it back to `float` data. We will use `data.astype(float)` for this.\n",
    "\n",
    "And our data is ready to start playing!\n",
    "\n",
    "We also printed for you the first 10 elements of the array, so you can see how it actually looks."
   ]
  },
  {
   "cell_type": "code",
   "execution_count": null,
   "metadata": {},
   "outputs": [],
   "source": [
    "data = np.loadtxt('data/days.csv', dtype=str, delimiter=';', skiprows=1)\n",
    "data = np.char.replace(data, ',', '.')\n",
    "data = data.astype(float)\n",
    "\n",
    "data[0:10]"
   ]
  },
  {
   "cell_type": "markdown",
   "metadata": {
    "jp-MarkdownHeadingCollapsed": true,
    "tags": []
   },
   "source": [
    "## Part 2: Preliminary Analysis"
   ]
  },
  {
   "cell_type": "markdown",
   "metadata": {
    "cell_id": "1b15837c64e748b89fafad1f8007a399",
    "deepnote_cell_type": "markdown"
   },
   "source": [
    "One of the first steps when getting familiar with new data is to see the dimensions of the data. To this end, we can use the `numpy` function `shape`."
   ]
  },
  {
   "cell_type": "code",
   "execution_count": null,
   "metadata": {},
   "outputs": [],
   "source": [
    "np.shape(data)"
   ]
  },
  {
   "cell_type": "markdown",
   "metadata": {
    "cell_id": "e901697b36064391b4a62d78c955dd6b",
    "deepnote_cell_type": "markdown"
   },
   "source": [
    "The result is a (103, 2) array, i.e., a matrix with 103 rows and 2 columns. The first column contains the year of record, while the second one contains the measured data."
   ]
  },
  {
   "cell_type": "markdown",
   "metadata": {
    "cell_id": "43139b45e34f4252a6a270336ca401ba",
    "deepnote_cell_type": "markdown"
   },
   "source": [
    "We can also compute the mean and the standard deviation of the variable of interest (second column) to get a sense of how the variable behaves."
   ]
  },
  {
   "cell_type": "code",
   "execution_count": null,
   "metadata": {},
   "outputs": [],
   "source": [
    "mean = np.mean(data[:,1])\n",
    "std = np.std(data[:,1])\n",
    "\n",
    "print(f'Mean: {mean:.3f}\\n\\\n",
    "Standard deviation: {std:.3f}')"
   ]
  },
  {
   "cell_type": "markdown",
   "metadata": {
    "cell_id": "2a1ddf21c02141dc8dfebee83c602a73",
    "deepnote_cell_type": "markdown"
   },
   "source": [
    "We can also quickly plot them to see the scatter of the data and the evolution in time."
   ]
  },
  {
   "cell_type": "code",
   "execution_count": null,
   "metadata": {},
   "outputs": [],
   "source": [
    "plt.scatter(data[:, 0], data[:, 1], label='Measured data')\n",
    "plt.xlabel('Year [-]')\n",
    "plt.ylabel('Number of days/year [-]')\n",
    "plt.title(f'Number of days per year between {data[0,0]:.0f}-{data[-1,0]:.0f}')\n",
    "plt.grid()"
   ]
  },
  {
   "cell_type": "markdown",
   "metadata": {
    "cell_id": "37edb558a10b47d88b3e4f683da56221",
    "deepnote_cell_type": "markdown"
   },
   "source": [
    "In the figure above, we have plotted the year of the measurement in the x-axis and the number of days until the ice broke during that year in the y-axis. We can see that there is a significant scatter. Also, there seems to be a trend over time: as we go ahead in time (higher values in the x-axis), the number of days until the ice broke seems to decrease.\n",
    "\n",
    "We have identifid a trend but **can we model it**?"
   ]
  },
  {
   "cell_type": "markdown",
   "metadata": {
    "cell_id": "a05297ff6298401192d49f8e257ff9ec",
    "deepnote_cell_type": "markdown",
    "jp-MarkdownHeadingCollapsed": true,
    "tags": []
   },
   "source": [
    "## Part 3: Fit a linear regression model: is it a good model?"
   ]
  },
  {
   "cell_type": "markdown",
   "metadata": {},
   "source": [
    "We are going to create a model which allows us to predict the number of days until the ice broke as function of the year. For that, we are going to assume a linear relationship between the variables (a linear model) and we will fit it using linear regression. This is, we will fit a regression model $days=m\\cdot year+q$, where $m$ represents the slope of the line, and $q$ is the intercept.\n",
    "\n",
    "We will do it using functions which were already coded for us. We will use the `scipy.stats` library which contains the `linregress` function. For more info see [here](https://docs.scipy.org/doc/scipy/reference/generated/scipy.stats.linregress.html).\n",
    "\n",
    "In the next code block we define the function `regression` which requires x and y values as input and computes the values of $R^2$, $m$, and $q$. \n",
    "\n",
    "Remember that $R^2$ is a goodness of fit metric and you should have read about it [here](https://mude.citg.tudelft.nl/2024/book/modelling/gof.html)."
   ]
  },
  {
   "cell_type": "code",
   "execution_count": null,
   "metadata": {},
   "outputs": [],
   "source": [
    "def regression(x, y):\n",
    "    '''\n",
    "    Determine linear regression\n",
    "\n",
    "    Input: x = array, x values\n",
    "           y = array, y values\n",
    "\n",
    "    Output: r_sq = coefficient of determination\n",
    "            q = intercept of the line\n",
    "            m = slope of the line\n",
    "    '''\n",
    "\n",
    "    regression = sci.linregress(x, y)\n",
    "    r_sq = regression.rvalue**2\n",
    "    q = regression.intercept \n",
    "    m = regression.slope \n",
    "\n",
    "    print(f'Coefficient of determination R^2 = {r_sq:.3f}')\n",
    "    print(f'Intercept q = {q:.3f} \\nSlope m = {m:.3f}')\n",
    "\n",
    "    return r_sq, q, m\n"
   ]
  },
  {
   "cell_type": "code",
   "execution_count": null,
   "metadata": {},
   "outputs": [],
   "source": [
    "r_sq, q, m = regression(data[:,0], data[:,1])"
   ]
  },
  {
   "cell_type": "markdown",
   "metadata": {},
   "source": [
    "<div style=\"background-color:#AABAB2; color: black; width:95%; vertical-align: middle; padding:15px; margin: 10px; border-radius: 10px\">\n",
    "<p>\n",
    "<b>Task 3.1:</b> Based on the obtained coefficient of determination, assess the performance of the model.\n",
    "<ol>\n",
    "    <li> What does the coefficient of determination mean in this context?</li>\n",
    "    <li> Is the developed model accurate? </li>\n",
    "\n",
    "</ol>\n",
    "</p>\n",
    "</div>"
   ]
  },
  {
   "cell_type": "markdown",
   "metadata": {
    "cell_id": "143e5d1bf8324d9f80fca4af9a0d162c",
    "deepnote_cell_type": "markdown"
   },
   "source": [
    "We can also plot the data and the fitted model to see how the fit looks. To do so, we can make computations using the previous equation $days=m\\cdot year+q$ with the fitted intercept $q$ and slope $m$. We have already defined a function which does it for you."
   ]
  },
  {
   "cell_type": "code",
   "execution_count": null,
   "metadata": {},
   "outputs": [],
   "source": [
    "def calculate_line(x, m, q):\n",
    "    '''\n",
    "    Determine y values from linear regression\n",
    "\n",
    "    Input: x = array\n",
    "           m = slope of the line\n",
    "           q = intercept of the line\n",
    "\n",
    "    Output: y = array\n",
    "    '''\n",
    "\n",
    "    y = m * x + q\n",
    "\n",
    "    return y"
   ]
  },
  {
   "cell_type": "code",
   "execution_count": null,
   "metadata": {},
   "outputs": [],
   "source": [
    "line = calculate_line(data[:,0], m, q)"
   ]
  },
  {
   "cell_type": "code",
   "execution_count": null,
   "metadata": {},
   "outputs": [],
   "source": [
    "fig, axes = plt.subplots(1, 2,figsize = (12, 4))\n",
    "\n",
    "axes[0].scatter(data[:,0], data[:,1], label = 'Observations')\n",
    "axes[0].plot(data[:,0], line, color='r', label='Fitted line')\n",
    "axes[0].set_ylabel('Number of days/year [-]')\n",
    "axes[0].set_xlabel('Year [-]')\n",
    "axes[0].grid()\n",
    "axes[0].legend()\n",
    "axes[0].set_title('(a) Number of days as function of the year')\n",
    "\n",
    "axes[1].scatter(data[:,1], line)\n",
    "axes[1].plot([105, 145],[105, 145], line, color = 'k')\n",
    "axes[1].set_xlim([105, 145])\n",
    "axes[1].set_ylim([105, 145])\n",
    "axes[1].set_ylabel('Predicted number of days/year [-]')\n",
    "axes[1].set_xlabel('Observed number of days/year [-]')\n",
    "axes[1].grid()\n",
    "axes[1].set_title('(b) Observed and predicted number of days');"
   ]
  },
  {
   "cell_type": "markdown",
   "metadata": {
    "cell_id": "b564cab0d51c40f2aa3c7ebb9affaade",
    "deepnote_cell_type": "markdown"
   },
   "source": [
    "<div style=\"background-color:#AABAB2; color: black; width:95%; vertical-align: middle; padding:15px; margin: 10px; border-radius: 10px\">\n",
    "<p>\n",
    "<b>Task 3.2:</b>   \n",
    "    <p>Interpret the figures above. Do the previous plots fit with the result given by the coefficient of determination? Are they aligned?</p>\n",
    "<ol>\n",
    "\n",
    "</ol>\n",
    "</p>\n",
    "</div>"
   ]
  },
  {
   "cell_type": "markdown",
   "metadata": {
    "cell_id": "67e44fda81f24273b8d28edd35a50d87",
    "deepnote_cell_type": "markdown"
   },
   "source": [
    "We can also assess the scatter using the Root Mean Square Error ($RMSE$). Don't you remember it? Go back to the [book](https://mude.citg.tudelft.nl/2024/book/modelling/gof.html)!\n",
    "\n",
    "Let's see how our model performs for this metric."
   ]
  },
  {
   "cell_type": "code",
   "execution_count": null,
   "metadata": {},
   "outputs": [],
   "source": [
    "def RMSE(data, fit_data):\n",
    "    '''\n",
    "    Compute the RMSE\n",
    "\n",
    "    RMSE = [sum{(data - fit_data)^2} / N]^(1/2)\n",
    "\n",
    "    Input: data = array with real measured data\n",
    "           fit_data = array with predicted data\n",
    "    \n",
    "    Output: RMSE\n",
    "    '''\n",
    "\n",
    "    diff_n = (data - fit_data)**2\n",
    "    mean = np.mean(diff_n)\n",
    "\n",
    "    error = mean**(1/2)\n",
    "    print(f'RMSE = {error:.3f}')\n",
    "    return error"
   ]
  },
  {
   "cell_type": "code",
   "execution_count": null,
   "metadata": {},
   "outputs": [],
   "source": [
    "RMSE_line = RMSE(data[:,1], line)"
   ]
  },
  {
   "cell_type": "markdown",
   "metadata": {
    "cell_id": "b564cab0d51c40f2aa3c7ebb9affaade",
    "deepnote_cell_type": "markdown"
   },
   "source": [
    "<div style=\"background-color:#AABAB2; color: black; width:95%; vertical-align: middle; padding:15px; margin: 10px; border-radius: 10px\">\n",
    "<p>\n",
    "<b>Task 3.3:</b>   \n",
    "    Based on the obtained RMSE, assess the performance of the model. Answer in the cell below using markdown:\n",
    "<ol>\n",
    "    <li> What does RMSE mean in this context?</li>\n",
    "    <li> Is the developed model accurate according to RMSE? </li>\n",
    "\n",
    "</ol>\n",
    "</p>\n",
    "</div>"
   ]
  },
  {
   "cell_type": "markdown",
   "metadata": {},
   "source": [
    "Finally, we can compute the bias of our model using $rbias$."
   ]
  },
  {
   "cell_type": "code",
   "execution_count": null,
   "metadata": {},
   "outputs": [],
   "source": [
    "def rbias(data, fit_data):\n",
    "    '''\n",
    "    Compute the relative bias\n",
    "\n",
    "    rbias = [sum{(fit_data-data) / |data|}]/N\n",
    "\n",
    "    Input: data = array with real measured data\n",
    "           fit_data = array with predicted data\n",
    "    \n",
    "    Output: relative bias\n",
    "    '''\n",
    "    bias = np.mean((fit_data-data)/data)\n",
    "\n",
    "    print(f'rbias = {bias:.3f}')\n",
    "    return bias"
   ]
  },
  {
   "cell_type": "code",
   "execution_count": null,
   "metadata": {},
   "outputs": [],
   "source": [
    "rbias_line = rbias(data[:,1], line)"
   ]
  },
  {
   "cell_type": "markdown",
   "metadata": {
    "cell_id": "b564cab0d51c40f2aa3c7ebb9affaade",
    "deepnote_cell_type": "markdown"
   },
   "source": [
    "<div style=\"background-color:#AABAB2; color: black; width:95%; vertical-align: middle; padding:15px; margin: 10px; border-radius: 10px\">\n",
    "<p>\n",
    "<b>Task 3.4:</b>   \n",
    "    Based on the obtained relative bias, assess the performance of the model. Answer in the cell below using markdown:\n",
    "<ol>\n",
    "    <li> What does <code>rbias</code> mean in this context?</li>\n",
    "</ol>\n",
    "</p>\n",
    "</div>"
   ]
  },
  {
   "cell_type": "markdown",
   "metadata": {
    "cell_id": "19496dbefd3247f09c2226579c7b665f",
    "deepnote_cell_type": "markdown",
    "jp-MarkdownHeadingCollapsed": true,
    "tags": []
   },
   "source": [
    "## Part 4: Confidence Intervals"
   ]
  },
  {
   "cell_type": "markdown",
   "metadata": {},
   "source": [
    "One way of assessing the uncertainty around the predictions of a model are confidence intervals. They give us insight into the precision of their predictions by transforming them into probabilities. In short, the 95% confidence interval (significance $\\alpha=0.05$) shows the range of values within which my observation would be with a probability of 95%. Here, we want you to focus on their interpretation. In the following weeks (1.3), you will learn more about how to compute them. "
   ]
  },
  {
   "cell_type": "code",
   "execution_count": null,
   "metadata": {},
   "outputs": [],
   "source": [
    "def conf_int(x, y, alpha):\n",
    "    '''\n",
    "    Compute the confidence intervals\n",
    "\n",
    "    Input: x = array, observations\n",
    "           y = array, predictions\n",
    "           alpha = float, confidence interval\n",
    "\n",
    "    Output: k = float, width of the confidence interval\n",
    "    '''\n",
    "    sd_error = (y - x).std()\n",
    "    k = sci.norm.ppf(1-alpha/2)*sd_error\n",
    "\n",
    "    return k"
   ]
  },
  {
   "cell_type": "code",
   "execution_count": null,
   "metadata": {},
   "outputs": [],
   "source": [
    "k = conf_int(data[:,1], line, 0.05)\n",
    "ci_low = line - k\n",
    "ci_up = line + k\n",
    "\n",
    "#plot\n",
    "plt.scatter(data[:,0], data[:,1], label = 'Observations')\n",
    "plt.plot(data[:,0], line, color='r', label='Fitted line')\n",
    "plt.plot(data[:,0], ci_low, '--k')\n",
    "plt.plot(data[:,0], ci_up, '--k')\n",
    "plt.ylabel('Number of days/year [-]')\n",
    "plt.xlabel('Year [-]')\n",
    "plt.grid()\n",
    "plt.legend()\n",
    "plt.title('Number of days as function of the year')"
   ]
  },
  {
   "cell_type": "markdown",
   "metadata": {
    "cell_id": "b564cab0d51c40f2aa3c7ebb9affaade",
    "deepnote_cell_type": "markdown"
   },
   "source": [
    "<div style=\"background-color:#AABAB2; color: black; width:95%; vertical-align: middle; padding:15px; margin: 10px; border-radius: 10px\">\n",
    "<p>\n",
    "<b>Task 4.1:</b>   \n",
    "    What can you conclude from the previous plot? Think about the accuracy of the prediction compared to the precision you need in your bet (up to minutes!).\n",
    "<ol>\n",
    "</ol>\n",
    "</p>\n",
    "</div>"
   ]
  },
  {
   "cell_type": "markdown",
   "metadata": {
    "cell_id": "a19fb5b7e1cd4c32b435b8b967933700",
    "deepnote_cell_type": "markdown",
    "jp-MarkdownHeadingCollapsed": true,
    "tags": []
   },
   "source": [
    "## Part 5: Non-linear Models"
   ]
  },
  {
   "cell_type": "markdown",
   "metadata": {},
   "source": [
    "As we have seen, the data-driven linear model is not really a good choice for representing the data we have. Let's try with one which is slightly more complicated: a non-linear model.\n",
    "\n",
    "In this section, we will analyze the fitting of a quadratic model as $days = A \\cdot year^2 + B \\cdot year + C$. The steps are the same as in the previous section, so we will go fast through the code to focus on the interpretation and comparison between the two models."
   ]
  },
  {
   "cell_type": "markdown",
   "metadata": {
    "cell_id": "ca8a6b9d68234ae69a799a3f4f3866a2",
    "deepnote_cell_type": "markdown"
   },
   "source": [
    "You do not need to worry about this right now, but in case you are curious: we will make use of the `scipy.optimize` library, which contains the `curve_fit` function. For further info on the function see [here](https://docs.scipy.org/doc/scipy/reference/generated/scipy.optimize.curve_fit.html)."
   ]
  },
  {
   "cell_type": "code",
   "execution_count": null,
   "metadata": {},
   "outputs": [],
   "source": [
    "def parabola(x, a, b, c):\n",
    "    '''\n",
    "    Compute the quadratic model\n",
    "\n",
    "    y = a * x^2 + b * x + c\n",
    "\n",
    "    Input: x = array, independent variable\n",
    "           a, b, c = parameters to be optimized\n",
    "\n",
    "    Output: y = array, dependent variable\n",
    "    '''\n",
    "\n",
    "    y = a * x**2 + b * x + c\n",
    "    return y"
   ]
  },
  {
   "cell_type": "code",
   "execution_count": null,
   "metadata": {},
   "outputs": [],
   "source": [
    "popt_parabola, pcov_parabola = opt.curve_fit(parabola, data[:,0], data[:,1])\n",
    "\n",
    "print(f'Optimal estimation for parameters:\\n\\\n",
    "a = {popt_parabola[0]:.3e}, b = {popt_parabola[1]:.3f}, c = {popt_parabola[2]:.3f}\\n')\n",
    "\n",
    "print(f'Covariance matrix for parameters:\\n\\\n",
    "Sigma = {pcov_parabola}')"
   ]
  },
  {
   "cell_type": "markdown",
   "metadata": {
    "cell_id": "10efd81771064ce0ac4d50095be06e23",
    "deepnote_cell_type": "markdown"
   },
   "source": [
    "Therefore, our parabola now looks like $days = -1.277 \\cdot 10^{-3} \\cdot year^2 + 4.942 \\cdot year - 4654.244$.\n",
    "\n",
    "Now that we have fitted it, we can use it to compute predictions."
   ]
  },
  {
   "cell_type": "code",
   "execution_count": null,
   "metadata": {},
   "outputs": [],
   "source": [
    "fitted_parabola = parabola(data[:,0], *popt_parabola)"
   ]
  },
  {
   "cell_type": "markdown",
   "metadata": {
    "cell_id": "6cc6a36c668f4ee2b26d41b27d335691",
    "deepnote_cell_type": "markdown"
   },
   "source": [
    "We can also determine the confidence intervals for this fit and see how it looks!"
   ]
  },
  {
   "cell_type": "code",
   "execution_count": null,
   "metadata": {},
   "outputs": [],
   "source": [
    "k = conf_int(data[:,1], fitted_parabola, 0.05)\n",
    "ci_low_2 = fitted_parabola - k\n",
    "ci_up_2 = fitted_parabola + k\n",
    "\n",
    "#plot\n",
    "plt.scatter(data[:,0], data[:,1], label = 'Observations')\n",
    "plt.plot(data[:,0], fitted_parabola, color='r', label='Fitted line')\n",
    "plt.plot(data[:,0], ci_low_2, '--k')\n",
    "plt.plot(data[:,0], ci_up_2, '--k')\n",
    "plt.ylabel('Number of days/year [-]')\n",
    "plt.xlabel('Year [-]')\n",
    "plt.grid()\n",
    "plt.legend()\n",
    "plt.title('Number of days as function of the year')"
   ]
  },
  {
   "cell_type": "markdown",
   "metadata": {},
   "source": [
    "And finally compute the GOF metrics."
   ]
  },
  {
   "cell_type": "code",
   "execution_count": null,
   "metadata": {},
   "outputs": [],
   "source": [
    "RMSE_parabola = RMSE(data[:,1], fitted_parabola)\n",
    "R2_parabola = 1-((data[:,1]-fitted_parabola)**2).mean()/(data[:,1].var())\n",
    "print(f'Coefficient of determination = {R2_parabola:.3f}')\n",
    "rbias_parabola = rbias(data[:,1], fitted_parabola)"
   ]
  },
  {
   "cell_type": "markdown",
   "metadata": {
    "cell_id": "b564cab0d51c40f2aa3c7ebb9affaade",
    "deepnote_cell_type": "markdown"
   },
   "source": [
    "<div style=\"background-color:#AABAB2; color: black; width:95%; vertical-align: middle; padding:15px; margin: 10px; border-radius: 10px\">\n",
    "<p>\n",
    "<b>Task 5.1:</b>   \n",
    "    Based on the previous plot and the computed GOF metrics, is the quadratic model better than the linear one?\n",
    "<ol>\n",
    "</ol>\n",
    "</p>\n",
    "</div>"
   ]
  },
  {
   "cell_type": "markdown",
   "metadata": {},
   "source": [
    "**End of notebook.**\n",
    "<h2 style=\"height: 60px\">\n",
    "</h2>\n",
    "<h3 style=\"position: absolute; display: flex; flex-grow: 0; flex-shrink: 0; flex-direction: row-reverse; bottom: 60px; right: 50px; margin: 0; border: 0\">\n",
    "    <style>\n",
    "        .markdown {width:100%; position: relative}\n",
    "        article { position: relative }\n",
    "    </style>\n",
    "    <a rel=\"license\" href=\"http://creativecommons.org/licenses/by/4.0/\">\n",
    "      <img alt=\"Creative Commons License\" style=\"border-width:; width:88px; height:auto; padding-top:10px\" src=\"https://i.creativecommons.org/l/by/4.0/88x31.png\" />\n",
    "    </a>\n",
    "    <a rel=\"TU Delft\" href=\"https://www.tudelft.nl/en/ceg\">\n",
    "      <img alt=\"TU Delft\" style=\"border-width:0; width:100px; height:auto; padding-bottom:0px\" src=\"https://gitlab.tudelft.nl/mude/public/-/raw/main/tu-logo/TU_P1_full-color.png\" />\n",
    "    </a>\n",
    "    <a rel=\"MUDE\" href=\"http://mude.citg.tudelft.nl/\">\n",
    "      <img alt=\"MUDE\" style=\"border-width:0; width:100px; height:auto; padding-bottom:0px\" src=\"https://gitlab.tudelft.nl/mude/public/-/raw/main/mude-logo/MUDE_Logo-small.png\" />\n",
    "    </a>\n",
    "    \n",
    "</h3>\n",
    "<span style=\"font-size: 75%\">\n",
    "&copy; Copyright 2024 <a rel=\"MUDE\" href=\"http://mude.citg.tudelft.nl/\">MUDE</a> TU Delft. This work is licensed under a <a rel=\"license\" href=\"http://creativecommons.org/licenses/by/4.0/\">CC BY 4.0 License</a>."
   ]
  }
 ],
 "metadata": {
  "language_info": {
   "name": "python"
  }
 },
 "nbformat": 4,
 "nbformat_minor": 4
}
