{
 "cells": [
  {
   "cell_type": "markdown",
   "id": "d9aaa8e6",
   "metadata": {
    "tags": []
   },
   "source": [
    "# WS 2.1: Wiggles\n",
    "\n",
    "<h1 style=\"position: absolute; display: flex; flex-grow: 0; flex-shrink: 0; flex-direction: row-reverse; top: 90px;right: 30px; margin: 0; border: 0\">\n",
    "    <style>\n",
    "        .markdown {width:100%; position: relative}\n",
    "        article { position: relative }\n",
    "    </style>\n",
    "    <img src=\"https://gitlab.tudelft.nl/mude/public/-/raw/main/tu-logo/TU_P1_full-color.png\" style=\"width:100px\" />\n",
    "    <img src=\"https://gitlab.tudelft.nl/mude/public/-/raw/main/mude-logo/MUDE_Logo-small.png\" style=\"width:100px\" />\n",
    "</h1>\n",
    "<h2 style=\"height: 25px\">\n",
    "</h2>\n",
    "\n",
    "*[CEGM1000 MUDE](http://mude.citg.tudelft.nl/): Week 2.1, Wednesday November 13, 2024.*"
   ]
  },
  {
   "cell_type": "markdown",
   "id": "fbd9c875",
   "metadata": {},
   "source": [
    "## Overview:\n",
    "\n",
    "In this workshop the advection problem from the textbook is treated first in 1D and then in 2D. R\n",
    "\n",
    "$$\n",
    "\\frac{\\partial \\phi}{\\partial t} + c\\frac{\\partial \\phi}{\\partial x} = 0\n",
    "$$\n",
    "\n",
    "There are two main objectives:\n",
    "1. Understand the advection problem itself (how the quantity of interest is transported by the velocity field)\n",
    "2. Explore characteristics of the numerical analysis schemes employed, in particular: numerical diffusion and FVM stability\n",
    "\n",
    "To do this we will do the following:\n",
    "- Implement the central difference and upwind schemes in space for FVM and Forward Euler in time\n",
    "- Apply a boundary condition such that the quantity of interest repeatedly travels through the plot window (this helps us visualize the process!)\n",
    "- Evaluate stability of central difference and upwind schemes in combination with Forward Euler in time\n",
    "- Use the CFL to understand numerical stability\n",
    "\n",
    "Programming requirements: you will need to fill in a few missing pieces of the functions, but mostly you will change the values of a few Python variables to evaluate different aspects of the problem.\n",
    "\n",
    "\n",
    "The following Python variables will be defined to set up the problem:\n",
    "```\n",
    "p0 = initial value of our \"pulse\" (the quantity of interest, phi) [-]\n",
    "c = speed of the velocity field [m/s]\n",
    "L = length of the domain [m]\n",
    "Nx = number of volumes in the direction x\n",
    "T = duration of the simulation (maximum time) [s]\n",
    "Nt = number of time steps\n",
    "```\n",
    "\n",
    "There are also two flag variables: 1) `central` will allow you to switch between central and backward spatial discretization schemes, and 2) `square` changes the pulse from a square to a smooth bell curve (default for both is `True`; don't worry about it until instructed to change it).\n",
    "\n",
    "For the 2D case, `c`, `L`, `Nx` are extended as follows:\n",
    "```\n",
    "c --> cx, cy\n",
    "L --> Lx, Ly\n",
    "Nx -> Nx, Ny\n",
    "```"
   ]
  },
  {
   "cell_type": "markdown",
   "id": "7093c980",
   "metadata": {
    "tags": []
   },
   "source": [
    "## Part 1: Implement Central Averaging\n",
    "\n",
    "We are going to implement the central averaging scheme as derived in the textbook; however, **instead of implementing the system of equations in a matrix formulation**, we will _loop over each of the finite volumes in the system,_ one at a time.\n",
    "\n",
    "Because we will want to watch the \"pulse\" travel over a long period of time, we will take advantage of the reverse-indexing of Python (i.e., the fact that an index `a[-3]`, for example, will access the third item from the end of the array or list). When taking the volumes to the left of the first volume in direction $x$, we can use the values of $phi$ from the \"last\" volumes in $x$ (the end of the array). All we need to do is shift the index for $phi_i$ such that we avoid a situation where `i+1` \"breaks\" the loop (because the maximum index is `i`). In other words, only volumes with index `i` or smaller should be used (e.g., instead of `i-1`, `i`,  and `i+1`, use `i-2`, `i-1` and `i`.\n",
    "\n",
    "_Note: remmeber that the term \"central difference\" was used in the finite difference method; we use the term \"central averaging\" here, or \"linear interpolation,\" as used in the book, to indicate that the finite volume method is interpolating across the volume (using the boundaries/faces)._"
   ]
  },
  {
   "cell_type": "markdown",
   "id": "d594c500",
   "metadata": {},
   "source": [
    "\n",
    "<div style=\"background-color:#AABAB2; color: black; width: 95%; vertical-align: middle; padding:15px; margin: 10px; border-radius: 10px\">\n",
    "<p>\n",
    "<b>Task 1.1:</b>\n",
    "\n",
    "Write by hand for FMV the <code>advection_1D</code> equation, compute the convective fluxes of $\\phi$ at the surfaces using a linear interpolation (central averaging). Then apply Forward Euler in time to the resulting ODE. Make sure you use the right indexing (maximum index should be <code>i</code>).\n",
    "\n",
    "$$\n",
    "\\frac{\\partial \\phi}{\\partial t} + c\\frac{\\partial \\phi}{\\partial x} = 0\n",
    "$$\n",
    "    \n",
    "</div>"
   ]
  },
  {
   "cell_type": "markdown",
   "id": "947c9b3c",
   "metadata": {},
   "source": [
    "\n",
    "<div style=\"background-color:#AABAB2; color: black; width: 95%; vertical-align: middle; padding:15px; margin: 10px; border-radius: 10px\">\n",
    "<p>\n",
    "<b>Task 1.2:</b>\n",
    "\n",
    "<b>Read.</b> Read the code to understand the problem that has been set up for you. Check the arguments and return values; the docstrings are purposefully ommitted so you can focus on the code. You might as well re-read the instructions above one more time, as well (let's be honest, you probably just skimmed over it anyway...)\n",
    "    \n",
    "</div>"
   ]
  },
  {
   "cell_type": "code",
   "execution_count": null,
   "id": "6e33feb2",
   "metadata": {},
   "outputs": [],
   "source": [
    "import numpy as np\n",
    "import matplotlib.pylab as plt\n",
    "%matplotlib inline\n",
    "from ipywidgets import interact, fixed, widgets\n",
    "import matplotlib.pyplot as plt\n",
    "from mpl_toolkits.mplot3d import Axes3D"
   ]
  },
  {
   "cell_type": "markdown",
   "id": "32ef1c0e",
   "metadata": {},
   "source": [
    "\n",
    "<div style=\"background-color:#AABAB2; color: black; width: 95%; vertical-align: middle; padding:15px; margin: 10px; border-radius: 10px\">\n",
    "<p>\n",
    "<b>Task 1.3:</b>\n",
    "\n",
    "Implement the scheme in the function <code>advection_1D</code>. Make sure you use the right indexing (maximum index should be <code>i</code>).\n",
    "    \n",
    "</div>"
   ]
  },
  {
   "cell_type": "markdown",
   "id": "01090f2a",
   "metadata": {},
   "source": [
    "Complete the functions to solve the 1D problem. A plotting function has already been defined, which will be used to check your initial conditions and visualize time steps in the solution."
   ]
  },
  {
   "cell_type": "code",
   "execution_count": null,
   "id": "ffc5d55c",
   "metadata": {},
   "outputs": [],
   "source": [
    "def initialize_1D(p0, L, Nx, T, Nt, square=True):\n",
    "    \"\"\"Initialize 1D advection simulation.\n",
    "\n",
    "    Arguments are defined elsewhere, except one keyword argument\n",
    "    defines the shape of the initial condition.\n",
    "\n",
    "    square : bool\n",
    "      - specifies a square pulse if True\n",
    "      - specifies a Gaussian shape if False\n",
    "    \"\"\"\n",
    "\n",
    "    dx = L/Nx\n",
    "    dt = T/Nt\n",
    "    \n",
    "    x = np.linspace(dx/2, L - dx/2, Nx)\n",
    "\n",
    "    \n",
    "    if square:\n",
    "        p_init = np.zeros(Nx)\n",
    "        p_init[int(.5/dx):int(1/dx + 1)] = p0\n",
    "    else:\n",
    "        p_init = np.exp(-((x-1.0)/0.5**2)**2)\n",
    "\n",
    "    p_all = np.zeros((Nt+1, Nx))\n",
    "    p_all[0] = p_init\n",
    "    return x, p_all\n",
    "\n",
    "def advection_1D(p, dx, dt, c, Nx, central=True):\n",
    "    \"\"\"Solve the advection problem.\"\"\"\n",
    "    p_new = np.zeros(Nx)\n",
    "    for i in range(0, Nx):\n",
    "        if central:\n",
    "            pass # add central averaging + FE scheme here (remove pass)\n",
    "        else:\n",
    "            pass # add upwind + FE scheme here (remove pass)\n",
    "    return p_new\n",
    "    \n",
    "def run_simulation_1D(p0, c, L, Nx, T, Nt, dx, dt,\n",
    "                      central=True, square=True):\n",
    "    \"\"\"Run sumulation by evaluating each time step.\"\"\"\n",
    "\n",
    "    x, p_all = initialize_1D(p0, L, Nx, T, Nt, square=square)\n",
    "    \n",
    "    for t in range(Nt):\n",
    "        p = advection_1D(p_all[t], dx, dt, c, Nx, central=central)\n",
    "        p_all[t + 1] = p\n",
    "        \n",
    "    return x, p_all\n",
    "    \n",
    "def plot_1D(x, p, step=0):\n",
    "    \"\"\"Plot phi(x, t) at a given time step.\"\"\"\n",
    "    fig = plt.figure()\n",
    "    ax = plt.axes(xlim=(0, round(x.max())),\n",
    "                  ylim=(0, int(np.ceil(p[0].max())) + 1))  \n",
    "    ax.plot(x, p[step], marker='.')\n",
    "    plt.xlabel('$x$ [m]')\n",
    "    plt.ylabel('Amplitude, $phi$ [$-$]')\n",
    "    plt.title('Advection in 1D')\n",
    "    plt.show()\n",
    "    \n",
    "def plot_1D_all():\n",
    "    \"\"\"Create animation of phi(x, t) for all t.\"\"\"\n",
    "    check_variables_1D()\n",
    "    \n",
    "    play = widgets.Play(min=0, max=Nt-1, step=1, value=0,\n",
    "                        interval=100, disabled=False)\n",
    "    slider = widgets.IntSlider(min=0, max=Nt-1, step=1, value=0)\n",
    "    widgets.jslink((play, 'value'), (slider, 'value'))\n",
    "    \n",
    "    interact(plot_1D, x=fixed(x), p=fixed(p_all), step=play)\n",
    "\n",
    "    return widgets.HBox([slider])\n",
    "    \n",
    "def check_variables_1D():\n",
    "    \"\"\"Print current variable values.\n",
    "    \n",
    "    Students define CFL.\n",
    "    \"\"\"\n",
    "    print('Current variables values:')\n",
    "    print(f'  p0 [---]: {p0:0.2f}')\n",
    "    print(f'  c  [m/s]: {c:0.2f}')\n",
    "    print(f'  L  [ m ]: {L:0.1f}')\n",
    "    print(f'  Nx [---]: {Nx:0.1f}')\n",
    "    print(f'  T  [ s ]: {T:0.1f}')\n",
    "    print(f'  Nt [---]: {Nt:0.1f}')\n",
    "    print(f'  dx [ m ]: {dx:0.2e}')\n",
    "    print(f'  dt [ s ]: {dt:0.2e}')\n",
    "    print(f'Using central difference?: {central}')\n",
    "    print(f'Using square init. cond.?: {square}')\n",
    "    calculated_CFL = None\n",
    "    if calculated_CFL is None:\n",
    "        print('CFL not calculated yet.')\n",
    "    else:\n",
    "        print(f'CFL: {calculated_CFL:.2e}')"
   ]
  },
  {
   "cell_type": "markdown",
   "id": "5452da08",
   "metadata": {
    "tags": []
   },
   "source": [
    "Variables are set below, then you should use the functions provided, for example, `check_variables_1D`, prior to running a simulation to make sure you are solving the problem you think you are!"
   ]
  },
  {
   "cell_type": "code",
   "execution_count": null,
   "id": "1b3262b7",
   "metadata": {},
   "outputs": [],
   "source": [
    "p0 = 2.0\n",
    "c = 5.0\n",
    "\n",
    "L = 2.0\n",
    "Nx = 100\n",
    "T = 40\n",
    "Nt =  10000\n",
    "\n",
    "dx = L/Nx\n",
    "dt = T/Nt\n",
    "\n",
    "central = True\n",
    "square = True"
   ]
  },
  {
   "cell_type": "markdown",
   "id": "f8c534b5",
   "metadata": {},
   "source": [
    "_You can ignore any warning that result from running the code below._"
   ]
  },
  {
   "cell_type": "code",
   "execution_count": null,
   "id": "967a2c61",
   "metadata": {},
   "outputs": [],
   "source": [
    "check_variables_1D()\n",
    "x, p_all = run_simulation_1D(p0, c, L, Nx, T, Nt, dx, dt, central, square)"
   ]
  },
  {
   "cell_type": "markdown",
   "id": "0e1f9b28",
   "metadata": {},
   "source": [
    "Use the plotting function to check your initial values. It should look like a \"box\" shape somwhere in the $x$ domain with velocity $c$ m/s."
   ]
  },
  {
   "cell_type": "code",
   "execution_count": null,
   "id": "d22dd5bd",
   "metadata": {},
   "outputs": [],
   "source": [
    "plot_1D(x, p_all)"
   ]
  },
  {
   "cell_type": "markdown",
   "id": "0992a068",
   "metadata": {},
   "source": [
    "Visualize. At the very beginning, you should see the wave moving from the left to right. What happens afterwards?"
   ]
  },
  {
   "cell_type": "code",
   "execution_count": null,
   "id": "0dac46b0",
   "metadata": {},
   "outputs": [],
   "source": [
    "plot_1D_all()"
   ]
  },
  {
   "cell_type": "markdown",
   "id": "e44193be",
   "metadata": {},
   "source": [
    "## Part 2: Central Difference issues!\n",
    "\n",
    "The discretization is unstable (regardless of the time step used), largely due to weighting equally the influence by adjacent volumes in the fluxes. The hyperbolic nature of the equation implies that more weight should be given to the upstream/upwind $\\phi$ values.\n",
    "\n",
    "You might think that the initial abrupt edges of the square wave are responsible for the instability. You can test this by replacing the square pulse with a smooth one."
   ]
  },
  {
   "cell_type": "markdown",
   "id": "877797e5",
   "metadata": {},
   "source": [
    "\n",
    "<div style=\"background-color:#AABAB2; color: black; width: 95%; vertical-align: middle; padding:15px; margin: 10px; border-radius: 10px\">\n",
    "<p>\n",
    "<b>Task 2:</b>\n",
    "Run the 1D simulation again using a smooth pulse. You can do this by changing the value of `square` from `True` to `False`. Does the simulation work?\n",
    "</div>"
   ]
  },
  {
   "cell_type": "code",
   "execution_count": null,
   "id": "5742077a",
   "metadata": {},
   "outputs": [],
   "source": [
    "square=False\n",
    "x, p_all = run_simulation_1D(p0, c, L, Nx, T, Nt, dx, dt, central, square)\n",
    "plot_1D_all()"
   ]
  },
  {
   "cell_type": "markdown",
   "id": "e345d820",
   "metadata": {},
   "source": [
    "## Task 3: Upwind scheme\n",
    "\n",
    "More weight can be given to the upwind cells by choosing $\\phi$ values for the East face $\\phi_i$, and for the West face, use $\\phi_{i-1}$. This holds true for positive flow directions. For negative flow directions, you should choose $\\phi$ values for the East face $\\phi_{i-1}$, and for the West face, use $\\phi_{i}$. Note that this is less accurate than the central diffence approach but it will ensure stability."
   ]
  },
  {
   "cell_type": "markdown",
   "id": "8e42b05c",
   "metadata": {},
   "source": [
    "\n",
    "<div style=\"background-color:#AABAB2; color: black; width: 95%; vertical-align: middle; padding:15px; margin: 10px; border-radius: 10px\">\n",
    "<p>\n",
    "<b>Task 3.1:</b>\n",
    "\n",
    "Derive the upwind scheme and apply Forward Euler to the resulting ODE. Then implement it in the function <code>advection_1D</code>. Re-run the analysis after setting the <code>central</code> flag to <code>False</code>.\n",
    "    \n",
    "</div>"
   ]
  },
  {
   "cell_type": "code",
   "execution_count": null,
   "id": "8e51a2e0",
   "metadata": {},
   "outputs": [],
   "source": [
    "# re-define key variables and use run_simulation_1D() and plot_1D_all()"
   ]
  },
  {
   "cell_type": "markdown",
   "id": "0a96f5fd",
   "metadata": {},
   "source": [
    "\n",
    "<div style=\"background-color:#AABAB2; color: black; width: 95%; vertical-align: middle; padding:15px; margin: 10px; border-radius: 10px\">\n",
    "<p>\n",
    "<b>Task 3.2:</b>\n",
    "\n",
    "In the previous task you should have seen that the method is unstable. Experiment with different time step $\\Delta t$ to see if you can find a limit above/below which the method is stable. Write down your $\\Delta t$ values and whether or not they were stable, as we will reflect on them later.\n",
    "    \n",
    "</div>"
   ]
  },
  {
   "cell_type": "code",
   "execution_count": null,
   "id": "c6191221",
   "metadata": {},
   "outputs": [],
   "source": [
    "# you can change variable values and rerun the analysis here."
   ]
  },
  {
   "cell_type": "markdown",
   "id": "52160dbd",
   "metadata": {},
   "source": [
    "_Write your time stepts here, along with the result:_\n",
    "\n",
    "| $\\Delta t$ | stable or unstable? |\n",
    "| :---: | :---: |\n",
    "|  |  |"
   ]
  },
  {
   "cell_type": "markdown",
   "id": "d15a4ce7",
   "metadata": {
    "tags": []
   },
   "source": [
    "## Part 4: False Diffusion\n",
    "\n",
    "In the previous tasks, we saw how upwinding can be an effective way to handle the type of PDE we are studying (in this case hyperbolic). Now, we will consider _another_ aspect of stability: that of the time integration scheme.\n",
    "\n",
    "Let’s play with the code. In convective kinematics a von Neumann analysis on the advection equation suggests that the following must hold for stability:\n",
    "$$\n",
    "CFL = \\frac{c \\Delta t}{\\Delta x} \\leq 1\n",
    "$$\n",
    "    \n",
    "$CFL$ is the Courant–Friedrichs–Lewy condtion, a dimensionless quantity that relates the speed of information leaves a finite volume, relating speed to the ratio of time step duration and cell length. The ratio can provide us an indication of the inherent stability of explicit schemes. \n"
   ]
  },
  {
   "cell_type": "markdown",
   "id": "4480e58a",
   "metadata": {},
   "source": [
    "\n",
    "<div style=\"background-color:#AABAB2; color: black; width: 95%; vertical-align: middle; padding:15px; margin: 10px; border-radius: 10px\">\n",
    "<p>\n",
    "<b>Task 4.1:</b>\n",
    "If you have not already done so, modify the function above to calculate the CFL and run the function <code>check_variables_1D()</code> to check the values. Evaluate the CFL for the time steps you tried in Task 3.2 and write them below, along with the statement of whether or not the scheme was stable.\n",
    "</div>"
   ]
  },
  {
   "cell_type": "markdown",
   "id": "60f6fc72",
   "metadata": {},
   "source": [
    "_Write your CFL values here, along with the result:_\n",
    "\n",
    "| CFL | $\\Delta t$ | stable or unstable? |\n",
    "| :---: | :---: | :---: |\n",
    "|  |  |  |"
   ]
  },
  {
   "cell_type": "markdown",
   "id": "8ddfd812",
   "metadata": {},
   "source": [
    "\n",
    "<div style=\"background-color:#AABAB2; color: black; width: 95%; vertical-align: middle; padding:15px; margin: 10px; border-radius: 10px\">\n",
    "<p>\n",
    "<b>Task 4.2:</b>\n",
    "\n",
    "Now use the CFL to compute the time step $\\Delta t$ that defines the boundary between the stable and unstable region. Then re-run the analysis for this value, as well as a value that is slightly above and below that threshold $\\Delta t$.\n",
    "</div>"
   ]
  },
  {
   "cell_type": "code",
   "execution_count": null,
   "id": "93476e2f",
   "metadata": {},
   "outputs": [],
   "source": [
    "# re-define key variables and use run_simulation_1D() and plot_1D_all()"
   ]
  },
  {
   "cell_type": "markdown",
   "id": "97824b70",
   "metadata": {},
   "source": [
    "### So you think everything is stable and perfect, right?\n",
    "\n",
    "Based on the previous task, it looks like we have a good handle on this problem, and are able to use the CFL to set up a reliable numerical scheme for all sorts of complex problems---right?!\n",
    "\n",
    "**WRONG!**\n",
    "\n",
    "Remember, in this problem we are dealing with single \"wave\" propagating at a _constant_ speed. In practice we apply numerical schemes to more complex methods. For example, most problems consider _variable_ speed/velocity in more than one dimension. When this is the case, the problem cannot be described by a single CFL value! As a rule of thumb, a modeller would then choose a conservative CFL value, determined by the largest expected flow velocities (in the case of a regular mesh).\n",
    "\n",
    "Let's apply this concept by using a CFL condition of 0.8 to visualize the impact on the numerical solution. "
   ]
  },
  {
   "cell_type": "markdown",
   "id": "8bb604c3",
   "metadata": {},
   "source": [
    "\n",
    "<div style=\"background-color:#AABAB2; color: black; width: 95%; vertical-align: middle; padding:15px; margin: 10px; border-radius: 10px\">\n",
    "<p>\n",
    "<b>Task 4.3:</b>\n",
    "\n",
    "Find $\\Delta t$ such that CFL is 0.8 and re-run the analysis. What do you observe?\n",
    "\n",
    "<em>Make sure you look at the complete solution, not just the first few steps.</em>\n",
    "    \n",
    "</div>"
   ]
  },
  {
   "cell_type": "code",
   "execution_count": null,
   "id": "1b58df3e",
   "metadata": {},
   "outputs": [],
   "source": [
    "# re-define key variables and use run_simulation_1D() and plot_1D_all()"
   ]
  },
  {
   "cell_type": "markdown",
   "id": "a45de631",
   "metadata": {},
   "source": [
    "\n",
    "<div style=\"background-color:#AABAB2; color: black; width: 95%; vertical-align: middle; padding:15px; margin: 10px; border-radius: 10px\">\n",
    "<p>\n",
    "<b>Task 4.4:</b>\n",
    "\n",
    "Describe what you observe in the result of the previous task and state (yes/no) whether or not this should be expected, given the PDE we are solving. Explain your answer in a couple sentences.\n",
    "    \n",
    "</div>"
   ]
  },
  {
   "cell_type": "markdown",
   "id": "e118e175",
   "metadata": {},
   "source": [
    "_Write your answer here._"
   ]
  },
  {
   "cell_type": "markdown",
   "id": "bd36bb3e",
   "metadata": {},
   "source": [
    "## Part 5: 2D Implementation in Python"
   ]
  },
  {
   "cell_type": "markdown",
   "id": "94b8a826",
   "metadata": {},
   "source": [
    "<div style=\"background-color:#AABAB2; color: black; width: 95%; vertical-align: middle; padding:15px; margin: 10px; border-radius: 10px\">\n",
    "<p>\n",
    "<b>Task 5.1:</b>\n",
    "Apply FVM by hand to the 2D advection equation. The volumes are rectangular. This is a good example of an exam problem.\n",
    "\n",
    "$$\n",
    "\\frac{\\partial \\phi}{\\partial t} + c_x\\frac{\\partial \\phi}{\\partial x} + c_y\\frac{\\partial \\phi}{\\partial y} = 0\n",
    "$$\n",
    "\n",
    "</div>"
   ]
  },
  {
   "cell_type": "markdown",
   "id": "3c455082",
   "metadata": {},
   "source": [
    "<div style=\"background-color:#AABAB2; color: black; width: 95%; vertical-align: middle; padding:15px; margin: 10px; border-radius: 10px\">\n",
    "<p>\n",
    "<b>Task 5.2:</b>\n",
    "The code is set up in a very similar way to the 1D case above. Use it to explore how the advection problem works in 2D! In particular, see if you observe the effect called \"numerical diffusion\" --- when the numerical scheme causes the square pulse to \"diffuse\" into a bell shaped surface. Even though only the advection term was implmented!\n",
    "</div>"
   ]
  },
  {
   "cell_type": "markdown",
   "id": "387397de",
   "metadata": {
    "id": "0491cc69"
   },
   "source": [
    "<div style=\"background-color:#facb8e; color: black; width: 95%; vertical-align: middle; padding:15px; margin: 10px; border-radius: 10px\">\n",
    "    <p>\n",
    "        The initial values of the variables below will result in numerical instability. See if you can fix it!\n",
    "    </p>\n",
    "</div>"
   ]
  },
  {
   "cell_type": "code",
   "execution_count": null,
   "id": "093f8698",
   "metadata": {},
   "outputs": [],
   "source": [
    "p0 = 2.0\n",
    "cx = 5.0\n",
    "cy = 5.0\n",
    "\n",
    "Lx = 2.0\n",
    "Nx = 100\n",
    "Ly = 2.0\n",
    "Ny = 100\n",
    "T = 40\n",
    "Nt =  900\n",
    "\n",
    "dx = Lx/Nx\n",
    "dy = Ly/Ny\n",
    "dt = T/Nt\n",
    "\n",
    "central = True"
   ]
  },
  {
   "cell_type": "code",
   "execution_count": null,
   "id": "1194d97a",
   "metadata": {},
   "outputs": [],
   "source": [
    "def initialize_2D(p0, Lx, Nx, Ly, Ny, T, Nt):\n",
    "    x = np.linspace(dx/2, Lx - dx/2, Nx)\n",
    "    y = np.linspace(dy/2, Ly - dx/2, Ny)\n",
    "    X, Y = np.meshgrid(x, y)\n",
    "    \n",
    "    # Initialise domain: cubic pulse with p0 between 0.5 and 1\n",
    "    p_init = np.zeros((Nx, Ny))\n",
    "    p_init[int(0.5/dx):int(1/dx + 1), int(0.5/dy):int(1/dy + 1)] = p0\n",
    "\n",
    "    p_all = np.zeros((Nt + 1, Nx, Ny))\n",
    "    p_all[0] = p_init\n",
    "    return X, Y, p_all\n",
    "\n",
    "def advection_2D(p, cx, cy, Nx, Ny, dx, dy, dt, central=True):\n",
    "\n",
    "    p_new = np.ones((Nx,Ny))\n",
    "\n",
    "    for i in range(0, Nx):\n",
    "        for j in range(0, Ny):\n",
    "            if central:\n",
    "                p_new[i-1,j-1] = (p[i-1,j-1]\n",
    "                                  - 0.5*(cx*dt/dx)*(p[i,j-1] - p[i-2,j-1])\n",
    "                                  - 0.5*(cy*dt/dy)*(p[i-1,j] - p[i-1,j-2]))\n",
    "            else:\n",
    "                p_new[i, j] = (p[i, j] - (cx*dt/dx)*(p[i, j] - p[i - 1, j]) \n",
    "                                       - (cy*dt/dy)*(p[i, j] - p[i, j - 1]))\n",
    "    return p_new\n",
    "    \n",
    "def run_simulation_2D(p0, cx, cy, Lx, Nx, Ly, Ny,\n",
    "                      T, Nt, dx, dy, dt, central=True):\n",
    "    \n",
    "    X, Y, p_all = initialize_2D(p0, Lx, Nx, Ly, Ny, T, Nt)\n",
    "    \n",
    "    for t in range(Nt):\n",
    "        p = advection_2D(p_all[t], cx, cy, Nx, Ny,\n",
    "                         dx, dy, dt, central=central)\n",
    "        p_all[t + 1] = p\n",
    "        \n",
    "    return X, Y, p_all\n",
    "\n",
    "def plot_2D(p, X, Y, step=0):\n",
    "    'Create 2D plot, X and Y are formatted as meshgrid.'''\n",
    "    fig = plt.figure(figsize=(11, 7), dpi=100)\n",
    "    ax = fig.add_subplot(111, projection='3d')\n",
    "    ax.set_xlabel('x [m]')\n",
    "    ax.set_ylabel('y [m]')\n",
    "    ax.set_zlabel('$\\phi$ [-]') \n",
    "    ax.set_title('Advection in 2D')\n",
    "    surf = ax.plot_surface(X, Y, p[step],\n",
    "                           cmap='Blues', rstride=2, cstride=2)\n",
    "    fig.colorbar(surf, shrink=0.5, aspect=5)\n",
    "    plt.show()\n",
    "\n",
    "def plot_2D_all():\n",
    "    check_variables_2D()\n",
    "    \n",
    "    play = widgets.Play(min=0, max=Nt-1, step=1, value=0,\n",
    "                        interval=100, disabled=False)\n",
    "    slider = widgets.IntSlider(min=0, max=Nt-1,\n",
    "                               step=1, value=0)\n",
    "    widgets.jslink((play, 'value'), (slider, 'value'))\n",
    "    \n",
    "    interact(plot_2D,\n",
    "             p=fixed(p_all),\n",
    "             X=fixed(X),\n",
    "             Y=fixed(Y),\n",
    "             step=play)\n",
    "\n",
    "    return widgets.HBox([slider])\n",
    "\n",
    "def check_variables_2D():\n",
    "    print('Current variables values:')\n",
    "    print(f'  p0 [---]: {p0:0.2f}')\n",
    "    print(f'  cx [m/s]: {cx:0.2f}')\n",
    "    print(f'  cy [m/s]: {cy:0.2f}')\n",
    "    print(f'  Lx [ m ]: {Lx:0.1f}')\n",
    "    print(f'  Nx [---]: {Nx:0.1f}')\n",
    "    print(f'  Ly [ m ]: {Ly:0.1f}')\n",
    "    print(f'  Ny [---]: {Ny:0.1f}')\n",
    "    print(f'  T  [ s ]: {T:0.1f}')\n",
    "    print(f'  Nt [---]: {Nt:0.1f}')\n",
    "    print(f'  dx [ m ]: {dx:0.2e}')\n",
    "    print(f'  dy [ m ]: {dy:0.2e}')\n",
    "    print(f'  dt [ s ]: {dt:0.2e}')\n",
    "    print(f'Using central difference?: {central}')\n",
    "    print(f'Solution shape p_all[t_i]: ({Nx}, {Ny})')\n",
    "    print(f'Total time steps in p_all: {Nt+1}')\n",
    "    print(f'CFL, direction x: {cx*dt/dx:.2e}')\n",
    "    print(f'CFL, direction y: {cy*dt/dy:.2e}')"
   ]
  },
  {
   "cell_type": "code",
   "execution_count": null,
   "id": "ff0a1c22",
   "metadata": {},
   "outputs": [],
   "source": [
    "T = 1\n",
    "Nt =  1000\n",
    "dt = T/Nt\n",
    "check_variables_2D()\n",
    "X, Y, p_all = initialize_2D(p0, Lx, Nx, Ly, Ny, T, Nt)\n",
    "plot_2D(p_all, X, Y)"
   ]
  },
  {
   "cell_type": "code",
   "execution_count": null,
   "id": "d332b584",
   "metadata": {},
   "outputs": [],
   "source": [
    "X, Y, p_all = run_simulation_2D(p0, cx, cy, Lx, Nx, Ly, Ny, T, Nt, dx, dy, dt, central)\n",
    "plot_2D_all()"
   ]
  },
  {
   "cell_type": "code",
   "execution_count": null,
   "id": "6c2e32f2",
   "metadata": {},
   "outputs": [],
   "source": [
    "X, Y, p_all = run_simulation_2D(p0, cx, cy, Lx, Nx, Ly, Ny, T, Nt, dx, dy, dt, central=False)\n",
    "plot_2D_all()"
   ]
  },
  {
   "cell_type": "markdown",
   "id": "2778ab7f",
   "metadata": {},
   "source": [
    "**End of notebook.**\n",
    "\n",
    "<div style=\"margin-top: 50px; padding-top: 20px; border-top: 1px solid #ccc;\">\n",
    "  <div style=\"display: flex; justify-content: flex-end; gap: 20px; align-items: center;\">\n",
    "    <a rel=\"MUDE\" href=\"http://mude.citg.tudelft.nl/\">\n",
    "      <img alt=\"MUDE\" style=\"width:100px; height:auto;\" src=\"https://gitlab.tudelft.nl/mude/public/-/raw/main/mude-logo/MUDE_Logo-small.png\" />\n",
    "    </a>\n",
    "    <a rel=\"TU Delft\" href=\"https://www.tudelft.nl/en/ceg\">\n",
    "      <img alt=\"TU Delft\" style=\"width:100px; height:auto;\" src=\"https://gitlab.tudelft.nl/mude/public/-/raw/main/tu-logo/TU_P1_full-color.png\" />\n",
    "    </a>\n",
    "    <a rel=\"license\" href=\"http://creativecommons.org/licenses/by/4.0/\">\n",
    "      <img alt=\"Creative Commons License\" style=\"width:88px; height:auto;\" src=\"https://i.creativecommons.org/l/by/4.0/88x31.png\" />\n",
    "    </a>\n",
    "  </div>\n",
    "  <div style=\"font-size: 75%; margin-top: 10px; text-align: right;\">\n",
    "    By <a rel=\"MUDE\" href=\"http://mude.citg.tudelft.nl/\">MUDE Team</a>\n",
    "    &copy; 2024 TU Delft. \n",
    "    <a rel=\"license\" href=\"http://creativecommons.org/licenses/by/4.0/\">CC BY 4.0</a>.\n",
    "    <a rel=\"Zenodo DOI\" href=\"https://doi.org/10.5281/zenodo.16782515\"><img style=\"width:auto; height:15; vertical-align:middle\" src=\"https://zenodo.org/badge/DOI/10.5281/zenodo.16782515.svg\" alt=\"DOI https://doi.org/10.5281/zenodo.16782515\"></a>\n",
    "  </div>\n",
    "</div>\n",
    "\n",
    "\n",
    "<!--tested with WS_2_8_solution.ipynb-->"
   ]
  }
 ],
 "metadata": {
  "language_info": {
   "name": "python"
  }
 },
 "nbformat": 4,
 "nbformat_minor": 5
}
