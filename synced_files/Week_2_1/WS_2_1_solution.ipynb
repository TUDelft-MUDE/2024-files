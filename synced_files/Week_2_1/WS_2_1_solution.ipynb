{
 "cells": [
  {
   "cell_type": "markdown",
   "id": "191924ba",
   "metadata": {
    "tags": []
   },
   "source": [
    "# WS 2.1: Wiggles\n",
    "\n",
    "<h1 style=\"position: absolute; display: flex; flex-grow: 0; flex-shrink: 0; flex-direction: row-reverse; top: 90px;right: 30px; margin: 0; border: 0\">\n",
    "    <style>\n",
    "        .markdown {width:100%; position: relative}\n",
    "        article { position: relative }\n",
    "    </style>\n",
    "    <img src=\"https://gitlab.tudelft.nl/mude/public/-/raw/main/tu-logo/TU_P1_full-color.png\" style=\"width:100px\" />\n",
    "    <img src=\"https://gitlab.tudelft.nl/mude/public/-/raw/main/mude-logo/MUDE_Logo-small.png\" style=\"width:100px\" />\n",
    "</h1>\n",
    "<h2 style=\"height: 25px\">\n",
    "</h2>\n",
    "\n",
    "*[CEGM1000 MUDE](http://mude.citg.tudelft.nl/): Week 2.1, Wednesday November 13, 2024.*"
   ]
  },
  {
   "cell_type": "markdown",
   "id": "1f814151-32e0-4a2c-809a-29f57ea40290",
   "metadata": {},
   "source": [
    "<div style=\"background-color:#FAE99E; color: black; width: 95%; vertical-align: middle; padding:15px; margin: 10px; border-radius: 10px\">\n",
    "<p>\n",
    "<b>General comments to start off the solution:</b>\n",
    "</p>\n",
    "</div>"
   ]
  },
  {
   "cell_type": "markdown",
   "id": "0bbcc9be-71bc-4bb3-b665-58c64339747d",
   "metadata": {},
   "source": [
    "1. This is in general how the code works: you should have seen that for each case, once you define the Python variables, there are ready-made functions to complete the analysis: first by running the simulation (`run_simulation_1D`) which initializes the volumes (`initialize_1D`) then sets up the time (the loop over `t`) and space integration (`advection_1D`). Then you can plot the initial condition (`plot_1D`) and visualize each time step (`plot_1D_all`).  \n",
    "2. Applying the cyclic boundary condition is very simple: you only need to shift the indexing from the \"math\" in the textbook by 1 when implementing in Python. This does introduce a slight error since you are actually calculating $phi$ for a volume to the left of your index; however, for small volumes it is negligible (and you could shift it back in each time step, if you wanted).  \n",
    "3. Note also that the cyclic boundary does not have any mathematical basis, and is not modelling \"reality\" in any way. It is a convenient \"trick\" that we use to make it easy to observe how the wave moves in space without worrying about the particular location of the wave (x) at any time.\n",
    "\n",
    "Key things to notice about the activities in this assignment:  \n",
    "\n",
    "1. In Part 1, we see that the central scheme is _very_ unstable (default settings).  \n",
    "2. In Part 2: making the initial condition smooth helps...for a short time (set `square=False`).\n",
    "3. In Part 3: upwinding becomes (conditionally) stable; if CFL<1.0, you will see false diffusion.\n",
    "4. In Part 4: we use the CFL number to confirm stability regions. Note that if you use a CFL of 0.8 and your solution is unstable, you implemented the upwinding scheme incorrectly. Check the tips above about the cyclic indexing to help solve your issue; note also that regardless of if or how you implemented the cyclic boundary condition, if you are using points that are to the \"right\" of the index for `p_new` then you did not implement upwinding correctly (for example, if you compute `p_new[i]` and the calculation includes a point `p[i + 1]`).\n",
    "\n",
    "The reason we notice the above points is because our PDE is convection (hyperbolic) and our pulse is moving to the right, which implies that the upwind cells (volumes) are more important (they have a larger weight). Even though backward difference (the upwind scheme) is a lower-accuracy method (first order) than central averaging (second order), it is more stable.\n",
    "\n",
    "It is important to recognize **three types of numerical issues** that are present in this assignment:\n",
    "1. Instability caused by the nature of the PDE (a hyperbolic equation), combined with the numerical scheme (central averaging in space and forward Euler in time).\n",
    "2. Instability as described by the CFL criterion.\n",
    "3. Numerical diffusion (false diffusion), which is inherent in upwind schemes (an explanation is outside of the scope of MUDE: we are happy as long as you recognize this can be an issue!).\n",
    "\n",
    "_After the general comments here, the solution has been implemented in the code below. There is also a large section of code that facilitates the use of dictionaries to keep track of analysis cases; it's not part of the MUDE exam material, but you might find it useful when working on your projects, especially if you are working on a situation when you would like to evaluate a lot of scenarios and keep track of the input parameters. For example, you can see that each dictionary stores the variable values and a name describing it._"
   ]
  },
  {
   "cell_type": "markdown",
   "id": "0782f766-51f7-4e22-bb94-9000a45194ae",
   "metadata": {},
   "source": [
    "<div style=\"background-color:#FAE99E; color: black; width: 95%; vertical-align: middle; padding:15px; margin: 10px; border-radius: 10px\">\n",
    "<p>\n",
    "<b>End general comments.</b>\n",
    "</p>\n",
    "</div>"
   ]
  },
  {
   "cell_type": "markdown",
   "id": "9c255856",
   "metadata": {},
   "source": [
    "## Overview:\n",
    "\n",
    "In this workshop the [advection problem covered in the textbook] is treated first in 1D and then in 2D. There are two main objectives:\n",
    "1. Understand the advection problem itself (how the quantity of interest is transported by the velocity field)\n",
    "2. Explore characteristics of the numerical analysis schemes employed, in particular: numerical diffusion and FVM stability\n",
    "\n",
    "To do this we will do the following:\n",
    "- Implement the central difference and upwind schemes in space for FVM and Forward Euler in time\n",
    "- Apply a boundary condition such that the quantity of interest repeatedly travels through the plot window (this helps us visualize the process!)\n",
    "- Evaluate stability of central difference and upwind schemes in combination with Forward Euler in time\n",
    "- Use the CFL to understand numerical stability\n",
    "\n",
    "Programming requirements: you will need to fill in a few missing pieces of the functions, but mostly you will change the values of a few Python variables to evaluate different aspects of the problem.\n",
    "\n",
    "\n",
    "The following Python variables will be defined to set up the problem:\n",
    "```\n",
    "p0 = initial value of our \"pulse\" (the quantity of interest, phi) [-]\n",
    "c = speed of the velocity field [m/s]\n",
    "L = length of the domain [m]\n",
    "Nx = number of volumes in the direction x\n",
    "T = duration of the simulation (maximum time) [s]\n",
    "Nt = number of time steps\n",
    "```\n",
    "\n",
    "There are also two flag variables: 1) `central` will allow you to switch between central and backward spatial discretization schemes, and 2) `square` changes the pulse from a square to a smooth bell curve (default for both is `True`; don't worry about it until instructed to change it).\n",
    "\n",
    "For the 2D case, `c`, `L`, `Nx` are extended as follows:\n",
    "```\n",
    "c --> cx, cy\n",
    "L --> Lx, Ly\n",
    "Nx -> Nx, Ny\n",
    "```"
   ]
  },
  {
   "cell_type": "markdown",
   "id": "4679ea87-f250-4d30-a678-eb10f78d1058",
   "metadata": {
    "tags": []
   },
   "source": [
    "## Part 1: Implement Central Difference\n",
    "\n",
    "We are going to implement the central difference scheme as derived in the textbook; however, **instead of implementing the system of equations in a matrix formulation**, we will _loop over each of the finite volumes in the system,_ one at a time.\n",
    "\n",
    "Because we will want to watch the \"pulse\" travel over a long period of time, we will take advantage of the reverse-indexing of Python (i.e., the fact that an index `a[-3]`, for example, will access the third item from the end of the array or list). When taking the volumes to the left of the first volume in direction $x$, we can use the values of $phi$ from the \"last\" volumes in $x$ (the end of the array). All we need to do is shift the index for $phi_i$ such that we avoid a situation where `i+1` \"breaks\" the loop (because the maximum index is `i`). In other words, only volumes with index `i` or smaller should be used (e.g., instead of `i-1`, `i`,  and `i+1`, use `i-2`, `i-1` and `i`."
   ]
  },
  {
   "cell_type": "markdown",
   "id": "18306064-69a2-4513-967e-992f1f88c9da",
   "metadata": {},
   "source": [
    "\n",
    "<div style=\"background-color:#AABAB2; color: black; width: 95%; vertical-align: middle; padding:15px; margin: 10px; border-radius: 10px\">\n",
    "<p>\n",
    "<b>Task 1.1:</b>\n",
    "\n",
    "Write by hand for FMV the <code>advection_1D</code> equation, compute the convective fluxes of $\\phi$ at the surfaces using a linear interpolation (central averaging). Then apply Forward Euler in time to the resulting ODE. Make sure you use the right indexing (maximum index should be <code>i</code>).\n",
    "\n",
    "$$\n",
    "\\frac{\\partial \\phi}{\\partial t} + c\\frac{\\partial \\phi}{\\partial x} = 0\n",
    "$$\n",
    "    \n",
    "</div>"
   ]
  },
  {
   "cell_type": "markdown",
   "id": "a475d0d7",
   "metadata": {},
   "source": [
    "\n",
    "<div style=\"background-color:#AABAB2; color: black; width: 95%; vertical-align: middle; padding:15px; margin: 10px; border-radius: 10px\">\n",
    "<p>\n",
    "<b>Task 1.2:</b>\n",
    "\n",
    "<b>Read.</b> Read the code to understand the problem that has been set up for you. Check the arguments and return values; the docstrings are purposefully ommitted so you can focus on the code. You might as well re-read the instructions above one more time, as well (let's be honest, you probably just skimmed over it anyway...)\n",
    "    \n",
    "</div>"
   ]
  },
  {
   "cell_type": "code",
   "execution_count": null,
   "id": "b1465443",
   "metadata": {},
   "outputs": [],
   "source": [
    "import numpy as np\n",
    "import matplotlib.pylab as plt\n",
    "%matplotlib inline\n",
    "from ipywidgets import interact, fixed, widgets\n",
    "import matplotlib.pyplot as plt\n",
    "from mpl_toolkits.mplot3d import Axes3D"
   ]
  },
  {
   "cell_type": "markdown",
   "id": "816c6eab",
   "metadata": {},
   "source": [
    "\n",
    "<div style=\"background-color:#AABAB2; color: black; width: 95%; vertical-align: middle; padding:15px; margin: 10px; border-radius: 10px\">\n",
    "<p>\n",
    "<b>Task 1.3:</b>\n",
    "\n",
    "Implement the scheme in the function <code>advection_1D</code>. Make sure you use the right indexing (maximum index should be <code>i</code>).\n",
    "    \n",
    "</div>"
   ]
  },
  {
   "cell_type": "markdown",
   "id": "65abc948-f674-48b8-a752-2ae714525bb9",
   "metadata": {},
   "source": [
    "Complete the functions to solve the 1D problem. A plotting function has already been defined, which will be used to check your initial conditions and visualize time steps in the solution."
   ]
  },
  {
   "cell_type": "code",
   "execution_count": null,
   "id": "65376af7-30e6-43e6-9109-b809ad4c5d56",
   "metadata": {},
   "outputs": [],
   "source": [
    "def initialize_1D(p0, L, Nx, T, Nt, square=True):\n",
    "    \"\"\"Initialize 1D advection simulation.\n",
    "\n",
    "    Arguments are defined elsewhere, except one keyword argument\n",
    "    defines the shape of the initial condition.\n",
    "    \n",
    "    square : bool\n",
    "      - specifies a square pulse if True\n",
    "      - specifies a Gaussian shape if False\n",
    "    \"\"\"\n",
    "\n",
    "    dx = L/Nx\n",
    "    dt = T/Nt\n",
    "    \n",
    "    x = np.linspace(dx/2, L - dx/2, Nx)\n",
    "\n",
    "    # Initialise domain:\n",
    "    #  - a square pulse with p0 between 0.5 and 1\n",
    "    #  - a Gaussian shape around 1\n",
    "    if square:\n",
    "        p_init = np.zeros(Nx)\n",
    "        p_init[int(.5/dx):int(1/dx + 1)] = p0\n",
    "    else:\n",
    "        p_init = np.exp(-((x-1.0)/0.5**2)**2)\n",
    "\n",
    "    p_all = np.zeros((Nt+1, Nx))\n",
    "    p_all[0] = p_init\n",
    "    return x, p_all\n",
    "\n",
    "def advection_1D(p, dx, dt, c, Nx, central=True):\n",
    "    \"\"\"Solve the advection problem.\"\"\"\n",
    "    p_new = np.zeros(Nx)\n",
    "    for i in range(0, Nx):\n",
    "        if central:\n",
    "            # pass # add central averaging + FE scheme here (remove pass)\n",
    "            p_new[i-1] = p[i - 1] - 0.5*(c*dt/dx)*(p[i] - p[i - 2])\n",
    "        else:\n",
    "            # pass # add upwind + FE scheme here (remove pass)\n",
    "            p_new[i] = p[i] - 1*(c*dt/dx)*(p[i] - p[i - 1]) \n",
    "    return p_new\n",
    "    \n",
    "def run_simulation_1D(p0, c, L, Nx, T, Nt, dx, dt,\n",
    "                      central=True, square=True):\n",
    "    \"\"\"Run sumulation by evaluating each time step.\"\"\"\n",
    "\n",
    "    x, p_all = initialize_1D(p0, L, Nx, T, Nt, square=square)\n",
    "    \n",
    "    for t in range(Nt):\n",
    "        p = advection_1D(p_all[t], dx, dt, c, Nx, central=central)\n",
    "        p_all[t + 1] = p\n",
    "        \n",
    "    return x, p_all\n",
    "    \n",
    "def plot_1D(x, p, step=0):\n",
    "    \"\"\"Plot phi(x, t) at a given time step.\"\"\"\n",
    "    fig = plt.figure()\n",
    "    ax = plt.axes(xlim=(0, round(x.max())),\n",
    "                  ylim=(0, int(np.ceil(p[0].max())) + 1))  \n",
    "    ax.plot(x, p[step], marker='.')\n",
    "    plt.xlabel('$x$ [m]')\n",
    "    plt.ylabel('Amplitude, $phi$ [$-$]')\n",
    "    plt.title('Advection in 1D')\n",
    "    plt.show()\n",
    "    \n",
    "def plot_1D_all():\n",
    "    \"\"\"Create animation of phi(x, t) for all t.\"\"\"\n",
    "    check_variables_1D()\n",
    "    \n",
    "    play = widgets.Play(min=0, max=Nt-1, step=1, value=0,\n",
    "                        interval=100, disabled=False)\n",
    "    slider = widgets.IntSlider(min=0, max=Nt-1, step=1, value=0)\n",
    "    widgets.jslink((play, 'value'), (slider, 'value'))\n",
    "    \n",
    "    interact(plot_1D, x=fixed(x), p=fixed(p_all), step=play)\n",
    "\n",
    "    return widgets.HBox([slider])\n",
    "    \n",
    "def check_variables_1D():\n",
    "    \"\"\"Print current variable values.\n",
    "    \n",
    "    Students define CFL.\n",
    "    \"\"\"\n",
    "    print('Current variables values:')\n",
    "    print(f'  p0 [---]: {p0:0.2f}')\n",
    "    print(f'  c  [m/s]: {c:0.2f}')\n",
    "    print(f'  L  [ m ]: {L:0.1f}')\n",
    "    print(f'  Nx [---]: {Nx:0.1f}')\n",
    "    print(f'  T  [ s ]: {T:0.1f}')\n",
    "    print(f'  Nt [---]: {Nt:0.1f}')\n",
    "    print(f'  dx [ m ]: {dx:0.2e}')\n",
    "    print(f'  dt [ s ]: {dt:0.2e}')\n",
    "    print(f'Using central difference?: {central}')\n",
    "    print(f'Using square init. cond.?: {square}')\n",
    "    calculated_CFL = c*dt/dx\n",
    "    if calculated_CFL is None:\n",
    "        print('CFL not calculated yet.')\n",
    "    else:\n",
    "        print(f'CFL: {calculated_CFL:.2e}')"
   ]
  },
  {
   "cell_type": "markdown",
   "id": "ff756348-5d90-4063-afa0-dc78ba2059e1",
   "metadata": {
    "id": "0491cc69"
   },
   "source": [
    "<div style=\"background-color:#facb8e; color: black; width: 95%; vertical-align: middle; padding:15px; margin: 10px; border-radius: 10px\">\n",
    "    <p>\n",
    "        <b>Start of code to define a dictionary to help keep track of analysis \"cases.\" This is not part of the handout.</b>\n",
    "    </p>\n",
    "</div>"
   ]
  },
  {
   "cell_type": "markdown",
   "id": "6a3b1aa0-784b-4996-b987-4f90958c5c61",
   "metadata": {},
   "source": [
    "To help present specific cases in the solution, a dictionary is used to store the key Python variable values that define the problem of interest are stored:\n",
    "```\n",
    "p0, c, L, Nx, T, Nt, dx, dt, central\n",
    "```\n",
    "Each case is stored as an elemetn of a list `C`, and a few functions are created to facilitate usage."
   ]
  },
  {
   "cell_type": "code",
   "execution_count": null,
   "id": "fb0c4d1e-7fce-480d-96c7-7bddcffd525c",
   "metadata": {},
   "outputs": [],
   "source": [
    "def case_create(p0=2.0, c=5.0, L=2.0, Nx=100,\n",
    "                T=4.0, Nt=1000,\n",
    "                central=True, square=True):\n",
    "    '''Store variables defining case in a dict.\n",
    "    \n",
    "    For use in the solution.\n",
    "    '''\n",
    "    C = {}\n",
    "    C['p0'] = p0\n",
    "    C['c'] = c\n",
    "    C['L'] = L\n",
    "    C['Nx'] = Nx\n",
    "    C['T'] = T\n",
    "    C['Nt'] = Nt\n",
    "    \n",
    "    C['dx'] = L/Nx\n",
    "    C['dt'] = T/Nt\n",
    "    \n",
    "    C['central'] = central\n",
    "    C['square'] = square\n",
    "    \n",
    "    return C\n",
    "\n",
    "def case_set(C):\n",
    "    return (C['p0'], C['c'], C['L'], C['Nx'],\n",
    "            C['T'], C['Nt'], C['dx'], C['dt'],\n",
    "            C['central'], C['square'])"
   ]
  },
  {
   "cell_type": "markdown",
   "id": "573e6eeb-a667-4efb-a50e-894a49dfe549",
   "metadata": {},
   "source": [
    "Define a few cases of interest:"
   ]
  },
  {
   "cell_type": "code",
   "execution_count": null,
   "id": "6f7306d6-c303-4cfb-bd24-2eb2976b695c",
   "metadata": {},
   "outputs": [],
   "source": [
    "C = []\n",
    "C.append(case_create())\n",
    "C[0]['name'] = 'Case 0: default values, central diff, square'\n",
    "\n",
    "C.append(case_create(square=False))\n",
    "C[-1]['name'] = 'Case 1: default values, central diff, smooth'\n",
    "\n",
    "C.append(case_create(central=False))\n",
    "C[-1]['name'] = 'Case 2: default values, backward diff, square'\n",
    "\n",
    "C.append(case_create(central=False))\n",
    "C[-1]['name'] = 'Case 3: default values, backward diff, smooth'\n",
    "\n",
    "C.append(case_create(L=10, Nx=500, Nt=10000))\n",
    "C[-1]['name'] = 'Case 4: this is unstable, more slowly, central diff'\n",
    "\n",
    "C.append(case_create(L=10, Nx=100, T=4, Nt=10000, central=False))\n",
    "C[-1]['name'] = 'Case 5: this will show numerical diffusion, backward diff'"
   ]
  },
  {
   "cell_type": "markdown",
   "id": "a2efe6e4-2041-41e1-9293-c0030e161605",
   "metadata": {},
   "source": [
    "Choose a case and check variable values:"
   ]
  },
  {
   "cell_type": "code",
   "execution_count": null,
   "id": "580c0f9d-5172-40b8-b9da-8579a9485cdf",
   "metadata": {},
   "outputs": [],
   "source": [
    "p0, c, L, Nx, T, Nt, dx, dt, central, square = case_set(C[3])\n",
    "check_variables_1D()"
   ]
  },
  {
   "cell_type": "markdown",
   "id": "f20b90a5-aded-4682-a086-3ca19d0205e9",
   "metadata": {
    "id": "0491cc69"
   },
   "source": [
    "<div style=\"background-color:#facb8e; color: black; width: 95%; vertical-align: middle; padding:15px; margin: 10px; border-radius: 10px\">\n",
    "    <p>\n",
    "        <b>End of dictionary code.</b> Note that it is used below, for example with <code>case_set</code>\n",
    "    </p>\n",
    "</div>"
   ]
  },
  {
   "cell_type": "markdown",
   "id": "feabdadd-ad60-4eea-a34a-2e8d32cf62d6",
   "metadata": {
    "tags": []
   },
   "source": [
    "Variables are set below, then you should use the functions provided, for example, `check_variables_1D`, prior to running a simulation to make sure you are solving the problem you think you are!"
   ]
  },
  {
   "cell_type": "code",
   "execution_count": null,
   "id": "bad7e23c",
   "metadata": {},
   "outputs": [],
   "source": [
    "p0 = 2.0\n",
    "c = 5.0\n",
    "\n",
    "L = 2.0\n",
    "Nx = 100\n",
    "T = 40\n",
    "Nt =  100000\n",
    "\n",
    "dx = L/Nx\n",
    "dt = T/Nt\n",
    "\n",
    "central = True\n",
    "square = True"
   ]
  },
  {
   "cell_type": "markdown",
   "id": "a01bac48-407f-4c35-8475-a73035190fff",
   "metadata": {},
   "source": [
    "_You can ignore any warning that result from running the code below._"
   ]
  },
  {
   "cell_type": "code",
   "execution_count": null,
   "id": "48a174cf-79c1-4598-b438-5a139abd68af",
   "metadata": {},
   "outputs": [],
   "source": [
    "check_variables_1D()\n",
    "x, p_all = run_simulation_1D(p0, c, L, Nx, T, Nt, dx, dt, central, square)"
   ]
  },
  {
   "cell_type": "markdown",
   "id": "d00aa044-e55b-4339-9e70-6455aaad4a2c",
   "metadata": {},
   "source": [
    "Use the plotting function to check your initial values. It should look like a \"box\" shape somwhere in the $x$ domain with velocity $c$ m/s."
   ]
  },
  {
   "cell_type": "code",
   "execution_count": null,
   "id": "bc849eb8-4c49-4691-b7f8-35985527aca4",
   "metadata": {},
   "outputs": [],
   "source": [
    "plot_1D(x, p_all, step=1500)"
   ]
  },
  {
   "cell_type": "markdown",
   "id": "f46abdd9-1c87-46a7-8994-e8e35346ce7a",
   "metadata": {},
   "source": [
    "Visualize. At the very beginning, you should see the wave moving from the left to right. What happens afterwards?"
   ]
  },
  {
   "cell_type": "code",
   "execution_count": null,
   "id": "06742685-1f3c-43d1-8657-86a0d324b79f",
   "metadata": {},
   "outputs": [],
   "source": [
    "plot_1D_all()"
   ]
  },
  {
   "cell_type": "markdown",
   "id": "62204ce3-0e2f-4641-9615-3cc1d1fe4a24",
   "metadata": {},
   "source": [
    "## Part 2: Central Difference issues!\n",
    "\n",
    "The discretization is unstable (regardless of the time step used), largely due to weighting equally the influence by adjacent volumes in the fluxes. The hyperbolic nature of the equation implies that more weight should be given to the upstream/upwind $\\phi$ values.\n",
    "\n",
    "You might think that the initial abrupt edges of the square wave is responsible for the instability. You can test this by replacing the square pulse with a smooth one."
   ]
  },
  {
   "cell_type": "markdown",
   "id": "31ffff81-abad-4a53-bffb-caf24459a993",
   "metadata": {},
   "source": [
    "\n",
    "<div style=\"background-color:#AABAB2; color: black; width: 95%; vertical-align: middle; padding:15px; margin: 10px; border-radius: 10px\">\n",
    "<p>\n",
    "<b>Task 2:</b>\n",
    "Run the 1D simulation again using a smooth pulse. You can do this by changing the value of `square` from `True` to `False`. Does the simulation work?\n",
    "</div>"
   ]
  },
  {
   "cell_type": "code",
   "execution_count": null,
   "id": "8672fa59-e451-4271-8d12-470b8c42df67",
   "metadata": {},
   "outputs": [],
   "source": [
    "square=False\n",
    "x, p_all = run_simulation_1D(p0, c, L, Nx, T, Nt, dx, dt, central, square)\n",
    "plot_1D_all()"
   ]
  },
  {
   "cell_type": "markdown",
   "id": "bd6bf070-db79-4e76-a44d-e9f187263975",
   "metadata": {},
   "source": [
    "## Part 3: Upwind scheme\n",
    "\n",
    "More weight can be given to the upwind cells by choosing $\\phi$ values for the East face $\\phi_i$, and for the West face, use $\\phi_{i-1}$. This holds true for positive flow directions. For negative flow directions, you should choose $\\phi$ values for the East face $\\phi_{i-1}$, and for the West face, use $\\phi_{i}$. Note that this is less accurate than the central diffence approach but it will ensure stability."
   ]
  },
  {
   "cell_type": "markdown",
   "id": "5d969cf1",
   "metadata": {},
   "source": [
    "\n",
    "<div style=\"background-color:#AABAB2; color: black; width: 95%; vertical-align: middle; padding:15px; margin: 10px; border-radius: 10px\">\n",
    "<p>\n",
    "<b>Task 3.1:</b>\n",
    "\n",
    "Derive the upwind scheme and apply Forward Euler to the resulting ODE. Then implement it in the function <code>advection_1D</code>. Re-run the analysis after setting the <code>central</code> flag to <code>False</code>.\n",
    "    \n",
    "</div>"
   ]
  },
  {
   "cell_type": "code",
   "execution_count": null,
   "id": "1860025d-3c94-4fb7-ac2e-72c8b60578e0",
   "metadata": {},
   "outputs": [],
   "source": [
    "square=True\n",
    "central=False\n",
    "\n",
    "x, p_all = run_simulation_1D(p0, c, L, Nx, T, 10000, dx, dt, central, square)\n",
    "plot_1D_all()"
   ]
  },
  {
   "cell_type": "markdown",
   "id": "37d4be76",
   "metadata": {},
   "source": [
    "\n",
    "<div style=\"background-color:#AABAB2; color: black; width: 95%; vertical-align: middle; padding:15px; margin: 10px; border-radius: 10px\">\n",
    "<p>\n",
    "<b>Task 3.2:</b>\n",
    "\n",
    "In the previous task you should have seen that the method is unstable. Experiment with different time step $\\Delta t$ to see if you can find a limit above/below which the method is stable. Write down your $\\Delta t$ values and whether or not they were stable, as we will reflect on them later.\n",
    "    \n",
    "</div>"
   ]
  },
  {
   "cell_type": "code",
   "execution_count": null,
   "id": "84aba5f3",
   "metadata": {},
   "outputs": [],
   "source": [
    "# you can change variable values and rerun the analysis here."
   ]
  },
  {
   "cell_type": "markdown",
   "id": "3aa5d98a",
   "metadata": {},
   "source": [
    "| $\\Delta t$ | stable or unstable? |\n",
    "| :---: | :---: |\n",
    "|  |  |\n",
    "\n",
    "**SOLUTION NEEDED**"
   ]
  },
  {
   "cell_type": "markdown",
   "id": "77365343",
   "metadata": {},
   "source": [
    "## Part 4: False Diffusion\n",
    "\n",
    "In the previous tasks, we saw how upwinding can be an effective way to handle the type of PDE we are studying (in this case hyperbolic). Now, we will consider _another_ aspect of stability: that of the time integration scheme.\n",
    "\n",
    "Let’s play with the code. In convective kinematics a von Neumann analysis on the advection equation suggests that the following must hold for stability:\n",
    "$$\n",
    "CFL = \\frac{c \\Delta t}{\\Delta x} \\leq 1\n",
    "$$\n",
    "    \n",
    "$CFL$ is the Courant–Friedrichs–Lewy condtion, a dimensionless quantity that relates the speed of information leaves a finite volume, relating speed to the ratio of time step duration and cell length. The ratio can provide us an indication of the inherent stability of explicit schemes. \n"
   ]
  },
  {
   "cell_type": "markdown",
   "id": "aa8b24c5",
   "metadata": {},
   "source": [
    "\n",
    "<div style=\"background-color:#AABAB2; color: black; width: 95%; vertical-align: middle; padding:15px; margin: 10px; border-radius: 10px\">\n",
    "<p>\n",
    "<b>Task 4.1:</b>\n",
    "If you have not already done so, modify the function above to calculate the CFL and run the function <code>check_variables_1D()</code> to check the values. Evaluate the CFL for the time steps you tried in Task 3.2 and write them below, along with the statement of whether or not the scheme was stable.\n",
    "</div>"
   ]
  },
  {
   "cell_type": "markdown",
   "id": "38784716",
   "metadata": {},
   "source": [
    "_Write your CFL values here, along with the result:_\n",
    "\n",
    "| CFL | $\\Delta t$ | stable or unstable? |\n",
    "| :---: | :---: | :---: |\n",
    "|  |  |  |"
   ]
  },
  {
   "cell_type": "code",
   "execution_count": null,
   "id": "faf77fd1-0c67-4452-88d4-51dcc88768dc",
   "metadata": {},
   "outputs": [],
   "source": [
    "choose_case = 5\n",
    "p0, c, L, Nx, T, Nt, dx, dt, central, square = case_set(C[choose_case])\n",
    "print(C[choose_case]['name'])"
   ]
  },
  {
   "cell_type": "code",
   "execution_count": null,
   "id": "444571d6-58af-498e-846f-72867a972625",
   "metadata": {},
   "outputs": [],
   "source": [
    "x, p_all = run_simulation_1D(p0, c, L, Nx, T, Nt, dx, dt, central, square)\n",
    "plot_1D_all()"
   ]
  },
  {
   "cell_type": "markdown",
   "id": "bfd17cd8",
   "metadata": {},
   "source": [
    "\n",
    "<div style=\"background-color:#AABAB2; color: black; width: 95%; vertical-align: middle; padding:15px; margin: 10px; border-radius: 10px\">\n",
    "<p>\n",
    "<b>Task 4.2:</b>\n",
    "\n",
    "Now use the CFL to compute the time step $\\Delta t$ that defines the boundary between the stable and unstable region. Then re-run the analysis for this value, as well as a value that is slightly above and below that threshold $\\Delta t$.\n",
    "</div>"
   ]
  },
  {
   "cell_type": "code",
   "execution_count": null,
   "id": "1f919d93",
   "metadata": {},
   "outputs": [],
   "source": [
    "# SOLUTION"
   ]
  },
  {
   "cell_type": "markdown",
   "id": "99e5acac",
   "metadata": {},
   "source": [
    "### So you think everything is stable and perfect, right?\n",
    "\n",
    "Based on the previous task, it looks like we have a good handle on this problem, and are able to use the CFL to set up a reliable numerical scheme for all sorts of complex problems---right?!\n",
    "\n",
    "**WRONG!**\n",
    "\n",
    "Remember, in this problem we are dealing with single \"wave\" propagating at a _constant_ speed. In practice we apply numerical schemes to more complex methods. For example, most problems consider _variable_ speed/velocity in more than one dimension. When this is the case, the problem cannot be described by a single CFL value! As a rule of thumb, a modeller would then choose a conservative CFL value, determined by the largest expected flow velocities (in the case of a regular mesh).\n",
    "\n",
    "Let's apply this concept by using a CFL condition of 0.8 to visualize the impact on the numerical solution. "
   ]
  },
  {
   "cell_type": "markdown",
   "id": "788b5742",
   "metadata": {},
   "source": [
    "\n",
    "<div style=\"background-color:#AABAB2; color: black; width: 95%; vertical-align: middle; padding:15px; margin: 10px; border-radius: 10px\">\n",
    "<p>\n",
    "<b>Task 4.3:</b>\n",
    "\n",
    "Find $\\Delta t$ such that CFL is 0.8 and re-run the analysis. What do you observe?\n",
    "\n",
    "<em>Make sure you look at the complete solution, not just the first few steps.</em>\n",
    "    \n",
    "</div>"
   ]
  },
  {
   "cell_type": "code",
   "execution_count": null,
   "id": "4cb62a90",
   "metadata": {},
   "outputs": [],
   "source": [
    "# SOLUTION"
   ]
  },
  {
   "cell_type": "markdown",
   "id": "5c464589",
   "metadata": {},
   "source": [
    "\n",
    "<div style=\"background-color:#AABAB2; color: black; width: 95%; vertical-align: middle; padding:15px; margin: 10px; border-radius: 10px\">\n",
    "<p>\n",
    "<b>Task 4.4:</b>\n",
    "\n",
    "Describe what you observe in the result of the previous task and state (yes/no) whether or not this should be expected, given the PDE we are solving. Explain your answer in a couple sentences.\n",
    "    \n",
    "</div>"
   ]
  },
  {
   "cell_type": "markdown",
   "id": "d9a710a7",
   "metadata": {},
   "source": [
    "<div style=\"background-color:#FAE99E; color: black; width: 95%; vertical-align: middle; padding:15px; margin: 10px; border-radius: 10px\">\n",
    "<p>\n",
    "<b>Solution:</b>\n",
    "\n",
    "The phenomenon you saw in the previous task is <em>numerical</em>, or <em>false</em> diffusion.\n",
    "...\n",
    "\n",
    "\n",
    "No!\n",
    "\n",
    "- we observe the wave diffuses\n",
    "- our PDE only considers convection\n",
    "- where does this come from?!\n",
    "\n",
    "\n",
    "</p>\n",
    "</div>"
   ]
  },
  {
   "cell_type": "markdown",
   "id": "df03203d-587e-4b8b-9beb-ba41013005f9",
   "metadata": {},
   "source": [
    "## Part 5: 2D Implementation in Python"
   ]
  },
  {
   "cell_type": "markdown",
   "id": "20bf88e0",
   "metadata": {},
   "source": [
    "<div style=\"background-color:#AABAB2; color: black; width: 95%; vertical-align: middle; padding:15px; margin: 10px; border-radius: 10px\">\n",
    "<p>\n",
    "<b>Task 5.1:</b>\n",
    "Apply FVM by hand to the 2D advection equation. The volumes are rectangular. This is a good example of an exam problem.\n",
    "\n",
    "$$\n",
    "\\frac{\\partial \\phi}{\\partial t} + c_x\\frac{\\partial \\phi}{\\partial x} + c_y\\frac{\\partial \\phi}{\\partial y} = 0\n",
    "$$\n",
    "\n",
    "</div>"
   ]
  },
  {
   "cell_type": "markdown",
   "id": "7c763a84",
   "metadata": {},
   "source": [
    "<div style=\"background-color:#AABAB2; color: black; width: 95%; vertical-align: middle; padding:15px; margin: 10px; border-radius: 10px\">\n",
    "<p>\n",
    "<b>Task 5.2:</b>\n",
    "The code is set up in a very similar way to the 1D case above. Use it to explore how the advection problem works in 2D! In particular, see if you observe the effect called \"numerical diffusion\" --- when the numerical scheme causes the square pulse to \"diffuse\" into a bell shaped surface. Even though only the advection term was implmented!\n",
    "</div>"
   ]
  },
  {
   "cell_type": "markdown",
   "id": "a5b165dc-cb40-482c-ae11-75d99f0c233f",
   "metadata": {
    "id": "0491cc69"
   },
   "source": [
    "<div style=\"background-color:#facb8e; color: black; width: 95%; vertical-align: middle; padding:15px; margin: 10px; border-radius: 10px\">\n",
    "    <p>\n",
    "        The initial values of the variables below will result in numerical instability. See if you can fix it!\n",
    "    </p>\n",
    "</div>"
   ]
  },
  {
   "cell_type": "code",
   "execution_count": null,
   "id": "3353a233",
   "metadata": {},
   "outputs": [],
   "source": [
    "p0 = 2.0\n",
    "cx = 5.0\n",
    "cy = 5.0\n",
    "\n",
    "Lx = 2.0\n",
    "Nx = 100\n",
    "Ly = 2.0\n",
    "Ny = 100\n",
    "T = 40\n",
    "Nt =  900\n",
    "\n",
    "dx = Lx/Nx\n",
    "dy = Ly/Ny\n",
    "dt = T/Nt\n",
    "\n",
    "central = True\n"
   ]
  },
  {
   "cell_type": "code",
   "execution_count": null,
   "id": "be2b163b-811d-498d-82e9-a6b56327efcd",
   "metadata": {},
   "outputs": [],
   "source": [
    "def initialize_2D(p0, Lx, Nx, Ly, Ny, T, Nt):\n",
    "    x = np.linspace(dx/2, Lx - dx/2, Nx)\n",
    "    y = np.linspace(dy/2, Ly - dx/2, Ny)\n",
    "    X, Y = np.meshgrid(x, y)\n",
    "    \n",
    "    # Initialise domain: cubic pulse with p0 between 0.5 and 1\n",
    "    p_init = np.zeros((Nx, Ny))\n",
    "    p_init[int(0.5/dx):int(1/dx + 1), int(0.5/dy):int(1/dy + 1)] = p0\n",
    "\n",
    "    p_all = np.zeros((Nt + 1, Nx, Ny))\n",
    "    p_all[0] = p_init\n",
    "    return X, Y, p_all\n",
    "\n",
    "def advection_2D(p, cx, cy, Nx, Ny, dx, dy, dt, central=True):\n",
    "\n",
    "    p_new = np.ones((Nx,Ny))\n",
    "\n",
    "    for i in range(0, Nx):\n",
    "        for j in range(0, Ny):\n",
    "            if central:\n",
    "                p_new[i-1,j-1] = (p[i-1,j-1]\n",
    "                                  - 0.5*(cx*dt/dx)*(p[i,j-1] - p[i-2,j-1])\n",
    "                                  - 0.5*(cy*dt/dy)*(p[i-1,j] - p[i-1,j-2]))\n",
    "            else:\n",
    "                p_new[i, j] = (p[i, j] - (cx*dt/dx)*(p[i, j] - p[i - 1, j]) \n",
    "                                       - (cy*dt/dy)*(p[i, j] - p[i, j - 1]))\n",
    "    return p_new\n",
    "    \n",
    "def run_simulation_2D(p0, cx, cy, Lx, Nx, Ly, Ny,\n",
    "                      T, Nt, dx, dy, dt, central=True):\n",
    "    \n",
    "    X, Y, p_all = initialize_2D(p0, Lx, Nx, Ly, Ny, T, Nt)\n",
    "    \n",
    "    for t in range(Nt):\n",
    "        p = advection_2D(p_all[t], cx, cy, Nx, Ny,\n",
    "                         dx, dy, dt, central=central)\n",
    "        p_all[t + 1] = p\n",
    "        \n",
    "    return X, Y, p_all\n",
    "\n",
    "def plot_2D(p, X, Y, step=0):\n",
    "    'Create 2D plot, X and Y are formatted as meshgrid.'''\n",
    "    fig = plt.figure(figsize=(11, 7), dpi=100)\n",
    "    ax = fig.add_subplot(111, projection='3d')\n",
    "    ax.set_xlabel('x [m]')\n",
    "    ax.set_ylabel('y [m]')\n",
    "    ax.set_zlabel('$\\phi$ [-]') \n",
    "    ax.set_title('Advection in 2D')\n",
    "    surf = ax.plot_surface(X, Y, p[step],\n",
    "                           cmap='Blues', rstride=2, cstride=2)\n",
    "    fig.colorbar(surf, shrink=0.5, aspect=5)\n",
    "    plt.show()\n",
    "\n",
    "def plot_2D_all():\n",
    "    check_variables_2D()\n",
    "    \n",
    "    play = widgets.Play(min=0, max=Nt-1, step=1, value=0,\n",
    "                        interval=100, disabled=False)\n",
    "    slider = widgets.IntSlider(min=0, max=Nt-1,\n",
    "                               step=1, value=0)\n",
    "    widgets.jslink((play, 'value'), (slider, 'value'))\n",
    "    \n",
    "    interact(plot_2D,\n",
    "             p=fixed(p_all),\n",
    "             X=fixed(X),\n",
    "             Y=fixed(Y),\n",
    "             step=play)\n",
    "\n",
    "    return widgets.HBox([slider])\n",
    "\n",
    "def check_variables_2D():\n",
    "    print('Current variables values:')\n",
    "    print(f'  p0 [---]: {p0:0.2f}')\n",
    "    print(f'  cx [m/s]: {cx:0.2f}')\n",
    "    print(f'  cy [m/s]: {cy:0.2f}')\n",
    "    print(f'  Lx [ m ]: {Lx:0.1f}')\n",
    "    print(f'  Nx [---]: {Nx:0.1f}')\n",
    "    print(f'  Ly [ m ]: {Ly:0.1f}')\n",
    "    print(f'  Ny [---]: {Ny:0.1f}')\n",
    "    print(f'  T  [ s ]: {T:0.1f}')\n",
    "    print(f'  Nt [---]: {Nt:0.1f}')\n",
    "    print(f'  dx [ m ]: {dx:0.2e}')\n",
    "    print(f'  dy [ m ]: {dy:0.2e}')\n",
    "    print(f'  dt [ s ]: {dt:0.2e}')\n",
    "    print(f'Using central difference?: {central}')\n",
    "    print(f'Solution shape p_all[t_i]: ({Nx}, {Ny})')\n",
    "    print(f'Total time steps in p_all: {Nt+1}')\n",
    "    print(f'CFL, direction x: {cx*dt/dx:.2e}')\n",
    "    print(f'CFL, direction y: {cy*dt/dy:.2e}')"
   ]
  },
  {
   "cell_type": "markdown",
   "id": "f25b48c4-f847-435c-8c78-4ff3a9fc4d15",
   "metadata": {},
   "source": [
    "<div style=\"background-color:#FAE99E; color: black; width: 95%; vertical-align: middle; padding:15px; margin: 10px; border-radius: 10px\">\n",
    "<p>\n",
    "Here you can check the Python variable assignments and visualize the initial conditions in the plot. Notice that we already redefine the time parameters to give a CFL of less than 1, in both directions.\n",
    "</p>\n",
    "</div>"
   ]
  },
  {
   "cell_type": "code",
   "execution_count": null,
   "id": "cbf8c749-4c91-4ec2-8849-99e9e7652f2e",
   "metadata": {},
   "outputs": [],
   "source": [
    "T = 1\n",
    "Nt =  1000\n",
    "dt = T/Nt\n",
    "check_variables_2D()\n",
    "X, Y, p_all = initialize_2D(p0, Lx, Nx, Ly, Ny, T, Nt)\n",
    "plot_2D(p_all, X, Y)"
   ]
  },
  {
   "cell_type": "markdown",
   "id": "a2198cbe-422a-44b4-9bff-d3479befaa43",
   "metadata": {},
   "source": [
    "<div style=\"background-color:#FAE99E; color: black; width: 95%; vertical-align: middle; padding:15px; margin: 10px; border-radius: 10px\">\n",
    "<p>\n",
    "By default the central difference scheme is used, so you should see the numerical instability just as we did before in the 1D case.\n",
    "\n",
    "</p>\n",
    "</div>"
   ]
  },
  {
   "cell_type": "code",
   "execution_count": null,
   "id": "94e5c840-0373-451f-af12-2ac58138cc5e",
   "metadata": {},
   "outputs": [],
   "source": [
    "X, Y, p_all = run_simulation_2D(p0, cx, cy, Lx, Nx, Ly, Ny, T, Nt, dx, dy, dt, central)\n",
    "plot_2D_all()"
   ]
  },
  {
   "cell_type": "markdown",
   "id": "f29a9aef-f355-45bb-9156-7fcd5d1d547c",
   "metadata": {},
   "source": [
    "<div style=\"background-color:#FAE99E; color: black; width: 95%; vertical-align: middle; padding:15px; margin: 10px; border-radius: 10px\">\n",
    "<p>\n",
    "Switching to the upwind scheme gives a stable solution. Note the numerical diffusion (change from cubic to bell shape). Also, as the edges of the bell shape spread outside of the X-Y domain, you will see them appear on the corners: this is a result of the fact that the iteration loops over X and Y in the meshgrid format don't properly find the \"neighbor\" volumes. To understand this, refer to the textbook where the matrix form of the 2D solution is presented and see how the index of the neighbor volumes is not sequential as in the for loops.\n",
    "\n",
    "</p>\n",
    "</div>"
   ]
  },
  {
   "cell_type": "code",
   "execution_count": null,
   "id": "96aec400-4cc3-412d-863d-9be6c2462f54",
   "metadata": {},
   "outputs": [],
   "source": [
    "X, Y, p_all = run_simulation_2D(p0, cx, cy, Lx, Nx, Ly, Ny, T, Nt, dx, dy, dt, central=False)\n",
    "plot_2D_all()"
   ]
  },
  {
   "cell_type": "markdown",
   "id": "f6d196c8",
   "metadata": {},
   "source": [
    "**End of notebook.**\n",
    "<h2 style=\"height: 60px\">\n",
    "</h2>\n",
    "<h3 style=\"position: absolute; display: flex; flex-grow: 0; flex-shrink: 0; flex-direction: row-reverse; bottom: 60px; right: 50px; margin: 0; border: 0\">\n",
    "    <style>\n",
    "        .markdown {width:100%; position: relative}\n",
    "        article { position: relative }\n",
    "    </style>\n",
    "    <a rel=\"license\" href=\"http://creativecommons.org/licenses/by/4.0/\">\n",
    "      <img alt=\"Creative Commons License\" style=\"border-width:; width:88px; height:auto; padding-top:10px\" src=\"https://i.creativecommons.org/l/by/4.0/88x31.png\" />\n",
    "    </a>\n",
    "    <a rel=\"TU Delft\" href=\"https://www.tudelft.nl/en/ceg\">\n",
    "      <img alt=\"TU Delft\" style=\"border-width:0; width:100px; height:auto; padding-bottom:0px\" src=\"https://gitlab.tudelft.nl/mude/public/-/raw/main/tu-logo/TU_P1_full-color.png\" />\n",
    "    </a>\n",
    "    <a rel=\"MUDE\" href=\"http://mude.citg.tudelft.nl/\">\n",
    "      <img alt=\"MUDE\" style=\"border-width:0; width:100px; height:auto; padding-bottom:0px\" src=\"https://gitlab.tudelft.nl/mude/public/-/raw/main/mude-logo/MUDE_Logo-small.png\" />\n",
    "    </a>\n",
    "    \n",
    "</h3>\n",
    "<span style=\"font-size: 75%\">\n",
    "&copy; Copyright 2024 <a rel=\"MUDE\" href=\"http://mude.citg.tudelft.nl/\">MUDE</a> TU Delft. This work is licensed under a <a rel=\"license\" href=\"http://creativecommons.org/licenses/by/4.0/\">CC BY 4.0 License</a>."
   ]
  }
 ],
 "metadata": {
  "language_info": {
   "name": "python"
  }
 },
 "nbformat": 4,
 "nbformat_minor": 5
}
