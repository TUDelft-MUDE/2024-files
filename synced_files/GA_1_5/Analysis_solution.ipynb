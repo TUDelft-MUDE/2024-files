{
 "cells": [
  {
   "cell_type": "markdown",
   "id": "618d8a1d-a5a1-401a-b73f-8041340356b7",
   "metadata": {
    "tags": []
   },
   "source": [
    "# Project 3: Numerical Derivatives and Taylor Series Approximations\n",
    "\n",
    "<h1 style=\"position: absolute; display: flex; flex-grow: 0; flex-shrink: 0; flex-direction: row-reverse; top: 90px;right: 30px; margin: 0; border: 0\">\n",
    "    <style>\n",
    "        .markdown {width:100%; position: relative}\n",
    "        article { position: relative }\n",
    "    </style>\n",
    "    <img src=\"https://gitlab.tudelft.nl/mude/public/-/raw/main/tu-logo/TU_P1_full-color.png\" style=\"width:100px\" />\n",
    "    <img src=\"https://gitlab.tudelft.nl/mude/public/-/raw/main/mude-logo/MUDE_Logo-small.png\" style=\"width:100px\" />\n",
    "</h1>\n",
    "<h2 style=\"height: 25px\">\n",
    "</h2>\n",
    "\n",
    "*[CEGM1000 MUDE](http://mude.citg.tudelft.nl/): Week 1.5, Friday, Oct 4, 2024.*"
   ]
  },
  {
   "cell_type": "markdown",
   "id": "8e2540b3-ed63-4e23-ba47-15926896b0f0",
   "metadata": {
    "tags": []
   },
   "source": [
    "## Overview:\n",
    "\n",
    "Numerical derivatives are required to solve differential equations in numerical modelling and they can also be applied to data. To understand its intricacies, the ice thickness data of the Nenana River will be applied using the three derivative approximations.\n",
    "\n",
    "Taylor Series Expansions are necessary to understand the limitations of numerical models based on finite differences/finite elements. In particular, the approximation of derivatives/integrals and its effect on representing physical systems. In the majority of cases, we use Taylor as an approximation of non-linear functions that do not have mathematically simple solutions and instead we use a polynomial to locally approximate. However, it is crucial to understand that the result is **only accurate over a small interval**. For this project, we will look at a simple function that we can solve analytically and compare our Taylor approximations. "
   ]
  },
  {
   "cell_type": "markdown",
   "id": "49dc3f22",
   "metadata": {},
   "source": [
    "<div style=\"background-color:#facb8e; color: black; width:95%; vertical-align: middle; padding:15px; margin: 10px; border-radius: 10px; width: 95%\"> <p>Note on programming implementation: one goal of this assignment is for you to be aware of how the numerical implementation differs from the analytic expressions, as well as how the implementation differs between numerical schemes. Typically this is straightforward for the calculations in general, but special consideration must be made when evaluating equations at the edges of the data set (or function domain). In 1D problems, this means the first and last points.</p></div>"
   ]
  },
  {
   "cell_type": "markdown",
   "id": "85586f86",
   "metadata": {},
   "source": [
    "<div style=\"background-color:#facb8e; color: black; width:95%; vertical-align: middle; padding:15px; margin: 10px; border-radius: 10px; width: 95%\"> <p>Note also that we use Pandas in this notebook to make the data handling easier. You are not expected to be able to use it (yet), but now that you are an expert with Python dictionaries, you will probably be able to recognize what it is doing easily.</p></div>"
   ]
  },
  {
   "cell_type": "code",
   "execution_count": null,
   "id": "b7c0f84b-51eb-41b4-b1a9-9a5270287193",
   "metadata": {
    "tags": []
   },
   "outputs": [],
   "source": [
    "import numpy as np\n",
    "import matplotlib.pylab as plt\n",
    "import pandas as pd"
   ]
  },
  {
   "cell_type": "markdown",
   "id": "b0977eab",
   "metadata": {},
   "source": [
    "## Part 0: Data Import and Exploration\n",
    "\n",
    "In the following, the ice thickness [cm] data of the Nenana River is plotted over time, and we are interested in the derivative of ice thickness."
   ]
  },
  {
   "cell_type": "markdown",
   "id": "a65b928c",
   "metadata": {},
   "source": [
    "<div style=\"background-color:#AABAB2; color: black; width:95%; vertical-align: middle; padding:15px; margin: 10px; border-radius: 10px\">\n",
    "<p>\n",
    "\n",
    "\n",
    "<b>Task 0.1:</b> run the cell below to create a plot, then reflect on this question: what does the time derivative represent?  \n",
    "\n",
    "\n",
    "</ol>\n",
    "</p>\n",
    "</div>"
   ]
  },
  {
   "cell_type": "code",
   "execution_count": null,
   "id": "87dd870e",
   "metadata": {},
   "outputs": [],
   "source": [
    "data=pd.read_csv(filepath_or_buffer='justIce.csv',index_col=0)\n",
    "data.index = pd.to_datetime(data.index, format=\"%Y-%m-%d\")\n",
    "\n",
    "plt.figure(figsize=(15,4))\n",
    "plt.scatter(data.index,data, color='green', marker='x')\n",
    "plt.xlabel('Year')\n",
    "plt.ylabel('Ice thickness [cm]')\n",
    "plt.grid()"
   ]
  },
  {
   "cell_type": "markdown",
   "id": "9f2ccde8",
   "metadata": {},
   "source": [
    "<div style=\"background-color:#AABAB2; color: black; width:95%; vertical-align: middle; padding:15px; margin: 10px; border-radius: 10px\">\n",
    "<p>\n",
    "\n",
    "<b>Task 0.2:</b> Before computing the numerical derivatives, reflect on why it would be a bad idea to do it over the entire data set? In other words, why is it a bad idea to compute the derivatives over the entire nearly 40-year period?\n",
    "</p>\n",
    "</div>"
   ]
  },
  {
   "cell_type": "markdown",
   "id": "608c2bf3",
   "metadata": {},
   "source": [
    "<div style=\"background-color:#AABAB2; color: black; width:95%; vertical-align: middle; padding:15px; margin: 10px; border-radius: 10px\">\n",
    "<p>\n",
    "\n",
    "<b>Task 0.3:</b> Run the cell below to visualize what the data looks like for one year. Reflect on whether this is a suitable time period over which to compute derivatives.\n",
    "</p>\n",
    "</div>"
   ]
  },
  {
   "cell_type": "code",
   "execution_count": null,
   "id": "b07eb42c",
   "metadata": {},
   "outputs": [],
   "source": [
    "data_2021 = data.loc['2021']\n",
    "\n",
    "plt.figure(figsize=(15,4))\n",
    "plt.scatter(data_2021.index,data_2021, color='green', marker='x')\n",
    "plt.xlabel('Date')\n",
    "plt.ylabel('Ice thickness [cm]')\n",
    "plt.grid()\n"
   ]
  },
  {
   "cell_type": "markdown",
   "id": "f2ebf27a",
   "metadata": {},
   "source": [
    "## Part 1: Numerical Derivatives\n",
    "\n",
    "For numerics we will use numpy due to its optimization for numerical computations. In the cell below, the conversion to numpy is already there as well as a transformation from date to time_days."
   ]
  },
  {
   "cell_type": "markdown",
   "id": "7a7d37d1",
   "metadata": {},
   "source": [
    "<div style=\"background-color:#AABAB2; color: black; width:95%; vertical-align: middle; padding:15px; margin: 10px; border-radius: 10px\">\n",
    "<p>\n",
    "\n",
    "<b>Task 1.1:</b>  Use Forward Difference to estimate the growth rate of the ice, using <em>only</em> the variables <code>h_ice</code> and <code>t_days</code> (i.e., no need to write a function).\n",
    "\n",
    "</ol>\n",
    "</p>\n",
    "</div>"
   ]
  },
  {
   "cell_type": "markdown",
   "id": "41f26598",
   "metadata": {},
   "source": [
    "<div style=\"background-color:#facb8e; color: black; width:95%; vertical-align: middle; padding:15px; margin: 10px; border-radius: 10px; width: 95%\"> <p>Remember that one of our goals is to compare the numerical implementation, therefore, in the Tasks below you are asked to keep the function evaluations identical in each case, while <em>only</em> changing the evaluation points (i.e., the indices of the time array).</p></div>"
   ]
  },
  {
   "cell_type": "code",
   "execution_count": null,
   "id": "171d557c",
   "metadata": {},
   "outputs": [],
   "source": [
    "h_ice = (data_2021.to_numpy()).ravel()\n",
    "t_days = ((data_2021.index - data_2021.index[0]).days).to_numpy()\n",
    "\n",
    "# dh_dt_FD = YOUR_CODE_HERE\n",
    "\n",
    "# SOLUTION:\n",
    "dh_dt_FD = (h_ice[1:]-h_ice[:-1])/(t_days[1:]-t_days[:-1]) "
   ]
  },
  {
   "cell_type": "markdown",
   "id": "2a426a8e",
   "metadata": {},
   "source": [
    "Great, you did it! However, computing the derivative is not enough. It is necessary to specify **where** that derivative was computed."
   ]
  },
  {
   "cell_type": "markdown",
   "id": "09f9d8bb",
   "metadata": {},
   "source": [
    "<div style=\"background-color:#AABAB2; color: black; width:95%; vertical-align: middle; padding:15px; margin: 10px; border-radius: 10px\">\n",
    "<p>\n",
    "\n",
    "<b>Task 1.2:</b> Plot the growth rate together with the ice thickness, specifying the proper time where the derivative is computed.\n",
    "\n",
    "<em>Note that a second axis has been added to enable us to include the original ice thickness measurements for comparison.</em>\n",
    "\n",
    "</p>\n",
    "</div>"
   ]
  },
  {
   "cell_type": "code",
   "execution_count": null,
   "id": "25592875",
   "metadata": {},
   "outputs": [],
   "source": [
    "fig, ax1 = plt.subplots(figsize=(15,4))\n",
    "\n",
    "# ax1.scatter(YOUR_CODE_HERE, dh_dt_FE,\n",
    "#             color='blue', marker='o', label='dh_dt_FE Forward Euler')\n",
    "\n",
    "# SOLUTION:\n",
    "ax1.scatter(t_days[:-1], dh_dt_FD,\n",
    "            color='blue', marker='o', label='dh_dt_FD Forward Difference')\n",
    "\n",
    "ax1.set_xlabel('Days')\n",
    "ax1.set_ylabel('Growth Rate [cm/day]', color='blue')\n",
    "ax1.tick_params(axis='y', labelcolor='blue')\n",
    "ax1.grid()\n",
    "\n",
    "\n",
    "ax2 = ax1.twinx()\n",
    "ax2.scatter(t_days, h_ice,\n",
    "            color='green', marker='x', label='h_ice Measurements')\n",
    "ax2.set_ylabel('Ice thickness [cm]', color='green')\n",
    "ax2.tick_params(axis='y', labelcolor='green')\n",
    "\n",
    "handles, labels = ax1.get_legend_handles_labels()\n",
    "handles2, labels2 = ax2.get_legend_handles_labels()\n",
    "ax1.legend(handles + handles2, labels + labels2, loc='upper left')\n",
    "\n",
    "plt.show()\n"
   ]
  },
  {
   "cell_type": "markdown",
   "id": "30b1625a",
   "metadata": {},
   "source": [
    "<div style=\"background-color:#AABAB2; color: black; width:95%; vertical-align: middle; padding:15px; margin: 10px; border-radius: 10px\">\n",
    "<p>\n",
    "\n",
    "<b>Task 1.3:</b> Use backward difference to compute the ice growth rate and plot it, together with the previous estimation and the ice thickness.\n",
    "\n",
    "</p>\n",
    "</div>"
   ]
  },
  {
   "cell_type": "code",
   "execution_count": null,
   "id": "108dea5f",
   "metadata": {},
   "outputs": [],
   "source": [
    "# dh_dt_BE = YOUR_CODE_HERE\n",
    "\n",
    "# SOLUTION:\n",
    "dh_dt_BD = (h_ice[1:]-h_ice[:-1])/(t_days[1:]-t_days[:-1]) \n",
    "\n",
    "fig, ax1 = plt.subplots(figsize=(15,4))\n",
    "\n",
    "\n",
    "# ax1.scatter(YOUR_CODE_HERE, dh_dt_FD,\n",
    "#             color='blue', marker='o', label='dh_dt_FE Forward Difference')\n",
    "# ax1.scatter(YOUR_CODE_HERE, dh_dt_BD,\n",
    "            # color='red', marker='o', label='dh_dt_BE Backward Difference')\n",
    "\n",
    "# SOLUTION:\n",
    "ax1.scatter(t_days[:-1], dh_dt_FD,\n",
    "            color='blue', marker='o', label='dh_dt_FD Forward Difference')\n",
    "ax1.scatter(t_days[1:], dh_dt_BD,\n",
    "            color='red', marker='o', label='dh_dt_BD Backward Difference')\n",
    "\n",
    "ax1.set_xlabel('Days')\n",
    "ax1.set_ylabel('Growth Rate [cm/day]', color='blue')\n",
    "ax1.tick_params(axis='y', labelcolor='blue')\n",
    "ax1.grid()\n",
    "\n",
    "ax2 = ax1.twinx()\n",
    "ax2.scatter(t_days, h_ice,\n",
    "            color='green', marker='x', label='h_ice Measurements')\n",
    "ax2.set_ylabel('Ice thickness [cm]', color='green')\n",
    "ax2.tick_params(axis='y', labelcolor='green')\n",
    "\n",
    "handles, labels = ax1.get_legend_handles_labels()\n",
    "handles2, labels2 = ax2.get_legend_handles_labels()\n",
    "ax1.legend(handles + handles2, labels + labels2, loc='upper left')\n",
    "\n",
    "plt.show()"
   ]
  },
  {
   "cell_type": "markdown",
   "id": "680f937d",
   "metadata": {},
   "source": [
    "<div style=\"background-color:#AABAB2; color: black; width:95%; vertical-align: middle; padding:15px; margin: 10px; border-radius: 10px\">\n",
    "<p>\n",
    "\n",
    "<b>Task 1.4:</b> Now apply central differences and plot them. \n",
    "\n",
    "**Beware: if you follow the derivation in the textbook, the distances $x_{i+1}-x_i$ and $x_{i}-x_{i-1}$ are assumed to be the same for all points (and between $x_{i-1}$, $x_i$ and $x_{i+1}$). That is not the case in this data set. Therefore, you must evaluate the derivative at some location between each data point that satisfies this criteria.** (Hint: the middle!). **Also, remember, we are only changing the time indices.**\n",
    "\n",
    "<em>Note that it is not necessary to define the \"new\" points that the derivative is evaluated at, you can write them directly in the scatter plot arguments.</em>\n",
    "</p>\n",
    "</div>"
   ]
  },
  {
   "cell_type": "code",
   "execution_count": null,
   "id": "8c2a379e",
   "metadata": {},
   "outputs": [],
   "source": [
    "# dh_dt_CD = YOUR_CODE_HERE\n",
    "\n",
    "# SOLUTION:\n",
    "dh_dt_CD = (h_ice[1:]-h_ice[:-1])/(t_days[1:]-t_days[:-1]) \n",
    "\n",
    "fig, ax1 = plt.subplots(figsize=(15,4))\n",
    "\n",
    "# ax1.scatter(YOUR_CODE_HERE, dh_dt_FE,\n",
    "#             color='blue', marker='o', label='dh_dt_FE Forward Euler')\n",
    "# ax1.scatter(YOUR_CODE_HERE, dh_dt_BE,\n",
    "#             color='red', marker='o', label='dh_dt_BE Backward Euler')\n",
    "# ax1.scatter(YOUR_CODE_HERE, dh_dt_CD,\n",
    "#             color='purple', marker='o', label='dh_dt_CD Central Difference')\n",
    "\n",
    "# SOLUTION:\n",
    "ax1.scatter(t_days[:-1], dh_dt_FD,\n",
    "            color='blue', marker='o', label='dh_dt_FE Forward Difference')\n",
    "ax1.scatter(t_days[1:], dh_dt_BD,\n",
    "            color='red', marker='o', label='dh_dt_BE Backward Difference')\n",
    "ax1.scatter((t_days[1:]+t_days[:-1])/2, dh_dt_CD,\n",
    "            color='purple', marker='o', label='dh_dt_CD Central Difference')\n",
    "ax1.set_xlabel('Days')\n",
    "ax1.set_ylabel('Growth Rate [cm/day]', color='blue')\n",
    "ax1.tick_params(axis='y', labelcolor='blue')\n",
    "ax1.grid()\n",
    "\n",
    "ax2 = ax1.twinx()\n",
    "ax2.scatter(t_days, h_ice, color='green', marker='x', label='h_ice Measurements')\n",
    "ax2.set_ylabel('Ice thickness [cm]', color='green')\n",
    "ax2.tick_params(axis='y', labelcolor='green')\n",
    "\n",
    "handles, labels = ax1.get_legend_handles_labels()\n",
    "handles2, labels2 = ax2.get_legend_handles_labels()\n",
    "ax1.legend(handles + handles2, labels + labels2, loc='upper left')\n",
    "\n",
    "plt.show()"
   ]
  },
  {
   "cell_type": "markdown",
   "id": "2fa56b7e",
   "metadata": {},
   "source": [
    "## Part 2: Taylor Series \n",
    "\n",
    "### Definition\n",
    "\n",
    "Recall that the Taylor series for one variable as previously described in the fundamentals section of the MUDE textbook as\n",
    "\n",
    "$$\n",
    "f(x)\\approx f(x_0)+(x-x_0)\\frac{\\partial f(x_0)}{\\partial x}+\\frac{(x-x_0)^2}{2!}\\frac{\\partial^2 f(x_0)}{\\partial x^2}+...+\\frac{(x-x_0)^n}{n!}\\frac{\\partial^n f(x_0)}{\\partial x^n}\n",
    "$$\n",
    "\n",
    "This may also be written as a summation, which may help to visualize the process of writing the terms of the Taylor approximation. The Taylor approximation as a summation becomes \n",
    "\n",
    "$$\n",
    "f(x) \\approx \\sum_{n=0}^{\\infty} \\frac{(x-x_0)^n}{n!} f^{(n)}(x_0)\n",
    "$$\n",
    "\n",
    "where $f^{(n)}(x_0)$ indicates the $n$-th derivative of a function $f(x)$ evaluated at $x=x_0$."
   ]
  },
  {
   "cell_type": "markdown",
   "id": "5f781518",
   "metadata": {},
   "source": [
    "<div style=\"background-color:#AABAB2; color: black; width:95%; vertical-align: middle; padding:15px; margin: 10px; border-radius: 10px\">\n",
    "<p>\n",
    "<b>Task 2.0:</b> Derive the backward difference method such that it is second order accurate. Refer to the book for an illustration of this approach with first order accuracy. Insert an image of your math below.\n",
    "\n",
    "(You **don't** have to use this formula later on in this assignment, but it **is** useful to understand the approach and preparing for the exam)\n",
    "</p>\n",
    "</div>"
   ]
  },
  {
   "cell_type": "markdown",
   "id": "f4952a25",
   "metadata": {},
   "source": [
    "_You will be asked to include your derivation in the Report, but you can also include it here._"
   ]
  },
  {
   "cell_type": "markdown",
   "id": "0b4909e3",
   "metadata": {},
   "source": [
    "<div style=\"background-color:#FAE99E; color: black; width:95%; vertical-align: middle; padding:15px; margin: 10px; border-radius: 10px\">\n",
    "<p>\n",
    "<b>Solution:</b>   \n",
    "\n",
    "For backward euler we need to evaluate at $x_{i-1}$ around $x_{i}$ and $x_{i-2}$ around $x_{i}$. This yields the following Taylor approximation: \n",
    "\n",
    "$$\n",
    "f(x_{i-1})\\approx f(x_{i})+(x_{i-1}-x_i)\\frac{\\partial f(x_{i})}{\\partial x} +\\frac{(x_{i-1}-x_i)^2}{2}\\frac{\\partial^2 f(x_i)}{\\partial x^2}+\\mathcal{O}(x_{i-1}-x_i)^3\n",
    "\\newline\\newline\n",
    "f(x_{i-2})\\approx f(x_{i})+(x_{i-2}-x_i)\\frac{\\partial f(x_{i})}{\\partial x} +\\frac{(x_{i-2}-x_i)^2}{2}\\frac{\\partial^2 f(x_i)}{\\partial x^2}+\\mathcal{O}(x_{i-2}-x_i)^3\n",
    "\\newline\\newline\n",
    "$$\n",
    "we set $\\Delta x = x_i - x_{i-1}$, which also means: $2\\Delta x = x_i - x_{i-2}$\n",
    "$$\n",
    "f(x_{i-1})\\approx f(x_{i})-\\Delta x\\frac{\\partial f(x_{i})}{\\partial x} +\\frac{\\Delta x^2}{2}\\frac{\\partial^2 f(x_i)}{\\partial x^2}+\\mathcal{O}(\\Delta x)^3\n",
    "\\newline\\newline\n",
    "f(x_{i-2})\\approx f(x_{i})-2\\Delta x\\frac{\\partial f(x_{i})}{\\partial x} +\\frac{4\\Delta x^2}{2}\\frac{\\partial^2 f(x_i)}{\\partial x^2}+\\mathcal{O}(\\Delta x)^3\n",
    "\\newline\\newline\n",
    "$$\n",
    "We multiply the first expression by 4 and subtract the second expression:\n",
    "\n",
    "$$\n",
    "4f(x_{i-1})-f(x_{i-2})\\approx (4-2)f(x_{i})-(4-2)\\Delta x\\frac{\\partial f(x_{i})}{\\partial x} +(4-4)\\frac{\\Delta x^2}{2}\\frac{\\partial^2 f(x_i)}{\\partial x^2}+\\mathcal{O}(\\Delta x)^3\n",
    "\\newline\\newline\n",
    "3f(x_i)-4f(x_{i-1})+f(x_{i-2}) \\approx 2\\Delta x\\frac{\\partial f(x_{i})}{\\partial x} +\\mathcal{O}(\\Delta x)^3\n",
    "\\newline\n",
    "\\frac{3f(x_i)-4f(x_{i-1})+f(x_{i-2})}{2\\Delta x} \\approx \\frac{\\partial f(x_{i})}{\\partial x}+\\mathcal{O}(\\Delta x)^2\n",
    "$$\n",
    "\n",
    "</p>\n",
    "</div>"
   ]
  },
  {
   "cell_type": "markdown",
   "id": "9d73e638",
   "metadata": {},
   "source": [
    "<div style=\"background-color:#facb8e; color: black; vertical-align: middle; padding:15px; margin: 10px; border-radius: 10px; width: 95%\"> <p>We don't care if you use AI tools for derivations, but remember: <b>deriving equations in this way will be necessary to complete exam questions, so you really should practice doing it by hand!</b></p></div>"
   ]
  },
  {
   "cell_type": "markdown",
   "id": "93b0f401-dc51-4472-93f3-a85d0cd1a11d",
   "metadata": {},
   "source": [
    "<div style=\"background-color:#AABAB2; color: black; width:95%; vertical-align: middle; padding:15px; margin: 10px; border-radius: 10px\">\n",
    "<p>\n",
    "<b>Task 2.1:</b> Derive the Taylor series expansion terms:\n",
    "\n",
    "<u>On paper</u>, obtain the <b>first four</b> derivatives for the expression: \n",
    "$$\n",
    "f(x)= 2\\cos(x)+\\sin(x) \n",
    "$$ \n",
    "\n",
    "Once you obtain the expressions, evaluate them around the point $x_0=\\pi$.\n",
    "\n",
    "These terms will be used later to assess the effects of using more or less terms in the approximation as well as the distance from $x_0$ later on in the notebook.\n",
    "\n",
    "Use the following markdown cell to include your derivation of the Taylor series terms.\n",
    "\n",
    "</ol>\n",
    "</p>\n",
    "</div>"
   ]
  },
  {
   "cell_type": "markdown",
   "id": "f38efae9",
   "metadata": {},
   "source": [
    "_You will be asked to include your derivation in the Report, but you can also include it here._"
   ]
  },
  {
   "cell_type": "markdown",
   "id": "59ed7b56",
   "metadata": {},
   "source": [
    "<div style=\"background-color:#FAE99E; color: black; width:95%; vertical-align: middle; padding:15px; margin: 10px; border-radius: 10px\">\n",
    "<p>\n",
    "<b>Solution:</b>   \n",
    "\n",
    "<b>Find the first four derivatives of $f(x)$:</b>\n",
    "\n",
    "- $f'(x) = -2\\sin(x) + \\cos(x)$\n",
    "- $f''(x) = -2\\cos(x) - \\sin(x)$\n",
    "- $f'''(x) = 2\\sin(x) - \\cos(x)$\n",
    "- $f^{(4)}(x) = 2\\cos(x) + \\sin(x)$\n",
    "\n",
    "<b>Evaluate the terms at $x_0=\\pi$ </b>\n",
    "\n",
    "- $f'(\\pi) = -2\\sin(\\pi) + \\cos(\\pi) = 0 + (-1) = -1$\n",
    "- $f''(\\pi) = -2\\cos(\\pi) - \\sin(\\pi) = -2(-1) - 0 = 2$\n",
    "- $f'''(\\pi) = 2\\sin(\\pi) - \\cos(\\pi) = 0 - (-1) = 1$\n",
    "- $f^{(4)}(\\pi) = 2\\cos(\\pi) + \\sin(\\pi) = 2(-1) + 0 = -2$\n",
    "\n",
    "</p>\n",
    "</div>"
   ]
  },
  {
   "cell_type": "markdown",
   "id": "b003e40a-e07a-4721-b7a4-1103f239492b",
   "metadata": {},
   "source": [
    "<div style=\"background-color:#AABAB2; color: black; width:95%; vertical-align: middle; padding:15px; margin: 10px; border-radius: 10px\">\n",
    "<p>\n",
    "<b>Task 2.2:</b> Plotting reference expression and approximations.\n",
    "\n",
    "Before continuing with TSE, plot the expression $f(x)=2\\cos(x)+\\sin(x)$ in the interval $[-3\\pi,5\\pi]$. This will be used as benchmark to assess your approximations. We will want to produce plots that will include each successive term of the Taylor approximation to see how the approximation improves as we include more terms in the Taylor series. \n",
    "\n",
    "</p>\n",
    "</div>\n"
   ]
  },
  {
   "cell_type": "code",
   "execution_count": null,
   "id": "72be2ce6-601c-4976-94bf-cfad7af4607d",
   "metadata": {
    "tags": []
   },
   "outputs": [],
   "source": [
    "# x = np.linspace(-3*np.pi, 5*np.pi, 400)\n",
    "\n",
    "# def f(x):\n",
    "#     return YOUR_CODE_HERE\n",
    "\n",
    "# plt.plot(YOUR_CODE_HERE, YOUR_CODE_HERE, color='b', linewidth=2)\n",
    "# plt.xlabel('x')\n",
    "# plt.ylabel('f(x)')\n",
    "# plt.title(\"Plot of $f(x) = 2cos(x) + sin(x)$\");\n",
    "\n",
    "# SOLUTION:\n",
    "x = np.linspace(-3*np.pi, 5*np.pi, 400)\n",
    "\n",
    "def f(x):\n",
    "    return 2 * np.cos(x) + np.sin(x)\n",
    "\n",
    "plt.plot(x, f(x), color='b', linewidth=2)\n",
    "plt.xlabel('x')\n",
    "plt.ylabel('f(x)')\n",
    "plt.title(\"Plot of $f(x) = 2cos(x) + sin(x)$\");"
   ]
  },
  {
   "cell_type": "markdown",
   "id": "f8641d16-274a-43cf-ad20-d31ad9b41ab2",
   "metadata": {},
   "source": [
    "<div style=\"background-color:#AABAB2; color: black; width:95%; vertical-align: middle; padding:15px; margin: 10px; border-radius: 10px\">\n",
    "<p>\n",
    "<b>Task 2.3:</b> Putting pen to python.\n",
    "\n",
    "Enter the first four derivative terms in the corresponding functions below so that we can use them in our approximation.\n",
    "\n",
    "Complete the functions in the code cell below, `f_#` refers to the <b>derivatives</b> of each portion of the function.\n",
    "\n",
    "</p>\n",
    "</div>\n"
   ]
  },
  {
   "cell_type": "code",
   "execution_count": null,
   "id": "f8d676eb-6c79-457c-9c13-4c5edba4f2a1",
   "metadata": {
    "tags": []
   },
   "outputs": [],
   "source": [
    "# def f_1(x):\n",
    "#     return YOUR_CODE_HERE\n",
    "\n",
    "# def f_2(x):\n",
    "#     return YOUR_CODE_HERE\n",
    "\n",
    "# def f_3(x):\n",
    "#     return YOUR_CODE_HERE\n",
    "\n",
    "# def f_4(x):\n",
    "#     return YOUR_CODE_HERE\n",
    "\n",
    "# SOLUTION:\n",
    "def f_1(x):\n",
    "    return -2 * np.sin(x) + np.cos(x)\n",
    "\n",
    "def f_2(x):\n",
    "    return -2 * np.cos(x) - np.sin(x)\n",
    "\n",
    "def f_3(x):\n",
    "    return 2 * np.sin(x) - np.cos(x)\n",
    "\n",
    "def f_4(x):\n",
    "    return 2 * np.cos(x) + np.sin(x)\n"
   ]
  },
  {
   "cell_type": "markdown",
   "id": "054b680d",
   "metadata": {},
   "source": [
    "<div style=\"background-color:#AABAB2; color: black; width:95%; vertical-align: middle; padding:15px; margin: 10px; border-radius: 10px\">\n",
    "<p>\n",
    "<b>Task 2.4:</b> Define the expansion point and write the Taylor series expansion of first, second, third and fourth order. \n",
    "\n",
    "Complete the functions in the code cell below, the `taylor_#` refers to the order of the Taylor approximation and <code>x0</code> the expansion point, using our previously defined $x_0$.\n",
    "\n",
    "</p>\n",
    "</div>\n"
   ]
  },
  {
   "cell_type": "code",
   "execution_count": null,
   "id": "1b677ea6",
   "metadata": {
    "tags": []
   },
   "outputs": [],
   "source": [
    "# x0 = YOUR_CODE_HERE\n",
    "# taylor_1 = YOUR_CODE_HERE\n",
    "# taylor_2 = YOUR_CODE_HERE\n",
    "# taylor_3 = YOUR_CODE_HERE\n",
    "# taylor_4 = YOUR_CODE_HERE\n",
    "\n",
    "x0 = np.pi\n",
    "taylor_1 = f(x0) + f_1(x0)*(x - x0)\n",
    "taylor_2 = taylor_1 + f_2(x0)*(x - x0)**2/2\n",
    "taylor_3 = taylor_2 + f_3(x0)*(x - x0)**3/6\n",
    "taylor_4 = taylor_3 + f_4(x0)*(x - x0)**4/24"
   ]
  },
  {
   "cell_type": "markdown",
   "id": "988eb85e",
   "metadata": {},
   "source": [
    "<div style=\"background-color:#AABAB2; color: black; width:95%; vertical-align: middle; padding:15px; margin: 10px; border-radius: 10px\">\n",
    "<p>\n",
    "<b>Task 2.5:</b> Plot your function along with your Taylor orders to illustrate the local approximations of the inclusions of each extra term. Add your own labels based on the formatting of the first example plot.\n",
    "\n",
    "\n",
    "\n",
    "</p>\n",
    "</div>\n"
   ]
  },
  {
   "cell_type": "code",
   "execution_count": null,
   "id": "5b571bb0",
   "metadata": {
    "tags": []
   },
   "outputs": [],
   "source": [
    "plt.figure(figsize=(10, 6))\n",
    "\n",
    "# plt.plot(YOUR_CODE_HERE, YOUR_CODE_HERE,\n",
    "#          label='$f(x) = 2cos(x) + sin(x)$', color='b', linewidth=2)\n",
    "# plt.plot(YOUR_CODE_HERE, YOUR_CODE_HERE,\n",
    "#          label='First Order', linestyle='--', color='g', linewidth=2)\n",
    "# plt.plot(YOUR_CODE_HERE, YOUR_CODE_HERE,\n",
    "#          label='Second Order', linestyle='--', color='r', linewidth=2)\n",
    "# plt.plot(YOUR_CODE_HERE, YOUR_CODE_HERE,\n",
    "#          label='Third Order', linestyle='--', color='m', linewidth=2)\n",
    "# plt.plot(YOUR_CODE_HERE, YOUR_CODE_HERE,\n",
    "#          label='Fourth Order', linestyle='--', color='y', linewidth=2)\n",
    "\n",
    "# SOLUTION:\n",
    "plt.plot(x, f(x),\n",
    "         label='$f(x) = 2cos(x) + sin(x)$', color='b', linewidth=2)\n",
    "plt.plot(x, taylor_1,\n",
    "         label='First Order', linestyle='--', color='g', linewidth=2)\n",
    "plt.plot(x, taylor_2,\n",
    "         label='Second Order', linestyle='--', color='r', linewidth=2)\n",
    "plt.plot(x, taylor_3,\n",
    "         label='Third Order', linestyle='--', color='m', linewidth=2)\n",
    "plt.plot(x, taylor_4,\n",
    "         label='Fourth Order', linestyle='--', color='y', linewidth=2)\n",
    "\n",
    "\n",
    "plt.scatter([x0], [f(x0)],\n",
    "            color='k', marker='o', label=f'Expansion Point ($x = {x0:0.3f}$)')\n",
    "\n",
    "plt.xlabel('x')\n",
    "plt.ylabel('$f(x)$')\n",
    "plt.title('Taylor Series Expansion of $f(x) = 2cos(x) + sin(x)$')\n",
    "plt.legend()\n",
    "plt.xlim(-1,9)\n",
    "plt.ylim(-10,10)\n",
    "\n",
    "plt.grid(True)\n",
    "plt.show();"
   ]
  },
  {
   "cell_type": "markdown",
   "id": "499164b8",
   "metadata": {},
   "source": [
    "### Estimating the Truncation error \n",
    "\n",
    "When we use Taylor series approximations of a function, we truncate the infinite series to a specfic number of terms. Thus, a truncation error is introduced. A simple error metric between the analytical solution and the numerical approximation of our function can be found by computing the absolute value of the difference between the function and the approximation, namely\n",
    "$$\n",
    "\\text{error }=|f(x)-T_n|\n",
    "$$\n",
    "where $T_n$ refers to the TSE computed using $n$ number of terms (or derivatives) of the Taylor series we use.\n"
   ]
  },
  {
   "cell_type": "markdown",
   "id": "70f495c8-1548-4a7a-b357-b2d13917e85b",
   "metadata": {},
   "source": [
    "<div style=\"background-color:#AABAB2; color: black; width:95%; vertical-align: middle; padding:15px; margin: 10px; border-radius: 10px\">\n",
    "\n",
    "<p><b>Task 2.6:</b> Use your Taylor series approximations and the analytic solution to determine their absolute error. Plot these approximations and vary the x and y limits. Are the larger orders TSE always better?\n",
    "</p>\n",
    "</div>"
   ]
  },
  {
   "cell_type": "code",
   "execution_count": null,
   "id": "68f0967f-0dd2-4971-88e8-e87d52cdf332",
   "metadata": {},
   "outputs": [],
   "source": [
    "# error_1 = YOUR_CODE_HERE\n",
    "# error_2 = YOUR_CODE_HERE\n",
    "# error_3 = YOUR_CODE_HERE\n",
    "# error_4 = YOUR_CODE_HERE\n",
    "\n",
    "# SOLUTION:\n",
    "error_1 = np.abs(f(x) - taylor_1)\n",
    "error_2 = np.abs(f(x) - taylor_2)\n",
    "error_3 = np.abs(f(x) - taylor_3)\n",
    "error_4 = np.abs(f(x) - taylor_4)\n",
    "\n",
    "plt.figure(figsize=(10, 4))\n",
    "plt.plot(x, error_1,\n",
    "         label='First Order', color='g', linewidth=2)\n",
    "plt.plot(x, error_2,\n",
    "         label='Second Order', color='r', linewidth=2)\n",
    "plt.plot(x, error_3,\n",
    "         label='Third Order', color='m', linewidth=2)\n",
    "plt.plot(x, error_4,\n",
    "         label='Fourth Order', color='y', linewidth=2)\n",
    "\n",
    "plt.xlabel('x')\n",
    "plt.ylabel('Absolute Error: $f(x)$-Taylor Order')\n",
    "plt.title('Absolute Error of Taylor Series Approximations')\n",
    "plt.xlim(np.pi-1,np.pi+1)\n",
    "plt.ylim(0,0.01)\n",
    "plt.legend()\n",
    "\n",
    "plt.grid(True)\n",
    "plt.show();"
   ]
  },
  {
   "cell_type": "markdown",
   "id": "374238b3",
   "metadata": {},
   "source": [
    "## Part 3: Taylor Series Expansion in Two Variables\n",
    "\n",
    "Let's investigate how the Taylor Series Expansion operates in two dimensions. Expanding a function dependent on two variables, $f(x, y)$, can be expressed as:\n",
    "\n",
    "$$\n",
    "f(x, y) \\approx f(x_0, y_0) + (x - x_0)\\frac{\\partial f}{\\partial x}\\bigg|_{(x_0, y_0)}  + (y - y_0) \\frac{\\partial f}{\\partial y}\\bigg|_{(x_0, y_0)} \\\\ \n",
    "+ \\frac{(x - x_0)^2}{2!}\\frac{\\partial^2 f}{\\partial x^2}\\bigg|_{(x_0, y_0)} + \\frac{(y - y_0)^2}{2!}\\frac{\\partial^2 f}{\\partial y^2}\\bigg|_{(x_0, y_0)} \\\\\n",
    "+ (x - x_0)(y - y_0)\\frac{\\partial^2 f}{\\partial x \\partial y}\\bigg|_{(x_0, y_0)} + \\ldots\n",
    "$$\n",
    "\n",
    "The terms in this summation are determined by the partial derivatives of $f$ with respect to $x$ and $y$ evaluated at $(x_0, y_0)$. The expansion includes an infinite series of terms, starting from the first-order terms and continuing to higher-order terms as $n$ increases. The choice of how many terms to include in the expansion depends on the desired level of accuracy.\n"
   ]
  },
  {
   "cell_type": "markdown",
   "id": "0cc6df5b-e01d-4918-a38b-dd7f11ef6c47",
   "metadata": {},
   "source": [
    "<div style=\"background-color:#AABAB2; color: black; width:95%; vertical-align: middle; padding:15px; margin: 10px; border-radius: 10px\">\n",
    "<p>\n",
    "<b>Task 3.1:</b> Writing out the expansion. \n",
    "\n",
    "Using the function $f(x,y)=\\sin(2x)+\\cos(y)$ derive the first and second derivatives of the approximation. Do this <u>on paper</u>, as before. After obtaining derivatives, evaluate them around the expanding point $(x_0=\\pi,y_0=\\pi)$. Also, add the evaluation of $f(x_0,y_0)$.\n",
    "\n",
    "Use the following cell to include your workings for the solution. \n",
    "</ol>\n",
    "</p>\n",
    "</div>\n"
   ]
  },
  {
   "cell_type": "markdown",
   "id": "f0246dee-b058-40c0-bbf8-c491c11fd008",
   "metadata": {},
   "source": [
    "_You will be asked to include your derivation in the Report, but you can also include it here._\n"
   ]
  },
  {
   "cell_type": "markdown",
   "id": "8b830428-c15a-4a01-bf3b-4e0ecb539d72",
   "metadata": {},
   "source": [
    "<div style=\"background-color:#FAE99E; color: black; width:95%; vertical-align: middle; padding:15px; margin: 10px; border-radius: 10px\">\n",
    "<p>\n",
    "<b>Solution:</b>   \n",
    "\n",
    "<b>Compute the derivatives:</b>\n",
    "\n",
    "- $\\frac{\\partial f}{\\partial x}=2 \\cos (2x)$\n",
    "- $\\frac{\\partial f}{\\partial y}=- \\sin (y)$\n",
    "- $\\frac{\\partial ^2 f}{\\partial x^2}=-4 \\sin (2x)$\n",
    "- $\\frac{\\partial ^2 f}{\\partial y^2}=-\\cos(y)$\n",
    "- $\\frac{\\partial ^2 f}{\\partial x \\partial y}=0$\n",
    "\n",
    "<b>Evaluate Derivatives at point $(x_0,y_0)=(\\pi, \\pi)$</b>\n",
    "\n",
    "Evaluate $(f(\\pi, \\pi))$ and its first and second partial derivatives at $(\\pi, \\pi)$:\n",
    "\n",
    "- $f(\\pi, \\pi) = \\sin(2\\pi) + \\cos(\\pi) = 0 - 1 = -1$\n",
    "- $\\frac{\\partial f}{\\partial x}(\\pi, \\pi) = 2\\cos(2\\pi) = 2$\n",
    "- $\\frac{\\partial f}{\\partial y}(\\pi, \\pi) = -\\sin(\\pi) = 0$\n",
    "- $\\frac{\\partial^2 f}{\\partial x^2}(\\pi, \\pi) = -4\\sin(2\\pi)= 0$\n",
    "- $\\frac{\\partial^2 f}{\\partial y^2}(\\pi, \\pi) = -\\cos(\\pi) = 1$\n",
    "- $\\frac{\\partial^2 f}{\\partial x \\partial y}(\\pi, \\pi) = 0$\n",
    "\n",
    "<b>Write out the second-order Taylor series expansion</b>\n",
    "\n",
    "The second-order Taylor series expansion for $f(x, y)$ about the point $(\\pi, \\pi)$ is given by:\n",
    "\n",
    "$$\n",
    "f(x, y) \\approx f(\\pi, \\pi) + \\frac{\\partial f}{\\partial x}(\\pi, \\pi)(x - \\pi) + \\frac{\\partial f}{\\partial y}(\\pi, \\pi)(y - \\pi) + \\frac{1}{2}\\frac{\\partial^2 f}{\\partial x^2}(\\pi, \\pi)(x - \\pi)^2 + \\frac{1}{2}\\frac{\\partial^2 f}{\\partial y^2}(\\pi, \\pi)(y - \\pi)^2\n",
    "$$\n",
    "\n",
    "$$\n",
    "f(x, y) \\approx -1 + 2(x - \\pi)   +\\frac{(y - \\pi)^2}{2}\n",
    "$$\n",
    "\n",
    "Now, we can substitute the evaluated values from Step 2 into this formula.\n",
    "\n",
    "</p>\n",
    "</div>"
   ]
  },
  {
   "cell_type": "markdown",
   "id": "08da4a93-0d23-4955-bea0-8175b22436fa",
   "metadata": {},
   "source": [
    "<div style=\"background-color:#AABAB2; color: black; width:95%; vertical-align: middle; padding:15px; margin: 10px; border-radius: 10px\">\n",
    "<p>\n",
    "<b>Task 3.2:</b> Transfer the Taylor Approximation\n",
    "\n",
    "Enter the expansion point and include the Taylor approximation in the function definition of the code cell below.\n",
    "\n",
    "<em>Remember, to break a line in the code and keep it readable you can surround the expression with an extra set of parentheses, <code>(  )</code>; this will allow arbitrarily-placed line breaks within the code.</em>\n",
    "</p>\n",
    "</div>"
   ]
  },
  {
   "cell_type": "markdown",
   "id": "6cd06be4",
   "metadata": {},
   "source": [
    "<div style=\"background-color:#facb8e; color: black; vertical-align: middle; padding:15px; margin: 10px; border-radius: 10px; width: 95%\"> <p>Note that here we define <code>x0</code> and <code>y0</code> as global variables (outside the function). This is a bad practice in general, but in this case it is OK because we are limiting our use of the code to a few small functions and tasks in a single notebook.</p></div>"
   ]
  },
  {
   "cell_type": "code",
   "execution_count": null,
   "id": "c2cbc69b-a77e-4448-a2ca-245cc3fd75ba",
   "metadata": {},
   "outputs": [],
   "source": [
    "# def f2D(x, y):\n",
    "#     return YOUR_CODE_HERE\n",
    "\n",
    "# x0 = YOUR_CODE_HERE\n",
    "# y0 = YOUR_CODE_HERE\n",
    "\n",
    "# def taylor2D(x, y):\n",
    "#     return (YOUR_CODE_HERE)\n",
    "\n",
    "\n",
    "# SOLUTION:\n",
    "def f2D(x, y):\n",
    "    return np.sin(2*x) + np.cos(y)\n",
    "\n",
    "x0 = np.pi\n",
    "y0 = np.pi\n",
    "\n",
    "def taylor2D(x, y):\n",
    "    return ((np.sin(2*x0)\n",
    "            + np.cos(y0))\n",
    "            + (2*np.cos(2*x0)*(x - x0))\n",
    "            - (np.sin(y0)*(y-y0))\n",
    "            - (1/2)*(4*np.sin(2*x0))*(x - x0)**2\n",
    "            - (1/2)*(np.cos(y0))*(y - y0)**2)\n",
    "\n",
    "# this is a second way to implement the function above\n",
    "def taylor2D(x, y):\n",
    "    return -1 + 2*(x - x0) + (y - x0)**2/2"
   ]
  },
  {
   "cell_type": "markdown",
   "id": "e9fcd95e",
   "metadata": {},
   "source": [
    "### Visualize Results\n",
    "\n",
    "Let's plot a 3D surface plot of the results and try to visualize the intersection of the function and its Taylor approximation. In order to do this, we need to create a <code>meshgrid</code> over the region of interest (this is done with `np.meshgrid`). Using our <code>def</code> functions above we can determine the surface."
   ]
  },
  {
   "cell_type": "markdown",
   "id": "dce6e2c2",
   "metadata": {},
   "source": [
    "<div style=\"background-color:#AABAB2; color: black; width:95%; vertical-align: middle; padding:15px; margin: 10px; border-radius: 10px\">\n",
    "<p>\n",
    "<b>Task 3.3:</b> Scrutinize the code to understand what is being plotted, then run it to visualize the results.\n",
    "</p>\n",
    "</div>"
   ]
  },
  {
   "cell_type": "code",
   "execution_count": null,
   "id": "492ba05d",
   "metadata": {},
   "outputs": [],
   "source": [
    "# Create a meshgrid of x and y values\n",
    "x = np.linspace(-2+x0, 2+x0, 100)\n",
    "y = np.linspace(-2+y0, 2+y0, 100)\n",
    "X, Y = np.meshgrid(x, y)\n",
    "\n",
    "# Calculate the original function values and the approximation\n",
    "Z_orig = f2D(X, Y)\n",
    "Z_approx = taylor2D(X, Y)\n",
    "\n",
    "# Create a 3D plot\n",
    "fig = plt.figure(figsize=(9,9))\n",
    "ax = fig.add_subplot(111, projection='3d')\n",
    "ax.plot_surface(X, Y, Z_orig, rstride=1, cstride=1, cmap='Reds',\n",
    "                label='Original Function')\n",
    "ax.plot_surface(X, Y, Z_approx, rstride=1, cstride=1, cmap='Blues',\n",
    "                alpha=0.7, label='Taylor Approximation')\n",
    "\n",
    "# Set labels and legend\n",
    "ax.set_xlabel('x')\n",
    "ax.set_ylabel('y')\n",
    "ax.set_zlabel('f(x, y)')\n",
    "plt.legend()\n",
    "\n",
    "# Show the plot\n",
    "plt.title('Original Function vs. Taylor Approximation')\n",
    "plt.show()\n"
   ]
  },
  {
   "cell_type": "markdown",
   "id": "047fe3a1",
   "metadata": {},
   "source": [
    "### Error Analysis\n",
    "\n",
    "How good is this approximation?"
   ]
  },
  {
   "cell_type": "markdown",
   "id": "25edfa23",
   "metadata": {},
   "source": [
    "<div style=\"background-color:#AABAB2; color: black; width:95%; vertical-align: middle; padding:15px; margin: 10px; border-radius: 10px\">\n",
    "<p>\n",
    "<b>Task 3.4:</b> Use the following cell to calculate the absolute error between the analytical and Taylor approximation  as previously and plot the results.\n",
    "</p>\n",
    "</div>"
   ]
  },
  {
   "cell_type": "code",
   "execution_count": null,
   "id": "9cb06eac",
   "metadata": {},
   "outputs": [],
   "source": [
    "# error_2d = YOUR_CODE_HERE\n",
    "\n",
    "# SOLUTION:\n",
    "error_2d = np.abs(Z_orig - Z_approx)\n",
    "\n",
    "fig = plt.figure(figsize=(9,9))\n",
    "ax = fig.add_subplot(111, projection='3d')\n",
    "ax.plot_surface(X, Y, error_2d, cmap='Reds', label='Absolute Error')\n",
    "ax.set_xlabel('X')\n",
    "ax.set_ylabel('Y')\n",
    "ax.set_zlabel('Absolute Error')\n",
    "plt.title('Absolute Error between $f(x, y)$ and Taylor Approximation')\n",
    "plt.show()\n"
   ]
  },
  {
   "cell_type": "markdown",
   "id": "9d490e14",
   "metadata": {},
   "source": [
    "**End of notebook.**\n",
    "<h2 style=\"height: 60px\">\n",
    "</h2>\n",
    "<h3 style=\"position: absolute; display: flex; flex-grow: 0; flex-shrink: 0; flex-direction: row-reverse; bottom: 60px; right: 50px; margin: 0; border: 0\">\n",
    "    <style>\n",
    "        .markdown {width:100%; position: relative}\n",
    "        article { position: relative }\n",
    "    </style>\n",
    "    <a rel=\"license\" href=\"http://creativecommons.org/licenses/by/4.0/\">\n",
    "      <img alt=\"Creative Commons License\" style=\"border-width:; width:88px; height:auto; padding-top:10px\" src=\"https://i.creativecommons.org/l/by/4.0/88x31.png\" />\n",
    "    </a>\n",
    "    <a rel=\"TU Delft\" href=\"https://www.tudelft.nl/en/ceg\">\n",
    "      <img alt=\"TU Delft\" style=\"border-width:0; width:100px; height:auto; padding-bottom:0px\" src=\"https://gitlab.tudelft.nl/mude/public/-/raw/main/tu-logo/TU_P1_full-color.png\" />\n",
    "    </a>\n",
    "    <a rel=\"MUDE\" href=\"http://mude.citg.tudelft.nl/\">\n",
    "      <img alt=\"MUDE\" style=\"border-width:0; width:100px; height:auto; padding-bottom:0px\" src=\"https://gitlab.tudelft.nl/mude/public/-/raw/main/mude-logo/MUDE_Logo-small.png\" />\n",
    "    </a>\n",
    "    \n",
    "</h3>\n",
    "<span style=\"font-size: 75%\">\n",
    "&copy; Copyright 2024 <a rel=\"MUDE\" href=\"http://mude.citg.tudelft.nl/\">MUDE</a> TU Delft. This work is licensed under a <a rel=\"license\" href=\"http://creativecommons.org/licenses/by/4.0/\">CC BY 4.0 License</a>."
   ]
  }
 ],
 "metadata": {
  "kernelspec": {
   "display_name": "Python 3 (ipykernel)",
   "language": "python",
   "name": "python3"
  },
  "language_info": {
   "codemirror_mode": {
    "name": "ipython",
    "version": 3
   },
   "file_extension": ".py",
   "mimetype": "text/x-python",
   "name": "python",
   "nbconvert_exporter": "python",
   "pygments_lexer": "ipython3",
   "version": "3.12.4"
  },
  "widgets": {
   "application/vnd.jupyter.widget-state+json": {
    "state": {},
    "version_major": 2,
    "version_minor": 0
   }
  }
 },
 "nbformat": 4,
 "nbformat_minor": 5
}
