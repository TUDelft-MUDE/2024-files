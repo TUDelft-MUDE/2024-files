{
 "cells": [
  {
   "cell_type": "markdown",
   "metadata": {},
   "source": [
    "# GA 1.5: Illustration of Central Differences Issue\n",
    "\n",
    "<h1 style=\"position: absolute; display: flex; flex-grow: 0; flex-shrink: 0; flex-direction: row-reverse; top: 90px;right: 30px; margin: 0; border: 0\">\n",
    "    <style>\n",
    "        .markdown {width:100%; position: relative}\n",
    "        article { position: relative }\n",
    "    </style>\n",
    "    <img src=\"https://gitlab.tudelft.nl/mude/public/-/raw/main/tu-logo/TU_P1_full-color.png\" style=\"width:100px\" />\n",
    "    <img src=\"https://gitlab.tudelft.nl/mude/public/-/raw/main/mude-logo/MUDE_Logo-small.png\" style=\"width:100px\" />\n",
    "</h1>\n",
    "<h2 style=\"height: 25px\">\n",
    "</h2>\n",
    "\n",
    "*[CEGM1000 MUDE](http://mude.citg.tudelft.nl/): Week 1.5, Friday, Oct 4, 2024.*\n",
    "\n",
    "Made by Gabriel Follet"
   ]
  },
  {
   "cell_type": "markdown",
   "metadata": {},
   "source": []
  },
  {
   "cell_type": "code",
   "execution_count": null,
   "metadata": {},
   "outputs": [],
   "source": [
    "import numpy as np\n",
    "import matplotlib.pylab as plt\n",
    "import pandas as pd\n",
    "\n",
    "\n",
    "data=pd.read_csv(filepath_or_buffer='justIce.csv',index_col=0)\n",
    "data.index = pd.to_datetime(data.index, format=\"%Y-%m-%d\")\n",
    "\n",
    "data_2021 = data.loc['2021']\n",
    "h_ice = (data_2021.to_numpy()).ravel()\n",
    "t_days = ((data_2021.index - data_2021.index[0]).days).to_numpy()\n"
   ]
  },
  {
   "cell_type": "markdown",
   "metadata": {},
   "source": [
    "## Option 1a\n",
    "We fit polynomial to data ( the  4th order fit it good represeantion of data in domain (0-100), to use large domain order 3 is better), compute derivative of fitted polynomial and compare with FD,BD and CD of observations"
   ]
  },
  {
   "cell_type": "code",
   "execution_count": null,
   "metadata": {},
   "outputs": [],
   "source": [
    "x = t_days\n",
    "y = h_ice\n",
    "\n",
    "# fitting polynomila\n",
    "degree = 4\n",
    "coefficients = np.polyfit(x, y, degree)\n",
    "polynomial = np.poly1d(coefficients)\n",
    "x_fit = np.linspace(0, 100, 100)\n",
    "y_fit = polynomial(x_fit)\n",
    "# analytical derivatie (could have done by hand..)\n",
    "derivative = polynomial.deriv()\n",
    "y_derivative = derivative(x_fit)\n",
    "\n",
    "\n",
    "# plottin'\n",
    "plt.figure(figsize=(15, 4))\n",
    "plt.scatter(x, y, label='Data', color='blue')\n",
    "plt.plot(x_fit, y_fit, label=f'Polynomial fit (degree {degree})', color='red')\n",
    "plt.xlabel('day of year')\n",
    "plt.ylabel('Ice Thickness [m]')\n",
    "plt.title('Ice Thickness measurements (2021)')\n",
    "plt.legend()\n",
    "plt.grid()\n",
    "plt.show()"
   ]
  },
  {
   "cell_type": "code",
   "execution_count": null,
   "metadata": {},
   "outputs": [],
   "source": [
    "\n",
    "\n",
    "# SOLUTION:\n",
    "dh_dt_FD = (h_ice[1:]-h_ice[:-1])/(t_days[1:]-t_days[:-1]) \n",
    "dh_dt_BD = (h_ice[1:]-h_ice[:-1])/(t_days[1:]-t_days[:-1]) \n",
    "dh_dt_CD = (h_ice[1:]-h_ice[:-1])/(t_days[1:]-t_days[:-1]) "
   ]
  },
  {
   "cell_type": "code",
   "execution_count": null,
   "metadata": {},
   "outputs": [],
   "source": [
    "\n",
    "fig, ax1 = plt.subplots(figsize=(15, 4))\n",
    "#left axis\n",
    "ax1.plot(x_fit, y_derivative, label='Derivative', color='magenta')\n",
    "ax1.set_ylabel('growth rate [m/day]', color='magenta')\n",
    "ax1.tick_params(axis='y', labelcolor='magenta')\n",
    "ax1.scatter(t_days[:-1], dh_dt_FD,\n",
    "            color='blue', marker='o', label='dh_dt_FD Forward Difference')\n",
    "ax1.scatter(t_days[1:], dh_dt_BD,\n",
    "            color='red', marker='o', label='dh_dt_BD Backward Difference')\n",
    "ax1.scatter((t_days[1:]+t_days[:-1])/2, dh_dt_CD,\n",
    "            color='purple', marker='o', label='dh_dt_CD Central Difference')\n",
    "\n",
    "#right axis\n",
    "ax2 = ax1.twinx()\n",
    "ax2.scatter(x, y, color='green', marker='x', label='h_ice Measurements')\n",
    "ax2.plot(x_fit, y_fit, label=f'Polynomial fit (degree {degree})', color='green',linestyle='--',alpha=0.5)\n",
    "ax2.set_ylabel('Ice Thickness [m]', color='green')\n",
    "ax2.tick_params(axis='y', labelcolor='green')\n",
    "\n",
    "# Add title and legends\n",
    "plt.title('Ice thickness (2021)')\n",
    "fig.tight_layout()  # Adjust layout to prevent overlap\n",
    "ax1.legend(loc='upper left')\n",
    "ax2.legend(loc='upper right')\n",
    "ax1.set_xlabel('Day of year')\n",
    "plt.show()\n",
    "\n"
   ]
  },
  {
   "cell_type": "markdown",
   "metadata": {},
   "source": [
    "pretty good, but the fit is not perfect, particularly around days 70-90, also using the derivative of the fit could confuse students"
   ]
  },
  {
   "cell_type": "markdown",
   "metadata": {},
   "source": [
    "## Option 1b\n",
    "Similar to last version, but instead of using the actual measurement to estimate the gradient, we 'sample' some points from the fitted polynomial and 'assume' that this are measurements"
   ]
  },
  {
   "cell_type": "code",
   "execution_count": null,
   "metadata": {},
   "outputs": [],
   "source": [
    "num_samples = 6 # \n",
    "\n",
    "\n",
    "np.random.seed(13)  #setting seed\n",
    "indices = np.random.choice(len(x_fit), size=num_samples, replace=False)\n",
    "sampled_t_days = x_fit[indices]\n",
    "sampled_h_ice = y_fit[indices]\n",
    "\n",
    "sorted_indices = np.argsort(sampled_t_days)\n",
    "sampled_t_days = sampled_t_days[sorted_indices]\n",
    "sampled_h_ice = sampled_h_ice[sorted_indices]\n",
    "\n",
    "plt.figure(figsize=(15,4))\n",
    "plt.plot(x_fit, y_fit, label=f'Polynomial fit (degree {degree})', color='grey',linestyle='--',alpha=0.5)\n",
    "plt.scatter(sampled_t_days, sampled_h_ice, label='Randomly Sampled Points', color='blue')\n",
    "plt.xlabel('t_days')\n",
    "plt.ylabel('h_ice')\n",
    "plt.title('Randomly Sampled Points from Fitted polynomial')\n",
    "plt.legend()\n",
    "plt.show()\n"
   ]
  },
  {
   "cell_type": "markdown",
   "metadata": {},
   "source": [
    "we now repeat teh steps  from  option 1a"
   ]
  },
  {
   "cell_type": "code",
   "execution_count": null,
   "metadata": {},
   "outputs": [],
   "source": [
    "# SOLUTION:\n",
    "dh_dt_FD_sampled_from_fit = (sampled_h_ice[1:]-sampled_h_ice[:-1])/(sampled_t_days[1:]-sampled_t_days[:-1]) \n",
    "dh_dt_BD_sampled_from_fit = (sampled_h_ice[1:]-sampled_h_ice[:-1])/(sampled_t_days[1:]-sampled_t_days[:-1]) \n",
    "dh_dt_CD_sampled_from_fit = (sampled_h_ice[1:]-sampled_h_ice[:-1])/(sampled_t_days[1:]-sampled_t_days[:-1]) "
   ]
  },
  {
   "cell_type": "code",
   "execution_count": null,
   "metadata": {},
   "outputs": [],
   "source": [
    "\n",
    "fig, ax1 = plt.subplots(figsize=(15, 4))\n",
    "#left axis\n",
    "ax1.plot(x_fit, y_derivative, label='Derivative', color='magenta')\n",
    "ax1.set_ylabel('growth rate [m/days]', color='magenta')\n",
    "ax1.tick_params(axis='y', labelcolor='magenta')\n",
    "ax1.scatter(sampled_t_days[:-1], dh_dt_FD_sampled_from_fit,\n",
    "            color='blue', marker='o', label='dh_dt_FD Forward Difference')\n",
    "ax1.scatter(sampled_t_days[1:], dh_dt_BD_sampled_from_fit,\n",
    "            color='red', marker='o', label='dh_dt_BD Backward Difference')\n",
    "ax1.scatter((sampled_t_days[1:]+sampled_t_days[:-1])/2, dh_dt_CD_sampled_from_fit,\n",
    "            color='purple', marker='o', label='dh_dt_CD Central Difference')\n",
    "\n",
    "#right axis\n",
    "ax2 = ax1.twinx()\n",
    "ax2.scatter(sampled_t_days, sampled_h_ice, color='green', marker='x', label='ice measurements*')\n",
    "ax2.plot(x_fit, y_fit, label=f'Polynomial fit (degree {degree})', color='green',linestyle='--',alpha=0.5)\n",
    "ax2.set_ylabel('Polynomial Fit', color='green')\n",
    "ax2.tick_params(axis='y', labelcolor='green')\n",
    "\n",
    "\n",
    "plt.title('Ice Thickness (2021)')\n",
    "fig.tight_layout()  \n",
    "ax1.legend(loc='lower left')\n",
    "ax2.legend(loc='upper right')\n",
    "ax1.set_xlabel('Day of year')\n",
    "\n",
    "plt.show()\n",
    "\n",
    "plt.show()\n",
    "fig.savefig('central_diff_illustration.svg')"
   ]
  },
  {
   "cell_type": "markdown",
   "metadata": {},
   "source": [
    "much better, we can see that CD is better!! also if we increase the number of samples we can see how the step size (not really cuz it still random samples, but you get the point) affects the different estimation."
   ]
  },
  {
   "cell_type": "markdown",
   "metadata": {},
   "source": [
    "## Option 2 \n",
    "Interpretation fo Robert's idea: Reconstruct ice thickness measurement from the  different gradient estimation (basically taylor of order 1)"
   ]
  },
  {
   "cell_type": "code",
   "execution_count": null,
   "metadata": {},
   "outputs": [],
   "source": [
    "# first point\n",
    "estimated_h_ice_FD = [h_ice[0]]  \n",
    "estimated_h_ice_BD = [h_ice[0]]  \n",
    "estimated_h_ice_CD = [h_ice[1]]  \n",
    "\n",
    "# FD   - new point is previous point plus the stepsize time the derivative at that point\n",
    "for i in range(1, len(t_days) - 1):\n",
    "    delta_t = t_days[i] - t_days[i-1]\n",
    "    next_point_FD = estimated_h_ice_FD[-1] + dh_dt_FD[i-1] * delta_t\n",
    "    estimated_h_ice_FD.append(next_point_FD)\n",
    "\n"
   ]
  },
  {
   "cell_type": "markdown",
   "metadata": {},
   "source": [
    "aren't we just going in circles?? If we use finite differences to compute $x_{i+1}$  with Taylor of first order$$x_{i+1}=x_i+\\Delta*f'$$ but we are estimating $f'_i$ from \n",
    "$(x_i,x_{i+1})$\n",
    " so they would basically cancel each other and we would get $x_{i+1}$ ??"
   ]
  },
  {
   "cell_type": "markdown",
   "metadata": {},
   "source": []
  },
  {
   "cell_type": "markdown",
   "metadata": {},
   "source": [
    "**End of notebook.**\n",
    "\n",
    "<div style=\"margin-top: 50px; padding-top: 20px; border-top: 1px solid #ccc;\">\n",
    "  <div style=\"display: flex; justify-content: flex-end; gap: 20px; align-items: center;\">\n",
    "    <a rel=\"MUDE\" href=\"http://mude.citg.tudelft.nl/\">\n",
    "      <img alt=\"MUDE\" style=\"width:100px; height:auto;\" src=\"https://gitlab.tudelft.nl/mude/public/-/raw/main/mude-logo/MUDE_Logo-small.png\" />\n",
    "    </a>\n",
    "    <a rel=\"TU Delft\" href=\"https://www.tudelft.nl/en/ceg\">\n",
    "      <img alt=\"TU Delft\" style=\"width:100px; height:auto;\" src=\"https://gitlab.tudelft.nl/mude/public/-/raw/main/tu-logo/TU_P1_full-color.png\" />\n",
    "    </a>\n",
    "    <a rel=\"license\" href=\"http://creativecommons.org/licenses/by/4.0/\">\n",
    "      <img alt=\"Creative Commons License\" style=\"width:88px; height:auto;\" src=\"https://i.creativecommons.org/l/by/4.0/88x31.png\" />\n",
    "    </a>\n",
    "  </div>\n",
    "  <div style=\"font-size: 75%; margin-top: 10px; text-align: right;\">\n",
    "    By <a rel=\"MUDE\" href=\"http://mude.citg.tudelft.nl/\">MUDE Team</a>\n",
    "    &copy; 2024 TU Delft. \n",
    "    <a rel=\"license\" href=\"http://creativecommons.org/licenses/by/4.0/\">CC BY 4.0</a>.\n",
    "    <a rel=\"Zenodo DOI\" href=\"https://doi.org/10.5281/zenodo.16782515\"><img style=\"width:auto; height:15; vertical-align:middle\" src=\"https://zenodo.org/badge/DOI/10.5281/zenodo.16782515.svg\" alt=\"DOI https://doi.org/10.5281/zenodo.16782515\"></a>\n",
    "  </div>\n",
    "</div>\n",
    "\n",
    "\n",
    "<!--tested with WS_2_8_solution.ipynb-->"
   ]
  }
 ],
 "metadata": {
  "language_info": {
   "name": "python"
  }
 },
 "nbformat": 4,
 "nbformat_minor": 2
}
