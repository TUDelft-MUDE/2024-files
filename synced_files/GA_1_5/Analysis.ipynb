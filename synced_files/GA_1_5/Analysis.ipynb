{
 "cells": [
  {
   "cell_type": "markdown",
   "id": "47e2adc7",
   "metadata": {
    "tags": []
   },
   "source": [
    "# Project 3: Numerical Derivatives and Taylor Series Approximations\n",
    "\n",
    "<h1 style=\"position: absolute; display: flex; flex-grow: 0; flex-shrink: 0; flex-direction: row-reverse; top: 90px;right: 30px; margin: 0; border: 0\">\n",
    "    <style>\n",
    "        .markdown {width:100%; position: relative}\n",
    "        article { position: relative }\n",
    "    </style>\n",
    "    <img src=\"https://gitlab.tudelft.nl/mude/public/-/raw/main/tu-logo/TU_P1_full-color.png\" style=\"width:100px\" />\n",
    "    <img src=\"https://gitlab.tudelft.nl/mude/public/-/raw/main/mude-logo/MUDE_Logo-small.png\" style=\"width:100px\" />\n",
    "</h1>\n",
    "<h2 style=\"height: 25px\">\n",
    "</h2>\n",
    "\n",
    "*[CEGM1000 MUDE](http://mude.citg.tudelft.nl/): Week 1.5, Friday, Oct 4, 2024.*"
   ]
  },
  {
   "cell_type": "markdown",
   "id": "5aa3b80e",
   "metadata": {
    "tags": []
   },
   "source": [
    "## Overview:\n",
    "\n",
    "Numerical derivatives are required to solve differential equations in numerical modelling and they can also be applied to data. To understand its intricacies, the three derivative approximations will be applied using the ice thickness data of the Nenana River.\n",
    "\n",
    "Taylor Series Expansions are necessary to understand the limitations of numerical models based on finite differences/finite elements. In particular, the approximation of derivatives/integrals and its effect on representing physical systems. In the majority of cases, we use Taylor as an approximation of non-linear functions that do not have mathematically simple solutions and instead use a polynomial to locally approximate. However, it is crucial to understand that the result is **only accurate over a small interval**. For this project, we will look at a simple function that we can solve analytically and compare with our Taylor approximations. "
   ]
  },
  {
   "cell_type": "markdown",
   "id": "414c5edb",
   "metadata": {},
   "source": [
    "<div style=\"background-color:#facb8e; color: black; width:95%; vertical-align: middle; padding:15px; margin: 10px; border-radius: 10px; width: 95%\"> <p>Note on programming implementation: one goal of this assignment is for you to be aware of how the numerical implementation differs from the analytic expressions, as well as how the implementation differs between numerical schemes. Typically this is straightforward for the calculations in general, but special consideration must be made when evaluating equations at the edges of the data set (or function domain). In 1D problems, this means the first and last points.</p></div>"
   ]
  },
  {
   "cell_type": "markdown",
   "id": "cda07679",
   "metadata": {},
   "source": [
    "<div style=\"background-color:#facb8e; color: black; width:95%; vertical-align: middle; padding:15px; margin: 10px; border-radius: 10px; width: 95%\"> <p>Note also that we use Pandas in this notebook to make the data handling easier. You are not expected to be able to use it (yet), but now that you are an expert with Python dictionaries, you will probably be able to recognize what it is doing easily.</p></div>"
   ]
  },
  {
   "cell_type": "code",
   "execution_count": null,
   "id": "cf4a90c1",
   "metadata": {},
   "outputs": [],
   "source": [
    "import numpy as np\n",
    "import matplotlib.pylab as plt\n",
    "import pandas as pd"
   ]
  },
  {
   "cell_type": "markdown",
   "id": "0d0f311a",
   "metadata": {},
   "source": [
    "## Part 0: Data Import and Exploration\n",
    "\n",
    "In the following, the ice thickness [cm] data of the Nenana River is plotted over time, and we are interested in the derivative of ice thickness."
   ]
  },
  {
   "cell_type": "markdown",
   "id": "156f9ed0",
   "metadata": {},
   "source": [
    "<div style=\"background-color:#AABAB2; color: black; width:95%; vertical-align: middle; padding:15px; margin: 10px; border-radius: 10px\">\n",
    "<p>\n",
    "\n",
    "\n",
    "<b>Task 0.1:</b> run the cell below to create a plot, then reflect on this question: what does the time derivative represent?  \n",
    "\n",
    "\n",
    "</ol>\n",
    "</p>\n",
    "</div>"
   ]
  },
  {
   "cell_type": "code",
   "execution_count": null,
   "id": "6c35530c",
   "metadata": {},
   "outputs": [],
   "source": [
    "data=pd.read_csv(filepath_or_buffer='justIce.csv',index_col=0)\n",
    "data.index = pd.to_datetime(data.index, format=\"%Y-%m-%d\")\n",
    "\n",
    "plt.figure(figsize=(15,4))\n",
    "plt.scatter(data.index,data, color='green', marker='x')\n",
    "plt.xlabel('Year')\n",
    "plt.ylabel('Ice thickness [cm]')\n",
    "plt.grid()"
   ]
  },
  {
   "cell_type": "markdown",
   "id": "699afa37",
   "metadata": {},
   "source": [
    "<div style=\"background-color:#AABAB2; color: black; width:95%; vertical-align: middle; padding:15px; margin: 10px; border-radius: 10px\">\n",
    "<p>\n",
    "\n",
    "<b>Task 0.2:</b> Before computing the numerical derivatives, reflect on why it would be a bad idea to do it over the entire data set? In other words, why is it a bad idea to compute the derivatives over the entire nearly 40-year period?\n",
    "</p>\n",
    "</div>"
   ]
  },
  {
   "cell_type": "markdown",
   "id": "1c2aed93",
   "metadata": {},
   "source": [
    "<div style=\"background-color:#AABAB2; color: black; width:95%; vertical-align: middle; padding:15px; margin: 10px; border-radius: 10px\">\n",
    "<p>\n",
    "\n",
    "<b>Task 0.3:</b> Run the cell below to visualize what the data looks like for one year. Reflect on whether this is a suitable time period over which to compute derivatives.\n",
    "</p>\n",
    "</div>"
   ]
  },
  {
   "cell_type": "code",
   "execution_count": null,
   "id": "e1e41229",
   "metadata": {},
   "outputs": [],
   "source": [
    "data_2021 = data.loc['2021']\n",
    "\n",
    "plt.figure(figsize=(15,4))\n",
    "plt.scatter(data_2021.index,data_2021, color='green', marker='x')\n",
    "plt.xlabel('Date')\n",
    "plt.ylabel('Ice thickness [cm]')\n",
    "plt.grid()\n"
   ]
  },
  {
   "cell_type": "markdown",
   "id": "d98f0054",
   "metadata": {},
   "source": [
    "## Part 1: Numerical Derivatives\n",
    "\n",
    "For numerics we will use numpy due to its optimization for numerical computations. In the cell below, the conversion to numpy is already there as well as a transformation from date to time_days."
   ]
  },
  {
   "cell_type": "markdown",
   "id": "26b29f32",
   "metadata": {},
   "source": [
    "<div style=\"background-color:#AABAB2; color: black; width:95%; vertical-align: middle; padding:15px; margin: 10px; border-radius: 10px\">\n",
    "<p>\n",
    "\n",
    "<b>Task 1.1:</b>  Use Forward Difference to estimate the growth rate of the ice, using <em>only</em> the variables <code>h_ice</code> and <code>t_days</code> (i.e., no need to write a function).\n",
    "\n",
    "</ol>\n",
    "</p>\n",
    "</div>"
   ]
  },
  {
   "cell_type": "markdown",
   "id": "8cd69728",
   "metadata": {},
   "source": [
    "<div style=\"background-color:#facb8e; color: black; width:95%; vertical-align: middle; padding:15px; margin: 10px; border-radius: 10px; width: 95%\"> <p>Remember that one of our goals is to compare the numerical implementation, therefore, in the Tasks below you are asked to keep the function evaluations identical in each case, while <em>only</em> changing the evaluation points (i.e., the indices of the time array).</p></div>"
   ]
  },
  {
   "cell_type": "code",
   "execution_count": null,
   "id": "e160a642",
   "metadata": {},
   "outputs": [],
   "source": [
    "h_ice = (data_2021.to_numpy()).ravel()\n",
    "t_days = ((data_2021.index - data_2021.index[0]).days).to_numpy()\n",
    "\n",
    "dh_dt_FD = YOUR_CODE_HERE"
   ]
  },
  {
   "cell_type": "markdown",
   "id": "e4185402",
   "metadata": {},
   "source": [
    "Great, you did it! However, computing the derivative is not enough. It is necessary to specify **where** that derivative was computed."
   ]
  },
  {
   "cell_type": "markdown",
   "id": "56f28f96",
   "metadata": {},
   "source": [
    "<div style=\"background-color:#AABAB2; color: black; width:95%; vertical-align: middle; padding:15px; margin: 10px; border-radius: 10px\">\n",
    "<p>\n",
    "\n",
    "<b>Task 1.2:</b> Plot the growth rate together with the ice thickness, specifying the proper time where the derivative is computed.\n",
    "\n",
    "<em>Note that a second axis has been added to enable us to include the original ice thickness measurements for comparison.</em>\n",
    "\n",
    "</p>\n",
    "</div>"
   ]
  },
  {
   "cell_type": "code",
   "execution_count": null,
   "id": "54b42e1d",
   "metadata": {},
   "outputs": [],
   "source": [
    "fig, ax1 = plt.subplots(figsize=(15,4))\n",
    "\n",
    "ax1.scatter(YOUR_CODE_HERE, dh_dt_FD,\n",
    "            color='blue', marker='o', label='dh_dt_FD Forward Difference')\\\n",
    "\n",
    "ax1.set_xlabel('Days')\n",
    "ax1.set_ylabel('Growth Rate [cm/day]', color='blue')\n",
    "ax1.tick_params(axis='y', labelcolor='blue')\n",
    "ax1.grid()\n",
    "\n",
    "\n",
    "ax2 = ax1.twinx()\n",
    "ax2.scatter(t_days, h_ice,\n",
    "            color='green', marker='x', label='h_ice Measurements')\n",
    "ax2.set_ylabel('Ice thickness [cm]', color='green')\n",
    "ax2.tick_params(axis='y', labelcolor='green')\n",
    "\n",
    "handles, labels = ax1.get_legend_handles_labels()\n",
    "handles2, labels2 = ax2.get_legend_handles_labels()\n",
    "ax1.legend(handles + handles2, labels + labels2, loc='upper left')\n",
    "\n",
    "plt.show()\n"
   ]
  },
  {
   "cell_type": "markdown",
   "id": "d15d29bf",
   "metadata": {},
   "source": [
    "<div style=\"background-color:#AABAB2; color: black; width:95%; vertical-align: middle; padding:15px; margin: 10px; border-radius: 10px\">\n",
    "<p>\n",
    "\n",
    "<b>Task 1.3:</b> Use backward difference to compute the ice growth rate and plot it, together with the previous estimation and the ice thickness.\n",
    "\n",
    "</p>\n",
    "</div>"
   ]
  },
  {
   "cell_type": "code",
   "execution_count": null,
   "id": "fa6026a8",
   "metadata": {},
   "outputs": [],
   "source": [
    "dh_dt_BD = YOUR_CODE_HERE\n",
    "\n",
    "fig, ax1 = plt.subplots(figsize=(15,4))\n",
    "\n",
    "ax1.scatter(YOUR_CODE_HERE, dh_dt_FD,\n",
    "            color='blue', marker='o', label='dh_dt_FD Forward Difference')\n",
    "ax1.scatter(YOUR_CODE_HERE, dh_dt_BD,\n",
    "            color='red', marker='o', label='dh_dt_BD Backward Difference')\n",
    "\n",
    "ax1.set_xlabel('Days')\n",
    "ax1.set_ylabel('Growth Rate [cm/day]', color='blue')\n",
    "ax1.tick_params(axis='y', labelcolor='blue')\n",
    "ax1.grid()\n",
    "\n",
    "ax2 = ax1.twinx()\n",
    "ax2.scatter(t_days, h_ice,\n",
    "            color='green', marker='x', label='h_ice Measurements')\n",
    "ax2.set_ylabel('Ice thickness [cm]', color='green')\n",
    "ax2.tick_params(axis='y', labelcolor='green')\n",
    "\n",
    "handles, labels = ax1.get_legend_handles_labels()\n",
    "handles2, labels2 = ax2.get_legend_handles_labels()\n",
    "ax1.legend(handles + handles2, labels + labels2, loc='upper left')\n",
    "\n",
    "plt.show()"
   ]
  },
  {
   "cell_type": "markdown",
   "id": "9a367a43",
   "metadata": {},
   "source": [
    "<div style=\"background-color:#AABAB2; color: black; width:95%; vertical-align: middle; padding:15px; margin: 10px; border-radius: 10px\">\n",
    "<p>\n",
    "\n",
    "<b>Task 1.4:</b> Now apply central differences and plot them. \n",
    "\n",
    "**Beware: if you follow the derivation in the textbook, the distances $x_{i+1}-x_i$ and $x_{i}-x_{i-1}$ are assumed to be the same for all points (and between $x_{i-1}$, $x_i$ and $x_{i+1}$). That is not the case in this data set. Therefore, you must evaluate the derivative at some location between each data point that satisfies this criteria.** (Hint: the middle!). \n",
    "\n",
    "<em>Note that it is not necessary to define the \"new\" points that the derivative is evaluated at, you can write them directly in the scatter plot arguments.</em>\n",
    "</p>\n",
    "</div>"
   ]
  },
  {
   "cell_type": "code",
   "execution_count": null,
   "id": "2cbe8fbd",
   "metadata": {},
   "outputs": [],
   "source": [
    "dh_dt_CD = YOUR_CODE_HERE\n",
    "\n",
    "fig, ax1 = plt.subplots(figsize=(15,4))\n",
    "\n",
    "ax1.scatter(YOUR_CODE_HERE, dh_dt_FD,\n",
    "            color='blue', marker='o', label='dh_dt_FD Forward Difference')\n",
    "ax1.scatter(YOUR_CODE_HERE, dh_dt_BD,\n",
    "            color='red', marker='o', label='dh_dt_BE Backward Difference')\n",
    "ax1.scatter(YOUR_CODE_HERE, dh_dt_CD,\n",
    "            color='purple', marker='o', label='dh_dt_CD Central Difference')\n",
    "\n",
    "ax1.set_xlabel('Days')\n",
    "ax1.set_ylabel('Growth Rate [cm/day]', color='blue')\n",
    "ax1.tick_params(axis='y', labelcolor='blue')\n",
    "ax1.grid()\n",
    "\n",
    "ax2 = ax1.twinx()\n",
    "ax2.scatter(t_days, h_ice, color='green', marker='x', label='h_ice Measurements')\n",
    "ax2.set_ylabel('Ice thickness [cm]', color='green')\n",
    "ax2.tick_params(axis='y', labelcolor='green')\n",
    "\n",
    "handles, labels = ax1.get_legend_handles_labels()\n",
    "handles2, labels2 = ax2.get_legend_handles_labels()\n",
    "ax1.legend(handles + handles2, labels + labels2, loc='upper left')\n",
    "\n",
    "plt.show()"
   ]
  },
  {
   "cell_type": "markdown",
   "id": "124da96b",
   "metadata": {},
   "source": [
    "## Part 2: Taylor Series \n",
    "\n",
    "### Definition\n",
    "\n",
    "Recall that the Taylor series for one variable as previously described in the fundamentals section of the MUDE textbook as\n",
    "\n",
    "$$\n",
    "f(x)\\approx f(x_0)+(x-x_0)\\frac{\\partial f(x_0)}{\\partial x}+\\frac{(x-x_0)^2}{2!}\\frac{\\partial^2 f(x_0)}{\\partial x^2}+...+\\frac{(x-x_0)^n}{n!}\\frac{\\partial^n f(x_0)}{\\partial x^n}\n",
    "$$\n",
    "\n",
    "This may also be written as a summation, which may help to visualize the process of writing the terms of the Taylor approximation. The Taylor approximation as a summation becomes \n",
    "\n",
    "$$\n",
    "f(x) \\approx \\sum_{n=0}^{\\infty} \\frac{(x-x_0)^n}{n!} f^{(n)}(x_0)\n",
    "$$\n",
    "\n",
    "where $f^{(n)}(x_0)$ indicates the $n$-th derivative of a function $f(x)$ evaluated at $x=x_0$."
   ]
  },
  {
   "cell_type": "markdown",
   "id": "c42f5242",
   "metadata": {},
   "source": [
    "<div style=\"background-color:#AABAB2; color: black; width:95%; vertical-align: middle; padding:15px; margin: 10px; border-radius: 10px\">\n",
    "<p>\n",
    "<b>Task 2.0:</b> Write the derivation of the backward difference second order accurate! Insert an image of your math below. \n",
    "\n",
    "(You **don't** have to use this formula later on)\n",
    "</p>\n",
    "</div>"
   ]
  },
  {
   "cell_type": "markdown",
   "id": "a145cbd4",
   "metadata": {},
   "source": [
    "_You will be asked to include your derivation in the Report, but you can also include it here._"
   ]
  },
  {
   "cell_type": "markdown",
   "id": "1ec3ee44",
   "metadata": {},
   "source": [
    "<div style=\"background-color:#facb8e; color: black; vertical-align: middle; padding:15px; margin: 10px; border-radius: 10px; width: 95%\"> <p>We don't care if you use AI tools for derivations, but remember: <b>deriving equations in this way will be necessary to complete exam questions, so you really should practice doing it by hand!</b></p></div>"
   ]
  },
  {
   "cell_type": "markdown",
   "id": "870f3224",
   "metadata": {},
   "source": [
    "<div style=\"background-color:#AABAB2; color: black; width:95%; vertical-align: middle; padding:15px; margin: 10px; border-radius: 10px\">\n",
    "<p>\n",
    "<b>Task 2.1:</b> Derive the Taylor series expansion terms:\n",
    "\n",
    "<u>On paper</u>, obtain the <b>first four</b> derivatives for the expression: \n",
    "$$\n",
    "f(x)= 2\\cos(x)+\\sin(x) \n",
    "$$ \n",
    "\n",
    "Once you obtain the expressions, evaluate them around the point $x_0=\\pi$.\n",
    "\n",
    "These terms will be used later to assess the effects of using more or less terms in the approximation as well as the distance from $x_0$ later on in the notebook.\n",
    "\n",
    "Use the following markdown cell to include your derivation of the Taylor series terms.\n",
    "\n",
    "</ol>\n",
    "</p>\n",
    "</div>"
   ]
  },
  {
   "cell_type": "markdown",
   "id": "ce101e26",
   "metadata": {},
   "source": [
    "_You will be asked to include your derivation in the Report, but you can also include it here._"
   ]
  },
  {
   "cell_type": "markdown",
   "id": "bf07109c",
   "metadata": {},
   "source": [
    "<div style=\"background-color:#AABAB2; color: black; width:95%; vertical-align: middle; padding:15px; margin: 10px; border-radius: 10px\">\n",
    "<p>\n",
    "<b>Task 2.2:</b> Plotting reference expression and approximations.\n",
    "\n",
    "Before continuing with TSE, plot the expression $f(x)=2\\cos(x)+\\sin(x)$ in the interval $[-3\\pi,5\\pi]$. This will be used as benchmark to assess your approximations. We will want to produce plots that will include each successive term of the Taylor approximation to see how the approximation improves as we include more terms in the Taylor series. \n",
    "\n",
    "</p>\n",
    "</div>\n"
   ]
  },
  {
   "cell_type": "code",
   "execution_count": null,
   "id": "2500f20c",
   "metadata": {},
   "outputs": [],
   "source": [
    "x = np.linspace(-3*np.pi, 5*np.pi, 400)\n",
    "\n",
    "def f(x):\n",
    "    return YOUR_CODE_HERE\n",
    "\n",
    "plt.plot(YOUR_CODE_HERE, YOUR_CODE_HERE, color='b', linewidth=2)\n",
    "plt.xlabel('x')\n",
    "plt.ylabel('f(x)')\n",
    "plt.title(\"Plot of $f(x) = 2cos(x) + sin(x)$\");"
   ]
  },
  {
   "cell_type": "markdown",
   "id": "51592da7",
   "metadata": {},
   "source": [
    "<div style=\"background-color:#AABAB2; color: black; width:95%; vertical-align: middle; padding:15px; margin: 10px; border-radius: 10px\">\n",
    "<p>\n",
    "<b>Task 2.3:</b> Putting pen to python.\n",
    "\n",
    "Enter the first four derivative terms in the corresponding functions below so that we can use them in our approximation.\n",
    "\n",
    "Complete the functions in the code cell below, `f_#` refers to the <b>derivatives</b> of each portion of the function.\n",
    "\n",
    "</p>\n",
    "</div>\n"
   ]
  },
  {
   "cell_type": "code",
   "execution_count": null,
   "id": "4c292877",
   "metadata": {},
   "outputs": [],
   "source": [
    "def f_1(x):\n",
    "    return YOUR_CODE_HERE\n",
    "\n",
    "def f_2(x):\n",
    "    return YOUR_CODE_HERE\n",
    "\n",
    "def f_3(x):\n",
    "    return YOUR_CODE_HERE\n",
    "\n",
    "def f_4(x):\n",
    "    return YOUR_CODE_HERE"
   ]
  },
  {
   "cell_type": "markdown",
   "id": "1d44205d",
   "metadata": {},
   "source": [
    "<div style=\"background-color:#AABAB2; color: black; width:95%; vertical-align: middle; padding:15px; margin: 10px; border-radius: 10px\">\n",
    "<p>\n",
    "<b>Task 2.4:</b> Define the expansion point and write the Taylor series expansion of first, second, third and fourth order. \n",
    "\n",
    "Complete the functions in the code cell below, the `taylor_#` refers to the order of the Taylor approximation and <code>x0</code> the expansion point, using our previously defined $x_0$..\n",
    "\n",
    "</p>\n",
    "</div>\n"
   ]
  },
  {
   "cell_type": "code",
   "execution_count": null,
   "id": "85347f03",
   "metadata": {},
   "outputs": [],
   "source": [
    "x0 = YOUR_CODE_HERE\n",
    "taylor_1 = YOUR_CODE_HERE\n",
    "taylor_2 = YOUR_CODE_HERE\n",
    "taylor_3 = YOUR_CODE_HERE\n",
    "taylor_4 = YOUR_CODE_HERE"
   ]
  },
  {
   "cell_type": "markdown",
   "id": "7be81c30",
   "metadata": {},
   "source": [
    "<div style=\"background-color:#AABAB2; color: black; width:95%; vertical-align: middle; padding:15px; margin: 10px; border-radius: 10px\">\n",
    "<p>\n",
    "<b>Task 2.5:</b> Plot your function along with your Taylor orders to illustrate the local approximations of the inclusions of each extra term.  \n",
    "\n",
    "\n",
    "\n",
    "</p>\n",
    "</div>\n"
   ]
  },
  {
   "cell_type": "code",
   "execution_count": null,
   "id": "3ec0f1a5",
   "metadata": {},
   "outputs": [],
   "source": [
    "plt.figure(figsize=(10, 6))\n",
    "\n",
    "plt.plot(YOUR_CODE_HERE, YOUR_CODE_HERE,\n",
    "         label='$f(x) = 2cos(x) + sin(x)$', color='b', linewidth=2)\n",
    "plt.plot(YOUR_CODE_HERE, YOUR_CODE_HERE,\n",
    "         label='First Order', linestyle='--', color='g', linewidth=2)\n",
    "plt.plot(YOUR_CODE_HERE, YOUR_CODE_HERE,\n",
    "         label='Second Order', linestyle='--', color='r', linewidth=2)\n",
    "plt.plot(YOUR_CODE_HERE, YOUR_CODE_HERE,\n",
    "         label='Third Order', linestyle='--', color='m', linewidth=2)\n",
    "plt.plot(YOUR_CODE_HERE, YOUR_CODE_HERE,\n",
    "         label='Fourth Order', linestyle='--', color='y', linewidth=2)\n",
    "\n",
    "\n",
    "plt.scatter([x0], [f(x0)],\n",
    "            color='k', marker='o', label=f'Expansion Point ($x = {x0:0.3f}$)')\n",
    "\n",
    "plt.xlabel('x')\n",
    "plt.ylabel('$f(x)$')\n",
    "plt.title('Taylor Series Expansion of $f(x) = 2cos(x) + sin(x)$')\n",
    "plt.legend()\n",
    "plt.xlim(-1,9)\n",
    "plt.ylim(-10,10)\n",
    "\n",
    "plt.grid(True)\n",
    "plt.show();"
   ]
  },
  {
   "cell_type": "markdown",
   "id": "a26a5c33",
   "metadata": {},
   "source": [
    "### Estimating the Truncation error \n",
    "\n",
    "When we use Taylor series approximations of a function, we truncate the infinite series to a specfic number of terms. Thus, a truncation error is introduced. A simple error metric between the analytical solution and the numerical approximation of our function can be found by computing the absolute value of the difference between the function and the approximation, namely\n",
    "$$\n",
    "\\text{error }=|f(x)-T_n|\n",
    "$$\n",
    "where $T_n$ refers to the TSE computed using $n$ number of terms (or derivatives) of the Taylor series we use.\n"
   ]
  },
  {
   "cell_type": "markdown",
   "id": "8d7af461",
   "metadata": {},
   "source": [
    "<div style=\"background-color:#AABAB2; color: black; width:95%; vertical-align: middle; padding:15px; margin: 10px; border-radius: 10px\">\n",
    "\n",
    "<p><b>Task 2.6:</b> Use your Taylor series approximations and the analytic solution to determine their absolute error. Plot these approximations and vary the x and y limits. Are the larger orders TSE always better?\n",
    "</p>\n",
    "</div>"
   ]
  },
  {
   "cell_type": "code",
   "execution_count": null,
   "id": "68ff0e31",
   "metadata": {},
   "outputs": [],
   "source": [
    "error_1 = YOUR_CODE_HERE\n",
    "error_2 = YOUR_CODE_HERE\n",
    "error_3 = YOUR_CODE_HERE\n",
    "error_4 = YOUR_CODE_HERE\n",
    "\n",
    "plt.figure(figsize=(10, 4))\n",
    "plt.plot(x, error_1,\n",
    "         label='First Order', color='g', linewidth=2)\n",
    "plt.plot(x, error_2,\n",
    "         label='Second Order', color='r', linewidth=2)\n",
    "plt.plot(x, error_3,\n",
    "         label='Third Order', color='m', linewidth=2)\n",
    "plt.plot(x, error_4,\n",
    "         label='Fourth Order', color='y', linewidth=2)\n",
    "\n",
    "plt.xlabel('x')\n",
    "plt.ylabel('Absolute Error: $f(x)$-Taylor Order')\n",
    "plt.title('Absolute Error of Taylor Series Approximations')\n",
    "plt.xlim(np.pi-1,np.pi+1)\n",
    "plt.ylim(0,0.01)\n",
    "plt.legend()\n",
    "\n",
    "plt.grid(True)\n",
    "plt.show();"
   ]
  },
  {
   "cell_type": "markdown",
   "id": "64bcb222",
   "metadata": {},
   "source": [
    "## Part 3: Taylor Series Expansion in Two Variables\n",
    "\n",
    "Let's investigate how the Taylor Series Expansion operates in two dimensions. Expanding a function dependent on two variables, $f(x, y)$, can be expressed as:\n",
    "\n",
    "$$\n",
    "f(x, y) \\approx f(x_0, y_0) + (x - x_0)\\frac{\\partial f}{\\partial x}\\bigg|_{(x_0, y_0)}  + (y - y_0) \\frac{\\partial f}{\\partial y}\\bigg|_{(x_0, y_0)} \\\\ \n",
    "+ \\frac{(x - x_0)^2}{2!}\\frac{\\partial^2 f}{\\partial x^2}\\bigg|_{(x_0, y_0)} + \\frac{(y - y_0)^2}{2!}\\frac{\\partial^2 f}{\\partial y^2}\\bigg|_{(x_0, y_0)} \\\\\n",
    "+ (x - x_0)(y - y_0)\\frac{\\partial^2 f}{\\partial x \\partial y}\\bigg|_{(x_0, y_0)} + \\ldots\n",
    "$$\n",
    "\n",
    "The terms in this summation are determined by the partial derivatives of $f$ with respect to $x$ and $y$ evaluated at $(x_0, y_0)$. The expansion includes an infinite series of terms, starting from the first-order terms and continuing to higher-order terms as $n$ increases. The choice of how many terms to include in the expansion depends on the desired level of accuracy.\n"
   ]
  },
  {
   "cell_type": "markdown",
   "id": "59f3056e",
   "metadata": {},
   "source": [
    "<div style=\"background-color:#AABAB2; color: black; width:95%; vertical-align: middle; padding:15px; margin: 10px; border-radius: 10px\">\n",
    "<p>\n",
    "<b>Task 3.1:</b> Writing out the expansion. \n",
    "\n",
    "Using the function $f(x,y)=\\sin(2x)+\\cos(y)$ derive the first and second derivatives of the approximation. Do this <u>on paper</u>, as before. After obtaining derivatives, evaluate them around the expanding point $(x_0=\\pi,y_0=\\pi)$. Also, add the evaluation of $f(x_0,y_0)$.\n",
    "\n",
    "Use the following cell to include your workings for the solution. \n",
    "</ol>\n",
    "</p>\n",
    "</div>\n"
   ]
  },
  {
   "cell_type": "markdown",
   "id": "a8571aaa",
   "metadata": {},
   "source": [
    "_You will be asked to include your derivation in the Report, but you can also include it here._\n"
   ]
  },
  {
   "cell_type": "markdown",
   "id": "d1152705",
   "metadata": {},
   "source": [
    "<div style=\"background-color:#AABAB2; color: black; width:95%; vertical-align: middle; padding:15px; margin: 10px; border-radius: 10px\">\n",
    "<p>\n",
    "<b>Task 3.2:</b> Transfer the Taylor Approximation\n",
    "\n",
    "Enter the expansion point and include the Taylor approximation in the function definition of the code cell below.\n",
    "\n",
    "<em>Remember, to break a line in the code and keep it readable you can surround the expression with an extra set of parentheses, <code>(  )</code>; this will allow arbitrarily-placed line breaks within the code.</em>\n",
    "</p>\n",
    "</div>"
   ]
  },
  {
   "cell_type": "markdown",
   "id": "9ee6aee1",
   "metadata": {},
   "source": [
    "<div style=\"background-color:#facb8e; color: black; vertical-align: middle; padding:15px; margin: 10px; border-radius: 10px; width: 95%\"> <p>Note that here we define <code>x0</code> and <code>y0</code> as global variables (outside the function). This is a bad practice in general, but in this case it is OK because we are limiting our use of the code to a few small functions and tasks in a single notebook.</p></div>"
   ]
  },
  {
   "cell_type": "code",
   "execution_count": null,
   "id": "c1d5a685",
   "metadata": {},
   "outputs": [],
   "source": [
    "def f2D(x, y):\n",
    "    return YOUR_CODE_HERE\n",
    "\n",
    "x0 = YOUR_CODE_HERE\n",
    "y0 = YOUR_CODE_HERE\n",
    "\n",
    "def taylor2D(x, y):\n",
    "    return (YOUR_CODE_HERE)"
   ]
  },
  {
   "cell_type": "markdown",
   "id": "0a4bb659",
   "metadata": {},
   "source": [
    "### Visualize Results\n",
    "\n",
    "Let's plot a 3D surface plot of the results and try to visualize the intersection of the function and its Taylor approximation. In order to do this, we need to create a <code>meshgrid</code> over the region of interest (this is done with `np.meshgrid`). Using our <code>def</code> functions above we can determine the surface."
   ]
  },
  {
   "cell_type": "markdown",
   "id": "212539ba",
   "metadata": {},
   "source": [
    "<div style=\"background-color:#AABAB2; color: black; width:95%; vertical-align: middle; padding:15px; margin: 10px; border-radius: 10px\">\n",
    "<p>\n",
    "<b>Task 3.3:</b> Scrutinize the code to understand what is being plotted, then run it to visualize the results.\n",
    "</p>\n",
    "</div>"
   ]
  },
  {
   "cell_type": "code",
   "execution_count": null,
   "id": "4a0e42aa",
   "metadata": {},
   "outputs": [],
   "source": [
    "# Create a meshgrid of x and y values\n",
    "x = np.linspace(-2+x0, 2+x0, 100)\n",
    "y = np.linspace(-2+y0, 2+y0, 100)\n",
    "X, Y = np.meshgrid(x, y)\n",
    "\n",
    "# Calculate the original function values and the approximation\n",
    "Z_orig = f2D(X, Y)\n",
    "Z_approx = taylor2D(X, Y)\n",
    "\n",
    "# Create a 3D plot\n",
    "fig = plt.figure(figsize=(9,9))\n",
    "ax = fig.add_subplot(111, projection='3d')\n",
    "ax.plot_surface(X, Y, Z_orig, rstride=1, cstride=1, cmap='Reds',\n",
    "                label='Original Function')\n",
    "ax.plot_surface(X, Y, Z_approx, rstride=1, cstride=1, cmap='Blues',\n",
    "                alpha=0.7, label='Taylor Approximation')\n",
    "\n",
    "# Set labels and legend\n",
    "ax.set_xlabel('x')\n",
    "ax.set_ylabel('y')\n",
    "ax.set_zlabel('f(x, y)')\n",
    "plt.legend()\n",
    "\n",
    "# Show the plot\n",
    "plt.title('Original Function vs. Taylor Approximation')\n",
    "plt.show()\n"
   ]
  },
  {
   "cell_type": "markdown",
   "id": "056b5dff",
   "metadata": {},
   "source": [
    "### Error Analysis\n",
    "\n",
    "How good is this approximation?"
   ]
  },
  {
   "cell_type": "markdown",
   "id": "9e4ed8d1",
   "metadata": {},
   "source": [
    "<div style=\"background-color:#AABAB2; color: black; width:95%; vertical-align: middle; padding:15px; margin: 10px; border-radius: 10px\">\n",
    "<p>\n",
    "<b>Task 3.4:</b> Use the following cell to calculate the absolute error between the analytical and Taylor approximation  as previously and plot the results.\n",
    "</p>\n",
    "</div>"
   ]
  },
  {
   "cell_type": "code",
   "execution_count": null,
   "id": "c5f9b4c3",
   "metadata": {},
   "outputs": [],
   "source": [
    "error_2d = YOUR_CODE_HERE\n",
    "\n",
    "fig = plt.figure(figsize=(9,9))\n",
    "ax = fig.add_subplot(111, projection='3d')\n",
    "ax.plot_surface(X, Y, error_2d, cmap='Reds', label='Absolute Error')\n",
    "ax.set_xlabel('X')\n",
    "ax.set_ylabel('Y')\n",
    "ax.set_zlabel('Absolute Error')\n",
    "plt.title('Absolute Error between $f(x, y)$ and Taylor Approximation')\n",
    "plt.show()\n"
   ]
  },
  {
   "cell_type": "markdown",
   "id": "0ae67e70",
   "metadata": {},
   "source": [
    "**End of notebook.**\n",
    "\n",
    "<div style=\"margin-top: 50px; padding-top: 20px; border-top: 1px solid #ccc;\">\n",
    "  <div style=\"display: flex; justify-content: flex-end; gap: 20px; align-items: center;\">\n",
    "    <a rel=\"MUDE\" href=\"http://mude.citg.tudelft.nl/\">\n",
    "      <img alt=\"MUDE\" style=\"width:100px; height:auto;\" src=\"https://gitlab.tudelft.nl/mude/public/-/raw/main/mude-logo/MUDE_Logo-small.png\" />\n",
    "    </a>\n",
    "    <a rel=\"TU Delft\" href=\"https://www.tudelft.nl/en/ceg\">\n",
    "      <img alt=\"TU Delft\" style=\"width:100px; height:auto;\" src=\"https://gitlab.tudelft.nl/mude/public/-/raw/main/tu-logo/TU_P1_full-color.png\" />\n",
    "    </a>\n",
    "    <a rel=\"license\" href=\"http://creativecommons.org/licenses/by/4.0/\">\n",
    "      <img alt=\"Creative Commons License\" style=\"width:88px; height:auto;\" src=\"https://i.creativecommons.org/l/by/4.0/88x31.png\" />\n",
    "    </a>\n",
    "  </div>\n",
    "  <div style=\"font-size: 75%; margin-top: 10px; text-align: right;\">\n",
    "    &copy; Copyright 2024 <a rel=\"MUDE\" href=\"http://mude.citg.tudelft.nl/\">MUDE</a> TU Delft. \n",
    "    This work is licensed under a <a rel=\"license\" href=\"http://creativecommons.org/licenses/by/4.0/\">CC BY 4.0 License</a>.\n",
    "  </div>\n",
    "</div>\n",
    "\n",
    "\n",
    "<!--tested with WS_2_8_solution.ipynb-->"
   ]
  }
 ],
 "metadata": {
  "language_info": {
   "name": "python"
  }
 },
 "nbformat": 4,
 "nbformat_minor": 5
}
