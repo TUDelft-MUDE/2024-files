{
 "cells": [
  {
   "cell_type": "markdown",
   "id": "97655b83",
   "metadata": {},
   "source": [
    "# Programming Assignment 10: Love Is Sparse\n",
    "\n",
    "<h1 style=\"position: absolute; display: flex; flex-grow: 0; flex-shrink: 0; flex-direction: row-reverse; top: 60px;right: 30px; margin: 0; border: 0\">\n",
    "    <style>\n",
    "        .markdown {width:100%; position: relative}\n",
    "        article { position: relative }\n",
    "    </style>\n",
    "    <img src=\"https://gitlab.tudelft.nl/mude/public/-/raw/main/tu-logo/TU_P1_full-color.png\" style=\"width:100px\" />\n",
    "    <img src=\"https://gitlab.tudelft.nl/mude/public/-/raw/main/mude-logo/MUDE_Logo-small.png\" style=\"width:100px\" />\n",
    "</h1>\n",
    "<h2 style=\"height: 10px\">\n",
    "</h2>\n",
    "\n",
    "*[CEGM1000 MUDE](http://mude.citg.tudelft.nl/): Week 2.2. Due: complete this PA prior to class on Friday, Nov 24, 2023.*"
   ]
  },
  {
   "cell_type": "markdown",
   "id": "36c7960f",
   "metadata": {
    "tags": []
   },
   "source": [
    "## Overview of Assignment\n",
    "\n",
    "This assignment will introduce you to the concept of sparse matrices in Python and how they can be useful to speed up computations and reduce file sizes. To this end, we will be using the `scipy.sparse` library.\n",
    "\n",
    "## Reading\n",
    "\n",
    "Keep the `scipy.sparse` [documentation](https://docs.scipy.org/doc/scipy/reference/sparse.html) handy. Some of the work you'll do is based off this [blog](https://www.sefidian.com/2021/04/28/python-scipy-sparse-matrices-explained/), so you may find it helpful. In addition, if you don't know what a byte is, you may want to read up on [Wikipdia here](https://en.wikipedia.org/wiki/Byte) (not all of it, as long as you recognize that it is a measure of storage space on a computer).The concepts you learn here are applied to the Finite Element Method in this [book chapter](https://mude.citg.tudelft.nl/book/fem/matrix.html), which you are expected to read during Week 2.2.\n",
    "\n",
    "**Note:** you probably skipped over all the links in the paragraph above. While we forgive you for your haste, just remember to revisit some of them if you are struggling to finish the questions below!\n",
    "\n",
    "## Assignment Criteria\n",
    "\n",
    "**You will pass this assignment as long as your respository fulfills the following criteria:**  \n",
    "\n",
    "- You have completed this notebook and it runs without errors"
   ]
  },
  {
   "cell_type": "code",
   "execution_count": null,
   "id": "824cc3be",
   "metadata": {},
   "outputs": [],
   "source": [
    "import numpy as np\n",
    "import scipy.sparse as sparse\n",
    "import matplotlib.pyplot as plt\n",
    "import timeit"
   ]
  },
  {
   "cell_type": "markdown",
   "id": "43b0fe19",
   "metadata": {
    "tags": []
   },
   "source": [
    "## Task 1: Why sparse?\n",
    "\n",
    "Some matrices have a lot of zeros, with such an example given below. When this is the case, the way we store the actual information of the matrix (the non-zero elements) can have a big impact on computation speed and storage demands. Formats which handle this by only storing non-zero elements are called sparse, and have very different internal representations of the data to the matrices you have been familiarized with in previous programming assignments.\n",
    "\n",
    "![Sparse matrix](images/sparse_matrix.png)"
   ]
  },
  {
   "cell_type": "markdown",
   "id": "80d50889",
   "metadata": {},
   "source": [
    "<div style=\"background-color:#AABAB2; color: black; vertical-align: middle; padding:15px; margin: 10px; border-radius: 10px\">\n",
    "<p>\n",
    "<b>Task 1:</b>   \n",
    "    \n",
    "- Create a function (`create_dense`) which returns a square matrix of arbitrary size. \n",
    "- The function will take as input the size N (such that the matrix is N x N) and one float between 0 and 1, which represents the approximate fraction of the elements of the matrix which are non-zero (it doesn't have to be super accurate).\n",
    "    \n",
    "For now it just return a regular Numpy matrix. To do this, you can use <a href=\"https://numpy.org/doc/stable/reference/random/generated/numpy.random.rand.html\">numpy.random.rand</a> to create a random set of values between 0 and 1 and then threshold the entries with a simple boolean operator.\n",
    "</p>\n",
    "</div>"
   ]
  },
  {
   "cell_type": "code",
   "execution_count": null,
   "id": "6892a010",
   "metadata": {},
   "outputs": [],
   "source": [
    "# SOLUTION (a few things will be removed)\n",
    "def create_dense(size: int, percentage: float) -> np.array:\n",
    "    matrix = np.random.rand(size, size)\n",
    "    matrix[matrix > percentage] = 0\n",
    "    return matrix\n",
    "####"
   ]
  },
  {
   "cell_type": "markdown",
   "id": "c8222b32",
   "metadata": {},
   "source": [
    "Now we will test that you set it up correctly:"
   ]
  },
  {
   "cell_type": "code",
   "execution_count": null,
   "id": "6d43510b",
   "metadata": {},
   "outputs": [],
   "source": [
    "test_size = 1000\n",
    "test_percentage = 0.1\n",
    "matrix = create_dense(test_size, test_percentage)\n",
    "assert np.count_nonzero(matrix) < test_percentage*1.1*test_size**2"
   ]
  },
  {
   "cell_type": "markdown",
   "id": "1699ecf4",
   "metadata": {},
   "source": [
    "One of the reasons we are interested in sparse matrices"
   ]
  },
  {
   "cell_type": "markdown",
   "id": "bd186cc5",
   "metadata": {},
   "source": [
    "<div style=\"background-color:#AABAB2; color: black; vertical-align: middle; padding:15px; margin: 10px; border-radius: 10px\">\n",
    "<p>\n",
    "<b>Task 2:</b>   \n",
    "Use <a href=\"https://numpy.org/doc/stable/reference/generated/numpy.ndarray.nbytes.html\">array.nbytes</a> to find out how much space a 1000x1000 matrix with 10% non-zero elements takes. Try to explain where this number came from! (Hint: the answer is in the assert statement)\n",
    "</p>\n",
    "</div>"
   ]
  },
  {
   "cell_type": "code",
   "execution_count": null,
   "id": "853b214f",
   "metadata": {},
   "outputs": [],
   "source": [
    "# Solution\n",
    "my_matrix_size = matrix.nbytes\n",
    "assert my_matrix_size == 8*test_size**2"
   ]
  },
  {
   "cell_type": "markdown",
   "id": "fb45d1f6",
   "metadata": {},
   "source": [
    "Next we will explore how to use `scipy.sparse`, and how this reduces the data size of the matrix. The [ documentation](https://docs.scipy.org/doc/scipy/reference/sparse.html) gives us many different types of formats to choose from, so we'll explore two of them: BSR (Block Sparse Row) and CSR (Compressed Sparse Row). "
   ]
  },
  {
   "cell_type": "markdown",
   "id": "4ac6b51e",
   "metadata": {},
   "source": [
    "<div style=\"background-color:#AABAB2; color: black; vertical-align: middle; padding:15px; margin: 10px; border-radius: 10px\">\n",
    "<p>\n",
    "<b>Task 3:</b>   \n",
    "    Complete the code below to make a CSR and BSR matrix from the <code>matrix</code> variable.\n",
    "</p>\n",
    "</div>"
   ]
  },
  {
   "cell_type": "code",
   "execution_count": null,
   "id": "2ec8ebd2",
   "metadata": {},
   "outputs": [],
   "source": [
    "# SOLUTION\n",
    "csr_matrix = sparse.csr_array(matrix)\n",
    "bsr_matrix = sparse.bsr_array(matrix)"
   ]
  },
  {
   "cell_type": "markdown",
   "id": "2d0c739a",
   "metadata": {},
   "source": [
    "Let's compare the new storage requirements and see how much of an improvement we got (it should approach the value used above for `test_percentage`, but not reach it exactly):"
   ]
  },
  {
   "cell_type": "code",
   "execution_count": null,
   "id": "f1dd170c",
   "metadata": {},
   "outputs": [],
   "source": [
    "print(f\"CSR matrix size: {csr_matrix.data.size} bytes\")\n",
    "print(f\"Compared to the normal matrix, CSR uses this fraction of space: {csr_matrix.data.nbytes/my_matrix_size:0.3f}\")\n",
    "print(f\"BSR matrix size: {bsr_matrix.data.size} bytes\")\n",
    "print(f\"Compared to the normal matrix, BSR uses this fraction of space: {bsr_matrix.data.nbytes/my_matrix_size:0.3f}\")"
   ]
  },
  {
   "cell_type": "markdown",
   "id": "ae614290",
   "metadata": {},
   "source": [
    "## Task 2: [What is love?](https://www.youtube.com/watch?v=HEXWRTEbj1I)\n",
    "\n",
    "Let's look into a small example of how sparse matrices can also help improve calculation speeds. We'll study the mysterious case of a massive friend group with a concerning love circle and how we can predict how each person feels."
   ]
  },
  {
   "cell_type": "markdown",
   "id": "2b7b3368",
   "metadata": {},
   "source": [
    "We know there is a certain pecking order in this group, and neighbours in this order have a love-hate relationship which can be quantified with a simple differential equation:\n",
    "\n",
    "$$\n",
    "\\begin{pmatrix}\n",
    "\\frac{dn_1}{dt}\\\\\n",
    "\\frac{dn_2}{dt} \\\\\n",
    "\\end{pmatrix} \n",
    "=\n",
    "\\begin{pmatrix}\n",
    "0 & 1\\\\\n",
    "-1 & 0 \\\\\n",
    "\\end{pmatrix} \n",
    "\\begin{pmatrix}\n",
    "n_1\\\\\n",
    "n_2 \\\\\n",
    "\\end{pmatrix} \n",
    "$$"
   ]
  },
  {
   "cell_type": "markdown",
   "id": "f001f8d3",
   "metadata": {},
   "source": [
    "The state of any given person indicates how much they love the group in general. So in this case, person 2 doesn't like it when person 1 is happy. If we extend this to a four case scenario we'd get the following matrix:\n",
    "$$\n",
    "\\begin{pmatrix}\n",
    "\\frac{dn_1}{dt}\\\\\n",
    "\\frac{dn_2}{dt}\\\\\n",
    "\\frac{dn_3}{dt}\\\\\n",
    "\\frac{dn_4}{dt}\\\\\n",
    "\\end{pmatrix} \n",
    "=\n",
    "\\begin{pmatrix}\n",
    "0  & 1  & 0 & -1 \\\\\n",
    "-1 & 0  & 1 & 0  \\\\\n",
    "0  & -1 & 0 & 1  \\\\\n",
    "1  & 0  & -1 & 0  \\\\\n",
    "\\end{pmatrix} \n",
    "\\begin{pmatrix}\n",
    "n_1 \\\\\n",
    "n_2 \\\\\n",
    "n_3 \\\\\n",
    "n_4 \\\\\n",
    "\\end{pmatrix} \n",
    "$$\n",
    "\n",
    "What happens if we extend it to even more people?\n",
    "\n",
    "Coincidentally this is very similar to how we use individual elements in the Finite Element Method! We can easily operationalize it using the method `ix_`, for which a simple example is provided in the code cell below (this example is generic to illustrate `ix_` usage and is not related to the love circle!):"
   ]
  },
  {
   "cell_type": "code",
   "execution_count": null,
   "id": "22edee59",
   "metadata": {},
   "outputs": [],
   "source": [
    "blank = np.zeros(shape=(4, 4))\n",
    "blueprint = np.array([[0, 0.5], \n",
    "                      [1, 0.5]])\n",
    "\n",
    "for i in range(2):\n",
    "    # First argument will be used for rows\n",
    "    # Second for columns\n",
    "    blank[np.ix_([i*2, i*2 + 1], [1, 2])] = blueprint\n",
    "    \n",
    "print(blank)"
   ]
  },
  {
   "cell_type": "markdown",
   "id": "4c2014d0",
   "metadata": {},
   "source": [
    "<div style=\"background-color:#AABAB2; color: black; vertical-align: middle; padding:15px; margin: 10px; border-radius: 10px\">\n",
    "<p>\n",
    "<b>Task 4:</b>   \n",
    "    Generate the matrix <code>relationship</code> for the differential equation for 1000 people. Use the <a href=\"https://numpy.org/doc/stable/reference/generated/numpy.ix_.html\"><code>numpy.ix_</code></a> function to make your life easier. \n",
    "</p>\n",
    "</div>"
   ]
  },
  {
   "cell_type": "code",
   "execution_count": null,
   "id": "8b4a2776",
   "metadata": {},
   "outputs": [],
   "source": [
    "N = 1000\n",
    "relationship = np.zeros(shape=(N, N))\n",
    "\n",
    "# SOLUTION\n",
    "general = np.array([[0, 1], [-1, 0]])\n",
    "\n",
    "for i in range(N):\n",
    "    relationship[np.ix_([i, (i+1)%N], [i, (i+1)%N])] = general\n",
    "##########"
   ]
  },
  {
   "cell_type": "markdown",
   "id": "c59b35fd",
   "metadata": {},
   "source": [
    "Finally, we are going to use the forward Euler method to simulate this differential equation for a total of 5 seconds over 1000 iterations. This has already been implemented in the `test` method."
   ]
  },
  {
   "cell_type": "markdown",
   "id": "47e11cf0",
   "metadata": {},
   "source": [
    "<div style=\"background-color:#AABAB2; color: black; vertical-align: middle; padding:15px; margin: 10px; border-radius: 10px\">\n",
    "<p>\n",
    "<b>Task 5:</b>   \n",
    "    Find the time it takes to evaluate the relationship using <code>timeit</code> by entering the function you wish to evaluate as a string. HINT: you have already learned how to convert a matrix into a sparse format, and the function is defined for you. Run the code cell and compare the performances of the different matrix formats. Which one is faster? How much space do they take?\n",
    "</p>\n",
    "</div>"
   ]
  },
  {
   "cell_type": "code",
   "execution_count": null,
   "id": "345210f3",
   "metadata": {},
   "outputs": [],
   "source": [
    "N_ITS = 1000\n",
    "T = 5 # Seconds\n",
    "dt = T/N_ITS\n",
    "\n",
    "def test(rel_matrix):\n",
    "    state = np.zeros(N); state[0] = 1\n",
    "    for i in range(N_ITS):\n",
    "        state = state + rel_matrix @ state * dt\n",
    "\n",
    "# SOLUTION (only the strings in timeit will be removed + matrix definitions)\n",
    "csr_matrix = sparse.csr_array(relationship)\n",
    "bsr_matrix = sparse.bsr_array(relationship)\n",
    "print(f\"Standard: {timeit.timeit('test(relationship)', globals=globals(), number=10)/10:.4f}\")\n",
    "print(f\"CSR: {timeit.timeit('test(csr_matrix)', globals=globals(), number=10)/10:.4f}\")\n",
    "print(f\"BSR: {timeit.timeit('test(bsr_matrix)', globals=globals(), number=10)/10:.4f}\")\n",
    "########\n",
    "    "
   ]
  },
  {
   "cell_type": "markdown",
   "id": "347ac07c",
   "metadata": {},
   "source": [
    "One final consideration when using sparse matrices is that it can take a long time to generate them from a regular matrix. You can test this out by placing the matrix generation inside or outside the timeit code to compare their performances."
   ]
  },
  {
   "cell_type": "markdown",
   "id": "a2706524",
   "metadata": {},
   "source": [
    "You could also solve this problem using sympy! What would be the benefit of doing this? Check below how long it will take! You won't need timeit for this one..."
   ]
  },
  {
   "cell_type": "code",
   "execution_count": null,
   "id": "797f8222",
   "metadata": {},
   "outputs": [],
   "source": [
    "import sympy as sym"
   ]
  },
  {
   "cell_type": "code",
   "execution_count": null,
   "id": "0f84eea1",
   "metadata": {},
   "outputs": [],
   "source": [
    "relationshipsym = sym.Matrix(relationship)"
   ]
  },
  {
   "cell_type": "code",
   "execution_count": null,
   "id": "23a5ce1a",
   "metadata": {},
   "outputs": [],
   "source": [
    "state = np.zeros(1000); state[0] = 1\n",
    "state = sym.Matrix(state)\n",
    "dt = sym.nsimplify(dt)"
   ]
  },
  {
   "cell_type": "code",
   "execution_count": null,
   "id": "77624a1c",
   "metadata": {},
   "outputs": [],
   "source": [
    "for i in range(N_ITS):\n",
    "    state = state + relationshipsym*state * dt"
   ]
  },
  {
   "cell_type": "code",
   "execution_count": null,
   "id": "feadb3ec",
   "metadata": {},
   "outputs": [],
   "source": [
    "state[500]"
   ]
  },
  {
   "cell_type": "markdown",
   "id": "384f7740",
   "metadata": {},
   "source": [
    "What is the result for the 501th value using float values?"
   ]
  },
  {
   "cell_type": "code",
   "execution_count": null,
   "id": "75b4933e",
   "metadata": {},
   "outputs": [],
   "source": [
    "state = np.zeros(N); state[0] = 1\n",
    "for i in range(N_ITS):\n",
    "    state = state + relationship @ state * dt\n",
    "state[500]"
   ]
  },
  {
   "cell_type": "markdown",
   "id": "f1ab6036",
   "metadata": {},
   "source": [
    "**End of notebook.**\n",
    "\n",
    "<div style=\"margin-top: 50px; padding-top: 20px; border-top: 1px solid #ccc;\">\n",
    "  <div style=\"display: flex; justify-content: flex-end; gap: 20px; align-items: center;\">\n",
    "    <a rel=\"MUDE\" href=\"http://mude.citg.tudelft.nl/\">\n",
    "      <img alt=\"MUDE\" style=\"width:100px; height:auto;\" src=\"https://gitlab.tudelft.nl/mude/public/-/raw/main/mude-logo/MUDE_Logo-small.png\" />\n",
    "    </a>\n",
    "    <a rel=\"TU Delft\" href=\"https://www.tudelft.nl/en/ceg\">\n",
    "      <img alt=\"TU Delft\" style=\"width:100px; height:auto;\" src=\"https://gitlab.tudelft.nl/mude/public/-/raw/main/tu-logo/TU_P1_full-color.png\" />\n",
    "    </a>\n",
    "    <a rel=\"license\" href=\"http://creativecommons.org/licenses/by/4.0/\">\n",
    "      <img alt=\"Creative Commons License\" style=\"width:88px; height:auto;\" src=\"https://i.creativecommons.org/l/by/4.0/88x31.png\" />\n",
    "    </a>\n",
    "  </div>\n",
    "  <div style=\"font-size: 75%; margin-top: 10px; text-align: right;\">\n",
    "    &copy; Copyright 2024 <a rel=\"MUDE\" href=\"http://mude.citg.tudelft.nl/\">MUDE</a> TU Delft. \n",
    "    This work is licensed under a <a rel=\"license\" href=\"http://creativecommons.org/licenses/by/4.0/\">CC BY 4.0 License</a>.\n",
    "  </div>\n",
    "</div>\n",
    "\n",
    "\n",
    "<!--tested with WS_2_8_solution.ipynb-->"
   ]
  },
  {
   "cell_type": "markdown",
   "id": "8718eea3",
   "metadata": {},
   "source": []
  }
 ],
 "metadata": {
  "language_info": {
   "name": "python"
  }
 },
 "nbformat": 4,
 "nbformat_minor": 5
}
