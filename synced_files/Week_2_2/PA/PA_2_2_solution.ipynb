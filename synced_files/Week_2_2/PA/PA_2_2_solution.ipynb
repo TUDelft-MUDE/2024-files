{
 "cells": [
  {
   "cell_type": "markdown",
   "id": "c96d6259-08d6-4289-aea2-589d67cdb5ee",
   "metadata": {},
   "source": [
    "# PA 2.2: Love is Sparse\n",
    "\n",
    "<h1 style=\"position: absolute; display: flex; flex-grow: 0; flex-shrink: 0; flex-direction: row-reverse; top: 60px;right: 30px; margin: 0; border: 0\">\n",
    "    <style>\n",
    "        .markdown {width:100%; position: relative}\n",
    "        article { position: relative }\n",
    "    </style>\n",
    "    <img src=\"https://gitlab.tudelft.nl/mude/public/-/raw/main/tu-logo/TU_P1_full-color.png\" style=\"width:100px\" />\n",
    "    <img src=\"https://gitlab.tudelft.nl/mude/public/-/raw/main/mude-logo/MUDE_Logo-small.png\" style=\"width:100px\" />\n",
    "</h1>\n",
    "<h2 style=\"height: 10px\">\n",
    "</h2>\n",
    "\n",
    "*[CEGM1000 MUDE](http://mude.citg.tudelft.nl/): Week 2.2 Due: complete this PA prior to class on Friday, Nov 22, 2024.*"
   ]
  },
  {
   "cell_type": "markdown",
   "id": "7a28e541-d2d0-48a9-abf6-7b73075c8fd3",
   "metadata": {
    "tags": []
   },
   "source": [
    "This assignment will introduce you to the concept of sparse matrices in Python and how they can be useful to speed up computations and reduce file sizes. This is especially important when using the numerical schemes we are learning about (FDM, FVM, FEM) to solve problems with a lot of unknowns at each time step. To accomplish this, we will be using the `scipy.sparse` library.\n",
    "\n",
    "Keep the `scipy.sparse` [documentation](https://docs.scipy.org/doc/scipy/reference/sparse.html) handy. Some of the work you'll do is based off this [blog](https://www.sefidian.com/2021/04/28/python-scipy-sparse-matrices-explained/), so you may find it helpful. In addition, if you don't know what a byte is, you may want to read up on [Wikipdia here](https://en.wikipedia.org/wiki/Byte) (not all of it, as long as you recognize that it is a measure of storage space on a computer).The concepts you learn here are applied to the Finite Element Method in this [book chapter](https://mude.citg.tudelft.nl/book/fem/matrix.html), which you are expected to read during Week 2.2.\n",
    "\n",
    "**Note:** _you probably skipped over all the links in the paragraph above. While we forgive you for your haste, just remember to revisit some of them if you are struggling to finish the questions below!_\n"
   ]
  },
  {
   "cell_type": "code",
   "execution_count": null,
   "id": "a262eac1",
   "metadata": {
    "tags": []
   },
   "outputs": [],
   "source": [
    "import numpy as np\n",
    "import scipy.sparse as sparse\n",
    "import matplotlib.pyplot as plt\n",
    "import timeit"
   ]
  },
  {
   "cell_type": "markdown",
   "id": "c3cd5017-10e0-4b64-ad1a-b626d80a128a",
   "metadata": {
    "tags": []
   },
   "source": [
    "## Task 1: Why sparse?\n",
    "\n",
    "Some matrices have a lot of zeros, with such an example given below. When this is the case, the way we store the actual information of the matrix (the non-zero elements) can have a big impact on computation speed and storage demands. Formats which handle this by only storing non-zero elements are called sparse, and have very different internal representations of the data to the matrices you have been familiarized with in previous programming assignments.\n",
    "\n",
    "![Sparse matrix](images/sparse_matrix.png)"
   ]
  },
  {
   "cell_type": "markdown",
   "id": "f583dfa0-5a21-4ebb-99e5-7b27b323171d",
   "metadata": {},
   "source": [
    "<div style=\"background-color:#AABAB2; color: black; vertical-align: middle; padding:15px; margin: 10px; border-radius: 10px; width: 95%\">\n",
    "<p>\n",
    "<b>Task 1.1:</b>   \n",
    "\n",
    "First we will create a regular Numpy matrix to use as a starting point for making a sparse one.\n",
    "\n",
    "- Create a function (`create_dense`) which returns a square matrix of arbitrary size filled with zero and non-zero values between 0 and 1. \n",
    "- The function should take as input the size N (such that the matrix is N x N) and one float between 0 and 1, which represents the approximate fraction of the elements of the matrix which are non-zero.\n",
    "- Use <a href=\"https://numpy.org/doc/stable/reference/random/generated/numpy.random.rand.html\">numpy.random.rand</a> to create a random set of values between 0 and 1\n",
    "- Remove a portion of the values by using simple boolean expression to set the fraction specified by <code>percentage</code> to zero.\n",
    "</p>\n",
    "</div>"
   ]
  },
  {
   "cell_type": "markdown",
   "id": "2c707a48",
   "metadata": {},
   "source": [
    "<div style=\"background-color:#facb8e; color: black; vertical-align: middle; padding:15px; margin: 10px; border-radius: 10px; width: 95%\"> <p>Note that the function below uses colons <code>:</code> with argument type, as well as a <code>-></code> before closing the function definition line. This is called \"typing,\" which is a useful feature for helping to write code that behaves properly. In this PA you should use them like hints to help you write the functions and use them properly. If you are curious, read more <a href=\"https://docs.python.org/3/library/typing.html\" target=\"_blank\">here</a>.</p></div>"
   ]
  },
  {
   "cell_type": "code",
   "execution_count": null,
   "id": "1310dca9-dc46-4ab1-ab78-0a5389191cfc",
   "metadata": {
    "tags": []
   },
   "outputs": [],
   "source": [
    "# def create_dense(size: int, percentage: float) -> np.array:\n",
    "#     matrix = YOUR_CODE_HERE\n",
    "#     matrix[YOUR_CODE_HERE] = 0\n",
    "#     return matrix\n",
    "\n",
    "# SOLUTION\n",
    "def create_dense(size: int, percentage: float) -> np.array:\n",
    "    matrix = np.random.rand(size, size)\n",
    "    matrix[matrix > percentage] = 0\n",
    "    return matrix"
   ]
  },
  {
   "cell_type": "markdown",
   "id": "d670f274-ef24-4abd-86bf-3cd24e3cf5c5",
   "metadata": {},
   "source": [
    "Now, set up a test to check if you set the function up correctly:"
   ]
  },
  {
   "cell_type": "code",
   "execution_count": null,
   "id": "8f6a3117",
   "metadata": {
    "tags": []
   },
   "outputs": [],
   "source": [
    "# test_size = YOUR_CODE_HERE\n",
    "# test_percentage = YOUR_CODE_HERE\n",
    "# matrix = create_dense(test_size, test_percentage)\n",
    "# assert np.count_nonzero(matrix) < test_percentage*1.1*test_size**2\n",
    "\n",
    "# SOLUTION\n",
    "test_size = 1000\n",
    "test_percentage = 0.1\n",
    "matrix = create_dense(test_size, test_percentage)\n",
    "assert np.count_nonzero(matrix) < test_percentage*1.1*test_size**2"
   ]
  },
  {
   "cell_type": "markdown",
   "id": "0f3d9c79",
   "metadata": {},
   "source": [
    "<div style=\"background-color:#AABAB2; color: black; vertical-align: middle; padding:15px; margin: 10px; border-radius: 10px; width: 95%\">\n",
    "<p>\n",
    "<b>Task 1.2:</b>   \n",
    "Use <a href=\"https://numpy.org/doc/stable/reference/generated/numpy.ndarray.nbytes.html\">array.nbytes</a> to find out how much space a 1000x1000 matrix with 10% non-zero elements takes. Try to explain where this number came from! (Hint: the answer is in the assert statement)\n",
    "</p>\n",
    "</div>"
   ]
  },
  {
   "cell_type": "code",
   "execution_count": null,
   "id": "aa5a25f9",
   "metadata": {
    "tags": []
   },
   "outputs": [],
   "source": [
    "# my_matrix_size = YOUR_CODE_HERE\n",
    "# assert my_matrix_size == 8*test_size**2\n",
    "\n",
    "# SOLUTION\n",
    "my_matrix_size = matrix.nbytes\n",
    "assert my_matrix_size == 8*test_size**2"
   ]
  },
  {
   "cell_type": "markdown",
   "id": "912215f3",
   "metadata": {},
   "source": [
    "Next we will explore how to use `scipy.sparse`, and how this reduces the data size of the matrix. The [ documentation](https://docs.scipy.org/doc/scipy/reference/sparse.html) gives us many different types of formats to choose from, so we'll explore two of them: BSR (Block Sparse Row) and CSR (Compressed Sparse Row). "
   ]
  },
  {
   "cell_type": "markdown",
   "id": "25a832c8",
   "metadata": {},
   "source": [
    "<div style=\"background-color:#AABAB2; color: black; vertical-align: middle; padding:15px; margin: 10px; border-radius: 10px; width: 95%\">\n",
    "<p>\n",
    "<b>Task 1.3:</b>   \n",
    "    Complete the code below to make a CSR and BSR matrix from the <code>matrix</code> variable.\n",
    "</p>\n",
    "</div>"
   ]
  },
  {
   "cell_type": "code",
   "execution_count": null,
   "id": "29c0d2dc",
   "metadata": {
    "tags": []
   },
   "outputs": [],
   "source": [
    "# csr_matrix = YOUR_CODE_HERE\n",
    "# bsr_matrix = YOUR_CODE_HERE\n",
    "\n",
    "# SOLUTION\n",
    "csr_matrix = sparse.csr_array(matrix)\n",
    "bsr_matrix = sparse.bsr_array(matrix)"
   ]
  },
  {
   "cell_type": "markdown",
   "id": "56334ed7",
   "metadata": {},
   "source": [
    "Let's compare the new storage requirements and see how much of an improvement we got (it should approach the value used above for `test_percentage`, but not reach it exactly):"
   ]
  },
  {
   "cell_type": "markdown",
   "id": "bb4b15d3",
   "metadata": {},
   "source": [
    "<div style=\"background-color:#AABAB2; color: black; vertical-align: middle; padding:15px; margin: 10px; border-radius: 10px; width: 95%\">\n",
    "<p>\n",
    "<b>Task 1.4:</b>   \n",
    "    Run the code below and comment on the improvement and whether or not it reaches the target percentage of sparse values in the non-sparse matrix.\n",
    "</p>\n",
    "</div>"
   ]
  },
  {
   "cell_type": "code",
   "execution_count": null,
   "id": "a46df127",
   "metadata": {
    "tags": []
   },
   "outputs": [],
   "source": [
    "print(f\"CSR matrix size: {csr_matrix.data.size} bytes\")\n",
    "print(f\"Compared to the normal matrix, CSR uses this \"\n",
    "      +f\"fraction of space: {csr_matrix.data.nbytes/my_matrix_size:0.6f}\")\n",
    "print(f\"BSR matrix size: {bsr_matrix.data.size} bytes\")\n",
    "print(f\"Compared to the normal matrix, BSR uses this \"\n",
    "      +f\"fraction of space: {bsr_matrix.data.nbytes/my_matrix_size:0.6f}\")"
   ]
  },
  {
   "cell_type": "markdown",
   "id": "69dc3b5c",
   "metadata": {},
   "source": [
    "<div style=\"background-color:#FAE99E; color: black; vertical-align: middle; padding:15px; margin: 10px; border-radius: 10px; width: 95%\">\n",
    "<p>\n",
    "<b>Solution:</b>   \n",
    "\n",
    "As we can see in the output, the sparse methods reduce the size of the matrix by about 10x than the non-sparse method. This is nearly identical to the target percentage!\n",
    "</p>\n",
    "</div>"
   ]
  },
  {
   "cell_type": "markdown",
   "id": "f832b8e0",
   "metadata": {},
   "source": [
    "## Task 2: [What is love?](https://www.youtube.com/watch?v=HEXWRTEbj1I)\n",
    "\n",
    "Let's look into a small example of how sparse matrices can also help improve calculation speeds. We'll study the mysterious case of a massive friend group with a concerning love circle and how we can predict how each person feels with respect to the other. This is quantified by the amount of love, $n_i$, that is \"felt\" by person $i$. In fact, the feelings grow stronger with time, which means they can be described with a simple differential relationship between _neighbors_, where each person in the group is happy when the other is sad, but the opposite is true for the other person, which can be defined like this: \n",
    "\n",
    "$$\n",
    "\\begin{pmatrix}\n",
    "\\cfrac{dn_1}{dt}\\\\\n",
    "\\cfrac{dn_2}{dt} \\\\\n",
    "\\end{pmatrix} \n",
    "=\n",
    "\\begin{pmatrix}\n",
    "0 & 1\\\\\n",
    "-1 & 0 \\\\\n",
    "\\end{pmatrix} \n",
    "\\begin{pmatrix}\n",
    "n_1\\\\\n",
    "n_2 \\\\\n",
    "\\end{pmatrix} \n",
    "$$\n",
    "\n",
    "So in this case, person 2 doesn't like it when person 1 is happy but person 2 likes it when person 1 is happy. If we extend this to a four case scenario we'd get the following matrix:\n",
    "$$\n",
    "\\begin{pmatrix}\n",
    "\\cfrac{dn_1}{dt}\\\\\n",
    "\\cfrac{dn_2}{dt}\\\\\n",
    "\\cfrac{dn_3}{dt}\\\\\n",
    "\\cfrac{dn_4}{dt}\\\\\n",
    "\\end{pmatrix} \n",
    "=\n",
    "\\begin{pmatrix}\n",
    "0  & 1  & 0 & -1 \\\\\n",
    "-1 & 0  & 1 & 0  \\\\\n",
    "0  & -1 & 0 & 1  \\\\\n",
    "1  & 0  & -1 & 0  \\\\\n",
    "\\end{pmatrix} \n",
    "\\begin{pmatrix}\n",
    "n_1 \\\\\n",
    "n_2 \\\\\n",
    "n_3 \\\\\n",
    "n_4 \\\\\n",
    "\\end{pmatrix} \n",
    "$$\n",
    "\n",
    "Now we can see how everyone's feelings towards each other are...complicated!\n",
    "\n",
    "What happens if we extend it to even more people? The pattern persists, but importantly: _if the group gets very large, we will be storing a lot of useless information, all the 0's between the 1's!_\n",
    "\n",
    "OK, so maybe this is a silly example, but it creates a problem that is actually very similar to how we use individual elements to construct a global system of equations to solve in the Finite Element Method!\n",
    "\n",
    "We can easily operationalize the procedure of _constructing_ this matrix using the method `ix_`, for which a simple example is provided in the code cell below (this example is generic to illustrate `ix_` usage and is not related to the love circle!):"
   ]
  },
  {
   "cell_type": "markdown",
   "id": "eeeac139",
   "metadata": {},
   "source": [
    "<div style=\"background-color:#AABAB2; color: black; vertical-align: middle; padding:15px; margin: 10px; border-radius: 10px; width: 95%\">\n",
    "<p>\n",
    "<b>Task 2.0:</b>   \n",
    " \n",
    "Read and modify the code cell below until you are confident you understand how the <code>ix_</code> method works.\n",
    "\n",
    "</p>\n",
    "</div>"
   ]
  },
  {
   "cell_type": "code",
   "execution_count": null,
   "id": "77f295f5",
   "metadata": {
    "tags": []
   },
   "outputs": [],
   "source": [
    "blank = np.zeros(shape=(4, 4))\n",
    "blueprint = np.array([[0, 0.5], \n",
    "                      [1, 0.5]])\n",
    "\n",
    "for i in range(2):\n",
    "    # First argument will be used for rows\n",
    "    # Second for columns\n",
    "    blank[np.ix_([i*2, i*2 + 1], [1, 2])] = blueprint\n",
    "    \n",
    "print(blank)"
   ]
  },
  {
   "cell_type": "markdown",
   "id": "4acb01e5",
   "metadata": {},
   "source": [
    "Now we return to the love triangle problem and try to construct the matrix for a large group using `ix_`."
   ]
  },
  {
   "cell_type": "markdown",
   "id": "7a73f37b-6763-4d1c-92b8-994aa28f8ff6",
   "metadata": {},
   "source": [
    "<div style=\"background-color:#AABAB2; color: black; vertical-align: middle; padding:15px; margin: 10px; border-radius: 10px; width: 95%\">\n",
    "<p>\n",
    "<b>Task 2.1:</b>   \n",
    "Generate the matrix <code>relationship</code> for the differential equation for 1000 people. Use the <a href=\"https://numpy.org/doc/stable/reference/generated/numpy.ix_.html\"><code>numpy.ix_</code></a> function to make your life easier.\n",
    "\n",
    "Note that we have already provided an easy way to place the smaller sub-matrices in the right place.\n",
    "</p>\n",
    "</div>"
   ]
  },
  {
   "cell_type": "code",
   "execution_count": null,
   "id": "b622c84f",
   "metadata": {
    "tags": []
   },
   "outputs": [],
   "source": [
    "# N = 1000\n",
    "# relationship = np.zeros(shape=(N, N))\n",
    "\n",
    "# YOUR_CODE_HERE\n",
    "\n",
    "# for i in range(N):\n",
    "#     relationship[np.ix_([i, (i+1)%N], [i, (i+1)%N])] = YOUR_CODE_HERE\n",
    "\n",
    "# SOLUTION\n",
    "N = 1000\n",
    "relationship = np.zeros(shape=(N, N))\n",
    "\n",
    "general = np.array([[0, 1], [-1, 0]])\n",
    "\n",
    "for i in range(N):\n",
    "    relationship[np.ix_([i, (i+1)%N], [i, (i+1)%N])] = general"
   ]
  },
  {
   "cell_type": "markdown",
   "id": "28b9a66f",
   "metadata": {},
   "source": [
    "Remember `plt.matshow()`? We used this back in Q1 to visualize the contents of a matrix. Try it now to see if we build this matrix correctly with `ix_`."
   ]
  },
  {
   "cell_type": "markdown",
   "id": "11c4eb64",
   "metadata": {},
   "source": [
    "<div style=\"background-color:#AABAB2; color: black; vertical-align: middle; padding:15px; margin: 10px; border-radius: 10px; width: 95%\">\n",
    "<p>\n",
    "<b>Task 2.2:</b>   \n",
    "    Use <code>plt.matshow()</code> to view the contents of the matrix <code>relationship</code>.\n",
    "</p>\n",
    "</div>"
   ]
  },
  {
   "cell_type": "code",
   "execution_count": null,
   "id": "2cd01702",
   "metadata": {},
   "outputs": [],
   "source": [
    "# plt.matshow(YOUR_CODE_HERE)\n",
    "\n",
    "# SOLUTION\n",
    "plt.matshow(relationship)"
   ]
  },
  {
   "cell_type": "markdown",
   "id": "dc948f50",
   "metadata": {},
   "source": [
    " Note that since the matrix is huge, we have to look at only a small subset of it in order to see its contents; try changing the indices of the plotted values to get a better view."
   ]
  },
  {
   "cell_type": "markdown",
   "id": "ca159fe4",
   "metadata": {},
   "source": [
    "<div style=\"background-color:#AABAB2; color: black; vertical-align: middle; padding:15px; margin: 10px; border-radius: 10px; width: 95%\">\n",
    "<p>\n",
    "<b>Task 2.3:</b>   \n",
    "    Try again, but look at a subset of the matrix!\n",
    "</p>\n",
    "</div>"
   ]
  },
  {
   "cell_type": "code",
   "execution_count": null,
   "id": "8ae5a340",
   "metadata": {},
   "outputs": [],
   "source": [
    "# plt.matshow(YOUR_CODE_HERE)\n",
    "\n",
    "# SOLUTION\n",
    "plt.matshow(relationship[0:10,0:10])"
   ]
  },
  {
   "cell_type": "markdown",
   "id": "526706d5",
   "metadata": {},
   "source": [
    "Finally, we are going to use the forward Euler method to simulate this differential equation for a total of 5 seconds over 1000 iterations. This has already been implemented in the `test` method."
   ]
  },
  {
   "cell_type": "markdown",
   "id": "9f128b80",
   "metadata": {},
   "source": [
    "<div style=\"background-color:#AABAB2; color: black; vertical-align: middle; padding:15px; margin: 10px; border-radius: 10px; width: 95%\">\n",
    "<p>\n",
    "<b>Task 2.4:</b>   \n",
    "Find the time it takes to evaluate the relationship using <code>timeit</code> by entering the function you wish to evaluate as a string.\n",
    "\n",
    "HINT: you have already learned how to convert a matrix into a sparse format, and the function is defined for you. Run the code cell and compare the performances of the different matrix formats. Which one is faster? How much space do they take?\n",
    "</p>\n",
    "</div>"
   ]
  },
  {
   "cell_type": "code",
   "execution_count": null,
   "id": "0a8f83b9",
   "metadata": {
    "tags": []
   },
   "outputs": [],
   "source": [
    "# N_ITS = 1000\n",
    "# T = 5 # Seconds\n",
    "# dt = T/N_ITS\n",
    "\n",
    "# def test(rel_matrix):\n",
    "#     state = np.zeros(N)\n",
    "#     state[0] = 1\n",
    "#     for i in range(N_ITS):\n",
    "#         state = state + rel_matrix @ state * dt\n",
    "\n",
    "# csr_matrix = YOUR_CODE_HERE\n",
    "# bsr_matrix = YOUR_CODE_HERE\n",
    "# print(f\"Standard: {timeit.timeit('test(relationship)',\n",
    "#                                  globals=globals(),\n",
    "#                                  number=10)/10:.4f}\")\n",
    "# print(f\"CSR: {timeit.timeit('test(csr_matrix)',\n",
    "#                             globals=globals(),\n",
    "#                             number=10)/10:.4f}\")\n",
    "# print(f\"BSR: {timeit.timeit('test(bsr_matrix)',\n",
    "#                             globals=globals(),\n",
    "#                             number=10)/10:.4f}\")\n",
    "    \n",
    "\n",
    "# SOLUTION\n",
    "N_ITS = 1000\n",
    "T = 5 # Seconds\n",
    "dt = T/N_ITS\n",
    "\n",
    "def test(rel_matrix):\n",
    "    state = np.zeros(N)\n",
    "    state[0] = 1\n",
    "    for i in range(N_ITS):\n",
    "        state = state + rel_matrix @ state * dt\n",
    "\n",
    "csr_matrix = sparse.csr_array(relationship)\n",
    "bsr_matrix = sparse.bsr_array(relationship)\n",
    "print(f\"Standard: {timeit.timeit('test(relationship)',\n",
    "                                 globals=globals(),\n",
    "                                 number=10)/10:.4f}\")\n",
    "print(f\"CSR: {timeit.timeit('test(csr_matrix)',\n",
    "                            globals=globals(),\n",
    "                            number=10)/10:.4f}\")\n",
    "print(f\"BSR: {timeit.timeit('test(bsr_matrix)',\n",
    "                            globals=globals(),\n",
    "                            number=10)/10:.4f}\")"
   ]
  },
  {
   "cell_type": "markdown",
   "id": "a843ae4f",
   "metadata": {},
   "source": [
    "<div style=\"background-color:#AABAB2; color: black; vertical-align: middle; padding:15px; margin: 10px; border-radius: 10px; width: 95%\">\n",
    "<p>\n",
    "<b>Task 2.5:</b>   \n",
    "\n",
    "What is the change in performance by using the sparse matrices?\n",
    "\n",
    "</p>\n",
    "</div>"
   ]
  },
  {
   "cell_type": "markdown",
   "id": "50d74c04",
   "metadata": {},
   "source": [
    "_Your answer here._"
   ]
  },
  {
   "cell_type": "markdown",
   "id": "7d572557",
   "metadata": {},
   "source": [
    "<div style=\"background-color:#FAE99E; color: black; vertical-align: middle; padding:15px; margin: 10px; border-radius: 10px; width: 95%\">\n",
    "<p>\n",
    "<b>Solution:</b>   \n",
    "\n",
    "As we can see in the output, the sparse methods perform similarly, each around 10x faster than the non-sparse method.\n",
    "</p>\n",
    "</div>"
   ]
  },
  {
   "cell_type": "markdown",
   "id": "920bab21",
   "metadata": {},
   "source": [
    "One final consideration when using sparse matrices is that it can take a long time to generate them from a regular matrix. You can test this out by placing the matrix generation inside or outside the <code>timeit</code> code to compare their performances. Try it!"
   ]
  },
  {
   "cell_type": "markdown",
   "id": "bf4fdf38",
   "metadata": {},
   "source": [
    "**End of notebook.**\n",
    "<h2 style=\"height: 60px\">\n",
    "</h2>\n",
    "<h3 style=\"position: absolute; display: flex; flex-grow: 0; flex-shrink: 0; flex-direction: row-reverse; bottom: 60px; right: 50px; margin: 0; border: 0\">\n",
    "    <style>\n",
    "        .markdown {width:100%; position: relative}\n",
    "        article { position: relative }\n",
    "    </style>\n",
    "    <a rel=\"license\" href=\"http://creativecommons.org/licenses/by/4.0/\">\n",
    "      <img alt=\"Creative Commons License\" style=\"border-width:; width:88px; height:auto; padding-top:10px\" src=\"https://i.creativecommons.org/l/by/4.0/88x31.png\" />\n",
    "    </a>\n",
    "    <a rel=\"TU Delft\" href=\"https://www.tudelft.nl/en/ceg\">\n",
    "      <img alt=\"TU Delft\" style=\"border-width:0; width:100px; height:auto; padding-bottom:0px\" src=\"https://gitlab.tudelft.nl/mude/public/-/raw/main/tu-logo/TU_P1_full-color.png\" />\n",
    "    </a>\n",
    "    <a rel=\"MUDE\" href=\"http://mude.citg.tudelft.nl/\">\n",
    "      <img alt=\"MUDE\" style=\"border-width:0; width:100px; height:auto; padding-bottom:0px\" src=\"https://gitlab.tudelft.nl/mude/public/-/raw/main/mude-logo/MUDE_Logo-small.png\" />\n",
    "    </a>\n",
    "    \n",
    "</h3>\n",
    "<span style=\"font-size: 75%\">\n",
    "&copy; Copyright 2024 <a rel=\"MUDE\" href=\"http://mude.citg.tudelft.nl/\">MUDE</a> TU Delft. This work is licensed under a <a rel=\"license\" href=\"http://creativecommons.org/licenses/by/4.0/\">CC BY 4.0 License</a>."
   ]
  }
 ],
 "metadata": {
  "kernelspec": {
   "display_name": "mude-base",
   "language": "python",
   "name": "python3"
  },
  "language_info": {
   "codemirror_mode": {
    "name": "ipython",
    "version": 3
   },
   "file_extension": ".py",
   "mimetype": "text/x-python",
   "name": "python",
   "nbconvert_exporter": "python",
   "pygments_lexer": "ipython3",
   "version": "undefined.undefined.undefined"
  },
  "widgets": {
   "application/vnd.jupyter.widget-state+json": {
    "state": {},
    "version_major": 2,
    "version_minor": 0
   }
  }
 },
 "nbformat": 4,
 "nbformat_minor": 5
}
