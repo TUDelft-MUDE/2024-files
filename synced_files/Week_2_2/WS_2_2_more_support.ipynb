{
 "cells": [
  {
   "cell_type": "markdown",
   "id": "e9d1ff8c",
   "metadata": {},
   "source": [
    "# WS 2.2: More support\n",
    "\n",
    "<h1 style=\"position: absolute; display: flex; flex-grow: 0; flex-shrink: 0; flex-direction: row-reverse; top: 60px;right: 30px; margin: 0; border: 0\">\n",
    "    <style>\n",
    "        .markdown {width:100%; position: relative}\n",
    "        article { position: relative }\n",
    "    </style>\n",
    "    <img src=\"https://gitlab.tudelft.nl/mude/public/-/raw/main/tu-logo/TU_P1_full-color.png\" style=\"width:100px\" />\n",
    "    <img src=\"https://gitlab.tudelft.nl/mude/public/-/raw/main/mude-logo/MUDE_Logo-small.png\" style=\"width:100px\" />\n",
    "</h1>\n",
    "<h2 style=\"height: 10px\">\n",
    "</h2>\n",
    "\n",
    "*[CEGM1000 MUDE](http://mude.citg.tudelft.nl/): Week 2.2. For: 20 November, 2024*"
   ]
  },
  {
   "cell_type": "markdown",
   "id": "576445ba-cfe4-4c22-acbf-5d5fc6d0da1c",
   "metadata": {},
   "source": [
    "In the book, the finite element derivation and implementation of rod extension (the 1D Poisson equation) is presented. In this workshop, you are asked to do the same for a slightly different problem.\n",
    "\n",
    "## Part 1: A modification to the PDE: continuous elastic support\n",
    "\n",
    "<p align=\"center\">\n",
    "<img src=\"https://raw.githubusercontent.com/fmeer/public-files/main/barDefinition-2.png\" width=\"400\"/>\n",
    "</p>\n",
    "\n",
    "For this exercise we still consider a 1D rod. However, now the rod is elastically supported. An example of this would be a foundation pile in soil. \n",
    "\n",
    "The problem of an elastically supported rod can be described with the following differential equation:\n",
    "\n",
    "$$ -EA \\frac{\\partial^2 u}{\\partial x^2} + ku = f $$\n",
    "\n",
    "with:\n",
    "\n",
    "$$\n",
    "u = 0, \\quad \\text{at} \\quad x = 0 \\\\\n",
    "EA\\frac{\\partial u}{{\\partial x}} = F, \\quad \\text{at} \\quad x = L\n",
    "$$\n",
    "\n",
    "This differential equation is the inhomogeneous Helmholtz equation, which also has applications in dynamics and electromagnetics. The additional term with respect to the case without elastic support is the second term on the left hand side: $ku$. \n",
    "\n",
    "The finite element discretized version of this PDE can be obtained following the same steps as shown for the unsupported rod in the book. Note that there are no derivatives in the $ku$ which means that integration by parts does not need to be applied on this term. Using Neumann boundary condition (i.e. an applied load) at $x=L$ and a constant distributed load $f(x)=q$, the following expression is found for the discretized form:\n",
    "\n",
    "$$\\left[\\int \\mathbf{B}^T EA \\mathbf{B} + \\mathbf{N}^T k \\mathbf{N} \\,dx\\right]\\mathbf{u} = \\int \\mathbf{N}^T q \\,d x + \\mathbf{N}^T F \\Bigg|_{x=L} $$"
   ]
  },
  {
   "cell_type": "markdown",
   "id": "nonprofit-solution",
   "metadata": {
    "tags": []
   },
   "source": [
    "<div style=\"background-color:#AABAB2; color: black; vertical-align: middle; padding:15px; margin: 10px; border-radius: 10px; width: 95%\">\n",
    "<p>\n",
    "<b>Task 1: Derive the discrete form</b>   \n",
    "\n",
    "Derive the discrete form of the PDE given above. You can follow the same steps as in the book for the term with $EA$ and the right hand side, but now carrying along the additional term $ku$ from the PDE. Show that this term leads to the $\\int\\mathbf{N}^Tk\\mathbf{N}\\,dx$ term in the $\\mathbf{K}$-matrix. \n",
    "</p>\n",
    "</div>"
   ]
  },
  {
   "cell_type": "markdown",
   "id": "f4805906",
   "metadata": {},
   "source": [
    "***Your derivation here***"
   ]
  },
  {
   "cell_type": "markdown",
   "id": "6240afb2-28a3-49c4-b3d2-fb53ea110b99",
   "metadata": {},
   "source": [
    "## Part 2: Modification to the FE implementation\n",
    "\n",
    "The only change with respect to the procedure as implemented in the book is the formulation of the $\\mathbf{K}$-matrix, which now consists of two terms:\n",
    "\n",
    "$$ \\mathbf{K} = \\int \\mathbf{B}^TEA\\mathbf{B} + \\mathbf{N}^Tk\\mathbf{N}\\,dx $$\n",
    "\n",
    "To calculate the integral exactly we must use two integration points.\n",
    "\n",
    "$$ \\mathbf{K_e} = \\sum_{i=1}^{n_\\mathrm{ip}} \\left(\\mathbf{B}^T(x_i)EA\\mathbf{B}(x_i) + \\mathbf{N}^T(x_i) k\\mathbf{N}(x_i) \\right) w_i$$"
   ]
  },
  {
   "cell_type": "markdown",
   "id": "f247cc75-caa2-47b7-8fe8-80f8521f7d8c",
   "metadata": {},
   "source": [
    "<div style=\"background-color:#AABAB2; color: black; vertical-align: middle; padding:15px; margin: 10px; border-radius: 10px; width: 95%\">\n",
    "<p>\n",
    "<b>Task 2: Code implementation</b>   \n",
    "\n",
    "The only change needed with respect to the implementation of the book is in the calculation of the element stiffness matrix. Copy the code from the book and add the term related to the distributed support in the right position. \n",
    "    \n",
    "Use the following parameters: $L=3\\text{ m}$, $EA=1000\\text{ N}$, $F=10\\text{ N}$, $q=0 \\text{ N/m}$ (all values are the same as in the book, except for $q$). Additionally, use $k=1000\\text{ N/m}^2$.\n",
    "\n",
    "Remarks:\n",
    "\n",
    "- The function <code>evaluate_N</code> is already present in the code in the book\n",
    "- The <code>get_element_matrix</code> function already included a loop over two integration points\n",
    "- You need to define $k$ somewhere. To allow for varying $k$ as required below, it is convenient to make $k$ a second argument of the <code>simulate</code> function and pass it on to lower level functions from there (cf. how $EA$ is passed on)\n",
    "\n",
    "Check the influence of the distributed support on the solution:\n",
    "\n",
    "- First use $q=0$ N/m and $k=1000$ N/$mm^2$\n",
    "- Then set $k$ to zero and compare the results\n",
    "- Does the influence of the supported spring on the solution make sense?\n",
    "</p>\n",
    "\n",
    "</div>\n",
    "\n"
   ]
  },
  {
   "cell_type": "code",
   "execution_count": null,
   "id": "retired-cartoon",
   "metadata": {},
   "outputs": [],
   "source": [
    "# YOUR_CODE_HERE"
   ]
  },
  {
   "cell_type": "markdown",
   "id": "20bcac74-1918-4c5e-bd17-148829c7ef8f",
   "metadata": {},
   "source": [
    "<div style=\"background-color:#AABAB2; color: black; vertical-align: middle; padding:15px; margin: 10px; border-radius: 10px; width: 95%\">\n",
    "\n",
    "<p>\n",
    "\n",
    "<b>Task 3: Investigate the influence of discretization on the quality of the solution</b>\n",
    "\n",
    "- How many elements do you need to get a good solution?\n",
    "- How about when the stiffness of the distributed support is increased to $k=10^6$ N/$m^2$ ?\n",
    "</p>\n",
    "\n",
    "Simulate and plot different cases for each of the above questions.\n",
    "</div>"
   ]
  },
  {
   "cell_type": "code",
   "execution_count": null,
   "id": "e35e64ac-5e72-4575-bbb1-371fa524a747",
   "metadata": {},
   "outputs": [],
   "source": [
    "# YOUR_CODE_HERE"
   ]
  },
  {
   "cell_type": "code",
   "execution_count": null,
   "id": "936a7ebd-262b-457c-9c3f-8ab3196b7c26",
   "metadata": {},
   "outputs": [],
   "source": [
    "# YOUR_CODE_HERE"
   ]
  },
  {
   "cell_type": "markdown",
   "id": "7ac81786",
   "metadata": {},
   "source": [
    "**End of notebook.**\n",
    "<h2 style=\"height: 60px\">\n",
    "</h2>\n",
    "<h3 style=\"position: absolute; display: flex; flex-grow: 0; flex-shrink: 0; flex-direction: row-reverse; bottom: 60px; right: 50px; margin: 0; border: 0\">\n",
    "    <style>\n",
    "        .markdown {width:100%; position: relative}\n",
    "        article { position: relative }\n",
    "    </style>\n",
    "    <a rel=\"license\" href=\"http://creativecommons.org/licenses/by/4.0/\">\n",
    "      <img alt=\"Creative Commons License\" style=\"border-width:; width:88px; height:auto; padding-top:10px\" src=\"https://i.creativecommons.org/l/by/4.0/88x31.png\" />\n",
    "    </a>\n",
    "    <a rel=\"TU Delft\" href=\"https://www.tudelft.nl/en/ceg\">\n",
    "      <img alt=\"TU Delft\" style=\"border-width:0; width:100px; height:auto; padding-bottom:0px\" src=\"https://gitlab.tudelft.nl/mude/public/-/raw/main/tu-logo/TU_P1_full-color.png\" />\n",
    "    </a>\n",
    "    <a rel=\"MUDE\" href=\"http://mude.citg.tudelft.nl/\">\n",
    "      <img alt=\"MUDE\" style=\"border-width:0; width:100px; height:auto; padding-bottom:0px\" src=\"https://gitlab.tudelft.nl/mude/public/-/raw/main/mude-logo/MUDE_Logo-small.png\" />\n",
    "    </a>\n",
    "    \n",
    "</h3>\n",
    "<span style=\"font-size: 75%\">\n",
    "&copy; Copyright 2024 <a rel=\"MUDE\" href=\"http://mude.citg.tudelft.nl/\">MUDE</a> TU Delft. This work is licensed under a <a rel=\"license\" href=\"http://creativecommons.org/licenses/by/4.0/\">CC BY 4.0 License</a>."
   ]
  }
 ],
 "metadata": {
  "language_info": {
   "name": "python"
  }
 },
 "nbformat": 4,
 "nbformat_minor": 5
}
