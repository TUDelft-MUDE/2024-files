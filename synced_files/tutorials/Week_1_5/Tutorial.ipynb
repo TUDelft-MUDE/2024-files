{
 "cells": [
  {
   "cell_type": "markdown",
   "metadata": {},
   "source": [
    "# Week 1.5: Programming Tutorial\n",
    "\n",
    "<h1 style=\"position: absolute; display: flex; flex-grow: 0; flex-shrink: 0; flex-direction: row-reverse; top: 60px;right: 30px; margin: 0; border: 0\">\n",
    "    <style>\n",
    "        .markdown {width:100%; position: relative}\n",
    "        article { position: relative }\n",
    "    </style>\n",
    "    <img src=\"https://gitlab.tudelft.nl/mude/public/-/raw/main/tu-logo/TU_P1_full-color.png\" style=\"width:100px\" />\n",
    "    <img src=\"https://gitlab.tudelft.nl/mude/public/-/raw/main/mude-logo/MUDE_Logo-small.png\" style=\"width:100px\" />\n",
    "</h1>\n",
    "<h2 style=\"height: 10px\">\n",
    "</h2>\n",
    "\n",
    "*[CEGM1000 MUDE](http://mude.citg.tudelft.nl/): Week 1.5. September 30, 2024.*\n",
    "\n",
    "_This notebook was prepared by Berend Bouvy and used in an in-class demonstration on Monday._"
   ]
  },
  {
   "cell_type": "markdown",
   "metadata": {},
   "source": [
    "## Objects"
   ]
  },
  {
   "cell_type": "code",
   "execution_count": null,
   "metadata": {},
   "outputs": [],
   "source": [
    "import numpy as np\n",
    "import matplotlib.pyplot as plt\n",
    "import os"
   ]
  },
  {
   "cell_type": "code",
   "execution_count": null,
   "metadata": {},
   "outputs": [],
   "source": [
    "# Objective: Create a variable of each type in Python\n",
    "int_var = #TODO: create an integer variable\n",
    "float_var = #TODO: create a float variable\n",
    "bool_var = #TODO: create a boolean variable\n",
    "str_var = #TODO: create a string variable\n",
    "list_var = #TODO: create a list variable\n",
    "tuple_var = #TODO: create a tuple variable\n",
    "dict_var = #TODO: create a dictionary variable\n",
    "\n",
    "\n",
    "# Asserts\n",
    "assert type(int_var) == int, f'Expected int but got {type(int_var)}'            # This will throw an error if the type is incorrect\n",
    "assert type(float_var) == float, f'Expected float but got {type(float_var)}'    # This will throw an error if the type is incorrect\n",
    "assert type(bool_var) == bool, f'Expected bool but got {type(bool_var)}'        # This will throw an error if the type is incorrect\n",
    "assert type(str_var) == str, f'Expected str but got {type(str_var)}'            # This will throw an error if the type is incorrect\n",
    "assert type(list_var) == list, f'Expected list but got {type(list_var)}'        # This will throw an error if the type is incorrect\n",
    "assert type(tuple_var) == tuple, f'Expected tuple but got {type(tuple_var)}'    # This will throw an error if the type is incorrect\n",
    "assert type(dict_var) == dict, f'Expected dict but got {type(dict_var)}'        # This will throw an error if the type is incorrect\n",
    "\n",
    "\n"
   ]
  },
  {
   "cell_type": "code",
   "execution_count": null,
   "metadata": {},
   "outputs": [],
   "source": [
    "# relative path vs absolute path\n",
    "# relative path: relative to the current working directory\n",
    "# absolute path: full path from the root directory\n",
    "\n",
    "# Create a variable that contains the current working directory using the os module\n",
    "cwd = #TODO: get the current working directory\n",
    "print(cwd)\n",
    "\n",
    "# Get all the files in the current working directory\n",
    "files = #TODO: get all the files in the current working directory\n",
    "print(files)\n",
    "\n",
    "# find path to data in data folder\n",
    "data_dir = #TODO: find the path to the data folder\n",
    "print(data_dir)\n",
    "\n",
    "# read the data using absolute path and relative path\n",
    "data_abs = #TODO: read the data using absolute path\n",
    "data_rel = #TODO: read the data using relative path\n",
    "\n",
    "# Asserts\n",
    "assert data_abs == data_rel, 'Data read using absolute path and relative path are not the same' # This will throw an error if the data is not the same\n"
   ]
  },
  {
   "cell_type": "markdown",
   "metadata": {},
   "source": [
    "$$ H_n = \\sum_{k=1}^{n} \\frac{1}{k} $$"
   ]
  },
  {
   "cell_type": "code",
   "execution_count": null,
   "metadata": {},
   "outputs": [],
   "source": [
    "def harmonic_series(n):\n",
    "    \"\"\"\n",
    "    This function calculates the harmonic series of n\n",
    "    \"\"\"\n",
    "    result = #TODO: calculate the harmonic series of n\n",
    "    return result\n",
    "\n",
    "# Plotting\n",
    "n = 100\n",
    "x = #TODO: create a list of n values from 1 to n\n",
    "y = #TODO: calculate the harmonic series of x, using list comprehension\n",
    "\n",
    "#TODO: plot x and y, with labels and title\n",
    "\n",
    "# asserts\n",
    "assert harmonic_series(1) == 1, f'Expected 1 but got {harmonic_series(1)}'\n",
    "assert harmonic_series(2) == 1.5, f'Expected 1.5 but got {harmonic_series(2)}'\n",
    "assert harmonic_series(3) == 1.8333333333333333, f'Expected 1.8333333333333333 but got {harmonic_series(3)}'\n",
    "\n",
    "# save x, y data\n",
    "data = #TODO: create a 2D array with x and y using np.column_stack()\n",
    "#TODO: save data to a csv file"
   ]
  },
  {
   "cell_type": "markdown",
   "metadata": {},
   "source": [
    "[Wikipedia: Fibonacci sequence](https://en.wikipedia.org/wiki/Fibonacci_sequence)\n",
    "\n",
    "\n",
    "$$ F_n = F_{n-1} + F_{n-2} \\quad \\text{for} \\quad n \\geq 2 \\quad \\text{with} \\quad F_0 = 0, \\quad F_1 = 1$$\n"
   ]
  },
  {
   "cell_type": "code",
   "execution_count": null,
   "metadata": {},
   "outputs": [],
   "source": [
    "def fibonacci(n):\n",
    "    \"\"\"\n",
    "    This function will return the n-th numbers of the fibonacci sequence\n",
    "    \"\"\"\n",
    "    #TODO: calculate the n-th number of the fibonacci sequence\n",
    "    return result\n",
    "\n",
    "# Asserts\n",
    "assert fibonacci(0) == 0, f'Expected 0 but got {fibonacci(0)}'    # This will throw an error if the result is incorrect \n",
    "assert fibonacci(1) == 1, f'Expected 1 but got {fibonacci(1)}'    # This will throw an error if the result is incorrect\n",
    "assert fibonacci(2) == 1, f'Expected 1 but got {fibonacci(2)}'    # This will throw an error if the result is incorrect\n",
    "assert fibonacci(3) == 2, f'Expected 2 but got {fibonacci(3)}'    # This will throw an error if the result is incorrect"
   ]
  },
  {
   "cell_type": "code",
   "execution_count": null,
   "metadata": {},
   "outputs": [],
   "source": [
    "def fib_sequence(n):\n",
    "    \"\"\"\n",
    "    This function will return the first n numbers of the fibonacci sequence\n",
    "    \"\"\"\n",
    "    # result = #TODO: calculate the first n numbers of the fibonacci sequence\n",
    "    result = [0, 1]\n",
    "    if n == 0:\n",
    "        return []\n",
    "    elif n == 1:\n",
    "        return [0]\n",
    "    for i in range(2, n):\n",
    "        result.append(result[-1] + result[-2])\n",
    "    return result\n",
    "\n",
    "# Asserts\n",
    "assert fib_sequence(0) == [], f'Expected [] but got {fib_sequence(0)}'                              # This will throw an error if the result is incorrect\n",
    "assert fib_sequence(1) == [0], f'Expected [0] but got {fib_sequence(1)}'                            # This will throw an error if the result is incorrect\n",
    "assert fib_sequence(2) == [0, 1], f'Expected [0, 1] but got {fib_sequence(2)}'                      # This will throw an error if the result is incorrect\n",
    "assert fib_sequence(3) == [0, 1, 1], f'Expected [0, 1, 1] but got {fib_sequence(3)}'                # This will throw an error if the result is incorrect\n",
    "assert fib_sequence(4) == [0, 1, 1, 2], f'Expected [0, 1, 1, 2] but got {fib_sequence(4)}'          # This will throw an error if the result is incorrect\n",
    "assert fib_sequence(5) == [0, 1, 1, 2, 3], f'Expected [0, 1, 1, 2, 3] but got {fib_sequence(5)}'    # This will throw an error if the result is incorrect\n"
   ]
  },
  {
   "cell_type": "markdown",
   "metadata": {},
   "source": [
    "**End of notebook.**\n",
    "\n",
    "<div style=\"margin-top: 50px; padding-top: 20px; border-top: 1px solid #ccc;\">\n",
    "  <div style=\"display: flex; justify-content: flex-end; gap: 20px; align-items: center;\">\n",
    "    <a rel=\"MUDE\" href=\"http://mude.citg.tudelft.nl/\">\n",
    "      <img alt=\"MUDE\" style=\"width:100px; height:auto;\" src=\"https://gitlab.tudelft.nl/mude/public/-/raw/main/mude-logo/MUDE_Logo-small.png\" />\n",
    "    </a>\n",
    "    <a rel=\"TU Delft\" href=\"https://www.tudelft.nl/en/ceg\">\n",
    "      <img alt=\"TU Delft\" style=\"width:100px; height:auto;\" src=\"https://gitlab.tudelft.nl/mude/public/-/raw/main/tu-logo/TU_P1_full-color.png\" />\n",
    "    </a>\n",
    "    <a rel=\"license\" href=\"http://creativecommons.org/licenses/by/4.0/\">\n",
    "      <img alt=\"Creative Commons License\" style=\"width:88px; height:auto;\" src=\"https://i.creativecommons.org/l/by/4.0/88x31.png\" />\n",
    "    </a>\n",
    "  </div>\n",
    "  <div style=\"font-size: 75%; margin-top: 10px; text-align: right;\">\n",
    "    &copy; Copyright 2024 <a rel=\"MUDE\" href=\"http://mude.citg.tudelft.nl/\">MUDE</a> TU Delft. \n",
    "    This work is licensed under a <a rel=\"license\" href=\"http://creativecommons.org/licenses/by/4.0/\">CC BY 4.0 License</a>.\n",
    "  </div>\n",
    "</div>\n",
    "\n",
    "\n",
    "<!--tested with WS_2_8_solution.ipynb-->"
   ]
  }
 ],
 "metadata": {
  "language_info": {
   "name": "python"
  }
 },
 "nbformat": 4,
 "nbformat_minor": 2
}
