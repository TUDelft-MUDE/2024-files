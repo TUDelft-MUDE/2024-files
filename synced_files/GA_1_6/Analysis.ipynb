{
 "cells": [
  {
   "cell_type": "markdown",
   "id": "e3c00b6c",
   "metadata": {
    "id": "9adbf457-797f-45b7-8f8b-0e46e0e2f5ff"
   },
   "source": [
    "# GA 1.6: An ODE to Probably Doing Enough (PDE)\n",
    "\n",
    "<h1 style=\"position: absolute; display: flex; flex-grow: 0; flex-shrink: 0; flex-direction: row-reverse; top: 60px;right: 30px; margin: 0; border: 0\">\n",
    "    <style>\n",
    "        .markdown {width:100%; position: relative}\n",
    "        article { position: relative }\n",
    "    </style>\n",
    "    <img src=\"https://gitlab.tudelft.nl/mude/public/-/raw/main/tu-logo/TU_P1_full-color.png\" style=\"width:100px\" />\n",
    "    <img src=\"https://gitlab.tudelft.nl/mude/public/-/raw/main/mude-logo/MUDE_Logo-small.png\" style=\"width:100px\" />\n",
    "</h1>\n",
    "<h2 style=\"height: 10px\">\n",
    "</h2>\n",
    "\n",
    "*[CEGM1000 MUDE](http://mude.citg.tudelft.nl/): Week 1.6. For: 11 October, 2024.*"
   ]
  },
  {
   "cell_type": "markdown",
   "id": "81758941",
   "metadata": {},
   "source": [
    "# Overview\n",
    "\n",
    "This assignment contains two parts: treating non-linear ODEs and treating the diffusion equation (PDE).\n"
   ]
  },
  {
   "cell_type": "code",
   "execution_count": null,
   "id": "09600ae1",
   "metadata": {},
   "outputs": [],
   "source": [
    "import numpy as np\n",
    "import matplotlib.pyplot as plt\n",
    "import ipywidgets as widgets\n",
    "from ipywidgets import interact"
   ]
  },
  {
   "cell_type": "markdown",
   "id": "a49ae1de",
   "metadata": {},
   "source": [
    "## Part 1: Solving Non-linear ODEs\n",
    "\n",
    "In task 1 you will solve first a very simple equation using Newton-Rhapson to understand exactly how to implement it. Task 2 treats the solution of a non-linear ODE w.r.t. time, first with Explicit Euler and then with Implicit Euler. The latter will require again Newton-Rhapson to find the solution. "
   ]
  },
  {
   "cell_type": "markdown",
   "id": "e1d4e5b9",
   "metadata": {},
   "source": [
    "<div style=\"background-color:#AABAB2; color: black; width:95%; vertical-align: middle; padding:15px; margin: 10px; border-radius: 10px\">\n",
    "<p>\n",
    "<b>Task 1</b>\n",
    "\n",
    "The equation to solve using Newton-Rhapson is\n",
    "\n",
    "$$\n",
    "x^2=9\n",
    "$$\n",
    "</p>\n",
    "</div>"
   ]
  },
  {
   "cell_type": "markdown",
   "id": "33122e9b",
   "metadata": {},
   "source": [
    "<div style=\"background-color:#AABAB2; color: black; width:95%; vertical-align: middle; padding:15px; margin: 10px; border-radius: 10px\">\n",
    "<p>\n",
    "<b>Task 1.1</b>\n",
    "\n",
    "Formally Newton-Rhapson is implemented iterating the solution as follows:\n",
    "$$\n",
    "z_{j+1} = z_{j} - g(z_j)/g'(z_j)\n",
    "$$\n",
    "where $g(z_j) = 0$ and $z_j$ is a guess and $z_{j+1}$ is the improved guess.\n",
    "\n",
    "As we do not care about retaining the values of every guess, it can be written in code as:\n",
    "\n",
    "$$\n",
    "x = x - g(x)/g'(x)\n",
    "$$\n",
    "\n",
    "**Transform the equation $x^2=9$ to g(x) and write it below, together with g'(x).** \n",
    "\n",
    "</p>\n",
    "</div>"
   ]
  },
  {
   "cell_type": "markdown",
   "id": "b5c4b1ba",
   "metadata": {},
   "source": [
    "Write your answer here."
   ]
  },
  {
   "cell_type": "markdown",
   "id": "d8240c88",
   "metadata": {},
   "source": [
    "<div style=\"background-color:#AABAB2; color: black; width:95%; vertical-align: middle; padding:15px; margin: 10px; border-radius: 10px\">\n",
    "<p>\n",
    "<b>Task 1.2</b>\n",
    "\n",
    "Implement your equations $g(x)$ and $g'(x)$ in the code below, as well as the Newton-Rhapson expression inside the loop. Test the code with the initial guess of $x=10$. \n",
    "</p>\n",
    "</div>"
   ]
  },
  {
   "cell_type": "code",
   "execution_count": null,
   "id": "1278a681",
   "metadata": {},
   "outputs": [],
   "source": [
    "def g(x):\n",
    "    return YOUR_CODE_HERE\n",
    "\n",
    "def g_der(x):\n",
    "    return YOUR_CODE_HERE\n",
    "\n",
    "x = YOUR_CODE_HERE\n",
    "for j in range(100):\n",
    "    x = YOUR_CODE_HERE\n",
    "    # Next task will go here\n",
    "\n",
    "print(\"The solution found is \", x, \" it took \" ,j , \" iterations to converge.\")"
   ]
  },
  {
   "cell_type": "markdown",
   "id": "107cd91f",
   "metadata": {},
   "source": [
    "<div style=\"background-color:#AABAB2; color: black; width:95%; vertical-align: middle; padding:15px; margin: 10px; border-radius: 10px\">\n",
    "<p>\n",
    "<b>Task 1.3</b>\n",
    "\n",
    "The code is taking 100 iterations without stopping. **Add a condition to the code above to stop the loop once the solution is good enough**, i.e., when the solution is closer than $\\epsilon = 10^{-6}$ to the exact solution. How many iterations does it take now to converge? \n",
    "\n",
    "</p>\n",
    "</div>"
   ]
  },
  {
   "cell_type": "markdown",
   "id": "f66ea21f",
   "metadata": {},
   "source": [
    "Write your answer here."
   ]
  },
  {
   "cell_type": "markdown",
   "id": "5568fada",
   "metadata": {},
   "source": [
    "<div style=\"background-color:#AABAB2; color: black; width:95%; vertical-align: middle; padding:15px; margin: 10px; border-radius: 10px\">\n",
    "<p>\n",
    "<b>Task 1.4</b>\n",
    "\n",
    "Change the intial guess to  $x=0.01$, which is closer to the exact solution than the initial guess in the previous task. How many iterations does it take to converge? Explain the difference.\n",
    "\n",
    "</p>\n",
    "</div>"
   ]
  },
  {
   "cell_type": "markdown",
   "id": "baf5fee8",
   "metadata": {},
   "source": [
    "Write your answer here."
   ]
  },
  {
   "cell_type": "markdown",
   "id": "536f5611",
   "metadata": {},
   "source": [
    "<div style=\"background-color:#AABAB2; color: black; width:95%; vertical-align: middle; padding:15px; margin: 10px; border-radius: 10px\">\n",
    "<p>\n",
    "<b>Task 2</b>\n",
    "\n",
    "Solve the following ODE using Explicit and Implicit Euler.\n",
    "\n",
    "$$\n",
    "\\frac{dy}{dt} = \\sin(y^3)+\\sin(t)\n",
    "$$\n",
    "\n",
    "with initial value $y(t=0) = 1$\n",
    "\n",
    "\n",
    "</p>\n",
    "</div>"
   ]
  },
  {
   "cell_type": "markdown",
   "id": "ffc27847",
   "metadata": {},
   "source": [
    "Write your answer here."
   ]
  },
  {
   "cell_type": "markdown",
   "id": "c1901c76",
   "metadata": {},
   "source": [
    "<div style=\"background-color:#AABAB2; color: black; width:95%; vertical-align: middle; padding:15px; margin: 10px; border-radius: 10px\">\n",
    "<p>\n",
    "<b>Task 2.1</b>\n",
    "\n",
    "Write in paper the Explicit and Implicit Euler schemes of the equation above.\n",
    "Which term from your Implicit Euler scheme represents $z$? \n",
    "\n",
    "\n",
    "</p>\n",
    "</div>"
   ]
  },
  {
   "cell_type": "markdown",
   "id": "f9c7e309",
   "metadata": {},
   "source": [
    "Write your answer here."
   ]
  },
  {
   "cell_type": "markdown",
   "id": "8d9d2787",
   "metadata": {},
   "source": [
    "<div style=\"background-color:#AABAB2; color: black; width:95%; vertical-align: middle; padding:15px; margin: 10px; border-radius: 10px\">\n",
    "<p>\n",
    "<b>Task 2.2</b>\n",
    "\n",
    "Just as before, Newton-Rhapson must be implemented following:\n",
    "$$\n",
    "z_{j+1} = z_{j} - g(z_j)/g'(z_j)\n",
    "$$\n",
    "where $g(z_j) = 0$ and $z_j$ is a guess and $z_{j+1}$ is the improved guess.\n",
    "\n",
    "**Transform your Implicit Euler scheme into g(*) and write it below, together with g'(*).** \n",
    "\n",
    "</p>\n",
    "</div>"
   ]
  },
  {
   "cell_type": "markdown",
   "id": "1306aca9",
   "metadata": {},
   "source": [
    "Write your answer here."
   ]
  },
  {
   "cell_type": "markdown",
   "id": "d2cc1cff",
   "metadata": {},
   "source": [
    "<div style=\"background-color:#AABAB2; color: black; width:95%; vertical-align: middle; padding:15px; margin: 10px; border-radius: 10px\">\n",
    "<p>\n",
    "<b>Task 2.3</b>\n",
    "\n",
    "Implement the Explicit Euler and Implicit Euler schemes by filling the lines of code below:\n",
    "\n",
    "- a) Code the functions g() and g'() \n",
    "- b) Implement Explicit Euler\n",
    "- c) Implement Implicit Euler. Tip: use as initial guess the value of the previous time step.\n",
    "- d) Use a dt = 0.25s\n",
    "\n",
    "</p>\n",
    "</div>"
   ]
  },
  {
   "cell_type": "code",
   "execution_count": null,
   "id": "62d6c06c",
   "metadata": {},
   "outputs": [],
   "source": [
    "def g(y_iplus1, y_i, t_iplus1):\n",
    "    return YOUR_CODE_HERE\n",
    "\n",
    "def g_der(y_iplus1):\n",
    "    return YOUR_CODE_HERE\n",
    "\n",
    "\n",
    "# Define parameters:\n",
    "dt = .25\n",
    "t_end = 10\n",
    "t = np.arange(0,t_end+dt,dt)\n",
    "\n",
    "y_EE = np.zeros(t.shape)\n",
    "y_IE = np.zeros(t.shape)\n",
    "\n",
    "# Define Initial Conditions\n",
    "y_EE[0] = YOUR_CODE_HERE\n",
    "y_IE[0] = YOUR_CODE_HERE\n",
    "\n",
    "# Perform time-integration\n",
    "newtonFailed = 0\n",
    "for i in range(0, len(t)-1):    \n",
    "    \n",
    "    # Forward Euler:\n",
    "    y_EE[i+1] = YOUR_CODE_HERE\n",
    "\n",
    "    # Backward Euler:\n",
    "    y_IE[i+1] = YOUR_CODE_HERE # Initial guess\n",
    "    for j in range(200):\n",
    "        y_IE[i+1] = YOUR_CODE_HERE\n",
    "        if np.abs(g(y_IE[i+1], y_IE[i], t[i+1])) < 1e-6:\n",
    "            break\n",
    "        \n",
    "    if j >= 199:\n",
    "        newtonFailed = 1\n",
    "    \n",
    "\n",
    "# Plotting the solution\n",
    "plt.plot(t, y_EE, 'r', t, y_IE, 'g--')\n",
    "if newtonFailed:\n",
    "    plt.title('Nonlinear ODE with dt = ' + str(dt) + ' \\nImplicit Euler did not converge')\n",
    "else:\n",
    "    plt.title('Nonlinear ODE with dt = ' + str(dt))\n",
    "\n",
    "plt.xlabel('t')\n",
    "plt.ylabel('y')\n",
    "plt.gca().legend(('Explicit','Implicit'))\n",
    "plt.grid()\n",
    "plt.show()"
   ]
  },
  {
   "cell_type": "markdown",
   "id": "c7980fdc",
   "metadata": {},
   "source": [
    "## Part 2: Diffusion Equation in 1D\n",
    "\n",
    "The 1-D diffusion equation reads $$\\frac{\\partial u}{\\partial t}=v\\frac{\\partial^2 u}{\\partial x^2}$$\n",
    " \n",
    "where $u$ is a continuous function in space and time, $v$ is a constant and often referred to as the **diffusivity coefficient**, giving rise to the name 'diffusion equation'. This is a Partial Differential Equation of which the independent variable, $u$, varies on space and time. This equation is present across all fields of civil engineering and the applied sciences. Here, we use it to represent the temperature on a rod (see the sketch below).\n",
    "\n",
    "Unlike the problem of Wednesday, here there is no exchange of heat with the ambient air and the temperature evolves in time. The temperature initially is uniform along the rod, equal to $7°C$. Then it is heated at both ends with the temperatures shown in the figure. \n",
    "\n",
    "![Thermal Gradient](./figures/thermal_gradient.png)\n",
    "\n",
    "The problem is schematized as a one-dimensional $0.3 m$ steel rod of with a diffusivity coefficient of $4e-6 m^2/s$. Run the simulation for $10,000 s$ to see the progression of the temperature through the model. Start with $200$ time steps and use 15 points to represent the rod."
   ]
  },
  {
   "cell_type": "markdown",
   "id": "f5410301",
   "metadata": {},
   "source": [
    "<div style=\"background-color:#AABAB2; color: black; width:95%; vertical-align: middle; padding:15px; margin: 10px; border-radius: 10px\">\n",
    "<p>\n",
    "<b>Task 3</b>\n",
    "\n",
    "Solve the diffusion equation using Central Differences in space and Forward Differences in time. You will do this step by step in the following sub-tasks.\n",
    "\n",
    "For convenience we write here the diffusion equation with the temperature variable:\n",
    "\n",
    "$$\n",
    "\\frac{\\partial T}{\\partial t}=v\\frac{\\partial^2 T}{\\partial x^2}\n",
    "$$\n",
    "\n",
    "\n",
    "\n",
    "</p>\n",
    "</div>"
   ]
  },
  {
   "cell_type": "markdown",
   "id": "416ad0c6",
   "metadata": {},
   "source": [
    "<div style=\"background-color:#AABAB2; color: black; width:95%; vertical-align: middle; padding:15px; margin: 10px; border-radius: 10px\">\n",
    "<p>\n",
    "<b>Task 3.1:</b>\n",
    "\n",
    "How many constraints are needed in the 1D diffusion equation to have a well-posed problem?\n",
    "</p>\n",
    "</div>"
   ]
  },
  {
   "cell_type": "markdown",
   "id": "3130ee46",
   "metadata": {},
   "source": [
    "Write your answer here."
   ]
  },
  {
   "cell_type": "markdown",
   "id": "d22f0d93",
   "metadata": {},
   "source": [
    "<div style=\"background-color:#AABAB2; color: black; width:95%; vertical-align: middle; padding:15px; margin: 10px; border-radius: 10px\">\n",
    "<p>\n",
    "<b>Task 3.2:</b>\n",
    "\n",
    "Draw a grid of 6 points with subindexes. Although your actual grid will be much larger, 6 points are enough to visualize the procedure. The initial condition states that the temperature of the rod is $7^o$ C. Does that mean that one single point of your grid is initialized or all of them? \n",
    "\n",
    "\n",
    "</p>\n",
    "</div>"
   ]
  },
  {
   "cell_type": "markdown",
   "id": "6f0c021e",
   "metadata": {},
   "source": [
    "Write your answer here."
   ]
  },
  {
   "cell_type": "markdown",
   "id": "61c2fe98",
   "metadata": {},
   "source": [
    "<div style=\"background-color:#AABAB2; color: black; width:95%; vertical-align: middle; padding:15px; margin: 10px; border-radius: 10px\">\n",
    "<p>\n",
    "<b>Task 3.3:</b>\n",
    "\n",
    "Now, the differential equation needs to be expressed in algebraic form using central differences in space AND forward differences in time. **Start by just transforming the PDE into a first-order ODE by ONLY applying Central Differences to the spatial derivative term.**\n",
    "\n",
    "\n",
    "</p>\n",
    "</div>"
   ]
  },
  {
   "cell_type": "markdown",
   "id": "140920f4",
   "metadata": {},
   "source": [
    "Write your answer here."
   ]
  },
  {
   "cell_type": "markdown",
   "id": "6b3f3c1d",
   "metadata": {},
   "source": [
    "<div style=\"background-color:#AABAB2; color: black; width:95%; vertical-align: middle; padding:15px; margin: 10px; border-radius: 10px\">\n",
    "<p>\n",
    "<b>Task 3.4:</b>\n",
    "\n",
    "Before applying Forward Differences in time to the equation. You need to add a superscript to the notation that indicates the time step: $T^j_i$. So, $i$ indicates the spatial location and $j$ the time location. For example, $T^0_2$ indicates the temperature at the node $i=2$ and at the initial moment $j=0 (t=0)$. \n",
    "\n",
    "***Hint***: To express in a general form node $i$ at the next time step, you can write $T^{j+1}_i$. \n",
    "\n",
    "**Apply Forward Differences to the equation to obtain an algebraic expression.**\n",
    "</p>\n",
    "</div>"
   ]
  },
  {
   "cell_type": "markdown",
   "id": "bb6aaa75",
   "metadata": {},
   "source": [
    "Write your answer here."
   ]
  },
  {
   "cell_type": "markdown",
   "id": "053b03f8",
   "metadata": {},
   "source": [
    "\n",
    "<div style=\"background-color:#facb8E; color: black; width:95%; vertical-align: middle; padding:15px; margin: 10px; border-radius: 10px\">\n",
    "<p>\n",
    "<b>NOTE</b>\n",
    "\n",
    "If you have doubts of your solution, <b>stop</b> and ask a staff member! It is important to be on the right track!!\n",
    "\n",
    "</p>\n",
    "</div>"
   ]
  },
  {
   "cell_type": "markdown",
   "id": "67763f24",
   "metadata": {},
   "source": [
    "<div style=\"background-color:#AABAB2; color: black; width:95%; vertical-align: middle; padding:15px; margin: 10px; border-radius: 10px\">\n",
    "<p>\n",
    "<b>Task 3.5:</b>   \n",
    "\n",
    "Finally, some coding! Let's start with defining the parameters and creating the grid. **Fill in the missing parts of the code.**\n",
    "\n",
    "</p>\n",
    "</div>"
   ]
  },
  {
   "cell_type": "code",
   "execution_count": null,
   "id": "b5937dff",
   "metadata": {},
   "outputs": [],
   "source": [
    "# Initial conditions\n",
    "\n",
    "T_left = YOUR_CODE_HERE # Temperature at left boundary\n",
    "T_right = YOUR_CODE_HERE # Temperature at right boundary\n",
    "T_initial = YOUR_CODE_HERE # Initial temperature\n",
    "\n",
    "length = YOUR_CODE_HERE # Length of the rod\n",
    "nu = YOUR_CODE_HERE # Thermal diffusivity\n",
    "\n",
    "dx = YOUR_CODE_HERE # spatial step size\n",
    "x = YOUR_CODE_HERE # spatial grid\n",
    "\n",
    "dt = YOUR_CODE_HERE # time step size"
   ]
  },
  {
   "cell_type": "markdown",
   "id": "c6d18d49",
   "metadata": {},
   "source": [
    "Let's initialise the system with the initial and boundary conditions. Say $t_0 =0$."
   ]
  },
  {
   "cell_type": "markdown",
   "id": "8a010d85",
   "metadata": {},
   "source": [
    "<div style=\"background-color:#AABAB2; color: black; width:95%; vertical-align: middle; padding:15px; margin: 10px; border-radius: 10px\">\n",
    "<p>\n",
    "<b>Task 3.6:</b>   \n",
    "\n",
    "Define the initial conditions and the boundary conditions. **Fill in the missing parts of the code.**\n",
    "\n",
    "We define a 2-dimensional Numpy array <code>T</code> where the first index, <code>j</code>, represents time and the second index, <code>i</code>, represents space, for example: <code>T[j, i]</code>. Initialize <code>T</code> with a matrix of zeros.\n",
    "\n",
    "</p>\n",
    "</div>"
   ]
  },
  {
   "cell_type": "code",
   "execution_count": null,
   "id": "f1e79dd6",
   "metadata": {},
   "outputs": [],
   "source": [
    "T = YOUR_CODE_HERE\n",
    "T[0, :] = YOUR_CODE_HERE\n",
    "T[:, 0] = YOUR_CODE_HERE\n",
    "T[:, -1] = YOUR_CODE_HERE\n",
    "\n",
    "b = YOUR_CODE_HERE"
   ]
  },
  {
   "cell_type": "markdown",
   "id": "3ba6c9ea",
   "metadata": {},
   "source": [
    "<div style=\"background-color:#AABAB2; color: black; width:95%; vertical-align: middle; padding:15px; margin: 10px; border-radius: 10px\">\n",
    "<p>\n",
    "<b>Task 3.7:</b>   \n",
    "\n",
    "Write in paper the equations that come out from your algebraic representation of the diffusion equation, solving for the unknowns. Use it then to write the matrix A, the unknown vector T and vector b. As in the workshop and textbook, the <code>A</code> matrix consists only of the unknowns in the problem.\n",
    "\n",
    "</p>\n",
    "</div>"
   ]
  },
  {
   "cell_type": "markdown",
   "id": "d8af5d22",
   "metadata": {},
   "source": [
    "Your answer here."
   ]
  },
  {
   "cell_type": "code",
   "execution_count": null,
   "id": "fc1cfe3a",
   "metadata": {},
   "outputs": [],
   "source": [
    "# Note: you may want to use extra lines, depending on\n",
    "# how you define your A, T and b arrays\n",
    "for j in range(m-1):\n",
    "    A = YOUR_CODE_HERE\n",
    "    b = YOUR_CODE_HERE\n",
    "    \n",
    "    T[j+1,1:-1] = YOUR_CODE_HERE"
   ]
  },
  {
   "cell_type": "markdown",
   "id": "fc7b24ff",
   "metadata": {},
   "source": [
    "<div style=\"background-color:#AABAB2; color: black; width:95%; vertical-align: middle; padding:15px; margin: 10px; border-radius: 10px\">\n",
    "<p>\n",
    "<b>Task 3.8:</b>   \n",
    "\n",
    "Use this code cell if you would like to verify your numerical implementation. For example, to visualize the temperature profile at different time steps.\n",
    "\n",
    "</p>\n",
    "</div>"
   ]
  },
  {
   "cell_type": "code",
   "execution_count": null,
   "id": "50bb33f9",
   "metadata": {},
   "outputs": [],
   "source": [
    "def plot_T(T):\n",
    "    '''\n",
    "    Function to plot the temperature profile at different time steps.\n",
    "    '''\n",
    "    def plot_temperature(time_step):\n",
    "        plt.plot(x, T[time_step, :])\n",
    "        plt.xlabel('x [m]')\n",
    "        plt.ylabel('T [°C]')\n",
    "        plt.title(f'Temperature profile at time step {time_step}')\n",
    "        plt.grid()\n",
    "        plt.ylim(5, 40)\n",
    "        plt.show()\n",
    "\n",
    "    interact(plot_temperature, time_step=widgets.Play(min=0, max=len(t)-1, step=3, value=0))"
   ]
  },
  {
   "cell_type": "markdown",
   "id": "c9ffdf98",
   "metadata": {},
   "source": [
    "\n",
    "<div style=\"background-color:#facb8E; color: black; width:95%; vertical-align: middle; padding:15px; margin: 10px; border-radius: 10px\">\n",
    "<p>\n",
    "<b>NOTE</b>\n",
    "\n",
    "The widget may create multiple views of the same graph on some computers. We are still working on finding out why.\n",
    "\n",
    "</p>\n",
    "</div>"
   ]
  },
  {
   "cell_type": "code",
   "execution_count": null,
   "id": "73abf083",
   "metadata": {},
   "outputs": [],
   "source": [
    "plot_T(T)"
   ]
  },
  {
   "cell_type": "markdown",
   "id": "c5c08572",
   "metadata": {},
   "source": [
    "<div style=\"background-color:#AABAB2; color: black; width:95%; vertical-align: middle; padding:15px; margin: 10px; border-radius: 10px\">\n",
    "<p>\n",
    "<b>Task 3.9:</b>   \n",
    "\n",
    "Describe the time evolution of the temperature along the rod. Does the temperature reach a steady-state? What does that mean for heat flow?\n",
    "\n",
    "Write your answer in the following markdown cell. \n",
    "</p>\n",
    "</div>"
   ]
  },
  {
   "cell_type": "markdown",
   "id": "8575c1f6",
   "metadata": {},
   "source": [
    "Your answer here."
   ]
  },
  {
   "cell_type": "markdown",
   "id": "0f3bfbd3",
   "metadata": {},
   "source": [
    "<div style=\"background-color:#AABAB2; color: black; width:95%; vertical-align: middle; padding:15px; margin: 10px; border-radius: 10px\">\n",
    "<p>\n",
    "<b>Task 4</b>\n",
    "\n",
    "Alter the right boundary condition, with the following equation: \n",
    "\n",
    "\n",
    "$$\n",
    "u^t_{x=L} = 25 + 10 \\sin \\left(\\frac{2\\pi t}{period}\\right)\n",
    "$$\n",
    "\n",
    "where L refers to the last point of the rod. Put your whole code together in a single cell. Copy the code cells from task 3.5 until task 3.8. Modify the right boundary condition as stated above, the period is 6000 seconds.\n",
    "\n",
    "\n",
    "</p>\n",
    "</div>"
   ]
  },
  {
   "cell_type": "code",
   "execution_count": null,
   "id": "27ab6cac",
   "metadata": {},
   "outputs": [],
   "source": [
    "YOUR_CODE_HERE"
   ]
  },
  {
   "cell_type": "markdown",
   "id": "b2c4025d",
   "metadata": {},
   "source": [
    "<div style=\"background-color:#AABAB2; color: black; width:95%; vertical-align: middle; padding:15px; margin: 10px; border-radius: 10px\">\n",
    "<p>\n",
    "<b>Task 5</b>\n",
    "\n",
    "Solve the diffusion equation using Central Differences in space but **now with Backward Differences in time**. You will do this step by step just as before. \n",
    "\n",
    "\n",
    "</p>\n",
    "</div>"
   ]
  },
  {
   "cell_type": "markdown",
   "id": "1fcfbed2",
   "metadata": {},
   "source": [
    "<div style=\"background-color:#AABAB2; color: black; width:95%; vertical-align: middle; padding:15px; margin: 10px; border-radius: 10px\">\n",
    "<p>\n",
    "<b>Task 5.1:</b>\n",
    "\n",
    "Draw the stencils (two in total) of this equation when solving it with Central Differences in space and **Forward Differences in time** and when solving it with Central Differences in space and **Backward Differences in time**. \n",
    "\n",
    "</p>\n",
    "</div>"
   ]
  },
  {
   "cell_type": "markdown",
   "id": "1b63873d",
   "metadata": {},
   "source": [
    "Your answer here."
   ]
  },
  {
   "cell_type": "markdown",
   "id": "ba1c0203",
   "metadata": {},
   "source": [
    "<div style=\"background-color:#AABAB2; color: black; width:95%; vertical-align: middle; padding:15px; margin: 10px; border-radius: 10px\">\n",
    "<p>\n",
    "<b>Task 5.2:</b>\n",
    "\n",
    "Now, the differential equation needs to be expressed in algebraic form using central differences in space and forward differences in time. **Start by just transforming the PDE into a first-order ODE by ONLY applying Central Differences to the spatial derivative term.**\n",
    "\n",
    "\n",
    "</p>\n",
    "</div>"
   ]
  },
  {
   "cell_type": "markdown",
   "id": "5bd9fe69",
   "metadata": {},
   "source": [
    "Your answer here."
   ]
  },
  {
   "cell_type": "markdown",
   "id": "3d5991de",
   "metadata": {},
   "source": [
    "<div style=\"background-color:#AABAB2; color: black; width:95%; vertical-align: middle; padding:15px; margin: 10px; border-radius: 10px\">\n",
    "<p>\n",
    "<b>Task 5.3:</b>\n",
    "\n",
    "Apply Backward Differences to the equation to obtain an algebraic expression.\n",
    "\n",
    "</p>\n",
    "</div>"
   ]
  },
  {
   "cell_type": "markdown",
   "id": "bb07bd44",
   "metadata": {},
   "source": [
    "Your answer here."
   ]
  },
  {
   "cell_type": "markdown",
   "id": "60df6116",
   "metadata": {},
   "source": [
    "<div style=\"background-color:#AABAB2; color: black; width:95%; vertical-align: middle; padding:15px; margin: 10px; border-radius: 10px\">\n",
    "<p>\n",
    "<b>Task 5.4:</b>   \n",
    "\n",
    "Write in paper the equations that come out from your algebraic representation of the diffusion equation, solving for the unknowns. Use it then to write the matrix A, the unknown vector T and vector b.\n",
    "\n",
    "</p>\n",
    "</div>"
   ]
  },
  {
   "cell_type": "markdown",
   "id": "2acca89e",
   "metadata": {},
   "source": [
    "Your answer here."
   ]
  },
  {
   "cell_type": "markdown",
   "id": "bffa0b3b",
   "metadata": {},
   "source": [
    "<div style=\"background-color:#AABAB2; color: black; width:95%; vertical-align: middle; padding:15px; margin: 10px; border-radius: 10px\">\n",
    "<p>\n",
    "<b>Task 5.5</b>\n",
    "\n",
    "Copy the code of task 4 and make sure to use the Dirichlet conditions of task 3. Implement the Implicit scheme by modifying the code of how the matrix A and vector b are built.\n",
    "\n",
    "</p>\n",
    "</div>"
   ]
  },
  {
   "cell_type": "code",
   "execution_count": null,
   "id": "013e064b",
   "metadata": {},
   "outputs": [],
   "source": [
    "YOUR_CODE_HERE"
   ]
  },
  {
   "cell_type": "markdown",
   "id": "bd06f222",
   "metadata": {},
   "source": [
    "\n",
    "<div style=\"background-color:#facb8E; color: black; width:95%; vertical-align: middle; padding:15px; margin: 10px; border-radius: 10px\">\n",
    "<p>\n",
    "<b>NOTE</b>\n",
    "\n",
    "If strange \"spikes\" are occurring near the boundaries of your grid, this is caused by the way we assign the values of <code>b</code> and the way in which they are stored in the computer memory by Numpy. We won't go into the details here, but the \"fix\" to make your plot look correct is to add <code>.copy()</code> when defining <code>b</code>. For example:\n",
    "\n",
    "<code>b = T[YOUR_CODE_HERE, YOUR_CODE_HERE].copy()</code>\n",
    "\n",
    "</p>\n",
    "</div>"
   ]
  },
  {
   "cell_type": "markdown",
   "id": "cac9e3e3",
   "metadata": {},
   "source": [
    "**End of notebook.**\n",
    "\n",
    "<div style=\"margin-top: 50px; padding-top: 20px; border-top: 1px solid #ccc;\">\n",
    "  <div style=\"display: flex; justify-content: flex-end; gap: 20px; align-items: center;\">\n",
    "    <a rel=\"MUDE\" href=\"http://mude.citg.tudelft.nl/\">\n",
    "      <img alt=\"MUDE\" style=\"width:100px; height:auto;\" src=\"https://gitlab.tudelft.nl/mude/public/-/raw/main/mude-logo/MUDE_Logo-small.png\" />\n",
    "    </a>\n",
    "    <a rel=\"TU Delft\" href=\"https://www.tudelft.nl/en/ceg\">\n",
    "      <img alt=\"TU Delft\" style=\"width:100px; height:auto;\" src=\"https://gitlab.tudelft.nl/mude/public/-/raw/main/tu-logo/TU_P1_full-color.png\" />\n",
    "    </a>\n",
    "    <a rel=\"license\" href=\"http://creativecommons.org/licenses/by/4.0/\">\n",
    "      <img alt=\"Creative Commons License\" style=\"width:88px; height:auto;\" src=\"https://i.creativecommons.org/l/by/4.0/88x31.png\" />\n",
    "    </a>\n",
    "  </div>\n",
    "  <div style=\"font-size: 75%; margin-top: 10px; text-align: right;\">\n",
    "    By <a rel=\"MUDE\" href=\"http://mude.citg.tudelft.nl/\">MUDE Team</a>\n",
    "    &copy; 2024 TU Delft. \n",
    "    <a rel=\"license\" href=\"http://creativecommons.org/licenses/by/4.0/\">CC BY 4.0</a>.\n",
    "    <a rel=\"Zenodo DOI\" href=\"https://doi.org/10.5281/zenodo.16782515\"><img style=\"width:auto; height:15; vertical-align:middle\" src=\"https://zenodo.org/badge/DOI/10.5281/zenodo.16782515.svg\" alt=\"DOI https://doi.org/10.5281/zenodo.16782515\"></a>\n",
    "  </div>\n",
    "</div>\n",
    "\n",
    "\n",
    "<!--tested with WS_2_8_solution.ipynb-->"
   ]
  }
 ],
 "metadata": {
  "language_info": {
   "name": "python"
  }
 },
 "nbformat": 4,
 "nbformat_minor": 5
}
