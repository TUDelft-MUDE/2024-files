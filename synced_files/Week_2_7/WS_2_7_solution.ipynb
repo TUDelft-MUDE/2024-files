{
 "cells": [
  {
   "cell_type": "markdown",
   "id": "68f1db56",
   "metadata": {},
   "source": [
    "# Workshop 2.7: Extreme temperature\n",
    "\n",
    "<h1 style=\"position: absolute; display: flex; flex-grow: 0; flex-shrink: 0; flex-direction: row-reverse; top: 60px;right: 30px; margin: 0; border: 0\">\n",
    "    <style>\n",
    "        .markdown {width:100%; position: relative}\n",
    "        article { position: relative }\n",
    "    </style>\n",
    "    <img src=\"https://gitlab.tudelft.nl/mude/public/-/raw/main/tu-logo/TU_P1_full-color.png\" style=\"width:100px\" />\n",
    "    <img src=\"https://gitlab.tudelft.nl/mude/public/-/raw/main/mude-logo/MUDE_Logo-small.png\" style=\"width:100px\" />\n",
    "</h1>\n",
    "<h2 style=\"height: 10px\">\n",
    "</h2>\n",
    "\n",
    "*[CEGM1000 MUDE](http://mude.citg.tudelft.nl/): Extreme Value Analysis, Week 2.7, Wednesday, Jan 8, 2025.*"
   ]
  },
  {
   "cell_type": "markdown",
   "id": "fc204287",
   "metadata": {
    "id": "1db6fea9-f3ad-44bc-a4c8-7b2b3008e945"
   },
   "source": [
    "In this session, you will work with the uncertainty of extreme temperatures in the airport of Barcelona to assess the extreme loads induced by temperature in a steel structure in the area. You have daily observations of the maximum temperature for several years. The dataset was retrieved from the Spanish Agency of Metheorology [AEMET](https://www.aemet.es/es/portada). Your goal is to design the structure for a _lifespan of 50 years_ with a _probability of failure of 0.1_ during the design life. \n",
    "\n",
    "**The goal of this project is:**\n",
    "1. Compute the required design return period for the steel structure.\n",
    "2. Perform monthly Block Maxima and fit the a distribution to the sampled observations.\n",
    "3. Assess the Goodness of fit of the distribution.\n",
    "4. Compute the return level plot.\n",
    "5. Compute the design return level."
   ]
  },
  {
   "cell_type": "code",
   "execution_count": null,
   "id": "37cb77f5",
   "metadata": {},
   "outputs": [],
   "source": [
    "import numpy as np\n",
    "import pandas as pd\n",
    "import matplotlib.pyplot as plt\n",
    "\n",
    "from scipy import stats \n",
    "from math import ceil, trunc\n",
    "\n",
    "plt.rcParams.update({'font.size': 14})"
   ]
  },
  {
   "cell_type": "markdown",
   "id": "b2bbbaa2",
   "metadata": {},
   "source": [
    "## Task 1: Data Exploration\n",
    "\n",
    "First step in the analysis is exploring the data, visually and through its statistics. We import the dataset and explore its columns."
   ]
  },
  {
   "cell_type": "code",
   "execution_count": null,
   "id": "13508fa7",
   "metadata": {},
   "outputs": [],
   "source": [
    "T = pd.read_csv('temp.csv', delimiter = ',', parse_dates = True).dropna().reset_index(drop=True)\n",
    "T.columns=['Date', 'T'] #rename columns\n",
    "T.head()"
   ]
  },
  {
   "cell_type": "markdown",
   "id": "cbffbe2b",
   "metadata": {},
   "source": [
    "The dataset has two columns: the time stamp of the measurements and the cumulative daily precipitation. We set the first columns as a datetime as they are the dates of the measurements."
   ]
  },
  {
   "cell_type": "code",
   "execution_count": null,
   "id": "31018086",
   "metadata": {},
   "outputs": [],
   "source": [
    "T['Date'] = pd.to_datetime(T['Date'], format='mixed')\n",
    "T['Date']"
   ]
  },
  {
   "cell_type": "markdown",
   "id": "9772db9a",
   "metadata": {},
   "source": [
    "Once formatted, we can plot the timeseries and the histogram."
   ]
  },
  {
   "cell_type": "code",
   "execution_count": null,
   "id": "28fd1a34",
   "metadata": {},
   "outputs": [],
   "source": [
    "fig, axes = plt.subplots(1,2, figsize=(12,5), layout='constrained')\n",
    "\n",
    "axes[0].hist(T['T'], label = 'T', density = True, edgecolor = 'darkblue')\n",
    "axes[0].set_xlabel('PDF')\n",
    "axes[0].set_xlabel('Maximum daily temperature [degrees]')\n",
    "axes[0].grid()\n",
    "axes[0].legend()\n",
    "axes[0].set_title('(a) Histogram')\n",
    "\n",
    "axes[1].plot(T['Date'], T['T'],'k', label = 'P')\n",
    "axes[1].set_xlabel('Time')\n",
    "axes[1].set_ylabel('Maximum daily temperature [degrees]')\n",
    "axes[1].grid()\n",
    "axes[1].set_title('(b) Time series')\n",
    "axes[1].legend()"
   ]
  },
  {
   "cell_type": "markdown",
   "id": "8c6e87cc",
   "metadata": {},
   "source": [
    "<div style=\"background-color:#AABAB2; color: black; vertical-align: middle; padding:15px; margin: 10px; border-radius: 10px; width: 95%\">\n",
    "<p>\n",
    "<b>Task 2.1:</b>   \n",
    "Based on the above plots, briefly describe the data.\n",
    "</p>\n",
    "</div>"
   ]
  },
  {
   "cell_type": "markdown",
   "id": "61650881",
   "metadata": {},
   "source": [
    "<div style=\"background-color:#FAE99E; color: black; vertical-align: middle; padding:15px; margin: 10px; border-radius: 10px; width: 95%\">\n",
    "    <b>Solution:</b>\n",
    "    \n",
    "The histogram shows maximum monthly temperatures with a median around 20 degrees, indicating that they belong to a warm climate, such as the Spanish one. The variability is significant since these temperatures can vary from 5 to more than 35 degrees.\n",
    "\n",
    "Regarding the timeseries, it is possible to observe the seasons. Every year there is a cycle with temperatures moving up and down in a sinusoidal shape. Therefore, this data presents seasonality.\n",
    "</div>\n",
    "</div>"
   ]
  },
  {
   "cell_type": "markdown",
   "id": "0d99d7ec",
   "metadata": {},
   "source": [
    "## Task 2: Sample Monthly Maxima"
   ]
  },
  {
   "cell_type": "markdown",
   "id": "3629b16a",
   "metadata": {},
   "source": [
    "<div style=\"background-color:#AABAB2; color: black; vertical-align: middle; padding:15px; margin: 10px; border-radius: 10px; width: 95%\">\n",
    "<p>\n",
    "<b>Task 2.2:</b>   \n",
    "Sample monthly maxima from the timeseries and plot them on the timeseries. Plot also the histograms of both the maxima and the observations.\n",
    "</p>\n",
    "</div>"
   ]
  },
  {
   "cell_type": "code",
   "execution_count": null,
   "id": "c24082de",
   "metadata": {},
   "outputs": [],
   "source": [
    "# Extract year and month from the Date column\n",
    "T['Year'] = T['Date'].dt.year\n",
    "T['Month'] = T['Date'].dt.month\n",
    "\n",
    "# Group by Year and Month, then get the maximum observation\n",
    "idx_max = T.groupby(['Year', 'Month'])['T'].idxmax().reset_index(name='Index').iloc[:, 2]\n",
    "max_list = T.loc[idx_max]"
   ]
  },
  {
   "cell_type": "code",
   "execution_count": null,
   "id": "11014b24",
   "metadata": {},
   "outputs": [],
   "source": [
    "#Plot\n",
    "\n",
    "fig, axes = plt.subplots(1,2, figsize=(12,5), layout='constrained')\n",
    "\n",
    "axes[0].hist(T['T'], label = 'T', density = True, edgecolor = 'darkblue')\n",
    "axes[0].hist(max_list['T'], label = 'Monthly Maxima',  density = True, edgecolor = 'k', alpha = 0.5)\n",
    "axes[0].set_xlabel('PDF')\n",
    "axes[0].set_xlabel('Maximum daily temperature [degrees]')\n",
    "axes[0].grid()\n",
    "axes[0].set_title('(a) Histograms')\n",
    "axes[0].legend()\n",
    "\n",
    "axes[1].plot(T['Date'], T['T'],'k', label = 'T')\n",
    "axes[1].scatter(max_list['Date'], max_list['T'], 40, 'r', label = 'Monthly Maxima')\n",
    "axes[1].set_xlabel('Time')\n",
    "axes[1].set_ylabel('Maximum daily temperature [degrees]')\n",
    "axes[1].set_title('(b) Timeseries')\n",
    "axes[1].grid()\n",
    "axes[1].legend()"
   ]
  },
  {
   "cell_type": "markdown",
   "id": "f4426988",
   "metadata": {},
   "source": [
    "<div style=\"background-color:#AABAB2; color: black; vertical-align: middle; padding:15px; margin: 10px; border-radius: 10px; width: 95%\">\n",
    "<p>\n",
    "<b>Task 2.3:</b>   \n",
    "Look at the previous plots. Are the sampled maxima independent and identically distributed? Justify your answer. What are the implications for further analysis?\n",
    "</p>\n",
    "</div>"
   ]
  },
  {
   "cell_type": "markdown",
   "id": "febeb1c6",
   "metadata": {},
   "source": [
    "<div style=\"background-color:#FAE99E; color: black; vertical-align: middle; padding:15px; margin: 10px; border-radius: 10px; width: 95%\">\n",
    "    <b>Solution:</b>\n",
    "    \n",
    "The observations are independent as we have sampled monthly maxima. This is, several days or weeks happen between the observations which should ensure the independence between them.\n",
    "\n",
    "The observations are NOT identically distributed. We can see in the plot above that there is seasonality. The distribution of temperature during the summer months is not the same as during the winter months so we cannot assume stationarity. Therefore, **we are violating one of the assumptions of EVA and cannot rely on the results**. One possible solution is to move from monthly maxima to yearly maxima, where the problem of seasonality does not occur.\n",
    "\n",
    "Here, we will continue with the analysis to show the procedure but in practice you should go for a non-stationary method (more advanced, out of the scope of this course), move to a scale when you do not have such seasonality (yearly in this case) or use another sampling approach that does not depend on time windows such as Peak Over Threshold.\n",
    "</div>\n",
    "</div>"
   ]
  },
  {
   "cell_type": "markdown",
   "id": "444e031f",
   "metadata": {},
   "source": [
    "<div style=\"background-color:#AABAB2; color: black; vertical-align: middle; padding:15px; margin: 10px; border-radius: 10px; width: 95%\">\n",
    "<p>\n",
    "<b>Task 2.4:</b>   \n",
    "Compute PDF and the empirical cumulative distribution function of the observations and the sampled monthly maxima. Plot the ECDF in log-scale. Where are the sampled monthly maxima located with respect with the CDF of all the observations?\n",
    "</p>\n",
    "</div>"
   ]
  },
  {
   "cell_type": "code",
   "execution_count": null,
   "id": "960ae234",
   "metadata": {},
   "outputs": [],
   "source": [
    "def ecdf(var):\n",
    "    x = np.sort(var)\n",
    "    n = x.size\n",
    "    y = np.arange(1, n+1) / (n+1)\n",
    "    return [y, x]"
   ]
  },
  {
   "cell_type": "code",
   "execution_count": null,
   "id": "5c16adda",
   "metadata": {},
   "outputs": [],
   "source": [
    "\n",
    "fig, axes = plt.subplots(1,2, figsize=(12,5), layout='constrained')\n",
    "\n",
    "axes[0].hist(T['T'], label = 'T', density = True, edgecolor = 'darkblue')\n",
    "axes[0].hist(max_list['T'], label = 'Monthly Maxima',  density = True, edgecolor = 'k', alpha = 0.5)\n",
    "axes[0].set_xlabel('PDF')\n",
    "axes[0].set_xlabel('Maximum daily temperature [degrees]')\n",
    "axes[0].grid()\n",
    "axes[0].legend()\n",
    "\n",
    "axes[1].step(ecdf(T['T'])[1],\n",
    "         ecdf(T['T'])[0],'k', label = 'T')\n",
    "axes[1].step(ecdf(max_list['T'])[1],\n",
    "         ecdf(max_list['T'])[0],\n",
    "         'cornflowerblue', label = 'Monthly maxima of T')\n",
    "axes[1].set_xlabel('Maximum daily temperature [degrees]')\n",
    "axes[1].set_ylabel('${P[X \\leq x]}$')\n",
    "axes[1].grid()\n",
    "axes[1].set_yscale('log')\n",
    "axes[1].legend();"
   ]
  },
  {
   "cell_type": "markdown",
   "id": "0ae1a545",
   "metadata": {},
   "source": [
    "<div style=\"background-color:#FAE99E; color: black; vertical-align: middle; padding:15px; margin: 10px; border-radius: 10px; width: 95%\">\n",
    "    <b>Solution:</b>\n",
    "    \n",
    "The maxima observations are located at the right tail of the distribution of the observations.\n",
    "</div>\n",
    "</div>"
   ]
  },
  {
   "cell_type": "markdown",
   "id": "c4ad0247",
   "metadata": {},
   "source": [
    "## Task 3: Distribution Fitting\n",
    "\n",
    "We did this a lot at the end of Q1---refer to your previous work as needed!"
   ]
  },
  {
   "cell_type": "markdown",
   "id": "76e747cf",
   "metadata": {},
   "source": [
    "<div style=\"background-color:#AABAB2; color: black; vertical-align: middle; padding:15px; margin: 10px; border-radius: 10px; width: 95%\">\n",
    "<p>\n",
    "<b>Task 3:</b>   \n",
    "Fit a distribution to the monthly maxima. Print the values of the obtained parameters and interpret them:\n",
    "<ol>\n",
    "    <li>Do the location and scale parameters match the data?</li>\n",
    "    <li>According to the shape parameter, what type of distribution is this?</li>\n",
    "    <li>What type of tail does the distribution have (refer to EVA Chapter 7.2 of the book)?</li>\n",
    "    <li>Does the distribution have an upper bound? If so, compute it!</li>\n",
    "</ol>\n",
    "</p>\n",
    "</div>"
   ]
  },
  {
   "cell_type": "markdown",
   "id": "b19fd593",
   "metadata": {
    "id": "0491cc69"
   },
   "source": [
    "<div style=\"background-color:#facb8e; color: black; vertical-align: middle; padding:15px; margin: 10px; border-radius: 10px; width: 95%\"> <p>Use <a href=\"https://docs.scipy.org/doc/scipy/reference/stats.html\" target=\"_blank\">scipy.stats</a> built in functions (watch out with the parameter definitions!), similar to Week 1.7 and use the DataFrame created in Task 2.\n",
    "</p></div>"
   ]
  },
  {
   "cell_type": "code",
   "execution_count": null,
   "id": "dca52476",
   "metadata": {},
   "outputs": [],
   "source": [
    "params_T = stats.genextreme.fit(max_list['T'])\n",
    "print(params_T)"
   ]
  },
  {
   "cell_type": "markdown",
   "id": "077719ec",
   "metadata": {},
   "source": [
    "<div style=\"background-color:#FAE99E; color: black; vertical-align: middle; padding:15px; margin: 10px; border-radius: 10px; width: 95%\">\n",
    "    <b>Solution:</b>\n",
    "    \n",
    "The order of the parameters returned from scipy.stats is shape, location, and scale, so shape = 0.32, location = 24.26 and scale = 5.01. Note that the <a html=\"https://docs.scipy.org/doc/scipy/reference/generated/scipy.stats.genextreme.html\" target=\"_blank\">genextreme method of scipy.stats</a> defines the PDF of the distribution with a negative shape parameter $c$, relative to the definition in our book ($\\xi$, shown <a html=\"https://mude.citg.tudelft.nl/book/eva/GEV.html\" target=\"_blank\">here</a>). Thus, shape parameter is negative (according to our book) and the obtained GEV is a Reverse Weibull with a upper bound in loc-scale/shape = 24.26 + 5.01/0.32 = 39.92.\n",
    "</div>\n",
    "</div>"
   ]
  },
  {
   "cell_type": "markdown",
   "id": "473c8e04",
   "metadata": {},
   "source": [
    "## Task 4: Goodness of Fit"
   ]
  },
  {
   "cell_type": "markdown",
   "id": "8a39724a",
   "metadata": {},
   "source": [
    "<div style=\"background-color:#AABAB2; color: black; vertical-align: middle; padding:15px; margin: 10px; border-radius: 10px; width: 95%\">\n",
    "<p>\n",
    "<b>Task 4:</b>   \n",
    "Assess the goodness of fit of the selected distribution using the exceedance probability plot in semi-log scale.\n",
    "    \n",
    "Consider the following questions:\n",
    "<ol>\n",
    "    <li>How well do the probabilities of the fitted distribution match the empirical distribution? Is there an over- or under-prediction?</li>\n",
    "    <li>Is the tail type of this GEV distribution appropriate for the data?</li>\n",
    "\n",
    "</ol>\n",
    "\n",
    "</p>\n",
    "</div>"
   ]
  },
  {
   "cell_type": "code",
   "execution_count": null,
   "id": "a77fd660",
   "metadata": {},
   "outputs": [],
   "source": [
    "x_range = np.linspace(0.05, 38, 100)\n",
    "plt.figure(figsize=(10, 6))\n",
    "plt.step(ecdf(max_list['T'])[1], 1-ecdf(max_list['T'])[0],'cornflowerblue', label = 'Monthly maxima of T')\n",
    "plt.plot(x_range, 1-stats.genextreme.cdf(x_range, *params_T),\n",
    "             '--k', label='GEV')\n",
    "plt.xlabel('Maximum daily temperature [mm]')\n",
    "plt.ylabel('${P[X > x]}$')\n",
    "plt.yscale('log') \n",
    "plt.grid()\n",
    "plt.legend();"
   ]
  },
  {
   "cell_type": "markdown",
   "id": "f1fad095",
   "metadata": {},
   "source": [
    "<div style=\"background-color:#FAE99E; color: black; vertical-align: middle; padding:15px; margin: 10px; border-radius: 10px; width: 95%\">\n",
    "    <b>Solution:</b>\n",
    "       \n",
    "<ol>\n",
    "    <li>The probabilities seem to match OK, no clear over or under-prediction. </li>\n",
    "    <li>The bounded tail looks appropriate for the data.</li>\n",
    "</ol>\n",
    "</div>\n",
    "</div>"
   ]
  },
  {
   "cell_type": "markdown",
   "id": "fe25f14a",
   "metadata": {
    "tags": []
   },
   "source": [
    "## Task 5: Return Levels\n",
    "\n",
    "It was previously indicated that the structure should be designed for a lifespan of 50 years with a probability of failure of 0.1 along the design life."
   ]
  },
  {
   "cell_type": "markdown",
   "id": "1275c83e",
   "metadata": {},
   "source": [
    "<div style=\"background-color:#AABAB2; color: black; vertical-align: middle; padding:15px; margin: 10px; border-radius: 10px; width: 95%\">\n",
    "<p>\n",
    "<b>Task 5.1:</b>   \n",
    "\n",
    "Compute the design return period using both the Binomial and Poisson model for extremes. Compare the obtained return.\n",
    "</p>\n",
    "</div>"
   ]
  },
  {
   "cell_type": "markdown",
   "id": "4c09315b",
   "metadata": {},
   "source": [
    "<div style=\"background-color:#FAE99E; color: black; vertical-align: middle; padding:15px; margin: 10px; border-radius: 10px; width: 95%\">\n",
    "    <b>Solution:</b>\n",
    "    \n",
    "Using the Binomial model:\n",
    "\n",
    "$\n",
    "RT = \\frac{1}{1-(1-p_{f,DL})^(1/DL)} = \\frac{1}{1-(1-0.1)^(1/50)} = 475.04 \\ years\n",
    "$\n",
    "\n",
    "Using the Poisson model:\n",
    "\n",
    "$\n",
    "RT = \\frac{-DL}{ln(1-p_{f,DL})} = \\frac{-50}{ln(1-0.1)}= 474.56\\ years\n",
    "$\n",
    "\n",
    "Both models provide similar results.\n",
    "</div>\n",
    "</div>"
   ]
  },
  {
   "cell_type": "markdown",
   "id": "be19e913",
   "metadata": {},
   "source": [
    "<div style=\"background-color:#AABAB2; color: black; vertical-align: middle; padding:15px; margin: 10px; border-radius: 10px; width: 95%\">\n",
    "<p>\n",
    "<b>Task 5.2:</b>   \n",
    "\n",
    "Considering that you have sampled monthly maxima, compute and plot the return level plot: values of the random variable in the x-axis and return periods on the y-axis. Y-axis in logscale.\n",
    "</p>\n",
    "</div>"
   ]
  },
  {
   "cell_type": "markdown",
   "id": "2b0b8012",
   "metadata": {
    "id": "0491cc69"
   },
   "source": [
    "<div style=\"background-color:#facb8e; color: black; vertical-align: middle; padding:15px; margin: 10px; border-radius: 10px; width: 95%\"> <p>The three missing variables listed below are all type <code>numpy.ndarray</code>; the last is found using your <code>scipy.stats</code> distribution from Task 3.\n",
    "</p></div>"
   ]
  },
  {
   "cell_type": "markdown",
   "id": "2a491f11",
   "metadata": {},
   "source": [
    "<div style=\"background-color:#FAE99E; color: black; vertical-align: middle; padding:15px; margin: 10px; border-radius: 10px; width: 95%\">\n",
    "<b>Solution:</b>\n",
    "    \n",
    "The return period from the previous task is defined and converted to a probability, then the design value is found using the inverse CDF.\n",
    "    \n",
    "Note that the number of maxima per year is 12 (12 months/year) so we need to take it into account when computing the probabilities.\n",
    "    \n",
    "Note the unpacking of the distribution parameters, <code>*params_P</code>, which keeps the syntax simple for the GEV distribution.\n",
    "</div>\n",
    "</div>"
   ]
  },
  {
   "cell_type": "code",
   "execution_count": null,
   "id": "5e4bef21",
   "metadata": {},
   "outputs": [],
   "source": [
    "RT_range = np.linspace(1, 500, 500)\n",
    "monthly_probs = 1/(RT_range*12)\n",
    "eval_temp = stats.genextreme.ppf(1-monthly_probs, *params_T)\n",
    "\n",
    "plt.figure(figsize=(10, 6))\n",
    "plt.plot(eval_temp, RT_range, 'k')\n",
    "plt.xlabel('Temperature [mm]')\n",
    "plt.ylabel('RT [years]')\n",
    "plt.yscale('log') \n",
    "plt.grid()"
   ]
  },
  {
   "cell_type": "markdown",
   "id": "c4ccf82d",
   "metadata": {},
   "source": [
    "<div style=\"background-color:#AABAB2; color: black; vertical-align: middle; padding:15px; margin: 10px; border-radius: 10px; width: 95%\">\n",
    "<p>\n",
    "<b>Task 5.3:</b>   \n",
    "Compute the design value of temperature. Choose the return level you prefer within the Poisson and Binomial model.\n",
    "</p>\n",
    "</div>"
   ]
  },
  {
   "cell_type": "markdown",
   "id": "e5e3e14b",
   "metadata": {},
   "source": [
    "<div style=\"background-color:#FAE99E; color: black; vertical-align: middle; padding:15px; margin: 10px; border-radius: 10px; width: 95%\">\n",
    "<b>Solution:</b>\n",
    "    \n",
    "The return period from the previous task is defined and converted to an <em>exceedance</em> probability, then the design value is found using the inverse CDF.\n",
    "        \n",
    "Note the unpacking of the distribution parameters, <code>*params_T</code>, which keeps the syntax simple for the GEV distribution.\n",
    "</div>\n",
    "</div>"
   ]
  },
  {
   "cell_type": "code",
   "execution_count": null,
   "id": "256354be",
   "metadata": {},
   "outputs": [],
   "source": [
    "RT_design = 475\n",
    "monthly_design = 1/(RT_design*12)\n",
    "design_T = stats.genextreme.ppf(1-monthly_design, *params_T)\n",
    "\n",
    "print('The design value of temperature is:',\n",
    "      f'{design_T:.3f}')"
   ]
  },
  {
   "cell_type": "markdown",
   "id": "4a47c7c2",
   "metadata": {},
   "source": [
    "**End of notebook.**\n",
    "\n",
    "<div style=\"margin-top: 50px; padding-top: 20px; border-top: 1px solid #ccc;\">\n",
    "  <div style=\"display: flex; justify-content: flex-end; gap: 20px; align-items: center;\">\n",
    "    <a rel=\"MUDE\" href=\"http://mude.citg.tudelft.nl/\">\n",
    "      <img alt=\"MUDE\" style=\"width:100px; height:auto;\" src=\"https://gitlab.tudelft.nl/mude/public/-/raw/main/mude-logo/MUDE_Logo-small.png\" />\n",
    "    </a>\n",
    "    <a rel=\"TU Delft\" href=\"https://www.tudelft.nl/en/ceg\">\n",
    "      <img alt=\"TU Delft\" style=\"width:100px; height:auto;\" src=\"https://gitlab.tudelft.nl/mude/public/-/raw/main/tu-logo/TU_P1_full-color.png\" />\n",
    "    </a>\n",
    "    <a rel=\"license\" href=\"http://creativecommons.org/licenses/by/4.0/\">\n",
    "      <img alt=\"Creative Commons License\" style=\"width:88px; height:auto;\" src=\"https://i.creativecommons.org/l/by/4.0/88x31.png\" />\n",
    "    </a>\n",
    "  </div>\n",
    "  <div style=\"font-size: 75%; margin-top: 10px; text-align: right;\">\n",
    "    By <a rel=\"MUDE\" href=\"http://mude.citg.tudelft.nl/\">MUDE Team</a>\n",
    "    &copy; 2024 TU Delft. \n",
    "    <a rel=\"license\" href=\"http://creativecommons.org/licenses/by/4.0/\">CC BY 4.0</a>.\n",
    "    <a rel=\"Zenodo DOI\" href=\"https://doi.org/10.5281/zenodo.16782515\"><img style=\"width:auto; height:15; vertical-align:middle\" src=\"https://zenodo.org/badge/DOI/10.5281/zenodo.16782515.svg\" alt=\"DOI https://doi.org/10.5281/zenodo.16782515\"></a>\n",
    "  </div>\n",
    "</div>\n",
    "\n",
    "\n",
    "<!--tested with WS_2_8_solution.ipynb-->"
   ]
  }
 ],
 "metadata": {
  "language_info": {
   "name": "python"
  }
 },
 "nbformat": 4,
 "nbformat_minor": 5
}
