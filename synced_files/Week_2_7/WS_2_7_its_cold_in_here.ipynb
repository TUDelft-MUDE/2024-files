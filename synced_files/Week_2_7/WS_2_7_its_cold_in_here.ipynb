{
 "cells": [
  {
   "cell_type": "markdown",
   "id": "f0fdf12b",
   "metadata": {},
   "source": [
    "# Workshop 2.7: Extreme temperature\n",
    "\n",
    "<h1 style=\"position: absolute; display: flex; flex-grow: 0; flex-shrink: 0; flex-direction: row-reverse; top: 60px;right: 30px; margin: 0; border: 0\">\n",
    "    <style>\n",
    "        .markdown {width:100%; position: relative}\n",
    "        article { position: relative }\n",
    "    </style>\n",
    "    <img src=\"https://gitlab.tudelft.nl/mude/public/-/raw/main/tu-logo/TU_P1_full-color.png\" style=\"width:100px\" />\n",
    "    <img src=\"https://gitlab.tudelft.nl/mude/public/-/raw/main/mude-logo/MUDE_Logo-small.png\" style=\"width:100px\" />\n",
    "</h1>\n",
    "<h2 style=\"height: 10px\">\n",
    "</h2>\n",
    "\n",
    "*[CEGM1000 MUDE](http://mude.citg.tudelft.nl/): Extreme Value Analysis, Week 2.7, Wednesday, Jan 8, 2025.*"
   ]
  },
  {
   "cell_type": "markdown",
   "id": "9f0edcc0",
   "metadata": {
    "id": "1db6fea9-f3ad-44bc-a4c8-7b2b3008e945"
   },
   "source": [
    "In this session, you will work with the uncertainty of extreme temperatures in the airport of Barcelona to assess the extreme loads induced by temperature in a steel structure in the area. You have daily observations of the maximum temperature for several years. The dataset was retrieved from the Spanish Agency of Metheorology [AEMET](https://www.aemet.es/es/portada). Your goal is to design the structure for a _lifespan of 50 years_ with a _probability of failure of 0.1_ during the design life. \n",
    "\n",
    "**The goal of this project is:**\n",
    "1. Compute the required design return period for the steel structure.\n",
    "2. Perform monthly Block Maxima and fit the a distribution to the sampled observations.\n",
    "3. Assess the Goodness of fit of the distribution.\n",
    "4. Compute the return level plot.\n",
    "5. Compute the design return level."
   ]
  },
  {
   "cell_type": "code",
   "execution_count": null,
   "id": "d0a43609",
   "metadata": {},
   "outputs": [],
   "source": [
    "import numpy as np\n",
    "import pandas as pd\n",
    "import matplotlib.pyplot as plt\n",
    "\n",
    "from scipy import stats \n",
    "from math import ceil, trunc\n",
    "\n",
    "plt.rcParams.update({'font.size': 14})"
   ]
  },
  {
   "cell_type": "markdown",
   "id": "1f359340",
   "metadata": {},
   "source": [
    "## Task 1: Data Exploration\n",
    "\n",
    "First step in the analysis is exploring the data, visually and through its statistics. We import the dataset and explore its columns."
   ]
  },
  {
   "cell_type": "code",
   "execution_count": null,
   "id": "5fe2c777",
   "metadata": {},
   "outputs": [],
   "source": [
    "T = pd.read_csv('temp.csv', delimiter = ',', parse_dates = True).dropna().reset_index(drop=True)\n",
    "T.columns=['Date', 'T'] #rename columns\n",
    "T.head()"
   ]
  },
  {
   "cell_type": "markdown",
   "id": "bf2fdb41",
   "metadata": {},
   "source": [
    "The dataset has two columns: the time stamp of the measurements and the cumulative daily precipitation. We set the first columns as a datetime as they are the dates of the measurements."
   ]
  },
  {
   "cell_type": "code",
   "execution_count": null,
   "id": "d889ae68",
   "metadata": {},
   "outputs": [],
   "source": [
    "T['Date'] = pd.to_datetime(T['Date'], format='mixed')\n",
    "T['Date']"
   ]
  },
  {
   "cell_type": "markdown",
   "id": "aecac665",
   "metadata": {},
   "source": [
    "Once formatted, we can plot the timeseries and the histogram."
   ]
  },
  {
   "cell_type": "code",
   "execution_count": null,
   "id": "28422439",
   "metadata": {},
   "outputs": [],
   "source": [
    "fig, axes = plt.subplots(1,2, figsize=(12,5), layout='constrained')\n",
    "\n",
    "axes[0].hist(T['T'], label = 'T', density = True, edgecolor = 'darkblue')\n",
    "axes[0].set_xlabel('PDF')\n",
    "axes[0].set_xlabel('Maximum daily temperature [degrees]')\n",
    "axes[0].grid()\n",
    "axes[0].legend()\n",
    "axes[0].set_title('(a) Histogram')\n",
    "\n",
    "axes[1].plot(T['Date'], T['T'],'k', label = 'P')\n",
    "axes[1].set_xlabel('Time')\n",
    "axes[1].set_ylabel('Maximum daily temperature [degrees]')\n",
    "axes[1].grid()\n",
    "axes[1].set_title('(b) Time series')\n",
    "axes[1].legend()"
   ]
  },
  {
   "cell_type": "markdown",
   "id": "8c8078dd",
   "metadata": {},
   "source": [
    "<div style=\"background-color:#AABAB2; color: black; vertical-align: middle; padding:15px; margin: 10px; border-radius: 10px; width: 95%\">\n",
    "<p>\n",
    "<b>Task 2.1:</b>   \n",
    "Based on the above plots, briefly describe the data.\n",
    "</p>\n",
    "</div>"
   ]
  },
  {
   "cell_type": "markdown",
   "id": "7d839919",
   "metadata": {},
   "source": [
    "## Task 2: Sample Monthly Maxima"
   ]
  },
  {
   "cell_type": "markdown",
   "id": "d5f268e7",
   "metadata": {},
   "source": [
    "<div style=\"background-color:#AABAB2; color: black; vertical-align: middle; padding:15px; margin: 10px; border-radius: 10px; width: 95%\">\n",
    "<p>\n",
    "<b>Task 2.2:</b>   \n",
    "Sample monthly maxima from the timeseries and plot them on the timeseries. Plot also the histograms of both the maxima and the observations.\n",
    "</p>\n",
    "</div>"
   ]
  },
  {
   "cell_type": "code",
   "execution_count": null,
   "id": "9ba63a9c",
   "metadata": {},
   "outputs": [],
   "source": [
    "# Extract year and month from the Date column\n",
    "T['Year'] = T['Date'].dt.year\n",
    "T['Month'] = T['Date'].dt.month\n",
    "\n",
    "# Group by Year and Month, then get the maximum observation\n",
    "idx_max = #your code here\n",
    "max_list = T.loc[idx_max]"
   ]
  },
  {
   "cell_type": "code",
   "execution_count": null,
   "id": "8259cfac",
   "metadata": {},
   "outputs": [],
   "source": [
    "#Your code here: plot"
   ]
  },
  {
   "cell_type": "markdown",
   "id": "8e610658",
   "metadata": {},
   "source": [
    "<div style=\"background-color:#AABAB2; color: black; vertical-align: middle; padding:15px; margin: 10px; border-radius: 10px; width: 95%\">\n",
    "<p>\n",
    "<b>Task 2.3:</b>   \n",
    "Look at the previous plots. Are the sampled maxima independent and identically distributed? Justify your answer. What are the implications for further analysis?\n",
    "</p>\n",
    "</div>"
   ]
  },
  {
   "cell_type": "markdown",
   "id": "65b74382",
   "metadata": {},
   "source": [
    "<div style=\"background-color:#AABAB2; color: black; vertical-align: middle; padding:15px; margin: 10px; border-radius: 10px; width: 95%\">\n",
    "<p>\n",
    "<b>Task 2.4:</b>   \n",
    "Compute PDF and the empirical cumulative distribution function of the observations and the sampled monthly maxima. Plot the ECDF in log-scale. Where are the sampled monthly maxima located with respect with the CDF of all the observations?\n",
    "</p>\n",
    "</div>"
   ]
  },
  {
   "cell_type": "code",
   "execution_count": null,
   "id": "cd7478bd",
   "metadata": {},
   "outputs": [],
   "source": [
    "def ecdf(var):\n",
    "    #your code here\n",
    "    return [y, x]\n",
    "\n",
    "#your plot here"
   ]
  },
  {
   "cell_type": "markdown",
   "id": "27bbdaef",
   "metadata": {},
   "source": [
    "## Task 3: Distribution Fitting\n",
    "\n",
    "We did this a lot at the end of Q1---refer to your previous work as needed!"
   ]
  },
  {
   "cell_type": "markdown",
   "id": "2e3aa224",
   "metadata": {},
   "source": [
    "<div style=\"background-color:#AABAB2; color: black; vertical-align: middle; padding:15px; margin: 10px; border-radius: 10px; width: 95%\">\n",
    "<p>\n",
    "<b>Task 3:</b>   \n",
    "Fit a distribution to the monthly maxima. Print the values of the obtained parameters and interpret them:\n",
    "<ol>\n",
    "    <li>Do the location and scale parameters match the data?</li>\n",
    "    <li>According to the shape parameter, what type of distribution is this?</li>\n",
    "    <li>What type of tail does the distribution have (refer to EVA Chapter 7.2 of the book)?</li>\n",
    "    <li>Does the distribution have an upper bound? If so, compute it!</li>\n",
    "</ol>\n",
    "</p>\n",
    "</div>"
   ]
  },
  {
   "cell_type": "markdown",
   "id": "6ad932be",
   "metadata": {
    "id": "0491cc69"
   },
   "source": [
    "<div style=\"background-color:#facb8e; color: black; vertical-align: middle; padding:15px; margin: 10px; border-radius: 10px; width: 95%\"> <p>Use <a href=\"https://docs.scipy.org/doc/scipy/reference/stats.html\" target=\"_blank\">scipy.stats</a> built in functions (watch out with the parameter definitions!), similar to Week 1.7 and use the DataFrame created in Task 2.\n",
    "</p></div>"
   ]
  },
  {
   "cell_type": "code",
   "execution_count": null,
   "id": "be1757e7",
   "metadata": {},
   "outputs": [],
   "source": [
    "params_T = #your code here\n",
    "print(params_T)"
   ]
  },
  {
   "cell_type": "markdown",
   "id": "703155cc",
   "metadata": {},
   "source": [
    "## Task 4: Goodness of Fit"
   ]
  },
  {
   "cell_type": "markdown",
   "id": "7adbdb19",
   "metadata": {},
   "source": [
    "<div style=\"background-color:#AABAB2; color: black; vertical-align: middle; padding:15px; margin: 10px; border-radius: 10px; width: 95%\">\n",
    "<p>\n",
    "<b>Task 4:</b>   \n",
    "Assess the goodness of fit of the selected distribution using the exceedance probability plot in semi-log scale.\n",
    "    \n",
    "Consider the following questions:\n",
    "<ol>\n",
    "    <li>How well do the probabilities of the fitted distribution match the empirical distribution? Is there an over- or under-prediction?</li>\n",
    "    <li>Is the tail type of this GEV distribution appropriate for the data?</li>\n",
    "\n",
    "</ol>\n",
    "\n",
    "</p>\n",
    "</div>"
   ]
  },
  {
   "cell_type": "code",
   "execution_count": null,
   "id": "671dee64",
   "metadata": {},
   "outputs": [],
   "source": [
    "#your code here"
   ]
  },
  {
   "cell_type": "markdown",
   "id": "379807c0",
   "metadata": {
    "tags": []
   },
   "source": [
    "## Task 5: Return Levels\n",
    "\n",
    "It was previously indicated that the structure should be designed for a lifespan of 50 years with a probability of failure of 0.1 along the design life."
   ]
  },
  {
   "cell_type": "markdown",
   "id": "41f79cab",
   "metadata": {},
   "source": [
    "<div style=\"background-color:#AABAB2; color: black; vertical-align: middle; padding:15px; margin: 10px; border-radius: 10px; width: 95%\">\n",
    "<p>\n",
    "<b>Task 5.1:</b>   \n",
    "\n",
    "Compute the design return period using both the Binomial and Poisson model for extremes. Compare the obtained return.\n",
    "</p>\n",
    "</div>"
   ]
  },
  {
   "cell_type": "markdown",
   "id": "76e65a05",
   "metadata": {},
   "source": [
    "<div style=\"background-color:#AABAB2; color: black; vertical-align: middle; padding:15px; margin: 10px; border-radius: 10px; width: 95%\">\n",
    "<p>\n",
    "<b>Task 5.2:</b>   \n",
    "\n",
    "Considering that you have sampled monthly maxima, compute and plot the return level plot: values of the random variable in the x-axis and return periods on the y-axis. Y-axis in logscale.\n",
    "</p>\n",
    "</div>"
   ]
  },
  {
   "cell_type": "code",
   "execution_count": null,
   "id": "7b509a9e",
   "metadata": {},
   "outputs": [],
   "source": [
    "RT_range = #range of values of return level\n",
    "monthly_probs = #compute monthly probabilities\n",
    "eval_temp = #compute the values of the random variable for those probabilities\n",
    "\n",
    "plt.figure(figsize=(10, 6))\n",
    "plt.plot(eval_temp, RT_range, 'k')\n",
    "plt.xlabel('Temperature [mm]')\n",
    "plt.ylabel('RT [years]')\n",
    "plt.yscale('log') \n",
    "plt.grid()"
   ]
  },
  {
   "cell_type": "markdown",
   "id": "31057149",
   "metadata": {},
   "source": [
    "<div style=\"background-color:#AABAB2; color: black; vertical-align: middle; padding:15px; margin: 10px; border-radius: 10px; width: 95%\">\n",
    "<p>\n",
    "<b>Task 5.3:</b>   \n",
    "Compute the design value of temperature. Choose the return level you prefer within the Poisson and Binomial model.\n",
    "</p>\n",
    "</div>"
   ]
  },
  {
   "cell_type": "code",
   "execution_count": null,
   "id": "5a80cb51",
   "metadata": {},
   "outputs": [],
   "source": [
    "RT_design = #value of the return period\n",
    "monthly_design = #compute the monthly probability\n",
    "design_T = #compute the design value\n",
    "\n",
    "print('The design value of temperature is:',\n",
    "      f'{design_T:.3f}')"
   ]
  },
  {
   "cell_type": "markdown",
   "id": "be144598",
   "metadata": {},
   "source": [
    "**End of notebook.**\n",
    "\n",
    "<div style=\"margin-top: 50px; padding-top: 20px; border-top: 1px solid #ccc;\">\n",
    "  <div style=\"display: flex; justify-content: flex-end; gap: 20px; align-items: center;\">\n",
    "    <a rel=\"MUDE\" href=\"http://mude.citg.tudelft.nl/\">\n",
    "      <img alt=\"MUDE\" style=\"width:100px; height:auto;\" src=\"https://gitlab.tudelft.nl/mude/public/-/raw/main/mude-logo/MUDE_Logo-small.png\" />\n",
    "    </a>\n",
    "    <a rel=\"TU Delft\" href=\"https://www.tudelft.nl/en/ceg\">\n",
    "      <img alt=\"TU Delft\" style=\"width:100px; height:auto;\" src=\"https://gitlab.tudelft.nl/mude/public/-/raw/main/tu-logo/TU_P1_full-color.png\" />\n",
    "    </a>\n",
    "    <a rel=\"license\" href=\"http://creativecommons.org/licenses/by/4.0/\">\n",
    "      <img alt=\"Creative Commons License\" style=\"width:88px; height:auto;\" src=\"https://i.creativecommons.org/l/by/4.0/88x31.png\" />\n",
    "    </a>\n",
    "  </div>\n",
    "  <div style=\"font-size: 75%; margin-top: 10px; text-align: right;\">\n",
    "    By <a rel=\"MUDE\" href=\"http://mude.citg.tudelft.nl/\">MUDE Team</a>\n",
    "    &copy; 2024 TU Delft. \n",
    "    <a rel=\"license\" href=\"http://creativecommons.org/licenses/by/4.0/\">CC BY 4.0</a>.\n",
    "    <a rel=\"Zenodo DOI\" href=\"https://doi.org/10.5281/zenodo.16782515\"><img style=\"width:auto; height:15; vertical-align:middle\" src=\"https://zenodo.org/badge/DOI/10.5281/zenodo.16782515.svg\" alt=\"DOI https://doi.org/10.5281/zenodo.16782515\"></a>\n",
    "  </div>\n",
    "</div>\n",
    "\n",
    "\n",
    "<!--tested with WS_2_8_solution.ipynb-->"
   ]
  }
 ],
 "metadata": {
  "language_info": {
   "name": "python"
  }
 },
 "nbformat": 4,
 "nbformat_minor": 5
}
