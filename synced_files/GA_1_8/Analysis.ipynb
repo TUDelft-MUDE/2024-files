{
 "cells": [
  {
   "cell_type": "markdown",
   "id": "e98227dc",
   "metadata": {},
   "source": [
    "# GA 1.8: Multivariate Distributions\n",
    "\n",
    "<h1 style=\"position: absolute; display: flex; flex-grow: 0; flex-shrink: 0; flex-direction: row-reverse; top: 60px;right: 30px; margin: 0; border: 0\">\n",
    "    <style>\n",
    "        .markdown {width:100%; position: relative}\n",
    "        article { position: relative }\n",
    "    </style>\n",
    "    <img src=\"https://gitlab.tudelft.nl/mude/public/-/raw/main/tu-logo/TU_P1_full-color.png\" style=\"width:100px; height: auto; margin: 0\" />\n",
    "    <img src=\"https://gitlab.tudelft.nl/mude/public/-/raw/main/mude-logo/MUDE_Logo-small.png\" style=\"width:100px; height: auto; margin: 0\" />\n",
    "</h1>\n",
    "<h2 style=\"height: 10px\">\n",
    "</h2>\n",
    "\n",
    "*[CEGM1000 MUDE](http://mude.citg.tudelft.nl/): Week 1.8, Friday Oct 25, 2024.*"
   ]
  },
  {
   "cell_type": "markdown",
   "id": "2fdc533c",
   "metadata": {},
   "source": [
    "## Objective\n",
    "\n",
    "This notebook is structured in an identical way to WS 1.8. In particular, we have 3 main tasks:\n",
    "1. Build a multivariate distribution $F_{X_1,X_2}(x_1,x_2)$\n",
    "2. Use the distribution by comparing empirical probabilities to values computed with $F_{X_1,X_2}(x_1,x_2)$ for the AND, OR and function of random variable cases\n",
    "3. Validate the distribution using the distribution of the function of random variables, $Z(X_1,X_2)$.\n",
    "\n",
    "### Multivariate Distribution (Task 1)\n",
    "\n",
    "As with WS 1.8, we will build a multivariate distribution, but this time we will include non-Gaussian marginal distributions using a Gaussian Copula:\n",
    "\n",
    "$$\n",
    "F_{X_1,X_2}(x_1,x_2) = C[F_{X_1}(x_1)F_{X_2}(x_2)]\n",
    "$$\n",
    "\n",
    "In this case, the Copula requires one parameter: the Pearson correlation coefficient, $\\rho$.\n",
    "\n",
    "This distribution has been implemented in the class `Bivariate` within `helper.py`. You can define an instance of the class using:\n",
    "```\n",
    "my_bivariate_dist = Bivariate(marginal_1, marginal_2, rho)\n",
    "```\n",
    "where the arguments are the marginal distributions for your random variables and are instances of the class `rv_continuous` from `scipy.stats`. In fact, the `Bivariate` class has been created with similar methods to `multivariate_normal`; in other words, you can use the methods `pdf`, `cdf` and `rvs` in the same way as `multivariate_normal` in WS 1.8.\n",
    "\n",
    "Note that the function `plot_contours` will also work, but due to the way `Bivariate` is implemented, it is slow to make the plots, so you may want to use small sample sizes.\n",
    "\n",
    "#### Python Package: `pyvinecopulib`\n",
    "\n",
    "A package `pyvinecopulib` is required for the Bivariate class. It is only available on PyPI, so it has to be installed using `pip`. Fortunately you should already have done this as part of PA 1.8, so all you need to do is remember to use your environment `mude-week-8`.\n",
    "\n",
    "### Probability Calculations for 3 Cases (Task 2)\n",
    "\n",
    "For each data set, we will use the 90th percentile of each random variable to evaluate the AND, OR and function of random variable cases. In other words:\n",
    "\n",
    "$$\n",
    "x_{1,90} = F_{X_1}^{-1}(0.90) \\;\\;\\textrm{and}\\;\\; x_{2,90} = F_{X_2}^{-1}(0.90)\n",
    "$$\n",
    "\n",
    "Since there were three data sets to choose from last week, each with different functions and variables, this notebook uses the notation $Z(X_1,X_2)$ to represent the function of random variables for your particular case. As we did in WS 1.8, we would like to evaluate $Z$ for a threshold condition (in WS 1.8 it was $Z<0$ for the Thingamajig). For this assignment, consider the threshold case to be all combinations of $x_1$ and $x_2$ such that:\n",
    "\n",
    "$$\n",
    "Z>Z(x_{1,90},z_{2,90})\n",
    "$$\n",
    "\n",
    "### Propagating Uncertainty (Task 3)\n",
    "\n",
    "This proceeds as in WS 1.8 as well, where you will use the samples generated in Task 2 to evaluate the distribution of $Z$ and compare to the empirical data set."
   ]
  },
  {
   "cell_type": "code",
   "execution_count": null,
   "id": "7a5a861a",
   "metadata": {},
   "outputs": [],
   "source": [
    "import numpy as np\n",
    "import matplotlib.pyplot as plt\n",
    "import scipy.stats as st\n",
    "\n",
    "from helper import plot_contour\n",
    "from helper import Bivariate"
   ]
  },
  {
   "cell_type": "markdown",
   "id": "8d0b2598",
   "metadata": {
    "tags": []
   },
   "source": [
    "## Part 1: Creating a Bivariate Distribution\n",
    "\n",
    "We need to represent our two dependent random variables with marginal distributions and use the correlation coefficient to model dependence, as found previously in GA 1.7."
   ]
  },
  {
   "cell_type": "markdown",
   "id": "1dab163a",
   "metadata": {},
   "source": [
    "<div style=\"background-color:#AABAB2; color: black; width: 95%; vertical-align: middle; padding:15px; margin: 10px; border-radius: 10px\">\n",
    "<p>\n",
    "<b>Task 1.1:</b>   \n",
    "\n",
    "Import your data set from last week and define the marginal distributions as frozen scipy stats objects.\n",
    "\n",
    "<em>The cell below illustrates how to create a frozen Gaussian distribution</em> \n",
    "</p>\n",
    "</p>\n",
    "</div>"
   ]
  },
  {
   "cell_type": "markdown",
   "id": "a4ffdd40",
   "metadata": {},
   "source": [
    "<div style=\"background-color:#FAE99E; color: black; width: 95%; vertical-align: middle; padding:15px; margin: 10px; border-radius: 10px\">\n",
    "<p>\n",
    "Remember there is a <a href=\"https://mude.citg.tudelft.nl/2024/book/probability/python.html\" target=\"_blank\">new page on scipy stats in the book</a> in case you need a reference.\n",
    "</p>\n",
    "</div>"
   ]
  },
  {
   "cell_type": "code",
   "execution_count": null,
   "id": "590e0359",
   "metadata": {},
   "outputs": [],
   "source": [
    "# YOUR_CODE_HERE # many lines\n",
    "# parameters1 = st.norm.fit_loc_scale(data_x1)\n",
    "# dist_x1 = st.norm(*parameters1)"
   ]
  },
  {
   "cell_type": "markdown",
   "id": "0a995241",
   "metadata": {},
   "source": [
    "<div style=\"background-color:#AABAB2; color: black; width: 95%; vertical-align: middle; padding:15px; margin: 10px; border-radius: 10px\">\n",
    "<p>\n",
    "<b>Task 1.2:</b>   \n",
    "Compute the covariance and correlation coefficient between the two random variables. Print the results.\n",
    "</p>\n",
    "</div>"
   ]
  },
  {
   "cell_type": "code",
   "execution_count": null,
   "id": "4987f289",
   "metadata": {},
   "outputs": [],
   "source": [
    "# YOUR_CODE_HERE # many lines"
   ]
  },
  {
   "cell_type": "markdown",
   "id": "6fa71e4a",
   "metadata": {},
   "source": [
    "<div style=\"background-color:#AABAB2; color: black; width: 95%; vertical-align: middle; padding:15px; margin: 10px; border-radius: 10px\">\n",
    "<p>\n",
    "<b>Task 1.3:</b>   \n",
    "Build the bivariate distribution by instantiating the <code>Bivariate</code> class in <code>helper.py</code> (and described above). To validate the result, create a plot that shows contours of the joint PDF, compared with the data (see note below). Include the data in your plot and write a few comments on the quality of the fit for use in your Report.\n",
    "</p>\n",
    "</div>"
   ]
  },
  {
   "cell_type": "markdown",
   "id": "b411098e",
   "metadata": {
    "id": "0491cc69"
   },
   "source": [
    "<div style=\"background-color:#facb8e; color: black; width: 95%; vertical-align: middle; padding:15px; margin: 10px; border-radius: 10px\"> <p>Use the helper function <code>plot_contour</code> in <code>helper.py</code>; it works exactle the same as in WS 1.8.</em></p></div>"
   ]
  },
  {
   "cell_type": "code",
   "execution_count": null,
   "id": "5ab94b83",
   "metadata": {},
   "outputs": [],
   "source": [
    "# plot_contour? # uncomment and run to read docstring"
   ]
  },
  {
   "cell_type": "code",
   "execution_count": null,
   "id": "f67ac037",
   "metadata": {},
   "outputs": [],
   "source": [
    "bivar_dist = Bivariate(YOUR_CODE_HERE, YOUR_CODE_HERE, YOUR_CODE_HERE)\n",
    "\n",
    "plot_contour(YOUR_CODE_HERE, YOUR_CODE_HERE, data=data)"
   ]
  },
  {
   "cell_type": "markdown",
   "id": "482b4d77",
   "metadata": {},
   "source": [
    "## Part 2: Using the Bivariate Distribution\n",
    "\n",
    "Now that we have the distribution, we will use it compute probabilities related to the three cases, presented above, as follows:\n",
    "\n",
    "1. $P[X_1>x_{1,90} \\;\\cup\\; X_2>x_{2,90}$\n",
    "2. $P[X_1>x_{1,90} \\;\\cap\\; X_2>x_{2,90}]$\n",
    "3. $P[X_1,X_2:\\; Z>Z(x_{1,90},x_{2,90})]$\n",
    "\n",
    "Note that the \"critical\" Z value in this case is that where your Z function is evaluated at the 90th percentile values of each random variable."
   ]
  },
  {
   "cell_type": "markdown",
   "id": "156ad523",
   "metadata": {},
   "source": [
    "<div style=\"background-color:#AABAB2; color: black; width: 95%; vertical-align: middle; padding:15px; margin: 10px; border-radius: 10px\">\n",
    "<p>\n",
    "<b>Task 2:</b>\n",
    "    \n",
    "For each of the three cases, do the following:\n",
    "\n",
    "- Compute the requested probability using the empirical distribution.\n",
    "- Compute the requested probability using the bivariate distribution.\n",
    "- Create a bivariate plot that includes PDF contours <em>and</em> the region of interest.\n",
    "- Repeat the calculations for additional cases of correlation coefficient (for example change $\\rho$ to: +0.9, 0.0, then -0.9) to see how the answer changes (you can simply regenerate the plot, you don't need to make multiple versions). <em>You can save this sub-task for later if you are running out of time. It is more important to get through Task 3 during the in-class session.</em>\n",
    "- Write two or three sentences that summarize the results and explains the quantitative impact of correlation coefficient. Make a particular note about whether or not one case may or be affected more or less than the others.\n",
    "\n",
    "</p>\n",
    "</div>"
   ]
  },
  {
   "cell_type": "markdown",
   "id": "0a5a5184",
   "metadata": {
    "id": "0491cc69"
   },
   "source": [
    "<div style=\"background-color:#facb8e; color: black; width: 95%; vertical-align: middle; padding:15px; margin: 10px; border-radius: 10px\"> <p>Note that the optional arguments in the helper function <code>plot_contour</code> will be useful here.\n",
    "\n",
    "Here is an example code that shows you what it can do (the values are meaningless)\n",
    "</p></div>"
   ]
  },
  {
   "cell_type": "code",
   "execution_count": null,
   "id": "7d321f75",
   "metadata": {},
   "outputs": [],
   "source": [
    "region_example = np.array([[0, 5, 12, 20, 28, 30],\n",
    "                           [5, 20, 0, 18, 19, 12]])\n",
    "\n",
    "plot_contour(bivar_dist, [0, 30, 0, 30],\n",
    "             case=[23, 13],\n",
    "             region=region_example);\n"
   ]
  },
  {
   "cell_type": "markdown",
   "id": "7685d900",
   "metadata": {},
   "source": [
    "<div style=\"background-color:#AABAB2; color: black; width: 95%; vertical-align: middle; padding:15px; margin: 10px; border-radius: 10px\">\n",
    "<p>\n",
    "\n",
    "<b>Task 2.1 and 2.2:</b> create cells below to carry out the OR and AND calculations.\n",
    "</p>\n",
    "</div>"
   ]
  },
  {
   "cell_type": "code",
   "execution_count": null,
   "id": "a6a4fb81",
   "metadata": {},
   "outputs": [],
   "source": [
    "# YOUR_CODE_HERE\n",
    "# DEFINITELY more than one line.\n",
    "# probably several cells too ;)"
   ]
  },
  {
   "cell_type": "markdown",
   "id": "a0312721",
   "metadata": {},
   "source": [
    "<div style=\"background-color:#AABAB2; color: black; width: 95%; vertical-align: middle; padding:15px; margin: 10px; border-radius: 10px\">\n",
    "<p>\n",
    "\n",
    "<b>Task 2.3:</b> create cells below to carry out the Case 3 calculations.\n",
    "\n",
    "Note that in this case you need to make the plot to visualize the region over which we want to integrate. We need to define the boundary of the region of interest by solving the equation $Z(X_1,X_2)$ for $X_2$ when $Z=Z(x_{1,90},x_{2,90})$.\n",
    "</p>\n",
    "</div>"
   ]
  },
  {
   "cell_type": "markdown",
   "id": "ade3911c",
   "metadata": {},
   "source": [
    "The equation can be defined as follows:\n",
    "\n",
    "$$\n",
    "\\textrm{WRITE THE EQUATION HERE}\n",
    "$$\n",
    "\n",
    "which is then defined in Python and included in the `plot_contours` function as an array for the keyword argument `region`."
   ]
  },
  {
   "cell_type": "code",
   "execution_count": null,
   "id": "c83ab426",
   "metadata": {},
   "outputs": [],
   "source": [
    "# YOUR_CODE_HERE\n",
    "# DEFINITELY more than one line.\n",
    "# probably several cells too ;)"
   ]
  },
  {
   "cell_type": "markdown",
   "id": "62719358",
   "metadata": {},
   "source": [
    "## Part 3: Validate Bivariate with Monte Carlo Simulation\n",
    "\n",
    "Now that we have seen how the different cases give different values of probability, let's focus on the function of random variables. This is a more interesting case because we can use the samples of $Z$ to approximate the distribution $f_Z(z)$ and use the empirical distribution of $Z$ to help validate the bivariate model."
   ]
  },
  {
   "cell_type": "markdown",
   "id": "6b48c1e1",
   "metadata": {},
   "source": [
    "<div style=\"background-color:#AABAB2; color: black; width: 95%; vertical-align: middle; padding:15px; margin: 10px; border-radius: 10px\">\n",
    "<p>\n",
    "\n",
    "$\\textbf{Task 3:}$\n",
    "    \n",
    "Do the following:\n",
    "\n",
    "- Use Monte Carlo Simulation to create a sample of $Z(X_1,X_2)$ and compare this distribution to the empirical distribution.</li>\n",
    "- Write 2-3 sentences assessing the quality of the distribution from MCS, and whether the bivariate distribution is acceptable for this problem. Use qualitative and quantitative measures from last week to support your arguments.\n",
    "    \n",
    "</p>\n",
    "<p>\n",
    "    <em>Note: it would be interesting to fit a parametric distribution to the MCS sample, but it is not required for this assignment.</em>\n",
    "</p>\n",
    "</div>"
   ]
  },
  {
   "cell_type": "markdown",
   "id": "49eb047e",
   "metadata": {},
   "source": [
    "<div style=\"background-color:#AABAB2; color: black; width: 95%; vertical-align: middle; padding:15px; margin: 10px; border-radius: 10px\">\n",
    "<p>\n",
    "\n",
    "<b>Task 3.1:</b> Plot histograms of $Z$ based on the Monte Carlo samples, and based on the data. Note that you probably already computed the samples in Part 2.\n",
    "</p>\n",
    "</div>"
   ]
  },
  {
   "cell_type": "code",
   "execution_count": null,
   "id": "4eeccbf5",
   "metadata": {},
   "outputs": [],
   "source": [
    "plot_values = np.linspace(sample_Z.min(), sample_Z.max(), 30)\n",
    "fig, ax = plt.subplots(1)\n",
    "ax.hist([YOUR_CODE_HERE, YOUR_CODE_HERE],\n",
    "         bins=plot_values,\n",
    "         density=True,\n",
    "         edgecolor='black');\n",
    "ax.legend(['Data', 'MCS Sample'])\n",
    "ax.set_xlabel('$Z(X_1,X_2)$')\n",
    "ax.set_xlabel('Empirical Density [--]')\n",
    "ax.set_title('Comparison of Distributions of $Z$');"
   ]
  },
  {
   "cell_type": "markdown",
   "id": "5843c081",
   "metadata": {},
   "source": [
    "<div style=\"background-color:#AABAB2; color: black; width: 95%; vertical-align: middle; padding:15px; margin: 10px; border-radius: 10px\">\n",
    "<p>\n",
    "\n",
    "<b>Task 3.2:</b> Define a function to compute the ecdf.\n",
    "</p>\n",
    "</div>"
   ]
  },
  {
   "cell_type": "code",
   "execution_count": null,
   "id": "97a44377",
   "metadata": {},
   "outputs": [],
   "source": [
    "def ecdf(var):\n",
    "    x = np.sort(var) # sort the values from small to large\n",
    "    n = x.size # determine the number of datapoints\n",
    "    y = np.arange(1, n+1) / (n + 1)\n",
    "    return [y, x]\n"
   ]
  },
  {
   "cell_type": "markdown",
   "id": "a154d902",
   "metadata": {},
   "source": [
    "<div style=\"background-color:#AABAB2; color: black; width: 95%; vertical-align: middle; padding:15px; margin: 10px; border-radius: 10px\">\n",
    "<p>\n",
    "\n",
    "<b>Task 3.3:</b> Create a semi-log plot of the non-exceedance probability.\n",
    "</p>\n",
    "</div>"
   ]
  },
  {
   "cell_type": "code",
   "execution_count": null,
   "id": "096e2525",
   "metadata": {},
   "outputs": [],
   "source": [
    "fig, axes = plt.subplots(1, 1, figsize=(8, 5))\n",
    "\n",
    "axes.step(YOUR_CODE_HERE, YOUR_CODE_HERE, \n",
    "          color='k', label='Data')\n",
    "axes.step(YOUR_CODE_HERE, YOUR_CODE_HERE,\n",
    "          color='r', label='MCS Sample')\n",
    "axes.set_xlabel('$Z(X_1,X_2)$')\n",
    "axes.set_ylabel('CDF, $\\mathrm{P}[Z < z]$')\n",
    "axes.set_title('Comparison: CDF (log scale expands lower tail)')\n",
    "axes.set_yscale('log')\n",
    "axes.legend()\n",
    "axes.grid()"
   ]
  },
  {
   "cell_type": "markdown",
   "id": "9d3f5464",
   "metadata": {},
   "source": [
    "<div style=\"background-color:#AABAB2; color: black; width: 95%; vertical-align: middle; padding:15px; margin: 10px; border-radius: 10px\">\n",
    "<p>\n",
    "\n",
    "<b>Task 3.4:</b> Create a semi-log plot of the exceedance probability.\n",
    "</p>\n",
    "</div>"
   ]
  },
  {
   "cell_type": "code",
   "execution_count": null,
   "id": "78340d0b",
   "metadata": {},
   "outputs": [],
   "source": [
    "fig, axes = plt.subplots(1, 1, figsize=(8, 5))\n",
    "\n",
    "axes.step(YOUR_CODE_HERE, YOUR_CODE_HERE, \n",
    "          color='k', label='Data')\n",
    "axes.step(YOUR_CODE_HERE, YOUR_CODE_HERE,\n",
    "          color='r', label='MCS Sample')\n",
    "axes.set_xlabel('$Z(X_1,X_2)$')\n",
    "axes.set_ylabel('Exceedance Probability, $\\mathrm{P}[Z > z]$')\n",
    "axes.set_title('Comparison: CDF (log scale expands upper tail)')\n",
    "axes.set_yscale('log')\n",
    "axes.legend()\n",
    "axes.grid()"
   ]
  },
  {
   "cell_type": "markdown",
   "id": "bb3af55a",
   "metadata": {
    "id": "0491cc69"
   },
   "source": [
    "<div style=\"background-color:#facb8e; color: black; width: 95%; vertical-align: middle; padding:15px; margin: 10px; border-radius: 10px\"><p>In case you are wondering, the data for this exercise was computed with a Clayton Copula. A Copula is a useful way of modelling non-linear dependence. If you would like to learn more about this, you should consider the 2nd year cross-over module CEGM2005 Probabilistic Modelling of real-world phenomena through ObseRvations and Elicitation (MORE).</p></div>"
   ]
  },
  {
   "cell_type": "markdown",
   "id": "a7b7a1b4",
   "metadata": {},
   "source": [
    "**End of notebook.**\n",
    "\n",
    "<div style=\"margin-top: 50px; padding-top: 20px; border-top: 1px solid #ccc;\">\n",
    "  <div style=\"display: flex; justify-content: flex-end; gap: 20px; align-items: center;\">\n",
    "    <a rel=\"MUDE\" href=\"http://mude.citg.tudelft.nl/\">\n",
    "      <img alt=\"MUDE\" style=\"width:100px; height:auto;\" src=\"https://gitlab.tudelft.nl/mude/public/-/raw/main/mude-logo/MUDE_Logo-small.png\" />\n",
    "    </a>\n",
    "    <a rel=\"TU Delft\" href=\"https://www.tudelft.nl/en/ceg\">\n",
    "      <img alt=\"TU Delft\" style=\"width:100px; height:auto;\" src=\"https://gitlab.tudelft.nl/mude/public/-/raw/main/tu-logo/TU_P1_full-color.png\" />\n",
    "    </a>\n",
    "    <a rel=\"license\" href=\"http://creativecommons.org/licenses/by/4.0/\">\n",
    "      <img alt=\"Creative Commons License\" style=\"width:88px; height:auto;\" src=\"https://i.creativecommons.org/l/by/4.0/88x31.png\" />\n",
    "    </a>\n",
    "  </div>\n",
    "  <div style=\"font-size: 75%; margin-top: 10px; text-align: right;\">\n",
    "    &copy; Copyright 2024 <a rel=\"MUDE\" href=\"http://mude.citg.tudelft.nl/\">MUDE</a> TU Delft. \n",
    "    This work is licensed under a <a rel=\"license\" href=\"http://creativecommons.org/licenses/by/4.0/\">CC BY 4.0 License</a>.\n",
    "  </div>\n",
    "</div>\n",
    "\n",
    "\n",
    "<!--tested with WS_2_8_solution.ipynb-->"
   ]
  }
 ],
 "metadata": {
  "language_info": {
   "name": "python"
  }
 },
 "nbformat": 4,
 "nbformat_minor": 5
}
