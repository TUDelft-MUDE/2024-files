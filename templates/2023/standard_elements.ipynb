{
 "cells": [
  {
   "cell_type": "markdown",
   "id": "d14e9d93",
   "metadata": {},
   "source": [
    "# Standard Elements\n",
    "\n",
    "See `header_footer.XXXX` files for headers and footers."
   ]
  },
  {
   "cell_type": "markdown",
   "id": "fb3ea95b",
   "metadata": {},
   "source": [
    "## Overview\n",
    "\n",
    "This is where you describe the assignment **briefly**. The last sentence in this cell should not be changed. Feel free to use bullet lists to itemize steps and/or auxiliary files. This assignment includes:\n",
    "1. a\n",
    "2. b\n",
    "3. c\n",
    "\n",
    "\n",
    "This paragraph is for comments related to programming. As a general rule, always include all package imports in the next cell: **do not** add any sentences that say \"here we import packages,\" **do not** include comments in the import cell and **do not** add more packages later on in the assignment. The only exception to this should be if packages are a key part of the assignment learning goal (i.e., showing how to import, practicing importing, etc). Follow [PEP-8 guidlines for importing](https://peps.python.org/pep-0008/#imports)."
   ]
  },
  {
   "cell_type": "code",
   "execution_count": 1,
   "id": "5144bfe5",
   "metadata": {},
   "outputs": [],
   "source": [
    "import math\n",
    "import numpy as np"
   ]
  },
  {
   "cell_type": "markdown",
   "id": "8463a935",
   "metadata": {},
   "source": [
    "<div style=\"background-color:#AABAB2; color: black; vertical-align: middle; padding:15px; margin: 10px; border-radius: 10px; width: 95%\">\n",
    "<p>\n",
    "<b>Task X:</b>   \n",
    "Always format the tasks for students in a box with black text and background color #AABAB2. If not clear where the end of the task is and the next content cell starts, use the \"end of task\" cell.\n",
    "\n",
    "If you need to specify a function and/or part of the code you must use the HTML code blocks like this <code>name_of_the_function</code>. \n",
    "\n",
    "If you need items add them like this:\n",
    "<ol>\n",
    "    <li>First</li>\n",
    "    <li>Second</li>\n",
    "    <li>And so on</li>\n",
    "</ol>\n",
    "</p>\n",
    "</div>"
   ]
  },
  {
   "cell_type": "markdown",
   "id": "885ba76d",
   "metadata": {},
   "source": [
    "<div style=\"background-color:#AABAB2; color: black; vertical-align: middle; padding:15px; margin: 10px; border-radius: 10px; width: 95%\">\n",
    "<p>\n",
    "<b>End of task.</b>\n",
    "</p>\n",
    "</div>"
   ]
  },
  {
   "cell_type": "markdown",
   "id": "1fdea3a8",
   "metadata": {},
   "source": [
    "**Write your answer in this Markdown cell.** "
   ]
  },
  {
   "cell_type": "markdown",
   "id": "ddf68988",
   "metadata": {},
   "source": [
    "<div style=\"background-color:#FAE99E; color: black; vertical-align: middle; padding:15px; margin: 10px; border-radius: 10px; width: 95%\">\n",
    "<p>\n",
    "<b>Solution:</b>   \n",
    "Always format the solution in a box with black text and background color #F9E282. Use this message to write the solution itself, or describe the format of the solution (e.g., the solution is written in the code cell below). To clearly indicate where the solution stops and the notebook contents continue, use an additional solution box with message \"End of solution.\"\n",
    "\n",
    "If you want to add bullet points do it like this:\n",
    "<ol>\n",
    "    <li>First</li>\n",
    "    <li>Second</li>\n",
    "    <li>And so on</li>\n",
    "</ol>\n",
    "\n",
    "</p>\n",
    "</div>"
   ]
  },
  {
   "cell_type": "markdown",
   "id": "b4854192",
   "metadata": {},
   "source": [
    "<div style=\"background-color:#FAE99E; color: black; vertical-align: middle; padding:15px; margin: 10px; border-radius: 10px; width: 95%\">\n",
    "<p>\n",
    "<b>End of solution.</b>\n",
    "</p>\n",
    "</div>"
   ]
  },
  {
   "cell_type": "markdown",
   "id": "0e2385f2-7fe3-4ca3-8f42-3f22f3039be8",
   "metadata": {
    "id": "0491cc69"
   },
   "source": [
    "<div style=\"background-color:#ffa6a6; color: black; vertical-align: middle; padding:15px; margin: 10px; border-radius: 10px; width: 95%\"><p><b>This:</b> is a major note! (danger)</p></div>"
   ]
  },
  {
   "cell_type": "markdown",
   "id": "8bb3d88e-eb1e-4775-a88d-ea48b1fe849c",
   "metadata": {
    "id": "0491cc69"
   },
   "source": [
    "<div style=\"background-color:#facb8e; color: black; vertical-align: middle; padding:15px; margin: 10px; border-radius: 10px; width: 95%\"> <p>Minor note (warning). Don't use the CSS danger/warning blocks because they don't display when converting to HTML with pandoc (won't display right on course files on website).</p></div>"
   ]
  },
  {
   "cell_type": "markdown",
   "id": "3800fec7",
   "metadata": {},
   "source": [
    "<div style=\"background-color:#C8FFFF; color: black; vertical-align: middle; padding:15px; margin: 10px; border-radius: 10px; width: 95%\">\n",
    "<p>\n",
    "<b>Note:</b>   \n",
    "Any other notes can use a box with black text and background color #C8FFFF (a light version of TU Delft blue, cyan).\n",
    "</p>\n",
    "</div>"
   ]
  },
  {
   "cell_type": "markdown",
   "id": "723dd636",
   "metadata": {},
   "source": [
    "## Task X\n",
    "\n",
    "Main task\n",
    "\n",
    "### Task X.1\n",
    "\n",
    "\n",
    "Sub-task"
   ]
  },
  {
   "cell_type": "code",
   "execution_count": 2,
   "id": "63bf2e6a",
   "metadata": {},
   "outputs": [],
   "source": [
    "code = []"
   ]
  },
  {
   "cell_type": "markdown",
   "id": "13175788",
   "metadata": {},
   "source": []
  },
  {
   "cell_type": "markdown",
   "id": "2e4617c0",
   "metadata": {},
   "source": [
    "\n",
    "**See `header_footer.XXXX` files for headers and footers.**"
   ]
  }
 ],
 "metadata": {
  "kernelspec": {
   "display_name": "Python 3 (ipykernel)",
   "language": "python",
   "name": "python3"
  },
  "language_info": {
   "codemirror_mode": {
    "name": "ipython",
    "version": 3
   },
   "file_extension": ".py",
   "mimetype": "text/x-python",
   "name": "python",
   "nbconvert_exporter": "python",
   "pygments_lexer": "ipython3",
   "version": "3.11.4"
  },
  "widgets": {
   "application/vnd.jupyter.widget-state+json": {
    "state": {},
    "version_major": 2,
    "version_minor": 0
   }
  }
 },
 "nbformat": 4,
 "nbformat_minor": 5
}
