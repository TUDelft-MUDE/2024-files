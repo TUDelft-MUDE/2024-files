{
 "cells": [
  {
   "cell_type": "markdown",
   "id": "d14e9d93",
   "metadata": {},
   "source": [
    "# Programming Assignment X: Title\n",
    "\n",
    "<h1 style=\"position: absolute; display: flex; flex-grow: 0; flex-shrink: 0; flex-direction: row-reverse; top: 60px;right: 30px; margin: 0; border: 0\">\n",
    "    <style>\n",
    "        .markdown {width:100%; position: relative}\n",
    "        article { position: relative }\n",
    "    </style>\n",
    "    <img src=\"https://gitlab.tudelft.nl/mude/public/-/raw/main/tu-logo/TU_P1_full-color.png\" style=\"width:100px\" />\n",
    "    <img src=\"https://gitlab.tudelft.nl/mude/public/-/raw/main/mude-logo/MUDE_Logo-small.png\" style=\"width:100px\" />\n",
    "</h1>\n",
    "<h2 style=\"height: 10px\">\n",
    "</h2>\n",
    "\n",
    "*[CEGM1000 MUDE](http://mude.citg.tudelft.nl/): Week X.X. Due: Day Month X, 2023 OR complete this PA prior to class on Friday, Sep 22, 2023.*"
   ]
  },
  {
   "cell_type": "markdown",
   "id": "fb3ea95b",
   "metadata": {},
   "source": [
    "## Overview\n",
    "\n",
    "This is where you describe the assignment **briefly**. The last sentence in this cell should not be changed. Feel free to use bullet lists to itemize steps and/or auxiliary files. This assignment includes:\n",
    "1. a\n",
    "2. b\n",
    "3. c\n",
    "\n",
    "\n",
    "This paragraph is for comments related to programming. As a general rule, always include all package imports in the next cell: **do not** add any sentences that say \"here we import packages,\" **do not** include comments in the import cell and **do not** add more packages later on in the assignment. The only exception to this should be if packages are a key part of the assignment learning goal (i.e., showing how to import, practicing importing, etc). Follow [PEP-8 guidlines for importing](https://peps.python.org/pep-0008/#imports).\n",
    "\n",
    "General instructions for this assignment can be found on the [MUDE Website](https://mude.citg.tudelft.nl/)."
   ]
  },
  {
   "cell_type": "code",
   "execution_count": 1,
   "id": "5144bfe5",
   "metadata": {},
   "outputs": [],
   "source": [
    "import math\n",
    "import numpy as np"
   ]
  },
  {
   "cell_type": "markdown",
   "id": "8463a935",
   "metadata": {},
   "source": [
    "<div style=\"background-color:#AABAB2; color: black; vertical-align: middle; padding:15px; margin: 10px; border-radius: 10px; width: 95%\">\n",
    "<p>\n",
    "<b>Task X:</b>   \n",
    "Always format the tasks for students in a box with black text and background color #AABAB2. If not clear where the end of the task is and the next content cell starts, use the \"end of task\" cell.\n",
    "\n",
    "If you need to specify a function and/or part of the code you must use the HTML code blocks like this <code>name_of_the_function</code>. \n",
    "\n",
    "If you need items add them like this:\n",
    "<ol>\n",
    "    <li>First</li>\n",
    "    <li>Second</li>\n",
    "    <li>And so on</li>\n",
    "</ol>\n",
    "</p>\n",
    "</div>"
   ]
  },
  {
   "cell_type": "markdown",
   "id": "885ba76d",
   "metadata": {},
   "source": [
    "<div style=\"background-color:#AABAB2; color: black; vertical-align: middle; padding:15px; margin: 10px; border-radius: 10px; width: 95%\">\n",
    "<p>\n",
    "<b>End of task.</b>\n",
    "</p>\n",
    "</div>"
   ]
  },
  {
   "cell_type": "markdown",
   "id": "1fdea3a8",
   "metadata": {},
   "source": [
    "**Write your answer in this Markdown cell.** "
   ]
  },
  {
   "cell_type": "markdown",
   "id": "ddf68988",
   "metadata": {},
   "source": [
    "<div style=\"background-color:#FAE99E; color: black; vertical-align: middle; padding:15px; margin: 10px; border-radius: 10px; width: 95%\">\n",
    "<p>\n",
    "<b>Solution:</b>   \n",
    "Always format the solution in a box with black text and background color #F9E282. Use this message to write the solution itself, or describe the format of the solution (e.g., the solution is written in the code cell below). To clearly indicate where the solution stops and the notebook contents continue, use an additional solution box with message \"End of solution.\"\n",
    "\n",
    "If you want to add bullet points do it like this:\n",
    "<ol>\n",
    "    <li>First</li>\n",
    "    <li>Second</li>\n",
    "    <li>And so on</li>\n",
    "</ol>\n",
    "\n",
    "</p>\n",
    "</div>"
   ]
  },
  {
   "cell_type": "markdown",
   "id": "b4854192",
   "metadata": {},
   "source": [
    "<div style=\"background-color:#FAE99E; color: black; vertical-align: middle; padding:15px; margin: 10px; border-radius: 10px; width: 95%\">\n",
    "<p>\n",
    "<b>End of solution.</b>\n",
    "</p>\n",
    "</div>"
   ]
  },
  {
   "cell_type": "markdown",
   "id": "0e2385f2-7fe3-4ca3-8f42-3f22f3039be8",
   "metadata": {
    "id": "0491cc69"
   },
   "source": [
    "<div style=\"background-color:#ffa6a6; color: black; vertical-align: middle; padding:15px; margin: 10px; border-radius: 10px; width: 95%\"><p><b>This:</b> is a major note! (danger)</p></div>"
   ]
  },
  {
   "cell_type": "markdown",
   "id": "8bb3d88e-eb1e-4775-a88d-ea48b1fe849c",
   "metadata": {
    "id": "0491cc69"
   },
   "source": [
    "<div style=\"background-color:#facb8e; color: black; vertical-align: middle; padding:15px; margin: 10px; border-radius: 10px; width: 95%\"> <p>Minor note (warning). Don't use the CSS danger/warning blocks because they don't display when converting to HTML with pandoc (won't display right on course files on website).</p></div>"
   ]
  },
  {
   "cell_type": "markdown",
   "id": "3800fec7",
   "metadata": {},
   "source": [
    "<div style=\"background-color:#C8FFFF; color: black; vertical-align: middle; padding:15px; margin: 10px; border-radius: 10px; width: 95%\">\n",
    "<p>\n",
    "<b>Note:</b>   \n",
    "Any other notes can use a box with black text and background color #C8FFFF (a light version of TU Delft blue, cyan).\n",
    "</p>\n",
    "</div>"
   ]
  },
  {
   "cell_type": "markdown",
   "id": "723dd636",
   "metadata": {},
   "source": [
    "## Task X\n",
    "\n",
    "Main task\n",
    "\n",
    "### Task X.1\n",
    "\n",
    "\n",
    "Sub-task"
   ]
  },
  {
   "cell_type": "code",
   "execution_count": 2,
   "id": "63bf2e6a",
   "metadata": {},
   "outputs": [],
   "source": [
    "code = []"
   ]
  },
  {
   "cell_type": "markdown",
   "id": "13175788",
   "metadata": {},
   "source": []
  },
  {
   "cell_type": "markdown",
   "id": "2e4617c0",
   "metadata": {},
   "source": [
    "**End of notebook.**\n",
    "<h2 style=\"height: 60px\">\n",
    "</h2>\n",
    "<h3 style=\"position: absolute; display: flex; flex-grow: 0; flex-shrink: 0; flex-direction: row-reverse; bottom: 60px; right: 50px; margin: 0; border: 0\">\n",
    "    <style>\n",
    "        .markdown {width:100%; position: relative}\n",
    "        article { position: relative }\n",
    "    </style>\n",
    "    <a rel=\"license\" href=\"http://creativecommons.org/licenses/by-nc-sa/4.0/\">\n",
    "      <img alt=\"Creative Commons License\" style=\"border-width:; width:88px; height:auto; padding-top:10px\" src=\"https://i.creativecommons.org/l/by-nc-sa/4.0/88x31.png\" />\n",
    "    </a>\n",
    "    <a rel=\"TU Delft\" href=\"https://www.tudelft.nl/en/ceg\">\n",
    "      <img alt=\"TU Delft\" style=\"border-width:0; width:100px; height:auto; padding-bottom:0px\" src=\"https://gitlab.tudelft.nl/mude/public/-/raw/main/tu-logo/TU_P1_full-color.png\"/>\n",
    "    </a>\n",
    "    <a rel=\"MUDE\" href=\"http://mude.citg.tudelft.nl/\">\n",
    "      <img alt=\"MUDE\" style=\"border-width:0; width:100px; height:auto; padding-bottom:0px\" src=\"https://gitlab.tudelft.nl/mude/public/-/raw/main/mude-logo/MUDE_Logo-small.png\"/>\n",
    "    </a>\n",
    "    \n",
    "</h3>\n",
    "<span style=\"font-size: 75%\">\n",
    "&copy; Copyright 2023 <a rel=\"MUDE Team\" href=\"https://studiegids.tudelft.nl/a101_displayCourse.do?course_id=65595\">MUDE Teaching Team</a> TU Delft. This work is licensed under a <a rel=\"license\" href=\"http://creativecommons.org/licenses/by-nc-sa/4.0/\">Creative Commons Attribution-NonCommercial-ShareAlike 4.0 International License</a>."
   ]
  }
 ],
 "metadata": {
  "kernelspec": {
   "display_name": "Python 3 (ipykernel)",
   "language": "python",
   "name": "python3"
  },
  "language_info": {
   "codemirror_mode": {
    "name": "ipython",
    "version": 3
   },
   "file_extension": ".py",
   "mimetype": "text/x-python",
   "name": "python",
   "nbconvert_exporter": "python",
   "pygments_lexer": "ipython3",
   "version": "3.11.4"
  },
  "widgets": {
   "application/vnd.jupyter.widget-state+json": {
    "state": {},
    "version_major": 2,
    "version_minor": 0
   }
  }
 },
 "nbformat": 4,
 "nbformat_minor": 5
}
