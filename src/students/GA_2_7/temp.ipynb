{
 "cells": [
  {
   "cell_type": "markdown",
   "metadata": {},
   "source": [
    "# Feedback for Group Assignment 2.7\n",
    "\n",
    "*[CEGM1000 MUDE](http://mude.citg.tudelft.nl/): January 10, 2025.*\n",
    "\n",
    "**Question 1**\n",
    "\n",
    "Overall good. Describing data is understood by most groups.\n",
    "\n",
    "\n",
    "**Question 2**\n",
    "\n",
    "Most common error is the wrong tail. Python uses the opposite value for shape. Check visually that the tail you write about actually occurs (there is clearly no upper bound in this case)\n",
    "Some ECDF mistakes, make sure you are using the correct function\n",
    "Make sure you have 26 samples (not 25)\n",
    "\n",
    "\n",
    "**Question 3**\n",
    "\n",
    "Some bad fits, check you have written your find_peaks appropriately to find 38 samples. Overall, most groups saw that they must subtract the threshold. \n",
    "\n",
    "\n",
    "**Question 4**\n",
    "\n",
    "Overall good. Check good interpretation of your GoF\n",
    "\n",
    "\n",
    "**Question 5**\n",
    "\n",
    "Make sure to include the empirical return periods, some mistakes were made here.\n",
    "For PoT use the average number of excesses per year to scale your non-excedence probabilities.\n",
    "Make sure to include both return periods in your report\n",
    "One of the main points of improvement is adjusting the threshold and declustering time.\n",
    "\n",
    "\n",
    "**Question 6**\n",
    "\n",
    "Some groups thought a higher return period was better, which in this case is only partially true. Make sure to justify your choices.\n",
    "\n",
    "\n",
    "\n",
    "**End of file.**\n",
    "\n",
    "<span style=\"font-size: 75%\">\n",
    "&copy; Copyright 2024 <a rel=\"MUDE\" href=\"http://mude.citg.tudelft.nl/\">MUDE</a>, TU Delft. This work is licensed under a <a rel=\"license\" href=\"http://creativecommons.org/licenses/by/4.0/\">CC BY 4.0 License</a>.\n"
   ]
  }
 ],
 "metadata": {
  "language_info": {
   "name": "python"
  }
 },
 "nbformat": 4,
 "nbformat_minor": 2
}
