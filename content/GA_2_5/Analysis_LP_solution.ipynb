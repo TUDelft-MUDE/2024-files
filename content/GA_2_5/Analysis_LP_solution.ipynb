{
 "cells": [
  {
   "cell_type": "markdown",
   "metadata": {
    "pycharm": {
     "name": "#%% md\n"
    }
   },
   "source": [
    "# Don't do math and drive\n",
    "\n",
    "<h1 style=\"position: absolute; display: flex; flex-grow: 0; flex-shrink: 0; flex-direction: row-reverse; top: 60px;right: 30px; margin: 0; border: 0\">\n",
    "    <style>\n",
    "        .markdown {width:100%; position: relative}\n",
    "        article { position: relative }\n",
    "    </style>\n",
    "    <img src=\"https://gitlab.tudelft.nl/mude/public/-/raw/main/tu-logo/TU_P1_full-color.png\" style=\"width:100px\" />\n",
    "    <img src=\"https://gitlab.tudelft.nl/mude/public/-/raw/main/mude-logo/MUDE_Logo-small.png\" style=\"width:100px\" />\n",
    "</h1>\n",
    "<h2 style=\"height: 10px\">\n",
    "</h2>\n",
    "\n",
    "*[CEGM1000 MUDE](http://mude.citg.tudelft.nl/): Week 2.5. For: 15 December, 2023.*"
   ]
  },
  {
   "cell_type": "markdown",
   "metadata": {
    "id": "0491cc69"
   },
   "source": [
    "<div style=\"background-color:#ffa6a6; color: black; vertical-align: middle; padding:15px; margin: 10px; border-radius: 10px; width: 95%\"><p><b>Note:</b> during the in-class session some of the confusion was caused by code issues. Comments relevant to the code and notebooks as-used in the Friday in-class session are provided in boxes like this.</p></div>"
   ]
  },
  {
   "cell_type": "markdown",
   "metadata": {
    "pycharm": {
     "name": "#%% md\n"
    }
   },
   "source": [
    "# Problem description\n",
    "\n",
    "_Note: part of the background material for this project was already available in [Chapter 5.11 of the textbook](https://mude.citg.tudelft.nl/book/optimization/project.html)._\n",
    "\n",
    "The road network design problem (NDP) is the problem of determining which links to build/refurbish/upgrade in order to improve the performance of a road network. One of the variations of the road NDP is the road NDP with capacity expansions, which involves deciding which links should have their capacity increased. This is a complex problem that must take into account a variety of factors, including:\n",
    "\n",
    "* The current state of the road network\n",
    "* The projected future traffic demand\n",
    "* The budget available for improvements\n",
    "* The impacts of the adjustments (could be environmental, social, etc).\n",
    "\n",
    "There are a variety of approaches to dealing with the road network design problem with capacity expansion. One common approach is to use mathematical optimization models. In this assignment we use a simplified example to show how optimization can be used to tackle road NDPs. Note that the classical approaches to dealing with road NDPs can be more complicated and will be covered in other courses in the TTE track of the civil engineering master program.\n",
    "\n",
    "In this assignment, the goal is to minimize the total travel time on the network by selecting a predefined number of links for capacity expansion (subject to the available budget). The following (main) assumptions and simplifications are made to make the problem solvable using methods and algorithms that you have learned so far.\n",
    "\n",
    "### 1. Link travel time function\n",
    "Travel time on a stretch of road (i.e., a link) depends on the flow (vehicles/hour) on that link and the capacity of the link (maximum of vehicles/hour). The most common function to calculate travel time on a link is the so-called Bureau of Public Roads (BPR) function, which is a polynomial (degree 4) function. That function, if used in the assignment, would make the problem non-linear and therefore very hard to solve. So we use a simplified linear function where travel time grows linearly with the flow of vehicles on a road link. More details are provided within the formulation section.\n",
    "\n",
    "![link_travel_time_function.png](./figs/link_travel_time_function.png)\n",
    "\n",
    "${t_{ij}} = t_{ij}^0\\left( {1 + \\alpha {{\\left( {\\cfrac{x_{ij}}{c_{ij}}} \\right)}^\\beta }} \\right) \\quad \\left( {i,j} \\right) \\in A$\n",
    "\n",
    "Where $t_{ij}$ is the current travel time on the link, $t_{ij}^0$ is the travel time without congestion (free flow), $x_{ij}$ is the flow of cars, and $_c{ij}$ the capacity in maximum flow of cars. $\\alpha$ and $\\beta$ are calibration parameters.\n",
    "\n",
    "### 2. Route choice behavior\n",
    "In order to assess the quality of the road capacity expansion problem, one must know what the effect of the added capacity is on travel time. For that, it is not sufficient to model the travel time-flow function, you must know where the vehicles are going to drive on the road. The route choice behavior of drivers within congested networks often follows the so-called User Equilibrium (UE) principle where each traveller tries to minimize their own individual generalized travel time.The UE states that for each origin and destination pair, all used routes between those nodes have equal and minimal travel time. That is, no driver can improve his/her travel time by choosing another path, therefore an equilibrium is reached.\n",
    "However, calculating the UE requires advanced methods which are not covered in the MUDE. Therefore, here we assume the route choice behaviour follows the so-called System Optimal (SO) principle, which implies that route choices are made in such a way that the total travel time is minimized (summed over all the drivers). That means that some cars will drive longer routes so that other cars can save time. This is also called social equilibrium. This type of equilibrium is easier to compute. But just have in mind that in our road networks you can hardly obtain a system optimal traffic distribution. You can't tell where drivers have to do.\n",
    "\n",
    "![image](./figs/sketchoptimization.png)\n",
    "\n",
    "\n",
    "### 3. Quadratic terms\n",
    "As you will see in the formulation below, even after making the above-mentioned assumptions, our formulation of the Road NDP will include a quadratic term, you must multiply the flow (which is a variable) by the tavel time (which is also a variable). This is therefore not linear. \n",
    "Fortunately there are different methods to transform quadratic terms to linear variables and constraints with mathematical programming. You do not need to learn these techniques. Most solvers (including Gurobi) can handle this well given some adjustments to the formulation. Gurobi uses the [McCormick Envelops (MCE)](https://optimization.cbe.cornell.edu/index.php?title=McCormick_envelopes) to transform each quadratic term into one new variable and four constraints. For more information on MCE and how Gurobi implements them, check these links (this is in case you are interested, you don't need to check them during the Friday session):\n",
    "* [The theory behind MCE](https://optimization.cbe.cornell.edu/index.php?title=McCormick_envelopes)\n",
    "* [Gurobi webinar presentation on quadratic optimization](https://cdn.gurobi.com/wp-content/uploads/2020-01-14_Non-Convex-Quadratic-Optimization-in-Gurobi-9.0-Webinar.pdf?x93374)\n",
    "* [Full video of the webinar](https://www.gurobi.com/events/non-convex-quadratic-optimization/)\n",
    "\n",
    "We will move forward with a quadratic term in the objective function then because with the simplifcations and assumptions referred to above we can formulate an NDP and solve it using the branch and bound method that you have studied before.\n"
   ]
  },
  {
   "cell_type": "markdown",
   "metadata": {
    "pycharm": {
     "name": "#%% md\n"
    }
   },
   "source": [
    "\n",
    "# Data preprocessing\n",
    "\n",
    "We use some networks from the well-known transportation networks for benchmarking repository as well as a small toy network for case studies of NDPs. the following functions read data from this repository and perform data preprocessing to have the input and the parameters required for our case studies."
   ]
  },
  {
   "cell_type": "code",
   "execution_count": null,
   "metadata": {},
   "outputs": [],
   "source": [
    "# import required packages\n",
    "import os\n",
    "import time\n",
    "import gurobipy as gp\n",
    "import pandas as pd\n",
    "import numpy as np\n",
    "from matplotlib import pyplot as plt"
   ]
  },
  {
   "cell_type": "code",
   "execution_count": null,
   "metadata": {
    "pycharm": {
     "name": "#%%\n"
    }
   },
   "outputs": [],
   "source": [
    "# read network file, a function to import the road networks\n",
    "def read_net(net_file):\n",
    "    \"\"\"\n",
    "       read network file\n",
    "    \"\"\"\n",
    "\n",
    "    net_data = pd.read_csv(net_file, skiprows=8, sep='\\t')\n",
    "    # make sure all headers are lower case and without trailing spaces\n",
    "    trimmed = [s.strip().lower() for s in net_data.columns]\n",
    "    net_data.columns = trimmed\n",
    "    # And drop the silly first and last columns\n",
    "    net_data.drop(['~', ';'], axis=1, inplace=True)\n",
    "    # using dictionary to convert type of specific columns so taht we can assign very small (close to zero) possitive number to it.\n",
    "    convert_dict = {'free_flow_time': float,\n",
    "                    'capacity': float,\n",
    "                    'length': float,\n",
    "                    'power': float\n",
    "                    }\n",
    "    \n",
    "    net_data = net_data.astype(convert_dict)\n",
    "\n",
    "    # make sure everything makes sense (otherwise some solvers throw errors)\n",
    "    net_data.loc[net_data['free_flow_time'] <= 0, 'free_flow_time'] = 1e-6\n",
    "    net_data.loc[net_data['capacity'] <= 0, 'capacity'] = 1e-6\n",
    "    net_data.loc[net_data['length'] <= 0, 'length'] = 1e-6\n",
    "    net_data.loc[net_data['power'] <= 1, 'power'] = int(4)\n",
    "    net_data['init_node'] = net_data['init_node'].astype(int)\n",
    "    net_data['term_node'] = net_data['term_node'].astype(int)\n",
    "    net_data['b'] = net_data['b'].astype(float)\n",
    "\n",
    "    # extract features in dict format\n",
    "    links = list(zip(net_data['init_node'], net_data['term_node']))\n",
    "    caps = dict(zip(links, net_data['capacity']))\n",
    "    fftt = dict(zip(links, net_data['free_flow_time']))\n",
    "    lent = dict(zip(links, net_data['length']))\n",
    "    alpha = dict(zip(links, net_data['b']))\n",
    "    beta = dict(zip(links, net_data['power']))\n",
    "\n",
    "    net = {'capacity': caps, 'free_flow': fftt, 'length': lent, 'alpha': alpha, 'beta': beta}\n",
    "\n",
    "    return net\n",
    "\n",
    "\n",
    "# read OD matrix (demand), a function to import Origin and Destination Matrices, \n",
    "# that is a table that says how many vehicles go from i to j\n",
    "def read_od(od_file):\n",
    "    \"\"\"\n",
    "       read OD matrix\n",
    "    \"\"\"\n",
    "\n",
    "    f = open(od_file, 'r')\n",
    "    all_rows = f.read()\n",
    "    blocks = all_rows.split('Origin')[1:]\n",
    "    matrix = {}\n",
    "    for k in range(len(blocks)):\n",
    "        orig = blocks[k].split('\\n')\n",
    "        dests = orig[1:]\n",
    "        origs = int(orig[0])\n",
    "\n",
    "        d = [eval('{' + a.replace(';', ',').replace(' ', '') + '}') for a in dests]\n",
    "        destinations = {}\n",
    "        for i in d:\n",
    "            destinations = {**destinations, **i}\n",
    "        matrix[origs] = destinations\n",
    "    zones = max(matrix.keys())\n",
    "    od_dict = {}\n",
    "    for i in range(zones):\n",
    "        for j in range(zones):\n",
    "            demand = matrix.get(i + 1, {}).get(j + 1, 0)\n",
    "            if demand:\n",
    "                od_dict[(i + 1, j + 1)] = demand\n",
    "            else:\n",
    "                od_dict[(i + 1, j + 1)] = 0\n",
    "\n",
    "    return od_dict\n",
    "\n",
    "\n",
    "# read case study data, we will have different case studies that have different demand and road network \n",
    "def read_cases(networks, input_dir):\n",
    "    \"\"\"\n",
    "       read case study data\n",
    "    \"\"\"\n",
    "\n",
    "    # dictionaries for network and OD files\n",
    "    net_dict = {}\n",
    "    ods_dict = {}\n",
    "\n",
    "    # selected case studies\n",
    "    if networks:\n",
    "        cases = [case for case in networks]\n",
    "    else:\n",
    "        # all folders available (each one for one specific case)\n",
    "        cases = [x for x in os.listdir(input_dir) if os.path.isdir(os.path.join(input_dir, x))]\n",
    "\n",
    "    # iterate through cases and read network and OD\n",
    "    for case in cases:\n",
    "        mod = os.path.join(input_dir, case)\n",
    "        mod_files = os.listdir(mod)\n",
    "        for i in mod_files:\n",
    "            # read network\n",
    "            if i.lower()[-8:] == 'net.tntp':\n",
    "                net_file = os.path.join(mod, i)\n",
    "                net_dict[case] = read_net(net_file)\n",
    "            # read OD matrix\n",
    "            if 'TRIPS' in i.upper() and i.lower()[-5:] == '.tntp':\n",
    "                ods_file = os.path.join(mod, i)\n",
    "                ods_dict[case] = read_od(ods_file)\n",
    "\n",
    "    return net_dict, ods_dict\n",
    "\n",
    "\n",
    "# create node-destination demand matrix\n",
    "def create_nd_matrix(ods_data, origins, destinations, nodes):\n",
    "    # create node-destination demand matrix (not a regular OD!)\n",
    "    demand = {(n, d): 0 for n in nodes for d in destinations}\n",
    "    for r in origins:\n",
    "        for s in destinations:\n",
    "            if (r, s) in ods_data:\n",
    "                demand[r, s] = ods_data[r, s]\n",
    "    for s in destinations:\n",
    "        demand[s, s] = - sum(demand[j, s] for j in origins)\n",
    "\n",
    "    return demand\n"
   ]
  },
  {
   "cell_type": "markdown",
   "metadata": {
    "pycharm": {
     "name": "#%% md\n"
    }
   },
   "source": [
    "Now that we have the required functions for reading and processing the data, let's define some problem parameters and prepare the input. "
   ]
  },
  {
   "cell_type": "code",
   "execution_count": null,
   "metadata": {
    "pycharm": {
     "name": "#%%\n"
    }
   },
   "outputs": [],
   "source": [
    "# define parameters, case study (network) list and the directory where their files are\n",
    "extension_factor = 1.5  # capacity after extension (1.5 means add 50% of existing capacity)\n",
    "extension_max_no = 40  # max number of links to add capacity to (simplified budget limit)\n",
    "timelimit = 300  # seconds\n",
    "beta = 2  # parameter to use in link travel time function (explained later)\n",
    "\n",
    "networks = ['SiouxFalls']\n",
    "networks_dir = 'input/TransportationNetworks'\n",
    "\n",
    "\n",
    "# prep data\n",
    "net_dict, ods_dict = read_cases(networks, networks_dir)\n",
    "# Let's load the network and demand (OD matrix) data of the first network (SiouxFalls) to two dictionaries for our first case study.\n",
    "# Reminding that we are using the SiouxFalls network which is one of the most used networks in transportation reserach: https://github.com/bstabler/TransportationNetworks/blob/master/SiouxFalls/Sioux-Falls-Network.pdf\n",
    "net_data, ods_data = net_dict[networks[0]], ods_dict[networks[0]]\n",
    "\n",
    "## now let's prepare the data in a format readable by gurobi\n",
    "\n",
    "# prep links, nodes, and free flow travel times\n",
    "links = list(net_data['capacity'].keys())\n",
    "nodes = np.unique([list(edge) for edge in links])\n",
    "fftts = net_data['free_flow']\n",
    "\n",
    "# auxiliary parameters (dict format) to keep the problem linear (capacities as parameters rather than variables)\n",
    "# this is the capacity of a road link in vehicles per hour without the expansion\n",
    "cap_normal = {(i, j): cap for (i, j), cap in net_data['capacity'].items()}\n",
    "#with the expansion\n",
    "cap_extend = {(i, j): cap * extension_factor for (i, j), cap in net_data['capacity'].items()}\n",
    "\n",
    "# origins and destinations\n",
    "origs = np.unique([orig for (orig, dest) in list(ods_data.keys())])\n",
    "dests = np.unique([dest for (orig, dest) in list(ods_data.keys())])\n",
    "\n",
    "# demand in node-destination form\n",
    "# an OD-matrix is built\n",
    "demand = create_nd_matrix(ods_data, origs, dests, nodes)"
   ]
  },
  {
   "cell_type": "markdown",
   "metadata": {},
   "source": [
    "In this section, we'll initially visualize the network using the coordinates of the sample road network, 'SiouxFalls'. Later, we'll employ the same network topology to visualize the upgraded links.\n",
    "\n",
    "Thankfully, Python offers a highly useful package for visualizing networks called **'networkx'**. We'll leverage some of its features, so:\n",
    "\n",
    "1. Feel free to explore further functionalities of the **networkx** package in its [documentation](https://networkx.org/documentation/stable/reference/index.html).\n",
    "2. Our coordinates in this specific example are in **JSON** format. Therefore, don't forget to import the package accordingly.\n",
    "3. Interested in visualizing other networks? Fantastic! However, you'll need to check the format of your coordinates first. TAs will assist you if you wish to explore further.\n",
    "\n",
    "\n",
    "The road network that we are using in the assessment is the Sioux Falls which is shown below:"
   ]
  },
  {
   "cell_type": "code",
   "execution_count": null,
   "metadata": {},
   "outputs": [],
   "source": [
    "# For visualization\n",
    "import networkx as nx\n",
    "import json\n",
    "from matplotlib.lines import Line2D # this will later be used for highlighting edge colors based on values\n",
    "\n",
    "from utils.network_visualization import network_visualization\n",
    "from utils.network_visualization_highlight_link import network_visualization_highlight_links\n",
    "from utils.network_visualization_upgraded import network_visualization_upgraded"
   ]
  },
  {
   "cell_type": "code",
   "execution_count": null,
   "metadata": {},
   "outputs": [],
   "source": [
    "coordinates_path = 'input/TransportationNetworks/SiouxFalls/SiouxFallsCoordinates.geojson'"
   ]
  },
  {
   "cell_type": "code",
   "execution_count": null,
   "metadata": {},
   "outputs": [],
   "source": [
    "G, pos = network_visualization(link_flow = fftts,coordinates_path= coordinates_path) # the network we create here will be used later for further visualizations!"
   ]
  },
  {
   "cell_type": "markdown",
   "metadata": {},
   "source": [
    "## OD Matrix"
   ]
  },
  {
   "cell_type": "markdown",
   "metadata": {},
   "source": [
    "The trips per hour matrix for this network is:\n",
    "\n",
    "\n",
    "This table is what is called an OD (Origin-Destination) matrix. It tells you how many cars go from node i to node j in an hour. The paths are chosen by solving the optimization model.\n"
   ]
  },
  {
   "cell_type": "code",
   "execution_count": null,
   "metadata": {},
   "outputs": [],
   "source": [
    "# Extracting the maximum values for dimensions\n",
    "data = ods_data\n",
    "max_origin = max(key[0] for key in data.keys())\n",
    "max_destination = max(key[1] for key in data.keys())\n",
    "\n",
    "# Creating a DataFrame to represent the matrix\n",
    "od_matrix = pd.DataFrame(index=range(1, max_origin + 1), columns=range(1, max_destination + 1))\n",
    "\n",
    "# Populating the DataFrame with the given data\n",
    "for key, value in data.items():\n",
    "    od_matrix.loc[key[0], key[1]] = value\n",
    "\n",
    "# Displaying the OD matrix in table format\n",
    "print(\"Origin-Destination Matrix:\")\n",
    "print(od_matrix.head(5)) # OD matric for the first 5 nodes. "
   ]
  },
  {
   "cell_type": "code",
   "execution_count": null,
   "metadata": {},
   "outputs": [],
   "source": [
    "# To better understand the OD matrix we can also visualize the values.\n",
    "# Creating a subset matrix for visualization\n",
    "subset_matrix = np.zeros((24, 24))\n",
    "\n",
    "# Filling subset matrix with data\n",
    "for i in range(1, 25):\n",
    "    for j in range(1, 25):\n",
    "        subset_matrix[i-1, j-1] = data[(i, j)]\n",
    "\n",
    "# Plotting the heatmap\n",
    "plt.figure(figsize=(8, 6))\n",
    "plt.title('Origin-Destination Matrix')\n",
    "plt.xlabel('Destination')\n",
    "plt.ylabel('Origin')\n",
    "plt.imshow(subset_matrix, cmap='RdYlGn_r', interpolation='nearest')\n",
    "plt.colorbar(label='Values')\n",
    "plt.show()"
   ]
  },
  {
   "cell_type": "markdown",
   "metadata": {
    "pycharm": {
     "name": "#%% md\n"
    }
   },
   "source": [
    "# Modeling in Gurobi\n",
    "\n",
    "## Initiate the Gurobi model\n",
    "\n",
    "First, let's build a gurobi model object and define some parameters based on the model type. We have a mixed integer quadratic program (MIQP), that's because the objective function has a quadratic term, which we want to transform to a mixed integer linear program (MILP) and solve using the branch and bound method. We discuss the transformations from quadratic to linear when we introduce quadratic terms."
   ]
  },
  {
   "cell_type": "code",
   "execution_count": null,
   "metadata": {
    "pycharm": {
     "name": "#%%\n"
    }
   },
   "outputs": [],
   "source": [
    "## create a gurobi model object\n",
    "model = gp.Model()\n",
    "\n",
    "# define some important parameters for solving the model with gurobi\n",
    "model.params.TimeLimit = timelimit  # 300 seconds timelimit since it can take long to reduce the gap to zero (change and play around if you want)\n",
    "model.params.NonConvex = 2  # our problem is not convex as it is now, so we let gurobi know to use the right transformation and solutions\n",
    "#about convexity in optimization: a convex function will be a continuous functin that will have one minimum \n",
    "#(or maximum depending on the problem), therefore in any point that you starting searching for a solution you can follow the gradient \n",
    "#to search for that extreme point. Non-convex problems can have local minimum (or maximum) points that will make you stuck in the process \n",
    "#of searching for the solution\n",
    "model.params.PreQLinearize = 1 # useful parameter to ask gurobi to try to linearize non-linear terms"
   ]
  },
  {
   "cell_type": "markdown",
   "metadata": {
    "pycharm": {
     "name": "#%% md\n"
    }
   },
   "source": [
    "## Decision variables\n",
    "\n",
    "We have a set of binary variables $y_{ij}$, these variables take the value 1 if link $(i,j)$ connecting node $i$ to node $j$ is selected for expansion, and 0 otherwise.\n",
    "\n",
    "We also have two sets of decision variables representing link flows; $x_{ij}$, representing flow on link $(i,j)$ in cars per hour, and $x_{ijs}$, representing flow on link $(i,j)$ going to destination $s$.\n",
    "\n",
    "The first is the number of total cars passing on that road, and the second is the number of cars that are passing on the road which are specifically going to destination $s$. Summing the latter over all $s$ results in the former for a link $(i,j)$.\n",
    "\n",
    "Therefore, mathematically we define the domain of the variables as follows:\n",
    "\n",
    "\\begin{align}\n",
    "  & y_{ij} \\in \\{0, 1\\} \\quad \\forall (i,j) \\in A \\\\\n",
    "  & x_{ij} \\geq 0 \\quad \\forall (i,j) \\in A \\\\\n",
    "  & x_{ijs} \\geq 0 \\quad \\forall (i,j) \\in A, \\forall s \\in D \\\\\n",
    "\\end{align}\n",
    "\n",
    "As you will see below in the code block, we have one extra set of variables called x2 (x square). This is to help Gurobi isolate quadratic terms and perform required transformations based on MCE to keep the problem linear. This is not part of your learning goals."
   ]
  },
  {
   "cell_type": "code",
   "execution_count": null,
   "metadata": {
    "pycharm": {
     "name": "#%%\n"
    }
   },
   "outputs": [],
   "source": [
    "## decision variables:\n",
    "\n",
    "# link selected (y_ij); i: a_node, j: b_node (selected links for capacity expansion)\n",
    "link_selected = model.addVars(links, vtype=gp.GRB.BINARY, name='y')\n",
    "\n",
    "# link flows (x_ij); i: a_node, j: b_node\n",
    "link_flow = model.addVars(links, vtype=gp.GRB.CONTINUOUS, name='x')\n",
    "\n",
    "# link flows per destination s (xs_ijs); i: a_node, j: b_node, s: destination\n",
    "dest_flow = model.addVars(links, dests, vtype=gp.GRB.CONTINUOUS, name='xs')\n",
    "\n",
    "# link flow square (x2_ij); i: a_node, j: b_node (dummy variable for handling quadratic terms, you do not need to know this)\n",
    "link_flow_sqr = model.addVars(links, vtype=gp.GRB.CONTINUOUS, name='x2')\n"
   ]
  },
  {
   "cell_type": "markdown",
   "metadata": {
    "pycharm": {
     "name": "#%% md\n"
    }
   },
   "source": [
    "## Objective function\n",
    "\n",
    "The objective function of the problem (in its simplest form), is the minimization of the total travel time on the network, that means that you multiply the flow of vehicles in each link by the corresponding travel time and sum over all links ($A$ is the collection of all links to simplify the notation):\n",
    "\n",
    "$Z = \\sum_{(i,j) \\in A}{ x_{ij} . t_{ij}} $\n",
    "\n",
    "The travel time $t_{ij}$ is a function of the flow on a link and can be expressed as follows (where beta is a parameter):\n",
    "\n",
    "$ t_{ij} = t^0_{ij} . ( 1 + \\beta (x_{ij}/c_{ij}))  \\quad \\forall (i,j) \\in A  $\n",
    "\n",
    "> Note that the commonly used travel time function based on the Bureau of Public Roads (BPR) is as follows:\n",
    "> \n",
    "> $ t_{ij} = t^0_{ij} . ( 1 + \\alpha (x_{ij}/c_{ij})^\\beta)  \\quad \\forall (i,j) \\in A  $\n",
    "> \n",
    "> Where $\\beta$ usually assumes the value of $4$ making this function (and the problem) non-linear. Therefore, we use the linear function mentioned before to make the problem manageable using what we have learned so far.\n",
    "\n",
    "The following constraint yields the capacity of each link based on which ones are selected for expansion, when y is 1 there is added capacity as you can see:\n",
    "\n",
    "$ c_{ij} = (1 - y_{ij}) . c^0_{ij} +  y_{ij} . c^1_{ij}  \\quad \\forall (i,j) \\in A   $\n",
    "\n",
    "This allows us to represent $t_{ij}$ as:\n",
    "\n",
    "$ t_{ij} = t^0_{ij} . ( 1 + \\beta (x_{ij} * ((1 - y_{ij})/c^0_{ij} +  y_{ij}/c^1_{ij} )))  \\quad \\forall (i,j) \\in A  $\n",
    "\n",
    "Which leads to the following extended objective funtion:\n",
    "\n",
    "$ Z = \\sum_{(i,j) \\in A}{ x_{ij} . (t^0_{ij} . ( 1 + \\beta (x_{ij} * ((1 - y_{ij})/c^0_{ij} +  y_{ij}/c^1_{ij} ))))} $\n",
    "\n",
    "Now, for gurobi (and other solvers as well), we have to keep binary variables and quadratic terms clean and separate so that it can perform the required transformations to linearize the problem. Therefore, the equation below, despite being very big, would be the most solver-friendly formulation of our objective function:\n",
    "\n",
    "\\begin{align}\n",
    "  Z = \\sum_{(i,j) \\in A}{t^0_{ij} . x_{ij}} + \\sum_{(i,j) \\in A}{(t^0_{ij}.\\beta /c^0_{ij}) . x^2_{ij}} - \\sum_{(i,j) \\in A}{(t^0_{ij}.\\beta /c^0_{ij}) . x^2_{ij} . y_{ij}} + \\sum_{(i,j) \\in A}{t^0_{ij}.(\\beta /c^1_{ij}) . x^2_{ij} . y_{ij}}  \\\\\n",
    "\\end{align}\n",
    "\n",
    "Therefore, we use this equation to model our objective function in gurobi.\n"
   ]
  },
  {
   "cell_type": "code",
   "execution_count": null,
   "metadata": {
    "pycharm": {
     "name": "#%%\n"
    }
   },
   "outputs": [],
   "source": [
    "## objective function (total travel time)\n",
    "\n",
    "# total travel time = sum (link flow * link travel time)\n",
    "# link travel time = free flow travel time * (1 + (flow / capacity))\n",
    "# capacity = selected links *  base capacity + other links *  extended capacity\n",
    "# other links: 1 - selected links\n",
    "\n",
    "#note that this equation allows the number of vehicles to be greater than the capacity, this just adds more penalty in terms of travel time.\n",
    "\n",
    "model.setObjective(\n",
    "    gp.quicksum(fftts[i, j] * link_flow[i, j] +\n",
    "                fftts[i, j] * (beta/cap_normal[i, j]) * link_flow_sqr[i, j] -\n",
    "                fftts[i, j] * (beta/cap_normal[i, j]) * link_flow_sqr[i, j] * link_selected[i, j] +\n",
    "                fftts[i, j] * (beta/cap_extend[i, j]) * link_flow_sqr[i, j] * link_selected[i, j]\n",
    "                for (i, j) in links))"
   ]
  },
  {
   "cell_type": "markdown",
   "metadata": {
    "pycharm": {
     "name": "#%% md\n"
    }
   },
   "source": [
    "## Constraints\n",
    "\n",
    "We have four sets of constraints for this problem. Let's go through them one by one and add them to the model.\n",
    "\n",
    "### 1. Budget constraint\n",
    "We can only extend the capacity of certain number of links based on the available budget. So first, we have to make sure to limit the number of extended links to the max number that can be expanded:\n",
    "\n",
    "$ \\sum_{(i,j) \\in A}{ y_{ij}} = B $"
   ]
  },
  {
   "cell_type": "code",
   "execution_count": null,
   "metadata": {
    "pycharm": {
     "name": "#%%\n"
    }
   },
   "outputs": [],
   "source": [
    "## constraints\n",
    "\n",
    "# budget constraints, c_bgt is the name of the constraint\n",
    "c_bgt = model.addConstr(gp.quicksum(link_selected[i, j] for (i, j) in links) <= extension_max_no)"
   ]
  },
  {
   "cell_type": "markdown",
   "metadata": {
    "pycharm": {
     "name": "#%% md\n"
    }
   },
   "source": [
    "### 2. Link flow conservation constraints\n",
    "We have two sets of decision variables representing link flows; $x_{ij}$, representing flow on link $(i,j)$, and $x_{ijs}$, representing flow on link $(i,j)$ going to destination $s$. So we have to make sure that the sum of the flows over all destinations equals the flow on each link.\n",
    "$ \\sum_{s \\in D}{x_{ijs}} = x_{ij} \\quad \\forall (i,j) \\in A $"
   ]
  },
  {
   "cell_type": "code",
   "execution_count": null,
   "metadata": {
    "pycharm": {
     "name": "#%%\n"
    }
   },
   "outputs": [],
   "source": [
    "# link flow conservation (destination flows and link flows), c_lfc is the name of the constraint\n",
    "c_lfc = model.addConstrs(gp.quicksum(dest_flow[i, j, s] for s in dests) == link_flow[i, j] for (i, j) in links)"
   ]
  },
  {
   "cell_type": "markdown",
   "metadata": {
    "pycharm": {
     "name": "#%% md\n"
    }
   },
   "source": [
    "### 3. Node flow conservation constraints\n",
    "The basic idea of this constraint set is to make sure that the incoming and outgoing flow to and from each node is the same (hence flow conservation) with the exception for origin and destination nodes of the trips where there will be extra outgoing flow (origins) or incoming flow (destinations). Think about a traffic intersection, vehicles enter and leave the intersection when they are moving in the network. This assures the continuity of the vehicle paths. $d_is$ here is the number of travelers from node $i$ to node $s$ with the exception of $d_ss$, which is all the demand that arrives at node $s$.\n",
    "\n",
    "$ \\sum_{j \\in N; (i,j) \\in A}{ x_{ijs}} - \\sum_{j \\in N; (j,i) \\in A}{ x_{jis}} = d_{is} \\quad \\forall i \\in N, \\forall s \\in D $\n",
    "\n",
    "The figure gives an example:\n",
    "\n",
    "![image](./figs/equil.png)"
   ]
  },
  {
   "cell_type": "code",
   "execution_count": null,
   "metadata": {
    "pycharm": {
     "name": "#%%\n"
    }
   },
   "outputs": [],
   "source": [
    "# node flow conservation (demand), c_nfc is the name of the constraint\n",
    "c_nfc = model.addConstrs(\n",
    "    gp.quicksum(dest_flow[i, j, s] for j in nodes if (i, j) in links) -\n",
    "    gp.quicksum(dest_flow[j, i, s] for j in nodes if (j, i) in links) == demand[i, s]\n",
    "    for i in nodes for s in dests\n",
    ")"
   ]
  },
  {
   "cell_type": "markdown",
   "metadata": {
    "pycharm": {
     "name": "#%% md\n"
    }
   },
   "source": [
    "### 4. Quadratic variable constraints (you do not need to fully understand this)\n",
    "These are basically dummy equations to help gurobi model quadratic terms (that we defined as dummy variables earlier). So essentially instead of using $x^2_{ij}$ in the model, we define a new set of decision variables and define a set of constrains to set their value to $x^2_{ij}$. This let's Gurobi know these are quadratic terms and helps gurobi to replace it with variables and constraints required to keep the problem linear. This is not part of your learning goals! \n"
   ]
  },
  {
   "cell_type": "code",
   "execution_count": null,
   "metadata": {
    "pycharm": {
     "name": "#%%\n"
    }
   },
   "outputs": [],
   "source": [
    "# dummy constraints for handling quadratic terms\n",
    "c_qrt = model.addConstrs(link_flow_sqr[i, j] == link_flow[i, j] * link_flow[i, j] for (i, j) in links)"
   ]
  },
  {
   "cell_type": "markdown",
   "metadata": {},
   "source": [
    "### Additional constraint for task 3"
   ]
  },
  {
   "cell_type": "markdown",
   "metadata": {
    "id": "0491cc69"
   },
   "source": [
    "<div style=\"background-color:#ffa6a6; color: black; vertical-align: middle; padding:15px; margin: 10px; border-radius: 10px; width: 95%\"><p><b>Note:</b> There are three constraints provided below for you to compare. <code>c_new2</code> is the \"correct\" solution based on the information provided in this assignment; however, it produces an unfeasible problem. The constraint <code>c_new1</code> is feasible, but double-counts capacity (a mistake). See extended solution (markdown file) for more information.</p></div>"
   ]
  },
  {
   "cell_type": "code",
   "execution_count": null,
   "metadata": {},
   "outputs": [],
   "source": [
    "#Constrain the vehicles to the capacity of the road:\n",
    "c_new1 = model.addConstrs(link_flow[i, j] <= cap_normal[i, j]+(link_selected[i, j]*cap_extend[i, j]) for (i, j) in links)\n",
    "c_new2 = model.addConstrs(link_flow[i, j] <= cap_normal[i,j] + ((cap_extend[i,j]-cap_normal[i,j] ) * link_selected[i,j])  for (i, j) in links)"
   ]
  },
  {
   "cell_type": "markdown",
   "metadata": {
    "pycharm": {
     "name": "#%% md\n"
    }
   },
   "source": [
    "# Solving the model"
   ]
  },
  {
   "cell_type": "code",
   "execution_count": null,
   "metadata": {
    "pycharm": {
     "name": "#%%\n"
    }
   },
   "outputs": [],
   "source": [
    "#Next we are ready to solve the model\n",
    "model.optimize()"
   ]
  },
  {
   "cell_type": "markdown",
   "metadata": {},
   "source": [
    "Note that if you didn't find a solution, you can rerun the previous cell to continue the optimization for another 300 seconds (defined by `timelimit`)."
   ]
  },
  {
   "cell_type": "markdown",
   "metadata": {
    "pycharm": {
     "name": "#%% md\n"
    }
   },
   "source": [
    "# Analysis"
   ]
  },
  {
   "cell_type": "code",
   "execution_count": null,
   "metadata": {
    "pycharm": {
     "name": "#%%\n"
    }
   },
   "outputs": [],
   "source": [
    "# fetch optimal decision variables and Objective Function values\n",
    "link_flows = {(i, j): link_flow[i, j].X for (i, j) in links}\n",
    "links_selected = {(i, j): link_selected[i, j].X for (i, j) in links}\n",
    "total_travel_time = model.ObjVal\n",
    "\n",
    "# Let's print right now the objective function\n",
    "print(\"Optimal Objective function Value\", model.objVal)\n",
    "\n",
    "# Let's print right now the decision variables\n",
    "for var in model.getVars():\n",
    "    print(f\"{var.varName}: {round(var.X, 3)}\")  # print the optimal decision variable values."
   ]
  },
  {
   "cell_type": "markdown",
   "metadata": {},
   "source": [
    "## Network Visualization"
   ]
  },
  {
   "cell_type": "markdown",
   "metadata": {},
   "source": [
    "### 1. Network visualization with highlighted links"
   ]
  },
  {
   "cell_type": "markdown",
   "metadata": {},
   "source": [
    "Now, let's visualize the results showcasing congested traffic flows and the selected links for expansion. \n",
    "In this graph, we'll observe the network's topology using node coordinates and links. Our graph will be **directional** to represent the road network.\n",
    "\n",
    "Nodes are depicted in blue, while selected nodes and links are highlighted in pink and red."
   ]
  },
  {
   "cell_type": "code",
   "execution_count": null,
   "metadata": {},
   "outputs": [],
   "source": [
    "network_visualization_highlight_links (G, pos, link_select=links_selected)"
   ]
  },
  {
   "cell_type": "markdown",
   "metadata": {},
   "source": [
    "### 2. Network visualization with upgraded links\n",
    "\n"
   ]
  },
  {
   "cell_type": "markdown",
   "metadata": {},
   "source": [
    "In this section, we'll visualize our upgraded network, incorporating the new capacities. Following that, we'll represent the network along with its results, displaying the flow (F) and capacity (C) alongside each link.\n",
    "\n",
    "**Notes:**\n",
    "\n",
    "1. **Pink nodes** highlight the selected nodes.\n",
    "2. **Colored edges** denote the upgraded edges selected through the optimization process.\n",
    "3. Various **edge colors** indicate different ranges for edge attributes (Flow/Capacity), as demonstrated in the legend.\n",
    "4. Diverse **edge widths** represent varying flow ranges on the edges.\n",
    "5. Your plot is interactive; to clearly view the numbers, simply click on them!"
   ]
  },
  {
   "cell_type": "code",
   "execution_count": null,
   "metadata": {},
   "outputs": [],
   "source": [
    "# Define new capacity after expansion\n",
    "cap_normal = {(i, j): cap for (i, j), cap in net_data['capacity'].items()}\n",
    "cap_extend = {(i, j): cap * extension_factor for (i, j), cap in net_data['capacity'].items()}\n",
    "capacity = {(i, j): cap_normal[i, j] * (1 - links_selected[i, j]) + cap_extend[i, j] * links_selected[i, j]\n",
    "            for (i, j) in links}\n"
   ]
  },
  {
   "cell_type": "code",
   "execution_count": null,
   "metadata": {},
   "outputs": [],
   "source": [
    "# Plot results\n",
    "network_visualization_upgraded (G = G, pos=pos, link_flow=link_flows, capacity_new=capacity ,link_select=links_selected, labels='off')"
   ]
  },
  {
   "cell_type": "markdown",
   "metadata": {},
   "source": [
    "If you wish to see the velues for the entire network you just need to turn on the labels and run the function again. "
   ]
  },
  {
   "cell_type": "code",
   "execution_count": null,
   "metadata": {},
   "outputs": [],
   "source": [
    "# To see flow and capacity for the entire network\n",
    "network_visualization_upgraded (G = G, pos=pos, link_flow=link_flows, capacity_new=capacity ,link_select=links_selected, labels='on')"
   ]
  },
  {
   "cell_type": "markdown",
   "metadata": {},
   "source": [
    "**End of notebook.**\n",
    "<h2 style=\"height: 60px\">\n",
    "</h2>\n",
    "<h3 style=\"position: absolute; display: flex; flex-grow: 0; flex-shrink: 0; flex-direction: row-reverse; bottom: 60px; right: 50px; margin: 0; border: 0\">\n",
    "    <style>\n",
    "        .markdown {width:100%; position: relative}\n",
    "        article { position: relative }\n",
    "    </style>\n",
    "    <a rel=\"license\" href=\"http://creativecommons.org/licenses/by-nc-sa/4.0/\">\n",
    "      <img alt=\"Creative Commons License\" style=\"border-width:; width:88px; height:auto; padding-top:10px\" src=\"https://i.creativecommons.org/l/by-nc-sa/4.0/88x31.png\" />\n",
    "    </a>\n",
    "    <a rel=\"TU Delft\" href=\"https://www.tudelft.nl/en/ceg\">\n",
    "      <img alt=\"TU Delft\" style=\"border-width:0; width:100px; height:auto; padding-bottom:0px\" src=\"https://gitlab.tudelft.nl/mude/public/-/raw/main/tu-logo/TU_P1_full-color.png\"/>\n",
    "    </a>\n",
    "    <a rel=\"MUDE\" href=\"http://mude.citg.tudelft.nl/\">\n",
    "      <img alt=\"MUDE\" style=\"border-width:0; width:100px; height:auto; padding-bottom:0px\" src=\"https://gitlab.tudelft.nl/mude/public/-/raw/main/mude-logo/MUDE_Logo-small.png\"/>\n",
    "    </a>\n",
    "    \n",
    "</h3>\n",
    "<span style=\"font-size: 75%\">\n",
    "&copy; Copyright 2023 <a rel=\"MUDE Team\" href=\"https://studiegids.tudelft.nl/a101_displayCourse.do?course_id=65595\">MUDE Teaching Team</a> TU Delft. This work is licensed under a <a rel=\"license\" href=\"http://creativecommons.org/licenses/by-nc-sa/4.0/\">Creative Commons Attribution-NonCommercial-ShareAlike 4.0 International License</a>."
   ]
  }
 ],
 "metadata": {
  "kernelspec": {
   "display_name": "Python 3 (ipykernel)",
   "language": "python",
   "name": "python3"
  },
  "language_info": {
   "codemirror_mode": {
    "name": "ipython",
    "version": 3
   },
   "file_extension": ".py",
   "mimetype": "text/x-python",
   "name": "python",
   "nbconvert_exporter": "python",
   "pygments_lexer": "ipython3",
   "version": "3.11.5"
  }
 },
 "nbformat": 4,
 "nbformat_minor": 4
}
