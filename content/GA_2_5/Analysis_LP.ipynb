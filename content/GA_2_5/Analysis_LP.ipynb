{
 "cells": [
  {
   "cell_type": "markdown",
   "metadata": {
    "pycharm": {
     "name": "#%% md\n"
    }
   },
   "source": [
    "# Don't do math and drive\n",
    "\n",
    "<h1 style=\"position: absolute; display: flex; flex-grow: 0; flex-shrink: 0; flex-direction: row-reverse; top: 60px;right: 30px; margin: 0; border: 0\">\n",
    "    <style>\n",
    "        .markdown {width:100%; position: relative}\n",
    "        article { position: relative }\n",
    "    </style>\n",
    "    <img src=\"https://gitlab.tudelft.nl/mude/public/-/raw/main/tu-logo/TU_P1_full-color.png\" style=\"width:100px\" />\n",
    "    <img src=\"https://gitlab.tudelft.nl/mude/public/-/raw/main/mude-logo/MUDE_Logo-small.png\" style=\"width:100px\" />\n",
    "</h1>\n",
    "<h2 style=\"height: 10px\">\n",
    "</h2>\n",
    "\n",
    "*[CEGM1000 MUDE](http://mude.citg.tudelft.nl/): Week 2.5. For: 13th December, 2024.*"
   ]
  },
  {
   "cell_type": "markdown",
   "metadata": {
    "pycharm": {
     "name": "#%% md\n"
    }
   },
   "source": [
    "# Problem description\n",
    "\n",
    "_Note: part of the background material for this project was already available in the textbook._\n",
    "\n",
    "In this assignment, the goal is to minimize the total travel time on the network by selecting a predefined number of links for capacity expansion (subject to the available budget).\n",
    "\n",
    "The road network design problem (NDP) is the problem of determining which links to build/refurbish/upgrade in order to improve the performance of a road network. One of the variations of the road NDP is the road NDP with capacity expansions, which involves deciding which links should have their capacity increased. This is a complex problem that must take into account a variety of factors, including:\n",
    "\n",
    "* The current state of the road network\n",
    "* The projected future traffic demand\n",
    "* The budget available for improvements\n",
    "* The impacts of the adjustments (could be environmental, social, etc).\n",
    "\n",
    "There are a variety of approaches to dealing with the road network design problem with capacity expansion. One common approach is to use mathematical optimization models. In this assignment we use a simplified example to show how optimization can be used to tackle road NDPs.\n",
    "\n",
    "The following (main) assumptions and simplifications are made to make the problem solvable using methods and algorithms that you have learned so far:\n",
    "\n",
    "### 1. Link travel time function\n",
    "Travel time on a stretch of road (i.e., a link) depends on the flow (vehicles/hour) on that link and the capacity of the link (maximum of vehicles/hour). The most common function to calculate travel time on a link is the so-called Bureau of Public Roads (BPR) function, which is a polynomial (degree 4) function:\n",
    "\n",
    "$${t_{ij}} = t_{ij}^0\\left( {1 + \\alpha {{\\left( {\\cfrac{x_{ij}}{c_{ij}}} \\right)}^\\beta }} \\right) \\quad \\left( {i,j} \\right) \\in A$$\n",
    "\n",
    "Where $t_{ij}$ is the current travel time on the link, $t_{ij}^0$ is the travel time without congestion (free flow), $x_{ij}$ is the flow of cars, and $c_{ij}$ the capacity in maximum flow of cars. $\\alpha$ and $\\beta$ are calibration parameters. More details are provided within the formulation section.\n",
    "\n",
    "Here, we assumme a simplified linear function where travel time grows linearly with the flow of vehicles on a road link, which will be described later in the notebook.\n",
    "\n",
    "### 2. Route choice behavior\n",
    "In order to assess the quality of the road capacity expansion problem, one must know what the effect of the added capacity is on travel time. The route choice behavior of drivers within congested networks often follows the so-called User Equilibrium (UE) principle where each traveller tries to minimize their own individual generalized travel time. \n",
    "\n",
    "However, calculating the UE requires advanced methods which are not covered in the MUDE. Therefore, here we assume the route choice behaviour follows the so-called System Optimal (SO) principle, which implies that route choices are made in such a way that the total travel time is minimized (summed over all the drivers). That means that some cars will drive longer routes so that other cars can save time. But have in mind that in real life road networks you can hardly obtain a system optimal traffic distribution!\n",
    "\n",
    "\n",
    "Using the simplifcations and assumptions referred to above we can formulate an NDP and solve it using the branch and bound method (that you have studied before).\n"
   ]
  },
  {
   "cell_type": "markdown",
   "metadata": {},
   "source": [
    "<div style=\"background-color:#facb8e; color: black; vertical-align: middle; padding:15px; margin: 10px; border-radius: 10px; width: 95%\"> <p> <b>Note:</b> You will need to select mude-week-2-5 as your kernel as it includes the required packages.</p></div>"
   ]
  },
  {
   "cell_type": "markdown",
   "metadata": {
    "pycharm": {
     "name": "#%% md\n"
    }
   },
   "source": [
    "\n",
    "## Part 1: Data preprocessing\n",
    "\n",
    "The demand of the network is given by an **OD matrix** (origin-destination), which will be constructed below. The OD matrix is a table that tells you how many cars go from node i to node j in an a given timeframe. The functions for this can be found in the helper function in utils/read.py. You do not need to edit anything in this codeblock."
   ]
  },
  {
   "cell_type": "markdown",
   "metadata": {},
   "source": [
    "<div style=\"background-color:#AABAB2; color: black; vertical-align: middle; width:95%; padding:15px; margin: 10px; border-radius: 10px; width: 95%\">\n",
    "<p>\n",
    "<b>Task 1:</b> \n",
    "\n",
    "Run the script below. \n",
    "\n",
    "- The first two blocks imports all the required functions and packages\n",
    "- The next blocks visualises the network.\n",
    "- The last block loads the OD matrix and visualises it in a heatmap.\n",
    "</p>\n",
    "</div>"
   ]
  },
  {
   "cell_type": "code",
   "execution_count": 28,
   "metadata": {},
   "outputs": [],
   "source": [
    "import gurobipy as gp\n",
    "import pandas as pd\n",
    "import numpy as np\n",
    "from matplotlib import pyplot as plt"
   ]
  },
  {
   "cell_type": "code",
   "execution_count": 29,
   "metadata": {
    "pycharm": {
     "name": "#%%\n"
    }
   },
   "outputs": [],
   "source": [
    "# import required packages\n",
    "import os\n",
    "import time\n",
    "\n",
    "# import required functions\n",
    "from utils.read import read_cases\n",
    "from utils.read import read_net\n",
    "from utils.read import read_od\n",
    "from utils.read import create_nd_matrix"
   ]
  },
  {
   "cell_type": "markdown",
   "metadata": {},
   "source": [
    "### Visualisation\n",
    "\n",
    "In this section, we'll initially visualize the network using the coordinates of the sample road network, 'SiouxFalls'. Later, we'll employ the same network topology to visualize the upgraded links.\n",
    "\n",
    "Thankfully, Python offers a highly useful package for visualizing networks called **'networkx'**. We'll leverage some of its features, so:\n",
    "\n",
    "The code block below will generate the road network that we are using in the assessment, Sioux Falls."
   ]
  },
  {
   "cell_type": "code",
   "execution_count": 30,
   "metadata": {},
   "outputs": [],
   "source": [
    "# For visualization\n",
    "import networkx as nx\n",
    "import json\n",
    "from matplotlib.lines import Line2D \n",
    "from utils.network_visualization import network_visualization\n",
    "from utils.network_visualization_highlight_link import network_visualization_highlight_links\n",
    "from utils.network_visualization_upgraded import network_visualization_upgraded"
   ]
  },
  {
   "cell_type": "code",
   "execution_count": null,
   "metadata": {},
   "outputs": [],
   "source": [
    "# We are using the SiouxFalls network which is one of the most used networks in transportation reseach: https://github.com/bstabler/TransportationNetworks/blob/master/SiouxFalls/Sioux-Falls-Network.pdf\n",
    "networks = ['SiouxFalls']\n",
    "networks_dir = 'input/TransportationNetworks'\n",
    "\n",
    "net_dict, ods_dict = read_cases(networks, networks_dir)\n",
    "net_data, ods_data = net_dict[networks[0]], ods_dict[networks[0]]\n",
    "\n",
    "## now let's prepare the data in a format readable by gurobi\n",
    "links = list(net_data['capacity'].keys())\n",
    "nodes = np.unique([list(edge) for edge in links])\n",
    "fftts = net_data['free_flow']\n",
    "\n",
    "# Visualise\n",
    "coordinates_path = 'input/TransportationNetworks/SiouxFalls/SiouxFallsCoordinates.geojson'\n",
    "G, pos = network_visualization(link_flow = fftts,coordinates_path= coordinates_path) "
   ]
  },
  {
   "cell_type": "markdown",
   "metadata": {},
   "source": [
    "Feel free to explore further functionalities of the **networkx** package in its [documentation](https://networkx.org/documentation/stable/reference/index.html).\n",
    "\n",
    "Interested in visualizing other networks? Fantastic! However, you'll need to check the format of your coordinates first. TAs will assist you if you wish to explore further."
   ]
  },
  {
   "cell_type": "markdown",
   "metadata": {},
   "source": [
    "### OD Matrix"
   ]
  },
  {
   "cell_type": "markdown",
   "metadata": {},
   "source": [
    "Here, the OD matrix is read.\n",
    "\n",
    "The first code block gives you a printout of the first 5 rows of the matrix. The second creates a heatmap of the flow values inside the OD matrix."
   ]
  },
  {
   "cell_type": "code",
   "execution_count": null,
   "metadata": {},
   "outputs": [],
   "source": [
    "import matplotlib.pyplot as plt\n",
    "import pandas as pd\n",
    "import numpy as np\n",
    "\n",
    "data = ods_data\n",
    "\n",
    "max_origin = max(key[0] for key in data.keys())\n",
    "max_destination = max(key[1] for key in data.keys())\n",
    "\n",
    "od_matrix = pd.DataFrame(index=range(1, max_origin + 1), columns=range(1, max_destination + 1))\n",
    "\n",
    "for key, value in data.items():\n",
    "    od_matrix.loc[key[0], key[1]] = value\n",
    "\n",
    "print(\"Origin-Destination Matrix:\")\n",
    "print(od_matrix.head(5))"
   ]
  },
  {
   "cell_type": "code",
   "execution_count": null,
   "metadata": {},
   "outputs": [],
   "source": [
    "# Convert to numeric and handle NaN\n",
    "od_matrix = od_matrix.fillna(0).astype(float)\n",
    "\n",
    "# Plotting the Heatmap\n",
    "plt.figure(figsize=(8, 6))\n",
    "plt.title(\"Origin-Destination Heatmap\")\n",
    "plt.xlabel(\"Destination\")\n",
    "plt.ylabel(\"Origin\")\n",
    "plt.imshow(od_matrix.values, cmap='RdYlGn_r', aspect=\"auto\", interpolation=\"nearest\")\n",
    "plt.colorbar(label=\"Flow Values\")\n",
    "plt.xticks(ticks=np.arange(od_matrix.shape[1]), labels=od_matrix.columns)\n",
    "plt.yticks(ticks=np.arange(od_matrix.shape[0]), labels=od_matrix.index)\n",
    "plt.show()"
   ]
  },
  {
   "cell_type": "markdown",
   "metadata": {
    "pycharm": {
     "name": "#%% md\n"
    }
   },
   "source": [
    "## Part 2: Modeling in Gurobi\n",
    "\n",
    "### Defining Parameters\n",
    "\n",
    "Now that we have the required functions for reading and processing the data, let's define some problem parameters and prepare the input. "
   ]
  },
  {
   "cell_type": "markdown",
   "metadata": {},
   "source": [
    "<div style=\"background-color:#AABAB2; color: black; vertical-align: middle; width:95%; padding:15px; margin: 10px; border-radius: 10px; width: 95%\">\n",
    "<p>\n",
    "<b>Task 2.1:</b> \n",
    "\n",
    "Run the script below. Take some time to look at the defined parameters and try to relate them to what they represent. This will be useful for answering the questions later.\n",
    "\n",
    "</p>\n",
    "</div>"
   ]
  },
  {
   "cell_type": "code",
   "execution_count": 7,
   "metadata": {},
   "outputs": [],
   "source": [
    "# define parameters\n",
    "extension_factor = 2.5  # capacity after extension\n",
    "extension_max_no = 40  # simplified budget limit\n",
    "timelimit = 300  # seconds\n",
    "beta = 2  # explained later\n",
    "\n",
    "# auxiliary parameters \n",
    "cap_normal = {(i, j): cap for (i, j), cap in net_data['capacity'].items()}\n",
    "cap_extend = {(i, j): cap * extension_factor for (i, j), cap in net_data['capacity'].items()}\n",
    "\n",
    "# origins and destinations\n",
    "origs = np.unique([orig for (orig, dest) in list(ods_data.keys())])\n",
    "dests = np.unique([dest for (orig, dest) in list(ods_data.keys())])\n",
    "\n",
    "# OD-matrix is built\n",
    "demand = create_nd_matrix(ods_data, origs, dests, nodes)"
   ]
  },
  {
   "cell_type": "markdown",
   "metadata": {},
   "source": [
    "### Initiate the Gurobi model\n",
    "\n",
    "First, let's build a gurobi model object and define some parameters based on the model type. We have a mixed integer quadratic program (MIQP), that's because the objective function has a quadratic term, which we want to transform to a mixed integer linear program (MILP) and solve using the branch and bound method. We discuss the transformations from quadratic to linear when we introduce quadratic terms."
   ]
  },
  {
   "cell_type": "markdown",
   "metadata": {},
   "source": [
    "<div style=\"background-color:#AABAB2; color: black; vertical-align: middle; width:95%; padding:15px; margin: 10px; border-radius: 10px; width: 95%\">\n",
    "<p>\n",
    "<b>Task 2.2:</b> \n",
    "\n",
    "Run the model setup below, which includes initiating the decision variables, objective function, and constraints. \n",
    "\n",
    "</p>\n",
    "</div>"
   ]
  },
  {
   "cell_type": "code",
   "execution_count": null,
   "metadata": {
    "pycharm": {
     "name": "#%%\n"
    }
   },
   "outputs": [],
   "source": [
    "## create a gurobi model object\n",
    "model = gp.Model()\n",
    "\n",
    "model.params.TimeLimit = timelimit  \n",
    "model.params.NonConvex = 2 \n",
    "model.params.PreQLinearize = 1"
   ]
  },
  {
   "cell_type": "markdown",
   "metadata": {
    "pycharm": {
     "name": "#%% md\n"
    }
   },
   "source": [
    "### Decision variables\n",
    "\n",
    "We have a set of binary variables $y_{ij}$, these variables take the value 1 if link $(i,j)$ connecting node $i$ to node $j$ is selected for expansion, and 0 otherwise.\n",
    "\n",
    "We also have two sets of decision variables representing link flows; $x_{ij}$, representing flow on link $(i,j)$ in cars per hour, and $x_{ijs}$, representing flow on link $(i,j)$ going to destination $s$.\n",
    "\n",
    "The first is the number of total cars passing on that road, and the second is the number of cars that are passing on the road which are specifically going to destination $s$. Summing the latter over all $s$ results in the former for a link $(i,j)$.\n",
    "\n",
    "Therefore, mathematically we define the domain of the variables as follows:\n",
    "\n",
    "\\begin{align}\n",
    "  & y_{ij} \\in \\{0, 1\\} \\quad \\forall (i,j) \\in A \\\\\n",
    "  & x_{ij} \\geq 0 \\quad \\forall (i,j) \\in A \\\\\n",
    "  & x_{ijs} \\geq 0 \\quad \\forall (i,j) \\in A, \\forall s \\in D \\\\\n",
    "\\end{align}\n",
    "\n",
    "As you will see below in the code block, we have one extra set of variables called x2 (x square). This is to help Gurobi isolate quadratic terms and perform required transformations based on MCE to keep the problem linear. This is not part of your learning goals."
   ]
  },
  {
   "cell_type": "code",
   "execution_count": 9,
   "metadata": {
    "pycharm": {
     "name": "#%%\n"
    }
   },
   "outputs": [],
   "source": [
    "# decision variables:\n",
    "\n",
    "link_selected = model.addVars(links, vtype=gp.GRB.BINARY, name='y')\n",
    "link_flow = model.addVars(links, vtype=gp.GRB.CONTINUOUS, name='x')\n",
    "dest_flow = model.addVars(links, dests, vtype=gp.GRB.CONTINUOUS, name='xs')\n",
    "\n",
    "link_flow_sqr = model.addVars(links, vtype=gp.GRB.CONTINUOUS, name='x2')\n"
   ]
  },
  {
   "cell_type": "markdown",
   "metadata": {
    "pycharm": {
     "name": "#%% md\n"
    }
   },
   "source": [
    "### Objective function\n",
    "\n",
    "The objective function of the problem (in its simplest form), is the minimization of the total travel time on the network, that means that you multiply the flow of vehicles in each link by the corresponding travel time and sum over all links ($A$ is the collection of all links to simplify the notation):\n",
    "\n",
    "$Z = \\sum_{(i,j)\\in A}{ x_{ij} . t_{ij}} $\n",
    "\n",
    "The travel time $t_{ij}$ is a function of the flow on a link and can be expressed as follows (where beta is a parameter):\n",
    "\n",
    "$ t_{ij} = t^0_{ij} . ( 1 + \\beta (x_{ij}/c_{ij}))  \\quad \\forall (i,j) \\in A  $\n",
    "\n",
    "> Note that the commonly used travel time function based on the Bureau of Public Roads (BPR) is as follows:\n",
    "> \n",
    "> $ t_{ij} = t^0_{ij} . ( 1 + \\alpha (x_{ij}/c_{ij})^\\beta)  \\quad \\forall (i,j) \\in A  $\n",
    "> \n",
    "> Where $\\beta$ usually assumes the value of $4$ making this function (and the problem) non-linear. Therefore, we use the linear function mentioned before to make the problem manageable using what we have learned so far.\n",
    "\n",
    "The following constraint yields the capacity of each link based on which ones are selected for expansion, when y is 1 there is added capacity as you can see:\n",
    "\n",
    "$ c_{ij} = (1 - y_{ij}) . c^0_{ij} +  y_{ij} . c^1_{ij}  \\quad \\forall (i,j) \\in A   $\n",
    "\n",
    "This allows us to represent $t_{ij}$ as:\n",
    "\n",
    "$ t_{ij} = t^0_{ij} . ( 1 + \\beta (x_{ij} * ((1 - y_{ij})/c^0_{ij} +  y_{ij}/c^1_{ij} )))  \\quad \\forall (i,j) \\in A  $\n",
    "\n",
    "Which leads to the following extended objective funtion:\n",
    "\n",
    "$ Z = \\sum_{(i,j) \\in A}{ x_{ij} . (t^0_{ij} . ( 1 + \\beta (x_{ij} * ((1 - y_{ij})/c^0_{ij} +  y_{ij}/c^1_{ij} ))))} $\n",
    "\n",
    "Now, for gurobi (and other solvers as well), we have to keep binary variables and quadratic terms clean and separate so that it can perform the required transformations to linearize the problem. Therefore, the equation below, despite being very big, would be the most solver-friendly formulation of our objective function:\n",
    "\n",
    "\\begin{align}\n",
    "  Z = \\sum_{(i,j) \\in A}{t^0_{ij} . x_{ij}} + \\sum_{(i,j) \\in A}{(t^0_{ij}.\\beta /c^0_{ij}) . x^2_{ij}} - \\sum_{(i,j) \\in A}{(t^0_{ij}.\\beta /c^0_{ij}) . x^2_{ij} . y_{ij}} + \\sum_{(i,j) \\in A}{t^0_{ij}.(\\beta /c^1_{ij}) . x^2_{ij} . y_{ij}}  \\\\\n",
    "\\end{align}\n",
    "\n",
    "Therefore, we use this equation to model our objective function in gurobi. You do not need to know fully understand this equation.\n"
   ]
  },
  {
   "cell_type": "code",
   "execution_count": 10,
   "metadata": {
    "pycharm": {
     "name": "#%%\n"
    }
   },
   "outputs": [],
   "source": [
    "# objective function (total travel time)\n",
    "\n",
    "model.setObjective(\n",
    "    gp.quicksum(fftts[i, j] * link_flow[i, j] +\n",
    "                fftts[i, j] * (beta/cap_normal[i, j]) * link_flow_sqr[i, j] -\n",
    "                fftts[i, j] * (beta/cap_normal[i, j]) * link_flow_sqr[i, j] * link_selected[i, j] +\n",
    "                fftts[i, j] * (beta/cap_extend[i, j]) * link_flow_sqr[i, j] * link_selected[i, j]\n",
    "                for (i, j) in links))"
   ]
  },
  {
   "cell_type": "markdown",
   "metadata": {
    "pycharm": {
     "name": "#%% md\n"
    }
   },
   "source": [
    "### Constraints\n",
    "\n",
    "We have four sets of constraints for this problem. Let's go through them one by one and add them to the model.\n",
    "\n",
    "#### 1. Budget constraint\n",
    "We can only extend the capacity of certain number of links based on the available budget. So first, we have to make sure to limit the number of extended links to the max number that can be expanded:\n",
    "\n",
    "$$ \\sum_{(i,j) \\in A}{ y_{ij}} \\leq B $$"
   ]
  },
  {
   "cell_type": "code",
   "execution_count": 11,
   "metadata": {
    "pycharm": {
     "name": "#%%\n"
    }
   },
   "outputs": [],
   "source": [
    "# budget constraint\n",
    "c_bgt = model.addConstr(gp.quicksum(link_selected[i, j] for (i, j) in links) <= extension_max_no)"
   ]
  },
  {
   "cell_type": "markdown",
   "metadata": {
    "pycharm": {
     "name": "#%% md\n"
    }
   },
   "source": [
    "#### 2. Link flow conservation constraints\n",
    "We have two sets of decision variables representing link flows; $x_{ij}$, representing flow on link $(i,j)$, and $x_{ijs}$, representing flow on link $(i,j)$ going to destination $s$. So we have to make sure that the sum of the flows over all destinations equals the flow on each link.\n",
    "$ \\sum_{s \\in D}{x_{ijs}} = x_{ij} \\quad \\forall (i,j) \\in A $"
   ]
  },
  {
   "cell_type": "code",
   "execution_count": 12,
   "metadata": {
    "pycharm": {
     "name": "#%%\n"
    }
   },
   "outputs": [],
   "source": [
    "# link flow conservation\n",
    "c_lfc = model.addConstrs(gp.quicksum(dest_flow[i, j, s] for s in dests) == link_flow[i, j] for (i, j) in links)"
   ]
  },
  {
   "cell_type": "markdown",
   "metadata": {
    "pycharm": {
     "name": "#%% md\n"
    }
   },
   "source": [
    "#### 3. Node flow conservation constraints\n",
    "The basic idea of this constraint set is to make sure that the incoming and outgoing flow to and from each node is the same (hence flow conservation) with the exception for origin and destination nodes of the trips where there will be extra outgoing flow (origins) or incoming flow (destinations). Think about a traffic intersection, vehicles enter and leave the intersection when they are moving in the network. This assures the continuity of the vehicle paths. $d_{is}$ here is the number of travelers from node $i$ to node $s$ with the exception of $d_{ss}$, which is all the demand that arrives at node $s$.\n",
    "\n",
    "$ \\sum_{j \\in N; (i,j) \\in A}{ x_{ijs}} - \\sum_{j \\in N; (j,i) \\in A}{ x_{jis}} = d_{is} \\quad \\forall i \\in N, \\forall s \\in D $\n",
    "\n",
    "The figure gives an example:\n",
    "\n",
    "![image](./figs/equil.png)"
   ]
  },
  {
   "cell_type": "code",
   "execution_count": 21,
   "metadata": {
    "pycharm": {
     "name": "#%%\n"
    }
   },
   "outputs": [],
   "source": [
    "# node flow conservation\n",
    "c_nfc = model.addConstrs(\n",
    "    gp.quicksum(dest_flow[i, j, s] for j in nodes if (i, j) in links) -\n",
    "    gp.quicksum(dest_flow[j, i, s] for j in nodes if (j, i) in links) == demand[i, s]\n",
    "    for i in nodes for s in dests\n",
    ")"
   ]
  },
  {
   "cell_type": "markdown",
   "metadata": {
    "pycharm": {
     "name": "#%% md\n"
    }
   },
   "source": [
    "#### 4. Quadratic variable constraints (you do not need to fully understand this)\n",
    "These are basically dummy equations to help gurobi model quadratic terms (that we defined as dummy variables earlier). So essentially instead of using $x^2_{ij}$ in the model, we define a new set of decision variables and define a set of constrains to set their value to $x^2_{ij}$. This let's Gurobi know these are quadratic terms and helps gurobi to replace it with variables and constraints required to keep the problem linear. This is not part of your learning goals! \n"
   ]
  },
  {
   "cell_type": "code",
   "execution_count": 14,
   "metadata": {
    "pycharm": {
     "name": "#%%\n"
    }
   },
   "outputs": [],
   "source": [
    "# dummy constraints for handling quadratic terms\n",
    "c_qrt = model.addConstrs(link_flow_sqr[i, j] == link_flow[i, j] * link_flow[i, j] for (i, j) in links)"
   ]
  },
  {
   "cell_type": "markdown",
   "metadata": {},
   "source": [
    "### Additional constraint for question 3"
   ]
  },
  {
   "cell_type": "markdown",
   "metadata": {},
   "source": [
    "<div style=\"background-color:#AABAB2; color: black; vertical-align: middle; width:95%; padding:15px; margin: 10px; border-radius: 10px; width: 95%\">\n",
    "<p>\n",
    "<b>Task 2.3:</b> \n",
    "\n",
    "After running the whole model once for 300s, come back and set up a new constraint as instructed in the report. After doing this, reset your kernel and rerun the whole model, with this additional constraint.\n",
    "\n",
    "</p>\n",
    "</div>"
   ]
  },
  {
   "cell_type": "markdown",
   "metadata": {
    "id": "0491cc69"
   },
   "source": [
    "<div style=\"background-color:#ffa6a6; color: black; vertical-align: middle; padding:15px; margin: 10px; border-radius: 10px; width: 95%\"><p><b>Note:</b> \n",
    "\n",
    "The cell below only has to be used when adding the constraint.  </p></div>"
   ]
  },
  {
   "cell_type": "code",
   "execution_count": 15,
   "metadata": {},
   "outputs": [],
   "source": [
    "# constrain the vehicles to the capacity of the road:\n",
    "# c_new = YOUR_CODE_HERE"
   ]
  },
  {
   "cell_type": "markdown",
   "metadata": {},
   "source": [
    "<div style=\"background-color:#facb8e; color: black; vertical-align: middle; padding:15px; margin: 10px; border-radius: 10px; width: 95%\"><p><b>Note:</b> Maximum computation time (termination criteria) is set here as a keyword argument in the code cell above, which is beneath the 'Part 2' heading. </p></div>"
   ]
  },
  {
   "cell_type": "code",
   "execution_count": null,
   "metadata": {
    "pycharm": {
     "name": "#%%\n"
    }
   },
   "outputs": [],
   "source": [
    "#Next we are ready to solve the model\n",
    "model.optimize()"
   ]
  },
  {
   "cell_type": "markdown",
   "metadata": {},
   "source": [
    "Note that if you didn't find a solution, you can rerun the previous cell to continue the optimization for another 300 seconds (defined by `timelimit`)."
   ]
  },
  {
   "cell_type": "code",
   "execution_count": null,
   "metadata": {
    "pycharm": {
     "name": "#%%\n"
    }
   },
   "outputs": [],
   "source": [
    "# fetch optimal decision variables and Objective Function values\n",
    "link_flows = {(i, j): link_flow[i, j].X for (i, j) in links}\n",
    "links_selected = {(i, j): link_selected[i, j].X for (i, j) in links}\n",
    "total_travel_time = model.ObjVal\n",
    "\n",
    "# Let's print right now the objective function\n",
    "print(\"Optimal Objective function Value\", model.objVal)\n",
    "\n",
    "# Let's print right now the decision variables\n",
    "for var in model.getVars():\n",
    "    print(f\"{var.varName}: {round(var.X, 3)}\")  # print the optimal decision variable values."
   ]
  },
  {
   "cell_type": "markdown",
   "metadata": {},
   "source": [
    "### Network Visualization"
   ]
  },
  {
   "cell_type": "markdown",
   "metadata": {},
   "source": [
    "#### 1. Network visualization with highlighted links"
   ]
  },
  {
   "cell_type": "markdown",
   "metadata": {},
   "source": [
    "Now, let's visualize the results showcasing congested traffic flows and the selected links for expansion. \n",
    "In this graph, we'll observe the network's topology using node coordinates and links. Our graph will be **directional** to represent the road network.\n",
    "\n",
    "Nodes are depicted in blue, while selected nodes and links are highlighted in pink and red."
   ]
  },
  {
   "cell_type": "markdown",
   "metadata": {},
   "source": [
    "<div style=\"background-color:#AABAB2; color: black; vertical-align: middle; width:95%; padding:15px; margin: 10px; border-radius: 10px; width: 95%\">\n",
    "<p>\n",
    "<b>Task 2.4:</b> \n",
    "\n",
    "Run the visualisation scripts. Note that you can also view the printout of the labels if it is difficult to read. \n",
    "\n",
    "</p>\n",
    "</div>"
   ]
  },
  {
   "cell_type": "code",
   "execution_count": null,
   "metadata": {},
   "outputs": [],
   "source": [
    "network_visualization_highlight_links (G, pos, link_select=links_selected)"
   ]
  },
  {
   "cell_type": "markdown",
   "metadata": {},
   "source": [
    "#### 2. Network visualization with upgraded links\n",
    "\n"
   ]
  },
  {
   "cell_type": "markdown",
   "metadata": {},
   "source": [
    "In this section, we'll visualize our upgraded network, incorporating the new capacities. Following that, we'll represent the network along with its results, displaying the flow (F) and capacity (C) alongside each link.\n",
    "\n",
    "**Notes:**\n",
    "\n",
    "1. **Pink nodes** highlight the selected nodes.\n",
    "2. **Colored edges** denote the upgraded edges selected through the optimization process.\n",
    "3. Various **edge colors** indicate different ranges for edge attributes (Flow/Capacity), as demonstrated in the legend.\n",
    "4. Diverse **edge widths** represent varying flow ranges on the edges.\n",
    "5. Your plot is interactive; to clearly view the numbers, simply click on them!"
   ]
  },
  {
   "cell_type": "code",
   "execution_count": 19,
   "metadata": {},
   "outputs": [],
   "source": [
    "# Define new capacity after expansion\n",
    "cap_normal = {(i, j): cap for (i, j), cap in net_data['capacity'].items()}\n",
    "cap_extend = {(i, j): cap * extension_factor for (i, j), cap in net_data['capacity'].items()}\n",
    "capacity = {(i, j): cap_normal[i, j] * (1 - links_selected[i, j]) + cap_extend[i, j] * links_selected[i, j]\n",
    "            for (i, j) in links}"
   ]
  },
  {
   "cell_type": "code",
   "execution_count": null,
   "metadata": {},
   "outputs": [],
   "source": [
    "# To see flow and capacity for the entire network\n",
    "network_visualization_upgraded (G = G, pos=pos, link_flow=link_flows, capacity_new=capacity ,link_select=links_selected, labels='on')"
   ]
  },
  {
   "cell_type": "markdown",
   "id": "cb8ecd0a",
   "metadata": {},
   "source": [
    "**End of notebook.**\n",
    "\n",
    "<div style=\"margin-top: 50px; padding-top: 20px; border-top: 1px solid #ccc;\">\n",
    "  <div style=\"display: flex; justify-content: flex-end; gap: 20px; align-items: center;\">\n",
    "    <a rel=\"MUDE\" href=\"http://mude.citg.tudelft.nl/\">\n",
    "      <img alt=\"MUDE\" style=\"width:100px; height:auto;\" src=\"https://gitlab.tudelft.nl/mude/public/-/raw/main/mude-logo/MUDE_Logo-small.png\" />\n",
    "    </a>\n",
    "    <a rel=\"TU Delft\" href=\"https://www.tudelft.nl/en/ceg\">\n",
    "      <img alt=\"TU Delft\" style=\"width:100px; height:auto;\" src=\"https://gitlab.tudelft.nl/mude/public/-/raw/main/tu-logo/TU_P1_full-color.png\" />\n",
    "    </a>\n",
    "    <a rel=\"license\" href=\"http://creativecommons.org/licenses/by/4.0/\">\n",
    "      <img alt=\"Creative Commons License\" style=\"width:88px; height:auto;\" src=\"https://i.creativecommons.org/l/by/4.0/88x31.png\" />\n",
    "    </a>\n",
    "  </div>\n",
    "  <div style=\"font-size: 75%; margin-top: 10px; text-align: right;\">\n",
    "    &copy; Copyright 2024 <a rel=\"MUDE\" href=\"http://mude.citg.tudelft.nl/\">MUDE</a> TU Delft. \n",
    "    This work is licensed under a <a rel=\"license\" href=\"http://creativecommons.org/licenses/by/4.0/\">CC BY 4.0 License</a>.\n",
    "  </div>\n",
    "</div>\n",
    "\n",
    "\n",
    "<!--tested with WS_2_8_solution.ipynb-->"
   ]
  }
 ],
 "metadata": {
  "kernelspec": {
   "display_name": "mude-week-2-5",
   "language": "python",
   "name": "python3"
  },
  "language_info": {
   "codemirror_mode": {
    "name": "ipython",
    "version": 3
   },
   "file_extension": ".py",
   "mimetype": "text/x-python",
   "name": "python",
   "nbconvert_exporter": "python",
   "pygments_lexer": "ipython3",
   "version": "3.12.7"
  }
 },
 "nbformat": 4,
 "nbformat_minor": 4
}
