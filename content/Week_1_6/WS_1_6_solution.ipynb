{
 "cells": [
  {
   "cell_type": "markdown",
   "id": "1d48ad6c",
   "metadata": {
    "id": "9adbf457-797f-45b7-8f8b-0e46e0e2f5ff"
   },
   "source": [
    "# WS 1.6: Understanding Ordinary Differential Equation\n",
    "\n",
    "<h1 style=\"position: absolute; display: flex; flex-grow: 0; flex-shrink: 0; flex-direction: row-reverse; top: 60px;right: 30px; margin: 0; border: 0\">\n",
    "    <style>\n",
    "        .markdown {width:100%; position: relative}\n",
    "        article { position: relative }\n",
    "    </style>\n",
    "    <img src=\"https://gitlab.tudelft.nl/mude/public/-/raw/main/tu-logo/TU_P1_full-color.png\" style=\"width:100px\" />\n",
    "    <img src=\"https://gitlab.tudelft.nl/mude/public/-/raw/main/mude-logo/MUDE_Logo-small.png\" style=\"width:100px\" />\n",
    "\n",
    "</h1>\n",
    "<h2 style=\"height: 10px\">\n",
    "</h2>\n",
    "\n",
    "*[CEGM1000 MUDE](http://mude.citg.tudelft.nl/): Week 1.6. For: 9th October, 2024.*"
   ]
  },
  {
   "cell_type": "markdown",
   "id": "366ef404",
   "metadata": {},
   "source": [
    "## Overview\n",
    "\n",
    "\n",
    "This assignment is aimed to develop an understanding of the **Ordinary Differential Equation (ODE)**. There will be two sections about cooling and heating scenerios, corresponding to the first-order and the second-order ODEs. Please go through the text that follows and perform all steps outlined therein.\n",
    "\n",
    "## Section 1: First-order ODE\n",
    "### 1.1 Linear ODE\n",
    "In the study of heat transfer, **Newton's law of cooling** is a physical law which states that the rate of heat loss of a body is directly proportional to the difference in the temperatures between the body and its environment. It can be expressed in the form of ODE, as below:\n",
    "\n",
    "$$\\frac{dT}{dt}=-k(T - T_s)$$\n",
    "\n",
    "\n",
    "\n",
    "where $T$ is the temperature of the object at time $t$, $T_s$ is the temperature of the surrounding and assumed to be constant, and $k$ is the constant that characterizes the ability of the object to exchange the\n",
    "heat energy (unit 1/s), which depends on the specific material properties.\n",
    "\n",
    "\n",
    "Now, Let's consider an object with the initial temperature of  50°C in a surrounding environment with constant temperature at 20°C. The constant of heat exchange between the object and the environment is 0.5 $sec^-1$.\n"
   ]
  },
  {
   "cell_type": "markdown",
   "id": "73781a3c",
   "metadata": {},
   "source": [
    "<div style=\"background-color:#AABAB2; color: black; vertical-align: middle; padding:15px; margin: 10px; border-radius: 10px\">\n",
    "<p>\n",
    "<b>Task 1:</b>\n",
    " \n",
    "Suppose the considered period of time is long enough (bring it to steady state), what will be the final temperature of the object? \n",
    "    \n",
    "**Write your answer in the following markdown cell.**\n",
    " \n",
    "</p>\n",
    "</div>"
   ]
  },
  {
   "cell_type": "markdown",
   "id": "3081d88d",
   "metadata": {},
   "source": [
    "<div style=\"background-color:#facb8e; color: black; vertical-align: middle; padding:15px; margin: 10px; width:95%; border-radius: 10px\">\n",
    "<p>Your answers for Task 1:\n",
    "<p>\n",
    "    \n",
    "20°C \n",
    "    \n",
    "*This is because the body's temperature, $T$, will tend to the ambience temperature in the long term. The decrease will be abrupt at the beginning and will slow down as time passes $T(t=large) = T_s = 20°C$.*\n",
    "\n",
    "</p>\n",
    "</div>\n"
   ]
  },
  {
   "cell_type": "markdown",
   "id": "06320ed9",
   "metadata": {},
   "source": [
    "Next, let's evaluate the temperature of the object by checking it at a series of time points."
   ]
  },
  {
   "cell_type": "markdown",
   "id": "18cbde20",
   "metadata": {},
   "source": [
    "<div style=\"background-color:#AABAB2; color: black; vertical-align: middle; padding:15px; margin: 10px; border-radius: 10px\">\n",
    "<p>\n",
    "<b>Task 2:</b>\n",
    "\n",
    "Write the algebraic representation of the ODE using Explicit Euler.\n",
    " \n",
    "</p>\n",
    "</div>"
   ]
  },
  {
   "cell_type": "markdown",
   "id": "bec070a5",
   "metadata": {},
   "source": [
    " <div style=\"background-color:#facb8e; color: black; vertical-align: middle; padding:15px; margin: 10px; width:95%; border-radius: 10px\">\n",
    "<p>\n",
    "Answer for Task 2:\n",
    "<p>\n",
    "    \n",
    " $$ T_{i+1} = T_{i}-k(T_{i} - T_s)dt$$\n",
    "\n",
    "\n",
    "\n",
    "How to get there:\n",
    "\n",
    "$$\n",
    "\\int_{t}^{t+1} \\frac{dT}{dt} dt=\\int_{t}^{t+1}-k(T - T_s)dt\n",
    "$$\n",
    "$$\n",
    "\\int_{t}^{t+1} T' dt=\\int_{t}^{t+1}f(t)dt\n",
    "$$\n",
    "\n",
    "FTC (fundamental theorem of calculus) for left side and using left rieman to approximate right term\n",
    "\n",
    "$$\n",
    "T_{t+1} - T_t =  \\Delta t f(t_i)\n",
    "$$\n",
    "\n",
    "$$\n",
    "T_{t+1}= T_t + \\Delta t f(t_i)\n",
    "$$\n",
    "\n",
    "$$\n",
    "T_{t+1}= T_t - k(T_t - T_s)\n",
    "$$\n",
    "\n",
    "or from forward finite difference\n",
    "</p>\n",
    "</div>"
   ]
  },
  {
   "cell_type": "markdown",
   "id": "579a9440",
   "metadata": {},
   "source": [
    "<div style=\"background-color:#AABAB2; color: black; vertical-align: middle; padding:15px; margin: 10px; border-radius: 10px\">\n",
    "<p>\n",
    "<b>Task 3:</b>\n",
    "\n",
    "Compute the temperature evolution in the next 60 seconds. This task is defined in subtasks.\n",
    " \n",
    "</p>\n",
    "</div>"
   ]
  },
  {
   "cell_type": "markdown",
   "id": "88b861bc",
   "metadata": {},
   "source": [
    "<div style=\"background-color:#AABAB2; color: black; vertical-align: middle; padding:15px; margin: 10px; border-radius: 10px\">\n",
    "<p>\n",
    "<b>Task 3.1:</b> \n",
    "\n",
    "The time step of 5 seconds is constant. Discretize the time points, the solution vector $T$ and define the initial condition.\n",
    " \n",
    "</p>\n",
    "</div>"
   ]
  },
  {
   "cell_type": "code",
   "execution_count": 1,
   "id": "b44aa057",
   "metadata": {},
   "outputs": [],
   "source": [
    "import numpy as np\n",
    "import matplotlib.pyplot as plt\n",
    "\n",
    "dt =5                          \n",
    "t_end = 60  \n",
    "Ts =  20       # [C] \n",
    "k = 0.5        # [sec^-1]\n",
    "\n",
    "t = np.arange(0,t_end+dt,dt)\n",
    "n = len(t)\n",
    "T = np.empty(n)\n",
    "T[0] = 50\n",
    "\n"
   ]
  },
  {
   "cell_type": "markdown",
   "id": "4586d4b6",
   "metadata": {},
   "source": [
    "<div style=\"background-color:#AABAB2; color: black; vertical-align: middle; padding:15px; margin: 10px; border-radius: 10px\">\n",
    "<p>\n",
    "<b>Task 3.2:</b> \n",
    "\n",
    "Implement your time discretization and find the solution from $t=0$ until $t=60$ sec. \n",
    " \n",
    "</p>\n",
    "</div>"
   ]
  },
  {
   "cell_type": "code",
   "execution_count": 2,
   "id": "0bf8247e",
   "metadata": {
    "scrolled": false
   },
   "outputs": [
    {
     "data": {
      "image/png": "[encoded data removed]",
      "text/plain": [
       "<Figure size 640x480 with 1 Axes>"
      ]
     },
     "metadata": {},
     "output_type": "display_data"
    }
   ],
   "source": [
    "for i in range(n-1):\n",
    "    T[i+1] = T[i]-k*(T[i]-Ts)*dt \n",
    "    \n",
    "plt.plot(t, T, 'o-')\n",
    "plt.xlabel('t (sec)')\n",
    "plt.ylabel('T (deg)')\n",
    "plt.grid()"
   ]
  },
  {
   "cell_type": "markdown",
   "id": "ffb4547f",
   "metadata": {},
   "source": [
    "<div style=\"background-color:#AABAB2; color: black; vertical-align: middle; padding:15px; margin: 10px; border-radius: 10px\">\n",
    "<p>\n",
    "<b>Task 3.3:</b>\n",
    "\n",
    "Try different time steps to check the stability of the calculation. At which value the solution is stable?\n",
    " \n",
    "</p>\n",
    "</div>"
   ]
  },
  {
   "cell_type": "markdown",
   "id": "59bcbb0a",
   "metadata": {},
   "source": [
    "<div style=\"background-color:#facb8e; color: black; vertical-align: middle; padding:15px; margin: 10px; width:95%; border-radius: 10px\">\n",
    "<p>\n",
    "<b>Answer:</b> \n",
    "    \n",
    "4 seconds is the limit between an unstable and a stable solution.\n",
    "\n",
    "</p>\n",
    "</div>"
   ]
  },
  {
   "cell_type": "markdown",
   "id": "8a907a09",
   "metadata": {},
   "source": [
    "<div style=\"background-color:#AABAB2; color: black; vertical-align: middle; padding:15px; margin: 10px; border-radius: 10px\">\n",
    "<p>\n",
    "<b>Task 3.4:</b>\n",
    "\n",
    "Obtain the mathematical expression that proves your stability criteria.\n",
    " \n",
    "</p>\n",
    "</div>"
   ]
  },
  {
   "cell_type": "markdown",
   "id": "eb00c9ab",
   "metadata": {},
   "source": [
    "<div style=\"background-color:#facb8e; color: black; vertical-align: middle; padding:15px; margin: 10px; width:95%; border-radius: 10px\">\n",
    "<p> Answer\n",
    "<p>\n",
    "    \n",
    "$$\n",
    "\\frac{dT}{dt}= -k(T-Ts)\n",
    "$$\n",
    "\n",
    "$$\n",
    "\\int \\frac{1}{(T-Ts)}dT=\\int -k dt\n",
    "$$\n",
    "\n",
    "$$\n",
    "ln|T-Ts| = -kt +C\n",
    "$$\n",
    "\n",
    "$$\n",
    "T-Ts = Ce^{-kt}\n",
    "$$\n",
    "\n",
    "$$\n",
    "T= Ts +Ce^{-kt}\n",
    "$$\n",
    "\n",
    "\n",
    "This is an Explicit Euler scheme, thus is conditionally stable, with the criterion: $ |1-k*dt|<1$. \n",
    "\n",
    "Solving for n time steps, the solution can be generalized as $T_n=T_0(1-k\\Delta t)^n + k \\Delta t T_s \\left[ (1-k \\Delta t)^{n-1} + (1-k \\Delta t)^{n-2} + ... + (1-k \\Delta t)^{0} \\right]$   \n",
    "\n",
    "The criterion of stability is $ |1-k*dt|<1$. Otherwise, the solution would tend to grow instead of decaying. \n",
    "Then $|k*dt| < 2$, thus $dt < 4$. \n",
    "\n",
    "</p>\n",
    "</div>"
   ]
  },
  {
   "cell_type": "markdown",
   "id": "1ff1e4fe",
   "metadata": {},
   "source": [
    "<div style=\"background-color:#AABAB2; color: black; vertical-align: middle; padding:15px; margin: 10px; border-radius: 10px\">\n",
    "<p>\n",
    "<b>Task 3.5:</b>\n",
    "\n",
    "Now, discretize the equation using Implicit (Backward) Euler. Can you find a time step that makes the problem unstable?\n",
    " \n",
    "</p>\n",
    "</div>"
   ]
  },
  {
   "cell_type": "code",
   "execution_count": 3,
   "id": "18c73272",
   "metadata": {},
   "outputs": [
    {
     "data": {
      "image/png": "[encoded data removed]",
      "text/plain": [
       "<Figure size 640x480 with 1 Axes>"
      ]
     },
     "metadata": {},
     "output_type": "display_data"
    }
   ],
   "source": [
    "dt = 10                          \n",
    "t_end = 60  \n",
    "Ts =  20       # [C] \n",
    "k = 0.5        # [sec^-1]\n",
    "\n",
    "t = np.arange(0,t_end+dt,dt)\n",
    "n = len(t)\n",
    "T = np.empty(n)\n",
    "T[0] = 50     \n",
    "\n",
    "for i in range(n-1):\n",
    "    T[i+1] = (T[i]+k*Ts*dt)/(1+k*dt) \n",
    "    \n",
    "plt.plot(t, T, 'o-')\n",
    "plt.xlabel('t (sec)')\n",
    "plt.ylabel('T (deg)')\n",
    "plt.grid()"
   ]
  },
  {
   "cell_type": "markdown",
   "id": "2109f010",
   "metadata": {},
   "source": [
    "## Section 2: Second-order ODE\n",
    "### Background\n",
    "The following 1D equation describes the steady state solution of the temperature along a pin that sticks out of a furnace. The rest of the pin is exposed to the ambient. \n",
    "\n",
    "$$\n",
    "\\frac{d^2T}{dx^2} -\\alpha(T-T_s)=0\n",
    "$$\n",
    "\n",
    "The ambient temperature is $T_s= 30^o$ C and the temperature at the wall is $250^o$ C. The length of the pin is 0.1m. Your grid should have a spatial step of 0.02 m. Finally, $\\alpha=500$."
   ]
  },
  {
   "cell_type": "markdown",
   "id": "5bf9639d",
   "metadata": {},
   "source": [
    "\n",
    "The solution includes the steps:\n",
    "1. Use the Taylor series to obtain an approximation for the derivatives;\n",
    "2. Discretize the equation;\n",
    "3. Define parameters and grid;\n",
    "4. Provide boundary conditions;\n",
    "5. Build matrix with solution $AT=b$\n",
    "6. Solve the matrix"
   ]
  },
  {
   "cell_type": "markdown",
   "id": "c739aaf1",
   "metadata": {},
   "source": [
    "<div style=\"background-color:#AABAB2; color: black; vertical-align: middle; padding:15px; margin: 10px; border-radius: 10px\">\n",
    "<p>\n",
    "<b>Task 5:</b>\n",
    "\n",
    "Below we already provide the code structured that solves the equation with the above Dirichlet conditions and using a central difference approximation of the second derivative. Complete the code to complete the matrix and vectors. **Write in paper (add the image) the matrix A, and the vectors T and b.**\n",
    "    \n"
   ]
  },
  {
   "cell_type": "markdown",
   "id": "11009615",
   "metadata": {},
   "source": []
  },
  {
   "cell_type": "markdown",
   "id": "4133c6e2",
   "metadata": {},
   "source": [
    "<div style=\"background-color:#facb8e; color: black; vertical-align: middle; padding:15px; margin: 10px; width:95%; border-radius: 10px\">\n",
    "<p> Answer\n",
    "<p>\n",
    "    \n",
    "Add the image.\n",
    "\n",
    "**For $i = 1$:**\n",
    "The finite difference approximation for the first internal node is:\n",
    "\n",
    "$$\n",
    "\\frac{1}{\\Delta x^2}(T_0 - 2T_1 + T_2) - \\alpha T_1 + \\alpha T_s = 0\n",
    "$$\n",
    "\n",
    "Next, we multiply by $\\Delta x^2$ and substitute the boundary condition for $T_0$. Notice that the only unknown solutions are $T_1$ and $T_2$\n",
    "Rearranging the terms gives:\n",
    "\n",
    "$$\n",
    "-(2 + \\alpha \\Delta x^2) T_1 + T_2 = -\\alpha T_s \\Delta x^2 - T_0\n",
    "$$\n",
    "\n",
    "**For $i = 2$:**\n",
    "The finite difference approximation for the second internal node is:\n",
    "\n",
    "$$\n",
    "\\frac{1}{\\Delta x^2}(T_1 - 2T_2 + T_3) - \\alpha T_2 + \\alpha T_s = 0\n",
    "$$\n",
    "\n",
    "Rearranging the terms:\n",
    "\n",
    "$$\n",
    "T_1 - (2 + \\alpha \\Delta x^2) T_2 + T_3 = -\\alpha T_s \\Delta x^2\n",
    "$$\n",
    "\n",
    "**For $i = 3$:**\n",
    "The finite difference approximation for the third internal node is:\n",
    "\n",
    "$$\n",
    "\\frac{1}{\\Delta x^2}(T_2 - 2T_3 + T_4) - \\alpha T_3 + \\alpha T_s = 0\n",
    "$$\n",
    "\n",
    "Notice that now we can plug in our other bc $T_5$ and rearrange the terms:\n",
    "\n",
    "$$\n",
    "(T_3 - (2 + \\alpha \\Delta x^2) T_4 ) = -\\alpha Ts \\Delta x^2 -T_5 \n",
    "$$\n",
    "\n",
    "We can now move the equations in the Ax=y form:\n",
    "\n",
    "$$\n",
    "\\begin{bmatrix}\n",
    " -(2 + \\alpha \\Delta x^2) & 1 & 0 & 0 \\\\\n",
    "1 & -(2 + \\alpha \\Delta x^2) & 1 & 0 \\\\\n",
    "0 & 1 & -(2 + \\alpha \\Delta x^2) & 1 \\\\\n",
    "0 & 0 & 1 & -(2 + \\alpha \\Delta x^2)\n",
    "\\end{bmatrix} \\begin{bmatrix}\n",
    "T_1 \\\\\n",
    "T_2 \\\\\n",
    "T_3 \\\\\n",
    "T_4\n",
    "\\end{bmatrix}\n",
    "=\n",
    "\\begin{bmatrix}\n",
    "-\\alpha Ts \\Delta x^2 -T_0\\\\\n",
    "-\\alpha Ts \\Delta x^2 \\\\\n",
    "-\\alpha Ts \\Delta x^2\\\\\n",
    "-\\alpha Ts \\Delta x^2 -T_5\n",
    "\\end{bmatrix}\n",
    "$$\n",
    "\n",
    "\n",
    "\n",
    "</p>\n",
    "</div>"
   ]
  },
  {
   "cell_type": "code",
   "execution_count": 4,
   "id": "53fb4f99",
   "metadata": {},
   "outputs": [
    {
     "data": {
      "image/png": "[encoded data removed]",
      "text/plain": [
       "<Figure size 640x480 with 1 Axes>"
      ]
     },
     "metadata": {},
     "output_type": "display_data"
    },
    {
     "name": "stdout",
     "output_type": "stream",
     "text": [
      "The estimated temperature at the nodes are: ['250.00', '168.77', '115.29', '78.86', '52.21', '30.00'] [C]\n"
     ]
    }
   ],
   "source": [
    "import numpy as np \n",
    "import matplotlib.pyplot as plt\n",
    "\n",
    "Ts = 30\n",
    "alpha = 500\n",
    "dx=0.02\n",
    "\n",
    "# grid creation\n",
    "x = np.arange(0,0.1+dx,dx)\n",
    "T = np.zeros(x.shape)\n",
    "n=len(x)\n",
    "\n",
    "# boundary conditions\n",
    "T[0] = 250\n",
    "T[-1] = Ts\n",
    "\n",
    "# Building matrix A\n",
    "matrix_element = -(2+dx**2*alpha)\n",
    "A = np.zeros((len(x)-2,len(x)-2))\n",
    "np.fill_diagonal(A, matrix_element)\n",
    "A[np.arange(n-3), np.arange(1, n-2)] = 1  # Upper diagonal\n",
    "A[np.arange(1, n-2), np.arange(n-3)] = 1  # Lower diagonal\n",
    "\n",
    "# Building vector b\n",
    "b_element = -dx**2*alpha*Ts\n",
    "b = np.zeros(len(x)-2) + b_element\n",
    "b[0] = b[0] - T[0]\n",
    "b[-1] = b[-1] - T[-1]\n",
    "\n",
    "# Solving the system\n",
    "\n",
    "T[1:-1] = np.linalg.solve(A,b)\n",
    "\n",
    "plt.plot(x,T,'*',label='Estimated solution')\n",
    "plt.xlabel('x')\n",
    "plt.ylabel('T')\n",
    "plt.title('Estimated solution using Central Difference method')\n",
    "plt.legend()\n",
    "plt.show()\n",
    "\n",
    "print(f'The estimated temperature at the nodes are: {[f\"{temp:.2f}\" for temp in T]} [C]')"
   ]
  },
  {
   "cell_type": "markdown",
   "id": "72ed77c5",
   "metadata": {},
   "source": [
    "\n",
    "\n",
    "<div style=\"background-color:#AABAB2; color: black; vertical-align: middle; padding:15px; margin: 10px; border-radius: 10px\">\n",
    "<p>\n",
    "<b>Task 6:</b>\n",
    "\n",
    "Copy the code above below and modify it to replace the Dirichlet condition at the right BC for a Neumann condition such that there $\\frac{dT}{dx}=0$. Approximate the Neuman boundary $\\frac{dT}{dx}=0$ by using the Backward difference for first order differential equation of first order accuracy. \n",
    "\n",
    "How does the temperature profile changes?  \n",
    "\n",
    "**Remember to change the title of the plot to indicate that now the BC is of the Neumann type**\n",
    "\n",
    "</p>\n",
    "</div>"
   ]
  },
  {
   "cell_type": "markdown",
   "id": "f89b7b33",
   "metadata": {},
   "source": [
    "The first elements for i = 1,2,3 are the same as above in task 5\n",
    "\n",
    "The neuman bc is on the last node \n",
    "\n",
    "$$\n",
    "\\frac{dT}{dx} = \\frac{T_i - T_{i-1}}{\\Delta x} \n",
    "$$\n",
    "\n",
    "Neuman bc $$\\frac{dT_5}{dx}=0 \\approx \\frac{T_5 - T_{4}}{\\Delta x}  $$\n",
    "Therefore $T_5=T_4$\n",
    "\n",
    "**For $i = 4$**\n",
    "\n",
    "$$\n",
    "\\frac{1}{\\Delta x^2}(T_3-2T_4+T_5) - \\alpha T_4 + \\alpha Ts =0\n",
    "$$\n",
    "\n",
    "Plug in BC $T_5=T_4$\n",
    "\n",
    "$$\n",
    "\\frac{1}{\\Delta x^2}(T_3-2T_4+T_4) - \\alpha T_4 + \\alpha Ts =0\n",
    "$$\n",
    "\n",
    "$$\n",
    "T_3-(1 + \\alpha \\Delta x^2)T_4  = \\alpha Ts \n",
    "$$\n",
    "\n",
    "We can now move the equations in the Ax=y form:\n",
    "\n",
    "$$\n",
    "\\begin{bmatrix}\n",
    " -(2 + \\alpha \\Delta x^2) & 1 & 0 & 0 \\\\\n",
    "1 & -(2 + \\alpha \\Delta x^2) & 1 & 0 \\\\\n",
    "0 & 1 & -(2 + \\alpha \\Delta x^2) & 1 \\\\\n",
    "0 & 0 & 1 & -(1 + \\alpha \\Delta x^2)\n",
    "\\end{bmatrix} \\begin{bmatrix}\n",
    "T_1 \\\\\n",
    "T_2 \\\\\n",
    "T_3 \\\\\n",
    "T_4\n",
    "\\end{bmatrix}\n",
    "=\n",
    "\\begin{bmatrix}\n",
    "-\\alpha Ts \\Delta x^2 -T_0\\\\\n",
    "-\\alpha Ts \\Delta x^2 \\\\\n",
    "-\\alpha Ts \\Delta x^2\\\\\n",
    "-\\alpha Ts \\Delta x^2 \n",
    "\\end{bmatrix}\n",
    "$$"
   ]
  },
  {
   "cell_type": "code",
   "execution_count": 5,
   "id": "cfcd00f9",
   "metadata": {},
   "outputs": [
    {
     "data": {
      "image/png": "[encoded data removed]",
      "text/plain": [
       "<Figure size 640x480 with 1 Axes>"
      ]
     },
     "metadata": {},
     "output_type": "display_data"
    },
    {
     "name": "stdout",
     "output_type": "stream",
     "text": [
      "The estimated temperature at the nodes are: ['250.00', '174.84', '128.64', '102.18', '90.15', '90.15'] [C]\n"
     ]
    }
   ],
   "source": [
    "import numpy as np\n",
    "import matplotlib.pyplot as plt\n",
    " \n",
    "Ts = 30\n",
    "alpha = 500\n",
    "dx=0.02\n",
    " \n",
    "# grid creation\n",
    "x = np.arange(0,0.1+dx,dx)\n",
    "T = np.zeros(x.shape)\n",
    "n=len(x)\n",
    " \n",
    "# boundary conditions\n",
    "T[0] = 250\n",
    " \n",
    " \n",
    "# Building matrix A\n",
    "matrix_element = -(2+dx**2*alpha)\n",
    "A = np.zeros((len(x)-2,len(x)-2))\n",
    "np.fill_diagonal(A, matrix_element)\n",
    "A[np.arange(n-3), np.arange(1, n-2)] = 1  # Upper diagonal\n",
    "A[np.arange(1, n-2), np.arange(n-3)] = 1  # Lower diagonal\n",
    " \n",
    "A[-1,-1] = -(1+dx**2*alpha)  #the lower right corner of the matrix changes\n",
    " \n",
    "# Building vector b\n",
    "b_element = -dx**2*alpha*Ts\n",
    "b = np.zeros(len(x)-2) + b_element\n",
    "b[0] = b[0] - T[0]\n",
    "b[-1] = b[-1]               #the vector b also changes\n",
    " \n",
    "# Solving the system\n",
    "\n",
    "T[1:-1] = np.linalg.solve(A,b)\n",
    "T[-1] = T[-2]  \n",
    " \n",
    "plt.plot(x,T,'*',label='Estimated solution')\n",
    "plt.xlabel('x')\n",
    "plt.ylabel('T')\n",
    "plt.title('Estimated solution using Central Difference method with Neumann BC')\n",
    "plt.legend()\n",
    "plt.show()\n",
    " \n",
    "print(f'The estimated temperature at the nodes are: {[f\"{temp:.2f}\" for temp in T]} [C]')"
   ]
  },
  {
   "cell_type": "markdown",
   "id": "0b47e9c2",
   "metadata": {},
   "source": [
    "\n",
    "<div style=\"background-color:#AABAB2; color: black; vertical-align: middle; padding:15px; margin: 10px; border-radius: 10px\">\n",
    "<p>\n",
    "<b>Task 7:</b>\n",
    "\n",
    "Now, instead of using the central difference for approximating the second derivative. Use the forward difference to replace the second derivative (first order accurate). **Write the algebraic representation of the differential equation below.**\n",
    "\n",
    "</p>\n",
    "</div>"
   ]
  },
  {
   "cell_type": "markdown",
   "id": "74174f3a",
   "metadata": {},
   "source": [
    "<div style=\"background-color:#facb8e; color: black; vertical-align: middle; padding:15px; margin: 10px; width:95%; border-radius: 10px\">\n",
    "<p> Answer\n",
    "<p>\n",
    "Forward difference for second order differential equation:\n",
    "\n",
    "$$\n",
    "\\frac{T_i-2T_{i+1}+T_{i+2}}{\\Delta x^2}-\\alpha(T_i-T_s) = 0\n",
    "$$\n",
    "\n",
    "**For $i = 0$:**\n",
    "The finite difference approximation for the first internal node is:\n",
    "\n",
    "$$\n",
    "\\frac{1}{\\Delta x^2}(T_0 - 2T_1 + T_2) - \\alpha T_0 + \\alpha T_s = 0\n",
    "$$\n",
    "\n",
    "\n",
    "$$\n",
    "-2T_1 +T_2 = -(1+alpha)T_0 - \\alpha T_s \\Delta x^2\n",
    "$$\n",
    "\n",
    "**For $i = 1$:**\n",
    "The finite difference approximation for the second internal node is:\n",
    "\n",
    "$$\n",
    "\\frac{1}{\\Delta x^2}(T_1 - 2T_2 + T_3) - \\alpha T_1 + \\alpha T_s = 0\n",
    "$$\n",
    "\n",
    "Rearranging the terms:\n",
    "\n",
    "$$\n",
    "(1 - \\alpha \\Delta x^2)T_1 - 2T_2 + T_3 = -\\alpha T_s \\Delta x^2\n",
    "$$\n",
    "\n",
    "**For $i = 2$:**\n",
    "The finite difference approximation for the second internal node is:\n",
    "\n",
    "$$\n",
    "\\frac{1}{\\Delta x^2}(T_2 - 2T_3 + T_4) - \\alpha T_2 + \\alpha T_s = 0\n",
    "$$\n",
    "\n",
    "Rearranging the terms:\n",
    "\n",
    "$$\n",
    "(1 - \\alpha \\Delta x^2)T_2 - T_3 + T_4 = -\\alpha T_s \\Delta x^2\n",
    "$$\n",
    "\n",
    "**For $i = 3$:**\n",
    "The finite difference approximation for the second internal node is:\n",
    "\n",
    "$$\n",
    "\\frac{1}{\\Delta x^2}(T_3 - 2T_4 + T_5) - \\alpha T_3 + \\alpha T_s = 0\n",
    "$$\n",
    "\n",
    "Rearranging the terms:\n",
    "\n",
    "$$\n",
    "(1 - \\alpha \\Delta x^2)T_3 - 2T_4 = -\\alpha T_s \\Delta x^2 -T_5\n",
    "$$\n",
    "\n",
    "\n",
    "\n",
    "</p>\n",
    "</div>"
   ]
  },
  {
   "cell_type": "markdown",
   "id": "a4e0342e",
   "metadata": {},
   "source": [
    "\n",
    "<div style=\"background-color:#AABAB2; color: black; vertical-align: middle; padding:15px; margin: 10px; border-radius: 10px\">\n",
    "<p>\n",
    "<b>Task 8:</b>\n",
    "\n",
    "Now, write the resulting matrix A, the vector T and the vector b.\n",
    "    \n",
    "</p>\n",
    "</div>"
   ]
  },
  {
   "cell_type": "markdown",
   "id": "8d0bbab6",
   "metadata": {},
   "source": [
    "We can now move the equations in the Ax=y form:\n",
    "\n",
    "$$\n",
    "\\begin{bmatrix}\n",
    " -2  & 1 & 0 & 0 \\\\\n",
    "(1- \\alpha \\Delta x^2) & -2  & 1 & 0 \\\\\n",
    "0 & (1- \\alpha \\Delta x^2) & -2 & 1 \\\\\n",
    "0 & 0 & (1- \\alpha \\Delta x^2) & -2\n",
    "\\end{bmatrix} \\begin{bmatrix}\n",
    "T_1 \\\\\n",
    "T_2 \\\\\n",
    "T_3 \\\\\n",
    "T_4\n",
    "\\end{bmatrix}\n",
    "=\n",
    "\\begin{bmatrix}\n",
    "-\\alpha Ts \\Delta x^2 -T_0\\\\\n",
    "-\\alpha Ts \\Delta x^2 \\\\\n",
    "-\\alpha Ts \\Delta x^2\\\\\n",
    "-\\alpha Ts \\Delta x^2 -T_5\n",
    "\\end{bmatrix}\n",
    "$$"
   ]
  },
  {
   "cell_type": "markdown",
   "id": "b9ca660d",
   "metadata": {},
   "source": []
  },
  {
   "cell_type": "markdown",
   "id": "8cb492f8",
   "metadata": {},
   "source": [
    "<div style=\"background-color:#facb8e; color: black; vertical-align: middle; padding:15px; margin: 10px; width:95%; border-radius: 10px\">\n",
    "<p> Answer\n",
    "<p>\n",
    "    \n",
    "Add the image.\n",
    "\n",
    "</p>\n",
    "</div>"
   ]
  },
  {
   "cell_type": "markdown",
   "id": "0640b43e",
   "metadata": {},
   "source": [
    "\n",
    "<div style=\"background-color:#AABAB2; color: black; vertical-align: middle; padding:15px; margin: 10px; border-radius: 10px\">\n",
    "<p>\n",
    "<b>Task 9:</b>\n",
    "\n",
    "Copy the code of task 5 below, modify it accordingly to your new discretization (using FD for the second derivative in space). Keep Dirichlet conditions. \n",
    "\n",
    "How different are the values of the temperature with respect to task 5? Which solution is expected to be more accurate?\n",
    "\n",
    "</p>\n",
    "</div>"
   ]
  },
  {
   "cell_type": "code",
   "execution_count": 6,
   "id": "1e783d3e",
   "metadata": {},
   "outputs": [
    {
     "name": "stdout",
     "output_type": "stream",
     "text": [
      "[[-2.       1.       0.      ...  0.       0.       0.     ]\n",
      " [ 0.99992 -2.       1.      ...  0.       0.       0.     ]\n",
      " [ 0.       0.99992 -2.      ...  0.       0.       0.     ]\n",
      " ...\n",
      " [ 0.       0.       0.      ... -2.       1.       0.     ]\n",
      " [ 0.       0.       0.      ...  0.99992 -2.       1.     ]\n",
      " [ 0.       0.       0.      ...  0.       0.99992 -2.     ]]\n"
     ]
    },
    {
     "data": {
      "image/png": "[encoded data removed]",
      "text/plain": [
       "<Figure size 640x480 with 1 Axes>"
      ]
     },
     "metadata": {},
     "output_type": "display_data"
    },
    {
     "name": "stdout",
     "output_type": "stream",
     "text": [
      "The x values =============================: ['0.0000', '0.0004', '0.0008', '0.0012', '0.0016', '0.0020', '0.0024', '0.0028', '0.0032', '0.0036', '0.0040', '0.0044', '0.0048', '0.0052', '0.0056', '0.0060', '0.0064', '0.0068', '0.0072', '0.0076', '0.0080', '0.0084', '0.0088', '0.0092', '0.0096', '0.0100', '0.0104', '0.0108', '0.0112', '0.0116', '0.0120', '0.0124', '0.0128', '0.0132', '0.0136', '0.0140', '0.0144', '0.0148', '0.0152', '0.0156', '0.0160', '0.0164', '0.0168', '0.0172', '0.0176', '0.0180', '0.0184', '0.0188', '0.0192', '0.0196', '0.0200', '0.0204', '0.0208', '0.0212', '0.0216', '0.0220', '0.0224', '0.0228', '0.0232', '0.0236', '0.0240', '0.0244', '0.0248', '0.0252', '0.0256', '0.0260', '0.0264', '0.0268', '0.0272', '0.0276', '0.0280', '0.0284', '0.0288', '0.0292', '0.0296', '0.0300', '0.0304', '0.0308', '0.0312', '0.0316', '0.0320', '0.0324', '0.0328', '0.0332', '0.0336', '0.0340', '0.0344', '0.0348', '0.0352', '0.0356', '0.0360', '0.0364', '0.0368', '0.0372', '0.0376', '0.0380', '0.0384', '0.0388', '0.0392', '0.0396', '0.0400', '0.0404', '0.0408', '0.0412', '0.0416', '0.0420', '0.0424', '0.0428', '0.0432', '0.0436', '0.0440', '0.0444', '0.0448', '0.0452', '0.0456', '0.0460', '0.0464', '0.0468', '0.0472', '0.0476', '0.0480', '0.0484', '0.0488', '0.0492', '0.0496', '0.0500', '0.0504', '0.0508', '0.0512', '0.0516', '0.0520', '0.0524', '0.0528', '0.0532', '0.0536', '0.0540', '0.0544', '0.0548', '0.0552', '0.0556', '0.0560', '0.0564', '0.0568', '0.0572', '0.0576', '0.0580', '0.0584', '0.0588', '0.0592', '0.0596', '0.0600', '0.0604', '0.0608', '0.0612', '0.0616', '0.0620', '0.0624', '0.0628', '0.0632', '0.0636', '0.0640', '0.0644', '0.0648', '0.0652', '0.0656', '0.0660', '0.0664', '0.0668', '0.0672', '0.0676', '0.0680', '0.0684', '0.0688', '0.0692', '0.0696', '0.0700', '0.0704', '0.0708', '0.0712', '0.0716', '0.0720', '0.0724', '0.0728', '0.0732', '0.0736', '0.0740', '0.0744', '0.0748', '0.0752', '0.0756', '0.0760', '0.0764', '0.0768', '0.0772', '0.0776', '0.0780', '0.0784', '0.0788', '0.0792', '0.0796', '0.0800', '0.0804', '0.0808', '0.0812', '0.0816', '0.0820', '0.0824', '0.0828', '0.0832', '0.0836', '0.0840', '0.0844', '0.0848', '0.0852', '0.0856', '0.0860', '0.0864', '0.0868', '0.0872', '0.0876', '0.0880', '0.0884', '0.0888', '0.0892', '0.0896', '0.0900', '0.0904', '0.0908', '0.0912', '0.0916', '0.0920', '0.0924', '0.0928', '0.0932', '0.0936', '0.0940', '0.0944', '0.0948', '0.0952', '0.0956', '0.0960', '0.0964', '0.0968', '0.0972', '0.0976', '0.0980', '0.0984', '0.0988', '0.0992', '0.0996', '0.1000'] [m]\n",
      "The estimated temperature at the nodes are: ['250.00', '247.99', '245.99', '244.01', '242.05', '240.11', '238.18', '236.27', '234.38', '232.50', '230.64', '228.80', '226.97', '225.16', '223.36', '221.58', '219.81', '218.06', '216.33', '214.61', '212.90', '211.21', '209.54', '207.88', '206.23', '204.60', '202.98', '201.37', '199.78', '198.21', '196.64', '195.09', '193.56', '192.03', '190.52', '189.03', '187.54', '186.07', '184.61', '183.16', '181.73', '180.31', '178.90', '177.50', '176.11', '174.74', '173.38', '172.03', '170.69', '169.36', '168.04', '166.74', '165.44', '164.16', '162.88', '161.62', '160.37', '159.13', '157.90', '156.68', '155.47', '154.27', '153.08', '151.90', '150.73', '149.57', '148.42', '147.28', '146.15', '145.02', '143.91', '142.81', '141.71', '140.63', '139.55', '138.48', '137.42', '136.37', '135.33', '134.30', '133.27', '132.26', '131.25', '130.25', '129.26', '128.27', '127.30', '126.33', '125.37', '124.42', '123.47', '122.54', '121.61', '120.68', '119.77', '118.86', '117.96', '117.07', '116.18', '115.30', '114.43', '113.56', '112.70', '111.85', '111.00', '110.16', '109.33', '108.50', '107.68', '106.87', '106.06', '105.26', '104.47', '103.68', '102.89', '102.12', '101.34', '100.58', '99.82', '99.06', '98.32', '97.57', '96.83', '96.10', '95.37', '94.65', '93.94', '93.22', '92.52', '91.82', '91.12', '90.43', '89.74', '89.06', '88.38', '87.71', '87.04', '86.38', '85.72', '85.07', '84.42', '83.78', '83.13', '82.50', '81.87', '81.24', '80.61', '80.00', '79.38', '78.77', '78.16', '77.56', '76.96', '76.36', '75.77', '75.18', '74.60', '74.01', '73.44', '72.86', '72.29', '71.72', '71.16', '70.60', '70.04', '69.49', '68.94', '68.39', '67.85', '67.30', '66.77', '66.23', '65.70', '65.17', '64.64', '64.12', '63.60', '63.08', '62.56', '62.05', '61.54', '61.03', '60.53', '60.02', '59.52', '59.02', '58.53', '58.03', '57.54', '57.05', '56.57', '56.08', '55.60', '55.12', '54.64', '54.17', '53.69', '53.22', '52.75', '52.28', '51.81', '51.35', '50.89', '50.42', '49.96', '49.51', '49.05', '48.59', '48.14', '47.69', '47.24', '46.79', '46.34', '45.90', '45.45', '45.01', '44.56', '44.12', '43.68', '43.24', '42.80', '42.37', '41.93', '41.50', '41.06', '40.63', '40.20', '39.77', '39.34', '38.91', '38.48', '38.05', '37.62', '37.19', '36.77', '36.34', '35.92', '35.49', '35.07', '34.64', '34.22', '33.80', '33.37', '32.95', '32.53', '32.11', '31.69', '31.26', '30.84', '30.42', '30.00'] [C]\n",
      "The temperature at x=0.02 is: 168.04 [C]\n"
     ]
    }
   ],
   "source": [
    "import numpy as np \n",
    "import matplotlib.pyplot as plt\n",
    "\n",
    "Ts = 30\n",
    "alpha = 500\n",
    "dx=0.0004 # The grid size is reduced to (0.02^2 = 0.0004)\n",
    "\n",
    "# grid creation\n",
    "x = np.arange(0,0.1+dx,dx)\n",
    "T = np.zeros(x.shape)\n",
    "n=len(x)\n",
    "\n",
    "# boundary conditions\n",
    "T[0] = 250\n",
    "T[-1] = Ts\n",
    "\n",
    "# Building matrix A\n",
    "matrix_element = 1-alpha*dx**2    # The matrix element changes \n",
    "A = np.zeros((len(x)-2,len(x)-2))\n",
    "np.fill_diagonal(A, -2)\n",
    "A[np.arange(n-3), np.arange(1, n-2)] = 1  # Upper diagonal\n",
    "A[np.arange(1, n-2), np.arange(n-3)] = matrix_element  # Lower diagonal\n",
    "print(A)\n",
    "\n",
    "# Building vector b\n",
    "b_element = -dx**2*alpha*Ts\n",
    "b = np.zeros(len(x)-2) + b_element\n",
    "b[0] = b[0] - matrix_element * T[0]\n",
    "b[-1] = b[-1] - T[-1]\n",
    "\n",
    "# Solving the system\n",
    "\n",
    "T[1:-1] = np.linalg.solve(A,b)\n",
    "\n",
    "plt.plot(x,T,'*',label='Estimated solution')\n",
    "plt.xlabel('x')\n",
    "plt.ylabel('T')\n",
    "plt.title('Estimated solution using Forward Difference method')\n",
    "plt.legend()\n",
    "plt.show()\n",
    "\n",
    "print(f'The x values =============================: {[f\"{x_loc:.4f}\" for x_loc in x]} [m]')\n",
    "print(f'The estimated temperature at the nodes are: {[f\"{temp:.2f}\" for temp in T]} [C]')\n",
    "\n",
    "ind = np.argmin(abs(x-0.02))\n",
    "print(f'The temperature at x=0.02 is: {T[ind]:.2f} [C]')"
   ]
  },
  {
   "cell_type": "markdown",
   "id": "64d693df",
   "metadata": {},
   "source": [
    "<div style=\"background-color:#AABAB2; color: black; vertical-align: middle; padding:15px; margin: 10px; border-radius: 10px\">\n",
    "<p>\n",
    "<b>Task 9:</b>\n",
    "\n",
    "How much finer does your grid has to be in the forward difference implementation to get a similar value at x = 0.02 as in the central difference implementation? Vary your dx.\n",
    "\n",
    "\n",
    "</p>\n",
    "</div>"
   ]
  },
  {
   "cell_type": "markdown",
   "id": "e771703c",
   "metadata": {},
   "source": [
    "you can test this above make the temperature the same at x=0.02 "
   ]
  },
  {
   "cell_type": "markdown",
   "id": "031dca37",
   "metadata": {},
   "source": [
    "<div style=\"background-color:#facb8e; color: black; vertical-align: middle; padding:15px; margin: 10px; width:95%; border-radius: 10px\">\n",
    "<p>\n",
    "<b>Bonus note:</b> \n",
    "    \n",
    "The matrix inversion using numpy is one way to solve the system, another is the gauss_jordan written below and another one is the sparse matrix based method in the cell afterwards. Here, we will just have a brief comparison to see how these solvers perform when the matrix is large. Change dx to 0.0002 of the code in task 5 and run it. Now, you should have a matrix A with a high resolution that solves the second degree ODE. Test the time each method takes.\n",
    "    \n",
    "</p>\n",
    "</div>"
   ]
  },
  {
   "cell_type": "code",
   "execution_count": 7,
   "id": "5f7cdec7",
   "metadata": {},
   "outputs": [],
   "source": [
    "def gauss_jordan(A, b):\n",
    "    \"\"\"\n",
    "    Solves the system of linear equations Ax = b using Gauss-Jordan elimination.\n",
    "    \n",
    "    Parameters:\n",
    "    A (numpy.ndarray): Coefficient matrix (n x n).\n",
    "    b (numpy.ndarray): Right-hand side vector (n).\n",
    "    \n",
    "    Returns:\n",
    "    numpy.ndarray: Solution vector (x) if the system has a unique solution.\n",
    "    \"\"\"\n",
    "    # Form the augmented matrix [A | b]\n",
    "    A = np.array(A, dtype=float)\n",
    "    b = np.array(b, dtype=float)\n",
    "    aug_matrix = np.hstack([A, b.reshape(-1, 1)])\n",
    "    \n",
    "    n = len(b)  # Number of rows (or variables)\n",
    "    \n",
    "    for i in range(n):\n",
    "        # Partial pivoting to handle zero diagonal elements (optional, but more robust)\n",
    "        max_row = np.argmax(np.abs(aug_matrix[i:, i])) + i\n",
    "        if aug_matrix[max_row, i] == 0:\n",
    "            raise ValueError(\"The matrix is singular and cannot be solved.\")\n",
    "        if max_row != i:\n",
    "            aug_matrix[[i, max_row]] = aug_matrix[[max_row, i]]\n",
    "        \n",
    "        # Make the diagonal element 1\n",
    "        aug_matrix[i] = aug_matrix[i] / aug_matrix[i, i]\n",
    "        \n",
    "        # Make all other elements in the current column 0\n",
    "        for j in range(n):\n",
    "            if j != i:\n",
    "                aug_matrix[j] -= aug_matrix[j, i] * aug_matrix[i]\n",
    "    \n",
    "    # Extract the solution (last column of the augmented matrix)\n",
    "    return aug_matrix[:, -1]"
   ]
  },
  {
   "cell_type": "code",
   "execution_count": 8,
   "id": "fbd32c69",
   "metadata": {},
   "outputs": [
    {
     "name": "stdout",
     "output_type": "stream",
     "text": [
      "The time used by direct matrix inversion solution is  2.522e-03 sec\n",
      "The time used by Gauss-jordan solution is  2.020e-01 sec\n",
      "The time used by the sparse matrix solver is  3.001e-03 sec\n"
     ]
    }
   ],
   "source": [
    "import time\n",
    "from scipy.sparse import csc_matrix\n",
    "from scipy.sparse.linalg import spsolve\n",
    "\n",
    "# Inverted matrix solution\n",
    "start_time = time.time()\n",
    "A_inv = np.linalg.inv(A)\n",
    "T[1:-1] = A_inv @ b\n",
    "time_used_0 = time.time() - start_time\n",
    "print(f\"The time used by direct matrix inversion solution is {time_used_0: 0.3e} sec\")\n",
    "assert np.allclose(np.dot(A, T[1:-1]), b), \"Oops! The calculation is wrong..\"\n",
    "\n",
    "\n",
    "# Gauss-jordan solution\n",
    "start_time = time.time()\n",
    "u1 = gauss_jordan(A, b)\n",
    "time_used_1 = time.time() - start_time\n",
    "print(f\"The time used by Gauss-jordan solution is {time_used_1: 0.3e} sec\")\n",
    "#Check if the solution is correct:\n",
    "assert np.allclose(np.dot(A, u1), b), \"Oops! The calculation is wrong..\"\n",
    "\n",
    "# Solution by a sparse matrix solver \n",
    "start_time = time.time()\n",
    "A_sparse = csc_matrix(A)# Convert A to a compressed sparse column (CSC) matrix\n",
    "u2 = spsolve(A_sparse, b)\n",
    "time_used_2 = time.time() - start_time\n",
    "print(f\"The time used by the sparse matrix solver is {time_used_2: 0.3e} sec\")\n",
    "#Check if the solution is correct:\n",
    "assert np.allclose(np.dot(A, u2), b), \"Oops! The calculation is wrong..\""
   ]
  },
  {
   "cell_type": "markdown",
   "id": "2921b3f2",
   "metadata": {},
   "source": [
    "**End of notebook.**\n",
    "<h2 style=\"height: 60px\">\n",
    "</h2>\n",
    "<h3 style=\"position: absolute; display: flex; flex-grow: 0; flex-shrink: 0; flex-direction: row-reverse; bottom: 60px; right: 50px; margin: 0; border: 0\">\n",
    "    <style>\n",
    "        .markdown {width:100%; position: relative}\n",
    "        article { position: relative }\n",
    "    </style>\n",
    "    <a rel=\"license\" href=\"http://creativecommons.org/licenses/by-nc-sa/4.0/\">\n",
    "      <img alt=\"Creative Commons License\" style=\"border-width:; width:88px; height:auto; padding-top:10px\" src=\"https://i.creativecommons.org/l/by-nc-sa/4.0/88x31.png\" />\n",
    "    </a>\n",
    "    <a rel=\"TU Delft\" href=\"https://www.tudelft.nl/en/ceg\">\n",
    "      <img alt=\"TU Delft\" style=\"border-width:0; width:100px; height:auto; padding-bottom:0px\" src=\"https://gitlab.tudelft.nl/mude/public/-/raw/main/tu-logo/TU_P1_full-color.png\"/>\n",
    "    </a>\n",
    "    <a rel=\"MUDE\" href=\"http://mude.citg.tudelft.nl/\">\n",
    "      <img alt=\"MUDE\" style=\"border-width:0; width:100px; height:auto; padding-bottom:0px\" src=\"https://gitlab.tudelft.nl/mude/public/-/raw/main/mude-logo/MUDE_Logo-small.png\"/>\n",
    "    </a>\n",
    "    \n",
    "</h3>\n",
    "<span style=\"font-size: 75%\">\n",
    "&copy; Copyright 2023 <a rel=\"MUDE Team\" href=\"https://studiegids.tudelft.nl/a101_displayCourse.do?course_id=65595\">MUDE Teaching Team</a> TU Delft. This work is licensed under a <a rel=\"license\" href=\"http://creativecommons.org/licenses/by-nc-sa/4.0/\">Creative Commons Attribution-NonCommercial-ShareAlike 4.0 International License</a>."
   ]
  }
 ],
 "metadata": {
  "kernelspec": {
   "display_name": "mude-base",
   "language": "python",
   "name": "python3"
  },
  "language_info": {
   "codemirror_mode": {
    "name": "ipython",
    "version": 3
   },
   "file_extension": ".py",
   "mimetype": "text/x-python",
   "name": "python",
   "nbconvert_exporter": "python",
   "pygments_lexer": "ipython3",
   "version": "3.12.4"
  },
  "latex_envs": {
   "LaTeX_envs_menu_present": true,
   "autoclose": false,
   "autocomplete": true,
   "bibliofile": "biblio.bib",
   "cite_by": "apalike",
   "current_citInitial": 1,
   "eqLabelWithNumbers": true,
   "eqNumInitial": 1,
   "hotkeys": {
    "equation": "Ctrl-E",
    "itemize": "Ctrl-I"
   },
   "labels_anchors": false,
   "latex_user_defs": false,
   "report_style_numbering": false,
   "user_envs_cfg": false
  },
  "widgets": {
   "application/vnd.jupyter.widget-state+json": {
    "state": {},
    "version_major": 2,
    "version_minor": 0
   }
  }
 },
 "nbformat": 4,
 "nbformat_minor": 5
}
