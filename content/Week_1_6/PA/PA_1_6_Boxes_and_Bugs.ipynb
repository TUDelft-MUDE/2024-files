{
 "cells": [
  {
   "cell_type": "markdown",
   "id": "d14e9d93",
   "metadata": {},
   "source": [
    "# PA 1.6: Boxes and Bugs\n",
    "\n",
    "<h1 style=\"position: absolute; display: flex; flex-grow: 0; flex-shrink: 0; flex-direction: row-reverse; top: 60px;right: 30px; margin: 0; border: 0\">\n",
    "    <style>\n",
    "        .markdown {width:100%; position: relative}\n",
    "        article { position: relative }\n",
    "    </style>\n",
    "    <img src=\"https://gitlab.tudelft.nl/mude/public/-/raw/main/tu-logo/TU_P1_full-color.png\" style=\"width:100px; height: auto; margin: 0\" />\n",
    "    <img src=\"https://gitlab.tudelft.nl/mude/public/-/raw/main/mude-logo/MUDE_Logo-small.png\" style=\"width:100px; height: auto; margin: 0\" />\n",
    "</h1>\n",
    "<h2 style=\"height: 10px\">\n",
    "</h2>\n",
    "\n",
    "*[CEGM1000 MUDE](http://mude.citg.tudelft.nl/): Week 1.6. Due: before Friday, Oct 4, 2024.*"
   ]
  },
  {
   "cell_type": "markdown",
   "id": "f5a4caf7",
   "metadata": {},
   "source": [
    "The purpose of this notebook is to introduce a few useful Python topics:\n",
    "\n",
    "1. Visualize a matrix with `plt.matshow` (Matplotlib)\n",
    "2. Filling in the contents of a matrix ($m$ x $n$ Numpy array) with specific patterns and values\n",
    "3. Illustrate the difference between `range` and `np.arange`\n",
    "\n",
    "\n",
    "## Context\n",
    "\n",
    "For many scientific computing applications, in particular the field of numerical analysis, we formulate and solve our problems using matrices. The matrix itself is an arbitrary collection of values, however, the formulation and discretization of the problem will dictate a specific structure and meaning to the arrangement of the values inside a given matrix. When solving ordinary and partial differential equations with numerical schemes, we discretize space and time into discrete points or intervals, and the values of interest are specified by the elements of a matrix or vector. For example, a vector of the quantity $y$ can be discretized as `y = [y0, y1, y2, ... , yn]`, where each element `yi` refers to the $n$ spatial coordinate of $y_i$. For 2D problems, or perhaps problem with a temporal component (a dependence on time), we need to encode this information in matrices. Thus, when implementing numerical schemes, it is important to be able to fill in the values of a matrix in an efficient and reliable way."
   ]
  },
  {
   "cell_type": "code",
   "execution_count": 1,
   "id": "0b13d0cf",
   "metadata": {},
   "outputs": [],
   "source": [
    "import numpy as np\n",
    "import matplotlib.pyplot as plt"
   ]
  },
  {
   "cell_type": "markdown",
   "id": "3db64401",
   "metadata": {},
   "source": [
    "## Topic 1: Visualizing a Matrix\n",
    "\n",
    "At this point you should be familiar with the Numpy library and its key data type the `ndarray`. In other words, it should be very obvious why executing something like this:\n",
    "\n",
    "```python\n",
    "import numpy as np\n",
    "x = np.array([1, 4, 7, 9])\n",
    "```\n",
    "\n",
    "returns something like this:\n",
    "```python\n",
    "numpy.ndarray\n",
    "```\n",
    "\n",
    "We have already also used Numpy to create 2D arrays to represent matrices. Often one of the challenges of working with matrices is visualizing their contents, especially when the matrices become very large. Fortunately there is a Matplotlib method that makes visualizing matrices very easy: `matshow`. When using the conventional import statement `import matplotlib.pyplot as plt`, we can use this method as `plt.matshow`."
   ]
  },
  {
   "cell_type": "markdown",
   "id": "43f29368",
   "metadata": {},
   "source": [
    "<div style=\"background-color:#AABAB2; color: black; width:95%; vertical-align: middle; padding:15px; margin: 10px; border-radius: 10px\">\n",
    "<p>\n",
    "<b>Task 1.1:</b>   \n",
    "Use the Python <code>help</code> function to view the docstring (documentation) of the matrix visualization method.\n",
    "</p>\n",
    "</div>"
   ]
  },
  {
   "cell_type": "code",
   "execution_count": 2,
   "id": "6a834b6d",
   "metadata": {},
   "outputs": [],
   "source": [
    "# help(plt.matshow)"
   ]
  },
  {
   "cell_type": "markdown",
   "id": "1e59a3f3",
   "metadata": {},
   "source": [
    "<div style=\"background-color:#AABAB2; color: black; width:95%; vertical-align: middle; padding:15px; margin: 10px; border-radius: 10px\">\n",
    "<p>\n",
    "<b>Task 1.2:</b>   \n",
    "Run the cell below to visualize the A matrix. Change the values and rerun the cell to see the effect, especially noting that each \"square\" corresponds to an element in the matrix. Simple, right?!\n",
    "</p>\n",
    "</div>"
   ]
  },
  {
   "cell_type": "code",
   "execution_count": null,
   "id": "df0c2ff6",
   "metadata": {},
   "outputs": [],
   "source": [
    "A = [[1, 2, 1, 1],\n",
    "     [2, 3, 2, 2],\n",
    "     [1, 2, 1, 1],\n",
    "     [1, 2, 1, 1]]\n",
    "\n",
    "plt.matshow(A)\n",
    "plt.show()"
   ]
  },
  {
   "cell_type": "markdown",
   "id": "672ef6e9",
   "metadata": {},
   "source": [
    "<div style=\"background-color:#AABAB2; color: black; width:95%; vertical-align: middle; padding:15px; margin: 10px; border-radius: 10px\">\n",
    "<p>\n",
    "<b>Task 1.3:</b>   \n",
    "Run the cell below to see how a 100x100 matrix filled with random values looks.\n",
    "</p>\n",
    "</div>"
   ]
  },
  {
   "cell_type": "code",
   "execution_count": null,
   "id": "4bee96eb",
   "metadata": {},
   "outputs": [],
   "source": [
    "A = np.random.rand(100, 100)\n",
    "plt.matshow(A)\n",
    "plt.show()"
   ]
  },
  {
   "cell_type": "markdown",
   "id": "5c2e0c3d",
   "metadata": {},
   "source": [
    "That's pretty much all there is to it. Note that the axes indicate the row and column indices."
   ]
  },
  {
   "cell_type": "markdown",
   "id": "3baa872d",
   "metadata": {},
   "source": [
    "## Topic 2: Filling a Matrix\n",
    "\n",
    "Now that we can visualize the contents of a matrix, lets find an efficient way to fill it with specific values, focusing on creating specific patterns in an efficient way with our Python code. First, let's recall a few more important things about Numpy arrays, focusing on the particular case of making a 2-dimensional arrays to represent 2-dimensional matrices.\n",
    "\n",
    "One of the first things to remember is that Numpy uses a parameter `shape` to define the dimension and length of each axis of an array. For the 2D case, this means an $m$-by-$n$ matrix is specified with a tuple containing two elements: `(m, n)`.\n",
    "\n",
    "Second, Numpy has _many_ methods that make it easy to create a matrix and fill it with specific values. Check out a cool list here: [Numpy array creation routines](https://numpy.org/doc/2.0/reference/routines.array-creation.html#). Some commonly used methods are:\n",
    "- `np.zeros`\n",
    "- `np.ones`\n",
    "- `np.full`\n",
    "\n",
    "Third there are many Numpy methods that can _modify_ an existing matrix (see the same list linked above), for example: `np.fill_diagonal`. \n",
    "\n",
    "Finally, remember that arrays are quite smart when it comes to indexing. For example, we can use the `range` method (part of the standard Python library) to things to specific indices in an array.\n",
    "\n",
    "With these tips in mind, let's go over a few warm-up exercises to see how to easily manipulate matrices."
   ]
  },
  {
   "cell_type": "markdown",
   "id": "ac9d4769",
   "metadata": {},
   "source": [
    "<div style=\"background-color:#AABAB2; color: black; width:95%; vertical-align: middle; padding:15px; margin: 10px; border-radius: 10px\">\n",
    "<p>\n",
    "<b>Task 2.1:</b>   \n",
    "\n",
    "Refresh your memory on the <code>range</code> function by printing the documentation. Then comment the help line and confirm that you can use the function by using a list comprehension to print: a) values from 1 to 5, then b) values 2, 4, 6, 8, 10. \n",
    "\n",
    "</p>\n",
    "</div>"
   ]
  },
  {
   "cell_type": "code",
   "execution_count": null,
   "id": "a47d1b3a",
   "metadata": {},
   "outputs": [],
   "source": [
    "# help(range)\n",
    "\n",
    "print('Part a:')\n",
    "[print(i) for i in YOUR_CODE_HERE]\n",
    "print('Part b:')\n",
    "[print(i) for i in YOUR_CODE_HERE]"
   ]
  },
  {
   "cell_type": "markdown",
   "id": "15572568",
   "metadata": {},
   "source": [
    "<div style=\"background-color:#AABAB2; color: black; width:95%; vertical-align: middle; padding:15px; margin: 10px; border-radius: 10px\">\n",
    "<p>\n",
    "<b>Task 2.2:</b>   \n",
    "\n",
    "Use a Numpy method to create a 3x3 matrix filled with value 1.\n",
    "\n",
    "</p>\n",
    "</div>"
   ]
  },
  {
   "cell_type": "code",
   "execution_count": 6,
   "id": "8d09f380",
   "metadata": {},
   "outputs": [],
   "source": [
    "A = YOUR_CODE_HERE\n",
    "\n",
    "assert np.all(A==1)\n",
    "assert A.shape==(3, 3)"
   ]
  },
  {
   "cell_type": "markdown",
   "id": "7011fd1c",
   "metadata": {},
   "source": [
    "<div style=\"background-color:#AABAB2; color: black; width:95%; vertical-align: middle; padding:15px; margin: 10px; border-radius: 10px\">\n",
    "<p>\n",
    "<b>Task 2.3:</b>   \n",
    "\n",
    "Use a Numpy method to create a 3x3 matrix filled with value 3 on the diagonal and 0 elsewhere.\n",
    "\n",
    "</p>\n",
    "</div>"
   ]
  },
  {
   "cell_type": "code",
   "execution_count": 7,
   "id": "d9b3bf0c",
   "metadata": {},
   "outputs": [],
   "source": [
    "A = YOUR_CODE_HERE\n",
    "np.YOUR_CODE_HERE\n",
    "\n",
    "assert np.all(A.diagonal()==3)\n",
    "assert A.sum()==9\n",
    "assert A.shape==(3, 3)"
   ]
  },
  {
   "cell_type": "markdown",
   "id": "81c0b1a3",
   "metadata": {},
   "source": [
    "<div style=\"background-color:#AABAB2; color: black; width:95%; vertical-align: middle; padding:15px; margin: 10px; border-radius: 10px\">\n",
    "<p>\n",
    "<b>Task 2.4:</b>   \n",
    "\n",
    "Use a Numpy method to create a 10x10 matrix, then assign every other element in the <em>diagonal</em> of the matrix to the value 1 using <code>range</code> and indexing. Use <code>plt.matshow()</code> to confirm that the matrix plot looks like a checkerboard.\n",
    "\n",
    "</p>\n",
    "</div>"
   ]
  },
  {
   "cell_type": "code",
   "execution_count": null,
   "id": "9b2d0b82",
   "metadata": {},
   "outputs": [],
   "source": [
    "A = YOUR_CODE_HERE\n",
    "A[YOUR_CODE_HERE, YOUR_CODE_HERE] = YOUR_CODE_HERE\n",
    "\n",
    "plt.matshow(A)\n",
    "plt.show()\n",
    "\n",
    "assert A.shape==(10, 10)\n",
    "assert A.sum()==5\n",
    "assert np.sum(A==1)==5\n",
    "assert np.sum(A==0)==95"
   ]
  },
  {
   "cell_type": "markdown",
   "id": "cfd56d4b",
   "metadata": {},
   "source": [
    "<div style=\"background-color:#AABAB2; color: black; width:95%; vertical-align: middle; padding:15px; margin: 10px; border-radius: 10px\">\n",
    "<p>\n",
    "<b>Task 2.5:</b>   \n",
    "\n",
    "Use a Numpy method to create a 5x5 matrix, fill the diagonal with value 5, then use <code>range</code> and indexing to assign the diagonal above and below the center diagonal to the value 1. The solution is illustrated in the imported Markdown figure below.\n",
    "\n",
    "</p>\n",
    "</div>"
   ]
  },
  {
   "cell_type": "markdown",
   "id": "1b903831",
   "metadata": {},
   "source": [
    "![solution for matrix 1](./auxiliary_files/matrix01.svg)"
   ]
  },
  {
   "cell_type": "code",
   "execution_count": null,
   "id": "42cf5b91",
   "metadata": {},
   "outputs": [],
   "source": [
    "A = YOUR_CODE_HERE\n",
    "YOUR_CODE_HERE\n",
    "A[YOUR_CODE_HERE, YOUR_CODE_HERE] = YOUR_CODE_HERE\n",
    "A[YOUR_CODE_HERE, YOUR_CODE_HERE] = YOUR_CODE_HERE\n",
    "\n",
    "plt.matshow(A)\n",
    "plt.show()\n",
    "\n",
    "assert A.shape==(5, 5)\n",
    "assert A.sum()==(5*5 + 2*4)"
   ]
  },
  {
   "cell_type": "markdown",
   "id": "cdf73279",
   "metadata": {},
   "source": [
    "<div style=\"background-color:#AABAB2; color: black; width:95%; vertical-align: middle; padding:15px; margin: 10px; border-radius: 10px\">\n",
    "<p>\n",
    "<b>Task 2.6:</b>   \n",
    "Create the matrix illustrated in the figure below, where the values are either 0 or 1.\n",
    "</p>\n",
    "</div>"
   ]
  },
  {
   "cell_type": "markdown",
   "id": "d9aa472d",
   "metadata": {},
   "source": [
    "![solution for matrix 1](./auxiliary_files/matrix02.svg)"
   ]
  },
  {
   "cell_type": "code",
   "execution_count": null,
   "id": "b927ac75",
   "metadata": {},
   "outputs": [],
   "source": [
    "A = YOUR_CODE_HERE\n",
    "for i in YOUR_CODE_HERE:\n",
    "    YOUR_CODE_HERE\n",
    "\n",
    "plt.matshow(A)\n",
    "plt.show()\n",
    "\n",
    "assert A.shape==(10, 10)\n",
    "assert A.sum()==25"
   ]
  },
  {
   "cell_type": "markdown",
   "id": "7ae4458c",
   "metadata": {},
   "source": [
    "## Topic 3: a `range` and `arange`\n",
    "\n",
    "The previous part used `range` to fill in the items of a matrix. However, you may also be familiar with a method from the Numpy library called `arange`. On the one hand, both methods do similar things, which can roughly be described as follows:\n",
    "\n",
    "- if one input, a, is given, count integers from 0 to a\n",
    "- if two inputs, a and b, are given, count integers from a to b\n",
    "- if three inputs, a, b and c, are given, count from a to b by (integer!) increment c\n",
    "- in all cases, exclude b\n",
    "\n",
    "Despite these similarities they return different object types, which often leads to confusion or errors if used without explicitly accounting for this difference. Let's take a closer look to find out more."
   ]
  },
  {
   "cell_type": "markdown",
   "id": "0ba7be84",
   "metadata": {},
   "source": [
    "<div style=\"background-color:#AABAB2; color: black; width:95%; vertical-align: middle; padding:15px; margin: 10px; border-radius: 10px\">\n",
    "<p>\n",
    "<b>Task 3.1:</b>   \n",
    "\n",
    "Print the documentation for <code>np.arange</code> and compare it to <code>range</code> until you can identify the differences.\n",
    "\n",
    "</p>\n",
    "</div>"
   ]
  },
  {
   "cell_type": "code",
   "execution_count": null,
   "id": "fe539dec",
   "metadata": {},
   "outputs": [],
   "source": [
    "help(np.arange)"
   ]
  },
  {
   "cell_type": "markdown",
   "id": "a2c95e09",
   "metadata": {},
   "source": [
    "In particular, note the following sentences in the docstring for `np.arange`:\n",
    "\n",
    "```\n",
    "For integer arguments the function is roughly equivalent to the Python\n",
    "built-in :py:class:`range`, but returns an ndarray rather than a ``range``\n",
    "instance.\n",
    "\n",
    "When using a non-integer step, such as 0.1, it is often better to use\n",
    "`numpy.linspace`.\n",
    "```\n",
    "\n",
    "The main difference is that `np.arange` **returns an array!**"
   ]
  },
  {
   "cell_type": "markdown",
   "id": "e1dcf427",
   "metadata": {},
   "source": [
    "<div style=\"background-color:#AABAB2; color: black; width:95%; vertical-align: middle; padding:15px; margin: 10px; border-radius: 10px\">\n",
    "<p>\n",
    "<b>Task 3.2:</b>   \n",
    "\n",
    "Confirm that you understand the usage of <code>np.arange</code> by creating the same two sets of integer values as in Task 2.1 (integers 0 through 5 and 2 through 10 by 2's), except this time you will produce Numpy arrays in addition the printing the indices.\n",
    "\n",
    "</p>\n",
    "</div>"
   ]
  },
  {
   "cell_type": "code",
   "execution_count": null,
   "id": "797fb5a2",
   "metadata": {},
   "outputs": [],
   "source": [
    "x = YOUR_CODE_HERE\n",
    "print('Part 1:')\n",
    "[print(i) for i in YOUR_CODE_HERE]\n",
    "\n",
    "assert type(x) == np.ndarray\n",
    "assert np.all(x == [0, 1, 2, 3, 4, 5])\n",
    "\n",
    "x = YOUR_CODE_HERE\n",
    "print('Part 2:')\n",
    "[print(i) for i in YOUR_CODE_HERE]\n",
    "\n",
    "assert type(x) == np.ndarray\n",
    "assert np.all(x == [2, 4, 6, 8, 10])"
   ]
  },
  {
   "cell_type": "markdown",
   "id": "4ee8daf6",
   "metadata": {},
   "source": [
    "This Part is not meant to be complicated; rather, it is meant to explicitly indicate the difference between `range` and `np.arange` to help you debug your code more easily. The **main takeaway** is that you should use `range` when you are iterating through indices and don't need to use the indices as values, whereas `np.arange` is necessary when the indices are needed as values. It is also good to recognize that `range` is part of the standard Python library, whereas `np.arange` is not (it is part of Numpy). This is because `range` returns a `range` object, whereas `np.arange` returns a Numpy array."
   ]
  },
  {
   "cell_type": "markdown",
   "id": "d191fa12",
   "metadata": {},
   "source": [
    "**End of notebook.**\n",
    "<h2 style=\"height: 60px\">\n",
    "</h2>\n",
    "<h3 style=\"position: absolute; display: flex; flex-grow: 0; flex-shrink: 0; flex-direction: row-reverse; bottom: 60px; right: 50px; margin: 0; border: 0\">\n",
    "    <style>\n",
    "        .markdown {width:100%; position: relative}\n",
    "        article { position: relative }\n",
    "    </style>\n",
    "    <a rel=\"license\" href=\"http://creativecommons.org/licenses/by/4.0/\">\n",
    "      <img alt=\"Creative Commons License\" style=\"border-width:; width:88px; height:auto; padding-top:10px\" src=\"https://i.creativecommons.org/l/by/4.0/88x31.png\" />\n",
    "    </a>\n",
    "    <a rel=\"TU Delft\" href=\"https://www.tudelft.nl/en/ceg\">\n",
    "      <img alt=\"TU Delft\" style=\"border-width:0; width:100px; height:auto; padding-bottom:0px\" src=\"https://gitlab.tudelft.nl/mude/public/-/raw/main/tu-logo/TU_P1_full-color.png\" />\n",
    "    </a>\n",
    "    <a rel=\"MUDE\" href=\"http://mude.citg.tudelft.nl/\">\n",
    "      <img alt=\"MUDE\" style=\"border-width:0; width:100px; height:auto; padding-bottom:0px\" src=\"https://gitlab.tudelft.nl/mude/public/-/raw/main/mude-logo/MUDE_Logo-small.png\" />\n",
    "    </a>\n",
    "    \n",
    "</h3>\n",
    "<span style=\"font-size: 75%\">\n",
    "&copy; Copyright 2024 <a rel=\"MUDE\" href=\"http://mude.citg.tudelft.nl/\">MUDE</a> TU Delft. This work is licensed under a <a rel=\"license\" href=\"http://creativecommons.org/licenses/by/4.0/\">CC BY 4.0 License</a>."
   ]
  }
 ],
 "metadata": {
  "kernelspec": {
   "display_name": "Python 3 (ipykernel)",
   "language": "python",
   "name": "python3"
  },
  "language_info": {
   "codemirror_mode": {
    "name": "ipython",
    "version": 3
   },
   "file_extension": ".py",
   "mimetype": "text/x-python",
   "name": "python",
   "nbconvert_exporter": "python",
   "pygments_lexer": "ipython3",
   "version": "3.12.4"
  },
  "widgets": {
   "application/vnd.jupyter.widget-state+json": {
    "state": {},
    "version_major": 2,
    "version_minor": 0
   }
  }
 },
 "nbformat": 4,
 "nbformat_minor": 5
}
