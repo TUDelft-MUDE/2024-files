{
 "cells": [
  {
   "cell_type": "code",
   "execution_count": 2,
   "metadata": {},
   "outputs": [],
   "source": [
    "import sympy as sym"
   ]
  },
  {
   "cell_type": "code",
   "execution_count": 3,
   "metadata": {},
   "outputs": [
    {
     "data": {
      "text/latex": [
       "$\\displaystyle e^{- e^{\\frac{\\mu - x}{\\beta}}}$"
      ],
      "text/plain": [
       "exp(-exp((mu - x)/beta))"
      ]
     },
     "metadata": {},
     "output_type": "display_data"
    }
   ],
   "source": [
    "# Define the Gumbel distribution using SymPy\n",
    "\n",
    "x, beta, mu = sym.symbols('x beta mu')\n",
    "#F_gumbel = YOUR CODE HERE\n",
    "# solution\n",
    "F_gumbel = sym.exp(-sym.exp(-(x-mu)/beta))\n",
    "display(F_gumbel)"
   ]
  },
  {
   "cell_type": "code",
   "execution_count": 6,
   "metadata": {},
   "outputs": [
    {
     "data": {
      "text/latex": [
       "$\\displaystyle Prob_{non exc} = e^{- e^{\\frac{\\mu - x}{\\beta}}}$"
      ],
      "text/plain": [
       "Eq(Prob_non_exc, exp(-exp((mu - x)/beta)))"
      ]
     },
     "metadata": {},
     "output_type": "display_data"
    },
    {
     "data": {
      "text/latex": [
       "$\\displaystyle - \\beta \\log{\\left(e^{- \\frac{\\mu}{\\beta}} \\log{\\left(\\frac{1}{Prob_{non exc}} \\right)} \\right)}$"
      ],
      "text/plain": [
       "-beta*log(exp(-mu/beta)*log(1/Prob_non_exc))"
      ]
     },
     "metadata": {},
     "output_type": "display_data"
    }
   ],
   "source": [
    "# Invert the Gumbel distribution using SymPy to find x ~ non-exceedence probability, beta, mu as done in the workshop by hand\n",
    "Prob_non_exc = sym.symbols('Prob_non_exc')\n",
    "#YOUR CODE HERE\n",
    "#x_sol = YOUR CODE HERE\n",
    "\n",
    "# solution\n",
    "Prob_non_exc = sym.symbols('Prob_non_exc')\n",
    "eq1 = sym.Eq(Prob_non_exc,F_gumbel)\n",
    "display(eq1)\n",
    "x_sol = sym.solve(eq1, x)[0]\n",
    "\n",
    "display(x_sol)"
   ]
  },
  {
   "cell_type": "code",
   "execution_count": 7,
   "metadata": {},
   "outputs": [
    {
     "data": {
      "text/latex": [
       "$\\displaystyle 3.35265348709722$"
      ],
      "text/plain": [
       "3.35265348709722"
      ]
     },
     "metadata": {},
     "output_type": "display_data"
    },
    {
     "data": {
      "text/latex": [
       "$\\displaystyle 23.8890710970645$"
      ],
      "text/plain": [
       "23.8890710970645"
      ]
     },
     "metadata": {},
     "output_type": "display_data"
    },
    {
     "data": {
      "text/latex": [
       "$\\displaystyle 32.9672197208581$"
      ],
      "text/plain": [
       "32.9672197208581"
      ]
     },
     "metadata": {},
     "output_type": "display_data"
    },
    {
     "data": {
      "text/latex": [
       "$\\displaystyle 44.4845434425937$"
      ],
      "text/plain": [
       "44.4845434425937"
      ]
     },
     "metadata": {},
     "output_type": "display_data"
    },
    {
     "data": {
      "text/latex": [
       "$\\displaystyle 115.25722858997$"
      ],
      "text/plain": [
       "115.257228589970"
      ]
     },
     "metadata": {},
     "output_type": "display_data"
    }
   ],
   "source": [
    "# Evaluate your inverted Gumbel distribution using SymPy for the min, 0.25, 0.5, 0.75 and max non-exceedence probabilities as done in the workshop by hand\n",
    "# You should find:\n",
    "#3.353\n",
    "#23.89\n",
    "#32.97\n",
    "#44.48\n",
    "#115.3\n",
    "\n",
    "Prob_non_exc_list = [1/773, 0.25, 0.5, 0.75, 772/773]\n",
    "for i in range(len(Prob_non_exc_list)):\n",
    "    display(x_sol.subs({beta:13.097, mu:28.167, Prob_non_exc:Prob_non_exc_list[i]}))"
   ]
  },
  {
   "cell_type": "code",
   "execution_count": 8,
   "metadata": {},
   "outputs": [
    {
     "data": {
      "text/latex": [
       "$\\displaystyle \\frac{e^{\\frac{\\mu - x}{\\beta}} e^{- e^{\\frac{\\mu - x}{\\beta}}}}{\\beta}$"
      ],
      "text/plain": [
       "exp((mu - x)/beta)*exp(-exp((mu - x)/beta))/beta"
      ]
     },
     "metadata": {},
     "output_type": "display_data"
    }
   ],
   "source": [
    "# Use SymPy to find the probability density function of the Gumbel distribution, is it equal to the function you found in the book?\n",
    "#f_gumbel = YOUR CODE HERE\n",
    "\n",
    "# solution\n",
    "f_gumbel = sym.diff(F_gumbel, x)\n",
    "display(f_gumbel)"
   ]
  },
  {
   "cell_type": "markdown",
   "metadata": {},
   "source": [
    "Define the Piecewise equation from PA 1.7 in SymPy (hint, see https://docs.sympy.org/latest/modules/functions/elementary.html#piecewise)\n",
    "\n",
    "$$\\begin{equation}\n",
    "f(x)=\n",
    "    \\begin{cases}\n",
    "        0.1 & \\text{if } 0 < x < 3.6 \\\\\n",
    "        2(x-5) &  5 < x < 5.8 \\\\\n",
    "        0 & \\text{elsewhere}\n",
    "    \\end{cases}\n",
    "\\end{equation}$$\n",
    "\n",
    "Use the provided function to plot it for $-1<x<6$"
   ]
  },
  {
   "cell_type": "code",
   "execution_count": 9,
   "metadata": {},
   "outputs": [
    {
     "data": {
      "image/png": "[encoded data removed]",
      "text/plain": [
       "<Figure size 640x480 with 1 Axes>"
      ]
     },
     "metadata": {},
     "output_type": "display_data"
    }
   ],
   "source": [
    "#f = YOUR CODE HERE\n",
    "#sym.plot(f,(x,-1,6));\n",
    "\n",
    "#solutionS\n",
    "f = sym.Piecewise((0, x< 0), (0.1 , x < 3.6), (0, x < 5), (2*(x-5),x<5.8), (0, True))\n",
    "sym.plot(f, (x,-1,6));"
   ]
  },
  {
   "cell_type": "code",
   "execution_count": 11,
   "metadata": {},
   "outputs": [
    {
     "data": {
      "text/latex": [
       "$\\displaystyle - 0.1 \\min\\left(0, x\\right) + 0.1 \\min\\left(3.6, x\\right) - \\min\\left(5, x\\right)^{2} + 10 \\min\\left(5, x\\right) + \\min\\left(5.8, x\\right)^{2} - 10 \\min\\left(5.8, x\\right)$"
      ],
      "text/plain": [
       "-0.1*Min(0, x) + 0.1*Min(3.6, x) - Min(5, x)**2 + 10*Min(5, x) + Min(5.8, x)**2 - 10*Min(5.8, x)"
      ]
     },
     "metadata": {},
     "output_type": "display_data"
    },
    {
     "data": {
      "text/latex": [
       "$\\displaystyle \\begin{cases} 1.0 & \\text{for}\\: x \\geq 5.8 \\\\x^{2} - 10 x + 25.36 & \\text{for}\\: x \\geq 5 \\\\0.36 & \\text{for}\\: x \\geq 3.6 \\\\0.1 x & \\text{for}\\: x \\geq 0 \\\\0 & \\text{otherwise} \\end{cases}$"
      ],
      "text/plain": [
       "Piecewise((1.0, x >= 5.8), (x**2 - 10*x + 25.36, x >= 5), (0.36, x >= 3.6), (0.1*x, x >= 0), (0, True))"
      ]
     },
     "metadata": {},
     "output_type": "display_data"
    },
    {
     "data": {
      "image/png": "[encoded data removed]",
      "text/plain": [
       "<Figure size 640x480 with 1 Axes>"
      ]
     },
     "metadata": {},
     "output_type": "display_data"
    }
   ],
   "source": [
    "# Integrate the piecewise probability density function to find the cumulative distribution function as done numerically in PA1.7\n",
    "x = sym.symbols('x')\n",
    "#F = YOUR CODE HERE\n",
    "#sym.plot(F, (x,-1,6));\n",
    "\n",
    "# solution\n",
    "F = sym.integrate(f, (x,-sym.oo,x))\n",
    "#or\n",
    "#F = sym.integrate(f,x)\n",
    "display(F)\n",
    "display(F.rewrite(sym.Piecewise).simplify())\n",
    "sym.plot(F, (x,-1,6));"
   ]
  },
  {
   "cell_type": "markdown",
   "metadata": {},
   "source": [
    "Checks"
   ]
  },
  {
   "cell_type": "code",
   "execution_count": 12,
   "metadata": {},
   "outputs": [],
   "source": [
    "import numpy as np\n",
    "assert sym.simplify(F_gumbel - sym.exp(-sym.exp((mu - x)/beta))) == 0 , 'Error: Gumbel distribution is not correct'\n",
    "assert sym.simplify(x_sol + beta*sym.log(sym.exp(-mu/beta)*sym.log(1/Prob_non_exc))) == 0, 'Error: inverted Gumbel distribution is not correct'\n",
    "assert sym.simplify(f_gumbel - sym.exp(-((x-mu)/beta+sym.exp(-(x-mu)/beta)))/beta) == 0, 'Error: probability densily function is not correct'\n",
    "assert np.allclose(np.array([0.        , 0.        , 0.05555556, 0.13333333, 0.21111111,       0.28888889, 0.36      , 0.36      , 0.40938272, 1.        ]), sym.lambdify(x, F.rewrite(sym.Piecewise).simplify())(np.linspace(-1,6,10))), 'Error: Piecewise cumulative distribution function is not correct'"
   ]
  }
 ],
 "metadata": {
  "kernelspec": {
   "display_name": "mude-base",
   "language": "python",
   "name": "python3"
  },
  "language_info": {
   "codemirror_mode": {
    "name": "ipython",
    "version": 3
   },
   "file_extension": ".py",
   "mimetype": "text/x-python",
   "name": "python",
   "nbconvert_exporter": "python",
   "pygments_lexer": "ipython3",
   "version": "3.12.4"
  }
 },
 "nbformat": 4,
 "nbformat_minor": 2
}
