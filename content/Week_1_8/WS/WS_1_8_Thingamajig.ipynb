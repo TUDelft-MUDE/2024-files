{
 "cells": [
  {
   "cell_type": "markdown",
   "id": "224fb1ca-4585-4c0f-8eb0-dbe0965533b3",
   "metadata": {
    "id": "9adbf457-797f-45b7-8f8b-0e46e0e2f5ff"
   },
   "source": [
    "# WS 1.8: The Thingamajig!\n",
    "\n",
    "<h1 style=\"position: absolute; display: flex; flex-grow: 0; flex-shrink: 0; flex-direction: row-reverse; top: 60px;right: 30px; margin: 0; border: 0\">\n",
    "    <style>\n",
    "        .markdown {width:100%; position: relative}\n",
    "        article { position: relative }\n",
    "    </style>\n",
    "    <img src=\"https://gitlab.tudelft.nl/mude/public/-/raw/main/tu-logo/TU_P1_full-color.png\" style=\"width:100px\" />\n",
    "    <img src=\"https://gitlab.tudelft.nl/mude/public/-/raw/main/mude-logo/MUDE_Logo-small.png\" style=\"width:100px\" />\n",
    "</h1>\n",
    "<h2 style=\"height: 10px\">\n",
    "</h2>\n",
    "\n",
    "*[CEGM1000 MUDE](http://mude.citg.tudelft.nl/): Week 1.8. For: 23 October, 2024.*"
   ]
  },
  {
   "cell_type": "markdown",
   "id": "ba18b076",
   "metadata": {},
   "source": [
    "## Objective\n",
    "\n",
    "This workshop focuses fundamental skills for building, using and understanding multivariate distributions: in particular when our variables are no longer statistically independent.\n",
    "\n",
    "For our case study we will use a Thingamajig: an imaginary object for which we have limited information. One thing we _do_ know, however, is that it is very much influenced by two random variables, $X_1$ and $X_2$: high values for these variables can cause the Thingamajig to fail. We will use a multivariate probability distribution to compute the probability of interest under various _cases_ (we aren't sure which one is relevant, so we consider them all!). We will also use a comparison of distributions drawn from our multivariate probability model with the empirical distributions to validate the model.\n",
    "\n",
    "### Multivariate Distribution\n",
    "\n",
    "In this assignment we will build a multivariate distribution, which is defined by a probability density function. From now on, we will call it _bivariate_, since there are only two random variables:\n",
    "\n",
    "$$\n",
    "f_{X_1,X_2}(x_1,x_2)\n",
    "$$\n",
    "\n",
    "This distribution is implemented in `scipy.stats.multivariate_normal`. The bivariate normal distribution is defined by 5 parameters: the parameters of the Gaussian distribution for $X_1$ and $X_2$, as well as the correlation coefficient between them, $\\rho_{X_1,X_2}$. In this case we often refer to $X_1$ and $X_2$ as the marginal variables (univariate) and the bivariate distribution as the joint distribution. We will use the bivariate PDF to create contour plots of probability density, as well as the CDF to evaluate probabilities of different cases:\n",
    "\n",
    "$$\n",
    "F_{X_1,X_2}(x_1,x_2)\n",
    "$$\n",
    "\n",
    "\n",
    "### Cases\n",
    "\n",
    "We will consider three different cases and see how the probability of interest is different for each, as well as how they are influenced by the dependence structure of the data. The cases are described here; although they vary slightly, they have something in common: _they are all integrals of the bivariate PDF over some domain of interest $\\Omega$._\n",
    "\n",
    "\n",
    "#### Case 1: Union (OR)\n",
    "\n",
    "The union case is relevant if the Thingamajig fails when either or both random variable exceeds a specified value:\n",
    "\n",
    "$$\n",
    "P[X_1>x_1 \\;\\cup\\; X_2>x_2]\n",
    "$$\n",
    "\n",
    "This is also called the \"OR\" probability because it considers either one variable _or_ the other _or_ both exceeding a specified value.\n",
    "\n",
    "#### Case 2: Intersection (AND)\n",
    "\n",
    "The intersection case is relevant if the Thingamajig fails when the specified interval for each random variable are exceeded together:\n",
    "\n",
    "$$\n",
    "P[X_1>x_1 \\;\\cap\\; X_2>x_2]\n",
    "$$\n",
    "\n",
    "This is also called the \"AND\" probability because it considers _both_ variables exceeding a specified value.\n",
    "\n",
    "#### Case 3: Function of Random Variables \n",
    "\n",
    "Often it is not possible to describe a region of interest $\\Omega$ as a simple union or intersection probability. Instead, there are many combinations of $X_1$ and $X_2$ that define $\\Omega$. If we can integrate the probability density function over this region we can evaluate the probability.\n",
    "\n",
    "Luckily, it turns out there is some extra information about the Thingamajig: a function that describes some aspect of its behavior that we are very very interested in:\n",
    "\n",
    "$$\n",
    "Z(X_{1},X_{2}) = 800 - X_{1}^2 - 20X_{2}\n",
    "$$\n",
    "\n",
    "where the condition in which we are interested occurs when $Z(X_{1},X_{2})<0$. Thus, the probability of interest is:\n",
    "\n",
    "$$\n",
    "P[X_1,X_2:\\; Z<0]\n",
    "$$\n",
    "\n",
    "#### Evaluating Probabilities in Task 2\n",
    "\n",
    "Cases 1 and 2 can be evaluated with the bivariate cdf directly because the integral bounds are relatively simple (be aware that some arithmetic and thinking is required, it's not so simple as `multivariate.cdf()`).\n",
    "\n",
    "Case 3 is not easy to evaluate because it must be integrated over a complicated region. Instead, we will approximate the integral numerically using _Monte Carlo simulation_ (MCS). This is also how we will evaluate the distribution of the function of random variables in Task 3. Remember, there are four essential steps to MCS:\n",
    "\n",
    "1. Define distributions for random variables (probability density over a domain)  \n",
    "2. Generate random samples  \n",
    "3. Do something with the samples (deterministic calculation)  \n",
    "4. Evaluate the results: e.g., “empirical” PDF, CDF of samples, etc.\n",
    "\n",
    "_Note that as we now have a multivariate distribution we can no longer sample from the univariate distributions independently!_\n",
    "\n",
    "### Validating the Bivariate Distribution in Task 3\n",
    "\n",
    "The final task of this assignment is to use the distribution of the function of random variables (univariate) to validate the bivariate distribution, by comparing the empirical distribution to our model. Once the sample is generated, it involves the same goodness of fit tools that we used last week.\n"
   ]
  },
  {
   "cell_type": "code",
   "execution_count": 2,
   "id": "7eeb37e0-aca0-4759-866f-f5ad09ea8d0b",
   "metadata": {
    "tags": []
   },
   "outputs": [],
   "source": [
    "import numpy as np\n",
    "import matplotlib.pyplot as plt\n",
    "import scipy.stats as st\n",
    "\n",
    "from helper import plot_contour"
   ]
  },
  {
   "cell_type": "markdown",
   "id": "4d11b3b2-5d82-4e67-a151-0e7025ab175a",
   "metadata": {
    "tags": []
   },
   "source": [
    "## Part 1: Creating a Bivariate Distribution\n",
    "\n",
    "We need to represent our two dependent random variables with a bivariate distribution; a simple model is the bivariate Gaussian distribution, which is readily available via `scipy.stats.multivariate_normal`. To use it in this case study, we first need to check that the marginal distributions are each Gaussian, as well as compute the covariance and correlation coefficient."
   ]
  },
  {
   "cell_type": "markdown",
   "id": "fbd5f10c-2c28-4dde-b5c4-e2781058997f",
   "metadata": {},
   "source": [
    "<div style=\"background-color:#AABAB2; color: black; width: 95%; vertical-align: middle; padding:15px; margin: 10px; border-radius: 10px\">\n",
    "<p>\n",
    "<b>Task 1.1:</b>   \n",
    "Import the data in <code>data.csv</code>, then find the parameters of a normal distribution to fit to the data for each marginal. <em>Quickly</em> check the goodness of fit and state whether you think it is an appropriate distribution (we will keep using it anyway, regardless of the answer).\n",
    "<p>\n",
    "<em>Don't spend more than a few minutes on this, you should be able to quickly use some of your code from last week.</em>\n",
    "</p>\n",
    "</p>\n",
    "</div>"
   ]
  },
  {
   "cell_type": "code",
   "execution_count": null,
   "id": "2b3477a8-002c-42a8-bd30-6c24890156c2",
   "metadata": {
    "tags": []
   },
   "outputs": [],
   "source": [
    "data = np.genfromtxt('data.csv', delimiter=\";\")\n",
    "data.shape"
   ]
  },
  {
   "cell_type": "code",
   "execution_count": null,
   "id": "3aad6608-743f-4f49-bcab-440ab5b3d093",
   "metadata": {
    "tags": []
   },
   "outputs": [],
   "source": [
    "YOUR_CODE_HERE # probably many lines"
   ]
  },
  {
   "cell_type": "markdown",
   "id": "9b6d08ec-5e23-4efb-a9fc-d96776812429",
   "metadata": {},
   "source": [
    "<div style=\"background-color:#AABAB2; color: black; width: 95%; vertical-align: middle; padding:15px; margin: 10px; border-radius: 10px\">\n",
    "<p>\n",
    "<b>Task 1.2:</b>   \n",
    "Write two functions to compute the covariance and correlation coefficient between the two random variables. Print the results.\n",
    "\n",
    "<b>The input arguments should be Numpy arrays and you should calculate each value without using a pre-existing Python package or method.</b>\n",
    "</p>\n",
    "</div>"
   ]
  },
  {
   "cell_type": "code",
   "execution_count": 5,
   "id": "c8a5e3ec-d87d-4d2d-b51d-85351bdd586d",
   "metadata": {
    "tags": []
   },
   "outputs": [],
   "source": [
    "def calculate_covariance(X1, X2):\n",
    "    '''\n",
    "    Covariance of two random variables X1 and X2 (numpy arrays).\n",
    "    '''\n",
    "    YOUR_CODE_HERE # may be more than one line\n",
    "    return covariance\n",
    "\n",
    "def pearson_correlation(X1, X2):\n",
    "    YOUR_CODE_HERE # may be more than one line\n",
    "    return correl_coeff"
   ]
  },
  {
   "cell_type": "code",
   "execution_count": null,
   "id": "5c13ea7e-65b8-46ee-804e-f62fb4e68afd",
   "metadata": {
    "tags": []
   },
   "outputs": [],
   "source": [
    "covariance = calculate_covariance(data_x1, data_x2)\n",
    "print(f'The covariance of X1 and X2 is {covariance:.5f}')\n",
    "correl_coeff = pearson_correlation(data_x1, data_x2)\n",
    "print(f'The correlation coefficient of X1 and X2 is {correl_coeff:.5f}')"
   ]
  },
  {
   "cell_type": "markdown",
   "id": "23e4d105-dc2f-4aa8-902f-1872d517e547",
   "metadata": {},
   "source": [
    "<div style=\"background-color:#AABAB2; color: black; width: 95%; vertical-align: middle; padding:15px; margin: 10px; border-radius: 10px\">\n",
    "<p>\n",
    "<b>Task 1.3:</b>   \n",
    "Build the bivariate distribution using <code>scipy.stats.multivariate_normal</code> (as well as the mean vector and covariance matrix). To validate the result, create a plot that shows contours of the joint PDF, compared with the data (see note below). Comment on the quality of the fit in 2-3 sentences or bullet points.\n",
    "</p>\n",
    "</div>"
   ]
  },
  {
   "cell_type": "markdown",
   "id": "f9ee9c39-6e6a-4257-9746-fdf118eef8aa",
   "metadata": {
    "id": "0491cc69"
   },
   "source": [
    "<div style=\"background-color:#facb8e; color: black; width: 95%; vertical-align: middle; padding:15px; margin: 10px; border-radius: 10px\"> <p>Use the helper function <code>plot_contour</code> in <code>helper.py</code>; it was already imported above. Either look in the file to read it, or view the documentation in the notebook with <code>plot_contour?</code></p>\n",
    "\n",
    "<p><em>Hint: for this Task use the optional </em><code>data</code><em> argument!.</em></p></div>"
   ]
  },
  {
   "cell_type": "code",
   "execution_count": 7,
   "id": "896fd1c2",
   "metadata": {},
   "outputs": [],
   "source": [
    "# plot_contour? # uncomment and run to read docstring"
   ]
  },
  {
   "cell_type": "code",
   "execution_count": 8,
   "id": "972813ca-0efd-4224-9b12-46881adfce8b",
   "metadata": {
    "tags": []
   },
   "outputs": [],
   "source": [
    "mean_vector = YOUR_CODE_HERE\n",
    "cov_matrix = YOUR_CODE_HERE\n",
    "bivar_dist = YOUR_CODE_HERE"
   ]
  },
  {
   "cell_type": "code",
   "execution_count": null,
   "id": "473a6029-c637-4dd8-85dd-fd3ea7af8b59",
   "metadata": {
    "tags": []
   },
   "outputs": [],
   "source": [
    "plot_contour(YOUR_CODE_HERE, [0, 30, 0, 30], data=YOUR_CODE_HERE);"
   ]
  },
  {
   "cell_type": "markdown",
   "id": "c7336c15-ffd9-4548-8bd6-6a156e184037",
   "metadata": {},
   "source": [
    "## Part 2: Using the Bivariate Distribution\n",
    "\n",
    "Now that we have the distribution, we will use it compute probabilities related to the three cases, presented above, as follows:\n",
    "\n",
    "1. $P[X_1>20 \\;\\cup\\; X_2>20]$\n",
    "2. $P[X_1>20 \\;\\cap \\ X_2>20]$\n",
    "3. $P[X_1,X_2:\\; Z<0]$"
   ]
  },
  {
   "cell_type": "markdown",
   "id": "c43f9c30-72bf-4639-84a7-2fc3946e8d30",
   "metadata": {},
   "source": [
    "<div style=\"background-color:#AABAB2; color: black; width: 95%; vertical-align: middle; padding:15px; margin: 10px; border-radius: 10px\">\n",
    "<p>\n",
    "<b>Task 2:</b>\n",
    "    \n",
    "For each of the three cases, do the following:\n",
    "\n",
    "- Compute the requested probability using the empirical distribution.\n",
    "- Compute the requested probability using the bivariate distribution.\n",
    "- Create a bivariate plot that includes PDF contours <em>and</em> the region of interest.\n",
    "- Repeat the calculations for additional cases of correlation coefficient (for example change $\\rho$ to: +0.9, 0.0, then -0.9) to see how the answer changes (you can simply regenerate the plot, you don't need to make multiple versions). <em>You can save this sub-task for later if you are running out of time. It is more important to get through Task 3 during the in-class session.</em>\n",
    "- Write two or three sentences that summarize the results and explains the quantitative impact of correlation coefficient. Make a particular note about whether or not one case may or be affected more or less than the others.\n",
    "\n",
    "</p>\n",
    "</div>"
   ]
  },
  {
   "cell_type": "markdown",
   "id": "bdab1a35-4e2f-42a2-804c-17f7f0917b6a",
   "metadata": {
    "id": "0491cc69"
   },
   "source": [
    "<div style=\"background-color:#facb8e; color: black; width: 95%; vertical-align: middle; padding:15px; margin: 10px; border-radius: 10px\"> <p>Note that the optional arguments in the helper function <code>plot_contour</code> will be useful here--<b>also for the Project on Friday!</b>\n",
    "\n",
    "Here is an example code that shows you what it can do (the values are meaningless)\n",
    "</p></div>"
   ]
  },
  {
   "cell_type": "code",
   "execution_count": null,
   "id": "adb079f6",
   "metadata": {},
   "outputs": [],
   "source": [
    "region_example = np.array([[0, 5, 12, 20, 28, 30],\n",
    "                           [5, 20, 0, 18, 19, 12]])\n",
    "\n",
    "plot_contour(bivar_dist, [0, 30, 0, 30],\n",
    "             case=[23, 13],\n",
    "             region=region_example);\n"
   ]
  },
  {
   "cell_type": "markdown",
   "id": "a50b6ff0",
   "metadata": {},
   "source": [
    "<div style=\"background-color:#AABAB2; color: black; width: 95%; vertical-align: middle; padding:15px; margin: 10px; border-radius: 10px\">\n",
    "<p>\n",
    "\n",
    "<b>Task 2.1 and 2.2:</b> create cells below to carry out the OR and AND calculations.\n",
    "</p>\n",
    "</div>"
   ]
  },
  {
   "cell_type": "code",
   "execution_count": null,
   "id": "3719f490",
   "metadata": {},
   "outputs": [],
   "source": [
    "YOUR_CODE_HERE\n",
    "# DEFINITELY more than one line.\n",
    "# probably several cells too ;)"
   ]
  },
  {
   "cell_type": "markdown",
   "id": "5f68d21c",
   "metadata": {},
   "source": [
    "<div style=\"background-color:#AABAB2; color: black; width: 95%; vertical-align: middle; padding:15px; margin: 10px; border-radius: 10px\">\n",
    "<p>\n",
    "\n",
    "<b>Task 2.3:</b> create cells below to carry out the Case 3 calculations.\n",
    "\n",
    "Note that in this case you need to make the plot to visualize the region over which we want to integrate. We need to define the boundary of the region of interest by solving the equation $Z(X_1,X_2)$ for $X_2$ when $Z=0$.\n",
    "</p>\n",
    "</div>"
   ]
  },
  {
   "cell_type": "markdown",
   "id": "e960cb2f",
   "metadata": {},
   "source": [
    "The equation can be defined as follows:\n",
    "\n",
    "$$\n",
    "\\textrm{WRITE THE EQUATION HERE}\n",
    "$$\n",
    "\n",
    "which is then defined in Python and included in the `plot_contours` function as an array for the keyword argument `region`."
   ]
  },
  {
   "cell_type": "code",
   "execution_count": null,
   "id": "57088caf",
   "metadata": {},
   "outputs": [],
   "source": [
    "YOUR_CODE_HERE\n",
    "# DEFINITELY more than one line.\n",
    "# probably several cells too ;)"
   ]
  },
  {
   "cell_type": "markdown",
   "id": "b95860c6-8cbb-47e1-89ab-4d4d56a6f1be",
   "metadata": {
    "id": "0491cc69"
   },
   "source": [
    "<div style=\"background-color:#facb8e; color: black; width: 95%; vertical-align: middle; padding:15px; margin: 10px; border-radius: 10px\"> <p>Note: the bivariate figures are an important concept for the exam, so if using the code is too difficult for you to use when studying on your own, try sketching it on paper.</p></div>"
   ]
  },
  {
   "cell_type": "markdown",
   "id": "2421b1e1-8adb-4dee-8095-5a54b02e6d44",
   "metadata": {},
   "source": [
    "## Part 3: Validate Bivariate with Monte Carlo Simulation\n",
    "\n",
    "Now that we have seen how the different cases give different values of probability, let's focus on the function of random variables. This is a more interesting case because we can use the samples of $Z$ to approximate the distribution $f_Z(z)$ and use the empirical distribution of $Z$ to help validate the bivariate model."
   ]
  },
  {
   "cell_type": "markdown",
   "id": "6d2196f5-c480-4810-81e4-d692819d648f",
   "metadata": {},
   "source": [
    "<div style=\"background-color:#AABAB2; color: black; width: 95%; vertical-align: middle; padding:15px; margin: 10px; border-radius: 10px\">\n",
    "<p>\n",
    "\n",
    "$\\textbf{Task 3:}$\n",
    "    \n",
    "Do the following:\n",
    "\n",
    "- Use Monte Carlo Simulation to create a sample of $Z(X_1,X_2)$ and compare this distribution to the empirical distribution.</li>\n",
    "- Write 2-3 sentences assessing the quality of the distribution from MCS, and whether the bivariate distribution is acceptable for this problem. Use qualitative and quantitative measures from last week to support your arguments.\n",
    "\n",
    "</p>\n",
    "<p>\n",
    "    <em>Note: it would be interesting to fit a parametric distribution to the MCS sample, but it is not required for this assignment.</em>\n",
    "</p>\n",
    "</div>"
   ]
  },
  {
   "cell_type": "markdown",
   "id": "075987e0",
   "metadata": {},
   "source": [
    "<div style=\"background-color:#AABAB2; color: black; width: 95%; vertical-align: middle; padding:15px; margin: 10px; border-radius: 10px\">\n",
    "<p>\n",
    "\n",
    "<b>Task 3.1:</b> Plot histograms of $Z$ based on the Monte Carlo samples, and based on the data. Note that you probably already computed the samples in Part 2.\n",
    "</p>\n",
    "</div>"
   ]
  },
  {
   "cell_type": "code",
   "execution_count": null,
   "id": "446b73fe-5277-48ff-8187-e4eabcd21354",
   "metadata": {
    "tags": []
   },
   "outputs": [],
   "source": [
    "plot_values = np.linspace(-100, 1000, 30)\n",
    "fig, ax = plt.subplots(1)\n",
    "ax.hist([YOUR_CODE_HERE, YOUR_CODE_HERE],\n",
    "         bins=plot_values,\n",
    "         density=True,\n",
    "         edgecolor='black');\n",
    "ax.legend(['Data', 'MCS Sample'])\n",
    "ax.set_xlabel('$Z(X_1,X_2)$')\n",
    "ax.set_xlabel('Empirical Density [--]')\n",
    "ax.set_title('Comparison of Distributions of $Z$');"
   ]
  },
  {
   "cell_type": "markdown",
   "id": "be17388b",
   "metadata": {},
   "source": [
    "<div style=\"background-color:#AABAB2; color: black; width: 95%; vertical-align: middle; padding:15px; margin: 10px; border-radius: 10px\">\n",
    "<p>\n",
    "\n",
    "<b>Task 3.2:</b> Define a function to compute the ecdf.\n",
    "</p>\n",
    "</div>"
   ]
  },
  {
   "cell_type": "code",
   "execution_count": 51,
   "id": "5804f940-23e1-480b-adf1-17c3f41fb5c1",
   "metadata": {
    "tags": []
   },
   "outputs": [],
   "source": [
    "def ecdf(var):\n",
    "    x = YOUR_CODE_HERE # sort the values from small to large\n",
    "    n = YOUR_CODE_HERE # determine the number of datapoints\n",
    "    y = YOUR_CODE_HERE\n",
    "    return [y, x]"
   ]
  },
  {
   "cell_type": "markdown",
   "id": "dd0e1022",
   "metadata": {},
   "source": [
    "<div style=\"background-color:#AABAB2; color: black; width: 95%; vertical-align: middle; padding:15px; margin: 10px; border-radius: 10px\">\n",
    "<p>\n",
    "\n",
    "<b>Task 3.3:</b> Create a semi-log plot of the non-exceedance probability.\n",
    "</p>\n",
    "</div>"
   ]
  },
  {
   "cell_type": "code",
   "execution_count": null,
   "id": "3c0da378-d6b8-4bdf-9a24-ac7f38862b4d",
   "metadata": {
    "tags": []
   },
   "outputs": [],
   "source": [
    "fig, axes = plt.subplots(1, 1, figsize=(8, 5))\n",
    "\n",
    "axes.step(YOUR_CODE_HERE, YOUR_CODE_HERE, \n",
    "          color='k', label='Data')\n",
    "axes.step(YOUR_CODE_HERE, YOUR_CODE_HERE,\n",
    "          color='r', label='MCS Sample')\n",
    "axes.set_xlabel('$Z(X_1,X_2)$')\n",
    "axes.set_ylabel('CDF, $\\mathrm{P}[Z < z]$')\n",
    "axes.set_title('Comparison: CDF (log scale expands lower tail)')\n",
    "axes.set_yscale('log')\n",
    "axes.legend()\n",
    "axes.grid()"
   ]
  },
  {
   "cell_type": "markdown",
   "id": "73b56291",
   "metadata": {},
   "source": [
    "<div style=\"background-color:#AABAB2; color: black; width: 95%; vertical-align: middle; padding:15px; margin: 10px; border-radius: 10px\">\n",
    "<p>\n",
    "\n",
    "<b>Task 3.4:</b> Create a semi-log plot of the exceedance probability.\n",
    "</p>\n",
    "</div>"
   ]
  },
  {
   "cell_type": "code",
   "execution_count": null,
   "id": "a432095b-9b71-4b1d-871a-21c0097c06e9",
   "metadata": {
    "tags": []
   },
   "outputs": [],
   "source": [
    "fig, axes = plt.subplots(1, 1, figsize=(8, 5))\n",
    "\n",
    "axes.step(YOUR_CODE_HERE, YOUR_CODE_HERE, \n",
    "          color='k', label='Data')\n",
    "axes.step(YOUR_CODE_HERE, YOUR_CODE_HERE,\n",
    "          color='r', label='MCS Sample')\n",
    "axes.set_xlabel('$Z(X_1,X_2)$')\n",
    "axes.set_ylabel('Exceedance Probability, $\\mathrm{P}[Z > z]$')\n",
    "axes.set_title('Comparison: CDF (log scale expands upper tail)')\n",
    "axes.set_yscale('log')\n",
    "axes.legend()\n",
    "axes.grid()"
   ]
  },
  {
   "cell_type": "markdown",
   "id": "2d3dbe1c-81aa-4a48-af03-30ec9ae26ea5",
   "metadata": {
    "id": "0491cc69"
   },
   "source": [
    "<div style=\"background-color:#facb8e; color: black; width: 95%; vertical-align: middle; padding:15px; margin: 10px; border-radius: 10px\"><p>In case you are wondering, the data for this exercise was computed with a Clayton Copula. A Copula is a useful way of modelling non-linear dependence. If you would like to learn more about this, you should consider the 2nd year cross-over module CEGM2005 Probabilistic Modelling of real-world phenomena through ObseRvations and Elicitation (MORE).</p></div>"
   ]
  },
  {
   "cell_type": "markdown",
   "id": "925307eb",
   "metadata": {},
   "source": [
    "**End of notebook.**\n",
    "\n",
    "<div style=\"margin-top: 50px; padding-top: 20px; border-top: 1px solid #ccc;\">\n",
    "  <div style=\"display: flex; justify-content: flex-end; gap: 20px; align-items: center;\">\n",
    "    <a rel=\"MUDE\" href=\"http://mude.citg.tudelft.nl/\">\n",
    "      <img alt=\"MUDE\" style=\"width:100px; height:auto;\" src=\"https://gitlab.tudelft.nl/mude/public/-/raw/main/mude-logo/MUDE_Logo-small.png\" />\n",
    "    </a>\n",
    "    <a rel=\"TU Delft\" href=\"https://www.tudelft.nl/en/ceg\">\n",
    "      <img alt=\"TU Delft\" style=\"width:100px; height:auto;\" src=\"https://gitlab.tudelft.nl/mude/public/-/raw/main/tu-logo/TU_P1_full-color.png\" />\n",
    "    </a>\n",
    "    <a rel=\"license\" href=\"http://creativecommons.org/licenses/by/4.0/\">\n",
    "      <img alt=\"Creative Commons License\" style=\"width:88px; height:auto;\" src=\"https://i.creativecommons.org/l/by/4.0/88x31.png\" />\n",
    "    </a>\n",
    "  </div>\n",
    "  <div style=\"font-size: 75%; margin-top: 10px; text-align: right;\">\n",
    "    By <a rel=\"MUDE\" href=\"http://mude.citg.tudelft.nl/\">MUDE Team</a>\n",
    "    &copy; 2024 TU Delft. \n",
    "    <a rel=\"license\" href=\"http://creativecommons.org/licenses/by/4.0/\">CC BY 4.0</a>.\n",
    "    <a rel=\"Zenodo DOI\" href=\"https://doi.org/10.5281/zenodo.16782515\"><img style=\"width:auto; height:15; vertical-align:middle\" src=\"https://zenodo.org/badge/DOI/10.5281/zenodo.16782515.svg\" alt=\"DOI https://doi.org/10.5281/zenodo.16782515\"></a>\n",
    "  </div>\n",
    "</div>\n",
    "\n",
    "\n",
    "<!--tested with WS_2_8_solution.ipynb-->"
   ]
  }
 ],
 "metadata": {
  "colab": {
   "collapsed_sections": [],
   "provenance": []
  },
  "kernelspec": {
   "display_name": "mude-week-8",
   "language": "python",
   "name": "python3"
  },
  "language_info": {
   "codemirror_mode": {
    "name": "ipython",
    "version": 3
   },
   "file_extension": ".py",
   "mimetype": "text/x-python",
   "name": "python",
   "nbconvert_exporter": "python",
   "pygments_lexer": "ipython3",
   "version": "3.12.7"
  },
  "widgets": {
   "application/vnd.jupyter.widget-state+json": {
    "state": {},
    "version_major": 2,
    "version_minor": 0
   }
  }
 },
 "nbformat": 4,
 "nbformat_minor": 5
}
