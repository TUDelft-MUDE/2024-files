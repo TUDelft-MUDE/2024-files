{
 "cells": [
  {
   "cell_type": "markdown",
   "id": "618d8a1d-a5a1-401a-b73f-8041340356b7",
   "metadata": {
    "tags": []
   },
   "source": [
    "# Project 3: Numerical Derivatives and Taylor Series Approximations\n",
    "\n",
    "<h1 style=\"position: absolute; display: flex; flex-grow: 0; flex-shrink: 0; flex-direction: row-reverse; top: 90px;right: 30px; margin: 0; border: 0\">\n",
    "    <style>\n",
    "        .markdown {width:100%; position: relative}\n",
    "        article { position: relative }\n",
    "    </style>\n",
    "    <img src=\"https://gitlab.tudelft.nl/mude/public/-/raw/main/tu-logo/TU_P1_full-color.png\" style=\"width:100px\" />\n",
    "    <img src=\"https://gitlab.tudelft.nl/mude/public/-/raw/main/mude-logo/MUDE_Logo-small.png\" style=\"width:100px\" />\n",
    "</h1>\n",
    "<h2 style=\"height: 25px\">\n",
    "</h2>\n",
    "\n",
    "*[CEGM1000 MUDE](http://mude.citg.tudelft.nl/): Week 1.5, Friday, Oct 4, 2024.*"
   ]
  },
  {
   "cell_type": "markdown",
   "id": "8e2540b3-ed63-4e23-ba47-15926896b0f0",
   "metadata": {
    "tags": []
   },
   "source": [
    "## Overview:\n",
    "\n",
    "Numerical derivatives are required to solve differential equations in numerical modelling and they can also be applied to data. To understand its intricancies, the ice thickness data of the Nenana River will be applied using the three derivative approximations.\n",
    "\n",
    "Taylor Series Expansions are necessary to understand the limitations of numerical models based on finite differences/finite elements. In particular, the approximation of derivatives/integrals and its effect on representing physical systems. In the majority of cases, we use Taylor as an approximation of non-linear functions that do not have mathematically simple solutions and instead we use a polynomial to locally approximate. However, it is cruicial to understand that the result is **only accurate over a small interval**. For this project, we will look at a simple function that we can solve analytically and compare our Taylor approximations. "
   ]
  },
  {
   "cell_type": "code",
   "execution_count": 1,
   "id": "b7c0f84b-51eb-41b4-b1a9-9a5270287193",
   "metadata": {
    "tags": []
   },
   "outputs": [],
   "source": [
    "import numpy as np\n",
    "import matplotlib.pylab as plt\n",
    "import pandas as pd"
   ]
  },
  {
   "cell_type": "markdown",
   "id": "b0977eab",
   "metadata": {},
   "source": [
    "## Numerical Derivatives"
   ]
  },
  {
   "cell_type": "markdown",
   "id": "a65b928c",
   "metadata": {},
   "source": [
    "<div style=\"background-color:#AABAB2; color: black; vertical-align: middle; padding:15px; margin: 10px; border-radius: 10px\">\n",
    "<p>\n",
    "In the following, the ice thickness data of the Nenana River is plotted over time.\n",
    "\n",
    "<b>Task 1.1:</b> Reflect: what does the time derivative represents?  \n",
    "\n",
    "\n",
    "</ol>\n",
    "</p>\n",
    "</div>"
   ]
  },
  {
   "cell_type": "code",
   "execution_count": null,
   "id": "87dd870e",
   "metadata": {},
   "outputs": [],
   "source": [
    "data=pd.read_csv(filepath_or_buffer='justIce.csv',index_col=0)\n",
    "data.index = pd.to_datetime(data.index, format=\"%Y-%m-%d\")\n",
    "\n",
    "plt.figure(figsize=(15,4))\n",
    "plt.scatter(data.index,data, color='green', marker='x')\n",
    "plt.xlabel('Year')\n",
    "plt.ylabel('Ice thickness [cm]')\n",
    "plt.grid()"
   ]
  },
  {
   "cell_type": "markdown",
   "id": "9f2ccde8",
   "metadata": {},
   "source": [
    "<div style=\"background-color:#AABAB2; color: black; vertical-align: middle; padding:15px; margin: 10px; border-radius: 10px\">\n",
    "<p>\n",
    "\n",
    "<b>Task 1.2:</b> Before computing the numerical derivatives, reflect on the downside of computing derivatives over the entire data set without a preselection? \n",
    "\n",
    "In the cell below, a selection of 2021 data is already done as well as its plot.\n",
    "\n",
    "</ol>\n",
    "</p>\n",
    "</div>"
   ]
  },
  {
   "cell_type": "code",
   "execution_count": null,
   "id": "b07eb42c",
   "metadata": {},
   "outputs": [],
   "source": [
    "data_2021 = data.loc['2021']\n",
    "\n",
    "plt.figure(figsize=(15,4))\n",
    "plt.scatter(data_2021.index,data_2021, color='green', marker='x')\n",
    "plt.xlabel('Year')\n",
    "plt.ylabel('Ice thickness [cm]')\n",
    "plt.grid()\n"
   ]
  },
  {
   "cell_type": "markdown",
   "id": "7a7d37d1",
   "metadata": {},
   "source": [
    "<div style=\"background-color:#AABAB2; color: black; vertical-align: middle; padding:15px; margin: 10px; border-radius: 10px\">\n",
    "<p>\n",
    "\n",
    "For numerics, we will use numpy due to its optimization for numerical computations. In the cell below, the conversion to numpy is already there as well as a transformation from date to time_days.\n",
    "\n",
    "<b>Task 1.3:</b>  Use Forward Euler to estimate the growth rate of the ice, using the variables h_ice and t_days.  \n",
    "\n",
    "</ol>\n",
    "</p>\n",
    "</div>"
   ]
  },
  {
   "cell_type": "code",
   "execution_count": 48,
   "id": "171d557c",
   "metadata": {},
   "outputs": [],
   "source": [
    "h_ice = (data_2021.to_numpy()).ravel()\n",
    "t_days = ((data_2021.index - data_2021.index[0]).days).to_numpy()\n",
    "\n",
    "## YOUR CODE HERE\n",
    "dh_dt_FE = ??? "
   ]
  },
  {
   "cell_type": "markdown",
   "id": "09f9d8bb",
   "metadata": {},
   "source": [
    "<div style=\"background-color:#AABAB2; color: black; vertical-align: middle; padding:15px; margin: 10px; border-radius: 10px\">\n",
    "<p>\n",
    "\n",
    "Computing the derivative is not enough. It is necessary to specify where that derivative was computed.\n",
    "\n",
    "<b>Task 1.4:</b> Plot the growth rate together with the ice thickness. \n",
    "\n",
    "</ol>\n",
    "</p>\n",
    "</div>"
   ]
  },
  {
   "cell_type": "code",
   "execution_count": null,
   "id": "25592875",
   "metadata": {},
   "outputs": [],
   "source": [
    "fig, ax1 = plt.subplots(figsize=(15,4))\n",
    "## YOUR CODE HERE\n",
    "ax1.scatter( ??? , dh_dt_FE , color='blue', marker='o', label='dh_dt_FE')\n",
    "ax1.set_xlabel('Year')\n",
    "ax1.set_ylabel('growth rate', color='blue')\n",
    "ax1.tick_params(axis='y', labelcolor='blue')\n",
    "ax1.grid()\n",
    "\n",
    "# Second scatter plot with the right y-axis\n",
    "ax2 = ax1.twinx()\n",
    "ax2.scatter(t_days, h_ice, color='green', marker='x', label='h_ice')\n",
    "ax2.set_ylabel('Ice thickness [cm]', color='green')\n",
    "ax2.tick_params(axis='y', labelcolor='green')\n",
    "\n",
    "plt.show()\n"
   ]
  },
  {
   "cell_type": "markdown",
   "id": "30b1625a",
   "metadata": {},
   "source": [
    "<div style=\"background-color:#AABAB2; color: black; vertical-align: middle; padding:15px; margin: 10px; border-radius: 10px\">\n",
    "<p>\n",
    "\n",
    "<b>Task 1.5:</b> Use backward Euler to compute the ice growth rate and plot it together with the previous estimation and the ice thickness. \n",
    "\n",
    "</ol>\n",
    "</p>\n",
    "</div>"
   ]
  },
  {
   "cell_type": "code",
   "execution_count": null,
   "id": "108dea5f",
   "metadata": {},
   "outputs": [],
   "source": [
    "## YOUR CODE HERE\n",
    "dh_dt_BE = ??? \n",
    "\n",
    "fig, ax1 = plt.subplots(figsize=(15,4))\n",
    "## YOUR CODE HERE\n",
    "ax1.scatter(???, dh_dt_FE, color='blue', marker='o', label='dh_dt_FE')\n",
    "ax1.scatter(???, dh_dt_BE, color='red', marker='o', label='dh_dt_BE')\n",
    "ax1.set_xlabel('Year')\n",
    "ax1.set_ylabel('growth rate', color='blue')\n",
    "ax1.tick_params(axis='y', labelcolor='blue')\n",
    "ax1.grid()\n",
    "\n",
    "# Second scatter plot with the right y-axis\n",
    "ax2 = ax1.twinx()\n",
    "ax2.scatter(t_days, h_ice, color='green', marker='x', label='h_ice')\n",
    "ax2.set_ylabel('Ice thickness [cm]', color='green')\n",
    "ax2.tick_params(axis='y', labelcolor='green')\n",
    "\n",
    "plt.show()"
   ]
  },
  {
   "cell_type": "markdown",
   "id": "680f937d",
   "metadata": {},
   "source": [
    "<div style=\"background-color:#AABAB2; color: black; vertical-align: middle; padding:15px; margin: 10px; border-radius: 10px\">\n",
    "<p>\n",
    "\n",
    "<b>Task 1.6:</b> Now apply central differences and plot them. \n",
    "\n",
    "**Be ware: the distances $x_{i+1}-x_i$ and $x_{i}-x_{i-1}$ should be the same.** \n",
    "\n",
    "Tip: define the time at a different location than where the ice thickness points are located. \n",
    "\n",
    "</ol>\n",
    "</p>\n",
    "</div>"
   ]
  },
  {
   "cell_type": "code",
   "execution_count": null,
   "id": "8c2a379e",
   "metadata": {},
   "outputs": [],
   "source": [
    "## YOUR CODE HERE\n",
    "dh_dt_CD = ??? \n",
    "\n",
    "fig, ax1 = plt.subplots(figsize=(15,4))\n",
    "## YOUR CODE HERE\n",
    "ax1.scatter( ??? , dh_dt_FE, color='blue', marker='o', label='dh_dt_FE')\n",
    "ax1.scatter( ??? , dh_dt_BE, color='red', marker='o', label='dh_dt_BE')\n",
    "ax1.scatter( ??? , dh_dt_CD, color='purple', marker='o', label='dh_dt_BE')\n",
    "ax1.set_xlabel('Year')\n",
    "ax1.set_ylabel('growth rate', color='blue')\n",
    "ax1.tick_params(axis='y', labelcolor='blue')\n",
    "ax1.grid()\n",
    "\n",
    "# Second scatter plot with the right y-axis\n",
    "ax2 = ax1.twinx()\n",
    "ax2.scatter(t_days, h_ice, color='green', marker='x', label='h_ice')\n",
    "ax2.set_ylabel('Ice thickness [cm]', color='green')\n",
    "ax2.tick_params(axis='y', labelcolor='green')"
   ]
  },
  {
   "cell_type": "markdown",
   "id": "2fa56b7e",
   "metadata": {},
   "source": [
    "## Taylor Series Definition\n",
    "\n",
    "Recall that the Taylor series for one variable as previously described in the fundamentals section of the MUDE textbook as\n",
    "\n",
    "$$\n",
    "f(x)\\approx f(x_0)+(x-x_0)\\frac{\\partial f(x_0)}{\\partial x}+\\frac{(x-x_0)^2}{2!}\\frac{\\partial^2 f(x_0)}{\\partial x^2}+...+\\frac{(x-x_0)^n}{n!}\\frac{\\partial^n f(x_0)}{\\partial x^n}\n",
    "$$\n",
    "\n",
    "This may also be written as a summation, which may help to visualize the process of writing the terms of the Taylor approximation. The Taylor approximation as a summation becomes \n",
    "\n",
    "$$\n",
    "f(x) \\approx \\sum_{n=0}^{\\infty} \\frac{(x-x_0)^n}{n!} f^{(n)}(x_0)\n",
    "$$\n",
    "\n",
    "where $f^{(n)}(x_0)$ indicates the $n$-th derivative of a function $f(x)$ evaluated at $x=x_0$."
   ]
  },
  {
   "cell_type": "markdown",
   "id": "93b0f401-dc51-4472-93f3-a85d0cd1a11d",
   "metadata": {},
   "source": [
    "<div style=\"background-color:#AABAB2; color: black; vertical-align: middle; padding:15px; margin: 10px; border-radius: 10px\">\n",
    "<p>\n",
    "<b>Task 2.1:</b> Derive the Taylor series expansion terms.\n",
    "\n",
    "<u>On paper</u>, obtain the <b>first four</b> derivatives of the Taylor series for the expression \n",
    "$$\n",
    "f(x)= 2\\cos(x)+\\sin(x) \n",
    "$$ \n",
    "\n",
    "Once you obtain the expressions, evaluate them around the point $x_0=\\pi$.\n",
    "\n",
    "These terms will be used later to assess the effects of using more or less terms in the approximation as well as the distance from $x_0$.\n",
    "\n",
    "Use the following markdown cell to include your derivation of the Taylor series terms.\n",
    "\n",
    "</ol>\n",
    "</p>\n",
    "</div>"
   ]
  },
  {
   "cell_type": "markdown",
   "id": "f38efae9",
   "metadata": {},
   "source": [
    "### Insert an image of your **paper-based** solution for the Taylor series terms here. "
   ]
  },
  {
   "cell_type": "markdown",
   "id": "b003e40a-e07a-4721-b7a4-1103f239492b",
   "metadata": {},
   "source": [
    "<div style=\"background-color:#AABAB2; color: black; vertical-align: middle; padding:15px; margin: 10px; border-radius: 10px\">\n",
    "<p>\n",
    "<b>Task 2.2:</b> Plotting reference expression and approximations.\n",
    "\n",
    "Before continuing with TSE, plot the expression $f(x)=2\\cos(x)+\\sin(x)$ in the interval $[-3\\pi,5\\pi]$. This will be used as benchmark to assess your approximations. We will want to produce plots that will include each successive term of the Taylor approximation to see how the approximation improves as we include more terms in the Taylor series. \n",
    "\n",
    "</p>\n",
    "</div>\n"
   ]
  },
  {
   "cell_type": "code",
   "execution_count": null,
   "id": "72be2ce6-601c-4976-94bf-cfad7af4607d",
   "metadata": {
    "tags": []
   },
   "outputs": [],
   "source": [
    "x = np.linspace(x0 - 4*np.pi, x0 + 4*np.pi, 400)\n",
    "\n",
    "# Define the function f(x)\n",
    "def f(x):\n",
    "    ## YOUR CODE HERE\n",
    "    return ???\n",
    "\n",
    "## YOUR CODE HERE\n",
    "plt.plot( ??? , ??? , color='b', linewidth=2)\n",
    "plt.xlabel('x')\n",
    "plt.ylabel('f(x)')\n",
    "plt.title(\"Plot of $f(x) = 2cos(x) + sin(x)$\");\n",
    "\n"
   ]
  },
  {
   "cell_type": "markdown",
   "id": "f8641d16-274a-43cf-ad20-d31ad9b41ab2",
   "metadata": {},
   "source": [
    "<div style=\"background-color:#AABAB2; color: black; vertical-align: middle; padding:15px; margin: 10px; border-radius: 10px\">\n",
    "<p>\n",
    "<b>Task 2.3:</b> Putting pen to python.\n",
    "\n",
    "Enter the first four derivative terms in the corresponding functions below so that we can use them in our approximation.\n",
    "\n",
    "In the code cell below, `f_#` refers to the <b>derivatives</b> of each portion of the function, and the `taylor_#` the order of the Taylor approximation.\n",
    "\n",
    "</p>\n",
    "</div>\n"
   ]
  },
  {
   "cell_type": "code",
   "execution_count": 31,
   "id": "f8d676eb-6c79-457c-9c13-4c5edba4f2a1",
   "metadata": {
    "tags": []
   },
   "outputs": [],
   "source": [
    "# Define the point of expansion\n",
    "## YOUR CODE HERE\n",
    "x0 = ???\n",
    "\n",
    "## YOUR CODE HERE\n",
    "def f_1(x):\n",
    "    return ???\n",
    "\n",
    "def f_2(x):\n",
    "    return ???\n",
    "\n",
    "def f_3(x):\n",
    "    return ???\n",
    "\n",
    "def f_4(x):\n",
    "    return ???\n"
   ]
  },
  {
   "cell_type": "markdown",
   "id": "054b680d",
   "metadata": {},
   "source": [
    "<div style=\"background-color:#AABAB2; color: black; vertical-align: middle; padding:15px; margin: 10px; border-radius: 10px\">\n",
    "<p>\n",
    "<b>Task 2.4:</b> Define the expansion point and write the Taylor series expansion of first, second, third and fourth order. \n",
    "\n",
    "</p>\n",
    "</div>\n"
   ]
  },
  {
   "cell_type": "code",
   "execution_count": 33,
   "id": "1b677ea6",
   "metadata": {
    "tags": []
   },
   "outputs": [],
   "source": [
    "# Define the point of expansion\n",
    "## YOUR CODE HERE\n",
    "x0 = ???\n",
    "\n",
    "# Assemble the Taylor series approximations\n",
    "## YOUR CODE HERE \n",
    "taylor_1 = ???\n",
    "taylor_2 = ???\n",
    "taylor_3 = ???\n",
    "taylor_4 = ???\n"
   ]
  },
  {
   "cell_type": "markdown",
   "id": "988eb85e",
   "metadata": {},
   "source": [
    "<div style=\"background-color:#AABAB2; color: black; vertical-align: middle; padding:15px; margin: 10px; border-radius: 10px\">\n",
    "<p>\n",
    "<b>Task 2.5:</b> Plot your function along with your Taylor orders to illustrate the local approximations of the inclusions of each extra term.  \n",
    "\n",
    "\n",
    "\n",
    "</p>\n",
    "</div>\n"
   ]
  },
  {
   "cell_type": "code",
   "execution_count": null,
   "id": "5b571bb0",
   "metadata": {
    "tags": []
   },
   "outputs": [],
   "source": [
    "\n",
    "# Plot the original function and its Taylor approximations\n",
    "plt.figure(figsize=(10, 6))\n",
    "## YOUR CODE HERE\n",
    "plt.plot(???, ???, label='$f(x) = 2cos(x) + sin(x)$', color='b', linewidth=2)\n",
    "plt.plot(???, ???, label='First Order', linestyle='--', color='g', linewidth=2)\n",
    "plt.plot(???, ???, label='Second Order', linestyle='--', color='r', linewidth=2)\n",
    "plt.plot(???, ???, label='Third Order', linestyle='--', color='m', linewidth=2)\n",
    "plt.plot(???, ???, label='Fourth Order', linestyle='--', color='y', linewidth=2)\n",
    "\n",
    "# Highlight the point of expansion\n",
    "plt.scatter([x0], [f(x0)], color='k', marker='o', label=f'Expansion Point ($x = {x0:0.3f}$)')\n",
    "\n",
    "# Set plot labels and legend\n",
    "plt.xlabel('x')\n",
    "plt.ylabel('$f(x)$')\n",
    "plt.title('Taylor Series Expansion of $f(x) = 2cos(x) + sin(x)$')\n",
    "plt.legend()\n",
    "plt.xlim(-1,9)\n",
    "plt.ylim(-10,10)\n",
    "\n",
    "# Display the plot\n",
    "plt.grid(True)\n",
    "plt.show();"
   ]
  },
  {
   "cell_type": "markdown",
   "id": "499164b8",
   "metadata": {},
   "source": [
    "### Estimating the Truncation error \n",
    "\n",
    "When we use Taylor series approximations of a function, we truncate the infinite series to a specfic number of terms. Thus, a truncation error is introduced. A simple error metric between the analytical solution and the numerical approximation of our function can be found by computing the absolute value of the difference between the function and the approximation, namely\n",
    "$$\n",
    "\\text{error }=|f(x)-T_n|\n",
    "$$\n",
    "where $T_n$ refers to the TSE computed using $n$ number of terms (or derivatives) of the Taylor series we use.\n"
   ]
  },
  {
   "cell_type": "markdown",
   "id": "70f495c8-1548-4a7a-b357-b2d13917e85b",
   "metadata": {},
   "source": [
    "<div style=\"background-color:#AABAB2; color: black; vertical-align: middle; padding:15px; margin: 10px; border-radius: 10px\">\n",
    "<p><b>Task 2.6:</b> Use your Taylor series approximations and the analytic solution to determine their absolute error. Plot these approximations and vary the x and y limits. Are the larger orders TSE always better?\n",
    "</p>\n",
    "</div>"
   ]
  },
  {
   "cell_type": "code",
   "execution_count": null,
   "id": "68f0967f-0dd2-4971-88e8-e87d52cdf332",
   "metadata": {},
   "outputs": [],
   "source": [
    "# Calculate the absolute error for each order\n",
    "## YOUR CODE HERE\n",
    "error_1 = ???\n",
    "error_2 = ???\n",
    "error_3 = ???\n",
    "error_4 = ???\n",
    "\n",
    "# Plot of the errors\n",
    "plt.figure(figsize=(10, 4))\n",
    "plt.plot(x, error_1, label='First Order', color='g', linewidth=2)\n",
    "plt.plot(x, error_2, label='Second Order', color='r', linewidth=2)\n",
    "plt.plot(x, error_3, label='Third Order', color='m', linewidth=2)\n",
    "plt.plot(x, error_4, label='Fourth Order', color='y', linewidth=2)\n",
    "\n",
    "#Labels and legend\n",
    "plt.xlabel('x')\n",
    "plt.ylabel('Absolute Error: $f(x)$-Taylor Order')\n",
    "plt.title('Absolute Error of Taylor Series Approximations')\n",
    "plt.xlim(x0-2,x0+2)\n",
    "#plt.ylim(0,0.001)\n",
    "plt.legend()\n",
    "\n",
    "# Display the plot\n",
    "plt.grid(True)\n",
    "plt.show();"
   ]
  },
  {
   "cell_type": "markdown",
   "id": "374238b3",
   "metadata": {},
   "source": [
    "### Taylor Series Expansion in Two Variables\n",
    "\n",
    "Let's investigate how the Taylor Series Expansion operates in two dimensions. Expanding a function dependent on two variables, $f(x, y)$, can be expressed as:\n",
    "\n",
    "$$\n",
    "f(x, y) \\approx f(x_0, y_0) + (x - x_0)\\frac{\\partial f}{\\partial x}\\bigg|_{(x_0, y_0)}  + (y - y_0) \\frac{\\partial f}{\\partial y}\\bigg|_{(x_0, y_0)} \\\\ \n",
    "+ \\frac{(x - x_0)^2}{2!}\\frac{\\partial^2 f}{\\partial x^2}\\bigg|_{(x_0, y_0)} + \\frac{(y - y_0)^2}{2!}\\frac{\\partial^2 f}{\\partial y^2}\\bigg|_{(x_0, y_0)} \\\\\n",
    "+ (x - x_0)(y - y_0)\\frac{\\partial^2 f}{\\partial x \\partial y}\\bigg|_{(x_0, y_0)} + \\ldots\n",
    "$$\n",
    "\n",
    "The terms in this summation are determined by the partial derivatives of $f$ with respect to $x$ and $y$ evaluated at $(x_0, y_0)$. The expansion includes an infinite series of terms, starting from the first-order terms and continuing to higher-order terms as $n$ increases. The choice of how many terms to include in the expansion depends on the desired level of accuracy.\n"
   ]
  },
  {
   "cell_type": "markdown",
   "id": "0cc6df5b-e01d-4918-a38b-dd7f11ef6c47",
   "metadata": {},
   "source": [
    "<div style=\"background-color:#AABAB2; color: black; vertical-align: middle; padding:15px; margin: 10px; border-radius: 10px\">\n",
    "<p>\n",
    "<b>Task 3.1:</b> Writing out the expansion. \n",
    "\n",
    "Using the function $f(x,y)=\\sin(2x)+\\cos(y)$ derive the first and second derivatives of the approximation. Do this <u>on paper</u>, as before. After obtaining derivatives, evaluate them around the expanding point $(x_0=\\pi,y_0=\\pi)$. Also, add the evaluation of $f(x_0,y_0)$.\n",
    "\n",
    "Use the following cell to include your workings for the solution. \n",
    "</ol>\n",
    "</p>\n",
    "</div>\n"
   ]
  },
  {
   "cell_type": "markdown",
   "id": "f0246dee-b058-40c0-bbf8-c491c11fd008",
   "metadata": {},
   "source": [
    "### Insert your solution.\n"
   ]
  },
  {
   "cell_type": "markdown",
   "id": "08da4a93-0d23-4955-bea0-8175b22436fa",
   "metadata": {},
   "source": [
    "<div style=\"background-color:#AABAB2; color: black; vertical-align: middle; padding:15px; margin: 10px; border-radius: 10px\">\n",
    "<p>\n",
    "<b>Task 3.2:</b> Transfer the Taylor Approximation\n",
    "\n",
    "Enter the expansion point and include the Taylor approximation in the function definition of the code cell below. Remember, to break a line in the code to keep it readable use the <code>\\ </code>at the end of text line to split the code to the next line.\n",
    "</p>\n",
    "</div>"
   ]
  },
  {
   "cell_type": "code",
   "execution_count": 55,
   "id": "c2cbc69b-a77e-4448-a2ca-245cc3fd75ba",
   "metadata": {},
   "outputs": [],
   "source": [
    "# Define the original function f(x, y)\n",
    "## YOUR CODE HERE\n",
    "def f2D(x, y):\n",
    "    return ???\n",
    "\n",
    "## YOUR CODE HERE\n",
    "x0 = ???\n",
    "y0 = ???\n",
    "\n",
    "# Define the Taylor series approximation\n",
    "## YOUR CODE HERE\n",
    "def taylor2D(x, y):\n",
    "    return ???   \n"
   ]
  },
  {
   "cell_type": "markdown",
   "id": "dce6e2c2",
   "metadata": {},
   "source": [
    "<div style=\"background-color:#AABAB2; color: black; vertical-align: middle; padding:15px; margin: 10px; border-radius: 10px\">\n",
    "<p>\n",
    "<b>Task 3.3:</b> Scrutinize the code.\n",
    "\n",
    "Let's plot a 3D surface plot of the results and try to visualize the intersection of the function and its Taylor approximation. In order to do this, we need to create a <code>meshgrid</code> over the region of interest (this is done with np.meshgrid). Using our <code>def</code> functions above we can determine the surface.\n",
    "\n",
    "</p>\n",
    "</div>"
   ]
  },
  {
   "cell_type": "code",
   "execution_count": null,
   "id": "492ba05d",
   "metadata": {},
   "outputs": [],
   "source": [
    "\n",
    "# Create a meshgrid of x and y values\n",
    "x = np.linspace(-2+x0, 2+x0, 100)\n",
    "y = np.linspace(-2+y0, 2+y0, 100)\n",
    "X, Y = np.meshgrid(x, y)\n",
    "\n",
    "# Calculate the original function values and the approximation\n",
    "Z_orig = f2D(X, Y)\n",
    "Z_approx = taylor2D(X, Y)\n",
    "\n",
    "# Create a 3D plot\n",
    "fig = plt.figure(figsize=(9,9))\n",
    "ax = fig.add_subplot(111, projection='3d')\n",
    "ax.plot_surface(X, Y, Z_orig, rstride=1, cstride=1, cmap='Reds',\n",
    "                label='Original Function')\n",
    "ax.plot_surface(X, Y, Z_approx, rstride=1, cstride=1, cmap='Blues',\n",
    "                alpha=0.7, label='Taylor Approximation')\n",
    "\n",
    "# Set labels and legend\n",
    "ax.set_xlabel('x')\n",
    "ax.set_ylabel('y')\n",
    "ax.set_zlabel('f(x, y)')\n",
    "\n",
    "# Show the plot\n",
    "plt.title('Original Function vs. Taylor Approximation')\n",
    "plt.show()\n"
   ]
  },
  {
   "cell_type": "markdown",
   "id": "25edfa23",
   "metadata": {},
   "source": [
    "<div style=\"background-color:#AABAB2; color: black; vertical-align: middle; padding:15px; margin: 10px; border-radius: 10px\">\n",
    "<p>\n",
    "<b>Task 3.4:</b> Error analysis.\n",
    "\n",
    "Use the following cell to calculate the absolute error between the analytical and Taylor approximation  as previously and plot the results.\n",
    "</p>\n",
    "</div>"
   ]
  },
  {
   "cell_type": "code",
   "execution_count": null,
   "id": "9cb06eac",
   "metadata": {},
   "outputs": [],
   "source": [
    "## YOUR CODE HERE\n",
    "error_2d = ???\n",
    "\n",
    "#Create a 3D plot for the absolute error\n",
    "fig = plt.figure(figsize=(9,9))\n",
    "ax = fig.add_subplot(111, projection='3d')\n",
    "ax.plot_surface(X, Y, error_2d, cmap='Reds', label='Absolute Error')\n",
    "ax.set_xlabel('X')\n",
    "ax.set_ylabel('Y')\n",
    "ax.set_zlabel('Absolute Error')\n",
    "plt.title('Absolute Error between $f(x, y)$ and Taylor Approximation')\n",
    "plt.show()\n"
   ]
  }
 ],
 "metadata": {
  "kernelspec": {
   "display_name": "Python 3 (ipykernel)",
   "language": "python",
   "name": "python3"
  },
  "language_info": {
   "codemirror_mode": {
    "name": "ipython",
    "version": 3
   },
   "file_extension": ".py",
   "mimetype": "text/x-python",
   "name": "python",
   "nbconvert_exporter": "python",
   "pygments_lexer": "ipython3",
   "version": "3.12.4"
  },
  "widgets": {
   "application/vnd.jupyter.widget-state+json": {
    "state": {},
    "version_major": 2,
    "version_minor": 0
   }
  }
 },
 "nbformat": 4,
 "nbformat_minor": 5
}
