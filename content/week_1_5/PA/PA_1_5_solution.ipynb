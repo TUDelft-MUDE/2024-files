{
 "cells": [
  {
   "cell_type": "markdown",
   "id": "d14e9d93",
   "metadata": {},
   "source": [
    "# PA 1.5: A Few Useful Tricks\n",
    "\n",
    "<h1 style=\"position: absolute; display: flex; flex-grow: 0; flex-shrink: 0; flex-direction: row-reverse; top: 60px;right: 30px; margin: 0; border: 0\">\n",
    "    <style>\n",
    "        .markdown {width:100%; position: relative}\n",
    "        article { position: relative }\n",
    "    </style>\n",
    "    <img src=\"https://gitlab.tudelft.nl/mude/public/-/raw/main/tu-logo/TU_P1_full-color.png\" style=\"width:100px; height: auto; margin: 0\" />\n",
    "    <img src=\"https://gitlab.tudelft.nl/mude/public/-/raw/main/mude-logo/MUDE_Logo-small.png\" style=\"width:100px; height: auto; margin: 0\" />\n",
    "</h1>\n",
    "<h2 style=\"height: 10px\">\n",
    "</h2>\n",
    "\n",
    "*[CEGM1000 MUDE](http://mude.citg.tudelft.nl/): Week 1.5. Due: before Friday, Oct 4, 2024.*"
   ]
  },
  {
   "cell_type": "markdown",
   "id": "f5a4caf7",
   "metadata": {},
   "source": [
    "The purpose of this notebook is to introduce a few useful Python and Markdown topics:\n",
    "\n",
    "1. asserts\n",
    "2. list comprehension\n",
    "3. plt.bar() (not in textbook reading)\n",
    "\n",
    "4. Data Cleaning, with task 1.1 - 2.6\n",
    "5. Boosting Productivity, with task 3.1 - 3.10\n",
    "\n",
    "**Remember that there is a survey that must be completed to pass this PA.**\n",
    "\n",
    "[Here is a link to the survey](https://forms.office.com/e/saRwPUyL8d)."
   ]
  },
  {
   "cell_type": "markdown",
   "id": "a0330b70",
   "metadata": {},
   "source": [
    "## Assert Statements\n",
    "\n",
    "remember that a boolean is a binary data type . This is such a prevalent concept that is so useful that it is present in all programming languages, as well as other computer software like excel.\n",
    "\n",
    "- Defines a condition (a boolean)\n",
    "- Returns an error if false; does nothing if true\n",
    "[Python documentation](https://docs.python.org/3/reference/simple_stmts.html#the-assert-statement)\n",
    "\n",
    "There are two cases of this statement that we will use:\n",
    "\n",
    "Case 1:\n",
    "```\n",
    "assert <logical_argument>\n",
    "```\n",
    "\n",
    "Case 2:\n",
    "```\n",
    "assert <logical_argument>, 'my error message'\n",
    "```\n",
    "\n",
    "The best way to illustrate the use of this tool is by example. But first, some important information about the `<logical_argument>`.\n",
    "\n",
    "### Background Information: Logical Statements\n",
    "\n",
    "Another key aspect for using this tool effectively is to be aware of what a **logical statement** is and how they can be specified in Python.\n",
    "\n",
    "A **logical statement** is simply a statement that can be evaluated as **true or false**. This is sometimes referred to as a **binary**, or, in computing in particular, a **Boolean**. Here are some examples of logical statements, formulated as questions, that have a binary/Boolean results:\n",
    "- Is it raining?\n",
    "- Is my computer on?\n",
    "- Were you in class yesterday?\n",
    "\n",
    "Here are some examples of questions that cannot be evaluated as a logical statement:\n",
    "- How long will it rain for?\n",
    "- When will my computer battery reach 0%?\n",
    "- How many lectures have you skipped this week?\n",
    "\n",
    "\n",
    "\n",
    "Each of these examples \n",
    "\n",
    "Python expression that checks whether or not something is \n",
    "\n",
    "\n",
    "| Name of Logical Statement | Python Syntax |\n",
    "| :----: | :----: |\n",
    "| Equals | `a == b` |\n",
    "| Not Equals | `a != b` |\n",
    "| Less than | `a < b` |\n",
    "| Less than or equal to | `a <= b` |\n",
    "| Greater than | `a > b` |\n",
    "| Greater than or equal to | `a >= b` |\n"
   ]
  },
  {
   "cell_type": "code",
   "execution_count": 4,
   "id": "646545ae",
   "metadata": {},
   "outputs": [
    {
     "ename": "AssertionError",
     "evalue": "",
     "output_type": "error",
     "traceback": [
      "\u001b[1;31m---------------------------------------------------------------------------\u001b[0m",
      "\u001b[1;31mAssertionError\u001b[0m                            Traceback (most recent call last)",
      "Cell \u001b[1;32mIn[4], line 2\u001b[0m\n\u001b[0;32m      1\u001b[0m x \u001b[38;5;241m=\u001b[39m \u001b[38;5;241m0\u001b[39m\n\u001b[1;32m----> 2\u001b[0m \u001b[38;5;28;01massert\u001b[39;00m x \u001b[38;5;241m==\u001b[39m \u001b[38;5;241m1\u001b[39m\n",
      "\u001b[1;31mAssertionError\u001b[0m: "
     ]
    }
   ],
   "source": [
    "x = 0\n",
    "assert x == 1"
   ]
  },
  {
   "cell_type": "markdown",
   "id": "56a7f3a3",
   "metadata": {},
   "source": [
    "### Summary of Asserts\n",
    "\n",
    "You are now an expert on `assert` statements. Remember these key points:\n",
    "\n",
    "- the syntax is `assert <logical_statement>`\n",
    "- you can easily customize the error message with the syntax `assert <logical_argument>, 'my error message'`\n",
    "- the `<logical_statement>\n",
    "\n",
    "This is a useful debugging tool because it gives you a method for stopping the execution of your program for very specific reasons. We will learn more about debugging and testing in later PA's. For now, let's try to use the `assert` statement!"
   ]
  },
  {
   "cell_type": "markdown",
   "id": "e3b047fa",
   "metadata": {},
   "source": [
    "## List Comprehension"
   ]
  },
  {
   "cell_type": "markdown",
   "id": "db9ff6b8",
   "metadata": {},
   "source": [
    "List and dictionary *comprehensions* are elegant constructs in Python that allow you to create lists and dictionaries in a more concise and readable manner. These Pythonic methods align well with Python's philosophy of making code more legible and efficient.\n",
    "\n",
    "Why Use Comprehensions?\n",
    "\n",
    "*   Readability: Comprehensions often turn multiple lines of code into a single, readable line, making the code easier to understand at a glance.\n",
    "*   Efficiency: They are generally faster because they are optimized in the Python interpreter.\n",
    "*   Simplicity: Reduces the need for loop control variables and indexing, making the code simpler.\n",
    "\n",
    "\n",
    "Example with List Comprehension: creating a list of squares from 0 to 9"
   ]
  },
  {
   "cell_type": "code",
   "execution_count": null,
   "id": "f50a040b",
   "metadata": {},
   "outputs": [],
   "source": [
    "# Non-Pythonic way\n",
    "squares = []\n",
    "for i in range(10):\n",
    "    squares.append(i ** 2)\n",
    "\n",
    "print(squares)\n",
    "\n",
    "print('-------')\n",
    "\n",
    "# Pythonic way\n",
    "squares = [i ** 2 for i in range(10)]\n",
    "\n",
    "print(squares)"
   ]
  },
  {
   "cell_type": "markdown",
   "id": "4d6b5b30",
   "metadata": {},
   "source": [
    "Example with Dictionary Comprehension: Creating a dictionary that maps numbers to their squares"
   ]
  },
  {
   "cell_type": "code",
   "execution_count": null,
   "id": "b4be24ab",
   "metadata": {},
   "outputs": [],
   "source": [
    "# Non-Pythonic way\n",
    "squares_dict = {}\n",
    "for i in range(10):\n",
    "    squares_dict[i] = i ** 2\n",
    "\n",
    "print(squares_dict)\n",
    "\n",
    "print('-------')\n",
    "\n",
    "# Pythonic way\n",
    "squares_dict = {i: i ** 2 for i in range(10)}\n",
    "\n",
    "print(squares_dict)"
   ]
  },
  {
   "cell_type": "markdown",
   "id": "16632cc2",
   "metadata": {},
   "source": [
    "## The `plt.bar()` Method\n",
    "\n",
    "It's easy."
   ]
  },
  {
   "cell_type": "markdown",
   "id": "547f48ab",
   "metadata": {},
   "source": [
    "## Markdown Figures\n",
    "\n",
    "Running the cell below will save the figure as an `*.svg`."
   ]
  },
  {
   "cell_type": "markdown",
   "id": "58811f81",
   "metadata": {},
   "source": [
    "## Including a Figure in a Markdown notebook\n",
    "\n",
    "This is easy, use this syntax:\n",
    "\n",
    "```\n",
    "![]()\n",
    "```\n",
    "\n",
    "### File Paths\n",
    "\n",
    "Absolute/relative\n",
    "\n",
    "`.` means \"here\".\n",
    "\n",
    "As a general rule, use **forward slashes**\n",
    "- backward works on Windows, but that is it. Remember that we try to do things using approaches that are agnostic of the operating system (i.e., works on all platforms). This is hard to guarantee in practice, but consistently using forward slashes will get us close!\n",
    "\n",
    "Task:\n",
    "- run cell below to save the figure as an svg\n",
    "- open the figure to check that it works (view in VS Code or in your web browser)\n",
    "- add Markdown to your README then visualize to confirm you did it properly (remember to use `CTRL+SHIFT+V` in VSC, the [Markdown All-in-one extension](https://mude.citg.tudelft.nl/2024/book/external/learn-programming/book/install/ide/vsc/extensions.html#markdown-all-in-one))\n",
    "- make a commit to your repo that includes the change to the README as well as the file itself"
   ]
  },
  {
   "cell_type": "markdown",
   "id": "431f871f",
   "metadata": {},
   "source": [
    "<div style=\"background-color:#AABAB2; color: black; width:95%; vertical-align: middle; padding:15px; margin: 10px; border-radius: 10px\">\n",
    "<p>\n",
    "<b>Task 1.1:</b>   \n",
    "Import the data as 2 numpy arrays: distance and temperature. Tip, makes use of the function <code>numpy.genfromtxt</code>.\n",
    "</p>\n",
    "</div>"
   ]
  },
  {
   "cell_type": "markdown",
   "id": "d191fa12",
   "metadata": {},
   "source": [
    "**End of notebook.**\n",
    "<h2 style=\"height: 60px\">\n",
    "</h2>\n",
    "<h3 style=\"position: absolute; display: flex; flex-grow: 0; flex-shrink: 0; flex-direction: row-reverse; bottom: 60px; right: 50px; margin: 0; border: 0\">\n",
    "    <style>\n",
    "        .markdown {width:100%; position: relative}\n",
    "        article { position: relative }\n",
    "    </style>\n",
    "    <a rel=\"license\" href=\"http://creativecommons.org/licenses/by/4.0/\">\n",
    "      <img alt=\"Creative Commons License\" style=\"border-width:; width:88px; height:auto; padding-top:10px\" src=\"https://i.creativecommons.org/l/by/4.0/88x31.png\" />\n",
    "    </a>\n",
    "    <a rel=\"TU Delft\" href=\"https://www.tudelft.nl/en/ceg\">\n",
    "      <img alt=\"TU Delft\" style=\"border-width:0; width:100px; height:auto; padding-bottom:0px\" src=\"https://gitlab.tudelft.nl/mude/public/-/raw/main/tu-logo/TU_P1_full-color.png\" />\n",
    "    </a>\n",
    "    <a rel=\"MUDE\" href=\"http://mude.citg.tudelft.nl/\">\n",
    "      <img alt=\"MUDE\" style=\"border-width:0; width:100px; height:auto; padding-bottom:0px\" src=\"https://gitlab.tudelft.nl/mude/public/-/raw/main/mude-logo/MUDE_Logo-small.png\" />\n",
    "    </a>\n",
    "    \n",
    "</h3>\n",
    "<span style=\"font-size: 75%\">\n",
    "&copy; Copyright 2024 <a rel=\"MUDE\" href=\"http://mude.citg.tudelft.nl/\">MUDE</a> TU Delft. This work is licensed under a <a rel=\"license\" href=\"http://creativecommons.org/licenses/by/4.0/\">CC BY 4.0 License</a>."
   ]
  }
 ],
 "metadata": {
  "kernelspec": {
   "display_name": "Python 3 (ipykernel)",
   "language": "python",
   "name": "python3"
  },
  "language_info": {
   "codemirror_mode": {
    "name": "ipython",
    "version": 3
   },
   "file_extension": ".py",
   "mimetype": "text/x-python",
   "name": "python",
   "nbconvert_exporter": "python",
   "pygments_lexer": "ipython3",
   "version": "3.12.4"
  },
  "widgets": {
   "application/vnd.jupyter.widget-state+json": {
    "state": {},
    "version_major": 2,
    "version_minor": 0
   }
  }
 },
 "nbformat": 4,
 "nbformat_minor": 5
}
