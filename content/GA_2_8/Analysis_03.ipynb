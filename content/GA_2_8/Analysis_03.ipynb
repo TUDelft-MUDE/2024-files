{
 "cells": [
  {
   "cell_type": "markdown",
   "metadata": {},
   "source": [
    "# GA 2.8: [Ice Ice Baby](https://www.youtube.com/watch?v=rog8ou-ZepE), Part 3\n",
    "\n",
    "<h1 style=\"position: absolute; display: flex; flex-grow: 0; flex-shrink: 0; flex-direction: row-reverse; top: 60px;right: 30px; margin: 0; border: 0\">\n",
    "    <style>\n",
    "        .markdown {width:100%; position: relative}\n",
    "        article { position: relative }\n",
    "    </style>\n",
    "    <img src=\"https://gitlab.tudelft.nl/mude/public/-/raw/main/tu-logo/TU_P1_full-color.png\" style=\"width:100px\" />\n",
    "    <img src=\"https://gitlab.tudelft.nl/mude/public/-/raw/main/mude-logo/MUDE_Logo-small.png\" style=\"width:100px\" />\n",
    "</h1>\n",
    "<h2 style=\"height: 10px\">\n",
    "</h2>\n",
    "\n",
    "*[CEGM1000 MUDE](http://mude.citg.tudelft.nl/): Week 2.8, January 17, 2025.*"
   ]
  },
  {
   "cell_type": "markdown",
   "metadata": {},
   "source": [
    "This part considers how the probaiblity of winning may change with a different distribution of breakup day and minute."
   ]
  },
  {
   "cell_type": "markdown",
   "metadata": {},
   "source": [
    "<div style=\"background-color:#facb8e; color: black; vertical-align: middle; padding:15px; margin: 10px; border-radius: 10px; width: 95%\"> <p>This notebooks is particularly useful for Question 2 of the report.</p></div>"
   ]
  },
  {
   "cell_type": "code",
   "execution_count": 1,
   "metadata": {},
   "outputs": [],
   "source": [
    "%load_ext autoreload\n",
    "%autoreload 2\n",
    "import os\n",
    "import numpy as np\n",
    "import matplotlib.pyplot as plt\n",
    "import scipy.stats as stats\n",
    "from tools import *\n",
    "\n",
    "pickle_path = os.path.join('pickles',\n",
    "                           'tickets_per_minute.pkl')\n",
    "with open(pickle_path, 'rb') as f:\n",
    "    loaded_radial_dist_list = pickle.load(f)"
   ]
  },
  {
   "cell_type": "markdown",
   "metadata": {},
   "source": [
    "<div style=\"background-color:#AABAB2; color: black; vertical-align: middle; padding:15px; margin: 10px; border-radius: 10px; width: 95%\">\n",
    "<p>\n",
    "<b>Task 1:</b>   \n",
    "\n",
    "Run this cell to reset the probability model with a new distribution of the breakup day. Note that the pickle file is reset and rebuilt, which takes around 20-30 seconds.\n",
    "\n",
    "</p>\n",
    "</div>"
   ]
  },
  {
   "cell_type": "markdown",
   "metadata": {},
   "source": [
    "<div style=\"background-color:#ffa6a6; color: black; vertical-align: middle; padding:15px; margin: 10px; border-radius: 10px; width: 95%\"><p>Running this cell will delete the pickle file and change the calculations in Notebooks 1 and 2. Make sure you reset the pickle file before rerunning those notebooks, or do this on a separate computer from group members who are working on Notebooks 1 and 2. To reset the pickle file to the \"original\" value simply run the cell below without the keyword argument that overrides the moments.</div>"
   ]
  },
  {
   "cell_type": "code",
   "execution_count": null,
   "metadata": {},
   "outputs": [],
   "source": [
    "Models.reset_prob_pickle()\n",
    "m = Models(moments_day=(20, 6.5))\n",
    "m.plot(0)"
   ]
  },
  {
   "cell_type": "markdown",
   "metadata": {},
   "source": [
    "<div style=\"background-color:#AABAB2; color: black; vertical-align: middle; padding:15px; margin: 10px; border-radius: 10px; width: 95%\">\n",
    "<p>\n",
    "<b>Task 2:</b>   \n",
    "\n",
    "Once you have a new probability model, you can do a new simulation for whatever set of tickets you like to see if you can improve your chances of winning, based on the new model.\n",
    "\n",
    "</p>\n",
    "</div>"
   ]
  },
  {
   "cell_type": "code",
   "execution_count": null,
   "metadata": {},
   "outputs": [],
   "source": [
    "t = Tickets()\n",
    "t.add([[15]])\n",
    "# t.add([[27, 28, 29]])\n",
    "# t.add([[14], [13]])\n",
    "t.status()\n",
    "t.show()"
   ]
  },
  {
   "cell_type": "code",
   "execution_count": null,
   "metadata": {},
   "outputs": [],
   "source": [
    "m = Models()\n",
    "\n",
    "prob_T = np.zeros((len(t.tickets)))\n",
    "Nw_T = np.zeros((len(t.tickets)))\n",
    "\n",
    "for i, ti in enumerate(t.tickets):\n",
    "    prob_T[i] = m.get_p([ti])\n",
    "    day, min = Minutes.get_day_min(ti)\n",
    "    Nw_T [i] = m.ticket_model(day, min)\n",
    "\n",
    "prob_T_matrix = m.map_data_to_day_min(prob_T, t.tickets)\n",
    "prob_all = np.sum(prob_T)\n",
    "\n",
    "print(f\"The probability of any ticket winning is {prob_all:.3e}\")\n",
    "cost_tickets = len(t.tickets)*3\n",
    "expected_winnings = np.sum(300*prob_T/(Nw_T + 1))\n",
    "expected_profit = expected_winnings - .003*len(t.tickets)\n",
    "print(f\"Number of tickets: \\t{len(t.tickets)}\")\n",
    "print(f\"Cost tickets: \\t\\t{cost_tickets/1000:9.2e} kUSD \\t({len(t.tickets)*3:5.0f} USD)\")\n",
    "print(f\"Expected winnings: \\t{expected_winnings:9.2e} kUSD \\t({expected_winnings*1000:5.0f} USD)\")\n",
    "print(f\"Expected profit: \\t{expected_profit:9.2e} kUSD \\t({expected_profit*1000:5.0f} USD)\")\n",
    "\n",
    "m.plot(prob_T_matrix)"
   ]
  },
  {
   "cell_type": "code",
   "execution_count": 5,
   "metadata": {},
   "outputs": [],
   "source": [
    "Ns = 100000\n",
    "sampled_ticket = np.zeros((Ns,), dtype=int)\n",
    "sampled_probability = np.zeros((Ns,))\n",
    "sampled_winnings = np.zeros((Ns,))\n",
    "for i in range(Ns):\n",
    "    sampled_ticket[i] = random.choices(t.tickets, weights=prob_T, k=1)[0]\n",
    "    sampled_probability[i] = prob_T[\n",
    "        t.tickets.index(sampled_ticket[i])]\n",
    "    sampled_winnings[i] = 300/(1 + sample_integer(\n",
    "        loaded_radial_dist_list[sampled_ticket[i]]))"
   ]
  },
  {
   "cell_type": "code",
   "execution_count": null,
   "metadata": {},
   "outputs": [],
   "source": [
    "plot_hist_and_cdf(sampled_winnings,\n",
    "                  xlim=(1,500), ylim=(1e-2, 1))"
   ]
  },
  {
   "cell_type": "code",
   "execution_count": null,
   "metadata": {},
   "outputs": [],
   "source": [
    "print(\"=====================================\")\n",
    "print(\"    USING EXPECTED VALUE CALC    \")\n",
    "print(\"=====================================\")\n",
    "print(f\"Number of tickets: \\t{len(t.tickets)}\")\n",
    "print(f\"Cost tickets: \\t\\t{cost_tickets/1000:9.2e} kUSD \\t({len(t.tickets)*3:5.0f} USD)\")\n",
    "print(f\"Expected winnings: \\t{expected_winnings:9.2e} kUSD \\t({expected_winnings*1000:5.0f} USD)\")\n",
    "print(f\"Expected profit: \\t{expected_profit:9.2e} kUSD \\t({expected_profit*1000:5.0f} USD)\")"
   ]
  },
  {
   "cell_type": "markdown",
   "id": "1dd5ed0c",
   "metadata": {},
   "source": [
    "**End of notebook.**\n",
    "\n",
    "<div style=\"margin-top: 50px; padding-top: 20px; border-top: 1px solid #ccc;\">\n",
    "  <div style=\"display: flex; justify-content: flex-end; gap: 20px; align-items: center;\">\n",
    "    <a rel=\"MUDE\" href=\"http://mude.citg.tudelft.nl/\">\n",
    "      <img alt=\"MUDE\" style=\"width:100px; height:auto;\" src=\"https://gitlab.tudelft.nl/mude/public/-/raw/main/mude-logo/MUDE_Logo-small.png\" />\n",
    "    </a>\n",
    "    <a rel=\"TU Delft\" href=\"https://www.tudelft.nl/en/ceg\">\n",
    "      <img alt=\"TU Delft\" style=\"width:100px; height:auto;\" src=\"https://gitlab.tudelft.nl/mude/public/-/raw/main/tu-logo/TU_P1_full-color.png\" />\n",
    "    </a>\n",
    "    <a rel=\"license\" href=\"http://creativecommons.org/licenses/by/4.0/\">\n",
    "      <img alt=\"Creative Commons License\" style=\"width:88px; height:auto;\" src=\"https://i.creativecommons.org/l/by/4.0/88x31.png\" />\n",
    "    </a>\n",
    "  </div>\n",
    "  <div style=\"font-size: 75%; margin-top: 10px; text-align: right;\">\n",
    "    &copy; Copyright 2024 <a rel=\"MUDE\" href=\"http://mude.citg.tudelft.nl/\">MUDE</a> TU Delft. \n",
    "    This work is licensed under a <a rel=\"license\" href=\"http://creativecommons.org/licenses/by/4.0/\">CC BY 4.0 License</a>.\n",
    "  </div>\n",
    "</div>\n",
    "\n",
    "\n",
    "<!--tested with WS_2_8_solution.ipynb-->"
   ]
  }
 ],
 "metadata": {
  "kernelspec": {
   "display_name": "mude-base",
   "language": "python",
   "name": "python3"
  },
  "language_info": {
   "codemirror_mode": {
    "name": "ipython",
    "version": 3
   },
   "file_extension": ".py",
   "mimetype": "text/x-python",
   "name": "python",
   "nbconvert_exporter": "python",
   "pygments_lexer": "ipython3",
   "version": "3.12.3"
  }
 },
 "nbformat": 4,
 "nbformat_minor": 2
}
