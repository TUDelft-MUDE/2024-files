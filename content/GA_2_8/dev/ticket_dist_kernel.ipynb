{
 "cells": [
  {
   "cell_type": "code",
   "execution_count": 1,
   "metadata": {},
   "outputs": [],
   "source": [
    "%load_ext autoreload\n",
    "%autoreload 2\n",
    "import numpy as np\n",
    "import matplotlib.pyplot as plt\n",
    "from tickets import *\n",
    "from minutes import *\n",
    "from models import *"
   ]
  },
  {
   "cell_type": "code",
   "execution_count": 2,
   "metadata": {},
   "outputs": [
    {
     "name": "stdout",
     "output_type": "stream",
     "text": [
      "Loaded 31856 rows of data\n",
      "The shape is (31856, 2)\n",
      "Loaded 160813 rows of data\n",
      "The shape is (160813,)\n",
      "\n",
      "The mean day is 29.77885494331926\n",
      "The std day is 8.978221476042602\n",
      "The mean min is 863.0213913054292\n",
      "The std min is 255.18749935067723\n"
     ]
    }
   ],
   "source": [
    "counts_2018 = np.genfromtxt('2018_count_250108_0209.csv', delimiter=',', skip_header=1)\n",
    "day_min_counts = Minutes.day_min(counts_2018[:, 0])\n",
    "print(f\"Loaded {len(counts_2018)} rows of data\")\n",
    "print(f\"The shape is {day_min_counts.shape}\")\n",
    "\n",
    "tickets_2018 = np.genfromtxt('2018_tickets_250108_0209.csv', delimiter=',', skip_header=1)\n",
    "day_min_tickets = Minutes.day_min(tickets_2018)\n",
    "print(f\"Loaded {len(day_min_tickets)} rows of data\")\n",
    "print(f\"The shape is {tickets_2018.shape}\")\n",
    "print()\n",
    "print(f\"The mean day is {np.mean(day_min_tickets[:, 0])}\")\n",
    "print(f\"The std day is {np.std(day_min_tickets[:, 0])}\")\n",
    "print(f\"The mean min is {np.mean(day_min_tickets[:, 1])}\")\n",
    "print(f\"The std min is {np.std(day_min_tickets[:, 1])}\")"
   ]
  },
  {
   "cell_type": "code",
   "execution_count": 5,
   "metadata": {},
   "outputs": [
    {
     "name": "stdout",
     "output_type": "stream",
     "text": [
      "Maximum radius is: 4.772\n"
     ]
    }
   ],
   "source": [
    "all = Tickets()\n",
    "all.add([[1, 60]])\n",
    "day_min_all = Minutes.day_min(all.tickets)\n",
    "\n",
    "parameters = [np.mean(day_min_tickets[:, 0]),\n",
    "              np.std(day_min_tickets[:, 0]),\n",
    "              np.mean(day_min_tickets[:, 1]),\n",
    "              np.std(day_min_tickets[:, 1])]\n",
    "\n",
    "transform = Minutes.get_transform(parameters)\n",
    "\n",
    "day_c, min_c = transform(day_min_counts[:,0], day_min_counts[:,1])\n",
    "radius = Minutes.radius(day_c, min_c)\n",
    "\n",
    "day_a, min_a = transform(day_min_all[:,0], day_min_all[:,1])\n",
    "radius_a = Minutes.radius(day_a, min_a)\n",
    "\n",
    "print(f\"Maximum radius is: {np.max(radius_a):.3f}\")"
   ]
  },
  {
   "cell_type": "code",
   "execution_count": null,
   "metadata": {},
   "outputs": [],
   "source": [
    "def get_band_distribution(minute):\n",
    "\n",
    "\n",
    "\n",
    "    evaluate_ticket_dist_i(intervals[0], intervals[1],\n",
    "                             radius, counts_2018[:, 1],\n",
    "                             radius_a)\n",
    "    return d"
   ]
  },
  {
   "cell_type": "code",
   "execution_count": null,
   "metadata": {},
   "outputs": [
    {
     "name": "stdout",
     "output_type": "stream",
     "text": [
      "Minute: 35350\n"
     ]
    }
   ],
   "source": [
    "minute = Minutes.get_minutes([['April'], 25, 13, 10])\n",
    "print(f\"Minute: {minute[0]}\")\n",
    "\n",
    "d = get_band_distribution()"
   ]
  }
 ],
 "metadata": {
  "kernelspec": {
   "display_name": "mude-base",
   "language": "python",
   "name": "python3"
  },
  "language_info": {
   "codemirror_mode": {
    "name": "ipython",
    "version": 3
   },
   "file_extension": ".py",
   "mimetype": "text/x-python",
   "name": "python",
   "nbconvert_exporter": "python",
   "pygments_lexer": "ipython3",
   "version": "3.12.3"
  }
 },
 "nbformat": 4,
 "nbformat_minor": 2
}
