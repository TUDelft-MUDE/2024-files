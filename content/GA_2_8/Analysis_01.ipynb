{
 "cells": [
  {
   "cell_type": "markdown",
   "metadata": {},
   "source": [
    "# GA 2.8: [Ice Ice Baby](https://www.youtube.com/watch?v=rog8ou-ZepE), Part 1\n",
    "\n",
    "<h1 style=\"position: absolute; display: flex; flex-grow: 0; flex-shrink: 0; flex-direction: row-reverse; top: 60px;right: 30px; margin: 0; border: 0\">\n",
    "    <style>\n",
    "        .markdown {width:100%; position: relative}\n",
    "        article { position: relative }\n",
    "    </style>\n",
    "    <img src=\"https://gitlab.tudelft.nl/mude/public/-/raw/main/tu-logo/TU_P1_full-color.png\" style=\"width:100px\" />\n",
    "    <img src=\"https://gitlab.tudelft.nl/mude/public/-/raw/main/mude-logo/MUDE_Logo-small.png\" style=\"width:100px\" />\n",
    "</h1>\n",
    "<h2 style=\"height: 10px\">\n",
    "</h2>\n",
    "\n",
    "*[CEGM1000 MUDE](http://mude.citg.tudelft.nl/): Week 2.8, January 17, 2025.*"
   ]
  },
  {
   "cell_type": "markdown",
   "metadata": {},
   "source": [
    "In this notebook our goal is to get a handle on the uncertainty associated with _when_ the ice breaks each year. Because they are roughly _independent_, we will consider these two times separately:\n",
    "\n",
    "1. the day on which the ice breaks\n",
    "2. the minute of the day on which the ice breaks\n",
    "\n",
    "Note that we will use April 1 as a reference day, such that minute 0 (in Python indexing) corresponds to 00:00 on April 1.\n",
    "\n",
    "Note also the following historical information about the ice classic (relative to the reference provided above):\n",
    "\n",
    "- The $\\mu$ and $\\sigma$ of the day is: 33 and 6.5\n",
    "- The $\\mu$ and $\\sigma$ of the minute in the day is 863, and 190\n",
    "\n",
    "Maybe it's also handy to recall that there are 1440 minutes in a day. Running the following code snippet will convince you that 863 corresponds to the time 14:23.\n",
    "\n",
    "```python\n",
    "print(f\"The hour is: {863 // 60}\")\n",
    "print(f\"The minute is: {863 % 60}\")\n",
    "```\n",
    "\n",
    "Great, let's get started! The first task is to get a handle on the probability associated with picking the right minute in the Ice Classic."
   ]
  },
  {
   "cell_type": "code",
   "execution_count": 1,
   "metadata": {},
   "outputs": [],
   "source": [
    "%load_ext autoreload\n",
    "%autoreload 2\n",
    "import numpy as np\n",
    "import matplotlib.pyplot as plt\n",
    "import scipy.stats as stats\n",
    "from tools import *"
   ]
  },
  {
   "cell_type": "markdown",
   "metadata": {},
   "source": [
    "## Part 1: Probability of Winning\n",
    "\n",
    "To get started, we should get an order of magnitude estimate of the probability of winning the Ice Classic. This is the probability of guessing the exact minute of the breakup. First we will calculate the probability of guessing the exact day of the breakup, and then we will calculate the probability of guessing the exact \"minute of the day\" of the breakup.\n",
    "\n",
    "Note that the historic information of previous breakups can easily be seen on the [Nenana Ice Classic website brochure](https://www.nenanaakiceclassic.com/brochures). In particular, you can see the breakup primarily occurs in April and May, and that the time is generally in the early afternoon."
   ]
  },
  {
   "cell_type": "markdown",
   "metadata": {},
   "source": [
    "<div style=\"background-color:#AABAB2; color: black; vertical-align: middle; padding:15px; margin: 10px; border-radius: 10px; width: 95%\">\n",
    "<p>\n",
    "<b>Task 1.1:</b>   \n",
    "\n",
    "Using the information provided above, compute the probability exact day of the breakup will be the historical average. Assume that the distribution is Gaussian and don't forget that the distribution is continuous and you are interested in the entire <em>day</em> being correct.\n",
    "\n",
    "</p>\n",
    "</div>"
   ]
  },
  {
   "cell_type": "code",
   "execution_count": null,
   "metadata": {},
   "outputs": [],
   "source": [
    "YOUR_CODE_HERE\n",
    "p_day = YOUR_CODE_HERE\n",
    "print(f\"P[day = historical average] = {p_day:.4f}\")"
   ]
  },
  {
   "cell_type": "markdown",
   "metadata": {},
   "source": [
    "<div style=\"background-color:#AABAB2; color: black; vertical-align: middle; padding:15px; margin: 10px; border-radius: 10px; width: 95%\">\n",
    "<p>\n",
    "<b>Task 1.2:</b>   \n",
    "\n",
    "Using the information provided above, compute the probability exact <em>minute</em> of the breakup will be the historical average. Assume that the distribution is Gaussian.\n",
    "\n",
    "</p>\n",
    "</div>"
   ]
  },
  {
   "cell_type": "code",
   "execution_count": null,
   "metadata": {},
   "outputs": [],
   "source": [
    "YOUR_CODE_HERE\n",
    "p_min = YOUR_CODE_HERE\n",
    "print(f\"P[min = historical average] = {p_min:.4f}\")"
   ]
  },
  {
   "cell_type": "markdown",
   "metadata": {},
   "source": [
    "<div style=\"background-color:#AABAB2; color: black; vertical-align: middle; padding:15px; margin: 10px; border-radius: 10px; width: 95%\">\n",
    "<p>\n",
    "<b>Task 1.3:</b>   \n",
    "\n",
    "Compute the probability that the actual breakup time is the historical average.\n",
    "\n",
    "<em>Hint: assume the day and minute are independent and if you think hard about Week 1.8 you might remember that you can probably make your life easier by assuming the joint probability is the union or intersection...</em>\n",
    "</p>\n",
    "</div>"
   ]
  },
  {
   "cell_type": "code",
   "execution_count": null,
   "metadata": {},
   "outputs": [],
   "source": [
    "p_day_and_min = YOUR_CODE_HERE\n",
    "print(f\"P[day and min] = {p_day_and_min:.4f}\")"
   ]
  },
  {
   "cell_type": "markdown",
   "metadata": {},
   "source": [
    "You probably calculated a number in the previous task, and it's probably not very large. And now remember that this is the **mode** of the distribution! Let's compute a few other probabilities to get a sense for how much less likely it is to guess the exact minute of the breakup when it is _not_ the historical average."
   ]
  },
  {
   "cell_type": "markdown",
   "metadata": {},
   "source": [
    "<div style=\"background-color:#AABAB2; color: black; vertical-align: middle; padding:15px; margin: 10px; border-radius: 10px; width: 95%\">\n",
    "<p>\n",
    "<b>Task 1.4:</b>   \n",
    "\n",
    "Choose a minute that is less likely to occur (for example, April 16 at 3:33 AM) and evaluate the probabilities, comparing them to the mode.\n",
    "\n",
    "</p>\n",
    "</div>"
   ]
  },
  {
   "cell_type": "code",
   "execution_count": null,
   "metadata": {},
   "outputs": [],
   "source": [
    "print(f\"P[day = historical average] = {p_day:.2e}\")\n",
    "print(f\"P[min = historical average] = {p_min:.2e}\")\n",
    "print(f\"P[day and min] = {p_day_and_min:3e}\")\n",
    "\n",
    "unlikely_day = YOUR_CODE_HERE\n",
    "unlikely_min = YOUR_CODE_HERE\n",
    "p_unlikely_day = YOUR_CODE_HERE\n",
    "p_unlikely_min = YOUR_CODE_HERE\n",
    "p_unlikely_day_and_min = YOUR_CODE_HERE\n",
    "\n",
    "print(f\"P[unlikely day] = {p_unlikely_day:.2e}\")\n",
    "print(f\"P[unlikely min] = {p_unlikely_min:.2e}\")\n",
    "print(f\"P[unlikely day and min] = {p_unlikely_day_and_min:.2e}\")"
   ]
  },
  {
   "cell_type": "markdown",
   "metadata": {},
   "source": [
    "<div style=\"background-color:#AABAB2; color: black; vertical-align: middle; padding:15px; margin: 10px; border-radius: 10px; width: 95%\">\n",
    "<p>\n",
    "<b>Task 1.5:</b>   \n",
    "Reflect on the probabilities calculated above. Note in particular the order of magnitued of the probabilities and how they compare to each other.\n",
    "</p>\n",
    "</div>"
   ]
  },
  {
   "cell_type": "markdown",
   "metadata": {},
   "source": [
    "_Your answer here._"
   ]
  },
  {
   "cell_type": "markdown",
   "metadata": {},
   "source": [
    "## Part 2: More than One Ticket\n",
    "\n",
    "We've established that a single ticket is a long shot. The probability of guessing the winning minute is tiny. But what if we could make multiple guesses? We will explore that here, but first let's introduce ourselves to a tool that can help us choose tickets easily. Remember that each ticket costs $3.\n",
    "\n",
    "The file `tools.py` contain some code that will help us easily choose different combinations of tickets and evaluate the probability that they are winners. The code is not very well documented, so don't bother reading it. Instead, we will introduce it below with a few examples, in particular the classes:\n",
    "- `Minutes`: a class making it easily convert between minutes in a variety of formats\n",
    "- `Tickets`: a class that makes it easy to choose tickets in a variety of ways\n",
    "- `Models`: a class that helps with calculations of probability, etc, including plots"
   ]
  },
  {
   "cell_type": "markdown",
   "metadata": {},
   "source": [
    "<div style=\"background-color:#AABAB2; color: black; vertical-align: middle; padding:15px; margin: 10px; border-radius: 10px; width: 95%\">\n",
    "<p>\n",
    "<b>Task 2.1:</b>   \n",
    "\n",
    "Run the code cell below to see how you can define a set of tickets using a \"list of lists\". The first example illustrates how you can select all of the minutes in a single day, in this case, day 34, which corresponds to May 4.\n",
    "\n",
    "</p>\n",
    "</div>"
   ]
  },
  {
   "cell_type": "code",
   "execution_count": null,
   "metadata": {},
   "outputs": [],
   "source": [
    "t = Tickets()\n",
    "t.add([34])\n",
    "t.status()"
   ]
  },
  {
   "cell_type": "markdown",
   "metadata": {},
   "source": [
    "<div style=\"background-color:#AABAB2; color: black; vertical-align: middle; padding:15px; margin: 10px; border-radius: 10px; width: 95%\">\n",
    "<p>\n",
    "<b>Task 2.2:</b>   \n",
    "\n",
    "It turns out there is also an easy way to visualize which tickets we selected.\n",
    "\n",
    "</p>\n",
    "</div>"
   ]
  },
  {
   "cell_type": "code",
   "execution_count": null,
   "metadata": {},
   "outputs": [],
   "source": [
    "t.show()"
   ]
  },
  {
   "cell_type": "markdown",
   "metadata": {},
   "source": [
    "<div style=\"background-color:#AABAB2; color: black; vertical-align: middle; padding:15px; margin: 10px; border-radius: 10px; width: 95%\">\n",
    "<p>\n",
    "<b>Task 2.3:</b>   \n",
    "\n",
    "Now lets try specifying a set of days.\n",
    "\n",
    "<em>Note that this requires a list inside the list</em>\n",
    "\n",
    "</p>\n",
    "</div>"
   ]
  },
  {
   "cell_type": "code",
   "execution_count": null,
   "metadata": {},
   "outputs": [],
   "source": [
    "t.add([[20, 23]])\n",
    "t.status()\n",
    "t.show()"
   ]
  },
  {
   "cell_type": "markdown",
   "metadata": {},
   "source": [
    "<div style=\"background-color:#AABAB2; color: black; vertical-align: middle; padding:15px; margin: 10px; border-radius: 10px; width: 95%\">\n",
    "<p>\n",
    "<b>Task 2.4:</b>   \n",
    "\n",
    "What if we want to include a subset of hours, rather than the entire day? Here we can add May 7, 14:00-16:00 to our existing ticket set.\n",
    "\n",
    "</p>\n",
    "</div>"
   ]
  },
  {
   "cell_type": "code",
   "execution_count": null,
   "metadata": {},
   "outputs": [],
   "source": [
    "t.add([[37], [13, 16]])\n",
    "t.status()\n",
    "t.show()"
   ]
  },
  {
   "cell_type": "markdown",
   "metadata": {},
   "source": [
    "<div style=\"background-color:#AABAB2; color: black; vertical-align: middle; padding:15px; margin: 10px; border-radius: 10px; width: 95%\">\n",
    "<p>\n",
    "<b>Task 2.5:</b>   \n",
    "\n",
    "It is also possible to add the same hours as before for <em>multiple</em> days.\n",
    "\n",
    "</p>\n",
    "</div>"
   ]
  },
  {
   "cell_type": "code",
   "execution_count": null,
   "metadata": {},
   "outputs": [],
   "source": [
    "t.add([[3, 8], [13, 16]])\n",
    "t.status()\n",
    "t.show()"
   ]
  },
  {
   "cell_type": "markdown",
   "metadata": {},
   "source": [
    "<div style=\"background-color:#AABAB2; color: black; vertical-align: middle; padding:15px; margin: 10px; border-radius: 10px; width: 95%\">\n",
    "<p>\n",
    "<b>Task 2.6:</b>   \n",
    "\n",
    "Yup, we can do it all with minutes too! Can you predict what the following code will do?\n",
    "\n",
    "</p>\n",
    "</div>"
   ]
  },
  {
   "cell_type": "code",
   "execution_count": null,
   "metadata": {},
   "outputs": [],
   "source": [
    "t.add([[5, 15], [3, 6], [15, 45]])\n",
    "t.status()\n",
    "t.show()\n"
   ]
  },
  {
   "cell_type": "markdown",
   "metadata": {},
   "source": [
    "<div style=\"background-color:#AABAB2; color: black; vertical-align: middle; padding:15px; margin: 10px; border-radius: 10px; width: 95%\">\n",
    "<p>\n",
    "<b>Task 2.7:</b>   \n",
    "\n",
    "Finally, note that non-consecutive lists of day, hour and minute can also be used to add interesting patterns. \n",
    "\n",
    "</p>\n",
    "</div>"
   ]
  },
  {
   "cell_type": "code",
   "execution_count": null,
   "metadata": {},
   "outputs": [],
   "source": [
    "t.add([[38, 40, 42, 49, 56],\n",
    "       [3, 6, 9, 12, 15],\n",
    "       [15, 16, 17, 18, 19, 20, 30, 40]])\n",
    "t.status()\n",
    "t.show()"
   ]
  },
  {
   "cell_type": "markdown",
   "metadata": {},
   "source": [
    "## Part 3: Probability\n",
    "\n",
    "Specifying interesting combinations of tickets is nice, but what we are really interested in is...winning!\n",
    "\n",
    "And to do that, we should have a firm understanding of the probability associated with our bets. The `Models` class allows us to calculate probability in a straightforward way. First we have to initialize it."
   ]
  },
  {
   "cell_type": "markdown",
   "metadata": {},
   "source": [
    "<div style=\"background-color:#AABAB2; color: black; vertical-align: middle; padding:15px; margin: 10px; border-radius: 10px; width: 95%\">\n",
    "<p>\n",
    "<b>Task 3.1:</b>   \n",
    "\n",
    "Run the cell below, but note that it may take a minute or two to run! This is because it is calculating the probability of winning for every possible ticket given the historical average of breakup and saving that information in a pickle file.\n",
    "\n",
    "While you are waiting, see if you can guess what the ticket being selected it is an the order of magnitude of the probability that will be calculated.\n",
    "\n",
    "</p>\n",
    "</div>"
   ]
  },
  {
   "cell_type": "code",
   "execution_count": null,
   "metadata": {},
   "outputs": [],
   "source": [
    "m = Models(model_id=2)\n",
    "t_test = Tickets()\n",
    "t_test.add([[25], [13], [0]])\n",
    "p_ticket = m.get_p(t_test.tickets)\n",
    "print(f\"The probability of the ticket is {p_ticket:.3e}\")\n",
    "t_test.status()\n",
    "t_test.show()"
   ]
  },
  {
   "cell_type": "markdown",
   "metadata": {},
   "source": [
    "<div style=\"background-color:#AABAB2; color: black; vertical-align: middle; padding:15px; margin: 10px; border-radius: 10px; width: 95%\">\n",
    "<p>\n",
    "<b>Task 3.2:</b>   \n",
    "\n",
    "Returning to our previous (arbitrary) selection of tickets, we can calculate and visualize the probability of each ticket.\n",
    "\n",
    "</p>\n",
    "</div>"
   ]
  },
  {
   "cell_type": "code",
   "execution_count": null,
   "metadata": {},
   "outputs": [],
   "source": [
    "m = Models()\n",
    "prob_T = np.zeros((len(t.tickets)))\n",
    "for i, ti in enumerate(t.tickets):\n",
    "    prob_T[i] = m.get_p([ti])\n",
    "\n",
    "prob_T_matrix = m.map_data_to_day_min(prob_T, t.tickets)\n",
    "m.plot(prob_T_matrix,\n",
    "       custom_title=\"Probability of ticket\",\n",
    "       custom_label=\"Probability of ticket\")"
   ]
  },
  {
   "cell_type": "markdown",
   "metadata": {},
   "source": [
    "<div style=\"background-color:#AABAB2; color: black; vertical-align: middle; padding:15px; margin: 10px; border-radius: 10px; width: 95%\">\n",
    "<p>\n",
    "<b>Task 3.3:</b>   \n",
    "\n",
    "Using the array of probabilities found above, compute the probability of <em>any</em> of the tickets being a winner.\n",
    "\n",
    "<em>Note: you actually have to do something in this task!</em>\n",
    "\n",
    "</p>\n",
    "</div>"
   ]
  },
  {
   "cell_type": "code",
   "execution_count": null,
   "metadata": {},
   "outputs": [],
   "source": [
    "prob_any_T_wins = YOUR_CODE_HERE\n",
    "print(f\"Prob of any ticket winning: {prob_any_T_wins:.3e}\")"
   ]
  },
  {
   "cell_type": "markdown",
   "metadata": {},
   "source": [
    "<div style=\"background-color:#AABAB2; color: black; vertical-align: middle; padding:15px; margin: 10px; border-radius: 10px; width: 95%\">\n",
    "<p>\n",
    "<b>Task 3.4:</b>   \n",
    "\n",
    "To finish off the analysis in this notebook, check out the following visualization of the probability associated with every possible ticket. This information will be useful when you choose various ticket options later.\n",
    "</p>\n",
    "</div>"
   ]
  },
  {
   "cell_type": "code",
   "execution_count": null,
   "metadata": {},
   "outputs": [],
   "source": [
    "m.plot(0)"
   ]
  },
  {
   "cell_type": "markdown",
   "id": "1dd5ed0c",
   "metadata": {},
   "source": [
    "**End of notebook.**\n",
    "\n",
    "<div style=\"margin-top: 50px; padding-top: 20px; border-top: 1px solid #ccc;\">\n",
    "  <div style=\"display: flex; justify-content: flex-end; gap: 20px; align-items: center;\">\n",
    "    <a rel=\"MUDE\" href=\"http://mude.citg.tudelft.nl/\">\n",
    "      <img alt=\"MUDE\" style=\"width:100px; height:auto;\" src=\"https://gitlab.tudelft.nl/mude/public/-/raw/main/mude-logo/MUDE_Logo-small.png\" />\n",
    "    </a>\n",
    "    <a rel=\"TU Delft\" href=\"https://www.tudelft.nl/en/ceg\">\n",
    "      <img alt=\"TU Delft\" style=\"width:100px; height:auto;\" src=\"https://gitlab.tudelft.nl/mude/public/-/raw/main/tu-logo/TU_P1_full-color.png\" />\n",
    "    </a>\n",
    "    <a rel=\"license\" href=\"http://creativecommons.org/licenses/by/4.0/\">\n",
    "      <img alt=\"Creative Commons License\" style=\"width:88px; height:auto;\" src=\"https://i.creativecommons.org/l/by/4.0/88x31.png\" />\n",
    "    </a>\n",
    "  </div>\n",
    "  <div style=\"font-size: 75%; margin-top: 10px; text-align: right;\">\n",
    "    &copy; Copyright 2024 <a rel=\"MUDE\" href=\"http://mude.citg.tudelft.nl/\">MUDE</a> TU Delft. \n",
    "    This work is licensed under a <a rel=\"license\" href=\"http://creativecommons.org/licenses/by/4.0/\">CC BY 4.0 License</a>.\n",
    "  </div>\n",
    "</div>\n",
    "\n",
    "\n",
    "<!--tested with WS_2_8_solution.ipynb-->"
   ]
  }
 ],
 "metadata": {
  "kernelspec": {
   "display_name": "mude-base",
   "language": "python",
   "name": "python3"
  },
  "language_info": {
   "codemirror_mode": {
    "name": "ipython",
    "version": 3
   },
   "file_extension": ".py",
   "mimetype": "text/x-python",
   "name": "python",
   "nbconvert_exporter": "python",
   "pygments_lexer": "ipython3",
   "version": "3.12.3"
  }
 },
 "nbformat": 4,
 "nbformat_minor": 2
}
