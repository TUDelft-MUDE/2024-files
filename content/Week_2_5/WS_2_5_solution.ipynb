{
 "cells": [
  {
   "cell_type": "markdown",
   "id": "61e3a843",
   "metadata": {},
   "source": [
    "# WS13: Profit vs Planet\n",
    "\n",
    "<h1 style=\"position: absolute; display: flex; flex-grow: 0; flex-shrink: 0; flex-direction: row-reverse; top: 60px;right: 30px; margin: 0; border: 0\">\n",
    "    <style>\n",
    "        .markdown {width:100%; position: relative}\n",
    "        article { position: relative }\n",
    "    </style>\n",
    "    <img src=\"https://gitlab.tudelft.nl/mude/public/-/raw/main/tu-logo/TU_P1_full-color.png\" style=\"width:100px\" />\n",
    "    <img src=\"https://gitlab.tudelft.nl/mude/public/-/raw/main/mude-logo/MUDE_Logo-small.png\" style=\"width:100px\" />\n",
    "</h1>\n",
    "<h2 style=\"height: 10px\">\n",
    "</h2>\n",
    "\n",
    "*[CEGM1000 MUDE](http://mude.citg.tudelft.nl/): Week 2.5, Optimization. For: December 13, 2023*"
   ]
  },
  {
   "cell_type": "markdown",
   "id": "1c4b1a7a",
   "metadata": {},
   "source": [
    "## Overview\n",
    "\n",
    "A civil engineering company wants to decide on the projects that they should do. Their objective is to minimize the environmental impact of their projects while making enough profit to keep the company running.\n",
    "\n",
    "They have a portfolio of 6 possible projects to invest in, where A, B , and C are new infrastructure projects (so-called type 1), and D, E, F are refurbishment projects (so-called type 2).\n",
    "\n",
    "The environmental impact of each project is given by $I_i$ where $i \\in [1,(...),6]$ is the index of the project. $I_i=[90,45,78,123,48,60]$\n",
    "\n",
    "<div style=\"background-color:#facb8e; color: black; vertical-align: middle; padding:15px; margin: 10px; border-radius: 10px; width: 95%\"> <p>Please note that the values above have been changed in comparison with the original workshop that was provided in class; these updated values makes the optimization result more interesting.</p></div>\n",
    "\n",
    "The profit of each project is given by $P_i$ where $i\\in [1,(...),6]$ is the index of the project: $P_i=[120,65,99,110,33,99]$\n",
    "\n",
    "<div style=\"background-color:#facb8e; color: black; vertical-align: middle; padding:15px; margin: 10px; border-radius: 10px; width: 95%\"> <p>The values above have also been changed.</p></div>\n",
    "\n",
    "The company wants to do 3 out of the 6 projects, therefore please formulate the mathematical program that allows solving the problem, also knowing that the projects of type 2 must be at least as many as the ones of type 1 and that the profit of all projects together must be greater or equal than $250$ ($\\beta$)\n",
    "\n",
    "<b>You are not allowed to use ChatGPT for this task otherwise you won’t learn ;)</b>"
   ]
  },
  {
   "cell_type": "markdown",
   "id": "15d6b3f0",
   "metadata": {},
   "source": [
    "<div style=\"background-color:#AABAB2; color: black; vertical-align: middle; padding:15px; margin: 10px; border-radius: 10px; width: 95%\">\n",
    "<p>\n",
    "<b>Task 1: Writting the mathematical formulation</b>   \n",
    "\n",
    "Write down every formulation and constrain that is relevant to solve this optimization problem.\n",
    "</p>\n",
    "</div>"
   ]
  },
  {
   "cell_type": "markdown",
   "id": "7d0c2565",
   "metadata": {},
   "source": [
    "<div style=\"background-color:#FAE99E; color: black; vertical-align: middle; padding:15px; margin: 10px; border-radius: 10px; width: 95%\">\n",
    "<p>\n",
    "<b>Start solution.</b>\n",
    "\n",
    "$$Min(Z) \\sum_{i=1}^{6} x_i I_i $$\n",
    "\n",
    "subject to\n",
    "\n",
    "$$ \\sum_{i=1}^{6} x_i = 3 $$\n",
    "$$ \\sum_{i=4}^{6} x_i \\ge \\sum_{i=1}^{3} x_i $$\n",
    "$$ \\sum_{i=1}^{6} x_i P_i \\ge β $$\n",
    "$$x\\in(1,0), i\\in(1,....,6)$$\n",
    "    \n",
    "Extra Challenge (Task 6)\n",
    "$$ \\sum_{i=1}^{6} x_i I_i \\le x_1 γ + (1-x_1) M $$\n",
    "    \n",
    "where M is a sufficiently big number such as 9999    \n",
    "    \n",
    "</p>\n",
    "</div>"
   ]
  },
  {
   "cell_type": "markdown",
   "id": "a1b35e97",
   "metadata": {},
   "source": [
    "<div style=\"background-color:#AABAB2; color: black; vertical-align: middle; padding:15px; margin: 10px; border-radius: 10px; width: 95%\">\n",
    "<p>\n",
    "<b>Task 2: Setting up the problem</b>   \n",
    "\n",
    "Define any variables you might need to setup your model.\n",
    "</p>\n",
    "</div>"
   ]
  },
  {
   "cell_type": "code",
   "execution_count": 11,
   "id": "d5cba9fe",
   "metadata": {},
   "outputs": [],
   "source": [
    "# Project data\n",
    "I = [90, 45, 78, 123, 48, 60]  # Environmental impact\n",
    "P = [120, 65, 99, 110, 33, 99]  # Profit\n",
    "\n",
    "# Minimum required profit\n",
    "beta = 250\n",
    "M = 100000\n",
    "\n",
    "# Number of projects and types\n",
    "num_projects = len(I)\n",
    "num_type1_projects = 3\n",
    "num_type2_projects = num_projects - num_type1_projects"
   ]
  },
  {
   "cell_type": "markdown",
   "id": "a032f86b",
   "metadata": {},
   "source": [
    "<div style=\"background-color:#AABAB2; color: black; vertical-align: middle; padding:15px; margin: 10px; border-radius: 10px; width: 95%\">\n",
    "<p>\n",
    "<b>Task 3: Setting up the problem</b>   \n",
    "\n",
    "We'll continue using `gurobi` this week, which you've set up in last week's `PA12`. We'll use some other special packages as well. Therefor, create a new environment using `environment_MUDE_opt.yml` to continue today and on friday.\n",
    "\n",
    "</p>\n",
    "</div>"
   ]
  },
  {
   "cell_type": "markdown",
   "id": "789ed5ae",
   "metadata": {},
   "source": [
    "<div style=\"background-color:#AABAB2; color: black; vertical-align: middle; padding:15px; margin: 10px; border-radius: 10px; width: 95%\">\n",
    "<p>\n",
    "<b>Task 4: Create the Gurobi model</b>   \n",
    "\n",
    "Create the Gurobi model, set your decision variables, your function and your constrains. Take a look at the book for an example implementation in Python if you don't know where to start.\n",
    "</p>\n",
    "</div>"
   ]
  },
  {
   "cell_type": "code",
   "execution_count": 12,
   "id": "5a9bf052",
   "metadata": {},
   "outputs": [],
   "source": [
    "import gurobipy as gp"
   ]
  },
  {
   "cell_type": "code",
   "execution_count": 13,
   "id": "8d008ba9",
   "metadata": {},
   "outputs": [
    {
     "name": "stdout",
     "output_type": "stream",
     "text": [
      "Gurobi Optimizer version 9.5.1 build v9.5.1rc2 (win64)\n",
      "Thread count: 4 physical cores, 8 logical processors, using up to 8 threads\n",
      "Optimize a model with 3 rows, 6 columns and 18 nonzeros\n",
      "Model fingerprint: 0xa9bc0e77\n",
      "Variable types: 0 continuous, 6 integer (6 binary)\n",
      "Coefficient statistics:\n",
      "  Matrix range     [1e+00, 1e+02]\n",
      "  Objective range  [5e+01, 1e+02]\n",
      "  Bounds range     [1e+00, 1e+00]\n",
      "  RHS range        [3e+00, 3e+02]\n",
      "Presolve time: 0.00s\n",
      "Presolved: 3 rows, 6 columns, 17 nonzeros\n",
      "Variable types: 0 continuous, 6 integer (6 binary)\n",
      "Found heuristic solution: objective 228.0000000\n",
      "Found heuristic solution: objective 198.0000000\n",
      "\n",
      "Root relaxation: objective 1.855909e+02, 3 iterations, 0.00 seconds (0.00 work units)\n",
      "\n",
      "    Nodes    |    Current Node    |     Objective Bounds      |     Work\n",
      " Expl Unexpl |  Obj  Depth IntInf | Incumbent    BestBd   Gap | It/Node Time\n",
      "\n",
      "     0     0 infeasible    0       198.00000  198.00000  0.00%     -    0s\n",
      "\n",
      "Explored 1 nodes (3 simplex iterations) in 0.01 seconds (0.00 work units)\n",
      "Thread count was 8 (of 8 available processors)\n",
      "\n",
      "Solution count 2: 198 228 \n",
      "\n",
      "Optimal solution found (tolerance 1.00e-04)\n",
      "Best objective 1.980000000000e+02, best bound 1.980000000000e+02, gap 0.0000%\n"
     ]
    }
   ],
   "source": [
    "# Create a Gurobi model\n",
    "model = gp.Model(\"Project_Selection\")\n",
    "\n",
    "#You can always ask for help to understand a function of gurobi\n",
    "#help(gurobipy.model.addVars)\n",
    "\n",
    "# Decision variables\n",
    "x = model.addVars(num_projects, vtype=gp.GRB.BINARY, name=\"x\")\n",
    "\n",
    "# Objective function: Minimize environmental impact\n",
    "model.setObjective(sum(I[i] * x[i] for i in range(num_projects)), gp.GRB.MINIMIZE)\n",
    "\n",
    "# Constraint: Select exactly 3 projects\n",
    "model.addConstr(x.sum() == 3, \"Select_Projects\")\n",
    "\n",
    "# Constraint: Number of type 2 projects must be at least as many as type 1 projects selected\n",
    "model.addConstr(sum(x[i] for i in range(num_type2_projects, num_projects)) - sum(x[i] for i in range(num_type1_projects)) >= 0, \"Type_Constraint\")\n",
    "\n",
    "# Constraint: Minimum profit requirement\n",
    "model.addConstr(sum(P[i] * x[i] for i in range(num_projects)) >= beta, \"Minimum_Profit\")\n",
    "\n",
    "# Optimize the model\n",
    "model.optimize()"
   ]
  },
  {
   "cell_type": "markdown",
   "id": "1380916b",
   "metadata": {},
   "source": [
    "<div style=\"background-color:#AABAB2; color: black; vertical-align: middle; padding:15px; margin: 10px; border-radius: 10px; width: 95%\">\n",
    "<p>\n",
    "<b>Task 5: Display your results</b>   \n",
    "\n",
    "Display the model in a good way to interpret and print the solution of the optimization.\n",
    "</p>\n",
    "</div>"
   ]
  },
  {
   "cell_type": "code",
   "execution_count": 14,
   "id": "83ef8b18",
   "metadata": {},
   "outputs": [
    {
     "name": "stdout",
     "output_type": "stream",
     "text": [
      "Model structure:\n",
      "Minimize\n",
      "  <gurobi.LinExpr: 90.0 x[0] + 45.0 x[1] + 78.0 x[2] + 123.0 x[3] + 48.0 x[4] + 60.0 x[5]>\n",
      "Subject To\n",
      "  Select_Projects: <gurobi.LinExpr: x[0] + x[1] + x[2] + x[3] + x[4] + x[5]> = 3\n",
      "Type_Constraint: <gurobi.LinExpr: -1.0 x[0] + -1.0 x[1] + -1.0 x[2] + x[3] + x[4] +\n",
      " x[5]> >= 0\n",
      "Minimum_Profit: <gurobi.LinExpr: 120.0 x[0] + 65.0 x[1] + 99.0 x[2] + 110.0 x[3] + 33.0\n",
      " x[4] + 99.0 x[5]> >= 250\n",
      "Binaries\n",
      "  ['x[0]', 'x[1]', 'x[2]', 'x[3]', 'x[4]', 'x[5]']\n",
      "Optimal Solution:\n",
      "Project 1: Selected\n",
      "Project 5: Selected\n",
      "Project 6: Selected\n",
      "Optimal Objective function Value 198.0\n"
     ]
    }
   ],
   "source": [
    "print(\"Model structure:\")        \n",
    "# see the model that you have built in a nice why to interpret\n",
    "model.display()  \n",
    "\n",
    "# Display the solution\n",
    "if model.status == gp.GRB.OPTIMAL:\n",
    "    print(\"Optimal Solution:\")\n",
    "    for i in range(num_projects):\n",
    "        if x[i].x > 0.9:\n",
    "            print(f\"Project {i+1}: Selected\")\n",
    "else:\n",
    "    print(\"No optimal solution found.\")\n",
    "\n",
    "    \n",
    "print(\"Optimal Objective function Value\", model.objVal)    "
   ]
  },
  {
   "cell_type": "markdown",
   "id": "98cb6023",
   "metadata": {},
   "source": [
    "<div style=\"background-color:#AABAB2; color: black; vertical-align: middle; padding:15px; margin: 10px; border-radius: 10px; width: 95%\">\n",
    "<p>\n",
    "<b>Task 6: Additional constraint</b>   \n",
    "\n",
    "Solve the model with an additional constraint: if project 1 is done then the impact of all projects together should be lower than $\\gamma$ with $\\gamma=130$.\n",
    "\n",
    "> The value of $\\gamma$ has been changed with respect to the original workshop to make the optimization more interesting\n",
    "\n",
    "</p>\n",
    "</div>"
   ]
  },
  {
   "cell_type": "code",
   "execution_count": 15,
   "id": "9f2f9b6d",
   "metadata": {},
   "outputs": [
    {
     "data": {
      "text/plain": [
       "<gurobi.Constr *Awaiting Model Update*>"
      ]
     },
     "execution_count": 15,
     "metadata": {},
     "output_type": "execute_result"
    }
   ],
   "source": [
    "#Additional constraint\n",
    "gamma = 130\n",
    "model.addConstr(sum(I[i] * x[i] for i in range(num_projects)) <= gamma * x[0] + M * (1 - x[0]), \"Impact_Constraint\") "
   ]
  },
  {
   "cell_type": "code",
   "execution_count": 16,
   "id": "19040bd6",
   "metadata": {},
   "outputs": [
    {
     "name": "stdout",
     "output_type": "stream",
     "text": [
      "Gurobi Optimizer version 9.5.1 build v9.5.1rc2 (win64)\n",
      "Thread count: 4 physical cores, 8 logical processors, using up to 8 threads\n",
      "Optimize a model with 4 rows, 6 columns and 24 nonzeros\n",
      "Model fingerprint: 0x37d09666\n",
      "Variable types: 0 continuous, 6 integer (6 binary)\n",
      "Coefficient statistics:\n",
      "  Matrix range     [1e+00, 1e+05]\n",
      "  Objective range  [5e+01, 1e+02]\n",
      "  Bounds range     [1e+00, 1e+00]\n",
      "  RHS range        [3e+00, 1e+05]\n",
      "\n",
      "MIP start from previous solve did not produce a new incumbent solution\n",
      "MIP start from previous solve violates constraint Impact_Constraint by 68.000000000\n",
      "\n",
      "Presolve removed 4 rows and 6 columns\n",
      "Presolve time: 0.00s\n",
      "Presolve: All rows and columns removed\n",
      "\n",
      "Explored 0 nodes (0 simplex iterations) in 0.01 seconds (0.00 work units)\n",
      "Thread count was 1 (of 8 available processors)\n",
      "\n",
      "Solution count 1: 228 \n",
      "\n",
      "Optimal solution found (tolerance 1.00e-04)\n",
      "Best objective 2.280000000000e+02, best bound 2.280000000000e+02, gap 0.0000%\n",
      "Model structure:\n",
      "Minimize\n",
      "  <gurobi.LinExpr: 90.0 x[0] + 45.0 x[1] + 78.0 x[2] + 123.0 x[3] + 48.0 x[4] + 60.0 x[5]>\n",
      "Subject To\n",
      "  Select_Projects: <gurobi.LinExpr: x[0] + x[1] + x[2] + x[3] + x[4] + x[5]> = 3\n",
      "Type_Constraint: <gurobi.LinExpr: -1.0 x[0] + -1.0 x[1] + -1.0 x[2] + x[3] + x[4] +\n",
      " x[5]> >= 0\n",
      "Minimum_Profit: <gurobi.LinExpr: 120.0 x[0] + 65.0 x[1] + 99.0 x[2] + 110.0 x[3] + 33.0\n",
      " x[4] + 99.0 x[5]> >= 250\n",
      "Impact_Constraint: <gurobi.LinExpr: 99960.0 x[0] + 45.0 x[1] + 78.0 x[2] + 123.0 x[3] +\n",
      " 48.0 x[4] + 60.0 x[5]> <= 100000\n",
      "Binaries\n",
      "  ['x[0]', 'x[1]', 'x[2]', 'x[3]', 'x[4]', 'x[5]']\n",
      "Optimal Solution:\n",
      "Project 2: Selected\n",
      "Project 4: Selected\n",
      "Project 6: Selected\n",
      "Optimal Objective function Value 228.0\n"
     ]
    }
   ],
   "source": [
    "# Optimize the model\n",
    "model.optimize()\n",
    "\n",
    "print(\"Model structure:\")        \n",
    "# see the model that you have built in a nice why to interpret\n",
    "model.display()  \n",
    "\n",
    "# Display the solution\n",
    "if model.status == gp.GRB.OPTIMAL:\n",
    "    print(\"Optimal Solution:\")\n",
    "    for i in range(num_projects):\n",
    "        if x[i].x > 0.9:\n",
    "            print(f\"Project {i+1}: Selected\")\n",
    "else:\n",
    "    print(\"No optimal solution found.\")\n",
    "\n",
    "    \n",
    "print(\"Optimal Objective function Value\", model.objVal)   "
   ]
  },
  {
   "cell_type": "markdown",
   "id": "99f8c4c4",
   "metadata": {},
   "source": [
    "**End of notebook.**\n",
    "<h2 style=\"height: 60px\">\n",
    "</h2>\n",
    "<h3 style=\"position: absolute; display: flex; flex-grow: 0; flex-shrink: 0; flex-direction: row-reverse; bottom: 60px; right: 50px; margin: 0; border: 0\">\n",
    "    <style>\n",
    "        .markdown {width:100%; position: relative}\n",
    "        article { position: relative }\n",
    "    </style>\n",
    "    <a rel=\"license\" href=\"http://creativecommons.org/licenses/by-nc-sa/4.0/\">\n",
    "      <img alt=\"Creative Commons License\" style=\"border-width:; width:88px; height:auto; padding-top:10px\" src=\"https://i.creativecommons.org/l/by-nc-sa/4.0/88x31.png\" />\n",
    "    </a>\n",
    "    <a rel=\"TU Delft\" href=\"https://www.tudelft.nl/en/ceg\">\n",
    "      <img alt=\"TU Delft\" style=\"border-width:0; width:100px; height:auto; padding-bottom:0px\" src=\"https://gitlab.tudelft.nl/mude/public/-/raw/main/tu-logo/TU_P1_full-color.png\"/>\n",
    "    </a>\n",
    "    <a rel=\"MUDE\" href=\"http://mude.citg.tudelft.nl/\">\n",
    "      <img alt=\"MUDE\" style=\"border-width:0; width:100px; height:auto; padding-bottom:0px\" src=\"https://gitlab.tudelft.nl/mude/public/-/raw/main/mude-logo/MUDE_Logo-small.png\"/>\n",
    "    </a>\n",
    "    \n",
    "</h3>\n",
    "<span style=\"font-size: 75%\">\n",
    "&copy; Copyright 2023 <a rel=\"MUDE Team\" href=\"https://studiegids.tudelft.nl/a101_displayCourse.do?course_id=65595\">MUDE Teaching Team</a> TU Delft. This work is licensed under a <a rel=\"license\" href=\"http://creativecommons.org/licenses/by-nc-sa/4.0/\">Creative Commons Attribution-NonCommercial-ShareAlike 4.0 International License</a>."
   ]
  }
 ],
 "metadata": {
  "kernelspec": {
   "display_name": "Python 3 (ipykernel)",
   "language": "python",
   "name": "python3"
  },
  "language_info": {
   "codemirror_mode": {
    "name": "ipython",
    "version": 3
   },
   "file_extension": ".py",
   "mimetype": "text/x-python",
   "name": "python",
   "nbconvert_exporter": "python",
   "pygments_lexer": "ipython3",
   "version": "3.9.18"
  }
 },
 "nbformat": 4,
 "nbformat_minor": 5
}
