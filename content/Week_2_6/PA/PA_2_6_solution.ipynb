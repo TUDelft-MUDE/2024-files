{
 "cells": [
  {
   "cell_type": "markdown",
   "id": "43db345c",
   "metadata": {},
   "source": [
    "# PA 2.6: 3-Way Split\n",
    "\n",
    "<h1 style=\"position: absolute; display: flex; flex-grow: 0; flex-shrink: 0; flex-direction: row-reverse; top: 60px;right: 30px; margin: 0; border: 0\">\n",
    "    <style>\n",
    "        .markdown {width:100%; position: relative}\n",
    "        article { position: relative }\n",
    "    </style>\n",
    "    <img src=\"https://gitlab.tudelft.nl/mude/public/-/raw/main/tu-logo/TU_P1_full-color.png\" style=\"width:100px\" />\n",
    "    <img src=\"https://gitlab.tudelft.nl/mude/public/-/raw/main/mude-logo/MUDE_Logo-small.png\" style=\"width:100px\" />\n",
    "</h1>\n",
    "<h2 style=\"height: 10px\">\n",
    "</h2>\n",
    "\n",
    "*[CEGM1000 MUDE](http://mude.citg.tudelft.nl/): Week 2.6. Due: complete this PA prior to class on Friday, Dec 20, 2024.*"
   ]
  },
  {
   "cell_type": "markdown",
   "id": "6f1c68b5",
   "metadata": {},
   "source": [
    "## Overview\n",
    "\n",
    "In this assignment you need to implement an algorithm that takes a dataset and splits it (randomly) into 3 parts for use in a machine learning application: one set for training, validation, and testing. This operation is necessary to set up, validate and improve the model you have implemented.\n",
    "\n",
    "To accomplish this we will load a dataset with `pandas` (just like last week) and learn a bit about random number generation. There is also a task which will illustrate how you can use `assert` statements (review).\n"
   ]
  },
  {
   "cell_type": "code",
   "execution_count": 1,
   "id": "2811fd0f",
   "metadata": {},
   "outputs": [],
   "source": [
    "import numpy as np\n",
    "import pandas as pd\n",
    "import matplotlib.pyplot as plt"
   ]
  },
  {
   "cell_type": "markdown",
   "id": "41c38bc7",
   "metadata": {},
   "source": [
    "## Task 1: Load the Data\n",
    "\n",
    "We first need to load the data and ensure that these are properly stored in specific arrays. The file we use in this assignment is *data.csv*. It contains five columns and 100 entries for each of the columns. "
   ]
  },
  {
   "cell_type": "markdown",
   "id": "8bff0861",
   "metadata": {},
   "source": [
    "<div style=\"background-color:#AABAB2; color: black; vertical-align: middle; padding:15px; margin: 10px; border-radius: 10px; width: 95%\">\n",
    "<p>\n",
    "<b>Task 1.1:</b> \n",
    "\n",
    "Use the <code>pandas</code> library to load data from the file named *data.csv* and ensure that your dataset includes both input variables (X1, X2, X3) and an output variable (target Y).\n",
    "</p>\n",
    "</div>"
   ]
  },
  {
   "cell_type": "markdown",
   "id": "7049fe54",
   "metadata": {},
   "source": [
    "<div style=\"background-color:#C8FFFF; color: black; vertical-align: middle; padding:15px; margin: 10px; border-radius: 10px; width: 95%\">\n",
    "<p>\n",
    "<b>Hint:</b>   \n",
    "\n",
    "If you load the *data.csv* file you see that the first column is the index of the data and therefore you don't want to load it. Check [this page](https://pandas.pydata.org/docs/reference/api/pandas.read_csv.html) for the key argument you need to specify to load only X1, X2, X3, and Y. \n",
    "</p>\n",
    "</div>"
   ]
  },
  {
   "cell_type": "code",
   "execution_count": 2,
   "id": "7c86a1ea",
   "metadata": {},
   "outputs": [],
   "source": [
    "# data = YOUR_CODE_HERE\n",
    "\n",
    "# Solution:\n",
    "data = pd.read_csv('data.csv', usecols=[1, 2, 3, 4])"
   ]
  },
  {
   "cell_type": "markdown",
   "id": "2e17661a",
   "metadata": {},
   "source": [
    "<div style=\"background-color:#AABAB2; color: black; vertical-align: middle; padding:15px; margin: 10px; border-radius: 10px; width: 95%\">\n",
    "<p>\n",
    "<b>Task 1.2:</b> \n",
    "\n",
    "Show the summary of the data as you have seen in previous week *PA13*.\n",
    "</p>\n",
    "</div>"
   ]
  },
  {
   "cell_type": "code",
   "execution_count": 3,
   "id": "0a2f649f",
   "metadata": {},
   "outputs": [
    {
     "data": {
      "text/html": [
       "<div>\n",
       "<style scoped>\n",
       "    .dataframe tbody tr th:only-of-type {\n",
       "        vertical-align: middle;\n",
       "    }\n",
       "\n",
       "    .dataframe tbody tr th {\n",
       "        vertical-align: top;\n",
       "    }\n",
       "\n",
       "    .dataframe thead th {\n",
       "        text-align: right;\n",
       "    }\n",
       "</style>\n",
       "<table border=\"1\" class=\"dataframe\">\n",
       "  <thead>\n",
       "    <tr style=\"text-align: right;\">\n",
       "      <th></th>\n",
       "      <th>X1</th>\n",
       "      <th>X2</th>\n",
       "      <th>X3</th>\n",
       "      <th>Y</th>\n",
       "    </tr>\n",
       "  </thead>\n",
       "  <tbody>\n",
       "    <tr>\n",
       "      <th>count</th>\n",
       "      <td>100.000000</td>\n",
       "      <td>100.000000</td>\n",
       "      <td>100.000000</td>\n",
       "      <td>100.00000</td>\n",
       "    </tr>\n",
       "    <tr>\n",
       "      <th>mean</th>\n",
       "      <td>0.470300</td>\n",
       "      <td>0.498200</td>\n",
       "      <td>0.517900</td>\n",
       "      <td>1.95180</td>\n",
       "    </tr>\n",
       "    <tr>\n",
       "      <th>std</th>\n",
       "      <td>0.297432</td>\n",
       "      <td>0.293383</td>\n",
       "      <td>0.292986</td>\n",
       "      <td>1.26048</td>\n",
       "    </tr>\n",
       "    <tr>\n",
       "      <th>min</th>\n",
       "      <td>0.010000</td>\n",
       "      <td>0.010000</td>\n",
       "      <td>0.010000</td>\n",
       "      <td>-0.51000</td>\n",
       "    </tr>\n",
       "    <tr>\n",
       "      <th>25%</th>\n",
       "      <td>0.195000</td>\n",
       "      <td>0.240000</td>\n",
       "      <td>0.277500</td>\n",
       "      <td>1.04000</td>\n",
       "    </tr>\n",
       "    <tr>\n",
       "      <th>50%</th>\n",
       "      <td>0.465000</td>\n",
       "      <td>0.505000</td>\n",
       "      <td>0.565000</td>\n",
       "      <td>1.96000</td>\n",
       "    </tr>\n",
       "    <tr>\n",
       "      <th>75%</th>\n",
       "      <td>0.730000</td>\n",
       "      <td>0.765000</td>\n",
       "      <td>0.755000</td>\n",
       "      <td>2.80000</td>\n",
       "    </tr>\n",
       "    <tr>\n",
       "      <th>max</th>\n",
       "      <td>0.990000</td>\n",
       "      <td>0.990000</td>\n",
       "      <td>0.990000</td>\n",
       "      <td>5.38000</td>\n",
       "    </tr>\n",
       "  </tbody>\n",
       "</table>\n",
       "</div>"
      ],
      "text/plain": [
       "               X1          X2          X3          Y\n",
       "count  100.000000  100.000000  100.000000  100.00000\n",
       "mean     0.470300    0.498200    0.517900    1.95180\n",
       "std      0.297432    0.293383    0.292986    1.26048\n",
       "min      0.010000    0.010000    0.010000   -0.51000\n",
       "25%      0.195000    0.240000    0.277500    1.04000\n",
       "50%      0.465000    0.505000    0.565000    1.96000\n",
       "75%      0.730000    0.765000    0.755000    2.80000\n",
       "max      0.990000    0.990000    0.990000    5.38000"
      ]
     },
     "execution_count": 3,
     "metadata": {},
     "output_type": "execute_result"
    }
   ],
   "source": [
    "# YOUR_CODE_HERE\n",
    "\n",
    "# Solution:\n",
    "data.describe()"
   ]
  },
  {
   "cell_type": "markdown",
   "id": "3e50a6ad",
   "metadata": {},
   "source": [
    "<div style=\"background-color:#AABAB2; color: black; vertical-align: middle; padding:15px; margin: 10px; border-radius: 10px; width: 95%\">\n",
    "<p>\n",
    "<b>Task 1.3:</b> \n",
    "\n",
    "After loading the data, separate it into two arrays: <code>X</code> for input variables and <code>Y</code> for the output variable. The input variables are typically all columns except the target variable.\n",
    "</p>\n",
    "</div>"
   ]
  },
  {
   "cell_type": "code",
   "execution_count": 4,
   "id": "b9bf7a75",
   "metadata": {},
   "outputs": [],
   "source": [
    "# X = YOUR_CODE_HERE\n",
    "# Y = YOUR_CODE_HERE\n",
    "\n",
    "# Solution:\n",
    "X = np.array(data[['X1', 'X2', 'X3']])\n",
    "Y = np.array(data['Y'])"
   ]
  },
  {
   "cell_type": "markdown",
   "id": "07d361ed",
   "metadata": {},
   "source": [
    "## Task 2: Randomly Shuffle Data\n",
    "\n",
    "It is important to split the data such that they are randomly distributed across the train, validation, and test sets. This is easily carried out in Python with the Numpy package; the default random number generator and its methods are briefly introduced here.\n",
    "\n",
    "### Random Number Generator\n",
    "\n",
    "Although randomness occurs everywhere in nature (remember _aleatory_ uncertainty from Q1?), it is a surprisingly complex thing to accomplish with a computer:\n",
    "\n",
    "> With the advent of computers, programmers recognized the need for a means of introducing randomness into a computer program. However, surprising as it may seem, it is difficult to get a computer to do something by chance. A computer follows its instructions blindly and is therefore completely predictable. (A computer that doesn't follow its instructions in this manner is broken.)\n",
    "\n",
    "_Source: [random.org/randomness/](https://www.random.org/randomness/)_\n",
    "\n",
    "Fortunately most modern software provides a random number generator. The best generator in Python for our purposes is part of the Numpy package, primarily because it can be used seamlessly with ndarrays. It is implemented as part of the module `random` [(documentation page here)](https://numpy.org/doc/stable/reference/random/index.html), where typical usage is as follows:\n",
    "\n",
    "1. Create a random number generator by initializing an instance of the `Generator` class with the method `np.random.default_rng`\n",
    "2. Use one of the numerous methods of this class to generate random samples\n",
    "\n",
    "_Note that you may find some examples of random number generation that uses_ `np.random.seed`_; this has been sperceded in Numpy by_ `np.random.Generator`."
   ]
  },
  {
   "cell_type": "markdown",
   "id": "42181207-1971-4341-9020-2b50689e173e",
   "metadata": {},
   "source": [
    "<div style=\"background-color:#AABAB2; color: black; vertical-align: middle; padding:15px; margin: 10px; border-radius: 10px; width: 95%\">\n",
    "<p>\n",
    "<b>Task 2.1:</b>   \n",
    "\n",
    "Run the cell below to: 1) create a random number generator and then 2) use it to generate a random number between 0 and 1.\n",
    "</p>\n",
    "</div>"
   ]
  },
  {
   "cell_type": "code",
   "execution_count": 5,
   "id": "ef835a05-072a-47cd-bb6e-175055bff814",
   "metadata": {},
   "outputs": [
    {
     "name": "stdout",
     "output_type": "stream",
     "text": [
      "<class 'numpy.random._generator.Generator'>\n"
     ]
    },
    {
     "data": {
      "text/plain": [
       "0.6344871945894758"
      ]
     },
     "execution_count": 5,
     "metadata": {},
     "output_type": "execute_result"
    }
   ],
   "source": [
    "rng = np.random.default_rng()\n",
    "print(type(rng))\n",
    "rng.random()"
   ]
  },
  {
   "cell_type": "markdown",
   "id": "20e81183-a6dc-46d5-909d-5c9f56477658",
   "metadata": {},
   "source": [
    "The random number generator has many methods that are useful. You can read more about it [here](https://numpy.org/doc/stable/reference/random/generator.html), but of course the documentation has a lot of computer-science-y stuff. Below are a few examples of what you can do with it."
   ]
  },
  {
   "cell_type": "markdown",
   "id": "5f2f9795-3781-40d3-b73d-e7bbebd4c15e",
   "metadata": {},
   "source": [
    "<div style=\"background-color:#AABAB2; color: black; vertical-align: middle; padding:15px; margin: 10px; border-radius: 10px; width: 95%\">\n",
    "<p>\n",
    "<b>Task 2.2:</b>   \n",
    "\n",
    "Explore the methods of the class by changing the code in the cell below. In addition, run the cell repeatedly to see how the randomly generated numbers change each time.\n",
    "</p>\n",
    "</div>"
   ]
  },
  {
   "cell_type": "code",
   "execution_count": 6,
   "id": "6837ec2d-9257-4225-9ace-f3ad5e90620b",
   "metadata": {},
   "outputs": [
    {
     "name": "stdout",
     "output_type": "stream",
     "text": [
      "integers: 4\n",
      "random: [0.57967807 0.57754065 0.2093782  0.54105167 0.84697294]\n",
      "choice: 1\n",
      "bytes: b'c\\x16\\x1c\\x94\\x9f'\n"
     ]
    }
   ],
   "source": [
    "print('integers:', rng.integers(5))\n",
    "print('random:', rng.random(5))\n",
    "print('choice:', rng.choice(np.array(5)))\n",
    "print('bytes:', rng.bytes(5))"
   ]
  },
  {
   "cell_type": "markdown",
   "id": "69a7e2b5-dba4-4dd3-ac0f-13addb9c2f60",
   "metadata": {},
   "source": [
    "### Reproducible Randomness\n",
    "\n",
    "Working with randomness can make debugging code difficult. Fortunately, we can take advantage of the fact that computers can't truly create randomness by making the \"randomness\" occur consistently every time we use it (in other words: make it completely predictable!). To accomplish this, we can set a _seed_ value; if we know the seed of a random number generator, we can completely predict the sequence of \"randomness\" that it will produce.\n",
    "\n",
    "_In the next cell we set the seed of the default random number generator in <code>numpy</code> to **14**: this allows us to reproduce the \"randomness\" of the random number generator when we shuffle the data later. It is important in this assignment to allow us to check that you did the assignment correctly. If you wish to know more, try reading [this page](https://stackoverflow.com/questions/21494489/what-does-numpy-random-seed0-do)._"
   ]
  },
  {
   "cell_type": "markdown",
   "id": "5dbbf0a2-34f0-40b2-afd3-b1553a409348",
   "metadata": {},
   "source": [
    "<div style=\"background-color:#AABAB2; color: black; vertical-align: middle; padding:15px; margin: 10px; border-radius: 10px; width: 95%\">\n",
    "<p>\n",
    "<b>Task 2.3:</b>   \n",
    "\n",
    "Run the cell below repeatedly to see how the randomly generated numbers change each time. Do you understand what has happened and why?\n",
    "</p>\n",
    "</div>"
   ]
  },
  {
   "cell_type": "code",
   "execution_count": 7,
   "id": "217ad122-bdca-4ece-a887-2cbc3518620d",
   "metadata": {},
   "outputs": [
    {
     "name": "stdout",
     "output_type": "stream",
     "text": [
      "integers: 0\n",
      "random: [0.36094667 0.70273931 0.86011879 0.64131748 0.54836321]\n",
      "choice: 4\n",
      "bytes: b'\\x03\\x1e\\xc4\\x12\\xf3'\n"
     ]
    }
   ],
   "source": [
    "rng = np.random.default_rng(seed=14)\n",
    "print('integers:', rng.integers(5))\n",
    "print('random:', rng.random(5))\n",
    "print('choice:', rng.choice(np.array(5)))\n",
    "print('bytes:', rng.bytes(5))"
   ]
  },
  {
   "cell_type": "markdown",
   "id": "07bf5340-ec01-4844-9fcf-be481b2cd9e8",
   "metadata": {},
   "source": [
    "Now we know enough about random number generators to apply it to our machine learning data splitting case."
   ]
  },
  {
   "cell_type": "markdown",
   "id": "a2c2537a-32b6-4c13-9eab-654c5d67a140",
   "metadata": {},
   "source": [
    "<div style=\"background-color:#AABAB2; color: black; vertical-align: middle; padding:15px; margin: 10px; border-radius: 10px; width: 95%\">\n",
    "<p>\n",
    "<b>Task 2.4:</b>   \n",
    "\n",
    "Create an array that contains a random permutation of indices of an array of length using <code>np.random.Generator.permutation</code>.\n",
    "\n",
    "<em>Hint: check the documentation page linked above and use the object <code>rng</code> in the same way as illustrated in previous tasks.</em>\n",
    "</p>\n",
    "</div>"
   ]
  },
  {
   "cell_type": "code",
   "execution_count": 8,
   "id": "433e17d7",
   "metadata": {},
   "outputs": [
    {
     "name": "stdout",
     "output_type": "stream",
     "text": [
      "The randomized indices are: [2 3 0 4 1]\n",
      "The randomized array becomes: [176 146 109 179 171]\n"
     ]
    }
   ],
   "source": [
    "# rng = np.random.default_rng(seed=14)\n",
    "test_array_length = 5\n",
    "test_array = rng.integers(low=100, high=200, size=test_array_length)\n",
    "\n",
    "# random_indices = YOUR_CODE_HERE\n",
    "# Solution\n",
    "random_indices = rng.permutation(test_array_length)\n",
    "\n",
    "print('The randomized indices are:', random_indices)\n",
    "print('The randomized array becomes:', test_array[random_indices])"
   ]
  },
  {
   "cell_type": "markdown",
   "id": "f60968ae-ede4-4452-a6ae-57ea80493d12",
   "metadata": {},
   "source": [
    "## Task 3: Implement Data Splitting\n",
    "\n",
    "Now that the data is loaded and we know how to shuffle it, you need to split the datasets into a training, validation and testing dataset. First we will write a function, then apply it."
   ]
  },
  {
   "cell_type": "markdown",
   "id": "1d6b5d01-38c0-4d95-840d-5af8aa5b514c",
   "metadata": {},
   "source": [
    "<div style=\"background-color:#AABAB2; color: black; vertical-align: middle; padding:15px; margin: 10px; border-radius: 10px; width: 95%\">\n",
    "<p>\n",
    "<b>Task 3.1:</b>   \n",
    "\n",
    "Implement a function to create six arrays: <code>X_train</code>, <code>X_val</code>, <code>X_test</code>, <code>Y_train</code>, <code>Y_val</code>, and <code>Y_test</code>. Read the docstring to ensure it is set up correctly.\n",
    "</p>\n",
    "</div>"
   ]
  },
  {
   "cell_type": "markdown",
   "id": "91845a13-5be3-4528-bb70-7d780a0cff77",
   "metadata": {},
   "source": [
    "<div style=\"background-color:#C8FFFF; color: black; vertical-align: middle; padding:15px; margin: 10px; border-radius: 10px; width: 95%\">\n",
    "<p>\n",
    "<b>Hint:</b>   \n",
    "\n",
    "Use the code from previous tasks to randomly access the data from the <code>X</code> and <code>Y</code> arrays.\n",
    "</p>\n",
    "</div>"
   ]
  },
  {
   "cell_type": "markdown",
   "id": "1b47ee51",
   "metadata": {},
   "source": [
    "<div style=\"background-color:#FFD700; color: black; vertical-align: middle; padding:15px; margin: 10px; border-radius: 10px; width: 95%\">\n",
    "<p>\n",
    "<b>Use Asserts!</b>   \n",
    "    \n",
    "The `split_data` function below can fail in certain cases, such as when: the input arrays are not the same length, the proportions don't add up to 1 or there aren't 3 proportions. Additionally if the implementation has a small error, such as an off-by-one indexing bug, code can break later down the line. These requirements for the function to work correctly can be called its \"contract\" - a set of conditions it should satisfy. In some programming languages these contracts are built in through concepts such as static type checking (you don't need to worry about this though), but we don't have that luxury in Python. Instead, you can use <a href=\"https://realpython.com/python-assert-statement/\" target=\"_blank\"><code>assert</code> statements</a>  as a way to enforce conditions on your code. For this, you can try adding a contract to `split_data` through pre-conditions and post-conditions. Pre-conditions check the data coming in satisfies the contract and post-conditions check that the data coming out satisfies the contract. Use asserts to do this, and check the following conditions:\n",
    "<ol>\n",
    "    <li> `X` and `Y` are the same length. </li>\n",
    "    <li> `proportions` has length 3. </li>\n",
    "    <li> The values in `proportions` add up to 1. </li>\n",
    "    <li> The lengths of `X_train`, `X_val` and `X_test` added together are equal to the length of `X` (we don't need to check this for `Y` due to the condition 1, but it never hurts to do so).\n",
    "</ol>\n",
    "You can also see that these conditions are actually described in the docstring of `split_data`!\n",
    "\n",
    "To implement this task, uncomment the 4 lines below with assert statements and add the appropriate condition, as described by the string. Note the simple form of an assert statement: `assert expression[, assertion_message]`.\n",
    "\n",
    "Your task is to fill in the `expression`! You can test this out by using the function in a way that violates the contract (once implemented), which will result in the `assertion_message`.\n",
    "\n",
    "</p>\n",
    "</div>"
   ]
  },
  {
   "cell_type": "code",
   "execution_count": 9,
   "id": "2124f049-32cf-4624-9737-8de18b92d3e2",
   "metadata": {},
   "outputs": [],
   "source": [
    "def split_data(X, Y, proportions):\n",
    "    \"\"\"Split input and output into 3 subsets for ML model.\n",
    "\n",
    "    Arguments\n",
    "    =========\n",
    "    X, Y:        ndarrays where rows are number of observations\n",
    "                    (both arrays have identical number of rows)\n",
    "    proportions: list with decimal fraction of original data defining\n",
    "                 allocation into three parts (train, validate, test sets,\n",
    "                 respectively). The list is len(proportions)=3, and\n",
    "                 contains floats that should sum to 1.0.\n",
    "\n",
    "    Returns\n",
    "    =======\n",
    "    X_train, X_val, X_test, Y_train, Y_val, Y_test:\n",
    "     6 ndarrays (3 splits each for input and output), where the number of\n",
    "     columns corresponds to the original input and output (respectively)\n",
    "     and the sum of the number of rows is equal to the rows of the original\n",
    "     input/output.\n",
    "    \"\"\"\n",
    "    # assert YOUR_CODE_HERE, \"Contract broken: 3 proportions must be provided\"\n",
    "    # assert YOUR_CODE_HERE, \"Contract broken: sum of proportions should be one\"\n",
    "    # assert YOUR_CODE_HERE, \"Contract broken: X and Y arrays must have same dimensions\"\n",
    "    # Solution:\n",
    "    assert len(proportions) == 3, \"Contract broken: 3 proportions must be provided\"\n",
    "    assert sum(proportions) == 1, \"Contract broken: sum of proportions should be one\"\n",
    "    assert len(X) == len(Y), \"Contract broken: X and Y arrays must have same dimensions\"\n",
    "\n",
    "    # Do not modify this line:\n",
    "    np.random.default_rng(seed=42)\n",
    "\n",
    "    # Shuffle data using random permutation of indices \n",
    "    # indices = YOUR_CODE_HERE\n",
    "    # Solution\n",
    "    indices = np.random.permutation(len(X))\n",
    "\n",
    "    # Create shuffled training, validation and test sets\n",
    "    # YOUR_CODE_HERE # way more than one line!\n",
    "\n",
    "    # assert YOUR_CODE_HERE, \"Contract broken: generated datasets don't have same accumulated length as original\"\n",
    "\n",
    "    # Solution\n",
    "\n",
    "    train_prop = proportions[0]\n",
    "    val_prop = proportions[1]\n",
    "    \n",
    "    train_end = int(train_prop*len(X))\n",
    "    val_end = int(val_prop*len(X)) + train_end\n",
    "    \n",
    "    X_train, X_val, X_test = (X[indices[:train_end]],\n",
    "                              X[indices[train_end:val_end]],\n",
    "                              X[indices[val_end:]])\n",
    "    Y_train, Y_val, Y_test = (Y[indices[:train_end]],\n",
    "                              Y[indices[train_end:val_end]],\n",
    "                              Y[indices[val_end:]])\n",
    "    \n",
    "    assert (len(X_train) + len(X_val) + len(X_test)) == len(X), \"Contract broken: generated datasets don't have same accumulated length as original\"\n",
    "    # END Solution block\n",
    "    \n",
    "    return X_train, X_val, X_test, Y_train, Y_val, Y_test"
   ]
  },
  {
   "cell_type": "markdown",
   "id": "24c91527",
   "metadata": {},
   "source": [
    "<div style=\"background-color:#AABAB2; color: black; vertical-align: middle; padding:15px; margin: 10px; border-radius: 10px; width: 95%\">\n",
    "<p>\n",
    "<b>Task 3.2:</b>   \n",
    "\n",
    "Use your function to split the arrays <code>X</code> and <code>Y</code> from Task 1 into training, validation, and test sets. The split proportions should be **70%** for training, **10%** for validation, and **20%** for the test dataset.\n",
    "</p>\n",
    "</div>"
   ]
  },
  {
   "cell_type": "code",
   "execution_count": 10,
   "id": "8b8acd7e",
   "metadata": {},
   "outputs": [],
   "source": [
    "# split_proportions = YOUR_CODE_HERE\n",
    "# (X_train, X_val, X_test,\n",
    "#  Y_train, Y_val, Y_test) = split_data(YOUR_CODE_HERE)\n",
    "\n",
    "# Solution:\n",
    "split_proportions = [0.7, 0.1, 0.2]\n",
    "(X_train, X_val, X_test,\n",
    " Y_train, Y_val, Y_test) = split_data(X, Y, split_proportions)"
   ]
  },
  {
   "cell_type": "markdown",
   "id": "b1fef45f-8442-4616-a1e4-969845840dda",
   "metadata": {},
   "source": [
    "<div style=\"background-color:#AABAB2; color: black; vertical-align: middle; padding:15px; margin: 10px; border-radius: 10px; width: 95%\">\n",
    "<p>\n",
    "<b>Task 3.3:</b>   \n",
    "\n",
    "Run the cell below to check whether or not you have implemented the function correctly. The output will present a string output summarizing the number of data allocated to each set, whereas the figure will use colors to illustrate whether or not the values were shuffled in a random way.\n",
    "</p>\n",
    "</div>"
   ]
  },
  {
   "cell_type": "code",
   "execution_count": 11,
   "id": "d8284a02-fd0a-4324-9bd0-764b46455413",
   "metadata": {},
   "outputs": [
    {
     "name": "stdout",
     "output_type": "stream",
     "text": [
      "The number of data in each set is:\n",
      "       training: 70\n",
      "     validation: 10\n",
      "        testing: 20\n",
      "  none of above: 0\n"
     ]
    },
    {
     "data": {
      "image/png": "[encoded data removed]",
      "text/plain": [
       "<Figure size 640x480 with 1 Axes>"
      ]
     },
     "metadata": {},
     "output_type": "display_data"
    }
   ],
   "source": [
    "def plot_allocation(X, Y,\n",
    "                    X_train, X_val, X_test,\n",
    "                    Y_train, Y_val, Y_test):\n",
    "\n",
    "    set_of_X_and_Y = np.hstack((X,Y.reshape((100,1))))\n",
    "    # use many (arbitrary) columns to make plot wider\n",
    "    which_set_am_i = np.zeros((len(Y), 75))\n",
    "    \n",
    "    for i in range(len(X_train)):\n",
    "        matching_rows = np.all(X==X_train[i], axis=1)\n",
    "        which_set_am_i[np.where(matching_rows)[0],:] = 1\n",
    "    for i in range(len(X_val)):\n",
    "        matching_rows = np.all(X==X_val[i], axis=1)\n",
    "        which_set_am_i[np.where(matching_rows)[0],:] = 2\n",
    "\n",
    "    for i in range(len(X_test)):\n",
    "        matching_rows = np.all(X==X_test[i], axis=1)\n",
    "        which_set_am_i[np.where(matching_rows)[0],:] = 3\n",
    "        \n",
    "    fig, ax = plt.subplots()\n",
    "    ax.imshow(which_set_am_i)\n",
    "\n",
    "    ax.set_title('Colors indicate how data is split')\n",
    "    ax.set_xlabel('Width is arbitrary')\n",
    "    ax.set_ylabel('Row of original data set')\n",
    "    \n",
    "    print('The number of data in each set is:')\n",
    "    print(f'       training: {sum(which_set_am_i[:,0]==1)}')\n",
    "    print(f'     validation: {sum(which_set_am_i[:,0]==2)}')\n",
    "    print(f'        testing: {sum(which_set_am_i[:,0]==3)}')\n",
    "    print(f'  none of above: {sum(which_set_am_i[:,0]==0)}')\n",
    "\n",
    "plot_allocation(X, Y,\n",
    "                X_train, X_val, X_test,\n",
    "                Y_train, Y_val, Y_test)"
   ]
  },
  {
   "cell_type": "markdown",
   "id": "db00b26a",
   "metadata": {},
   "source": [
    "**End of notebook.**\n",
    "\n",
    "<div style=\"margin-top: 50px; padding-top: 20px; border-top: 1px solid #ccc;\">\n",
    "  <div style=\"display: flex; justify-content: flex-end; gap: 20px; align-items: center;\">\n",
    "    <a rel=\"MUDE\" href=\"http://mude.citg.tudelft.nl/\">\n",
    "      <img alt=\"MUDE\" style=\"width:100px; height:auto;\" src=\"https://gitlab.tudelft.nl/mude/public/-/raw/main/mude-logo/MUDE_Logo-small.png\" />\n",
    "    </a>\n",
    "    <a rel=\"TU Delft\" href=\"https://www.tudelft.nl/en/ceg\">\n",
    "      <img alt=\"TU Delft\" style=\"width:100px; height:auto;\" src=\"https://gitlab.tudelft.nl/mude/public/-/raw/main/tu-logo/TU_P1_full-color.png\" />\n",
    "    </a>\n",
    "    <a rel=\"license\" href=\"http://creativecommons.org/licenses/by/4.0/\">\n",
    "      <img alt=\"Creative Commons License\" style=\"width:88px; height:auto;\" src=\"https://i.creativecommons.org/l/by/4.0/88x31.png\" />\n",
    "    </a>\n",
    "  </div>\n",
    "  <div style=\"font-size: 75%; margin-top: 10px; text-align: right;\">\n",
    "    &copy; Copyright 2024 <a rel=\"MUDE\" href=\"http://mude.citg.tudelft.nl/\">MUDE</a> TU Delft. \n",
    "    This work is licensed under a <a rel=\"license\" href=\"http://creativecommons.org/licenses/by/4.0/\">CC BY 4.0 License</a>.\n",
    "  </div>\n",
    "</div>\n",
    "\n",
    "\n",
    "<!--tested with WS_2_8_solution.ipynb-->"
   ]
  }
 ],
 "metadata": {
  "kernelspec": {
   "display_name": "mude-base",
   "language": "python",
   "name": "python3"
  },
  "language_info": {
   "codemirror_mode": {
    "name": "ipython",
    "version": 3
   },
   "file_extension": ".py",
   "mimetype": "text/x-python",
   "name": "python",
   "nbconvert_exporter": "python",
   "pygments_lexer": "ipython3",
   "version": "3.12.3"
  }
 },
 "nbformat": 4,
 "nbformat_minor": 5
}
