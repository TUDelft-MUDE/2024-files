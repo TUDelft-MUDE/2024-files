{
 "cells": [
  {
   "cell_type": "markdown",
   "metadata": {
    "tags": []
   },
   "source": [
    "# Workshop 2: Is it Melting?\n",
    "\n",
    "<h1 style=\"position: absolute; display: flex; flex-grow: 0; flex-shrink: 0; flex-direction: row-reverse; top: 60px;right: 30px; margin: 0; border: 0\">\n",
    "    <style>\n",
    "        .markdown {width:100%; position: relative}\n",
    "        article { position: relative }\n",
    "    </style>\n",
    "    <img src=\"https://gitlab.tudelft.nl/mude/public/-/raw/main/tu-logo/TU_P1_full-color.png\" style=\"width:100px; height: auto; margin: 0\" />\n",
    "    <img src=\"https://gitlab.tudelft.nl/mude/public/-/raw/main/mude-logo/MUDE_Logo-small.png\" style=\"width:100px; height: auto; margin: 0\" />\n",
    "</h1>\n",
    "<h2 style=\"height: 10px\">\n",
    "</h2>\n",
    "\n",
    "*[CEGM1000 MUDE](http://mude.citg.tudelft.nl/): Week 1.3. Wednesday, Sep 18, 2024.*"
   ]
  },
  {
   "cell_type": "markdown",
   "metadata": {},
   "source": [
    "In this notebook you will fit a model to a time series of height observations of a point on a glacier, to assess whether it is melting. \n",
    "\n",
    "**Learning objectives:**\n",
    "- apply least-squares (LS) and best linear unbiased (BLU) estimation\n",
    "- evaluate the precision of the estimated parameters\n",
    "- discuss the differences between least-squares and best linear unbiased estimation"
   ]
  },
  {
   "cell_type": "markdown",
   "metadata": {},
   "source": [
    "You have 12 monthly measurements of the height of a point on a glacier. The measurements are obtained from a satellite laser altimeter. The observations are given in the code below.\n",
    "\n",
    "We will fit a model assuming a linear trend (constant velocity) to account for the melting, plus an annual signal due to the seasonal impact on ice. Formulating a generalized form of this model is part of your task below. Note, however, that the periodic signal can be implemented in many ways. For this assignment you can assume that the periodic term is implemented as follows:\n",
    "\n",
    "$$\n",
    "\\cos(2 \\pi t / 12 + \\phi)\n",
    "$$\n",
    "\n",
    "where $\\phi$ is the phase angle, which we will assume is 0 for this workshop and will leave out of the model formulation in order to keep our model linear (i.e., leave the $\\phi$ out of the A-matrix).\n",
    "\n",
    "The precision (1 $\\sigma$) of the first six observations is 0.7 meter, the last six observations have a precision of 2 meter due to a change in the settings of the instrument. All observations are mutually independent."
   ]
  },
  {
   "cell_type": "markdown",
   "metadata": {},
   "source": [
    "<div style=\"background-color:#FAE99E; color: black; width:95%; vertical-align: middle; padding:15px; margin: 10px; border-radius: 10px\">\n",
    "<p>\n",
    "\n",
    "$\\textbf{Solution (note)}$\n",
    "\n",
    "One goal of the assignment was to formulate the model yourself (via the A-matrix). The complete form can also be described using the following analytic expression:\n",
    "\n",
    "$$\n",
    "y = x_1 + x_2 t + x_3cos(2 \\pi t / 12 + \\phi)\n",
    "$$\n",
    "\n",
    "Although it may initially seem that the periodic term leaves out the amplitude, you should recognize that the amplitude is in fact implicitly included in the model due to the way $x_3$ is included in the A matrix (i.e., as a linear parameter with the cosine term).\n",
    "\n",
    "It is important to confirm that your own A-matrix (found during the session) includes all three terms as illustrated above.\n",
    "\n",
    "Note also that this formulation was part of the reading in the textbook in the exercise page of the Least Squares chapter (3.2). <a href=\"https://mude.citg.tudelft.nl/2024/book/observation_theory/02_LeastSquares_NB.html\" target=\"_blank\">Here is a link</a>.\n",
    "\n",
    "\n",
    "\n",
    "</p>\n",
    "</div>"
   ]
  },
  {
   "cell_type": "code",
   "execution_count": 11,
   "metadata": {},
   "outputs": [],
   "source": [
    "import numpy as np\n",
    "from scipy.stats import norm\n",
    "import matplotlib.pyplot as plt\n",
    "\n",
    "\n",
    "# this will print all float arrays with 3 decimal places\n",
    "float_formatter = \"{:.3f}\".format\n",
    "np.set_printoptions(formatter={'float_kind':float_formatter})\n",
    "\n"
   ]
  },
  {
   "cell_type": "markdown",
   "metadata": {},
   "source": [
    "## Part 1: Observation model\n",
    "\n",
    "First we will construct the observation model, based on the following information that is provided: times of observations, observed heights and number of observations. "
   ]
  },
  {
   "cell_type": "markdown",
   "metadata": {},
   "source": [
    "<div style=\"background-color:#AABAB2; color: black; width:95%; vertical-align: middle; padding:15px; margin: 10px; border-radius: 10px\">\n",
    "<p>\n",
    "\n",
    "$\\textbf{Task 1.1}:$\n",
    "\n",
    "Complete the definition of the observation time array <code>times</code> and define the other variables such that the print statements correctly describe the design matrix <code>A</code>.\n",
    "\n",
    "<em>Use <code>times=0</code> as the first point.</em>\n",
    "</p>\n",
    "</div>"
   ]
  },
  {
   "cell_type": "code",
   "execution_count": 2,
   "metadata": {},
   "outputs": [
    {
     "name": "stdout",
     "output_type": "stream",
     "text": [
      "Dimensions of the design matrix A:\n",
      "   12 rows\n",
      "    3 columns\n"
     ]
    }
   ],
   "source": [
    "y = [59.82, 57.20, 59.09, 59.49, 59.68, 59.34, 60.95, 59.34, 55.38, 54.33, 48.71, 48.47]\n",
    "\n",
    "# times = YOUR_CODE_HERE\n",
    "# number_of_observations = YOUR_CODE_HERE\n",
    "# number_of_parameters = YOUR_CODE_HERE\n",
    "# print(f'Dimensions of the design matrix A:')\n",
    "# print(f'  {YOUR_CODE_HERE} rows')\n",
    "# print(f'  {YOUR_CODE_HERE} columns')\n",
    "\n",
    "# SOLUTION:\n",
    "times = np.arange(12)\n",
    "number_of_observations = len(times)\n",
    "number_of_parameters = 3\n",
    "\n",
    "# SOLUTION:\n",
    "print(f'Dimensions of the design matrix A:')\n",
    "print(f'  {number_of_observations:3d} rows')\n",
    "print(f'  {number_of_parameters:3d} columns')"
   ]
  },
  {
   "cell_type": "markdown",
   "metadata": {},
   "source": [
    "Next, we need to assemble the design matrix in Python. Rather than enter each value manually, we have a few tricks to make this easier. Here is an example Python cell that illustrates how one-dimensional arrays (i.e., columns or rows) can be assembled into a matrix in two ways:\n",
    "1. As diagonal elements, and \n",
    "2. As parallel elements (columns, in this case)\n",
    "\n",
    "Note also the use of `np.ones()` to quickly make a row or column of any size with the same values in each element."
   ]
  },
  {
   "cell_type": "code",
   "execution_count": 3,
   "metadata": {},
   "outputs": [
    {
     "name": "stdout",
     "output_type": "stream",
     "text": [
      "[[33333.000 0.000 0.000 0.000 0.000 0.000]\n",
      " [0.000 0.000 0.000 0.000 0.000 0.000]\n",
      " [0.000 0.000 0.000 0.000 0.000 0.000]\n",
      " [0.000 0.000 0.000 99999.000 0.000 0.000]\n",
      " [0.000 0.000 0.000 0.000 99999.000 0.000]\n",
      " [0.000 0.000 0.000 0.000 0.000 99999.000]] \n",
      "\n",
      " [[33333.000 99999.000]\n",
      " [0.000 99999.000]\n",
      " [0.000 99999.000]]\n"
     ]
    }
   ],
   "source": [
    "column_1 = np.array([33333, 0, 0])\n",
    "column_2 = 99999*np.ones(3)\n",
    "\n",
    "example_1 = np.diagflat([column_1, column_2])\n",
    "example_2 = np.column_stack((column_1, column_2))\n",
    "\n",
    "print(example_1, '\\n\\n', example_2)\n"
   ]
  },
  {
   "cell_type": "markdown",
   "metadata": {},
   "source": [
    "<div style=\"background-color:#facb8e; color: black; vertical-align: middle; padding:15px; margin: 10px; border-radius: 10px; width: 95%\"> <p>See documentation on <a href=\"https://numpy.org/doc/stable/reference/generated/numpy.diagflat.html#numpy.diagflat\" target=\"_blank\">np.diagflat</a> and <a href=\"https://numpy.org/doc/stable/reference/generated/numpy.column_stack.html\" target=\"_blank\">np.column_stack</a> if you would like to understand more about these Numpy methods.</p></div>"
   ]
  },
  {
   "cell_type": "markdown",
   "metadata": {},
   "source": [
    "<div style=\"background-color:#AABAB2; color: black; width:95%; vertical-align: middle; padding:15px; margin: 10px; border-radius: 10px\">\n",
    "<p>\n",
    "\n",
    "$\\textbf{Task 1.2}:$\n",
    "\n",
    "Complete the $\\mathrm{A}$-matrix (design matrix) and covariance matrix $\\Sigma_Y$ (stochastic model) as a linear trend with an annual signal. The <code>assert</code> statement is used to confirm that the dimensions of your design matrix are correct (an error will occur if not).\n",
    "</p>\n",
    "</div>"
   ]
  },
  {
   "cell_type": "code",
   "execution_count": 4,
   "metadata": {},
   "outputs": [],
   "source": [
    "# A = YOUR_CODE_HERE\n",
    "# Sigma_Y = YOUR_CODE_HERE\n",
    "\n",
    "# SOLUTION: \n",
    "A = np.column_stack((np.ones(number_of_observations),\n",
    "                     times,\n",
    "                     np.cos(2*np.pi*times/12)))\n",
    "diag_1 = 0.7**2 * np.ones((1,6))\n",
    "diag_2 = 2**2 * np.ones((1,6))\n",
    "Sigma_Y = np.diagflat([diag_1,\n",
    "                       diag_2])\n",
    "\n",
    "assert A.shape == (number_of_observations, number_of_parameters)"
   ]
  },
  {
   "cell_type": "markdown",
   "metadata": {},
   "source": [
    "## 2. Least-squares and Best linear unbiased (BLU) estimation\n",
    "\n",
    "The BLU estimator is a *linear* and *unbiased* estimator, which provides the *best* precision, where:\n",
    "\n",
    "- linear estimation: $\\hat{X}$ is a linear function of the observables $Y$,\n",
    "- unbiased estimation: $\\mathbb{E}(\\hat{X})=\\mathrm{x}$,\n",
    "- best precision: sum of variances, $\\sum_i \\sigma_{\\hat{x}_i}^2$, is minimized.\n",
    "\n",
    "The solution $\\hat{X}$ is obtained as:\n",
    "$$\n",
    "\\hat{X} = \\left(\\mathrm{A}^T\\Sigma_Y^{-1} \\mathrm{A} \\right)^{-1} \\mathrm{A}^T\\Sigma_Y^{-1}Y\n",
    "$$\n",
    "Note that here we are looking at the *estimator*, which is random, since it is expressed as a function of the observable vector $Y$. Once we have a realization $y$ of $Y$, the estimate $\\hat{\\mathrm{x}}$ can be computed.\n",
    "\n",
    "It can be shown that the covariance matrix of $\\hat{X}$ is given by:\n",
    "$$\n",
    "\\Sigma_{\\hat{X}} = \\left(\\mathrm{A}^T\\Sigma_Y^{-1} \\mathrm{A} \\right)^{-1}\n",
    "$$"
   ]
  },
  {
   "cell_type": "markdown",
   "metadata": {},
   "source": [
    "<div style=\"background-color:#AABAB2; color: black; width:95%; vertical-align: middle; padding:15px; margin: 10px; border-radius: 10px\">\n",
    "<p>\n",
    "\n",
    "$\\textbf{Task 2.1}$\n",
    "\n",
    "Apply least-squares, and best linear unbiased estimation to estimate $\\mathrm{x}$. The code cell below outlines how you should compute the inverse of $\\Sigma_Y$. Compute the least squares estimates then the best linear unbiased estimate.\n",
    "</p>\n",
    "</div>"
   ]
  },
  {
   "cell_type": "markdown",
   "metadata": {},
   "source": [
    "<div style=\"background-color:#facb8e; color: black; vertical-align: middle; padding:15px; margin: 10px; border-radius: 10px; width: 95%\"> <p>Remember that the <code>@</code> operator (matmul operator) can be used to easily carry out matrix multiplication for Numpy arrays. The transpose method of an array, <code>my_array.T</code>, is also useful.</p></div>"
   ]
  },
  {
   "cell_type": "code",
   "execution_count": 5,
   "metadata": {},
   "outputs": [
    {
     "name": "stdout",
     "output_type": "stream",
     "text": [
      "LS estimates in [m], [m/month], [m], resp.:\t [62.569 -1.046 -3.717]\n",
      "BLU estimates in [m], [m/month], [m], resp.:\t [62.318 -1.043 -3.235]\n"
     ]
    }
   ],
   "source": [
    "inv_Sigma_Y = np.linalg.inv(Sigma_Y)\n",
    "\n",
    "# xhat_LS = YOUR_CODE_HERE\n",
    "# xhat_BLU = YOUR_CODE_HERE\n",
    "\n",
    "# SOLUTION: \n",
    "xhat_LS = np.linalg.inv(A.T @ A) @ A.T @ y\n",
    "xhat_BLU = np.linalg.inv(A.T @ inv_Sigma_Y @ A) @ A.T @ inv_Sigma_Y @ y\n",
    "\n",
    "print('LS estimates in [m], [m/month], [m], resp.:\\t', xhat_LS)\n",
    "print('BLU estimates in [m], [m/month], [m], resp.:\\t', xhat_BLU)"
   ]
  },
  {
   "cell_type": "markdown",
   "metadata": {},
   "source": [
    "<div style=\"background-color:#AABAB2; color: black; width:95%; vertical-align: middle; padding:15px; margin: 10px; border-radius: 10px\">\n",
    "<p>\n",
    "<b>Task 2.2:</b>   \n",
    "The covariance matrix of least-squares can be obtained as well by applying the covariance propagation law.\n",
    "Calculate the covariance matrix and vector with standard deviations of both the least-squares and BLU estimates. What is the precision of the estimated parameters? The diagonal of a matrix can be extracted with <a href=\"https://numpy.org/doc/stable/reference/generated/numpy.diagonal.html#numpy.diagonal\" target=\"_blank\">np.diagonal</a>.\n",
    "</p>\n",
    "</div>"
   ]
  },
  {
   "cell_type": "markdown",
   "metadata": {},
   "source": [
    "<div style=\"background-color:#facb8e; color: black; vertical-align: middle; padding:15px; margin: 10px; border-radius: 10px; width: 95%\"> <p><em>Hint: define an intermediate variable first to collect some of the repetitive matrix terms.</em></p></div>"
   ]
  },
  {
   "cell_type": "code",
   "execution_count": 6,
   "metadata": {},
   "outputs": [
    {
     "name": "stdout",
     "output_type": "stream",
     "text": [
      "Precision of LS  estimates in [m], [m/month], [m], resp.: [0.602 0.138 0.673]\n",
      "Precision of BLU estimates in [m], [m/month], [m], resp.: [0.545 0.137 0.498]\n"
     ]
    }
   ],
   "source": [
    "# LT = YOUR_CODE_HERE\n",
    "# Sigma_xhat_LS = LT YOUR_CODE_HERE\n",
    "# std_xhat_LS = YOUR_CODE_HERE\n",
    "\n",
    "# SOLUTION: \n",
    "LT = np.linalg.inv(A.T @ A) @ A.T\n",
    "Sigma_xhat_LS = LT @ Sigma_Y @ LT.T\n",
    "std_xhat_LS = np.sqrt(np.diag(Sigma_xhat_LS))\n",
    "\n",
    "\n",
    "# Sigma_xhat_BLU = YOUR_CODE_HERE\n",
    "# std_xhat_BLU = YOUR_CODE_HERE\n",
    "\n",
    "# SOLUTION: \n",
    "Sigma_xhat_BLU = np.linalg.inv(A.T @ inv_Sigma_Y @ A)\n",
    "std_xhat_BLU = np.sqrt(np.diagonal(Sigma_xhat_BLU))\n",
    "\n",
    "print(f'Precision of LS  estimates in [m], [m/month], [m], resp.:', std_xhat_LS)\n",
    "print(f'Precision of BLU estimates in [m], [m/month], [m], resp.:', std_xhat_BLU)"
   ]
  },
  {
   "cell_type": "markdown",
   "metadata": {},
   "source": [
    "<div style=\"background-color:#AABAB2; color: black; width:95%; vertical-align: middle; padding:15px; margin: 10px; border-radius: 10px\">\n",
    "<p>\n",
    "<b>Task 2.3:</b>   \n",
    "We are mostly interested in the melting rate. Discuss the estimated melting rate with respect to its precision.\n",
    "</p>\n",
    "</div>"
   ]
  },
  {
   "cell_type": "markdown",
   "metadata": {},
   "source": [
    "_Write your answer here._"
   ]
  },
  {
   "cell_type": "markdown",
   "metadata": {},
   "source": [
    "<div style=\"background-color:#FAE99E; color: black; width:95%; vertical-align: middle; padding:15px; margin: 10px; border-radius: 10px\">\n",
    "<p> \n",
    "The melting rate is approximately -1.03 m/month (estimated with BLU), and its precision is around 0.14 m/month, so the estimated signal is large compared to the uncertainty (<em>signal-to-noise ratio</em> is about 1.03/0.14 = 7.5).\n",
    "</p>\n",
    "</div>"
   ]
  },
  {
   "cell_type": "markdown",
   "metadata": {},
   "source": [
    "## 3. Residuals and plot with observations and fitted models.\n",
    "\n",
    "Run the code below (no changes needed) to calculate the weighted squared norm of residuals with both estimation methods, and create plots of the observations and fitted models. "
   ]
  },
  {
   "cell_type": "code",
   "execution_count": 7,
   "metadata": {},
   "outputs": [
    {
     "name": "stdout",
     "output_type": "stream",
     "text": [
      "Weighted squared norm of residuals with LS  estimation: 10.438\n",
      "Weighted squared norm of residuals with BLU estimation: 8.147\n"
     ]
    },
    {
     "data": {
      "image/png": "[encoded data removed]",
      "text/plain": [
       "<Figure size 640x480 with 1 Axes>"
      ]
     },
     "metadata": {},
     "output_type": "display_data"
    }
   ],
   "source": [
    "eTe_LS = (y - A @ xhat_LS).T @ (y - A @ xhat_LS)\n",
    "eTe_BLU = (y - A @ xhat_BLU).T @ inv_Sigma_Y @ (y - A @ xhat_BLU)\n",
    "\n",
    "print(f'Weighted squared norm of residuals with LS  estimation: {eTe_LS:.3f}')\n",
    "print(f'Weighted squared norm of residuals with BLU estimation: {eTe_BLU:.3f}')\n",
    "\n",
    "plt.figure()\n",
    "plt.rc('font', size=14)\n",
    "plt.plot(times, y, 'kx', label='observations')\n",
    "plt.plot(times, A @ xhat_LS, color='r', label='LS')\n",
    "plt.plot(times, A @ xhat_BLU, color='b', label='BLU')\n",
    "plt.xlim(-0.2, (number_of_observations - 1) + 0.2)\n",
    "plt.xlabel('time [months]')\n",
    "plt.ylabel('height [meters]')\n",
    "plt.legend(loc='best');"
   ]
  },
  {
   "cell_type": "markdown",
   "metadata": {},
   "source": [
    "<div style=\"background-color:#AABAB2; color: black; width:95%; vertical-align: middle; padding:15px; margin: 10px; border-radius: 10px\">\n",
    "<p>\n",
    "<b>Task 3.1:</b>   \n",
    "<ul>\n",
    "    <li>Explain the difference between the fitted models.</li>\n",
    "    <li>Can we see from this figure which model fits better (without information about the stochastic model)?</li>\n",
    "</ul>\n",
    "</p>\n",
    "</div>"
   ]
  },
  {
   "cell_type": "markdown",
   "metadata": {},
   "source": [
    "_Write your answer here._"
   ]
  },
  {
   "cell_type": "markdown",
   "metadata": {},
   "source": [
    "<div style=\"background-color:#FAE99E; color: black; width:95%; vertical-align: middle; padding:15px; margin: 10px; border-radius: 10px\">\n",
    "<p> \n",
    "<ul>\n",
    "    <li>With LS we give equal weight to all observations, while with BLU the first six observations get larger weight and therefore the fitted line is closer to those observations such that the corresponding residuals are smaller.</li>\n",
    "    <li>By only looking at figure, we cannot conclude which model fits better, since it does not show that some observations are more precise than others. Therefore we often add error bars.</li>\n",
    "</ul>\n",
    "\n",
    "</p>\n",
    "</div>\n",
    "\n",
    "   "
   ]
  },
  {
   "cell_type": "markdown",
   "metadata": {},
   "source": [
    "## 4. Confidence bounds\n",
    "In the code below you need to calculate the confidence bounds, e.g., ```CI_yhat_BLU``` is a vector with the values $k\\cdot\\sigma_{\\hat{y}_i}$ for BLUE. This will then be used to plot the confidence intervals:\n",
    "$$\n",
    "\\hat{y}_i \\pm k\\cdot\\sigma_{\\hat{y}_i}\n",
    "$$\n",
    "\n",
    "Recall that $k$ can be calculated from $P(Z < k) = 1-\\frac{1}{2}\\alpha$. "
   ]
  },
  {
   "cell_type": "markdown",
   "metadata": {},
   "source": [
    "<div style=\"background-color:#AABAB2; color: black; width:95%; vertical-align: middle; padding:15px; margin: 10px; border-radius: 10px\">\n",
    "<p>\n",
    "\n",
    "$\\textbf{Task 4.1}$\n",
    "\n",
    "Complete the code below to calculate the 98% confidence intervals of both the observations $y$ <b>and</b> the adjusted observations $\\hat{y}$ (model values for both LS and BLU).\n",
    "    \n",
    "Use <code>norm.ppf</code> to compute $k_{98}$. Also try different percentages.\n",
    "</p>\n",
    "</div>"
   ]
  },
  {
   "cell_type": "code",
   "execution_count": 8,
   "metadata": {},
   "outputs": [],
   "source": [
    "# yhat_LS = YOUR_CODE_HERE\n",
    "# Sigma_Yhat_LS = YOUR_CODE_HERE\n",
    "# yhat_BLU = YOUR_CODE_HERE\n",
    "# Sigma_Yhat_BLU = YOUR_CODE_HERE\n",
    "\n",
    "# SOLUTION:\n",
    "yhat_LS = A @ xhat_LS\n",
    "Sigma_Yhat_LS = A @ Sigma_xhat_LS @ A.T\n",
    "yhat_BLU = A @ xhat_BLU\n",
    "Sigma_Yhat_BLU = A @ Sigma_xhat_BLU @ A.T\n",
    "\n",
    "\n",
    "# alpha = YOUR_CODE_HERE\n",
    "# k98 = YOUR_CODE_HERE\n",
    "\n",
    "# SOLUTION: \n",
    "alpha = 0.02\n",
    "k98 = norm.ppf(1 - 0.5*alpha)\n",
    "\n",
    "# CI_y = YOUR_CODE_HERE\n",
    "# CI_yhat_LS = YOUR_CODE_HERE\n",
    "# CI_yhat_BLU = YOUR_CODE_HERE\n",
    "\n",
    "# SOLUTION: \n",
    "CI_y = k98 * np.sqrt(np.diagonal(Sigma_Y))\n",
    "CI_yhat_LS = k98 * np.sqrt(np.diagonal(Sigma_Yhat_LS))\n",
    "CI_yhat_BLU = k98 * np.sqrt(np.diagonal(Sigma_Yhat_BLU))"
   ]
  },
  {
   "cell_type": "markdown",
   "metadata": {},
   "source": [
    "<div style=\"background-color:#facb8e; color: black; vertical-align: middle; padding:15px; margin: 10px; border-radius: 10px; width: 95%\"> <p><b>Tip:</b> don't forget to include a factor 0.5 (or 2) in your calculation of <code>k98</code> when using the inverse CDF <code>norm.ppf</code>.</p></div>"
   ]
  },
  {
   "cell_type": "markdown",
   "metadata": {},
   "source": [
    "You can directly run the code below to create the plots."
   ]
  },
  {
   "cell_type": "code",
   "execution_count": 9,
   "metadata": {
    "scrolled": true
   },
   "outputs": [
    {
     "data": {
      "image/png": "[encoded data removed]",
      "text/plain": [
       "<Figure size 1000x400 with 2 Axes>"
      ]
     },
     "metadata": {},
     "output_type": "display_data"
    }
   ],
   "source": [
    "plt.figure(figsize = (10,4))\n",
    "plt.rc('font', size=14)\n",
    "plt.subplot(121)\n",
    "plt.plot(times, y, 'kx', label='observations')\n",
    "plt.plot(times, yhat_LS, color='r', label='LS')\n",
    "plt.plot(times, yhat_LS + CI_yhat_LS, 'r:', label=f'{100*(1-alpha):.1f}% conf.')\n",
    "plt.plot(times, yhat_LS - CI_yhat_LS, 'r:')\n",
    "plt.xlabel('time [months]')\n",
    "plt.ylabel('height [meters]')\n",
    "plt.legend(loc='best')\n",
    "plt.subplot(122)\n",
    "plt.plot(times, y, 'kx', label='observations')\n",
    "plt.errorbar(times, y, yerr = CI_y, fmt='', capsize=5, linestyle='', color='blue', alpha=0.6)\n",
    "plt.plot(times, yhat_BLU, color='b', label='BLU')\n",
    "plt.plot(times, yhat_BLU + CI_yhat_BLU, 'b:', label=f'{100*(1-alpha):.1f}% conf.')\n",
    "plt.plot(times, yhat_BLU - CI_yhat_BLU, 'b:')\n",
    "plt.xlim(-0.2, (number_of_observations - 1) + 0.2)\n",
    "plt.xlabel('time [months]')\n",
    "plt.legend(loc='best');"
   ]
  },
  {
   "cell_type": "markdown",
   "metadata": {},
   "source": [
    "<div style=\"background-color:#AABAB2; color: black; width:95%; vertical-align: middle; padding:15px; margin: 10px; border-radius: 10px\">\n",
    "<p>\n",
    "<b>Task 4.2:</b> \n",
    "Discuss the shape of the confidence bounds. Do you think the model (linear trend + annual signal) is a good choice?\n",
    "</p>\n",
    "</div>"
   ]
  },
  {
   "cell_type": "markdown",
   "metadata": {},
   "source": [
    "_Write your answer here._"
   ]
  },
  {
   "cell_type": "markdown",
   "metadata": {},
   "source": [
    "<div style=\"background-color:#FAE99E; color: black; width:95%; vertical-align: middle; padding:15px; margin: 10px; border-radius: 10px\">\n",
    "<p>\n",
    "\n",
    "The LS method does not take into account the precision of the observations; this is why there are no error bars plotted on the left figure.\n",
    "\n",
    "By including the precision of the observations (the error bars in the right figure), as done in the BLU method, you can better assess whether the fit is good.\n",
    "\n",
    "With BLU: higher precision of first 6 observations, results in tighter confidence intervals as expected. \n",
    "\n",
    "Similarly as with a linear trend, you can observe a 'widening' towards to end, the uncertainty in the fitted model is increasing since there is less 'support' from observations on both sides. \n",
    "\n",
    "Overall the fitted model seems a good choice: it follows the observations nicely and confidence region seems not too wide compared to the fitted model trend.\n",
    "\n",
    "Note that for the LS case we use the covariance matrix of the observations; if we had this information to begin with in practice we would <em>not</em> want to use the LS method, as BLU can take it into account in a more complete way. We do it here to compare LS and BLU and to illustrate how the computed model and confidence intervals are improved (more narrow CI) when using BLU.\n",
    "\n",
    "</p>\n",
    "</div>\n",
    "\n"
   ]
  },
  {
   "cell_type": "markdown",
   "metadata": {},
   "source": [
    "<div style=\"background-color:#AABAB2; color: black; width:95%; vertical-align: middle; padding:15px; margin: 10px; border-radius: 10px\">\n",
    "<p>\n",
    "<b>Task 4.3:</b> \n",
    "What is the BLU-estimated melting rate and the amplitude of the annual signal and their 98% confidence interval? Hint: extract the estimated values and standard deviations from <code>xhat_BLU</code> and <code>std_xhat_BLU</code>, respectively.\n",
    "</p>\n",
    "</div>"
   ]
  },
  {
   "cell_type": "code",
   "execution_count": 10,
   "metadata": {},
   "outputs": [
    {
     "name": "stdout",
     "output_type": "stream",
     "text": [
      "The melting rate is -1.043 ± 0.318 m/month (98% confidence level)\n",
      "The amplitude of the annual signal is -3.235 ± 1.158 m (98% confidence level)\n"
     ]
    }
   ],
   "source": [
    "# rate =YOUR_CODE_HERE\n",
    "# CI_rate = YOUR_CODE_HERE\n",
    "\n",
    "# SOLUTION: \n",
    "rate = xhat_BLU[1]\n",
    "CI_rate = k98 * std_xhat_BLU[1]\n",
    "\n",
    "# amplitude = YOUR_CODE_HERE\n",
    "# CI_amplitude = YOUR_CODE_HERE\n",
    "\n",
    "# SOLUTION: \n",
    "amplitude = xhat_BLU[2]\n",
    "CI_amplitude = k98 * std_xhat_BLU[2]\n",
    "\n",
    "print(f'The melting rate is {rate:.3f} ± {CI_rate:.3f} m/month (98% confidence level)')\n",
    "print(f'The amplitude of the annual signal is {amplitude:.3f} ± {CI_amplitude:.3f} m (98% confidence level)')"
   ]
  },
  {
   "cell_type": "markdown",
   "metadata": {},
   "source": [
    "<div style=\"background-color:#AABAB2; color: black; width:95%; vertical-align: middle; padding:15px; margin: 10px; border-radius: 10px\">\n",
    "<p>\n",
    "<b>Task 4.4:</b> \n",
    "Can we conclude the glacier is melting due to climate change?\n",
    "</p>\n",
    "</div>"
   ]
  },
  {
   "cell_type": "markdown",
   "metadata": {},
   "source": [
    "_Write your answer here._"
   ]
  },
  {
   "cell_type": "markdown",
   "metadata": {},
   "source": [
    "<div style=\"background-color:#FAE99E; color: black; width:95%; vertical-align: middle; padding:15px; margin: 10px; border-radius: 10px\">\n",
    "<p>\n",
    "<ul>\n",
    "<li>the melting rate is signficant</li>\n",
    "<li>however, the seasonal signal is quite large compared to the rate and has large uncertainty</li>\n",
    "<li>need much longer time span to draw firm conclusions</li>\n",
    "</ul>\n",
    "</p>\n",
    "</div>\n",
    "\n",
    "\n"
   ]
  },
  {
   "cell_type": "markdown",
   "id": "2512a67c",
   "metadata": {},
   "source": [
    "**End of notebook.**\n",
    "\n",
    "<div style=\"margin-top: 50px; padding-top: 20px; border-top: 1px solid #ccc;\">\n",
    "  <div style=\"display: flex; justify-content: flex-end; gap: 20px; align-items: center;\">\n",
    "    <a rel=\"MUDE\" href=\"http://mude.citg.tudelft.nl/\">\n",
    "      <img alt=\"MUDE\" style=\"width:100px; height:auto;\" src=\"https://gitlab.tudelft.nl/mude/public/-/raw/main/mude-logo/MUDE_Logo-small.png\" />\n",
    "    </a>\n",
    "    <a rel=\"TU Delft\" href=\"https://www.tudelft.nl/en/ceg\">\n",
    "      <img alt=\"TU Delft\" style=\"width:100px; height:auto;\" src=\"https://gitlab.tudelft.nl/mude/public/-/raw/main/tu-logo/TU_P1_full-color.png\" />\n",
    "    </a>\n",
    "    <a rel=\"license\" href=\"http://creativecommons.org/licenses/by/4.0/\">\n",
    "      <img alt=\"Creative Commons License\" style=\"width:88px; height:auto;\" src=\"https://i.creativecommons.org/l/by/4.0/88x31.png\" />\n",
    "    </a>\n",
    "  </div>\n",
    "  <div style=\"font-size: 75%; margin-top: 10px; text-align: right;\">\n",
    "    &copy; Copyright 2024 <a rel=\"MUDE\" href=\"http://mude.citg.tudelft.nl/\">MUDE</a> TU Delft. \n",
    "    This work is licensed under a <a rel=\"license\" href=\"http://creativecommons.org/licenses/by/4.0/\">CC BY 4.0 License</a>.\n",
    "  </div>\n",
    "</div>\n",
    "\n",
    "\n",
    "<!--tested with WS_2_8_solution.ipynb-->"
   ]
  }
 ],
 "metadata": {
  "kernelspec": {
   "display_name": "Python 3 (ipykernel)",
   "language": "python",
   "name": "python3"
  },
  "language_info": {
   "codemirror_mode": {
    "name": "ipython",
    "version": 3
   },
   "file_extension": ".py",
   "mimetype": "text/x-python",
   "name": "python",
   "nbconvert_exporter": "python",
   "pygments_lexer": "ipython3",
   "version": "3.12.4"
  },
  "latex_envs": {
   "LaTeX_envs_menu_present": true,
   "autoclose": false,
   "autocomplete": true,
   "bibliofile": "biblio.bib",
   "cite_by": "apalike",
   "current_citInitial": 1,
   "eqLabelWithNumbers": true,
   "eqNumInitial": 1,
   "hotkeys": {
    "equation": "Ctrl-E",
    "itemize": "Ctrl-I"
   },
   "labels_anchors": false,
   "latex_user_defs": false,
   "report_style_numbering": false,
   "user_envs_cfg": false
  },
  "vscode": {
   "interpreter": {
    "hash": "cf78f3d1bc82cb39ac7a1165ed20acb9158792c8f97b380f92edad57bf927ea3"
   }
  },
  "widgets": {
   "application/vnd.jupyter.widget-state+json": {
    "state": {},
    "version_major": 2,
    "version_minor": 0
   }
  }
 },
 "nbformat": 4,
 "nbformat_minor": 4
}
