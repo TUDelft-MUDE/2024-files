{
 "cells": [
  {
   "cell_type": "markdown",
   "metadata": {},
   "source": [
    "# WS 2.4: Atmospheric Pressure\n",
    "\n",
    "<h1 style=\"position: absolute; display: flex; flex-grow: 0; flex-shrink: 0; flex-direction: row-reverse; top: 60px;right: 30px; margin: 0; border: 0\">\n",
    "    <style>\n",
    "        .markdown {width:100%; position: relative}\n",
    "        article { position: relative }\n",
    "    </style>\n",
    "    <img src=\"https://gitlab.tudelft.nl/mude/public/-/raw/main/tu-logo/TU_P1_full-color.png\" style=\"width:100px\" />\n",
    "    <img src=\"https://gitlab.tudelft.nl/mude/public/-/raw/main/mude-logo/MUDE_Logo-small.png\" style=\"width:100px\" />\n",
    "</h1>\n",
    "<h2 style=\"height: 10px\">\n",
    "</h2>\n",
    "\n",
    "*[CEGM1000 MUDE](http://mude.citg.tudelft.nl/): Week 2.4, Time serie analysis. For: December 4, 2024*"
   ]
  },
  {
   "cell_type": "markdown",
   "metadata": {},
   "source": [
    "In this workshop we will analyze Atmospheric pressure data. The data is a time series of atmospheric pressure measurements over a period of 4 years, with measurements taken every 4 hours. The first column is the time in days, the second column is the atmospheric pressure in hPa.\n",
    "\n",
    "In this data we will analyze some time series data. We will first fit a functional model to the data in order to stationarize the data. Then we will fit an AR model to the residuals.\n",
    "\n",
    "We will start by loading the data and plotting it.\n",
    "\n"
   ]
  },
  {
   "cell_type": "markdown",
   "metadata": {},
   "source": [
    "## Part 0.1: Load the data and plot it\n",
    "This week we are using a new library called `statsmodels`. This library is very useful for time series analysis. If you don't have it installed, you can install it by running `!pip install statsmodels` in a code cell. You can also install it by running `pip install statsmodels` in a terminal of your choice (make sure you are in the right environment activated!)."
   ]
  },
  {
   "cell_type": "code",
   "execution_count": null,
   "metadata": {},
   "outputs": [],
   "source": [
    "# Importing the required libraries\n",
    "import numpy as np\n",
    "import matplotlib.pyplot as plt\n",
    "from statsmodels.graphics.tsaplots import plot_acf\n",
    "from scipy.stats import chi2\n",
    "from scipy.signal import periodogram"
   ]
  },
  {
   "cell_type": "code",
   "execution_count": null,
   "metadata": {},
   "outputs": [],
   "source": [
    "# Reading the data from the file\n",
    "data = np.loadtxt('atm_data.txt', delimiter=',')\n",
    "time = data[:, 0]\n",
    "data = data[:, 1]\n",
    "\n",
    "dt = YOUR_CODE_HERE # Time step\n",
    "fs = YOUR_CODE_HERE # Sampling frequency\n",
    "\n",
    "# Plotting the data\n",
    "plt.figure(figsize=(10, 3))\n",
    "plt.plot(time, data)\n",
    "plt.xlabel('Time [days]')\n",
    "plt.ylabel('Atmospheric Pressure [hPa]')\n",
    "plt.title('2 year of atmospheric pressure data')\n",
    "plt.grid(True)\n"
   ]
  },
  {
   "cell_type": "markdown",
   "metadata": {},
   "source": [
    "## Part 1: Finding the frequency of the seasonal pattern\n",
    "We clearly see that the data contains a seasonal pattern. We will start by fitting a functional model to the data in order to stationarize the data. To find the frequency of the seasonal pattern we will use the power spectrum of the data.\n",
    "\n",
    "The time series may be influenced by multiple periodic signals at different frequencies; therefore we will apply a method to find the dominant frequency, and then iteratively remove the corresponding signal from the data.\n",
    "\n",
    "We will create a function `find_frequency` that will take the data and an $\\mathrm{A}$-matrix as input and return the frequency of the most dominant periodic signal.\n",
    "\n",
    "The function will look like this:\n",
    "\n",
    "1. Using the $\\mathrm{A}$-matrix we will fit a model to the data using the BLUE method. \n",
    "2. We will calculate the PSD of the residuals of the model.\n",
    "3. We will find the frequency of the most dominant periodic signal in the PSD.\n",
    "4. Optional: we can plot the power spectrum of the data with the highest peak.\n",
    "\n"
   ]
  },
  {
   "cell_type": "markdown",
   "metadata": {},
   "source": [
    "\n",
    "We will write functions that return multiple parameters. We will use `_` to indicate that we are not interested in that parameter. For example, if we write `_, b = function(a)`, we are only interested in the second output of the function; The first output is not stored in a variable.\n"
   ]
  },
  {
   "cell_type": "markdown",
   "metadata": {},
   "source": [
    "### Part 1.1: write the necessary functions"
   ]
  },
  {
   "cell_type": "code",
   "execution_count": null,
   "metadata": {},
   "outputs": [],
   "source": [
    "def fit_model(data, time, A, plot=False):\n",
    "    '''\n",
    "    Function to find the Best Linear Unbiased Estimator\n",
    "    data: input data\n",
    "    time: time vector\n",
    "    A: A-matrix to fit the data\n",
    "    plot: boolean to plot the results or not\n",
    "    '''\n",
    "\n",
    "    # Finding the coefficients\n",
    "    x_hat = YOUR_CODE_HERE # least squares solution\n",
    "    y_hat = YOUR_CODE_HERE # model prediction\n",
    "    e_hat = YOUR_CODE_HERE # residuals\n",
    "\n",
    "    # Plotting the results\n",
    "    if plot:\n",
    "        plt.figure(figsize=(10, 5))\n",
    "        plt.subplot(211)\n",
    "        plt.plot(time, data, label='Data')\n",
    "        plt.plot(time, y_hat, label='Estimated data')\n",
    "        plt.xlabel('Time [days]')\n",
    "        plt.ylabel('Atmospheric Pressure [hPa]')\n",
    "        plt.title('Data vs Estimated data')\n",
    "        plt.grid(True)\n",
    "        plt.legend()\n",
    "        plt.subplot(212)\n",
    "        plt.plot(time, e_hat, label='Residuals')\n",
    "        plt.xlabel('Time [days]')\n",
    "        plt.ylabel('Atmospheric Pressure [hPa]')\n",
    "        plt.title('Residuals')\n",
    "        plt.grid(True)\n",
    "        plt.legend()\n",
    "        plt.tight_layout()\n",
    "\n",
    "    return x_hat, y_hat, e_hat\n",
    "\n",
    "def find_frequency(data, time, A, fs, plot=True):\n",
    "    '''\n",
    "    Function to find the dominant frequency of the signal\n",
    "    data: input data\n",
    "    time: time vector\n",
    "    A: A-matrix to detrend the data\n",
    "    fs: sampling frequency\n",
    "    plot: boolean to plot the psd or not\n",
    "    '''\n",
    "    # Detrending the data\n",
    "    _, _, e_hat= fit_model(data, time, A)\n",
    "\n",
    "    N = len(data)\n",
    "\n",
    "    # Finding the dominant frequency in e_hat\n",
    "    freqs, pxx = periodogram(YOUR_CODE_HERE, fs=YOUR_CODE_HERE, window='boxcar', nfft=N, return_onesided=False, scaling='density')\n",
    "\n",
    "    # finding the dominant frequency and amplitude\n",
    "    amplitude = YOUR_CODE_HERE # Amplitude of the dominant frequency\n",
    "    dominant_frequency = YOUR_CODE_HERE # Dominant frequency\n",
    "\n",
    "    # Plotting the PSD\n",
    "    if plot:\n",
    "        plt.figure(figsize=(10, 5))\n",
    "        plt.subplot(211)\n",
    "        plt.plot(e_hat)\n",
    "        plt.title('Residuals')\n",
    "        plt.ylabel('Atmospheric Pressure [hPa]')\n",
    "        plt.grid(True)\n",
    "        plt.subplot(212)\n",
    "        plt.plot(freqs[freqs>0], pxx[freqs>0], label='PSD of residuals')\n",
    "        plt.xlabel('Frequency')\n",
    "        plt.ylabel('PSD')\n",
    "        plt.title('Power Spectral Density')\n",
    "        plt.grid(True)\n",
    "        plt.plot(dominant_frequency, amplitude, 'ro', label='Dominant Frequency')\n",
    "        plt.yscale('log')\n",
    "        plt.xscale('log')\n",
    "        plt.legend()\n",
    "        plt.tight_layout()\n",
    "\n",
    "    return dominant_frequency\n"
   ]
  },
  {
   "cell_type": "markdown",
   "metadata": {},
   "source": [
    "<div style=\"background-color:#AABAB2; color: black; vertical-align: middle; padding:15px; margin: 10px; border-radius: 10px\">\n",
    "<p>\n",
    "How can we use the find_frequency function to find the frequency of all periodic pattern in the data? i.e. how can we iteratively detect the frequencies in the data?\n",
    "(hint: we should try to remove frequencies from the data once we have detected them)\n",
    "</p>\n",
    "</div>"
   ]
  },
  {
   "cell_type": "markdown",
   "metadata": {},
   "source": [
    "### Part 1.2\n",
    "Now we will run `find_frequency` repeatedly to find the frequencies in the data. For the first iteration we will use an $\\mathrm{A}$-matrix that will remove a linear trend from the data. When we have found a frequency we will also remove the corresponding signal from the data in the next iteration. "
   ]
  },
  {
   "cell_type": "code",
   "execution_count": null,
   "metadata": {},
   "outputs": [],
   "source": [
    "# Find the first dominant frequency\n",
    "\n",
    "A = YOUR_CODE_HERE # A-matrix for linear trend\n",
    "dom_f = find_frequency(YOUR_CODE_HERE)\n",
    "# print the dominant frequency, do not forget to convert it to useful units\n",
    "print(f'Dominant Frequency: {YOUR_CODE_HERE} [YOUR_CODE_HERE]')"
   ]
  },
  {
   "cell_type": "markdown",
   "metadata": {},
   "source": [
    "<div style=\"background-color:#AABAB2; color: black; vertical-align: middle; padding:15px; margin: 10px; border-radius: 10px\">\n",
    "<p>\n",
    "Looking back at the plot of the original time series, can you see the presence of the signal with this frequency?\n",
    "</p>\n",
    "</div>"
   ]
  },
  {
   "cell_type": "code",
   "execution_count": null,
   "metadata": {},
   "outputs": [],
   "source": [
    "# Repeat the process till you have removed all the dominant frequencies\n",
    "YOUR_CODE_HERE"
   ]
  },
  {
   "cell_type": "markdown",
   "metadata": {},
   "source": [
    "<div style=\"background-color:#AABAB2; color: black; vertical-align: middle; padding:15px; margin: 10px; border-radius: 10px\">\n",
    "<p>\n",
    "Describe the followed procedure above in your own words to explain how the dominant frequencies were determined. You can try with another iteration to see whether there is  periodic signal at another frequency that should be considered. \n",
    "\n",
    "For each step: do you think the corresponding time series (residuals) is stationary? Explain.\n",
    "\n",
    "How would you decide when to stop?\n",
    "</p>\n",
    "</div>"
   ]
  },
  {
   "cell_type": "markdown",
   "metadata": {},
   "source": [
    "## Fitting the functional model\n",
    "In the next cell we will fit the model to generate stationary residuals. Above we have used for each dominant frequency $f_i$ ($i=1,2$) the model:\n",
    "\n",
    "$$a_i  \\cos(2\\pi f_i  t) + b_i  \\sin(2\\pi f_i t)$$ \n",
    "\n",
    "However, to report the periodic signals we would like to have the amplitude, phase shift and the frequency of those signals, which can be recovered from:\n",
    "$$A_i  \\cos(2\\pi f_i  t + \\theta_i)$$\n",
    "Where the amplitude $A_i = \\sqrt{a_i^2 + b_i^2}$ and $\\theta_i = \\arctan(-b_i/a_i)$\n",
    "\n",
    "Note: in Section 4.1 book this was shown where the angular frequency $\\omega = 2\\pi f$ was used.\n",
    "\n",
    "If you want to compute the $\\theta_i$ you can use the `np.arctan2` function. This function is a version of the arctan function that returns the angle in the correct quadrant. Using the `np.arctan` function will not give you the correct angle!\n"
   ]
  },
  {
   "cell_type": "code",
   "execution_count": null,
   "metadata": {},
   "outputs": [],
   "source": [
    "def rewrite_seasonal_comp(a_i, b_i):\n",
    "    '''\n",
    "    Function to rewrite the seasonal component in terms of sin and cos\n",
    "    a_i: seasonal component coefficient for cos\n",
    "    b_i: seasonal component coefficient for sin\n",
    "    '''\n",
    "    A_i = YOUR_CODE_HERE\n",
    "    theta_i = YOUR_CODE_HERE\n",
    "    return A_i, theta_i\n",
    "\n",
    "# creating the A matrix of the functional model\n",
    "A = YOUR_CODE_HERE\n",
    "\n",
    "# Fitting the model\n",
    "x_hat, y_hat, e_hat = YOUR_CODE_HERE\n",
    "\n",
    "# Extracting the seasonal component coefficients from the estimated parameters\n",
    "a_i = YOUR_CODE_HERE # all the a_i coefficients\n",
    "b_i = YOUR_CODE_HERE # all the b_i coefficients\n",
    "freqs = YOUR_CODE_HERE # all the frequencies\n",
    "\n",
    "\n",
    "# Check if the number of coefficients match the number of frequencies\n",
    "assert len(a_i) == len(b_i) == len(freqs), 'The number of coefficients do not match'\n",
    "\n",
    "print(f'Estimated Parameters:')\n",
    "for i in range(len(x_hat)):\n",
    "    print(f'x{i} = {x_hat[i]:.2f}')\n",
    "\n",
    "print('\\nThe seasonal component is rewritten as:')\n",
    "i = 0\n",
    "for a, b, f in zip(a_i, b_i, freqs):\n",
    "    A_i, theta_i = rewrite_seasonal_comp(a, b)\n",
    "    i = i + 1\n",
    "    print(f'A_{i} = {A_i:.3f}, theta_{i} = {theta_i:.3f}, f_{i} = {f:.3f}')"
   ]
  },
  {
   "cell_type": "markdown",
   "metadata": {},
   "source": [
    "## Part 3: Analyzing the residuals\n",
    "Now that we have our residuals we can fit an AR model to the residuals. We will start by plotting the ACF of the residuals. We will then fit an AR model to the residuals and report the parameters of the AR model.."
   ]
  },
  {
   "cell_type": "markdown",
   "metadata": {},
   "source": [
    "### Part 3.1: Plot the ACF of the residuals\n",
    "Use the `plot_acf` function to plot the ACF of the residuals. "
   ]
  },
  {
   "cell_type": "code",
   "execution_count": null,
   "metadata": {},
   "outputs": [],
   "source": [
    "# Lets start with the ACF plot\n",
    "fig, ax = plt.subplots(1, 1, figsize=(10, 3))\n",
    "plot_acf(YOUR_CODE_HERE, ax=ax, lags=20);\n",
    "ax.set_xlabel('Lags [days]')\n",
    "ax.grid()"
   ]
  },
  {
   "cell_type": "markdown",
   "metadata": {},
   "source": [
    "\n",
    "\n",
    "<div style=\"background-color:#AABAB2; color: black; vertical-align: middle; padding:15px; margin: 10px; border-radius: 10px\">\n",
    "<p>\n",
    "What do you conclude from this ACF?\n",
    "</p>\n",
    "</div>"
   ]
  },
  {
   "cell_type": "markdown",
   "metadata": {},
   "source": [
    "### Part 3.2: write a function to fit an AR1 model to the residuals\n",
    "Write a function `AR1` that will take the stationary residuals as input and return the parameters of the AR1 model.\n",
    "Fit this model to the residuals and report the parameters."
   ]
  },
  {
   "cell_type": "code",
   "execution_count": null,
   "metadata": {},
   "outputs": [],
   "source": [
    "def AR1(s, time, plot=True):\n",
    "    '''\n",
    "    Function to find the AR(1) model of the given data\n",
    "    s: input data\n",
    "    return: x_hat, e_hat\n",
    "    '''\n",
    "    y = YOUR_CODE_HERE\n",
    "    y_lag_1 = YOUR_CODE_HERE\n",
    "    # np.atleast_2d is used to convert the 1D array to 2D array, as the fit_model function requires 2D array\n",
    "    A = np.atleast_2d(y_lag_1).T \n",
    "\n",
    "    x_hat, y_hat, e_hat = fit_model(y, time, A)\n",
    "    if plot:\n",
    "        plt.figure(figsize=(10, 3))\n",
    "        plt.plot(time, s[1:], label='Original Data')\n",
    "        plt.plot(time, y_hat, label='Estimated Data')\n",
    "        plt.xlabel('Time [days]')\n",
    "        plt.ylabel('Atmospheric Pressure [hPa]')\n",
    "        plt.title('Original Data vs Estimated Data')\n",
    "        # plt.xlim([0, 100]) # uncomment this line to zoom in, for better visualization\n",
    "        plt.grid(True)\n",
    "        plt.legend()\n",
    "\n",
    "    print(f'Estimated Parameters:')\n",
    "    print(f'phi = {x_hat[0]:.4f}')\n",
    "\n",
    "    return x_hat, e_hat\n",
    "\n",
    "_, e_hat2 = AR1(YOUR_CODE_HERE)\n"
   ]
  },
  {
   "cell_type": "markdown",
   "metadata": {},
   "source": [
    "### Part 3.3: Fit an AR1 model to the residuals\n",
    "Fit an AR1 model to the residuals and report the parameters. \n",
    "Finally, we will need to check if AR(1) model is a good fit to the residuals. There are many ways to check whether this is the case. We can use a testing procedure to compare different AR models, an example of this can be found in the book.\n",
    "\n",
    "However, today we will use a simpler method. If the AR(1) model is a good fit to the residuals, the residuals of the AR(1) model should be white noise. We will plot the ACF of the residuals of the AR(1) model to check if this is the case."
   ]
  },
  {
   "cell_type": "code",
   "execution_count": null,
   "metadata": {},
   "outputs": [],
   "source": [
    "# Lets start with the ACF plot\n",
    "fig, ax = plt.subplots(1, 1, figsize=(10, 3))\n",
    "plot_acf(YOUR_CODE_HERE, ax=ax, lags=20);\n",
    "ax.grid()"
   ]
  },
  {
   "cell_type": "markdown",
   "metadata": {},
   "source": [
    "<div style=\"background-color:#AABAB2; color: black; vertical-align: middle; padding:15px; margin: 10px; border-radius: 10px\">\n",
    "<p>\n",
    "\n",
    "- What do you conclude from this ACF?\n",
    "  \n",
    "- Is the AR(1) model a good fit to the residuals?\n",
    "  \n",
    "- What would you do if the AR(1) model is not a good fit to the residuals?\n",
    "\n",
    "</p>\n",
    "</div>"
   ]
  },
  {
   "cell_type": "markdown",
   "metadata": {},
   "source": [
    "## Part 4: Report the results\n",
    "Now that we have found the periodic signals in the data and fitted an AR model to the residuals, we can report the results. By combining including the AR (noise) process, we get residuals that are white noise. When the model hat white noise residuals, we can also report the confidence intervals of the model.\n",
    "\n",
    "We will use the unbiased estimate of the variance of the residuals to calculate the confidence intervals. The unbiased estimate of the variance is given by:\n",
    "\n",
    "$$\\hat{\\sigma}^2 = \\frac{1}{n-p} \\sum_{t=1}^{n} \\hat{e}_t^2$$\n",
    "\n",
    "Where $n$ is the number of observations and $p$ is the number of parameters in the model.\n",
    "\n",
    "The covariance matrix of the parameters is given by:\n",
    "\n",
    "$$\\hat{\\Sigma} = \\hat{\\sigma}^2 (\\mathbf{A}^T \\mathbf{A})^{-1}$$\n",
    "\n",
    "Where $\\mathbf{A}$ is the design matrix of the model.\n",
    "\n"
   ]
  },
  {
   "cell_type": "code",
   "execution_count": null,
   "metadata": {},
   "outputs": [],
   "source": [
    "# combine ar1 and seasonal model\n",
    "\n",
    "A_final = YOUR_CODE_HERE # A-matrix for the combined model\n",
    "x_hat, y_hat, e_hat_final = fit_model(YOUR_CODE_HERE)\n",
    "\n",
    "# compute the standard errors\n",
    "N = YOUR_CODE_HERE # Number of data points\n",
    "p = YOUR_CODE_HERE # Number of parameters\n",
    "sigma2 = YOUR_CODE_HERE # estimated variance of the residuals\n",
    "Cov = YOUR_CODE_HERE # Covariance matrix of the parameters\n",
    "se = np.sqrt(np.diag(Cov)) # Standard errors of the parameters\n",
    "\n",
    "# Extracting the seasonal component coefficients from the estimated parameters\n",
    "a_i = YOUR_CODE_HERE # all the a_i coefficients\n",
    "b_i = YOUR_CODE_HERE # all the b_i coefficients\n",
    "freqs = YOUR_CODE_HERE # all the frequencies\n",
    "\n",
    "# Check if the number of coefficients match the number of frequencies\n",
    "assert len(a_i) == len(b_i) == len(freqs), 'The number of coefficients do not match'\n",
    "\n",
    "print(f'Estimated Parameters (standard deviation):')\n",
    "for i in range(len(x_hat)):\n",
    "    print(f'x{i} = {x_hat[i]:.3f}\\t\\t ({se[i]:.3f})')\n",
    "\n",
    "print('\\nThe seasonal component is rewritten as:')\n",
    "i = 0\n",
    "for a, b, f in zip(a_i, b_i, freqs):\n",
    "    A_i, theta_i = rewrite_seasonal_comp(a, b)\n",
    "    i = i + 1\n",
    "    print(f'A_{i} = {A_i:.3f}, theta_{i} = {theta_i:.3f}, f_{i} = {f:.3f}')\n"
   ]
  },
  {
   "cell_type": "markdown",
   "metadata": {},
   "source": [
    "<div style=\"background-color:#AABAB2; color: black; vertical-align: middle; padding:15px; margin: 10px; border-radius: 10px\">\n",
    "<p>\n",
    "\n",
    "- What can you say about the parameters, do the parameters make sense? \n",
    "\n",
    "- What time of the day is the pressure highest (on average)?\n",
    "  \n",
    "- What has the highest impact on the pressure, the daily or the yearly periodic signal?\n",
    "\n",
    "</p>\n",
    "</div>"
   ]
  }
 ],
 "metadata": {
  "kernelspec": {
   "display_name": "mude-base",
   "language": "python",
   "name": "python3"
  },
  "language_info": {
   "codemirror_mode": {
    "name": "ipython",
    "version": 3
   },
   "file_extension": ".py",
   "mimetype": "text/x-python",
   "name": "python",
   "nbconvert_exporter": "python",
   "pygments_lexer": "ipython3",
   "version": "3.12.6"
  }
 },
 "nbformat": 4,
 "nbformat_minor": 2
}
