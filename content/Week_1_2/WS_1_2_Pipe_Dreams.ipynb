{
 "cells": [
  {
   "cell_type": "markdown",
   "id": "9adbf457-797f-45b7-8f8b-0e46e0e2f5ff",
   "metadata": {
    "id": "9adbf457-797f-45b7-8f8b-0e46e0e2f5ff"
   },
   "source": [
    "# WS 1.2: Mean and Variance Propagation\n",
    "\n",
    "**Sewer Pipe Flow Velocity**\n",
    "\n",
    "<h1 style=\"position: absolute; display: flex; flex-grow: 0; flex-shrink: 0; flex-direction: row-reverse; top: 60px;right: 30px; margin: 0; border: 0\">\n",
    "    <style>\n",
    "        .markdown {width:100%; position: relative}\n",
    "        article { position: relative }\n",
    "    </style>\n",
    "    <img src=\"https://gitlab.tudelft.nl/mude/public/-/raw/main/tu-logo/TU_P1_full-color.png\" style=\"width:100px; height: auto; margin: 0\" />\n",
    "    <img src=\"https://gitlab.tudelft.nl/mude/public/-/raw/main/mude-logo/MUDE_Logo-small.png\" style=\"width:100px; height: auto; margin: 0\" />\n",
    "</h1>\n",
    "<h2 style=\"height: 10px\">\n",
    "</h2>\n",
    "\n",
    "*[CEGM1000 MUDE](http://mude.citg.tudelft.nl/): Week 1.2. Wed Sep 11, 2024.*"
   ]
  },
  {
   "cell_type": "markdown",
   "id": "1db6fea9-f3ad-44bc-a4c8-7b2b3008e945",
   "metadata": {
    "id": "1db6fea9-f3ad-44bc-a4c8-7b2b3008e945"
   },
   "source": [
    "## Overview\n",
    "\n",
    "In this notebook you will apply the propagation laws for the mean and variance for a function of two independent random variables. You will assess how well the approximations correspond with the <em>simulation-based</em> equivalents. You will also assess the distribution of the function.\n",
    "\n",
    "_You do not need to turn in this notebook._\n",
    "\n",
    "### Objectives\n",
    "\n",
    "1. Observe how uncertainty \"propagates\" from the inputs to the output of a function by estimating moments of the function of random variables and seeing how they change relative to the moments of the input random variables.\n",
    "2. Recognize that a non-linear function of random variables that have the (joint) Normal distribution (the inputs) produces a non-Normal random variable (the output).\n",
    "3. Using _sampling_ (Monte Carlo Simulation) to _validate_ the linearized error propagation technique introduced in the textbook. Specifically, by:\n",
    "   1. Comparing the estimated moments with that of the sample, and\n",
    "   2. Comparing the Normal distribution defined by the estimated moments to the sample\n",
    "\n",
    "### A Note on \"Sampling\"\n",
    "\n",
    "We will use Monte Carlo Simulation to create an empirical \"sample\" of the random values of our function of random variables, $V$ (the output). This is a commonly used approach widely used in science and engineering applications. It is a numerical way of computing the distribution of a function that is useful when analytic approaches are not possible (for example, when the input distributions are non-Normal or the function is non-linear). For our purposes today, Monte Carlo Simulation is quite simple and involves the following steps:\n",
    "\n",
    "1. Define a function of random variables and the distributions of its input parameters.\n",
    "2. Create a random sample of each input parameter according to the specified distribution.\n",
    "3. Create a random sample of the output variable by computing the function for every set of input samples.\n",
    "4. Evaluate the resulting distribution of the output.\n",
    "\n",
    "A few key points to recognize are:\n",
    "1. As the sample size increases, the resulting distribution becomes more accurate.\n",
    "2. This is a way to get the (approximately) \"true\" distribution of a function of random variables.\n",
    "3. Accuracy is relative to the propagation of uncertainty through the function based on the assumed distributions of the input random variables. In other words, MCS can't help you if your function and distributions are poor representations of reality!\n",
    "\n",
    "### Application: Sewer Pipe Flow Velocity\n",
    "\n",
    "We will apply Manning's formula for the flow velocity $V$ in a sewer:\n",
    "\n",
    "$$\n",
    "V =\\frac{1}{n}R^{2/3}S^{1/2}\n",
    "$$\n",
    "\n",
    "where $R$ is the hydraulic radius of the sewer pipe (in $m$), $S$ the slope of the pipe (in $m/m$), and $n$ is the coefficient of roughness [$-$].\n",
    "\n",
    "Both $R$ and $S$ are random variables, as it is known that sewer pipes are susceptible to deformations; $n$ is assumed to be deterministic and in our case $n=0.013$ $s/m^{1/3}$. The sewer pipe considered here has mean values $\\mu_R$, $\\mu_S$, and standard deviations $\\sigma_R$ and $\\sigma_S$; $R$ and $S$ are independent.\n",
    "\n",
    "We are now interested in the mean flow velocity in the sewer as well as the uncertainty expressed by the standard deviation. This is important for the design of the sewer system.\n",
    "\n",
    "*Disclaimer: the dimensions of the pipe come from a real case study, but some aspects of the exercise are...less realistic.*\n",
    "\n",
    "### Programming\n",
    "\n",
    "Remember to use your `mude-base` environment when running this notebook.\n",
    "\n",
    "Some of the functions below uses <em>keyword arguments</em> to specify some of the parameter values; this is a way of setting \"default\" values. You can override them when using the function by specifying an alternative syntax. For example, the function here can be used in the following way to return `x=5` and `x=6`, respectively:\n",
    "\n",
    "```python\n",
    "def test(x=5)\n",
    "    return x\n",
    "   \n",
    "print(test())\n",
    "print(test(x=6))\n",
    "```\n",
    "Copy/paste into a cell to explore further!\n",
    "\n",
    "Note also in the cell below that we can increase the default size of the text in our figures to make them more readable!"
   ]
  },
  {
   "cell_type": "code",
   "execution_count": 1,
   "id": "4fc6e87d-c66e-43df-a937-e969acc409f8",
   "metadata": {
    "id": "4fc6e87d-c66e-43df-a937-e969acc409f8",
    "tags": []
   },
   "outputs": [],
   "source": [
    "import numpy as np\n",
    "import matplotlib.pyplot as plt\n",
    "\n",
    "from scipy.stats import norm\n",
    "from scipy.stats import probplot\n",
    "\n",
    "import ipywidgets as widgets\n",
    "from ipywidgets import interact\n",
    "\n",
    "plt.rcParams.update({'font.size': 14})"
   ]
  },
  {
   "cell_type": "markdown",
   "id": "be5078d7",
   "metadata": {},
   "source": [
    "### Theory: Propagation laws for a function of 2 random variables \n",
    "\n",
    "We are interested in the mean and variance of $X$, which is a function of 2 random variables: $X=q(Y_1,Y_2)$. The mean and covariance matrix of $Y$ are assumed to be known:\n",
    "\n",
    "$$\\mu_Y = [\\mu_1\\;\\mu_2]^T$$\n",
    "\n",
    "$$\\Sigma_Y = \\begin{bmatrix} \\sigma^2_1 & Cov(Y_1,Y_2) \\\\ Cov(Y_1,Y_2) & \\sigma^2_2\\end{bmatrix}$$\n",
    "\n",
    "The second-order Taylor series approximation of the mean $\\mu_X$ is then given by:\n",
    "\n",
    "$$\\mu_X=\\mathbb{E}(q(Y))\\approx q(\\mu_Y )+\\frac{1}{2}\\frac{\\partial^2 q(\\mu_Y )}{\\partial Y_1^2 } \\sigma_1^2+\\frac{1}{2}\\frac{\\partial^2 q(\\mu_Y )}{\\partial Y_2^2 }\\sigma_2^2+\\frac{\\partial^2 q(\\mu_Y )}{\\partial Y_1 \\partial Y_2 } Cov(Y_1,Y_2) $$\n",
    "\n",
    "In most practical situations, the second-order approximation suffices. \n",
    "\n",
    "For the variance $\\sigma_X^2$ it is common to use only the first-order approximation, given by:\n",
    "\n",
    "$$\\sigma^2_X \\approx \\left(\\frac{\\partial q(\\mu_Y )}{\\partial Y_1 } \\right)^2 \\sigma^2_1 +\\left(\\frac{\\partial q(\\mu_Y )}{\\partial Y_2 } \\right)^2 \\sigma^2_2 + 2\\left(\\frac{\\partial q(\\mu_Y )}{\\partial Y_1 } \\right) \\left(\\frac{\\partial q(\\mu_Y )}{\\partial Y_2 } \\right)  Cov(Y_1,Y_2)$$"
   ]
  },
  {
   "cell_type": "markdown",
   "id": "1ee42f39",
   "metadata": {},
   "source": [
    "## Part 1: Apply the Propagation Laws\n",
    "\n",
    "We are interested to know how the uncertainty in $R$ and $S$ propagates into the uncertainty of the flow velocity $V$. We will first do this analytically and then implement it in code."
   ]
  },
  {
   "cell_type": "markdown",
   "id": "bfadcf3f-4578-4809-acdb-625ab3a71f27",
   "metadata": {
    "id": "bfadcf3f-4578-4809-acdb-625ab3a71f27"
   },
   "source": [
    "<div style=\"background-color:#AABAB2; color: black; width:95%; vertical-align: middle; padding:15px; margin: 10px; border-radius: 10px\">\n",
    "<p>\n",
    "<b>Task 1.1:</b>   \n",
    "\n",
    "Use the Taylor series approximation to find the expression for $\\mu_V$ and $\\sigma_V$ as function of $\\mu_R$, $\\sigma_R$, $\\mu_S$, $\\sigma_S$. Write your answer on paper or using a tablet; later we will learn how to include images directly in our notebooks! For now you can skip this step, as you are not turning this notebook in.\n",
    "</p>\n",
    "</div>"
   ]
  },
  {
   "cell_type": "markdown",
   "id": "0cde3bdf-e0ba-4cdd-93ac-39a721b000c3",
   "metadata": {},
   "source": [
    "<div style=\"background-color:#AABAB2; color: black; width:95%; vertical-align: middle; padding:15px; margin: 10px; border-radius: 10px\">\n",
    "<p>\n",
    "<b>Task 1.2:</b>   \n",
    "\n",
    "Complete the function below, such that <code>moments_of_taylor_approximation</code> will compute the approximated $\\mu_V$ and $\\sigma_V$, as found in the previous Task.\n",
    "</p>\n",
    "</div>"
   ]
  },
  {
   "cell_type": "code",
   "execution_count": 2,
   "id": "a2f08dc7",
   "metadata": {},
   "outputs": [],
   "source": [
    "def moments_of_taylor_approximation(mu_R, mu_S, sigma_R, sigma_S,n):\n",
    "    \"\"\"Compute Taylor series approximation of mean and std of V.\n",
    "    \n",
    "    Take moments and function parameters as inputs (type float).\n",
    "    Returns mean and standard deviation of V (type float).\n",
    "    \"\"\"\n",
    "    \n",
    "    constant = 1/n\n",
    "    \n",
    "    dVdR = YOUR_CODE_HERE\n",
    "    dVdS = YOUR_CODE_HERE\n",
    "    \n",
    "    dVdR_2 = YOUR_CODE_HERE\n",
    "    dVdS_2 = YOUR_CODE_HERE\n",
    "    \n",
    "    mu_V_0 = YOUR_CODE_HERE\n",
    "    mu_V = YOUR_CODE_HERE\n",
    "    \n",
    "    var_V = YOUR_CODE_HERE\n",
    "    sigma_V = YOUR_CODE_HERE\n",
    "    \n",
    "    return mu_V, sigma_V"
   ]
  },
  {
   "cell_type": "markdown",
   "id": "3e823e7a",
   "metadata": {},
   "source": [
    "Now we use the Taylor approximation and make two plots of $\\sigma_V$ as a function of $\\sigma_R$ for the following cases:\n",
    "- $\\sigma_S$ = 0.002 $m/m$\n",
    "- $\\sigma_S$ = 0 $m/m$ (i.e., slope is deterministic, not susceptible to deformation)\n",
    "\n",
    "We will use $\\mu_R = 0.5 m$ and $\\mu_S = 0.015 m/m$, and vary $\\sigma_R$ from 0 to 0.1 $m$. "
   ]
  },
  {
   "cell_type": "code",
   "execution_count": null,
   "id": "55ff8dd6-86ef-401a-9a56-02551c348698",
   "metadata": {
    "colab": {
     "base_uri": "https://localhost:8080/",
     "height": 425
    },
    "id": "55ff8dd6-86ef-401a-9a56-02551c348698",
    "outputId": "3add4ee9-1054-4726-dc4f-72dca5c1c6c8"
   },
   "outputs": [],
   "source": [
    "n = 0.013\n",
    "mu_R = 0.5\n",
    "mu_S = 0.015\n",
    "sigma_R = np.linspace(0.0, 0.1, 50)\n",
    "\n",
    "# case 1 for sigma_S\n",
    "sigma_S_1 = 0.002\n",
    "mu_V_1, sigma_V_1 = moments_of_taylor_approximation(mu_R, mu_S, sigma_R, sigma_S_1, n)\n",
    "\n",
    "# case 2 for sigma_S\n",
    "sigma_S_2 = 0\n",
    "mu_V_2, sigma_V_2 = moments_of_taylor_approximation(mu_R, mu_S, sigma_R, sigma_S_2, n)\n",
    "\n",
    "fig, ax = plt.subplots(1, 2, figsize = (16, 6))\n",
    "# left side plot for case 1 \n",
    "ax[0].plot(sigma_R, sigma_V_1, linewidth=4)\n",
    "ax[0].set_ylabel(r'$\\sigma_V$ [$m/s$]', size = 20)\n",
    "ax[0].set_xlabel(r'$\\sigma_R$ [$m$]', size = 20)\n",
    "ax[0].set_title(r'$\\sigma_S$ = ' + f'{sigma_S_1} $m/m$, Case 1')\n",
    "ax[0].set_xlim(0, 0.1)\n",
    "ax[0].set_ylim(0, 1)\n",
    "# right side plot for case 2\n",
    "ax[1].plot(sigma_R, sigma_V_2, linewidth=4)\n",
    "ax[1].set_ylabel(r'$\\sigma_V$ [$m/s$]', size = 20)\n",
    "ax[1].set_xlabel(r'$\\sigma_R$ [m]', size = 20)\n",
    "ax[1].set_title(r'$\\sigma_S$ = ' + f'{sigma_S_2} $m/m$, Case 2')\n",
    "ax[1].set_xlim(0, 0.1)\n",
    "ax[1].set_ylim(0, 1)\n",
    "plt.show()"
   ]
  },
  {
   "cell_type": "markdown",
   "id": "9091cfce",
   "metadata": {},
   "source": [
    "<div style=\"background-color:#AABAB2; color: black; width:95%; vertical-align: middle; padding:15px; margin: 10px; border-radius: 10px\">\n",
    "<p>\n",
    "<b>Task 1.3:</b>   \n",
    "Interpret the figures above, specifically looking at differences between Case 1 and Case 2. Also look at the equations you derived to understand why for Case 1 we get a non-linear relation, and for Case 2 a linear one.\n",
    "</p>\n",
    "</div>"
   ]
  },
  {
   "cell_type": "markdown",
   "id": "4487a9d6",
   "metadata": {},
   "source": [
    "_You can write an answer in this cell using Markdown._"
   ]
  },
  {
   "cell_type": "markdown",
   "id": "a7e4c13f-a2ca-4c2d-a3e2-92d4630715a0",
   "metadata": {
    "id": "a7e4c13f-a2ca-4c2d-a3e2-92d4630715a0"
   },
   "source": [
    "## Part 2: Simulation-Based Propagation \n",
    "\n",
    "We will use again the following values:\n",
    "- $\\mu_R = 0.5$ m\n",
    "- $\\mu_S = 0.015$ m/m\n",
    "- $\\sigma_R=0.05$ m\n",
    "- $\\sigma_S=0.002$ m/m\n",
    "\n",
    "Furthermore, it is assumed that $R$ and $S$ are independent normally distributed random variables. We will generate at least 10,000 simulated realizations each of $R$ and $S$ using a random number generator, and then you need to use these to calculate the corresponding sample values of $V$ and find the moments of that sample.\n"
   ]
  },
  {
   "cell_type": "markdown",
   "id": "c5a9d7ed",
   "metadata": {},
   "source": [
    "<div style=\"background-color:#AABAB2; color: black; width:95%; vertical-align: middle; padding:15px; margin: 10px; border-radius: 10px\">\n",
    "<p>\n",
    "<b>Task 2.1:</b>   \n",
    "Complete the functions <code>function_of_random_variables</code> and <code>get_samples</code> below to define the function of random variables and then generate a sample of the output from this function, assuming the inputs are also random variables with the Normal distribution. Then find the moments of the samples.\n",
    "</p>\n",
    "</div>"
   ]
  },
  {
   "cell_type": "code",
   "execution_count": null,
   "id": "6896ba98",
   "metadata": {},
   "outputs": [],
   "source": [
    "def function_of_random_variables(R, S):\n",
    "    V = YOUR_CODE_HERE\n",
    "    return V\n",
    "\n",
    "def get_samples(N, sigma_R, mu_R=0.5, mu_S=0.015, sigma_S=0.002, n=0.013):\n",
    "    \"\"\"Generate random samples for V from R and S.\"\"\"\n",
    "    R = np.random.normal(mu_R, sigma_R, N)\n",
    "    S = np.random.normal(mu_S, sigma_S, N)\n",
    "    V = YOUR_CODE_HERE\n",
    "    return V\n",
    "\n",
    "V_samples = get_samples(10000, 0.05)\n",
    "\n",
    "mu_V_samples = YOUR_CODE_HERE\n",
    "sigma_V_samples = YOUR_CODE_HERE\n",
    "\n",
    "print('Moments of the SAMPLES:')\n",
    "print(f'  {mu_V_samples:.4f} m/s is the mean, and')\n",
    "print(f'  {sigma_V_samples:.4f} m/s is the std dev.')\n",
    "\n",
    "mu_V_taylor, sigma_V_taylor = moments_of_taylor_approximation(mu_R, mu_S, 0.05, 0.002, n)\n",
    "print('\\nMoments of the TAYLOR SERIES APPROXIMATION:')\n",
    "print(f'  {mu_V_taylor:.4f} m/s is the mean, and')\n",
    "print(f'  {sigma_V_taylor:.4f} m/s is the std dev.')"
   ]
  },
  {
   "cell_type": "markdown",
   "id": "5fe4cf2c",
   "metadata": {},
   "source": [
    "<div style=\"background-color:#AABAB2; color: black; width:95%; vertical-align: middle; padding:15px; margin: 10px; border-radius: 10px\">\n",
    "\n",
    "$\\textbf{Task 2.2:}$   \n",
    "Are the results similar for the linearized and simulated values? Describe the difference quantitatively. Check your result also for the range of values of $\\sigma_R$ from 0.01 to 0.10; are they consistent?\n",
    "</div>"
   ]
  },
  {
   "cell_type": "markdown",
   "id": "af7f4e6f",
   "metadata": {},
   "source": [
    "_You can write an answer in this cell using Markdown._"
   ]
  },
  {
   "cell_type": "markdown",
   "id": "97f3a877",
   "metadata": {},
   "source": [
    "<div style=\"background-color:#AABAB2; color: black; width:95%; vertical-align: middle; padding:15px; margin: 10px; border-radius: 10px\">\n",
    "\n",
    "$\\textbf{Task 2.3:}$   \n",
    "Run the cell with the sampling algorithm above repeatedly and look at the values printed in the cell output. Which values change? Which values do <em>not</em> change? Explain why, in each case.\n",
    "</div>"
   ]
  },
  {
   "cell_type": "markdown",
   "id": "095cd3e4",
   "metadata": {},
   "source": [
    "_You can write an answer in this cell using Markdown._"
   ]
  },
  {
   "cell_type": "markdown",
   "id": "7cfc8c41",
   "metadata": {},
   "source": [
    "## Part 3: Validating the Moments with a Distribution\n",
    "\n",
    "In Part 2 we used a sample of the function of random variables to _validate_ the Taylor approximation (we found that they are generally well-approximated). Now we will assume that the function of random variables has the Normal distribution to validate the moments and see for which range of values they remain a good approximation. This is done by comparing the sample to the assumed distribution; the former is represented by a histogram (also called an empirical probability density function, PDF, when normalized), the latter by a Normal distribution with moments calculated using the Taylor approximation.\n",
    "\n",
    "We will also use a normal probability plot to assess how well the assumption that $V$ is normally distributed holds up while varying the value of $\\sigma_R$, introduced next.\n",
    "\n",
    "### Theoretical Quantiles with `probplot`\n",
    "\n",
    "The method `probplot` is built into `scipy.stats` (Documentation [here](https://docs.scipy.org/doc/scipy/reference/generated/scipy.stats.probplot.html)) and _validates_ a probability model by comparing samples (i.e., data) to a theoretical distribution (in this case, Normal). The \"Theoretical quantile\" that is plotted on the x-axis of this plot and measures the distance from the median of a distribution, normalized by the standard deviation, such that $\\mathrm{quantile}=q\\cdot\\sigma$. For example, $q=-1.5$ is $\\mu-1.5\\cdot\\sigma$. The vertical axis is the value of the random variable.\n",
    "\n",
    "Because we are comparing a theoretical distribution and a sample (data) on the same plot, one of the lines is the Normal PDF, which of course will have an exact match with the _theoretical quantiles_. This is why the Normal PDF will plot as a straight line in `probplot`. Comparing the (vertical) distance between the samples and the theoretical distribution (the red line) allows us to _validate_ our model. In particular, it allows us to validate the model for different regions of the distribution. In your interpretation, for example, you should try and identify whether the model is a good fit for the center and/or tails of the distribution.\n",
    "\n",
    "Note that `probplot` needs to know what to use for samples (you will tell it this), and what type of theoretical distribution you are using (we already did this for you...`norm`)."
   ]
  },
  {
   "cell_type": "markdown",
   "id": "e11a76d9",
   "metadata": {},
   "source": [
    "<div style=\"background-color:#AABAB2; color: black; width:95%; vertical-align: middle; padding:15px; margin: 10px; border-radius: 10px\">\n",
    "<p>\n",
    "<b>Task 3.1:</b>   \n",
    "Complete the function <code>validate_distribution</code> below (instructions are in the docstring) to plot the empirical probability density function (PDF) of $V$ using your simulated samples. Also plot the Normal PDF in the same figure using the moments computed from the error propagation law. \n",
    "</p>\n",
    "</div>"
   ]
  },
  {
   "cell_type": "markdown",
   "id": "eea242ab",
   "metadata": {},
   "source": [
    "<div style=\"background-color:#facb8e; color: black; vertical-align: middle; padding:15px; margin: 10px; border-radius: 10px; width: 95%\"> <p><em>Hint: if you are struggling with the code below, re-read the introduction to Part 3 carefully!</em></p></div>"
   ]
  },
  {
   "cell_type": "code",
   "execution_count": null,
   "id": "80005a5a-510b-4236-a2d6-184d9569eed4",
   "metadata": {
    "colab": {
     "base_uri": "https://localhost:8080/",
     "height": 475,
     "referenced_widgets": [
      "b560714d739d431d85b3ca1a9b378c8f",
      "56b7808a3e2241679b15d517565eaf85",
      "d867da2ab3d441599b8356ac8e493611",
      "481c67caa6d1405ea2e00cfe6dbfa32f",
      "392504e006074b76af62e617c4cde70e",
      "b0d26f90109f4e0eb6839f0ba43ba980",
      "ea4c3dc473df41a684cfe7fd1e7fb35d"
     ]
    },
    "id": "80005a5a-510b-4236-a2d6-184d9569eed4",
    "outputId": "80ae9e8d-e450-4e17-f092-fbf09fc885e6"
   },
   "outputs": [],
   "source": [
    "def validate_distribution(N, sigma_R, mu_R=0.5, mu_S=0.015, sigma_S=0.002, n=0.013):\n",
    "    \"\"\"Generate samples and plots for V\n",
    "    \n",
    "    Compares the sampled distribution of V to a Normal distribution defined\n",
    "    by the first moments of the error propagation law.\n",
    "    \n",
    "    Comparison is made via two plots:\n",
    "      1. PDF of V~N(mu,sigma) (the approximation) and a histogram (sample)\n",
    "      2. Probability plot, compares quantiles of sample and CDF of V\n",
    "    \n",
    "    Only a plot is returned.\n",
    "    \n",
    "    MUDE students fill in the missing code (see: YOUR_CODE_HERE):\n",
    "      1. Generate samples and find moments\n",
    "      2. Find moments of the function of random variables using Taylor series\n",
    "      3. Enter data for the histogram\n",
    "      4. Define the moments of the Normal distribution to be plotted\n",
    "      5. Identify the appropriate variables to be printed in the plot titles\n",
    "      6. Enter the data required for the probability plot\n",
    "    \"\"\"\n",
    "    \n",
    "    # Generate a sample and compute moments\n",
    "    # V_samples = YOUR_CODE_HERE\n",
    "    # mu_V_samples = YOUR_CODE_HERE\n",
    "    # sigma_V_samples = YOUR_CODE_HERE\n",
    "    # Solution\n",
    "    V_samples = get_samples(N, sigma_R)\n",
    "    mu_V_samples = V_samples.mean()\n",
    "    sigma_V_samples = V_samples.std()\n",
    "    \n",
    "    mu_V_taylor, sigma_V_taylor = YOUR_CODE_HERE\n",
    "\n",
    "    # Create left-side plot with histogram and normal distribution\n",
    "    # Plot histogram\n",
    "    xmin = 0\n",
    "    xmax = 10\n",
    "    x = np.linspace(xmin, xmax, 100)\n",
    "    fig, ax = plt.subplots(1, 2, figsize = (16, 6))\n",
    "    \n",
    "    ax[0].hist(YOUR_CODE_HERE, bins = 40, density = True, \n",
    "               label = 'Empirical PDF of V')\n",
    "    \n",
    "    # Add normal pdf in same figure\n",
    "    ax[0].plot(x, norm.pdf(x, YOUR_CODE_HERE, YOUR_CODE_HERE), color = 'black',\n",
    "               lw = 2.5, label='Normal PDF')\n",
    "\n",
    "    ax[0].legend()\n",
    "    ax[0].set_xlabel('V [$m/s$]')\n",
    "    ax[0].set_xlim(xmin, xmax)\n",
    "    ax[0].set_ylim(0, 1)\n",
    "    ax[0].set_ylabel('Density')\n",
    "    ax[0].set_title(f'Simulation with {N} simulated realizations'\n",
    "                    + '\\n' + f'mean = {round(YOUR_CODE_HERE, 3)}' \n",
    "                    f'm/s and std = {round(YOUR_CODE_HERE, 3)} m/s')\n",
    "    \n",
    "    # Add probability plot in right-side panel\n",
    "    probplot(YOUR_CODE_HERE, dist = norm, fit = True, plot = ax[1])\n",
    "\n",
    "    ax[1].legend(['Generated samples', 'Normal fit'])\n",
    "    ax[1].get_lines()[1].set_linewidth(2.5)\n",
    "    plt.show()\n",
    "\n",
    "validate_distribution(10000, 0.01)"
   ]
  },
  {
   "cell_type": "markdown",
   "id": "1566c23d-b8d0-416a-9fe8-8cd93940f9b0",
   "metadata": {},
   "source": [
    "### Validate the Distribution of $V$ for Various $\\sigma_R$\n",
    "\n",
    "The code below uses a widget to call your function to make the plots and add a slider to change the values of $\\sigma_R$ and visualize the change in the distributions."
   ]
  },
  {
   "cell_type": "markdown",
   "id": "48dc608a",
   "metadata": {},
   "source": [
    "<div style=\"background-color:#AABAB2; color: black; width:95%; vertical-align: middle; padding:15px; margin: 10px; border-radius: 10px\">\n",
    "\n",
    "$\\textbf{Task 3.2:}$\n",
    "Run the cell below, then play with the slider to change $\\sigma_R$. How well does the error propagation law match the \"true\" distribution (the samples)? State your conclusion and explain why. Check also whether there is an impact for different $\\sigma_R$ values.\n",
    "</p>\n",
    "</div>"
   ]
  },
  {
   "cell_type": "code",
   "execution_count": null,
   "id": "9a403e17",
   "metadata": {
    "colab": {
     "base_uri": "https://localhost:8080/",
     "height": 475,
     "referenced_widgets": [
      "b560714d739d431d85b3ca1a9b378c8f",
      "56b7808a3e2241679b15d517565eaf85",
      "d867da2ab3d441599b8356ac8e493611",
      "481c67caa6d1405ea2e00cfe6dbfa32f",
      "392504e006074b76af62e617c4cde70e",
      "b0d26f90109f4e0eb6839f0ba43ba980",
      "ea4c3dc473df41a684cfe7fd1e7fb35d"
     ]
    },
    "id": "80005a5a-510b-4236-a2d6-184d9569eed4",
    "outputId": "80ae9e8d-e450-4e17-f092-fbf09fc885e6"
   },
   "outputs": [],
   "source": [
    "@interact(sigma_R=(0, 0.1, 0.005))\n",
    "def samples_slideplot(sigma_R):\n",
    "    validate_distribution(50000, sigma_R);"
   ]
  },
  {
   "cell_type": "markdown",
   "id": "996fc183",
   "metadata": {},
   "source": [
    "_You can write an answer in this cell using Markdown._"
   ]
  },
  {
   "cell_type": "markdown",
   "id": "35c20211",
   "metadata": {},
   "source": [
    "<div style=\"background-color:#AABAB2; color: black; width:95%; vertical-align: middle; padding:15px; margin: 10px; border-radius: 10px\">\n",
    "\n",
    "$\\textbf{Task 3.3:}$\n",
    "To further validate the error propagation law, estimate the probability that the \"true\" velocity of the tunnel is in the inaccurate range of values (assuming that the Normal distribution is a suitable model for the distribution of the function of random variables).\n",
    "\n",
    "<em>Hint: recall that in this notebook a quantile, $q$, is defined as a standard deviation, and that the probability of observing a random variable $X$ such that $P[X\\lt q]$ can be found with the CDF of the standard Normal distribution, evaluated in Python using <code>scipy.stats.norm.cdf(q)</code>.</em>\n",
    "</p>\n",
    "</div>"
   ]
  },
  {
   "cell_type": "markdown",
   "id": "adbd9933",
   "metadata": {},
   "source": [
    "<div style=\"background-color:#facb8e; color: black; vertical-align: middle; padding:15px; margin: 10px; border-radius: 10px; width: 95%\"> <p><em>\n",
    "\n",
    "$\\textbf{Note:}$\n",
    "As we saw in 3.2, the Normal distribution does not fit the tails of the distribution of the function of random variables perfectly. Although this means using the Normal distribution may not be a good way of estimating the probability of \"being in the tails,\" the approach in this Task is still suitable for getting an idea of the order of magnitude, and observing how sever this \"error\" maybe for different assumptions of $\\sigma_R$.</em></p></div>"
   ]
  },
  {
   "cell_type": "code",
   "execution_count": null,
   "id": "c7a8d678",
   "metadata": {},
   "outputs": [],
   "source": [
    "p = YOUR_CODE_HERE\n",
    "\n",
    "print(f'The probability is {p:0.6e}')"
   ]
  },
  {
   "cell_type": "markdown",
   "id": "15f6ad77",
   "metadata": {},
   "source": [
    "_You can write an answer in this cell using Markdown._"
   ]
  },
  {
   "cell_type": "markdown",
   "id": "37038bb6",
   "metadata": {},
   "source": [
    "**End of notebook.**\n",
    "<h2 style=\"height: 60px\">\n",
    "</h2>\n",
    "<h3 style=\"position: absolute; display: flex; flex-grow: 0; flex-shrink: 0; flex-direction: row-reverse; bottom: 60px; right: 50px; margin: 0; border: 0\">\n",
    "    <style>\n",
    "        .markdown {width:100%; position: relative}\n",
    "        article { position: relative }\n",
    "    </style>\n",
    "    <a rel=\"license\" href=\"http://creativecommons.org/licenses/by/4.0/\">\n",
    "      <img alt=\"Creative Commons License\" style=\"border-width:; width:88px; height:auto; padding-top:10px\" src=\"https://i.creativecommons.org/l/by/4.0/88x31.png\" />\n",
    "    </a>\n",
    "    <a rel=\"TU Delft\" href=\"https://www.tudelft.nl/en/ceg\">\n",
    "      <img alt=\"TU Delft\" style=\"border-width:0; width:100px; height:auto; padding-bottom:0px\" src=\"https://gitlab.tudelft.nl/mude/public/-/raw/main/tu-logo/TU_P1_full-color.png\" />\n",
    "    </a>\n",
    "    <a rel=\"MUDE\" href=\"http://mude.citg.tudelft.nl/\">\n",
    "      <img alt=\"MUDE\" style=\"border-width:0; width:100px; height:auto; padding-bottom:0px\" src=\"https://gitlab.tudelft.nl/mude/public/-/raw/main/mude-logo/MUDE_Logo-small.png\" />\n",
    "    </a>\n",
    "    \n",
    "</h3>\n",
    "<span style=\"font-size: 75%\">\n",
    "&copy; Copyright 2024 <a rel=\"MUDE\" href=\"http://mude.citg.tudelft.nl/\">MUDE</a> TU Delft. This work is licensed under a <a rel=\"license\" href=\"http://creativecommons.org/licenses/by/4.0/\">CC BY 4.0 License</a>."
   ]
  }
 ],
 "metadata": {
  "colab": {
   "collapsed_sections": [],
   "provenance": []
  },
  "kernelspec": {
   "display_name": "Python 3 (ipykernel)",
   "language": "python",
   "name": "python3"
  },
  "language_info": {
   "codemirror_mode": {
    "name": "ipython",
    "version": 3
   },
   "file_extension": ".py",
   "mimetype": "text/x-python",
   "name": "python",
   "nbconvert_exporter": "python",
   "pygments_lexer": "ipython3",
   "version": "3.12.4"
  },
  "widgets": {
   "application/vnd.jupyter.widget-state+json": {
    "state": {
     "2082c60151554578805c2be3a31ffd8f": {
      "model_module": "@jupyter-widgets/controls",
      "model_module_version": "2.0.0",
      "model_name": "VBoxModel",
      "state": {
       "_dom_classes": [
        "widget-interact"
       ],
       "children": [
        "IPY_MODEL_47b254e4f85448dc95d858718b75e064",
        "IPY_MODEL_4df814e341224be3a57d82ee44acd790"
       ],
       "layout": "IPY_MODEL_f003ee4f4ed449629e85cac95f7b6abc"
      }
     },
     "47b254e4f85448dc95d858718b75e064": {
      "model_module": "@jupyter-widgets/controls",
      "model_module_version": "2.0.0",
      "model_name": "FloatSliderModel",
      "state": {
       "behavior": "drag-tap",
       "description": "sigma_R",
       "layout": "IPY_MODEL_d927becd53d548219761a47bbe3489b3",
       "max": 0.1,
       "step": 0.005,
       "style": "IPY_MODEL_d9d7ec418b5a4761a7b956ec83500ea8",
       "value": 0.05
      }
     },
     "4df814e341224be3a57d82ee44acd790": {
      "model_module": "@jupyter-widgets/output",
      "model_module_version": "1.0.0",
      "model_name": "OutputModel",
      "state": {
       "layout": "IPY_MODEL_e10896000fd1499387e79765dacb3eb8",
       "outputs": [
        {
         "data": {
          "image/png": "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",
          "text/plain": "<Figure size 1600x600 with 2 Axes>"
         },
         "metadata": {},
         "output_type": "display_data"
        }
       ]
      }
     },
     "d927becd53d548219761a47bbe3489b3": {
      "model_module": "@jupyter-widgets/base",
      "model_module_version": "2.0.0",
      "model_name": "LayoutModel",
      "state": {}
     },
     "d9d7ec418b5a4761a7b956ec83500ea8": {
      "model_module": "@jupyter-widgets/controls",
      "model_module_version": "2.0.0",
      "model_name": "SliderStyleModel",
      "state": {
       "description_width": ""
      }
     },
     "e10896000fd1499387e79765dacb3eb8": {
      "model_module": "@jupyter-widgets/base",
      "model_module_version": "2.0.0",
      "model_name": "LayoutModel",
      "state": {}
     },
     "f003ee4f4ed449629e85cac95f7b6abc": {
      "model_module": "@jupyter-widgets/base",
      "model_module_version": "2.0.0",
      "model_name": "LayoutModel",
      "state": {}
     }
    },
    "version_major": 2,
    "version_minor": 0
   }
  }
 },
 "nbformat": 4,
 "nbformat_minor": 5
}
