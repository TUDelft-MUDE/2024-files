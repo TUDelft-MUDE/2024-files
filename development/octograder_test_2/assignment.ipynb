{
 "cells": [
  {
   "cell_type": "raw",
   "id": "2e1bc4ab",
   "metadata": {
    "vscode": {
     "languageId": "raw"
    }
   },
   "source": [
    "# ASSIGNMENT CONFIG\n",
    "name: octotest2\n",
    "python_version: 3.11\n",
    "files:\n",
    "  - dummy_data.csv\n",
    "export_cell: false\n"
   ]
  },
  {
   "cell_type": "raw",
   "id": "7a13954d",
   "metadata": {
    "vscode": {
     "languageId": "raw"
    }
   },
   "source": [
    "## Ignore ##\n",
    "print(\"This cell won't appear in the output.\")"
   ]
  },
  {
   "cell_type": "markdown",
   "id": "d14e9d93",
   "metadata": {},
   "source": [
    "# OctoGrader Test 2\n",
    "\n",
    "<h1 style=\"position: absolute; display: flex; flex-grow: 0; flex-shrink: 0; flex-direction: row-reverse; top: 60px;right: 30px; margin: 0; border: 0\">\n",
    "    <style>\n",
    "        .markdown {width:100%; position: relative}\n",
    "        article { position: relative }\n",
    "    </style>\n",
    "    <img src=\"https://gitlab.tudelft.nl/mude/public/-/raw/main/tu-logo/TU_P1_full-color.png\" style=\"width:100px\" />\n",
    "    <img src=\"https://gitlab.tudelft.nl/mude/public/-/raw/main/mude-logo/MUDE_Logo-small.png\" style=\"width:100px\" />\n",
    "</h1>\n",
    "<h2 style=\"height: 10px\">\n",
    "</h2>\n",
    "\n",
    "*[CEGM1000 MUDE](http://mude.citg.tudelft.nl/): Week X.X. Due: Month X, 2024.*"
   ]
  },
  {
   "cell_type": "markdown",
   "id": "49c7419b",
   "metadata": {},
   "source": [
    "This is an instruction. Add some sort of code."
   ]
  },
  {
   "cell_type": "raw",
   "id": "c7b3d91c",
   "metadata": {
    "vscode": {
     "languageId": "raw"
    }
   },
   "source": [
    "# BEGIN QUESTION\n",
    "name: q1\n",
    "manual: false\n",
    "points: 1\n",
    "check_cell: true\n",
    "export: false"
   ]
  },
  {
   "cell_type": "markdown",
   "id": "96374136",
   "metadata": {},
   "source": [
    "<div style=\"background-color:#AABAB2; color: black; vertical-align: middle; padding:15px; margin: 10px; border-radius: 10px; width: 95%\">\n",
    "<p>\n",
    "<b>Task 1:</b>   \n",
    "\n",
    "define a variable <code>oranges</code> that has an integer value of 7.\n",
    "</p>\n",
    "</div>"
   ]
  },
  {
   "cell_type": "raw",
   "id": "21a7ccb3",
   "metadata": {
    "vscode": {
     "languageId": "raw"
    }
   },
   "source": [
    "# BEGIN SOLUTION"
   ]
  },
  {
   "cell_type": "code",
   "execution_count": 1,
   "id": "4e75aa13",
   "metadata": {},
   "outputs": [],
   "source": [
    "oranges = 7"
   ]
  },
  {
   "cell_type": "raw",
   "id": "1d257921",
   "metadata": {
    "vscode": {
     "languageId": "raw"
    }
   },
   "source": [
    "# END SOLUTION"
   ]
  },
  {
   "cell_type": "raw",
   "id": "f45724dd",
   "metadata": {
    "vscode": {
     "languageId": "raw"
    }
   },
   "source": [
    "# BEGIN TESTS"
   ]
  },
  {
   "cell_type": "code",
   "execution_count": 2,
   "id": "fe162006",
   "metadata": {},
   "outputs": [],
   "source": [
    "assert isinstance(oranges, int)"
   ]
  },
  {
   "cell_type": "raw",
   "id": "aaa47060",
   "metadata": {
    "vscode": {
     "languageId": "raw"
    }
   },
   "source": [
    "# END TESTS"
   ]
  },
  {
   "cell_type": "raw",
   "id": "4bb0d699",
   "metadata": {},
   "source": [
    "# END QUESTION"
   ]
  },
  {
   "cell_type": "raw",
   "id": "dfc35bc5",
   "metadata": {
    "vscode": {
     "languageId": "raw"
    }
   },
   "source": [
    "# BEGIN QUESTION\n",
    "name: q2\n",
    "manual: true\n",
    "points: 1\n",
    "export: false"
   ]
  },
  {
   "cell_type": "markdown",
   "id": "d7d172e6",
   "metadata": {},
   "source": [
    "<div style=\"background-color:#AABAB2; color: black; vertical-align: middle; padding:15px; margin: 10px; border-radius: 10px; width: 95%\">\n",
    "<p>\n",
    "<b>Task 2:</b>   \n",
    "\n",
    "Write something in the raw cell below.\n",
    "</p>\n",
    "</div>"
   ]
  },
  {
   "cell_type": "raw",
   "id": "13b7d0b2",
   "metadata": {
    "vscode": {
     "languageId": "raw"
    }
   },
   "source": [
    "# BEGIN PROMPT"
   ]
  },
  {
   "cell_type": "markdown",
   "id": "e2001c6f",
   "metadata": {},
   "source": [
    "This is a promt. Do something."
   ]
  },
  {
   "cell_type": "raw",
   "id": "d8c69a13",
   "metadata": {
    "vscode": {
     "languageId": "raw"
    }
   },
   "source": [
    "# END PROMPT"
   ]
  },
  {
   "cell_type": "raw",
   "id": "9f18973e",
   "metadata": {},
   "source": [
    "# BEGIN SOLUTION"
   ]
  },
  {
   "cell_type": "raw",
   "id": "0c78144a",
   "metadata": {
    "vscode": {
     "languageId": "raw"
    }
   },
   "source": [
    "This is my answer. It is meaningless, but at least it is a raw cell."
   ]
  },
  {
   "cell_type": "raw",
   "id": "d513210c",
   "metadata": {},
   "source": [
    "# END SOLUTION"
   ]
  },
  {
   "cell_type": "raw",
   "id": "4237881d",
   "metadata": {
    "vscode": {
     "languageId": "raw"
    }
   },
   "source": [
    "# END QUESTION"
   ]
  },
  {
   "cell_type": "code",
   "execution_count": 2,
   "id": "8846950b",
   "metadata": {},
   "outputs": [],
   "source": [
    "# YOUR_CODE_HERE"
   ]
  },
  {
   "cell_type": "markdown",
   "id": "2e4617c0",
   "metadata": {},
   "source": [
    "**End of notebook.**\n",
    "<h2 style=\"height: 60px\">\n",
    "</h2>\n",
    "<h3 style=\"position: absolute; display: flex; flex-grow: 0; flex-shrink: 0; flex-direction: row-reverse; bottom: 60px; right: 50px; margin: 0; border: 0\">\n",
    "    <style>\n",
    "        .markdown {width:100%; position: relative}\n",
    "        article { position: relative }\n",
    "    </style>\n",
    "    <a rel=\"license\" href=\"http://creativecommons.org/licenses/by-nc-sa/4.0/\">\n",
    "      <img alt=\"Creative Commons License\" style=\"border-width:; width:88px; height:auto; padding-top:10px\" src=\"https://i.creativecommons.org/l/by-nc-sa/4.0/88x31.png\" />\n",
    "    </a>\n",
    "    <a rel=\"TU Delft\" href=\"https://www.tudelft.nl/en/ceg\">\n",
    "      <img alt=\"TU Delft\" style=\"border-width:0; width:100px; height:auto; padding-bottom:0px\" src=\"https://gitlab.tudelft.nl/mude/public/-/raw/main/tu-logo/TU_P1_full-color.png\" />\n",
    "    </a>\n",
    "    <a rel=\"MUDE\" href=\"http://mude.citg.tudelft.nl/\">\n",
    "      <img alt=\"MUDE\" style=\"border-width:0; width:100px; height:auto; padding-bottom:0px\" src=\"https://gitlab.tudelft.nl/mude/public/-/raw/main/mude-logo/MUDE_Logo-small.png\" />\n",
    "    </a>\n",
    "    \n",
    "</h3>\n",
    "<span style=\"font-size: 75%\">\n",
    "&copy; Copyright 2024 <a rel=\"MUDE\" href=\"http://mude.citg.tudelft.nl/\">MUDE</a> TU Delft. This work is licensed under a <a rel=\"license\" href=\"http://creativecommons.org/licenses/by/4.0/\">CC BY 4.0 License</a>."
   ]
  }
 ],
 "metadata": {
  "kernelspec": {
   "display_name": "Python 3 (ipykernel)",
   "language": "python",
   "name": "python3"
  },
  "language_info": {
   "codemirror_mode": {
    "name": "ipython",
    "version": 3
   },
   "file_extension": ".py",
   "mimetype": "text/x-python",
   "name": "python",
   "nbconvert_exporter": "python",
   "pygments_lexer": "ipython3",
   "version": "3.11.4"
  }
 },
 "nbformat": 4,
 "nbformat_minor": 5
}
